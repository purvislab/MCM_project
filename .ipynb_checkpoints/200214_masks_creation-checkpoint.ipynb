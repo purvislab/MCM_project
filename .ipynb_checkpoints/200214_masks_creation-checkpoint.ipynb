{
 "cells": [
  {
   "cell_type": "code",
   "execution_count": 1,
   "metadata": {},
   "outputs": [],
   "source": [
    "## import libraries\n",
    "import os\n",
    "from os import listdir\n",
    "from os.path import isfile, join\n",
    "\n",
    "import pandas as pd\n",
    "from itertools import islice\n",
    "import numpy as np\n",
    "\n",
    "from skimage.external import tifffile\n",
    "from skimage.external.tifffile import imread\n",
    "\n",
    "import matplotlib.pyplot as plt\n",
    "\n",
    "import ipywidgets as widgets\n",
    "\n",
    "import random\n",
    "\n",
    "\n",
    "from scipy.ndimage.morphology import binary_erosion as br\n",
    "from skimage import morphology as skmor\n",
    "\n",
    "from scipy import ndimage\n",
    "from PIL import Image, ImageDraw\n",
    "\n",
    "import numpy.ma as ma\n",
    "\n",
    "from skimage.measure import label, regionprops"
   ]
  },
  {
   "cell_type": "code",
   "execution_count": 2,
   "metadata": {},
   "outputs": [],
   "source": [
    "bigDir=r'Z:\\CookLab\\Liu\\20190816_organizedData_MCM_loading\\new dataset'"
   ]
  },
  {
   "cell_type": "markdown",
   "metadata": {},
   "source": [
    "# creating nuclear masks\n",
    "run r'Z:\\CookLab\\Liu\\20190816_organizedData_MCM_loading\\jupyter_scripts\\MCM_project\\batchMCMsegm_nucleus.ijm.ijm'"
   ]
  },
  {
   "cell_type": "markdown",
   "metadata": {},
   "source": [
    "# creating erosion inner and outer masks"
   ]
  },
  {
   "cell_type": "code",
   "execution_count": 5,
   "metadata": {},
   "outputs": [],
   "source": [
    "nine_filter=skmor.ball(1)\n",
    "radius=1\n",
    "while (nine_filter.shape[0]<9):\n",
    "    radius+=1\n",
    "    nine_filter=skmor.ball(radius)\n",
    "nine_filter=np.delete(nine_filter, [(0,1,2,6,7,8)], axis=0)"
   ]
  },
  {
   "cell_type": "code",
   "execution_count": 6,
   "metadata": {},
   "outputs": [],
   "source": [
    "def create_erosion_nuc_masks(data):\n",
    "    \n",
    "    ## checking if the data given is new or original dataset\n",
    "    if \"new\" in data:\n",
    "        hp1=1\n",
    "    else:\n",
    "        hp1=0\n",
    "        \n",
    "    # Progress Bar for the function\n",
    "    progBar=widgets.IntProgress(\n",
    "        value=i,\n",
    "        min=0,\n",
    "        max=len(data),\n",
    "        step=1,\n",
    "        description='Progress:',\n",
    "        orientation='horizontal'\n",
    "    )\n",
    "    display(progBar)\n",
    "    \n",
    "    ## creating the structure/filter with 9x9x9 \n",
    "    nine_filter=skmor.ball(1)\n",
    "    radius=1\n",
    "    while (nine_filter.shape[0]<9):\n",
    "        radius+=1\n",
    "        nine_filter=skmor.ball(radius)\n",
    "    ### only using the middle 3 layers of the cube (3x9x9)\n",
    "    nine_filter=np.delete(nine_filter, [(0,1,2,6,7,8)], axis=0)\n",
    "    \n",
    "    ## creating masks for entire cells in the dataset\n",
    "    for i,cell in islice(data.iterrows(),i,None):\n",
    "        percentile = 20\n",
    "\n",
    "        ## open tiff image of a cell\n",
    "        ### if the file is not found in the directory, trying to change the file extension \n",
    "        #### this is because there are some file files that are saved as tiff image \n",
    "        try:\n",
    "            myImage=imread(cell.path) \n",
    "        except:\n",
    "            cell.path=cell.path.replace('.tif','.tiff')\n",
    "            myImage=imread(cell.path)\n",
    "        myChannel = myImage[:, hp1, :, :]\n",
    "        \n",
    "        # open nucleus mask\n",
    "        nucleusMaskPath=cell.path\n",
    "        nucleusMaskPath=nucleusMaskPath.replace('data_tiff','segmentation_nucleus_Otsu')\n",
    "        nucleusMaskPath=nucleusMaskPath.replace('.tif','_nucleus.tif')\n",
    "        try:\n",
    "            nucMask=imread(nucleusMaskPath)\n",
    "        except:\n",
    "            nucleusMaskPath=nucleusMaskPath.replace('.tiff','.tif')\n",
    "            nucMask=imread(nucleusMaskPath)\n",
    "\n",
    "        nucMask[nucMask==255]=1\n",
    "\n",
    "        nucMask=nucMask.astype(bool)\n",
    "\n",
    "\n",
    "        ### erosion\n",
    "        copy_nuc=nucMask.copy()\n",
    "        nin_fiv=br(nucMask, structure=nine_filter, iterations=5)\n",
    "        thr_egt=br(nucMask, structure=thr_filter, iterations=8)\n",
    "\n",
    "        ## masking 9x9 structure \n",
    "        nin_fiv=nin_fiv.astype(bool)\n",
    "        try:\n",
    "            nin_fiv_erode=het[nin_fiv]\n",
    "        except:\n",
    "            myHetMaskPath=myHetMaskPath.replace('.tiff','.tif')\n",
    "            het=imread(myHetMaskPath)\n",
    "            het=het.astype(bool)\n",
    "            nin_fiv_erode=het[nin_fiv]"
   ]
  },
  {
   "cell_type": "code",
   "execution_count": null,
   "metadata": {},
   "outputs": [],
   "source": []
  }
 ],
 "metadata": {
  "kernelspec": {
   "display_name": "Python 3",
   "language": "python",
   "name": "python3"
  },
  "language_info": {
   "codemirror_mode": {
    "name": "ipython",
    "version": 3
   },
   "file_extension": ".py",
   "mimetype": "text/x-python",
   "name": "python",
   "nbconvert_exporter": "python",
   "pygments_lexer": "ipython3",
   "version": "3.7.3"
  }
 },
 "nbformat": 4,
 "nbformat_minor": 2
}
