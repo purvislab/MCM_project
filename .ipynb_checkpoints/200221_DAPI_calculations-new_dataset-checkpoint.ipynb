{
 "cells": [
  {
   "cell_type": "code",
   "execution_count": 1,
   "metadata": {},
   "outputs": [],
   "source": [
    "import os\n",
    "from os import listdir\n",
    "from os.path import isfile, join\n",
    "\n",
    "import pandas as pd\n",
    "from itertools import islice\n",
    "import numpy as np\n",
    "\n",
    "from skimage.external import tifffile\n",
    "from skimage.external.tifffile import imread\n",
    "\n",
    "import matplotlib.pyplot as plt\n",
    "\n",
    "import ipywidgets as widgets\n",
    "\n",
    "import random\n",
    "\n",
    "\n",
    "from scipy.ndimage.morphology import binary_erosion as br\n",
    "from skimage import morphology as skmor\n",
    "\n",
    "from scipy import ndimage\n",
    "from PIL import Image, ImageDraw\n",
    "\n",
    "import numpy.ma as ma\n",
    "\n",
    "from skimage.measure import label, regionprops"
   ]
  },
  {
   "cell_type": "markdown",
   "metadata": {},
   "source": [
    "## to calculate\n",
    "1.\tnucleus_DAPI_total\n",
    "2.\touter_DAPI_total\n",
    "3.\tinner_DAPI_total\n",
    "4.\tnucleus_DAPI_hetChrom\n",
    "5.\touter_DAPI_hetChrom\n",
    "6.\tinner_DAPI_hetChrom\n",
    "7.\tnucleus_DAPI_euChrom\n",
    "8.\touter_DAPI_euChrom\n",
    "9.\tinner_DAPI_euChrom\n",
    "\n"
   ]
  },
  {
   "cell_type": "markdown",
   "metadata": {},
   "source": [
    "# gathering files\n",
    "deleting the columns with the signals to recalculate and collect data"
   ]
  },
  {
   "cell_type": "code",
   "execution_count": 2,
   "metadata": {},
   "outputs": [],
   "source": [
    "bigDir=r'Z:\\CookLab\\Liu\\20190816_organizedData_MCM_loading'"
   ]
  },
  {
   "cell_type": "code",
   "execution_count": 3,
   "metadata": {},
   "outputs": [],
   "source": [
    "newfile=f'{bigDir}\\\\new dataset\\signals_new_v1.csv'"
   ]
  },
  {
   "cell_type": "code",
   "execution_count": 4,
   "metadata": {},
   "outputs": [],
   "source": [
    "newdata=pd.read_csv(newfile)"
   ]
  },
  {
   "cell_type": "code",
   "execution_count": 5,
   "metadata": {},
   "outputs": [],
   "source": [
    "newdata=newdata.drop(columns=['Unnamed: 0'])"
   ]
  },
  {
   "cell_type": "code",
   "execution_count": 6,
   "metadata": {},
   "outputs": [
    {
     "data": {
      "text/html": [
       "<div>\n",
       "<style scoped>\n",
       "    .dataframe tbody tr th:only-of-type {\n",
       "        vertical-align: middle;\n",
       "    }\n",
       "\n",
       "    .dataframe tbody tr th {\n",
       "        vertical-align: top;\n",
       "    }\n",
       "\n",
       "    .dataframe thead th {\n",
       "        text-align: right;\n",
       "    }\n",
       "</style>\n",
       "<table border=\"1\" class=\"dataframe\">\n",
       "  <thead>\n",
       "    <tr style=\"text-align: right;\">\n",
       "      <th></th>\n",
       "      <th>file</th>\n",
       "      <th>original cell name</th>\n",
       "      <th>movie</th>\n",
       "      <th>last frame movie position x</th>\n",
       "      <th>last frame movie position y</th>\n",
       "      <th>ab1 (MCM)</th>\n",
       "      <th>ab1 ch</th>\n",
       "      <th>ab2 (heterochromatin)</th>\n",
       "      <th>ab2 ch</th>\n",
       "      <th>DAPI ch</th>\n",
       "      <th>...</th>\n",
       "      <th>outer_vol_het</th>\n",
       "      <th>nuc_mcm_het</th>\n",
       "      <th>inner_mcm_het</th>\n",
       "      <th>outer_mcm_het</th>\n",
       "      <th>nuc_vol_eu</th>\n",
       "      <th>inner_vol_eu</th>\n",
       "      <th>outer_vol_eu</th>\n",
       "      <th>nuc_mcm_eu</th>\n",
       "      <th>inner_mcm_eu</th>\n",
       "      <th>outer_mcm_eu</th>\n",
       "    </tr>\n",
       "  </thead>\n",
       "  <tbody>\n",
       "    <tr>\n",
       "      <th>0</th>\n",
       "      <td>20191203_cell-00.czi</td>\n",
       "      <td>20191125-01-17</td>\n",
       "      <td>191125pcnat_dhbr_cdc6vxy01</td>\n",
       "      <td>678.301</td>\n",
       "      <td>200.931</td>\n",
       "      <td>MCM3</td>\n",
       "      <td>1</td>\n",
       "      <td>HP1beta</td>\n",
       "      <td>2</td>\n",
       "      <td>3</td>\n",
       "      <td>...</td>\n",
       "      <td>23479.0</td>\n",
       "      <td>790208510.0</td>\n",
       "      <td>467272258.0</td>\n",
       "      <td>322936252.0</td>\n",
       "      <td>210619.0</td>\n",
       "      <td>46905.0</td>\n",
       "      <td>163714.0</td>\n",
       "      <td>2.265887e+09</td>\n",
       "      <td>726723208.0</td>\n",
       "      <td>1.539164e+09</td>\n",
       "    </tr>\n",
       "    <tr>\n",
       "      <th>1</th>\n",
       "      <td>20191203_cell-01.czi</td>\n",
       "      <td>20191125-01-20</td>\n",
       "      <td>191125pcnat_dhbr_cdc6vxy01</td>\n",
       "      <td>1552.152</td>\n",
       "      <td>240.479</td>\n",
       "      <td>MCM3</td>\n",
       "      <td>1</td>\n",
       "      <td>HP1beta</td>\n",
       "      <td>2</td>\n",
       "      <td>3</td>\n",
       "      <td>...</td>\n",
       "      <td>27545.0</td>\n",
       "      <td>322439299.0</td>\n",
       "      <td>195401167.0</td>\n",
       "      <td>127038132.0</td>\n",
       "      <td>268802.0</td>\n",
       "      <td>76121.0</td>\n",
       "      <td>192681.0</td>\n",
       "      <td>1.265473e+09</td>\n",
       "      <td>383366957.0</td>\n",
       "      <td>8.821056e+08</td>\n",
       "    </tr>\n",
       "    <tr>\n",
       "      <th>2</th>\n",
       "      <td>20191203_cell-02.czi</td>\n",
       "      <td>20191125-01-23</td>\n",
       "      <td>191125pcnat_dhbr_cdc6vxy01</td>\n",
       "      <td>1131.436</td>\n",
       "      <td>318.530</td>\n",
       "      <td>MCM3</td>\n",
       "      <td>1</td>\n",
       "      <td>HP1beta</td>\n",
       "      <td>2</td>\n",
       "      <td>3</td>\n",
       "      <td>...</td>\n",
       "      <td>26820.0</td>\n",
       "      <td>317816716.0</td>\n",
       "      <td>199330897.0</td>\n",
       "      <td>118485819.0</td>\n",
       "      <td>264475.0</td>\n",
       "      <td>74585.0</td>\n",
       "      <td>189890.0</td>\n",
       "      <td>1.193524e+09</td>\n",
       "      <td>376574781.0</td>\n",
       "      <td>8.169490e+08</td>\n",
       "    </tr>\n",
       "    <tr>\n",
       "      <th>3</th>\n",
       "      <td>20191203_cell-03.czi</td>\n",
       "      <td>20191125-01-25</td>\n",
       "      <td>191125pcnat_dhbr_cdc6vxy01</td>\n",
       "      <td>1650.585</td>\n",
       "      <td>324.968</td>\n",
       "      <td>MCM3</td>\n",
       "      <td>1</td>\n",
       "      <td>HP1beta</td>\n",
       "      <td>2</td>\n",
       "      <td>3</td>\n",
       "      <td>...</td>\n",
       "      <td>25209.0</td>\n",
       "      <td>410056749.0</td>\n",
       "      <td>187572061.0</td>\n",
       "      <td>222484688.0</td>\n",
       "      <td>179149.0</td>\n",
       "      <td>28511.0</td>\n",
       "      <td>150638.0</td>\n",
       "      <td>1.357483e+09</td>\n",
       "      <td>271394033.0</td>\n",
       "      <td>1.086089e+09</td>\n",
       "    </tr>\n",
       "    <tr>\n",
       "      <th>4</th>\n",
       "      <td>20191203_cell-04.czi</td>\n",
       "      <td>20191125-01-32</td>\n",
       "      <td>191125pcnat_dhbr_cdc6vxy01</td>\n",
       "      <td>1466.687</td>\n",
       "      <td>426.815</td>\n",
       "      <td>MCM3</td>\n",
       "      <td>1</td>\n",
       "      <td>HP1beta</td>\n",
       "      <td>2</td>\n",
       "      <td>3</td>\n",
       "      <td>...</td>\n",
       "      <td>26823.0</td>\n",
       "      <td>760191271.0</td>\n",
       "      <td>469390058.0</td>\n",
       "      <td>290801213.0</td>\n",
       "      <td>253820.0</td>\n",
       "      <td>57341.0</td>\n",
       "      <td>196479.0</td>\n",
       "      <td>2.236647e+09</td>\n",
       "      <td>710565425.0</td>\n",
       "      <td>1.526082e+09</td>\n",
       "    </tr>\n",
       "  </tbody>\n",
       "</table>\n",
       "<p>5 rows × 37 columns</p>\n",
       "</div>"
      ],
      "text/plain": [
       "                   file original cell name                       movie  \\\n",
       "0  20191203_cell-00.czi     20191125-01-17  191125pcnat_dhbr_cdc6vxy01   \n",
       "1  20191203_cell-01.czi     20191125-01-20  191125pcnat_dhbr_cdc6vxy01   \n",
       "2  20191203_cell-02.czi     20191125-01-23  191125pcnat_dhbr_cdc6vxy01   \n",
       "3  20191203_cell-03.czi     20191125-01-25  191125pcnat_dhbr_cdc6vxy01   \n",
       "4  20191203_cell-04.czi     20191125-01-32  191125pcnat_dhbr_cdc6vxy01   \n",
       "\n",
       "   last frame movie position x  last frame movie position y ab1 (MCM)  ab1 ch  \\\n",
       "0                      678.301                      200.931      MCM3       1   \n",
       "1                     1552.152                      240.479      MCM3       1   \n",
       "2                     1131.436                      318.530      MCM3       1   \n",
       "3                     1650.585                      324.968      MCM3       1   \n",
       "4                     1466.687                      426.815      MCM3       1   \n",
       "\n",
       "  ab2 (heterochromatin)  ab2 ch  DAPI ch  ...  outer_vol_het  nuc_mcm_het  \\\n",
       "0               HP1beta       2        3  ...        23479.0  790208510.0   \n",
       "1               HP1beta       2        3  ...        27545.0  322439299.0   \n",
       "2               HP1beta       2        3  ...        26820.0  317816716.0   \n",
       "3               HP1beta       2        3  ...        25209.0  410056749.0   \n",
       "4               HP1beta       2        3  ...        26823.0  760191271.0   \n",
       "\n",
       "   inner_mcm_het  outer_mcm_het nuc_vol_eu  inner_vol_eu outer_vol_eu  \\\n",
       "0    467272258.0    322936252.0   210619.0       46905.0     163714.0   \n",
       "1    195401167.0    127038132.0   268802.0       76121.0     192681.0   \n",
       "2    199330897.0    118485819.0   264475.0       74585.0     189890.0   \n",
       "3    187572061.0    222484688.0   179149.0       28511.0     150638.0   \n",
       "4    469390058.0    290801213.0   253820.0       57341.0     196479.0   \n",
       "\n",
       "     nuc_mcm_eu inner_mcm_eu  outer_mcm_eu  \n",
       "0  2.265887e+09  726723208.0  1.539164e+09  \n",
       "1  1.265473e+09  383366957.0  8.821056e+08  \n",
       "2  1.193524e+09  376574781.0  8.169490e+08  \n",
       "3  1.357483e+09  271394033.0  1.086089e+09  \n",
       "4  2.236647e+09  710565425.0  1.526082e+09  \n",
       "\n",
       "[5 rows x 37 columns]"
      ]
     },
     "execution_count": 6,
     "metadata": {},
     "output_type": "execute_result"
    }
   ],
   "source": [
    "newdata.head()"
   ]
  },
  {
   "cell_type": "markdown",
   "metadata": {},
   "source": [
    "# DAPI calculations"
   ]
  },
  {
   "cell_type": "code",
   "execution_count": 7,
   "metadata": {},
   "outputs": [],
   "source": [
    "def calculate_DAPI_signals (data):\n",
    "    # progress bar\n",
    "    i=0\n",
    "    progBar=widgets.IntProgress(\n",
    "        value=i,\n",
    "        min=0,\n",
    "        max=len(data),\n",
    "        step=1,\n",
    "        description='Progress:',\n",
    "        orientation='horizontal'\n",
    "    )\n",
    "    display(progBar)\n",
    "    \n",
    "    for i,myCell in islice(data.iterrows(), i,None):\n",
    "        ## opening cell image\n",
    "        try:\n",
    "            myImage=imread(myCell.path) \n",
    "        except:\n",
    "            myCell.path=myCell.path.replace('.tif','.tiff')\n",
    "            myImage=imread(myCell.path)\n",
    "        \n",
    "        ## channel for DAPI calculations is 2 for both datasets\n",
    "        myChannel=myImage[:,2,:,:]\n",
    "\n",
    "        ## setting arrays for names \n",
    "        \n",
    "        ### for column names\n",
    "        pixels=['total','het','eu']\n",
    "        components=['nuc','inner','outer']\n",
    "        \n",
    "        ### for masks names\n",
    "        dirs=['segmentation_nucleus_Otsu','erosion_nuc_mask','erosion_nuc_mask',\n",
    "              'segmentation_20','segmentation_20_erosion','segmentation_20_erosion',\n",
    "             'segmentation_20_eu','segmentation_20_eu_erosion','segmentation_20_eu_erosion',]\n",
    "\n",
    "        files=['_nucleus.tif','_eroded_9^5_inner_mask_20.tif','_eroded_9^5_outer_mask_20.tif',\n",
    "                   '_hetChrom.tif', '_hetChrom_inner.tif', '_hetChrom_outer.tif',\n",
    "                   '_euChrom.tif', '_euChrom_inner.tif','_euChrom_outer.tif']\n",
    "\n",
    "        df=pd.DataFrame(columns=['nuc_vol_total','inner_vol_total','outer_vol_total',\n",
    "                                 'nuc_mcm_total','inner_mcm_total','outer_mcm_total',\n",
    "                                'nuc_vol_het','inner_vol_het','outer_vol_het',\n",
    "                                 'nuc_mcm_het','inner_mcm_het','outer_mcm_het',\n",
    "                                 'nuc_vol_eu','inner_vol_eu','outer_vol_eu',\n",
    "                                'nuc_mcm_eu','inner_mcm_eu', 'outer_mcm_eu'])\n",
    "\n",
    "        ## calculating signals\n",
    "        for k in range(len(pixels)):\n",
    "            for j in range(len(components)):\n",
    "                ## copying image every time new signal is calculated\n",
    "                myIm=myImage.copy()\n",
    "                myChannel=myIm[:,2,:,:]\n",
    "                \n",
    "                ## column name set up based on the component and the pixels\n",
    "                currColName=f'{components[j]}_DAPI_{pixels[k]}'\n",
    "\n",
    "                ## opening mask images\n",
    "                ### the indexing is in such way so that the image opened matches up with the name being used for calculation\n",
    "                direc=myCell.path.replace('data_tiff',dirs[(j)+(k*3)])\n",
    "                try:\n",
    "                    direc=direc.replace('.tif',files[(k*3)+(j)])\n",
    "                    mask=imread(direc)  \n",
    "                except:\n",
    "                    direc=direc.replace('_nucleus.tiff',files[(k*3)+(j)])\n",
    "                    mask=imread(direc)\n",
    "\n",
    "                ## making the mask as binary\n",
    "                mask=mask.astype(bool)\n",
    "                \n",
    "                ## masking the image with the mask\n",
    "                myChannel[~mask]=0\n",
    "                \n",
    "                ## calculating signals\n",
    "                df[f'{currColName}']=myChannel.sum(-1).sum(-1)\n",
    "        \n",
    "        ## saving signals into original/big dataframe\n",
    "        for myMeasurement in df.columns:\n",
    "            myString=f\"data.loc[i,'{myMeasurement}']=np.sum(df.{myMeasurement})\"\n",
    "            exec(myString)\n",
    "        \n",
    "        \n",
    "        \n",
    "        progBar.value=progBar.value+1"
   ]
  },
  {
   "cell_type": "code",
   "execution_count": 8,
   "metadata": {},
   "outputs": [
    {
     "data": {
      "application/vnd.jupyter.widget-view+json": {
       "model_id": "2ce9a7f876ea45db9405f90a61050a07",
       "version_major": 2,
       "version_minor": 0
      },
      "text/plain": [
       "IntProgress(value=0, description='Progress:', max=324)"
      ]
     },
     "metadata": {},
     "output_type": "display_data"
    }
   ],
   "source": [
    "## calculating signals for new dataset\n",
    "calculate_DAPI_signals(newdata)"
   ]
  },
  {
   "cell_type": "code",
   "execution_count": 9,
   "metadata": {},
   "outputs": [
    {
     "data": {
      "text/plain": [
       "0.9999999985787311"
      ]
     },
     "execution_count": 9,
     "metadata": {},
     "output_type": "execute_result"
    }
   ],
   "source": [
    "## checking if signal calculations resulted in the way we have expected\n",
    "(np.sum(newdata['inner_DAPI_total'])+np.sum(newdata['outer_DAPI_total']))/np.sum(newdata['nuc_DAPI_total'])"
   ]
  },
  {
   "cell_type": "code",
   "execution_count": 10,
   "metadata": {},
   "outputs": [
    {
     "name": "stdout",
     "output_type": "stream",
     "text": [
      "1.0000000021541515 0.9999999983596558\n"
     ]
    }
   ],
   "source": [
    "## checking if signal calculations resulted in the way we have expected\n",
    "print((np.sum(newdata['inner_DAPI_het'])+np.sum(newdata['outer_DAPI_het']))/np.sum(newdata['nuc_DAPI_het']),\n",
    "(np.sum(newdata['inner_DAPI_eu'])+np.sum(newdata['outer_DAPI_eu']))/np.sum(newdata['nuc_DAPI_eu']))"
   ]
  },
  {
   "cell_type": "code",
   "execution_count": 11,
   "metadata": {},
   "outputs": [],
   "source": [
    "## saving the dataset to csv file\n",
    "newdata.to_csv(newfile.replace('v1','v2'))"
   ]
  },
  {
   "cell_type": "markdown",
   "metadata": {},
   "source": [
    "the data/signal calculations that were done in this file will be retreived in the other file - '200221_DAPI_calculations'"
   ]
  }
 ],
 "metadata": {
  "kernelspec": {
   "display_name": "Python 3",
   "language": "python",
   "name": "python3"
  },
  "language_info": {
   "codemirror_mode": {
    "name": "ipython",
    "version": 3
   },
   "file_extension": ".py",
   "mimetype": "text/x-python",
   "name": "python",
   "nbconvert_exporter": "python",
   "pygments_lexer": "ipython3",
   "version": "3.7.3"
  }
 },
 "nbformat": 4,
 "nbformat_minor": 2
}
