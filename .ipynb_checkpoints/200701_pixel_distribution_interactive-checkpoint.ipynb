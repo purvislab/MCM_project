{
 "cells": [
  {
   "cell_type": "code",
   "execution_count": 39,
   "metadata": {},
   "outputs": [],
   "source": [
    "import os\n",
    "from os import listdir\n",
    "from os.path import isfile, join\n",
    "import pandas as pd\n",
    "from itertools import islice\n",
    "import numpy as np\n",
    "from skimage.external import tifffile\n",
    "from skimage.external.tifffile import imread\n",
    "import matplotlib.pyplot as plt\n",
    "import ipywidgets as widgets\n",
    "import random\n",
    "from scipy.ndimage.morphology import binary_erosion as br\n",
    "from skimage import morphology as skmor\n",
    "from scipy import ndimage\n",
    "from PIL import Image, ImageDraw\n",
    "import numpy.ma as ma\n",
    "from skimage.measure import label, regionprops\n",
    "\n",
    "from sklearn.cluster import KMeans\n",
    "import plotly.express as px\n",
    "import seaborn as sns"
   ]
  },
  {
   "cell_type": "markdown",
   "metadata": {},
   "source": [
    "# Pixel Distribution for HP1 signals\n",
    "\n",
    "This script is to see the 'pixel distribution' of the images randomly selected from two experiments, which differ in which staining they have used. 10 samples will be chosen from each HP1 and HP1Beta groups, and each images and its HP1 (or HP1Beta) signals and DAPI signals will be assessed to find a difference between the HP1 stainings. \n",
    "<br>"
   ]
  },
  {
   "cell_type": "markdown",
   "metadata": {},
   "source": [
    "# Contents\n",
    "* [Data Loading](#data)\n",
    "* [Sampling](#samples)\n",
    "* [Data Analysis](#EDA)\n",
    "    1. [first image](#1st)\n",
    "    2. [second image](#2nd)\n",
    "    3. [third image](#3rd)\n",
    "* [Compare mean and max values](#meanMax)"
   ]
  },
  {
   "cell_type": "markdown",
   "metadata": {},
   "source": [
    "## Pixel Distribution of HP1 (HP1B) and DAPI signal <a name=\"data\"></a>\n",
    "- Select random 10 cells from the chosen dataset\n",
    "- calculate HP1 (HP1B) signal and DAPI signal for each pixel of the image\n",
    "- plot HP1 signal vs DAPI signal for each cell \n",
    "- look for any pattern noticed - ex) normal linear relationship, grouping in the plots, etc"
   ]
  },
  {
   "cell_type": "code",
   "execution_count": 2,
   "metadata": {},
   "outputs": [],
   "source": [
    "bigDir=r'Z:\\CookLab\\Liu\\20190816_organizedData_MCM_loading'"
   ]
  },
  {
   "cell_type": "code",
   "execution_count": 3,
   "metadata": {},
   "outputs": [],
   "source": [
    "newfile=f'{bigDir}\\\\new dataset\\signals_new_v5.csv'"
   ]
  },
  {
   "cell_type": "code",
   "execution_count": 4,
   "metadata": {},
   "outputs": [],
   "source": [
    "newdata=pd.read_csv(newfile)"
   ]
  },
  {
   "cell_type": "code",
   "execution_count": 5,
   "metadata": {},
   "outputs": [],
   "source": [
    "newdata=newdata.drop(columns=['Unnamed: 0', 'Unnamed: 0.1'])"
   ]
  },
  {
   "cell_type": "code",
   "execution_count": 6,
   "metadata": {},
   "outputs": [
    {
     "data": {
      "text/html": [
       "<div>\n",
       "<style scoped>\n",
       "    .dataframe tbody tr th:only-of-type {\n",
       "        vertical-align: middle;\n",
       "    }\n",
       "\n",
       "    .dataframe tbody tr th {\n",
       "        vertical-align: top;\n",
       "    }\n",
       "\n",
       "    .dataframe thead th {\n",
       "        text-align: right;\n",
       "    }\n",
       "</style>\n",
       "<table border=\"1\" class=\"dataframe\">\n",
       "  <thead>\n",
       "    <tr style=\"text-align: right;\">\n",
       "      <th></th>\n",
       "      <th>file</th>\n",
       "      <th>original cell name</th>\n",
       "      <th>movie</th>\n",
       "      <th>last frame movie position x</th>\n",
       "      <th>last frame movie position y</th>\n",
       "      <th>ab1 (MCM)</th>\n",
       "      <th>ab1 ch</th>\n",
       "      <th>ab2 (heterochromatin)</th>\n",
       "      <th>ab2 ch</th>\n",
       "      <th>DAPI ch</th>\n",
       "      <th>...</th>\n",
       "      <th>mol_age_mod</th>\n",
       "      <th>nuc_hp1b_total</th>\n",
       "      <th>inner_hp1b_total</th>\n",
       "      <th>outer_hp1b_total</th>\n",
       "      <th>nuc_hp1b_het</th>\n",
       "      <th>inner_hp1b_het</th>\n",
       "      <th>outer_hp1b_het</th>\n",
       "      <th>nuc_hp1b_eu</th>\n",
       "      <th>inner_hp1b_eu</th>\n",
       "      <th>outer_hp1b_eu</th>\n",
       "    </tr>\n",
       "  </thead>\n",
       "  <tbody>\n",
       "    <tr>\n",
       "      <th>0</th>\n",
       "      <td>20191203_cell-00.czi</td>\n",
       "      <td>20191125-01-17</td>\n",
       "      <td>191125pcnat_dhbr_cdc6vxy01</td>\n",
       "      <td>678.301</td>\n",
       "      <td>200.931</td>\n",
       "      <td>MCM3</td>\n",
       "      <td>1</td>\n",
       "      <td>HP1beta</td>\n",
       "      <td>2</td>\n",
       "      <td>3</td>\n",
       "      <td>...</td>\n",
       "      <td>0.444</td>\n",
       "      <td>1.415176e+09</td>\n",
       "      <td>425500564.0</td>\n",
       "      <td>9.896759e+08</td>\n",
       "      <td>550518042.0</td>\n",
       "      <td>321679433.0</td>\n",
       "      <td>228838609.0</td>\n",
       "      <td>8.646584e+08</td>\n",
       "      <td>103821131.0</td>\n",
       "      <td>7.608373e+08</td>\n",
       "    </tr>\n",
       "    <tr>\n",
       "      <th>1</th>\n",
       "      <td>20191203_cell-01.czi</td>\n",
       "      <td>20191125-01-20</td>\n",
       "      <td>191125pcnat_dhbr_cdc6vxy01</td>\n",
       "      <td>1552.152</td>\n",
       "      <td>240.479</td>\n",
       "      <td>MCM3</td>\n",
       "      <td>1</td>\n",
       "      <td>HP1beta</td>\n",
       "      <td>2</td>\n",
       "      <td>3</td>\n",
       "      <td>...</td>\n",
       "      <td>1.373</td>\n",
       "      <td>2.175016e+09</td>\n",
       "      <td>804184935.0</td>\n",
       "      <td>1.370831e+09</td>\n",
       "      <td>896267478.0</td>\n",
       "      <td>567124747.0</td>\n",
       "      <td>329142731.0</td>\n",
       "      <td>1.278748e+09</td>\n",
       "      <td>237060188.0</td>\n",
       "      <td>1.041688e+09</td>\n",
       "    </tr>\n",
       "    <tr>\n",
       "      <th>2</th>\n",
       "      <td>20191203_cell-02.czi</td>\n",
       "      <td>20191125-01-23</td>\n",
       "      <td>191125pcnat_dhbr_cdc6vxy01</td>\n",
       "      <td>1131.436</td>\n",
       "      <td>318.530</td>\n",
       "      <td>MCM3</td>\n",
       "      <td>1</td>\n",
       "      <td>HP1beta</td>\n",
       "      <td>2</td>\n",
       "      <td>3</td>\n",
       "      <td>...</td>\n",
       "      <td>1.371</td>\n",
       "      <td>1.933001e+09</td>\n",
       "      <td>666820604.0</td>\n",
       "      <td>1.266180e+09</td>\n",
       "      <td>732487366.0</td>\n",
       "      <td>444813519.0</td>\n",
       "      <td>287673847.0</td>\n",
       "      <td>1.200514e+09</td>\n",
       "      <td>222007085.0</td>\n",
       "      <td>9.785064e+08</td>\n",
       "    </tr>\n",
       "    <tr>\n",
       "      <th>3</th>\n",
       "      <td>20191203_cell-03.czi</td>\n",
       "      <td>20191125-01-25</td>\n",
       "      <td>191125pcnat_dhbr_cdc6vxy01</td>\n",
       "      <td>1650.585</td>\n",
       "      <td>324.968</td>\n",
       "      <td>MCM3</td>\n",
       "      <td>1</td>\n",
       "      <td>HP1beta</td>\n",
       "      <td>2</td>\n",
       "      <td>3</td>\n",
       "      <td>...</td>\n",
       "      <td>0.208</td>\n",
       "      <td>1.062142e+09</td>\n",
       "      <td>233589820.0</td>\n",
       "      <td>8.285525e+08</td>\n",
       "      <td>403943621.0</td>\n",
       "      <td>187675893.0</td>\n",
       "      <td>216267728.0</td>\n",
       "      <td>6.581987e+08</td>\n",
       "      <td>45913927.0</td>\n",
       "      <td>6.122848e+08</td>\n",
       "    </tr>\n",
       "    <tr>\n",
       "      <th>4</th>\n",
       "      <td>20191203_cell-04.czi</td>\n",
       "      <td>20191125-01-32</td>\n",
       "      <td>191125pcnat_dhbr_cdc6vxy01</td>\n",
       "      <td>1466.687</td>\n",
       "      <td>426.815</td>\n",
       "      <td>MCM3</td>\n",
       "      <td>1</td>\n",
       "      <td>HP1beta</td>\n",
       "      <td>2</td>\n",
       "      <td>3</td>\n",
       "      <td>...</td>\n",
       "      <td>0.345</td>\n",
       "      <td>1.717888e+09</td>\n",
       "      <td>546330833.0</td>\n",
       "      <td>1.171557e+09</td>\n",
       "      <td>697150763.0</td>\n",
       "      <td>424718652.0</td>\n",
       "      <td>272432111.0</td>\n",
       "      <td>1.020738e+09</td>\n",
       "      <td>121612181.0</td>\n",
       "      <td>8.991254e+08</td>\n",
       "    </tr>\n",
       "  </tbody>\n",
       "</table>\n",
       "<p>5 rows × 59 columns</p>\n",
       "</div>"
      ],
      "text/plain": [
       "                   file original cell name                       movie  \\\n",
       "0  20191203_cell-00.czi     20191125-01-17  191125pcnat_dhbr_cdc6vxy01   \n",
       "1  20191203_cell-01.czi     20191125-01-20  191125pcnat_dhbr_cdc6vxy01   \n",
       "2  20191203_cell-02.czi     20191125-01-23  191125pcnat_dhbr_cdc6vxy01   \n",
       "3  20191203_cell-03.czi     20191125-01-25  191125pcnat_dhbr_cdc6vxy01   \n",
       "4  20191203_cell-04.czi     20191125-01-32  191125pcnat_dhbr_cdc6vxy01   \n",
       "\n",
       "   last frame movie position x  last frame movie position y ab1 (MCM)  ab1 ch  \\\n",
       "0                      678.301                      200.931      MCM3       1   \n",
       "1                     1552.152                      240.479      MCM3       1   \n",
       "2                     1131.436                      318.530      MCM3       1   \n",
       "3                     1650.585                      324.968      MCM3       1   \n",
       "4                     1466.687                      426.815      MCM3       1   \n",
       "\n",
       "  ab2 (heterochromatin)  ab2 ch  DAPI ch  ...  mol_age_mod nuc_hp1b_total  \\\n",
       "0               HP1beta       2        3  ...        0.444   1.415176e+09   \n",
       "1               HP1beta       2        3  ...        1.373   2.175016e+09   \n",
       "2               HP1beta       2        3  ...        1.371   1.933001e+09   \n",
       "3               HP1beta       2        3  ...        0.208   1.062142e+09   \n",
       "4               HP1beta       2        3  ...        0.345   1.717888e+09   \n",
       "\n",
       "   inner_hp1b_total  outer_hp1b_total nuc_hp1b_het  inner_hp1b_het  \\\n",
       "0       425500564.0      9.896759e+08  550518042.0     321679433.0   \n",
       "1       804184935.0      1.370831e+09  896267478.0     567124747.0   \n",
       "2       666820604.0      1.266180e+09  732487366.0     444813519.0   \n",
       "3       233589820.0      8.285525e+08  403943621.0     187675893.0   \n",
       "4       546330833.0      1.171557e+09  697150763.0     424718652.0   \n",
       "\n",
       "  outer_hp1b_het   nuc_hp1b_eu inner_hp1b_eu  outer_hp1b_eu  \n",
       "0    228838609.0  8.646584e+08   103821131.0   7.608373e+08  \n",
       "1    329142731.0  1.278748e+09   237060188.0   1.041688e+09  \n",
       "2    287673847.0  1.200514e+09   222007085.0   9.785064e+08  \n",
       "3    216267728.0  6.581987e+08    45913927.0   6.122848e+08  \n",
       "4    272432111.0  1.020738e+09   121612181.0   8.991254e+08  \n",
       "\n",
       "[5 rows x 59 columns]"
      ]
     },
     "execution_count": 6,
     "metadata": {},
     "output_type": "execute_result"
    }
   ],
   "source": [
    "newdata.head()"
   ]
  },
  {
   "cell_type": "code",
   "execution_count": 47,
   "metadata": {},
   "outputs": [],
   "source": [
    "file=f'{bigDir}\\\\20200217_geminin\\\\200217_cellinfo_v8.csv'"
   ]
  },
  {
   "cell_type": "code",
   "execution_count": 48,
   "metadata": {},
   "outputs": [],
   "source": [
    "geminin=pd.read_csv(file)"
   ]
  },
  {
   "cell_type": "code",
   "execution_count": 49,
   "metadata": {},
   "outputs": [],
   "source": [
    "geminin=geminin.drop(columns=['Unnamed: 0', 'Unnamed: 0.1'])"
   ]
  },
  {
   "cell_type": "code",
   "execution_count": 50,
   "metadata": {},
   "outputs": [
    {
     "data": {
      "text/html": [
       "<div>\n",
       "<style scoped>\n",
       "    .dataframe tbody tr th:only-of-type {\n",
       "        vertical-align: middle;\n",
       "    }\n",
       "\n",
       "    .dataframe tbody tr th {\n",
       "        vertical-align: top;\n",
       "    }\n",
       "\n",
       "    .dataframe thead th {\n",
       "        text-align: right;\n",
       "    }\n",
       "</style>\n",
       "<table border=\"1\" class=\"dataframe\">\n",
       "  <thead>\n",
       "    <tr style=\"text-align: right;\">\n",
       "      <th></th>\n",
       "      <th>Unnamed: 0.1.1</th>\n",
       "      <th>file</th>\n",
       "      <th>original cell name</th>\n",
       "      <th>movie</th>\n",
       "      <th>x</th>\n",
       "      <th>y</th>\n",
       "      <th>ab1 (MCM)</th>\n",
       "      <th>ab1 ch</th>\n",
       "      <th>ab2 (heterochromatin)</th>\n",
       "      <th>ab2 ch</th>\n",
       "      <th>...</th>\n",
       "      <th>mol_age_mod</th>\n",
       "      <th>nuc_hp1b_total</th>\n",
       "      <th>inner_hp1b_total</th>\n",
       "      <th>outer_hp1b_total</th>\n",
       "      <th>nuc_hp1b_het</th>\n",
       "      <th>inner_hp1b_het</th>\n",
       "      <th>outer_hp1b_het</th>\n",
       "      <th>nuc_hp1b_eu</th>\n",
       "      <th>inner_hp1b_eu</th>\n",
       "      <th>outer_hp1b_eu</th>\n",
       "    </tr>\n",
       "  </thead>\n",
       "  <tbody>\n",
       "    <tr>\n",
       "      <th>0</th>\n",
       "      <td>0</td>\n",
       "      <td>20200217_cell_00.ciz</td>\n",
       "      <td>2020024-19-21-63X.czi</td>\n",
       "      <td>20200217pinducer gemininxy19</td>\n",
       "      <td>1312.741</td>\n",
       "      <td>235.893</td>\n",
       "      <td>MCM3</td>\n",
       "      <td>1</td>\n",
       "      <td>HP1</td>\n",
       "      <td>2</td>\n",
       "      <td>...</td>\n",
       "      <td>0.948</td>\n",
       "      <td>2.693842e+09</td>\n",
       "      <td>9.314778e+08</td>\n",
       "      <td>1.762364e+09</td>\n",
       "      <td>1.339535e+09</td>\n",
       "      <td>8.299883e+08</td>\n",
       "      <td>509546448.0</td>\n",
       "      <td>1.354307e+09</td>\n",
       "      <td>101489496.0</td>\n",
       "      <td>1.252817e+09</td>\n",
       "    </tr>\n",
       "    <tr>\n",
       "      <th>1</th>\n",
       "      <td>1</td>\n",
       "      <td>20200217_cell_01.ciz</td>\n",
       "      <td>2020024-19-27-63X.czi</td>\n",
       "      <td>20200217pinducer gemininxy19</td>\n",
       "      <td>1323.444</td>\n",
       "      <td>397.761</td>\n",
       "      <td>MCM3</td>\n",
       "      <td>1</td>\n",
       "      <td>HP1</td>\n",
       "      <td>2</td>\n",
       "      <td>...</td>\n",
       "      <td>0.465</td>\n",
       "      <td>2.172380e+09</td>\n",
       "      <td>8.241901e+08</td>\n",
       "      <td>1.348189e+09</td>\n",
       "      <td>9.915096e+08</td>\n",
       "      <td>6.602304e+08</td>\n",
       "      <td>331279227.0</td>\n",
       "      <td>1.180870e+09</td>\n",
       "      <td>163959707.0</td>\n",
       "      <td>1.016910e+09</td>\n",
       "    </tr>\n",
       "    <tr>\n",
       "      <th>2</th>\n",
       "      <td>2</td>\n",
       "      <td>20200217_cell_02.ciz</td>\n",
       "      <td>2020024-19-39-63X.czi</td>\n",
       "      <td>20200217pinducer gemininxy19</td>\n",
       "      <td>1772.297</td>\n",
       "      <td>584.995</td>\n",
       "      <td>MCM3</td>\n",
       "      <td>1</td>\n",
       "      <td>HP1</td>\n",
       "      <td>2</td>\n",
       "      <td>...</td>\n",
       "      <td>2.001</td>\n",
       "      <td>3.263571e+09</td>\n",
       "      <td>1.319735e+09</td>\n",
       "      <td>1.943836e+09</td>\n",
       "      <td>1.458153e+09</td>\n",
       "      <td>1.100649e+09</td>\n",
       "      <td>357504422.0</td>\n",
       "      <td>1.805418e+09</td>\n",
       "      <td>219086613.0</td>\n",
       "      <td>1.586331e+09</td>\n",
       "    </tr>\n",
       "    <tr>\n",
       "      <th>3</th>\n",
       "      <td>3</td>\n",
       "      <td>20200217_cell_03.ciz</td>\n",
       "      <td>2020024-19-49-63X.czi</td>\n",
       "      <td>20200217pinducer gemininxy19</td>\n",
       "      <td>163.044</td>\n",
       "      <td>727.256</td>\n",
       "      <td>MCM3</td>\n",
       "      <td>1</td>\n",
       "      <td>HP1</td>\n",
       "      <td>2</td>\n",
       "      <td>...</td>\n",
       "      <td>1.063</td>\n",
       "      <td>2.334174e+09</td>\n",
       "      <td>9.963424e+08</td>\n",
       "      <td>1.337832e+09</td>\n",
       "      <td>1.103680e+09</td>\n",
       "      <td>8.515261e+08</td>\n",
       "      <td>252154253.0</td>\n",
       "      <td>1.230494e+09</td>\n",
       "      <td>144816240.0</td>\n",
       "      <td>1.085678e+09</td>\n",
       "    </tr>\n",
       "    <tr>\n",
       "      <th>4</th>\n",
       "      <td>4</td>\n",
       "      <td>20200217_cell_04.ciz</td>\n",
       "      <td>2020024-19-51-63X.czi</td>\n",
       "      <td>20200217pinducer gemininxy19</td>\n",
       "      <td>1791.955</td>\n",
       "      <td>755.367</td>\n",
       "      <td>MCM3</td>\n",
       "      <td>1</td>\n",
       "      <td>HP1</td>\n",
       "      <td>2</td>\n",
       "      <td>...</td>\n",
       "      <td>0.579</td>\n",
       "      <td>2.112534e+09</td>\n",
       "      <td>6.756199e+08</td>\n",
       "      <td>1.436915e+09</td>\n",
       "      <td>9.837290e+08</td>\n",
       "      <td>5.828320e+08</td>\n",
       "      <td>400897040.0</td>\n",
       "      <td>1.128805e+09</td>\n",
       "      <td>92787952.0</td>\n",
       "      <td>1.036018e+09</td>\n",
       "    </tr>\n",
       "  </tbody>\n",
       "</table>\n",
       "<p>5 rows × 59 columns</p>\n",
       "</div>"
      ],
      "text/plain": [
       "   Unnamed: 0.1.1                  file     original cell name  \\\n",
       "0               0  20200217_cell_00.ciz  2020024-19-21-63X.czi   \n",
       "1               1  20200217_cell_01.ciz  2020024-19-27-63X.czi   \n",
       "2               2  20200217_cell_02.ciz  2020024-19-39-63X.czi   \n",
       "3               3  20200217_cell_03.ciz  2020024-19-49-63X.czi   \n",
       "4               4  20200217_cell_04.ciz  2020024-19-51-63X.czi   \n",
       "\n",
       "                          movie         x        y ab1 (MCM)  ab1 ch  \\\n",
       "0  20200217pinducer gemininxy19  1312.741  235.893      MCM3       1   \n",
       "1  20200217pinducer gemininxy19  1323.444  397.761      MCM3       1   \n",
       "2  20200217pinducer gemininxy19  1772.297  584.995      MCM3       1   \n",
       "3  20200217pinducer gemininxy19   163.044  727.256      MCM3       1   \n",
       "4  20200217pinducer gemininxy19  1791.955  755.367      MCM3       1   \n",
       "\n",
       "  ab2 (heterochromatin)  ab2 ch  ...  mol_age_mod  nuc_hp1b_total  \\\n",
       "0                   HP1       2  ...        0.948    2.693842e+09   \n",
       "1                   HP1       2  ...        0.465    2.172380e+09   \n",
       "2                   HP1       2  ...        2.001    3.263571e+09   \n",
       "3                   HP1       2  ...        1.063    2.334174e+09   \n",
       "4                   HP1       2  ...        0.579    2.112534e+09   \n",
       "\n",
       "  inner_hp1b_total outer_hp1b_total  nuc_hp1b_het  inner_hp1b_het  \\\n",
       "0     9.314778e+08     1.762364e+09  1.339535e+09    8.299883e+08   \n",
       "1     8.241901e+08     1.348189e+09  9.915096e+08    6.602304e+08   \n",
       "2     1.319735e+09     1.943836e+09  1.458153e+09    1.100649e+09   \n",
       "3     9.963424e+08     1.337832e+09  1.103680e+09    8.515261e+08   \n",
       "4     6.756199e+08     1.436915e+09  9.837290e+08    5.828320e+08   \n",
       "\n",
       "  outer_hp1b_het   nuc_hp1b_eu inner_hp1b_eu outer_hp1b_eu  \n",
       "0    509546448.0  1.354307e+09   101489496.0  1.252817e+09  \n",
       "1    331279227.0  1.180870e+09   163959707.0  1.016910e+09  \n",
       "2    357504422.0  1.805418e+09   219086613.0  1.586331e+09  \n",
       "3    252154253.0  1.230494e+09   144816240.0  1.085678e+09  \n",
       "4    400897040.0  1.128805e+09    92787952.0  1.036018e+09  \n",
       "\n",
       "[5 rows x 59 columns]"
      ]
     },
     "execution_count": 50,
     "metadata": {},
     "output_type": "execute_result"
    }
   ],
   "source": [
    "geminin.head()"
   ]
  },
  {
   "cell_type": "markdown",
   "metadata": {},
   "source": [
    "## Sampling  <a name=\"samples\"></a>\n",
    "\n",
    "sample = 10 samples from newdata; this data used ***HP1Beta***<br>\n",
    "sample_geminin = 10 samples from geminin dataset; this data used ***HP1***"
   ]
  },
  {
   "cell_type": "code",
   "execution_count": 51,
   "metadata": {},
   "outputs": [],
   "source": [
    "sample=newdata.loc[(newdata.decon==False),:]"
   ]
  },
  {
   "cell_type": "code",
   "execution_count": 52,
   "metadata": {},
   "outputs": [],
   "source": [
    "sample=sample.loc[(['G1' in x for x in sample.category]), :].sample(n=10, random_state=107)"
   ]
  },
  {
   "cell_type": "code",
   "execution_count": 53,
   "metadata": {},
   "outputs": [
    {
     "data": {
      "text/html": [
       "<div>\n",
       "<style scoped>\n",
       "    .dataframe tbody tr th:only-of-type {\n",
       "        vertical-align: middle;\n",
       "    }\n",
       "\n",
       "    .dataframe tbody tr th {\n",
       "        vertical-align: top;\n",
       "    }\n",
       "\n",
       "    .dataframe thead th {\n",
       "        text-align: right;\n",
       "    }\n",
       "</style>\n",
       "<table border=\"1\" class=\"dataframe\">\n",
       "  <thead>\n",
       "    <tr style=\"text-align: right;\">\n",
       "      <th></th>\n",
       "      <th>file</th>\n",
       "      <th>original cell name</th>\n",
       "      <th>movie</th>\n",
       "      <th>last frame movie position x</th>\n",
       "      <th>last frame movie position y</th>\n",
       "      <th>ab1 (MCM)</th>\n",
       "      <th>ab1 ch</th>\n",
       "      <th>ab2 (heterochromatin)</th>\n",
       "      <th>ab2 ch</th>\n",
       "      <th>DAPI ch</th>\n",
       "      <th>...</th>\n",
       "      <th>mol_age_mod</th>\n",
       "      <th>nuc_hp1b_total</th>\n",
       "      <th>inner_hp1b_total</th>\n",
       "      <th>outer_hp1b_total</th>\n",
       "      <th>nuc_hp1b_het</th>\n",
       "      <th>inner_hp1b_het</th>\n",
       "      <th>outer_hp1b_het</th>\n",
       "      <th>nuc_hp1b_eu</th>\n",
       "      <th>inner_hp1b_eu</th>\n",
       "      <th>outer_hp1b_eu</th>\n",
       "    </tr>\n",
       "  </thead>\n",
       "  <tbody>\n",
       "    <tr>\n",
       "      <th>102</th>\n",
       "      <td>20191203_cell-130.czi</td>\n",
       "      <td>20191125-08-101</td>\n",
       "      <td>191125pcnat_dhbr_cdc6vxy08</td>\n",
       "      <td>1237.094</td>\n",
       "      <td>1258.126</td>\n",
       "      <td>MCM3</td>\n",
       "      <td>1</td>\n",
       "      <td>HP1beta</td>\n",
       "      <td>2</td>\n",
       "      <td>3</td>\n",
       "      <td>...</td>\n",
       "      <td>0.721</td>\n",
       "      <td>1.285848e+09</td>\n",
       "      <td>390107622.0</td>\n",
       "      <td>8.957405e+08</td>\n",
       "      <td>487715875.0</td>\n",
       "      <td>290984487.0</td>\n",
       "      <td>196731388.0</td>\n",
       "      <td>798132293.0</td>\n",
       "      <td>99123135.0</td>\n",
       "      <td>699009158.0</td>\n",
       "    </tr>\n",
       "    <tr>\n",
       "      <th>3</th>\n",
       "      <td>20191203_cell-03.czi</td>\n",
       "      <td>20191125-01-25</td>\n",
       "      <td>191125pcnat_dhbr_cdc6vxy01</td>\n",
       "      <td>1650.585</td>\n",
       "      <td>324.968</td>\n",
       "      <td>MCM3</td>\n",
       "      <td>1</td>\n",
       "      <td>HP1beta</td>\n",
       "      <td>2</td>\n",
       "      <td>3</td>\n",
       "      <td>...</td>\n",
       "      <td>0.208</td>\n",
       "      <td>1.062142e+09</td>\n",
       "      <td>233589820.0</td>\n",
       "      <td>8.285525e+08</td>\n",
       "      <td>403943621.0</td>\n",
       "      <td>187675893.0</td>\n",
       "      <td>216267728.0</td>\n",
       "      <td>658198734.0</td>\n",
       "      <td>45913927.0</td>\n",
       "      <td>612284807.0</td>\n",
       "    </tr>\n",
       "    <tr>\n",
       "      <th>108</th>\n",
       "      <td>20191203_cell-137.czi</td>\n",
       "      <td>20191125-11-82</td>\n",
       "      <td>191125pcnat_dhbr_cdc6vxy11</td>\n",
       "      <td>916.914</td>\n",
       "      <td>921.865</td>\n",
       "      <td>MCM3</td>\n",
       "      <td>1</td>\n",
       "      <td>HP1beta</td>\n",
       "      <td>2</td>\n",
       "      <td>3</td>\n",
       "      <td>...</td>\n",
       "      <td>0.701</td>\n",
       "      <td>1.340251e+09</td>\n",
       "      <td>442330664.0</td>\n",
       "      <td>8.979200e+08</td>\n",
       "      <td>509021593.0</td>\n",
       "      <td>325983023.0</td>\n",
       "      <td>183038570.0</td>\n",
       "      <td>831229094.0</td>\n",
       "      <td>116347641.0</td>\n",
       "      <td>714881453.0</td>\n",
       "    </tr>\n",
       "    <tr>\n",
       "      <th>58</th>\n",
       "      <td>20191203_cell-78.czi</td>\n",
       "      <td>20191125-05-44</td>\n",
       "      <td>191125pcnat_dhbr_cdc6vxy05</td>\n",
       "      <td>947.721</td>\n",
       "      <td>652.410</td>\n",
       "      <td>MCM3</td>\n",
       "      <td>1</td>\n",
       "      <td>HP1beta</td>\n",
       "      <td>2</td>\n",
       "      <td>3</td>\n",
       "      <td>...</td>\n",
       "      <td>0.422</td>\n",
       "      <td>1.216596e+09</td>\n",
       "      <td>363577325.0</td>\n",
       "      <td>8.530182e+08</td>\n",
       "      <td>456375018.0</td>\n",
       "      <td>263518999.0</td>\n",
       "      <td>192856019.0</td>\n",
       "      <td>760220527.0</td>\n",
       "      <td>100058326.0</td>\n",
       "      <td>660162201.0</td>\n",
       "    </tr>\n",
       "    <tr>\n",
       "      <th>49</th>\n",
       "      <td>20191203_cell-64.czi</td>\n",
       "      <td>20191125-10-142</td>\n",
       "      <td>191125pcnat_dhbr_cdc6vxy10</td>\n",
       "      <td>520.447</td>\n",
       "      <td>1594.921</td>\n",
       "      <td>MCM3</td>\n",
       "      <td>1</td>\n",
       "      <td>HP1beta</td>\n",
       "      <td>2</td>\n",
       "      <td>3</td>\n",
       "      <td>...</td>\n",
       "      <td>1.009</td>\n",
       "      <td>1.448302e+09</td>\n",
       "      <td>408907699.0</td>\n",
       "      <td>1.039394e+09</td>\n",
       "      <td>561312449.0</td>\n",
       "      <td>288467325.0</td>\n",
       "      <td>272845124.0</td>\n",
       "      <td>886989714.0</td>\n",
       "      <td>120440374.0</td>\n",
       "      <td>766549340.0</td>\n",
       "    </tr>\n",
       "    <tr>\n",
       "      <th>67</th>\n",
       "      <td>20191203_cell-87.czi</td>\n",
       "      <td>20191125-05-88</td>\n",
       "      <td>191125pcnat_dhbr_cdc6vxy05</td>\n",
       "      <td>301.901</td>\n",
       "      <td>1450.886</td>\n",
       "      <td>MCM3</td>\n",
       "      <td>1</td>\n",
       "      <td>HP1beta</td>\n",
       "      <td>2</td>\n",
       "      <td>3</td>\n",
       "      <td>...</td>\n",
       "      <td>0.208</td>\n",
       "      <td>1.173185e+09</td>\n",
       "      <td>255938367.0</td>\n",
       "      <td>9.172463e+08</td>\n",
       "      <td>438885958.0</td>\n",
       "      <td>196474325.0</td>\n",
       "      <td>242411633.0</td>\n",
       "      <td>734298719.0</td>\n",
       "      <td>59464042.0</td>\n",
       "      <td>674834677.0</td>\n",
       "    </tr>\n",
       "    <tr>\n",
       "      <th>81</th>\n",
       "      <td>20191203_cell-103.czi</td>\n",
       "      <td>20191125-07-55</td>\n",
       "      <td>191125pcnat_dhbr_cdc6vxy07</td>\n",
       "      <td>598.905</td>\n",
       "      <td>812.930</td>\n",
       "      <td>MCM3</td>\n",
       "      <td>1</td>\n",
       "      <td>HP1beta</td>\n",
       "      <td>2</td>\n",
       "      <td>3</td>\n",
       "      <td>...</td>\n",
       "      <td>0.462</td>\n",
       "      <td>1.039684e+09</td>\n",
       "      <td>208705380.0</td>\n",
       "      <td>8.309790e+08</td>\n",
       "      <td>384549104.0</td>\n",
       "      <td>167188893.0</td>\n",
       "      <td>217360211.0</td>\n",
       "      <td>655135258.0</td>\n",
       "      <td>41516487.0</td>\n",
       "      <td>613618771.0</td>\n",
       "    </tr>\n",
       "    <tr>\n",
       "      <th>60</th>\n",
       "      <td>20191203_cell-80.czi</td>\n",
       "      <td>20191125-05-56</td>\n",
       "      <td>191125pcnat_dhbr_cdc6vxy05</td>\n",
       "      <td>467.635</td>\n",
       "      <td>889.574</td>\n",
       "      <td>MCM3</td>\n",
       "      <td>1</td>\n",
       "      <td>HP1beta</td>\n",
       "      <td>2</td>\n",
       "      <td>3</td>\n",
       "      <td>...</td>\n",
       "      <td>0.674</td>\n",
       "      <td>1.373778e+09</td>\n",
       "      <td>453944387.0</td>\n",
       "      <td>9.198338e+08</td>\n",
       "      <td>519606383.0</td>\n",
       "      <td>326294309.0</td>\n",
       "      <td>193312074.0</td>\n",
       "      <td>854171789.0</td>\n",
       "      <td>127650078.0</td>\n",
       "      <td>726521711.0</td>\n",
       "    </tr>\n",
       "    <tr>\n",
       "      <th>95</th>\n",
       "      <td>20191203_cell-123.czi</td>\n",
       "      <td>20191125-07-125</td>\n",
       "      <td>191125pcnat_dhbr_cdc6vxy07</td>\n",
       "      <td>1258.357</td>\n",
       "      <td>1764.788</td>\n",
       "      <td>MCM3</td>\n",
       "      <td>1</td>\n",
       "      <td>HP1beta</td>\n",
       "      <td>2</td>\n",
       "      <td>3</td>\n",
       "      <td>...</td>\n",
       "      <td>0.649</td>\n",
       "      <td>1.204104e+09</td>\n",
       "      <td>355183847.0</td>\n",
       "      <td>8.489197e+08</td>\n",
       "      <td>434319799.0</td>\n",
       "      <td>257178787.0</td>\n",
       "      <td>177141012.0</td>\n",
       "      <td>769783719.0</td>\n",
       "      <td>98005060.0</td>\n",
       "      <td>671778659.0</td>\n",
       "    </tr>\n",
       "    <tr>\n",
       "      <th>5</th>\n",
       "      <td>20191203_cell-05.czi</td>\n",
       "      <td>20191125-01-36</td>\n",
       "      <td>191125pcnat_dhbr_cdc6vxy01</td>\n",
       "      <td>1705.099</td>\n",
       "      <td>468.246</td>\n",
       "      <td>MCM3</td>\n",
       "      <td>1</td>\n",
       "      <td>HP1beta</td>\n",
       "      <td>2</td>\n",
       "      <td>3</td>\n",
       "      <td>...</td>\n",
       "      <td>0.632</td>\n",
       "      <td>1.615431e+09</td>\n",
       "      <td>530009467.0</td>\n",
       "      <td>1.085421e+09</td>\n",
       "      <td>699466569.0</td>\n",
       "      <td>454510713.0</td>\n",
       "      <td>244955856.0</td>\n",
       "      <td>915964380.0</td>\n",
       "      <td>75498754.0</td>\n",
       "      <td>840465626.0</td>\n",
       "    </tr>\n",
       "  </tbody>\n",
       "</table>\n",
       "<p>10 rows × 59 columns</p>\n",
       "</div>"
      ],
      "text/plain": [
       "                      file original cell name                       movie  \\\n",
       "102  20191203_cell-130.czi    20191125-08-101  191125pcnat_dhbr_cdc6vxy08   \n",
       "3     20191203_cell-03.czi     20191125-01-25  191125pcnat_dhbr_cdc6vxy01   \n",
       "108  20191203_cell-137.czi     20191125-11-82  191125pcnat_dhbr_cdc6vxy11   \n",
       "58    20191203_cell-78.czi     20191125-05-44  191125pcnat_dhbr_cdc6vxy05   \n",
       "49    20191203_cell-64.czi    20191125-10-142  191125pcnat_dhbr_cdc6vxy10   \n",
       "67    20191203_cell-87.czi     20191125-05-88  191125pcnat_dhbr_cdc6vxy05   \n",
       "81   20191203_cell-103.czi     20191125-07-55  191125pcnat_dhbr_cdc6vxy07   \n",
       "60    20191203_cell-80.czi     20191125-05-56  191125pcnat_dhbr_cdc6vxy05   \n",
       "95   20191203_cell-123.czi    20191125-07-125  191125pcnat_dhbr_cdc6vxy07   \n",
       "5     20191203_cell-05.czi     20191125-01-36  191125pcnat_dhbr_cdc6vxy01   \n",
       "\n",
       "     last frame movie position x  last frame movie position y ab1 (MCM)  \\\n",
       "102                     1237.094                     1258.126      MCM3   \n",
       "3                       1650.585                      324.968      MCM3   \n",
       "108                      916.914                      921.865      MCM3   \n",
       "58                       947.721                      652.410      MCM3   \n",
       "49                       520.447                     1594.921      MCM3   \n",
       "67                       301.901                     1450.886      MCM3   \n",
       "81                       598.905                      812.930      MCM3   \n",
       "60                       467.635                      889.574      MCM3   \n",
       "95                      1258.357                     1764.788      MCM3   \n",
       "5                       1705.099                      468.246      MCM3   \n",
       "\n",
       "     ab1 ch ab2 (heterochromatin)  ab2 ch  DAPI ch  ...  mol_age_mod  \\\n",
       "102       1               HP1beta       2        3  ...        0.721   \n",
       "3         1               HP1beta       2        3  ...        0.208   \n",
       "108       1               HP1beta       2        3  ...        0.701   \n",
       "58        1               HP1beta       2        3  ...        0.422   \n",
       "49        1               HP1beta       2        3  ...        1.009   \n",
       "67        1               HP1beta       2        3  ...        0.208   \n",
       "81        1               HP1beta       2        3  ...        0.462   \n",
       "60        1               HP1beta       2        3  ...        0.674   \n",
       "95        1               HP1beta       2        3  ...        0.649   \n",
       "5         1               HP1beta       2        3  ...        0.632   \n",
       "\n",
       "    nuc_hp1b_total  inner_hp1b_total  outer_hp1b_total nuc_hp1b_het  \\\n",
       "102   1.285848e+09       390107622.0      8.957405e+08  487715875.0   \n",
       "3     1.062142e+09       233589820.0      8.285525e+08  403943621.0   \n",
       "108   1.340251e+09       442330664.0      8.979200e+08  509021593.0   \n",
       "58    1.216596e+09       363577325.0      8.530182e+08  456375018.0   \n",
       "49    1.448302e+09       408907699.0      1.039394e+09  561312449.0   \n",
       "67    1.173185e+09       255938367.0      9.172463e+08  438885958.0   \n",
       "81    1.039684e+09       208705380.0      8.309790e+08  384549104.0   \n",
       "60    1.373778e+09       453944387.0      9.198338e+08  519606383.0   \n",
       "95    1.204104e+09       355183847.0      8.489197e+08  434319799.0   \n",
       "5     1.615431e+09       530009467.0      1.085421e+09  699466569.0   \n",
       "\n",
       "     inner_hp1b_het outer_hp1b_het  nuc_hp1b_eu inner_hp1b_eu  outer_hp1b_eu  \n",
       "102     290984487.0    196731388.0  798132293.0    99123135.0    699009158.0  \n",
       "3       187675893.0    216267728.0  658198734.0    45913927.0    612284807.0  \n",
       "108     325983023.0    183038570.0  831229094.0   116347641.0    714881453.0  \n",
       "58      263518999.0    192856019.0  760220527.0   100058326.0    660162201.0  \n",
       "49      288467325.0    272845124.0  886989714.0   120440374.0    766549340.0  \n",
       "67      196474325.0    242411633.0  734298719.0    59464042.0    674834677.0  \n",
       "81      167188893.0    217360211.0  655135258.0    41516487.0    613618771.0  \n",
       "60      326294309.0    193312074.0  854171789.0   127650078.0    726521711.0  \n",
       "95      257178787.0    177141012.0  769783719.0    98005060.0    671778659.0  \n",
       "5       454510713.0    244955856.0  915964380.0    75498754.0    840465626.0  \n",
       "\n",
       "[10 rows x 59 columns]"
      ]
     },
     "execution_count": 53,
     "metadata": {},
     "output_type": "execute_result"
    }
   ],
   "source": [
    "sample"
   ]
  },
  {
   "cell_type": "code",
   "execution_count": 54,
   "metadata": {},
   "outputs": [
    {
     "data": {
      "text/html": [
       "<div>\n",
       "<style scoped>\n",
       "    .dataframe tbody tr th:only-of-type {\n",
       "        vertical-align: middle;\n",
       "    }\n",
       "\n",
       "    .dataframe tbody tr th {\n",
       "        vertical-align: top;\n",
       "    }\n",
       "\n",
       "    .dataframe thead th {\n",
       "        text-align: right;\n",
       "    }\n",
       "</style>\n",
       "<table border=\"1\" class=\"dataframe\">\n",
       "  <thead>\n",
       "    <tr style=\"text-align: right;\">\n",
       "      <th></th>\n",
       "      <th>Unnamed: 0.1.1</th>\n",
       "      <th>file</th>\n",
       "      <th>original cell name</th>\n",
       "      <th>movie</th>\n",
       "      <th>x</th>\n",
       "      <th>y</th>\n",
       "      <th>ab1 (MCM)</th>\n",
       "      <th>ab1 ch</th>\n",
       "      <th>ab2 (heterochromatin)</th>\n",
       "      <th>ab2 ch</th>\n",
       "      <th>...</th>\n",
       "      <th>mol_age_mod</th>\n",
       "      <th>nuc_hp1b_total</th>\n",
       "      <th>inner_hp1b_total</th>\n",
       "      <th>outer_hp1b_total</th>\n",
       "      <th>nuc_hp1b_het</th>\n",
       "      <th>inner_hp1b_het</th>\n",
       "      <th>outer_hp1b_het</th>\n",
       "      <th>nuc_hp1b_eu</th>\n",
       "      <th>inner_hp1b_eu</th>\n",
       "      <th>outer_hp1b_eu</th>\n",
       "    </tr>\n",
       "  </thead>\n",
       "  <tbody>\n",
       "    <tr>\n",
       "      <th>55</th>\n",
       "      <td>55</td>\n",
       "      <td>20200217_cell_56.ciz</td>\n",
       "      <td>2020024-21-69-63X.czi</td>\n",
       "      <td>20200217pinducer gemininxy21</td>\n",
       "      <td>1679.774</td>\n",
       "      <td>853.901</td>\n",
       "      <td>MCM3</td>\n",
       "      <td>1</td>\n",
       "      <td>HP1</td>\n",
       "      <td>2</td>\n",
       "      <td>...</td>\n",
       "      <td>0.913</td>\n",
       "      <td>1.451200e+09</td>\n",
       "      <td>339178991.0</td>\n",
       "      <td>1.112021e+09</td>\n",
       "      <td>6.205754e+08</td>\n",
       "      <td>274960992.0</td>\n",
       "      <td>345614428.0</td>\n",
       "      <td>8.306245e+08</td>\n",
       "      <td>64217999.0</td>\n",
       "      <td>7.664065e+08</td>\n",
       "    </tr>\n",
       "    <tr>\n",
       "      <th>52</th>\n",
       "      <td>52</td>\n",
       "      <td>20200217_cell_53.ciz</td>\n",
       "      <td>2020024-21-56-63X.czi</td>\n",
       "      <td>20200217pinducer gemininxy21</td>\n",
       "      <td>491.477</td>\n",
       "      <td>686.327</td>\n",
       "      <td>MCM3</td>\n",
       "      <td>1</td>\n",
       "      <td>HP1</td>\n",
       "      <td>2</td>\n",
       "      <td>...</td>\n",
       "      <td>0.312</td>\n",
       "      <td>1.595833e+09</td>\n",
       "      <td>727375695.0</td>\n",
       "      <td>8.684578e+08</td>\n",
       "      <td>7.622483e+08</td>\n",
       "      <td>609343947.0</td>\n",
       "      <td>152904329.0</td>\n",
       "      <td>8.335852e+08</td>\n",
       "      <td>118031748.0</td>\n",
       "      <td>7.155534e+08</td>\n",
       "    </tr>\n",
       "    <tr>\n",
       "      <th>41</th>\n",
       "      <td>41</td>\n",
       "      <td>20200217_cell_41.ciz</td>\n",
       "      <td>2020024-20-129-63X.czi</td>\n",
       "      <td>20200217pinducer gemininxy20</td>\n",
       "      <td>956.116</td>\n",
       "      <td>1670.198</td>\n",
       "      <td>MCM3</td>\n",
       "      <td>1</td>\n",
       "      <td>HP1</td>\n",
       "      <td>2</td>\n",
       "      <td>...</td>\n",
       "      <td>0.980</td>\n",
       "      <td>1.639314e+09</td>\n",
       "      <td>637438506.0</td>\n",
       "      <td>1.001876e+09</td>\n",
       "      <td>7.743705e+08</td>\n",
       "      <td>554396674.0</td>\n",
       "      <td>219973831.0</td>\n",
       "      <td>8.649435e+08</td>\n",
       "      <td>83041832.0</td>\n",
       "      <td>7.819017e+08</td>\n",
       "    </tr>\n",
       "    <tr>\n",
       "      <th>33</th>\n",
       "      <td>33</td>\n",
       "      <td>20200217_cell_33.ciz</td>\n",
       "      <td>2020024-20-72-63X.czi</td>\n",
       "      <td>20200217pinducer gemininxy20</td>\n",
       "      <td>693.390</td>\n",
       "      <td>929.068</td>\n",
       "      <td>MCM3</td>\n",
       "      <td>1</td>\n",
       "      <td>HP1</td>\n",
       "      <td>2</td>\n",
       "      <td>...</td>\n",
       "      <td>1.098</td>\n",
       "      <td>2.252354e+09</td>\n",
       "      <td>977700193.0</td>\n",
       "      <td>1.274653e+09</td>\n",
       "      <td>1.093978e+09</td>\n",
       "      <td>836537223.0</td>\n",
       "      <td>257440725.0</td>\n",
       "      <td>1.158376e+09</td>\n",
       "      <td>141162970.0</td>\n",
       "      <td>1.017213e+09</td>\n",
       "    </tr>\n",
       "    <tr>\n",
       "      <th>0</th>\n",
       "      <td>0</td>\n",
       "      <td>20200217_cell_00.ciz</td>\n",
       "      <td>2020024-19-21-63X.czi</td>\n",
       "      <td>20200217pinducer gemininxy19</td>\n",
       "      <td>1312.741</td>\n",
       "      <td>235.893</td>\n",
       "      <td>MCM3</td>\n",
       "      <td>1</td>\n",
       "      <td>HP1</td>\n",
       "      <td>2</td>\n",
       "      <td>...</td>\n",
       "      <td>0.948</td>\n",
       "      <td>2.693842e+09</td>\n",
       "      <td>931477774.0</td>\n",
       "      <td>1.762364e+09</td>\n",
       "      <td>1.339535e+09</td>\n",
       "      <td>829988278.0</td>\n",
       "      <td>509546448.0</td>\n",
       "      <td>1.354307e+09</td>\n",
       "      <td>101489496.0</td>\n",
       "      <td>1.252817e+09</td>\n",
       "    </tr>\n",
       "    <tr>\n",
       "      <th>39</th>\n",
       "      <td>39</td>\n",
       "      <td>20200217_cell_39.ciz</td>\n",
       "      <td>2020024-20-111-63X.czi</td>\n",
       "      <td>20200217pinducer gemininxy20</td>\n",
       "      <td>1306.021</td>\n",
       "      <td>1454.848</td>\n",
       "      <td>MCM3</td>\n",
       "      <td>1</td>\n",
       "      <td>HP1</td>\n",
       "      <td>2</td>\n",
       "      <td>...</td>\n",
       "      <td>0.282</td>\n",
       "      <td>1.736642e+09</td>\n",
       "      <td>715961360.0</td>\n",
       "      <td>1.020680e+09</td>\n",
       "      <td>8.087299e+08</td>\n",
       "      <td>632150280.0</td>\n",
       "      <td>176579605.0</td>\n",
       "      <td>9.279119e+08</td>\n",
       "      <td>83811080.0</td>\n",
       "      <td>8.441009e+08</td>\n",
       "    </tr>\n",
       "    <tr>\n",
       "      <th>59</th>\n",
       "      <td>59</td>\n",
       "      <td>20200217_cell_60.ciz</td>\n",
       "      <td>2020024-21-91-63X.czi</td>\n",
       "      <td>20200217pinducer gemininxy21</td>\n",
       "      <td>1292.148</td>\n",
       "      <td>1095.184</td>\n",
       "      <td>MCM3</td>\n",
       "      <td>1</td>\n",
       "      <td>HP1</td>\n",
       "      <td>2</td>\n",
       "      <td>...</td>\n",
       "      <td>0.222</td>\n",
       "      <td>1.831720e+09</td>\n",
       "      <td>689306892.0</td>\n",
       "      <td>1.142413e+09</td>\n",
       "      <td>8.241242e+08</td>\n",
       "      <td>565741020.0</td>\n",
       "      <td>258383221.0</td>\n",
       "      <td>1.007595e+09</td>\n",
       "      <td>123565872.0</td>\n",
       "      <td>8.840294e+08</td>\n",
       "    </tr>\n",
       "    <tr>\n",
       "      <th>58</th>\n",
       "      <td>58</td>\n",
       "      <td>20200217_cell_59.ciz</td>\n",
       "      <td>2020024-21-84-63X.czi</td>\n",
       "      <td>20200217pinducer gemininxy21</td>\n",
       "      <td>1388.189</td>\n",
       "      <td>1001.713</td>\n",
       "      <td>MCM3</td>\n",
       "      <td>1</td>\n",
       "      <td>HP1</td>\n",
       "      <td>2</td>\n",
       "      <td>...</td>\n",
       "      <td>0.844</td>\n",
       "      <td>1.489642e+09</td>\n",
       "      <td>577177890.0</td>\n",
       "      <td>9.124644e+08</td>\n",
       "      <td>6.760060e+08</td>\n",
       "      <td>480895722.0</td>\n",
       "      <td>195110316.0</td>\n",
       "      <td>8.136362e+08</td>\n",
       "      <td>96282168.0</td>\n",
       "      <td>7.173541e+08</td>\n",
       "    </tr>\n",
       "    <tr>\n",
       "      <th>9</th>\n",
       "      <td>9</td>\n",
       "      <td>20200217_cell_09.ciz</td>\n",
       "      <td>2020024-19-79-63X.czi</td>\n",
       "      <td>20200217pinducer gemininxy19</td>\n",
       "      <td>398.674</td>\n",
       "      <td>1037.764</td>\n",
       "      <td>MCM3</td>\n",
       "      <td>1</td>\n",
       "      <td>HP1</td>\n",
       "      <td>2</td>\n",
       "      <td>...</td>\n",
       "      <td>0.726</td>\n",
       "      <td>2.211104e+09</td>\n",
       "      <td>900934774.0</td>\n",
       "      <td>1.310169e+09</td>\n",
       "      <td>1.084085e+09</td>\n",
       "      <td>767018423.0</td>\n",
       "      <td>317066281.0</td>\n",
       "      <td>1.127019e+09</td>\n",
       "      <td>133916351.0</td>\n",
       "      <td>9.931030e+08</td>\n",
       "    </tr>\n",
       "    <tr>\n",
       "      <th>12</th>\n",
       "      <td>12</td>\n",
       "      <td>20200217_cell_12.ciz</td>\n",
       "      <td>2020024-19-93-63X.czi</td>\n",
       "      <td>20200217pinducer gemininxy19</td>\n",
       "      <td>1841.328</td>\n",
       "      <td>1182.675</td>\n",
       "      <td>MCM3</td>\n",
       "      <td>1</td>\n",
       "      <td>HP1</td>\n",
       "      <td>2</td>\n",
       "      <td>...</td>\n",
       "      <td>0.429</td>\n",
       "      <td>2.158952e+09</td>\n",
       "      <td>705915706.0</td>\n",
       "      <td>1.453037e+09</td>\n",
       "      <td>9.907945e+08</td>\n",
       "      <td>623138461.0</td>\n",
       "      <td>367656076.0</td>\n",
       "      <td>1.168158e+09</td>\n",
       "      <td>82777245.0</td>\n",
       "      <td>1.085381e+09</td>\n",
       "    </tr>\n",
       "  </tbody>\n",
       "</table>\n",
       "<p>10 rows × 59 columns</p>\n",
       "</div>"
      ],
      "text/plain": [
       "    Unnamed: 0.1.1                  file      original cell name  \\\n",
       "55              55  20200217_cell_56.ciz   2020024-21-69-63X.czi   \n",
       "52              52  20200217_cell_53.ciz   2020024-21-56-63X.czi   \n",
       "41              41  20200217_cell_41.ciz  2020024-20-129-63X.czi   \n",
       "33              33  20200217_cell_33.ciz   2020024-20-72-63X.czi   \n",
       "0                0  20200217_cell_00.ciz   2020024-19-21-63X.czi   \n",
       "39              39  20200217_cell_39.ciz  2020024-20-111-63X.czi   \n",
       "59              59  20200217_cell_60.ciz   2020024-21-91-63X.czi   \n",
       "58              58  20200217_cell_59.ciz   2020024-21-84-63X.czi   \n",
       "9                9  20200217_cell_09.ciz   2020024-19-79-63X.czi   \n",
       "12              12  20200217_cell_12.ciz   2020024-19-93-63X.czi   \n",
       "\n",
       "                           movie         x         y ab1 (MCM)  ab1 ch  \\\n",
       "55  20200217pinducer gemininxy21  1679.774   853.901      MCM3       1   \n",
       "52  20200217pinducer gemininxy21   491.477   686.327      MCM3       1   \n",
       "41  20200217pinducer gemininxy20   956.116  1670.198      MCM3       1   \n",
       "33  20200217pinducer gemininxy20   693.390   929.068      MCM3       1   \n",
       "0   20200217pinducer gemininxy19  1312.741   235.893      MCM3       1   \n",
       "39  20200217pinducer gemininxy20  1306.021  1454.848      MCM3       1   \n",
       "59  20200217pinducer gemininxy21  1292.148  1095.184      MCM3       1   \n",
       "58  20200217pinducer gemininxy21  1388.189  1001.713      MCM3       1   \n",
       "9   20200217pinducer gemininxy19   398.674  1037.764      MCM3       1   \n",
       "12  20200217pinducer gemininxy19  1841.328  1182.675      MCM3       1   \n",
       "\n",
       "   ab2 (heterochromatin)  ab2 ch  ...  mol_age_mod  nuc_hp1b_total  \\\n",
       "55                   HP1       2  ...        0.913    1.451200e+09   \n",
       "52                   HP1       2  ...        0.312    1.595833e+09   \n",
       "41                   HP1       2  ...        0.980    1.639314e+09   \n",
       "33                   HP1       2  ...        1.098    2.252354e+09   \n",
       "0                    HP1       2  ...        0.948    2.693842e+09   \n",
       "39                   HP1       2  ...        0.282    1.736642e+09   \n",
       "59                   HP1       2  ...        0.222    1.831720e+09   \n",
       "58                   HP1       2  ...        0.844    1.489642e+09   \n",
       "9                    HP1       2  ...        0.726    2.211104e+09   \n",
       "12                   HP1       2  ...        0.429    2.158952e+09   \n",
       "\n",
       "   inner_hp1b_total outer_hp1b_total  nuc_hp1b_het  inner_hp1b_het  \\\n",
       "55      339178991.0     1.112021e+09  6.205754e+08     274960992.0   \n",
       "52      727375695.0     8.684578e+08  7.622483e+08     609343947.0   \n",
       "41      637438506.0     1.001876e+09  7.743705e+08     554396674.0   \n",
       "33      977700193.0     1.274653e+09  1.093978e+09     836537223.0   \n",
       "0       931477774.0     1.762364e+09  1.339535e+09     829988278.0   \n",
       "39      715961360.0     1.020680e+09  8.087299e+08     632150280.0   \n",
       "59      689306892.0     1.142413e+09  8.241242e+08     565741020.0   \n",
       "58      577177890.0     9.124644e+08  6.760060e+08     480895722.0   \n",
       "9       900934774.0     1.310169e+09  1.084085e+09     767018423.0   \n",
       "12      705915706.0     1.453037e+09  9.907945e+08     623138461.0   \n",
       "\n",
       "   outer_hp1b_het   nuc_hp1b_eu inner_hp1b_eu outer_hp1b_eu  \n",
       "55    345614428.0  8.306245e+08    64217999.0  7.664065e+08  \n",
       "52    152904329.0  8.335852e+08   118031748.0  7.155534e+08  \n",
       "41    219973831.0  8.649435e+08    83041832.0  7.819017e+08  \n",
       "33    257440725.0  1.158376e+09   141162970.0  1.017213e+09  \n",
       "0     509546448.0  1.354307e+09   101489496.0  1.252817e+09  \n",
       "39    176579605.0  9.279119e+08    83811080.0  8.441009e+08  \n",
       "59    258383221.0  1.007595e+09   123565872.0  8.840294e+08  \n",
       "58    195110316.0  8.136362e+08    96282168.0  7.173541e+08  \n",
       "9     317066281.0  1.127019e+09   133916351.0  9.931030e+08  \n",
       "12    367656076.0  1.168158e+09    82777245.0  1.085381e+09  \n",
       "\n",
       "[10 rows x 59 columns]"
      ]
     },
     "execution_count": 54,
     "metadata": {},
     "output_type": "execute_result"
    }
   ],
   "source": [
    "sample_geminin=geminin.loc[(geminin.group=='CTL'),:]\n",
    "\n",
    "sample_geminin=sample_geminin.loc[(['G1' in x for x in sample_geminin.category]), :].sample(n=10, random_state=107)\n",
    "\n",
    "sample_geminin"
   ]
  },
  {
   "cell_type": "markdown",
   "metadata": {},
   "source": [
    "# Data Analysis <a name=\"EDA\"></a>"
   ]
  },
  {
   "cell_type": "markdown",
   "metadata": {},
   "source": [
    "## first image <a name=\"1st\"></a>\n",
    "* [Density plots](#1Density)\n",
    "* [Sample plots](#1Sample)\n",
    "* [Comparison](#1Comparison)"
   ]
  },
  {
   "cell_type": "code",
   "execution_count": 55,
   "metadata": {},
   "outputs": [],
   "source": [
    "i=0"
   ]
  },
  {
   "cell_type": "code",
   "execution_count": 56,
   "metadata": {},
   "outputs": [
    {
     "name": "stdout",
     "output_type": "stream",
     "text": [
      "20191203_cell-130.czi\n",
      "shape of the cell image:  (29, 3, 380, 380)\n",
      "shape of nucleus mask:  (29, 380, 380)\n",
      "20200217_cell_56.ciz\n",
      "shape of the cell image:  (22, 3, 380, 380)\n",
      "shape of nucleus mask:  (22, 380, 380)\n"
     ]
    }
   ],
   "source": [
    "mycell=sample.iloc[i]\n",
    "%matplotlib notebook\n",
    "cell=imread(mycell.path)\n",
    "\n",
    "nucPath=(mycell.path.replace('data_tiff','segmentation_nucleus_Otsu'))\n",
    "nucPath=nucPath.replace('.tif','_nucleus.tif')\n",
    "nuc=imread(nucPath)\n",
    "\n",
    "print(mycell.file)\n",
    "print('shape of the cell image: ', cell.shape)\n",
    "print('shape of nucleus mask: ', nuc.shape)\n",
    "\n",
    "nuc=nuc.astype(bool)\n",
    "# selecting every slide of the selected channel, which is hp1beta channel.\n",
    "hp1b=cell[:,1,:,:] \n",
    "## masking the image\n",
    "hp1b[~nuc]=0\n",
    "hp1b=hp1b.astype(np.ndarray)\n",
    "\n",
    "# DAPI channel\n",
    "dapiB=cell[:,2,:,:]\n",
    "dapiB[~nuc]=0\n",
    "\n",
    "\n",
    "## HP1, geminin dataset\n",
    "i=0\n",
    "mycellGeminin=sample_geminin.iloc[i]\n",
    "%matplotlib notebook\n",
    "cell=imread(mycellGeminin.path)\n",
    "\n",
    "nucPath=(mycellGeminin.path.replace('data_tiff','segmentation_nucleus_Otsu'))\n",
    "nucPath=nucPath.replace('.tif','_nucleus.tif')\n",
    "nuc=imread(nucPath)\n",
    "\n",
    "print(mycellGeminin.file)\n",
    "print('shape of the cell image: ', cell.shape)\n",
    "print('shape of nucleus mask: ', nuc.shape)\n",
    "\n",
    "nuc=nuc.astype(bool)\n",
    "# selecting every slide of the selected channel, which is hp1beta channel.\n",
    "hp1=cell[:,1,:,:] \n",
    "## masking the image\n",
    "hp1[~nuc]=0\n",
    "hp1=hp1.astype(np.ndarray)\n",
    "\n",
    "# DAPI channel\n",
    "dapi=cell[:,2,:,:]\n",
    "dapi[~nuc]=0\n"
   ]
  },
  {
   "cell_type": "markdown",
   "metadata": {},
   "source": [
    "#### making hp1beta and dapi signals as 1d (reducing the factor of slices or any axis limitations)"
   ]
  },
  {
   "cell_type": "code",
   "execution_count": 57,
   "metadata": {},
   "outputs": [
    {
     "data": {
      "text/plain": [
       "65535"
      ]
     },
     "execution_count": 57,
     "metadata": {},
     "output_type": "execute_result"
    }
   ],
   "source": [
    "hp1b.max()"
   ]
  },
  {
   "cell_type": "code",
   "execution_count": 58,
   "metadata": {},
   "outputs": [
    {
     "data": {
      "text/plain": [
       "41919"
      ]
     },
     "execution_count": 58,
     "metadata": {},
     "output_type": "execute_result"
    }
   ],
   "source": [
    "dapiB.max()"
   ]
  },
  {
   "cell_type": "markdown",
   "metadata": {},
   "source": [
    "By using `ravel()`, the signals' multidimensional array will be made into 1-dimensional array. This will enable us to just plot the pixels without any grouping of slices or axes."
   ]
  },
  {
   "cell_type": "code",
   "execution_count": 59,
   "metadata": {},
   "outputs": [
    {
     "data": {
      "text/plain": [
       "(4187600,)"
      ]
     },
     "execution_count": 59,
     "metadata": {},
     "output_type": "execute_result"
    }
   ],
   "source": [
    "hp1b_test=hp1b.ravel()\n",
    "hp1b_test.shape"
   ]
  },
  {
   "cell_type": "code",
   "execution_count": 60,
   "metadata": {},
   "outputs": [
    {
     "data": {
      "text/plain": [
       "(4187600,)"
      ]
     },
     "execution_count": 60,
     "metadata": {},
     "output_type": "execute_result"
    }
   ],
   "source": [
    "dapiB_test=dapiB.ravel()\n",
    "dapiB_test.shape"
   ]
  },
  {
   "cell_type": "markdown",
   "metadata": {},
   "source": [
    "#### making hp1 and dapi signals as 1d (reducing the factor of slices or any axis limitations)\n",
    "By using `ravel()`, the signals' multidimensional array will be made into 1-dimensional array. This will enable us to just plot the pixels without any grouping of slices or axes."
   ]
  },
  {
   "cell_type": "code",
   "execution_count": 61,
   "metadata": {},
   "outputs": [
    {
     "data": {
      "text/plain": [
       "47432"
      ]
     },
     "execution_count": 61,
     "metadata": {},
     "output_type": "execute_result"
    }
   ],
   "source": [
    "hp1.max()"
   ]
  },
  {
   "cell_type": "code",
   "execution_count": 62,
   "metadata": {},
   "outputs": [
    {
     "data": {
      "text/plain": [
       "31365"
      ]
     },
     "execution_count": 62,
     "metadata": {},
     "output_type": "execute_result"
    }
   ],
   "source": [
    "dapi.max()"
   ]
  },
  {
   "cell_type": "code",
   "execution_count": 63,
   "metadata": {},
   "outputs": [
    {
     "data": {
      "text/plain": [
       "(3176800,)"
      ]
     },
     "execution_count": 63,
     "metadata": {},
     "output_type": "execute_result"
    }
   ],
   "source": [
    "hp1_test=hp1.ravel()\n",
    "hp1_test.shape"
   ]
  },
  {
   "cell_type": "code",
   "execution_count": 64,
   "metadata": {},
   "outputs": [
    {
     "data": {
      "text/plain": [
       "(3176800,)"
      ]
     },
     "execution_count": 64,
     "metadata": {},
     "output_type": "execute_result"
    }
   ],
   "source": [
    "dapi_test=dapi.ravel()\n",
    "dapi_test.shape"
   ]
  },
  {
   "cell_type": "markdown",
   "metadata": {},
   "source": [
    "## remove some data points\n",
    "\n",
    "- remove pixel values of saturated pixels and 0 pixels, which are most likly the background pixels"
   ]
  },
  {
   "cell_type": "markdown",
   "metadata": {},
   "source": [
    "### HP1Beta"
   ]
  },
  {
   "cell_type": "code",
   "execution_count": 65,
   "metadata": {},
   "outputs": [
    {
     "data": {
      "text/plain": [
       "(3952366,)"
      ]
     },
     "execution_count": 65,
     "metadata": {},
     "output_type": "execute_result"
    }
   ],
   "source": [
    "hp1b_test[hp1b_test==0].shape"
   ]
  },
  {
   "cell_type": "code",
   "execution_count": 66,
   "metadata": {},
   "outputs": [],
   "source": [
    "hp1b_test_non_zero=hp1b_test[~(hp1b_test==0)]"
   ]
  },
  {
   "cell_type": "code",
   "execution_count": 67,
   "metadata": {},
   "outputs": [
    {
     "data": {
      "text/plain": [
       "(235234,)"
      ]
     },
     "execution_count": 67,
     "metadata": {},
     "output_type": "execute_result"
    }
   ],
   "source": [
    "hp1b_test_non_zero.shape"
   ]
  },
  {
   "cell_type": "code",
   "execution_count": 68,
   "metadata": {},
   "outputs": [
    {
     "data": {
      "text/plain": [
       "(3952366,)"
      ]
     },
     "execution_count": 68,
     "metadata": {},
     "output_type": "execute_result"
    }
   ],
   "source": [
    "dapiB_test[dapiB_test==0].shape"
   ]
  },
  {
   "cell_type": "code",
   "execution_count": 69,
   "metadata": {},
   "outputs": [],
   "source": [
    "dapiB_test_non_zero=dapiB_test[~(dapiB_test==0)]"
   ]
  },
  {
   "cell_type": "code",
   "execution_count": 70,
   "metadata": {},
   "outputs": [
    {
     "data": {
      "text/plain": [
       "(235234,)"
      ]
     },
     "execution_count": 70,
     "metadata": {},
     "output_type": "execute_result"
    }
   ],
   "source": [
    "dapiB_test_non_zero.shape"
   ]
  },
  {
   "cell_type": "markdown",
   "metadata": {},
   "source": [
    "### HP1"
   ]
  },
  {
   "cell_type": "code",
   "execution_count": 71,
   "metadata": {},
   "outputs": [],
   "source": [
    "hp1_test_non_zero=hp1_test[~(hp1_test==0)]"
   ]
  },
  {
   "cell_type": "code",
   "execution_count": 72,
   "metadata": {},
   "outputs": [
    {
     "data": {
      "text/plain": [
       "(208612,)"
      ]
     },
     "execution_count": 72,
     "metadata": {},
     "output_type": "execute_result"
    }
   ],
   "source": [
    "hp1_test_non_zero.shape"
   ]
  },
  {
   "cell_type": "code",
   "execution_count": 73,
   "metadata": {},
   "outputs": [],
   "source": [
    "dapi_test_non_zero=dapi_test[~(dapi_test==0)]"
   ]
  },
  {
   "cell_type": "code",
   "execution_count": 74,
   "metadata": {},
   "outputs": [
    {
     "data": {
      "text/plain": [
       "(208612,)"
      ]
     },
     "execution_count": 74,
     "metadata": {},
     "output_type": "execute_result"
    }
   ],
   "source": [
    "dapi_test_non_zero.shape"
   ]
  },
  {
   "cell_type": "markdown",
   "metadata": {},
   "source": [
    "## density plot <a name=\"1Density\"></a>"
   ]
  },
  {
   "cell_type": "markdown",
   "metadata": {},
   "source": [
    "### HP1Beta"
   ]
  },
  {
   "cell_type": "code",
   "execution_count": 75,
   "metadata": {},
   "outputs": [],
   "source": [
    "hp1b_test_final=hp1b_test_non_zero[hp1b_test_non_zero!=hp1b_test_non_zero.max()]"
   ]
  },
  {
   "cell_type": "code",
   "execution_count": 76,
   "metadata": {},
   "outputs": [],
   "source": [
    "dapiB_test_final=dapiB_test_non_zero[hp1b_test_non_zero!=hp1b_test_non_zero.max()]"
   ]
  },
  {
   "cell_type": "code",
   "execution_count": 77,
   "metadata": {},
   "outputs": [
    {
     "name": "stdout",
     "output_type": "stream",
     "text": [
      "(235219,)\n",
      "(235219,)\n"
     ]
    }
   ],
   "source": [
    "print(hp1b_test_final.shape)\n",
    "print(dapiB_test_final.shape)"
   ]
  },
  {
   "cell_type": "markdown",
   "metadata": {},
   "source": [
    "I have plotted a scatter plot of HP1Beta vs DAPI signals for the image. "
   ]
  },
  {
   "cell_type": "code",
   "execution_count": 78,
   "metadata": {},
   "outputs": [
    {
     "data": {
      "application/vnd.plotly.v1+json": {
       "config": {
        "plotlyServerURL": "https://plot.ly"
       },
       "data": [
        {
         "hovertemplate": "nuc_hp1b_total=%{x}<br>nuc_DAPI_total=%{y}<extra></extra>",
         "legendgroup": "",
         "marker": {
          "color": "#636efa",
          "symbol": "circle"
         },
         "mode": "markers",
         "name": "",
         "orientation": "v",
         "showlegend": false,
         "type": "scatter",
         "x": [
          1415176456,
          1062142355,
          1717888309,
          1615430949,
          1324749231,
          1714077576,
          1191923333,
          1211214094,
          1277072106,
          1097188499,
          973161231,
          1037943440,
          1029175455,
          1209364395,
          1158953361,
          1173785581,
          681399751,
          558483002,
          853093831,
          888897519,
          758197622,
          1265744848,
          1463649414,
          1237266966,
          1696563856,
          1378528661,
          1396170491,
          1530164002,
          1195347121,
          913134635,
          993652948,
          1001340942,
          1173385274,
          1113615572,
          1145110342,
          1283371694,
          1343360818,
          1448302163,
          1148851423,
          1381563232,
          1488292151,
          1166747568,
          1225997936,
          1256445798,
          1216595545,
          1241376448,
          1373778172,
          1366058827,
          1190436168,
          1550687420,
          1610488087,
          1173184677,
          921876365,
          1576334274,
          1415310339,
          1456040879,
          906539377,
          1543312364,
          1171062065,
          1102791118,
          1087501285,
          1039684362,
          1289402965,
          1112277747,
          1091430276,
          1726071023,
          1315233483,
          947351290,
          1214316203,
          1546695091,
          1146060292,
          1204103518,
          1194918358,
          1348996525,
          1191369776,
          1444674111,
          1257585843,
          1285848168,
          1340250687,
          1195005979,
          1125390289,
          1245353734,
          1507409486,
          1075397256,
          1130024369,
          1244908544,
          896903168,
          1490584448,
          1375993088,
          1156112640,
          1531300864,
          1022254592,
          980470400,
          1102612992,
          923455296,
          837296128,
          895764736,
          886496768,
          966821056,
          959146688,
          1000509696,
          599771072,
          521385984,
          802193536,
          784634752,
          575635840,
          1061375552,
          1163158528,
          983669504,
          1411369088,
          1224386944,
          1160896256,
          1327687040,
          993367808,
          718964992,
          761701248,
          772259456,
          952942336,
          877671808,
          984798080,
          1073019392,
          1126791936,
          1272397440,
          952457600,
          1160863616,
          1242480896,
          975942656,
          1065835648,
          1052820800,
          991145152,
          1012074496,
          1137992064,
          1124828800,
          988864128,
          1363593984,
          1363842176,
          948239744,
          763153280,
          1371692288,
          1195065600,
          1199473536,
          769624640,
          1316710528,
          1015242752,
          884204288,
          879721472,
          859020032,
          992768320,
          980168832,
          924821504,
          1495159808,
          1010576256,
          797291136,
          1000736128,
          1327572736,
          963110656,
          995552000,
          971545344,
          1119171840,
          1007873792,
          1239251968,
          1071403712,
          1100342528,
          1120102144,
          1003937408,
          963486464,
          1048548992,
          1247758592,
          913834496,
          960821440
         ],
         "xaxis": "x",
         "y": [
          3088375159,
          3611369977,
          3625095001,
          3570247066,
          3147509958,
          3378548945,
          2923384353,
          3344663811,
          3227832815,
          3213760479,
          2885202778,
          3089373157,
          2979182877,
          3161099817,
          3199897853,
          3032277075,
          2995286416,
          3098697577,
          2832325399,
          2859515883,
          6647548957,
          3394414539,
          3322168819,
          3426757252,
          3647825322,
          3231013733,
          3253641549,
          3682307778,
          3784950126,
          3344336593,
          3214182181,
          3676914130,
          3310328322,
          3320117606,
          3344456067,
          3453909672,
          3205615396,
          3323685213,
          3363624534,
          3189098923,
          2715918942,
          2815071256,
          3460061049,
          3476947940,
          3141893074,
          3171183035,
          3065068125,
          2962041948,
          3211082294,
          3368731733,
          3174565322,
          3512575304,
          2876585677,
          3070748993,
          3066416568,
          3224779147,
          3048925237,
          3236246900,
          3316008632,
          3113409692,
          3199736877,
          3228090029,
          3383590272,
          3079301614,
          3056541345,
          5635948571,
          3506967847,
          3582550269,
          3449396757,
          3466822637,
          3236398089,
          3152656045,
          3385040436,
          3461523063,
          3133467588,
          3420869493,
          3413290958,
          3260093836,
          3464828190,
          3276783405,
          3230090712,
          3315408282,
          3549209167,
          3389639959,
          3448846449,
          2935973376,
          3419361792,
          3400377856,
          3295865088,
          2974883840,
          3208134656,
          2770238464,
          3104598784,
          3056872704,
          3034283520,
          2732200192,
          2946208768,
          2822784000,
          2910202624,
          3000245248,
          2869997312,
          2992295424,
          3142890496,
          2815070720,
          2774775808,
          6460618752,
          3189353472,
          3020176896,
          3135050496,
          3445152512,
          3092783872,
          3038028032,
          3472676864,
          3557138432,
          3121594368,
          2970144256,
          3390891776,
          3110703104,
          3071695360,
          3174412800,
          3242580992,
          2986474496,
          3146931712,
          3156479744,
          2951081472,
          2503778304,
          2650039808,
          3304785152,
          3234520064,
          2898551808,
          2935529216,
          2848947712,
          2751730688,
          3011889408,
          3196598784,
          2937800704,
          3269794816,
          2709134848,
          2900048896,
          2859552768,
          2968383232,
          2895769856,
          3026621952,
          3158911488,
          2905231616,
          2990374912,
          3039674112,
          3083364608,
          2953350144,
          2895618560,
          5394508800,
          3179332096,
          3395058176,
          3220926208,
          3246143744,
          3053016320,
          2930622464,
          3175784704,
          3206696960,
          2957081088,
          3221053696,
          3236933888,
          3078162944,
          3248369664,
          3096286208,
          3068832768,
          3125555456,
          3283734528,
          3217584384,
          3284574464
         ],
         "yaxis": "y"
        }
       ],
       "layout": {
        "legend": {
         "tracegroupgap": 0
        },
        "margin": {
         "t": 60
        },
        "template": {
         "data": {
          "bar": [
           {
            "error_x": {
             "color": "#2a3f5f"
            },
            "error_y": {
             "color": "#2a3f5f"
            },
            "marker": {
             "line": {
              "color": "#E5ECF6",
              "width": 0.5
             }
            },
            "type": "bar"
           }
          ],
          "barpolar": [
           {
            "marker": {
             "line": {
              "color": "#E5ECF6",
              "width": 0.5
             }
            },
            "type": "barpolar"
           }
          ],
          "carpet": [
           {
            "aaxis": {
             "endlinecolor": "#2a3f5f",
             "gridcolor": "white",
             "linecolor": "white",
             "minorgridcolor": "white",
             "startlinecolor": "#2a3f5f"
            },
            "baxis": {
             "endlinecolor": "#2a3f5f",
             "gridcolor": "white",
             "linecolor": "white",
             "minorgridcolor": "white",
             "startlinecolor": "#2a3f5f"
            },
            "type": "carpet"
           }
          ],
          "choropleth": [
           {
            "colorbar": {
             "outlinewidth": 0,
             "ticks": ""
            },
            "type": "choropleth"
           }
          ],
          "contour": [
           {
            "colorbar": {
             "outlinewidth": 0,
             "ticks": ""
            },
            "colorscale": [
             [
              0,
              "#0d0887"
             ],
             [
              0.1111111111111111,
              "#46039f"
             ],
             [
              0.2222222222222222,
              "#7201a8"
             ],
             [
              0.3333333333333333,
              "#9c179e"
             ],
             [
              0.4444444444444444,
              "#bd3786"
             ],
             [
              0.5555555555555556,
              "#d8576b"
             ],
             [
              0.6666666666666666,
              "#ed7953"
             ],
             [
              0.7777777777777778,
              "#fb9f3a"
             ],
             [
              0.8888888888888888,
              "#fdca26"
             ],
             [
              1,
              "#f0f921"
             ]
            ],
            "type": "contour"
           }
          ],
          "contourcarpet": [
           {
            "colorbar": {
             "outlinewidth": 0,
             "ticks": ""
            },
            "type": "contourcarpet"
           }
          ],
          "heatmap": [
           {
            "colorbar": {
             "outlinewidth": 0,
             "ticks": ""
            },
            "colorscale": [
             [
              0,
              "#0d0887"
             ],
             [
              0.1111111111111111,
              "#46039f"
             ],
             [
              0.2222222222222222,
              "#7201a8"
             ],
             [
              0.3333333333333333,
              "#9c179e"
             ],
             [
              0.4444444444444444,
              "#bd3786"
             ],
             [
              0.5555555555555556,
              "#d8576b"
             ],
             [
              0.6666666666666666,
              "#ed7953"
             ],
             [
              0.7777777777777778,
              "#fb9f3a"
             ],
             [
              0.8888888888888888,
              "#fdca26"
             ],
             [
              1,
              "#f0f921"
             ]
            ],
            "type": "heatmap"
           }
          ],
          "heatmapgl": [
           {
            "colorbar": {
             "outlinewidth": 0,
             "ticks": ""
            },
            "colorscale": [
             [
              0,
              "#0d0887"
             ],
             [
              0.1111111111111111,
              "#46039f"
             ],
             [
              0.2222222222222222,
              "#7201a8"
             ],
             [
              0.3333333333333333,
              "#9c179e"
             ],
             [
              0.4444444444444444,
              "#bd3786"
             ],
             [
              0.5555555555555556,
              "#d8576b"
             ],
             [
              0.6666666666666666,
              "#ed7953"
             ],
             [
              0.7777777777777778,
              "#fb9f3a"
             ],
             [
              0.8888888888888888,
              "#fdca26"
             ],
             [
              1,
              "#f0f921"
             ]
            ],
            "type": "heatmapgl"
           }
          ],
          "histogram": [
           {
            "marker": {
             "colorbar": {
              "outlinewidth": 0,
              "ticks": ""
             }
            },
            "type": "histogram"
           }
          ],
          "histogram2d": [
           {
            "colorbar": {
             "outlinewidth": 0,
             "ticks": ""
            },
            "colorscale": [
             [
              0,
              "#0d0887"
             ],
             [
              0.1111111111111111,
              "#46039f"
             ],
             [
              0.2222222222222222,
              "#7201a8"
             ],
             [
              0.3333333333333333,
              "#9c179e"
             ],
             [
              0.4444444444444444,
              "#bd3786"
             ],
             [
              0.5555555555555556,
              "#d8576b"
             ],
             [
              0.6666666666666666,
              "#ed7953"
             ],
             [
              0.7777777777777778,
              "#fb9f3a"
             ],
             [
              0.8888888888888888,
              "#fdca26"
             ],
             [
              1,
              "#f0f921"
             ]
            ],
            "type": "histogram2d"
           }
          ],
          "histogram2dcontour": [
           {
            "colorbar": {
             "outlinewidth": 0,
             "ticks": ""
            },
            "colorscale": [
             [
              0,
              "#0d0887"
             ],
             [
              0.1111111111111111,
              "#46039f"
             ],
             [
              0.2222222222222222,
              "#7201a8"
             ],
             [
              0.3333333333333333,
              "#9c179e"
             ],
             [
              0.4444444444444444,
              "#bd3786"
             ],
             [
              0.5555555555555556,
              "#d8576b"
             ],
             [
              0.6666666666666666,
              "#ed7953"
             ],
             [
              0.7777777777777778,
              "#fb9f3a"
             ],
             [
              0.8888888888888888,
              "#fdca26"
             ],
             [
              1,
              "#f0f921"
             ]
            ],
            "type": "histogram2dcontour"
           }
          ],
          "mesh3d": [
           {
            "colorbar": {
             "outlinewidth": 0,
             "ticks": ""
            },
            "type": "mesh3d"
           }
          ],
          "parcoords": [
           {
            "line": {
             "colorbar": {
              "outlinewidth": 0,
              "ticks": ""
             }
            },
            "type": "parcoords"
           }
          ],
          "pie": [
           {
            "automargin": true,
            "type": "pie"
           }
          ],
          "scatter": [
           {
            "marker": {
             "colorbar": {
              "outlinewidth": 0,
              "ticks": ""
             }
            },
            "type": "scatter"
           }
          ],
          "scatter3d": [
           {
            "line": {
             "colorbar": {
              "outlinewidth": 0,
              "ticks": ""
             }
            },
            "marker": {
             "colorbar": {
              "outlinewidth": 0,
              "ticks": ""
             }
            },
            "type": "scatter3d"
           }
          ],
          "scattercarpet": [
           {
            "marker": {
             "colorbar": {
              "outlinewidth": 0,
              "ticks": ""
             }
            },
            "type": "scattercarpet"
           }
          ],
          "scattergeo": [
           {
            "marker": {
             "colorbar": {
              "outlinewidth": 0,
              "ticks": ""
             }
            },
            "type": "scattergeo"
           }
          ],
          "scattergl": [
           {
            "marker": {
             "colorbar": {
              "outlinewidth": 0,
              "ticks": ""
             }
            },
            "type": "scattergl"
           }
          ],
          "scattermapbox": [
           {
            "marker": {
             "colorbar": {
              "outlinewidth": 0,
              "ticks": ""
             }
            },
            "type": "scattermapbox"
           }
          ],
          "scatterpolar": [
           {
            "marker": {
             "colorbar": {
              "outlinewidth": 0,
              "ticks": ""
             }
            },
            "type": "scatterpolar"
           }
          ],
          "scatterpolargl": [
           {
            "marker": {
             "colorbar": {
              "outlinewidth": 0,
              "ticks": ""
             }
            },
            "type": "scatterpolargl"
           }
          ],
          "scatterternary": [
           {
            "marker": {
             "colorbar": {
              "outlinewidth": 0,
              "ticks": ""
             }
            },
            "type": "scatterternary"
           }
          ],
          "surface": [
           {
            "colorbar": {
             "outlinewidth": 0,
             "ticks": ""
            },
            "colorscale": [
             [
              0,
              "#0d0887"
             ],
             [
              0.1111111111111111,
              "#46039f"
             ],
             [
              0.2222222222222222,
              "#7201a8"
             ],
             [
              0.3333333333333333,
              "#9c179e"
             ],
             [
              0.4444444444444444,
              "#bd3786"
             ],
             [
              0.5555555555555556,
              "#d8576b"
             ],
             [
              0.6666666666666666,
              "#ed7953"
             ],
             [
              0.7777777777777778,
              "#fb9f3a"
             ],
             [
              0.8888888888888888,
              "#fdca26"
             ],
             [
              1,
              "#f0f921"
             ]
            ],
            "type": "surface"
           }
          ],
          "table": [
           {
            "cells": {
             "fill": {
              "color": "#EBF0F8"
             },
             "line": {
              "color": "white"
             }
            },
            "header": {
             "fill": {
              "color": "#C8D4E3"
             },
             "line": {
              "color": "white"
             }
            },
            "type": "table"
           }
          ]
         },
         "layout": {
          "annotationdefaults": {
           "arrowcolor": "#2a3f5f",
           "arrowhead": 0,
           "arrowwidth": 1
          },
          "coloraxis": {
           "colorbar": {
            "outlinewidth": 0,
            "ticks": ""
           }
          },
          "colorscale": {
           "diverging": [
            [
             0,
             "#8e0152"
            ],
            [
             0.1,
             "#c51b7d"
            ],
            [
             0.2,
             "#de77ae"
            ],
            [
             0.3,
             "#f1b6da"
            ],
            [
             0.4,
             "#fde0ef"
            ],
            [
             0.5,
             "#f7f7f7"
            ],
            [
             0.6,
             "#e6f5d0"
            ],
            [
             0.7,
             "#b8e186"
            ],
            [
             0.8,
             "#7fbc41"
            ],
            [
             0.9,
             "#4d9221"
            ],
            [
             1,
             "#276419"
            ]
           ],
           "sequential": [
            [
             0,
             "#0d0887"
            ],
            [
             0.1111111111111111,
             "#46039f"
            ],
            [
             0.2222222222222222,
             "#7201a8"
            ],
            [
             0.3333333333333333,
             "#9c179e"
            ],
            [
             0.4444444444444444,
             "#bd3786"
            ],
            [
             0.5555555555555556,
             "#d8576b"
            ],
            [
             0.6666666666666666,
             "#ed7953"
            ],
            [
             0.7777777777777778,
             "#fb9f3a"
            ],
            [
             0.8888888888888888,
             "#fdca26"
            ],
            [
             1,
             "#f0f921"
            ]
           ],
           "sequentialminus": [
            [
             0,
             "#0d0887"
            ],
            [
             0.1111111111111111,
             "#46039f"
            ],
            [
             0.2222222222222222,
             "#7201a8"
            ],
            [
             0.3333333333333333,
             "#9c179e"
            ],
            [
             0.4444444444444444,
             "#bd3786"
            ],
            [
             0.5555555555555556,
             "#d8576b"
            ],
            [
             0.6666666666666666,
             "#ed7953"
            ],
            [
             0.7777777777777778,
             "#fb9f3a"
            ],
            [
             0.8888888888888888,
             "#fdca26"
            ],
            [
             1,
             "#f0f921"
            ]
           ]
          },
          "colorway": [
           "#636efa",
           "#EF553B",
           "#00cc96",
           "#ab63fa",
           "#FFA15A",
           "#19d3f3",
           "#FF6692",
           "#B6E880",
           "#FF97FF",
           "#FECB52"
          ],
          "font": {
           "color": "#2a3f5f"
          },
          "geo": {
           "bgcolor": "white",
           "lakecolor": "white",
           "landcolor": "#E5ECF6",
           "showlakes": true,
           "showland": true,
           "subunitcolor": "white"
          },
          "hoverlabel": {
           "align": "left"
          },
          "hovermode": "closest",
          "mapbox": {
           "style": "light"
          },
          "paper_bgcolor": "white",
          "plot_bgcolor": "#E5ECF6",
          "polar": {
           "angularaxis": {
            "gridcolor": "white",
            "linecolor": "white",
            "ticks": ""
           },
           "bgcolor": "#E5ECF6",
           "radialaxis": {
            "gridcolor": "white",
            "linecolor": "white",
            "ticks": ""
           }
          },
          "scene": {
           "xaxis": {
            "backgroundcolor": "#E5ECF6",
            "gridcolor": "white",
            "gridwidth": 2,
            "linecolor": "white",
            "showbackground": true,
            "ticks": "",
            "zerolinecolor": "white"
           },
           "yaxis": {
            "backgroundcolor": "#E5ECF6",
            "gridcolor": "white",
            "gridwidth": 2,
            "linecolor": "white",
            "showbackground": true,
            "ticks": "",
            "zerolinecolor": "white"
           },
           "zaxis": {
            "backgroundcolor": "#E5ECF6",
            "gridcolor": "white",
            "gridwidth": 2,
            "linecolor": "white",
            "showbackground": true,
            "ticks": "",
            "zerolinecolor": "white"
           }
          },
          "shapedefaults": {
           "line": {
            "color": "#2a3f5f"
           }
          },
          "ternary": {
           "aaxis": {
            "gridcolor": "white",
            "linecolor": "white",
            "ticks": ""
           },
           "baxis": {
            "gridcolor": "white",
            "linecolor": "white",
            "ticks": ""
           },
           "bgcolor": "#E5ECF6",
           "caxis": {
            "gridcolor": "white",
            "linecolor": "white",
            "ticks": ""
           }
          },
          "title": {
           "x": 0.05
          },
          "xaxis": {
           "automargin": true,
           "gridcolor": "white",
           "linecolor": "white",
           "ticks": "",
           "title": {
            "standoff": 15
           },
           "zerolinecolor": "white",
           "zerolinewidth": 2
          },
          "yaxis": {
           "automargin": true,
           "gridcolor": "white",
           "linecolor": "white",
           "ticks": "",
           "title": {
            "standoff": 15
           },
           "zerolinecolor": "white",
           "zerolinewidth": 2
          }
         }
        },
        "xaxis": {
         "anchor": "y",
         "domain": [
          0,
          1
         ],
         "title": {
          "text": "nuc_hp1b_total"
         }
        },
        "yaxis": {
         "anchor": "x",
         "domain": [
          0,
          1
         ],
         "title": {
          "text": "nuc_DAPI_total"
         }
        }
       }
      },
      "text/html": [
       "<div>\n",
       "        \n",
       "        \n",
       "            <div id=\"1f4bb7ed-b38e-4175-a24f-d8c1d06b2883\" class=\"plotly-graph-div\" style=\"height:525px; width:100%;\"></div>\n",
       "            <script type=\"text/javascript\">\n",
       "                require([\"plotly\"], function(Plotly) {\n",
       "                    window.PLOTLYENV=window.PLOTLYENV || {};\n",
       "                    \n",
       "                if (document.getElementById(\"1f4bb7ed-b38e-4175-a24f-d8c1d06b2883\")) {\n",
       "                    Plotly.newPlot(\n",
       "                        '1f4bb7ed-b38e-4175-a24f-d8c1d06b2883',\n",
       "                        [{\"hovertemplate\": \"nuc_hp1b_total=%{x}<br>nuc_DAPI_total=%{y}<extra></extra>\", \"legendgroup\": \"\", \"marker\": {\"color\": \"#636efa\", \"symbol\": \"circle\"}, \"mode\": \"markers\", \"name\": \"\", \"orientation\": \"v\", \"showlegend\": false, \"type\": \"scatter\", \"x\": [1415176456.0, 1062142355.0, 1717888309.0, 1615430949.0, 1324749231.0, 1714077576.0, 1191923333.0, 1211214094.0, 1277072106.0, 1097188499.0, 973161231.0, 1037943440.0, 1029175455.0, 1209364395.0, 1158953361.0, 1173785581.0, 681399751.0, 558483002.0, 853093831.0, 888897519.0, 758197622.0, 1265744848.0, 1463649414.0, 1237266966.0, 1696563856.0, 1378528661.0, 1396170491.0, 1530164002.0, 1195347121.0, 913134635.0, 993652948.0, 1001340942.0, 1173385274.0, 1113615572.0, 1145110342.0, 1283371694.0, 1343360818.0, 1448302163.0, 1148851423.0, 1381563232.0, 1488292151.0, 1166747568.0, 1225997936.0, 1256445798.0, 1216595545.0, 1241376448.0, 1373778172.0, 1366058827.0, 1190436168.0, 1550687420.0, 1610488087.0, 1173184677.0, 921876365.0, 1576334274.0, 1415310339.0, 1456040879.0, 906539377.0, 1543312364.0, 1171062065.0, 1102791118.0, 1087501285.0, 1039684362.0, 1289402965.0, 1112277747.0, 1091430276.0, 1726071023.0, 1315233483.0, 947351290.0, 1214316203.0, 1546695091.0, 1146060292.0, 1204103518.0, 1194918358.0, 1348996525.0, 1191369776.0, 1444674111.0, 1257585843.0, 1285848168.0, 1340250687.0, 1195005979.0, 1125390289.0, 1245353734.0, 1507409486.0, 1075397256.0, 1130024369.0, 1244908544.0, 896903168.0, 1490584448.0, 1375993088.0, 1156112640.0, 1531300864.0, 1022254592.0, 980470400.0, 1102612992.0, 923455296.0, 837296128.0, 895764736.0, 886496768.0, 966821056.0, 959146688.0, 1000509696.0, 599771072.0, 521385984.0, 802193536.0, 784634752.0, 575635840.0, 1061375552.0, 1163158528.0, 983669504.0, 1411369088.0, 1224386944.0, 1160896256.0, 1327687040.0, 993367808.0, 718964992.0, 761701248.0, 772259456.0, 952942336.0, 877671808.0, 984798080.0, 1073019392.0, 1126791936.0, 1272397440.0, 952457600.0, 1160863616.0, 1242480896.0, 975942656.0, 1065835648.0, 1052820800.0, 991145152.0, 1012074496.0, 1137992064.0, 1124828800.0, 988864128.0, 1363593984.0, 1363842176.0, 948239744.0, 763153280.0, 1371692288.0, 1195065600.0, 1199473536.0, 769624640.0, 1316710528.0, 1015242752.0, 884204288.0, 879721472.0, 859020032.0, 992768320.0, 980168832.0, 924821504.0, 1495159808.0, 1010576256.0, 797291136.0, 1000736128.0, 1327572736.0, 963110656.0, 995552000.0, 971545344.0, 1119171840.0, 1007873792.0, 1239251968.0, 1071403712.0, 1100342528.0, 1120102144.0, 1003937408.0, 963486464.0, 1048548992.0, 1247758592.0, 913834496.0, 960821440.0], \"xaxis\": \"x\", \"y\": [3088375159.0, 3611369977.0, 3625095001.0, 3570247066.0, 3147509958.0, 3378548945.0, 2923384353.0, 3344663811.0, 3227832815.0, 3213760479.0, 2885202778.0, 3089373157.0, 2979182877.0, 3161099817.0, 3199897853.0, 3032277075.0, 2995286416.0, 3098697577.0, 2832325399.0, 2859515883.0, 6647548957.0, 3394414539.0, 3322168819.0, 3426757252.0, 3647825322.0, 3231013733.0, 3253641549.0, 3682307778.0, 3784950126.0, 3344336593.0, 3214182181.0, 3676914130.0, 3310328322.0, 3320117606.0, 3344456067.0, 3453909672.0, 3205615396.0, 3323685213.0, 3363624534.0, 3189098923.0, 2715918942.0, 2815071256.0, 3460061049.0, 3476947940.0, 3141893074.0, 3171183035.0, 3065068125.0, 2962041948.0, 3211082294.0, 3368731733.0, 3174565322.0, 3512575304.0, 2876585677.0, 3070748993.0, 3066416568.0, 3224779147.0, 3048925237.0, 3236246900.0, 3316008632.0, 3113409692.0, 3199736877.0, 3228090029.0, 3383590272.0, 3079301614.0, 3056541345.0, 5635948571.0, 3506967847.0, 3582550269.0, 3449396757.0, 3466822637.0, 3236398089.0, 3152656045.0, 3385040436.0, 3461523063.0, 3133467588.0, 3420869493.0, 3413290958.0, 3260093836.0, 3464828190.0, 3276783405.0, 3230090712.0, 3315408282.0, 3549209167.0, 3389639959.0, 3448846449.0, 2935973376.0, 3419361792.0, 3400377856.0, 3295865088.0, 2974883840.0, 3208134656.0, 2770238464.0, 3104598784.0, 3056872704.0, 3034283520.0, 2732200192.0, 2946208768.0, 2822784000.0, 2910202624.0, 3000245248.0, 2869997312.0, 2992295424.0, 3142890496.0, 2815070720.0, 2774775808.0, 6460618752.0, 3189353472.0, 3020176896.0, 3135050496.0, 3445152512.0, 3092783872.0, 3038028032.0, 3472676864.0, 3557138432.0, 3121594368.0, 2970144256.0, 3390891776.0, 3110703104.0, 3071695360.0, 3174412800.0, 3242580992.0, 2986474496.0, 3146931712.0, 3156479744.0, 2951081472.0, 2503778304.0, 2650039808.0, 3304785152.0, 3234520064.0, 2898551808.0, 2935529216.0, 2848947712.0, 2751730688.0, 3011889408.0, 3196598784.0, 2937800704.0, 3269794816.0, 2709134848.0, 2900048896.0, 2859552768.0, 2968383232.0, 2895769856.0, 3026621952.0, 3158911488.0, 2905231616.0, 2990374912.0, 3039674112.0, 3083364608.0, 2953350144.0, 2895618560.0, 5394508800.0, 3179332096.0, 3395058176.0, 3220926208.0, 3246143744.0, 3053016320.0, 2930622464.0, 3175784704.0, 3206696960.0, 2957081088.0, 3221053696.0, 3236933888.0, 3078162944.0, 3248369664.0, 3096286208.0, 3068832768.0, 3125555456.0, 3283734528.0, 3217584384.0, 3284574464.0], \"yaxis\": \"y\"}],\n",
       "                        {\"legend\": {\"tracegroupgap\": 0}, \"margin\": {\"t\": 60}, \"template\": {\"data\": {\"bar\": [{\"error_x\": {\"color\": \"#2a3f5f\"}, \"error_y\": {\"color\": \"#2a3f5f\"}, \"marker\": {\"line\": {\"color\": \"#E5ECF6\", \"width\": 0.5}}, \"type\": \"bar\"}], \"barpolar\": [{\"marker\": {\"line\": {\"color\": \"#E5ECF6\", \"width\": 0.5}}, \"type\": \"barpolar\"}], \"carpet\": [{\"aaxis\": {\"endlinecolor\": \"#2a3f5f\", \"gridcolor\": \"white\", \"linecolor\": \"white\", \"minorgridcolor\": \"white\", \"startlinecolor\": \"#2a3f5f\"}, \"baxis\": {\"endlinecolor\": \"#2a3f5f\", \"gridcolor\": \"white\", \"linecolor\": \"white\", \"minorgridcolor\": \"white\", \"startlinecolor\": \"#2a3f5f\"}, \"type\": \"carpet\"}], \"choropleth\": [{\"colorbar\": {\"outlinewidth\": 0, \"ticks\": \"\"}, \"type\": \"choropleth\"}], \"contour\": [{\"colorbar\": {\"outlinewidth\": 0, \"ticks\": \"\"}, \"colorscale\": [[0.0, \"#0d0887\"], [0.1111111111111111, \"#46039f\"], [0.2222222222222222, \"#7201a8\"], [0.3333333333333333, \"#9c179e\"], [0.4444444444444444, \"#bd3786\"], [0.5555555555555556, \"#d8576b\"], [0.6666666666666666, \"#ed7953\"], [0.7777777777777778, \"#fb9f3a\"], [0.8888888888888888, \"#fdca26\"], [1.0, \"#f0f921\"]], \"type\": \"contour\"}], \"contourcarpet\": [{\"colorbar\": {\"outlinewidth\": 0, \"ticks\": \"\"}, \"type\": \"contourcarpet\"}], \"heatmap\": [{\"colorbar\": {\"outlinewidth\": 0, \"ticks\": \"\"}, \"colorscale\": [[0.0, \"#0d0887\"], [0.1111111111111111, \"#46039f\"], [0.2222222222222222, \"#7201a8\"], [0.3333333333333333, \"#9c179e\"], [0.4444444444444444, \"#bd3786\"], [0.5555555555555556, \"#d8576b\"], [0.6666666666666666, \"#ed7953\"], [0.7777777777777778, \"#fb9f3a\"], [0.8888888888888888, \"#fdca26\"], [1.0, \"#f0f921\"]], \"type\": \"heatmap\"}], \"heatmapgl\": [{\"colorbar\": {\"outlinewidth\": 0, \"ticks\": \"\"}, \"colorscale\": [[0.0, \"#0d0887\"], [0.1111111111111111, \"#46039f\"], [0.2222222222222222, \"#7201a8\"], [0.3333333333333333, \"#9c179e\"], [0.4444444444444444, \"#bd3786\"], [0.5555555555555556, \"#d8576b\"], [0.6666666666666666, \"#ed7953\"], [0.7777777777777778, \"#fb9f3a\"], [0.8888888888888888, \"#fdca26\"], [1.0, \"#f0f921\"]], \"type\": \"heatmapgl\"}], \"histogram\": [{\"marker\": {\"colorbar\": {\"outlinewidth\": 0, \"ticks\": \"\"}}, \"type\": \"histogram\"}], \"histogram2d\": [{\"colorbar\": {\"outlinewidth\": 0, \"ticks\": \"\"}, \"colorscale\": [[0.0, \"#0d0887\"], [0.1111111111111111, \"#46039f\"], [0.2222222222222222, \"#7201a8\"], [0.3333333333333333, \"#9c179e\"], [0.4444444444444444, \"#bd3786\"], [0.5555555555555556, \"#d8576b\"], [0.6666666666666666, \"#ed7953\"], [0.7777777777777778, \"#fb9f3a\"], [0.8888888888888888, \"#fdca26\"], [1.0, \"#f0f921\"]], \"type\": \"histogram2d\"}], \"histogram2dcontour\": [{\"colorbar\": {\"outlinewidth\": 0, \"ticks\": \"\"}, \"colorscale\": [[0.0, \"#0d0887\"], [0.1111111111111111, \"#46039f\"], [0.2222222222222222, \"#7201a8\"], [0.3333333333333333, \"#9c179e\"], [0.4444444444444444, \"#bd3786\"], [0.5555555555555556, \"#d8576b\"], [0.6666666666666666, \"#ed7953\"], [0.7777777777777778, \"#fb9f3a\"], [0.8888888888888888, \"#fdca26\"], [1.0, \"#f0f921\"]], \"type\": \"histogram2dcontour\"}], \"mesh3d\": [{\"colorbar\": {\"outlinewidth\": 0, \"ticks\": \"\"}, \"type\": \"mesh3d\"}], \"parcoords\": [{\"line\": {\"colorbar\": {\"outlinewidth\": 0, \"ticks\": \"\"}}, \"type\": \"parcoords\"}], \"pie\": [{\"automargin\": true, \"type\": \"pie\"}], \"scatter\": [{\"marker\": {\"colorbar\": {\"outlinewidth\": 0, \"ticks\": \"\"}}, \"type\": \"scatter\"}], \"scatter3d\": [{\"line\": {\"colorbar\": {\"outlinewidth\": 0, \"ticks\": \"\"}}, \"marker\": {\"colorbar\": {\"outlinewidth\": 0, \"ticks\": \"\"}}, \"type\": \"scatter3d\"}], \"scattercarpet\": [{\"marker\": {\"colorbar\": {\"outlinewidth\": 0, \"ticks\": \"\"}}, \"type\": \"scattercarpet\"}], \"scattergeo\": [{\"marker\": {\"colorbar\": {\"outlinewidth\": 0, \"ticks\": \"\"}}, \"type\": \"scattergeo\"}], \"scattergl\": [{\"marker\": {\"colorbar\": {\"outlinewidth\": 0, \"ticks\": \"\"}}, \"type\": \"scattergl\"}], \"scattermapbox\": [{\"marker\": {\"colorbar\": {\"outlinewidth\": 0, \"ticks\": \"\"}}, \"type\": \"scattermapbox\"}], \"scatterpolar\": [{\"marker\": {\"colorbar\": {\"outlinewidth\": 0, \"ticks\": \"\"}}, \"type\": \"scatterpolar\"}], \"scatterpolargl\": [{\"marker\": {\"colorbar\": {\"outlinewidth\": 0, \"ticks\": \"\"}}, \"type\": \"scatterpolargl\"}], \"scatterternary\": [{\"marker\": {\"colorbar\": {\"outlinewidth\": 0, \"ticks\": \"\"}}, \"type\": \"scatterternary\"}], \"surface\": [{\"colorbar\": {\"outlinewidth\": 0, \"ticks\": \"\"}, \"colorscale\": [[0.0, \"#0d0887\"], [0.1111111111111111, \"#46039f\"], [0.2222222222222222, \"#7201a8\"], [0.3333333333333333, \"#9c179e\"], [0.4444444444444444, \"#bd3786\"], [0.5555555555555556, \"#d8576b\"], [0.6666666666666666, \"#ed7953\"], [0.7777777777777778, \"#fb9f3a\"], [0.8888888888888888, \"#fdca26\"], [1.0, \"#f0f921\"]], \"type\": \"surface\"}], \"table\": [{\"cells\": {\"fill\": {\"color\": \"#EBF0F8\"}, \"line\": {\"color\": \"white\"}}, \"header\": {\"fill\": {\"color\": \"#C8D4E3\"}, \"line\": {\"color\": \"white\"}}, \"type\": \"table\"}]}, \"layout\": {\"annotationdefaults\": {\"arrowcolor\": \"#2a3f5f\", \"arrowhead\": 0, \"arrowwidth\": 1}, \"coloraxis\": {\"colorbar\": {\"outlinewidth\": 0, \"ticks\": \"\"}}, \"colorscale\": {\"diverging\": [[0, \"#8e0152\"], [0.1, \"#c51b7d\"], [0.2, \"#de77ae\"], [0.3, \"#f1b6da\"], [0.4, \"#fde0ef\"], [0.5, \"#f7f7f7\"], [0.6, \"#e6f5d0\"], [0.7, \"#b8e186\"], [0.8, \"#7fbc41\"], [0.9, \"#4d9221\"], [1, \"#276419\"]], \"sequential\": [[0.0, \"#0d0887\"], [0.1111111111111111, \"#46039f\"], [0.2222222222222222, \"#7201a8\"], [0.3333333333333333, \"#9c179e\"], [0.4444444444444444, \"#bd3786\"], [0.5555555555555556, \"#d8576b\"], [0.6666666666666666, \"#ed7953\"], [0.7777777777777778, \"#fb9f3a\"], [0.8888888888888888, \"#fdca26\"], [1.0, \"#f0f921\"]], \"sequentialminus\": [[0.0, \"#0d0887\"], [0.1111111111111111, \"#46039f\"], [0.2222222222222222, \"#7201a8\"], [0.3333333333333333, \"#9c179e\"], [0.4444444444444444, \"#bd3786\"], [0.5555555555555556, \"#d8576b\"], [0.6666666666666666, \"#ed7953\"], [0.7777777777777778, \"#fb9f3a\"], [0.8888888888888888, \"#fdca26\"], [1.0, \"#f0f921\"]]}, \"colorway\": [\"#636efa\", \"#EF553B\", \"#00cc96\", \"#ab63fa\", \"#FFA15A\", \"#19d3f3\", \"#FF6692\", \"#B6E880\", \"#FF97FF\", \"#FECB52\"], \"font\": {\"color\": \"#2a3f5f\"}, \"geo\": {\"bgcolor\": \"white\", \"lakecolor\": \"white\", \"landcolor\": \"#E5ECF6\", \"showlakes\": true, \"showland\": true, \"subunitcolor\": \"white\"}, \"hoverlabel\": {\"align\": \"left\"}, \"hovermode\": \"closest\", \"mapbox\": {\"style\": \"light\"}, \"paper_bgcolor\": \"white\", \"plot_bgcolor\": \"#E5ECF6\", \"polar\": {\"angularaxis\": {\"gridcolor\": \"white\", \"linecolor\": \"white\", \"ticks\": \"\"}, \"bgcolor\": \"#E5ECF6\", \"radialaxis\": {\"gridcolor\": \"white\", \"linecolor\": \"white\", \"ticks\": \"\"}}, \"scene\": {\"xaxis\": {\"backgroundcolor\": \"#E5ECF6\", \"gridcolor\": \"white\", \"gridwidth\": 2, \"linecolor\": \"white\", \"showbackground\": true, \"ticks\": \"\", \"zerolinecolor\": \"white\"}, \"yaxis\": {\"backgroundcolor\": \"#E5ECF6\", \"gridcolor\": \"white\", \"gridwidth\": 2, \"linecolor\": \"white\", \"showbackground\": true, \"ticks\": \"\", \"zerolinecolor\": \"white\"}, \"zaxis\": {\"backgroundcolor\": \"#E5ECF6\", \"gridcolor\": \"white\", \"gridwidth\": 2, \"linecolor\": \"white\", \"showbackground\": true, \"ticks\": \"\", \"zerolinecolor\": \"white\"}}, \"shapedefaults\": {\"line\": {\"color\": \"#2a3f5f\"}}, \"ternary\": {\"aaxis\": {\"gridcolor\": \"white\", \"linecolor\": \"white\", \"ticks\": \"\"}, \"baxis\": {\"gridcolor\": \"white\", \"linecolor\": \"white\", \"ticks\": \"\"}, \"bgcolor\": \"#E5ECF6\", \"caxis\": {\"gridcolor\": \"white\", \"linecolor\": \"white\", \"ticks\": \"\"}}, \"title\": {\"x\": 0.05}, \"xaxis\": {\"automargin\": true, \"gridcolor\": \"white\", \"linecolor\": \"white\", \"ticks\": \"\", \"title\": {\"standoff\": 15}, \"zerolinecolor\": \"white\", \"zerolinewidth\": 2}, \"yaxis\": {\"automargin\": true, \"gridcolor\": \"white\", \"linecolor\": \"white\", \"ticks\": \"\", \"title\": {\"standoff\": 15}, \"zerolinecolor\": \"white\", \"zerolinewidth\": 2}}}, \"xaxis\": {\"anchor\": \"y\", \"domain\": [0.0, 1.0], \"title\": {\"text\": \"nuc_hp1b_total\"}}, \"yaxis\": {\"anchor\": \"x\", \"domain\": [0.0, 1.0], \"title\": {\"text\": \"nuc_DAPI_total\"}}},\n",
       "                        {\"responsive\": true}\n",
       "                    ).then(function(){\n",
       "                            \n",
       "var gd = document.getElementById('1f4bb7ed-b38e-4175-a24f-d8c1d06b2883');\n",
       "var x = new MutationObserver(function (mutations, observer) {{\n",
       "        var display = window.getComputedStyle(gd).display;\n",
       "        if (!display || display === 'none') {{\n",
       "            console.log([gd, 'removed!']);\n",
       "            Plotly.purge(gd);\n",
       "            observer.disconnect();\n",
       "        }}\n",
       "}});\n",
       "\n",
       "// Listen for the removal of the full notebook cells\n",
       "var notebookContainer = gd.closest('#notebook-container');\n",
       "if (notebookContainer) {{\n",
       "    x.observe(notebookContainer, {childList: true});\n",
       "}}\n",
       "\n",
       "// Listen for the clearing of the current output cell\n",
       "var outputEl = gd.closest('.output');\n",
       "if (outputEl) {{\n",
       "    x.observe(outputEl, {childList: true});\n",
       "}}\n",
       "\n",
       "                        })\n",
       "                };\n",
       "                });\n",
       "            </script>\n",
       "        </div>"
      ]
     },
     "metadata": {},
     "output_type": "display_data"
    }
   ],
   "source": [
    "px.scatter(newdata.loc[('G1' in x for x in newdata.category),:], 'nuc_hp1b_total','nuc_DAPI_total')"
   ]
  },
  {
   "cell_type": "code",
   "execution_count": 79,
   "metadata": {},
   "outputs": [
    {
     "data": {
      "application/vnd.plotly.v1+json": {
       "config": {
        "plotlyServerURL": "https://plot.ly"
       },
       "data": [
        {
         "hovertemplate": "nuc_hp1b_total=%{x}<br>nuc_DAPI_total=%{y}<extra></extra>",
         "legendgroup": "",
         "marker": {
          "color": "#636efa",
          "symbol": "circle"
         },
         "mode": "markers",
         "name": "",
         "orientation": "v",
         "showlegend": false,
         "type": "scatter",
         "x": [
          2693841525,
          2172379544,
          2334174130,
          2112534479,
          2008106579,
          2360343354,
          2292377397,
          2211104088,
          1895837238,
          1658557280,
          2158952339,
          2013209952,
          1912245803,
          2366099315,
          1678614873,
          2763165608,
          1816503406,
          2343924748,
          2371226778,
          1848067367,
          2389314765,
          2606173701,
          1356255869,
          1631882515,
          1964435857,
          1541949174,
          1704906726,
          2252353650,
          2295633787,
          1872745352,
          1893163642,
          1899637982,
          1736641834,
          1789405283,
          1639314035,
          2327924209,
          2083424762,
          1723213980,
          1694133848,
          1677291081,
          1516540229,
          1780011503,
          1622870858,
          1500971975,
          1649492411,
          1595833451,
          2347302049,
          1616686878,
          1451199952,
          1423675381,
          1346990165,
          1489642259,
          1831719546,
          1795515690,
          1985192424,
          1859565889,
          1514156719,
          1469451809,
          995903777,
          1484837423,
          1466791538,
          1641512100,
          1619918793,
          1664450013,
          1753562959,
          1989746709,
          1287304844,
          1665729210,
          1493477343,
          1877725093,
          1106107501,
          1098645035,
          1874516094,
          1815080686,
          1524046462,
          1547209790,
          1615019837,
          1549429497,
          1531916663,
          1627782215,
          1739122870,
          1412805540,
          1653576609,
          1411189442,
          1597512777,
          1812461849,
          1500209800,
          1677261618,
          1461890760,
          1731412342,
          2003326519,
          1553499030,
          1609729259,
          1828630685,
          1279403674,
          1442809701,
          1567537136,
          1535173675,
          1535372317,
          1526843871,
          1292621974,
          1467140232,
          1603816507,
          959031919,
          1644845719,
          1419906692,
          1429042299,
          1743452099,
          1200410481,
          1134195018,
          1415925376,
          1288202059,
          781229914,
          1779764474,
          1671397150,
          898453931,
          1935149897,
          1896962567,
          1978694258,
          1978694258,
          1853845117,
          1975705532,
          1605530871,
          2398108839,
          1518575447,
          2089713688,
          1648542108,
          1762500865,
          1987277955,
          1366034561,
          1890701811
         ],
         "xaxis": "x",
         "y": [
          1993299510,
          2052560718,
          2232934619,
          1963244541,
          1966780265,
          1899229311,
          2081303849,
          2303020885,
          2186080080,
          2211158025,
          2189988490,
          2016228812,
          2418668610,
          2142724360,
          2213319112,
          2304313120,
          2448579516,
          2232948436,
          2438292269,
          2735363735,
          2531330801,
          2720222383,
          2389513662,
          2047085390,
          2253109592,
          2209063439,
          2324762627,
          2500537407,
          2108557531,
          2020389309,
          2125335984,
          2529019780,
          1913322051,
          2225312993,
          2171448798,
          1901034025,
          2477358309,
          2598139393,
          2177021199,
          2643673767,
          2591316541,
          2188494558,
          2588875586,
          2214939486,
          2491841916,
          2357291708,
          2303886522,
          2458499538,
          2310858974,
          2314677736,
          1720550880,
          2301553391,
          2373254119,
          2657438605,
          2169018375,
          2396258123,
          2183805802,
          2495598732,
          2593859454,
          2341626602,
          2260610420,
          2342170389,
          2296902497,
          2409078426,
          3002121470,
          2456823074,
          2517534784,
          2283752025,
          2574507917,
          2077243203,
          2316488239,
          2280340096,
          2362042350,
          2350421446,
          2321917513,
          2459069081,
          2725305172,
          2504764977,
          2185636781,
          2369549198,
          2430284123,
          2204837009,
          2673106824,
          2679841929,
          2429781621,
          2582910329,
          2876391920,
          3040405536,
          2782922030,
          2849986250,
          2706826162,
          2482907267,
          2951970334,
          3085883976,
          2802598099,
          2895306431,
          2859496672,
          2731281156,
          2776233169,
          2911599127,
          2563995610,
          2934621744,
          2656776615,
          1781796148,
          2498679018,
          2811711992,
          3566759222,
          2995933595,
          2684688117,
          2502177981,
          2765581657,
          2330068503,
          2538198230,
          1529912602,
          1617235826,
          1747947383,
          2032461878,
          2123107449,
          1870321448,
          1870321448,
          2140874059,
          1829273117,
          1919221329,
          1972296751,
          1493788228,
          2599584988,
          2339345447,
          2102295768,
          2245736990,
          2292949484,
          2359834435
         ],
         "yaxis": "y"
        }
       ],
       "layout": {
        "legend": {
         "tracegroupgap": 0
        },
        "margin": {
         "t": 60
        },
        "template": {
         "data": {
          "bar": [
           {
            "error_x": {
             "color": "#2a3f5f"
            },
            "error_y": {
             "color": "#2a3f5f"
            },
            "marker": {
             "line": {
              "color": "#E5ECF6",
              "width": 0.5
             }
            },
            "type": "bar"
           }
          ],
          "barpolar": [
           {
            "marker": {
             "line": {
              "color": "#E5ECF6",
              "width": 0.5
             }
            },
            "type": "barpolar"
           }
          ],
          "carpet": [
           {
            "aaxis": {
             "endlinecolor": "#2a3f5f",
             "gridcolor": "white",
             "linecolor": "white",
             "minorgridcolor": "white",
             "startlinecolor": "#2a3f5f"
            },
            "baxis": {
             "endlinecolor": "#2a3f5f",
             "gridcolor": "white",
             "linecolor": "white",
             "minorgridcolor": "white",
             "startlinecolor": "#2a3f5f"
            },
            "type": "carpet"
           }
          ],
          "choropleth": [
           {
            "colorbar": {
             "outlinewidth": 0,
             "ticks": ""
            },
            "type": "choropleth"
           }
          ],
          "contour": [
           {
            "colorbar": {
             "outlinewidth": 0,
             "ticks": ""
            },
            "colorscale": [
             [
              0,
              "#0d0887"
             ],
             [
              0.1111111111111111,
              "#46039f"
             ],
             [
              0.2222222222222222,
              "#7201a8"
             ],
             [
              0.3333333333333333,
              "#9c179e"
             ],
             [
              0.4444444444444444,
              "#bd3786"
             ],
             [
              0.5555555555555556,
              "#d8576b"
             ],
             [
              0.6666666666666666,
              "#ed7953"
             ],
             [
              0.7777777777777778,
              "#fb9f3a"
             ],
             [
              0.8888888888888888,
              "#fdca26"
             ],
             [
              1,
              "#f0f921"
             ]
            ],
            "type": "contour"
           }
          ],
          "contourcarpet": [
           {
            "colorbar": {
             "outlinewidth": 0,
             "ticks": ""
            },
            "type": "contourcarpet"
           }
          ],
          "heatmap": [
           {
            "colorbar": {
             "outlinewidth": 0,
             "ticks": ""
            },
            "colorscale": [
             [
              0,
              "#0d0887"
             ],
             [
              0.1111111111111111,
              "#46039f"
             ],
             [
              0.2222222222222222,
              "#7201a8"
             ],
             [
              0.3333333333333333,
              "#9c179e"
             ],
             [
              0.4444444444444444,
              "#bd3786"
             ],
             [
              0.5555555555555556,
              "#d8576b"
             ],
             [
              0.6666666666666666,
              "#ed7953"
             ],
             [
              0.7777777777777778,
              "#fb9f3a"
             ],
             [
              0.8888888888888888,
              "#fdca26"
             ],
             [
              1,
              "#f0f921"
             ]
            ],
            "type": "heatmap"
           }
          ],
          "heatmapgl": [
           {
            "colorbar": {
             "outlinewidth": 0,
             "ticks": ""
            },
            "colorscale": [
             [
              0,
              "#0d0887"
             ],
             [
              0.1111111111111111,
              "#46039f"
             ],
             [
              0.2222222222222222,
              "#7201a8"
             ],
             [
              0.3333333333333333,
              "#9c179e"
             ],
             [
              0.4444444444444444,
              "#bd3786"
             ],
             [
              0.5555555555555556,
              "#d8576b"
             ],
             [
              0.6666666666666666,
              "#ed7953"
             ],
             [
              0.7777777777777778,
              "#fb9f3a"
             ],
             [
              0.8888888888888888,
              "#fdca26"
             ],
             [
              1,
              "#f0f921"
             ]
            ],
            "type": "heatmapgl"
           }
          ],
          "histogram": [
           {
            "marker": {
             "colorbar": {
              "outlinewidth": 0,
              "ticks": ""
             }
            },
            "type": "histogram"
           }
          ],
          "histogram2d": [
           {
            "colorbar": {
             "outlinewidth": 0,
             "ticks": ""
            },
            "colorscale": [
             [
              0,
              "#0d0887"
             ],
             [
              0.1111111111111111,
              "#46039f"
             ],
             [
              0.2222222222222222,
              "#7201a8"
             ],
             [
              0.3333333333333333,
              "#9c179e"
             ],
             [
              0.4444444444444444,
              "#bd3786"
             ],
             [
              0.5555555555555556,
              "#d8576b"
             ],
             [
              0.6666666666666666,
              "#ed7953"
             ],
             [
              0.7777777777777778,
              "#fb9f3a"
             ],
             [
              0.8888888888888888,
              "#fdca26"
             ],
             [
              1,
              "#f0f921"
             ]
            ],
            "type": "histogram2d"
           }
          ],
          "histogram2dcontour": [
           {
            "colorbar": {
             "outlinewidth": 0,
             "ticks": ""
            },
            "colorscale": [
             [
              0,
              "#0d0887"
             ],
             [
              0.1111111111111111,
              "#46039f"
             ],
             [
              0.2222222222222222,
              "#7201a8"
             ],
             [
              0.3333333333333333,
              "#9c179e"
             ],
             [
              0.4444444444444444,
              "#bd3786"
             ],
             [
              0.5555555555555556,
              "#d8576b"
             ],
             [
              0.6666666666666666,
              "#ed7953"
             ],
             [
              0.7777777777777778,
              "#fb9f3a"
             ],
             [
              0.8888888888888888,
              "#fdca26"
             ],
             [
              1,
              "#f0f921"
             ]
            ],
            "type": "histogram2dcontour"
           }
          ],
          "mesh3d": [
           {
            "colorbar": {
             "outlinewidth": 0,
             "ticks": ""
            },
            "type": "mesh3d"
           }
          ],
          "parcoords": [
           {
            "line": {
             "colorbar": {
              "outlinewidth": 0,
              "ticks": ""
             }
            },
            "type": "parcoords"
           }
          ],
          "pie": [
           {
            "automargin": true,
            "type": "pie"
           }
          ],
          "scatter": [
           {
            "marker": {
             "colorbar": {
              "outlinewidth": 0,
              "ticks": ""
             }
            },
            "type": "scatter"
           }
          ],
          "scatter3d": [
           {
            "line": {
             "colorbar": {
              "outlinewidth": 0,
              "ticks": ""
             }
            },
            "marker": {
             "colorbar": {
              "outlinewidth": 0,
              "ticks": ""
             }
            },
            "type": "scatter3d"
           }
          ],
          "scattercarpet": [
           {
            "marker": {
             "colorbar": {
              "outlinewidth": 0,
              "ticks": ""
             }
            },
            "type": "scattercarpet"
           }
          ],
          "scattergeo": [
           {
            "marker": {
             "colorbar": {
              "outlinewidth": 0,
              "ticks": ""
             }
            },
            "type": "scattergeo"
           }
          ],
          "scattergl": [
           {
            "marker": {
             "colorbar": {
              "outlinewidth": 0,
              "ticks": ""
             }
            },
            "type": "scattergl"
           }
          ],
          "scattermapbox": [
           {
            "marker": {
             "colorbar": {
              "outlinewidth": 0,
              "ticks": ""
             }
            },
            "type": "scattermapbox"
           }
          ],
          "scatterpolar": [
           {
            "marker": {
             "colorbar": {
              "outlinewidth": 0,
              "ticks": ""
             }
            },
            "type": "scatterpolar"
           }
          ],
          "scatterpolargl": [
           {
            "marker": {
             "colorbar": {
              "outlinewidth": 0,
              "ticks": ""
             }
            },
            "type": "scatterpolargl"
           }
          ],
          "scatterternary": [
           {
            "marker": {
             "colorbar": {
              "outlinewidth": 0,
              "ticks": ""
             }
            },
            "type": "scatterternary"
           }
          ],
          "surface": [
           {
            "colorbar": {
             "outlinewidth": 0,
             "ticks": ""
            },
            "colorscale": [
             [
              0,
              "#0d0887"
             ],
             [
              0.1111111111111111,
              "#46039f"
             ],
             [
              0.2222222222222222,
              "#7201a8"
             ],
             [
              0.3333333333333333,
              "#9c179e"
             ],
             [
              0.4444444444444444,
              "#bd3786"
             ],
             [
              0.5555555555555556,
              "#d8576b"
             ],
             [
              0.6666666666666666,
              "#ed7953"
             ],
             [
              0.7777777777777778,
              "#fb9f3a"
             ],
             [
              0.8888888888888888,
              "#fdca26"
             ],
             [
              1,
              "#f0f921"
             ]
            ],
            "type": "surface"
           }
          ],
          "table": [
           {
            "cells": {
             "fill": {
              "color": "#EBF0F8"
             },
             "line": {
              "color": "white"
             }
            },
            "header": {
             "fill": {
              "color": "#C8D4E3"
             },
             "line": {
              "color": "white"
             }
            },
            "type": "table"
           }
          ]
         },
         "layout": {
          "annotationdefaults": {
           "arrowcolor": "#2a3f5f",
           "arrowhead": 0,
           "arrowwidth": 1
          },
          "coloraxis": {
           "colorbar": {
            "outlinewidth": 0,
            "ticks": ""
           }
          },
          "colorscale": {
           "diverging": [
            [
             0,
             "#8e0152"
            ],
            [
             0.1,
             "#c51b7d"
            ],
            [
             0.2,
             "#de77ae"
            ],
            [
             0.3,
             "#f1b6da"
            ],
            [
             0.4,
             "#fde0ef"
            ],
            [
             0.5,
             "#f7f7f7"
            ],
            [
             0.6,
             "#e6f5d0"
            ],
            [
             0.7,
             "#b8e186"
            ],
            [
             0.8,
             "#7fbc41"
            ],
            [
             0.9,
             "#4d9221"
            ],
            [
             1,
             "#276419"
            ]
           ],
           "sequential": [
            [
             0,
             "#0d0887"
            ],
            [
             0.1111111111111111,
             "#46039f"
            ],
            [
             0.2222222222222222,
             "#7201a8"
            ],
            [
             0.3333333333333333,
             "#9c179e"
            ],
            [
             0.4444444444444444,
             "#bd3786"
            ],
            [
             0.5555555555555556,
             "#d8576b"
            ],
            [
             0.6666666666666666,
             "#ed7953"
            ],
            [
             0.7777777777777778,
             "#fb9f3a"
            ],
            [
             0.8888888888888888,
             "#fdca26"
            ],
            [
             1,
             "#f0f921"
            ]
           ],
           "sequentialminus": [
            [
             0,
             "#0d0887"
            ],
            [
             0.1111111111111111,
             "#46039f"
            ],
            [
             0.2222222222222222,
             "#7201a8"
            ],
            [
             0.3333333333333333,
             "#9c179e"
            ],
            [
             0.4444444444444444,
             "#bd3786"
            ],
            [
             0.5555555555555556,
             "#d8576b"
            ],
            [
             0.6666666666666666,
             "#ed7953"
            ],
            [
             0.7777777777777778,
             "#fb9f3a"
            ],
            [
             0.8888888888888888,
             "#fdca26"
            ],
            [
             1,
             "#f0f921"
            ]
           ]
          },
          "colorway": [
           "#636efa",
           "#EF553B",
           "#00cc96",
           "#ab63fa",
           "#FFA15A",
           "#19d3f3",
           "#FF6692",
           "#B6E880",
           "#FF97FF",
           "#FECB52"
          ],
          "font": {
           "color": "#2a3f5f"
          },
          "geo": {
           "bgcolor": "white",
           "lakecolor": "white",
           "landcolor": "#E5ECF6",
           "showlakes": true,
           "showland": true,
           "subunitcolor": "white"
          },
          "hoverlabel": {
           "align": "left"
          },
          "hovermode": "closest",
          "mapbox": {
           "style": "light"
          },
          "paper_bgcolor": "white",
          "plot_bgcolor": "#E5ECF6",
          "polar": {
           "angularaxis": {
            "gridcolor": "white",
            "linecolor": "white",
            "ticks": ""
           },
           "bgcolor": "#E5ECF6",
           "radialaxis": {
            "gridcolor": "white",
            "linecolor": "white",
            "ticks": ""
           }
          },
          "scene": {
           "xaxis": {
            "backgroundcolor": "#E5ECF6",
            "gridcolor": "white",
            "gridwidth": 2,
            "linecolor": "white",
            "showbackground": true,
            "ticks": "",
            "zerolinecolor": "white"
           },
           "yaxis": {
            "backgroundcolor": "#E5ECF6",
            "gridcolor": "white",
            "gridwidth": 2,
            "linecolor": "white",
            "showbackground": true,
            "ticks": "",
            "zerolinecolor": "white"
           },
           "zaxis": {
            "backgroundcolor": "#E5ECF6",
            "gridcolor": "white",
            "gridwidth": 2,
            "linecolor": "white",
            "showbackground": true,
            "ticks": "",
            "zerolinecolor": "white"
           }
          },
          "shapedefaults": {
           "line": {
            "color": "#2a3f5f"
           }
          },
          "ternary": {
           "aaxis": {
            "gridcolor": "white",
            "linecolor": "white",
            "ticks": ""
           },
           "baxis": {
            "gridcolor": "white",
            "linecolor": "white",
            "ticks": ""
           },
           "bgcolor": "#E5ECF6",
           "caxis": {
            "gridcolor": "white",
            "linecolor": "white",
            "ticks": ""
           }
          },
          "title": {
           "x": 0.05
          },
          "xaxis": {
           "automargin": true,
           "gridcolor": "white",
           "linecolor": "white",
           "ticks": "",
           "title": {
            "standoff": 15
           },
           "zerolinecolor": "white",
           "zerolinewidth": 2
          },
          "yaxis": {
           "automargin": true,
           "gridcolor": "white",
           "linecolor": "white",
           "ticks": "",
           "title": {
            "standoff": 15
           },
           "zerolinecolor": "white",
           "zerolinewidth": 2
          }
         }
        },
        "xaxis": {
         "anchor": "y",
         "domain": [
          0,
          1
         ],
         "title": {
          "text": "nuc_hp1b_total"
         }
        },
        "yaxis": {
         "anchor": "x",
         "domain": [
          0,
          1
         ],
         "title": {
          "text": "nuc_DAPI_total"
         }
        }
       }
      },
      "text/html": [
       "<div>\n",
       "        \n",
       "        \n",
       "            <div id=\"158d26ee-99d6-4f00-a53f-d773780f9551\" class=\"plotly-graph-div\" style=\"height:525px; width:100%;\"></div>\n",
       "            <script type=\"text/javascript\">\n",
       "                require([\"plotly\"], function(Plotly) {\n",
       "                    window.PLOTLYENV=window.PLOTLYENV || {};\n",
       "                    \n",
       "                if (document.getElementById(\"158d26ee-99d6-4f00-a53f-d773780f9551\")) {\n",
       "                    Plotly.newPlot(\n",
       "                        '158d26ee-99d6-4f00-a53f-d773780f9551',\n",
       "                        [{\"hovertemplate\": \"nuc_hp1b_total=%{x}<br>nuc_DAPI_total=%{y}<extra></extra>\", \"legendgroup\": \"\", \"marker\": {\"color\": \"#636efa\", \"symbol\": \"circle\"}, \"mode\": \"markers\", \"name\": \"\", \"orientation\": \"v\", \"showlegend\": false, \"type\": \"scatter\", \"x\": [2693841525.0, 2172379544.0, 2334174130.0, 2112534479.0, 2008106579.0, 2360343354.0, 2292377397.0, 2211104088.0, 1895837238.0, 1658557280.0, 2158952339.0, 2013209952.0, 1912245803.0, 2366099315.0, 1678614873.0, 2763165608.0, 1816503406.0, 2343924748.0, 2371226778.0, 1848067367.0, 2389314765.0, 2606173701.0, 1356255869.0, 1631882515.0, 1964435857.0, 1541949174.0, 1704906726.0, 2252353650.0, 2295633787.0, 1872745352.0, 1893163642.0, 1899637982.0, 1736641834.0, 1789405283.0, 1639314035.0, 2327924209.0, 2083424762.0, 1723213980.0, 1694133848.0, 1677291081.0, 1516540229.0, 1780011503.0, 1622870858.0, 1500971975.0, 1649492411.0, 1595833451.0, 2347302049.0, 1616686878.0, 1451199952.0, 1423675381.0, 1346990165.0, 1489642259.0, 1831719546.0, 1795515690.0, 1985192424.0, 1859565889.0, 1514156719.0, 1469451809.0, 995903777.0, 1484837423.0, 1466791538.0, 1641512100.0, 1619918793.0, 1664450013.0, 1753562959.0, 1989746709.0, 1287304844.0, 1665729210.0, 1493477343.0, 1877725093.0, 1106107501.0, 1098645035.0, 1874516094.0, 1815080686.0, 1524046462.0, 1547209790.0, 1615019837.0, 1549429497.0, 1531916663.0, 1627782215.0, 1739122870.0, 1412805540.0, 1653576609.0, 1411189442.0, 1597512777.0, 1812461849.0, 1500209800.0, 1677261618.0, 1461890760.0, 1731412342.0, 2003326519.0, 1553499030.0, 1609729259.0, 1828630685.0, 1279403674.0, 1442809701.0, 1567537136.0, 1535173675.0, 1535372317.0, 1526843871.0, 1292621974.0, 1467140232.0, 1603816507.0, 959031919.0, 1644845719.0, 1419906692.0, 1429042299.0, 1743452099.0, 1200410481.0, 1134195018.0, 1415925376.0, 1288202059.0, 781229914.0, 1779764474.0, 1671397150.0, 898453931.0, 1935149897.0, 1896962567.0, 1978694258.0, 1978694258.0, 1853845117.0, 1975705532.0, 1605530871.0, 2398108839.0, 1518575447.0, 2089713688.0, 1648542108.0, 1762500865.0, 1987277955.0, 1366034561.0, 1890701811.0], \"xaxis\": \"x\", \"y\": [1993299510.0, 2052560718.0, 2232934619.0, 1963244541.0, 1966780265.0, 1899229311.0, 2081303849.0, 2303020885.0, 2186080080.0, 2211158025.0, 2189988490.0, 2016228812.0, 2418668610.0, 2142724360.0, 2213319112.0, 2304313120.0, 2448579516.0, 2232948436.0, 2438292269.0, 2735363735.0, 2531330801.0, 2720222383.0, 2389513662.0, 2047085390.0, 2253109592.0, 2209063439.0, 2324762627.0, 2500537407.0, 2108557531.0, 2020389309.0, 2125335984.0, 2529019780.0, 1913322051.0, 2225312993.0, 2171448798.0, 1901034025.0, 2477358309.0, 2598139393.0, 2177021199.0, 2643673767.0, 2591316541.0, 2188494558.0, 2588875586.0, 2214939486.0, 2491841916.0, 2357291708.0, 2303886522.0, 2458499538.0, 2310858974.0, 2314677736.0, 1720550880.0, 2301553391.0, 2373254119.0, 2657438605.0, 2169018375.0, 2396258123.0, 2183805802.0, 2495598732.0, 2593859454.0, 2341626602.0, 2260610420.0, 2342170389.0, 2296902497.0, 2409078426.0, 3002121470.0, 2456823074.0, 2517534784.0, 2283752025.0, 2574507917.0, 2077243203.0, 2316488239.0, 2280340096.0, 2362042350.0, 2350421446.0, 2321917513.0, 2459069081.0, 2725305172.0, 2504764977.0, 2185636781.0, 2369549198.0, 2430284123.0, 2204837009.0, 2673106824.0, 2679841929.0, 2429781621.0, 2582910329.0, 2876391920.0, 3040405536.0, 2782922030.0, 2849986250.0, 2706826162.0, 2482907267.0, 2951970334.0, 3085883976.0, 2802598099.0, 2895306431.0, 2859496672.0, 2731281156.0, 2776233169.0, 2911599127.0, 2563995610.0, 2934621744.0, 2656776615.0, 1781796148.0, 2498679018.0, 2811711992.0, 3566759222.0, 2995933595.0, 2684688117.0, 2502177981.0, 2765581657.0, 2330068503.0, 2538198230.0, 1529912602.0, 1617235826.0, 1747947383.0, 2032461878.0, 2123107449.0, 1870321448.0, 1870321448.0, 2140874059.0, 1829273117.0, 1919221329.0, 1972296751.0, 1493788228.0, 2599584988.0, 2339345447.0, 2102295768.0, 2245736990.0, 2292949484.0, 2359834435.0], \"yaxis\": \"y\"}],\n",
       "                        {\"legend\": {\"tracegroupgap\": 0}, \"margin\": {\"t\": 60}, \"template\": {\"data\": {\"bar\": [{\"error_x\": {\"color\": \"#2a3f5f\"}, \"error_y\": {\"color\": \"#2a3f5f\"}, \"marker\": {\"line\": {\"color\": \"#E5ECF6\", \"width\": 0.5}}, \"type\": \"bar\"}], \"barpolar\": [{\"marker\": {\"line\": {\"color\": \"#E5ECF6\", \"width\": 0.5}}, \"type\": \"barpolar\"}], \"carpet\": [{\"aaxis\": {\"endlinecolor\": \"#2a3f5f\", \"gridcolor\": \"white\", \"linecolor\": \"white\", \"minorgridcolor\": \"white\", \"startlinecolor\": \"#2a3f5f\"}, \"baxis\": {\"endlinecolor\": \"#2a3f5f\", \"gridcolor\": \"white\", \"linecolor\": \"white\", \"minorgridcolor\": \"white\", \"startlinecolor\": \"#2a3f5f\"}, \"type\": \"carpet\"}], \"choropleth\": [{\"colorbar\": {\"outlinewidth\": 0, \"ticks\": \"\"}, \"type\": \"choropleth\"}], \"contour\": [{\"colorbar\": {\"outlinewidth\": 0, \"ticks\": \"\"}, \"colorscale\": [[0.0, \"#0d0887\"], [0.1111111111111111, \"#46039f\"], [0.2222222222222222, \"#7201a8\"], [0.3333333333333333, \"#9c179e\"], [0.4444444444444444, \"#bd3786\"], [0.5555555555555556, \"#d8576b\"], [0.6666666666666666, \"#ed7953\"], [0.7777777777777778, \"#fb9f3a\"], [0.8888888888888888, \"#fdca26\"], [1.0, \"#f0f921\"]], \"type\": \"contour\"}], \"contourcarpet\": [{\"colorbar\": {\"outlinewidth\": 0, \"ticks\": \"\"}, \"type\": \"contourcarpet\"}], \"heatmap\": [{\"colorbar\": {\"outlinewidth\": 0, \"ticks\": \"\"}, \"colorscale\": [[0.0, \"#0d0887\"], [0.1111111111111111, \"#46039f\"], [0.2222222222222222, \"#7201a8\"], [0.3333333333333333, \"#9c179e\"], [0.4444444444444444, \"#bd3786\"], [0.5555555555555556, \"#d8576b\"], [0.6666666666666666, \"#ed7953\"], [0.7777777777777778, \"#fb9f3a\"], [0.8888888888888888, \"#fdca26\"], [1.0, \"#f0f921\"]], \"type\": \"heatmap\"}], \"heatmapgl\": [{\"colorbar\": {\"outlinewidth\": 0, \"ticks\": \"\"}, \"colorscale\": [[0.0, \"#0d0887\"], [0.1111111111111111, \"#46039f\"], [0.2222222222222222, \"#7201a8\"], [0.3333333333333333, \"#9c179e\"], [0.4444444444444444, \"#bd3786\"], [0.5555555555555556, \"#d8576b\"], [0.6666666666666666, \"#ed7953\"], [0.7777777777777778, \"#fb9f3a\"], [0.8888888888888888, \"#fdca26\"], [1.0, \"#f0f921\"]], \"type\": \"heatmapgl\"}], \"histogram\": [{\"marker\": {\"colorbar\": {\"outlinewidth\": 0, \"ticks\": \"\"}}, \"type\": \"histogram\"}], \"histogram2d\": [{\"colorbar\": {\"outlinewidth\": 0, \"ticks\": \"\"}, \"colorscale\": [[0.0, \"#0d0887\"], [0.1111111111111111, \"#46039f\"], [0.2222222222222222, \"#7201a8\"], [0.3333333333333333, \"#9c179e\"], [0.4444444444444444, \"#bd3786\"], [0.5555555555555556, \"#d8576b\"], [0.6666666666666666, \"#ed7953\"], [0.7777777777777778, \"#fb9f3a\"], [0.8888888888888888, \"#fdca26\"], [1.0, \"#f0f921\"]], \"type\": \"histogram2d\"}], \"histogram2dcontour\": [{\"colorbar\": {\"outlinewidth\": 0, \"ticks\": \"\"}, \"colorscale\": [[0.0, \"#0d0887\"], [0.1111111111111111, \"#46039f\"], [0.2222222222222222, \"#7201a8\"], [0.3333333333333333, \"#9c179e\"], [0.4444444444444444, \"#bd3786\"], [0.5555555555555556, \"#d8576b\"], [0.6666666666666666, \"#ed7953\"], [0.7777777777777778, \"#fb9f3a\"], [0.8888888888888888, \"#fdca26\"], [1.0, \"#f0f921\"]], \"type\": \"histogram2dcontour\"}], \"mesh3d\": [{\"colorbar\": {\"outlinewidth\": 0, \"ticks\": \"\"}, \"type\": \"mesh3d\"}], \"parcoords\": [{\"line\": {\"colorbar\": {\"outlinewidth\": 0, \"ticks\": \"\"}}, \"type\": \"parcoords\"}], \"pie\": [{\"automargin\": true, \"type\": \"pie\"}], \"scatter\": [{\"marker\": {\"colorbar\": {\"outlinewidth\": 0, \"ticks\": \"\"}}, \"type\": \"scatter\"}], \"scatter3d\": [{\"line\": {\"colorbar\": {\"outlinewidth\": 0, \"ticks\": \"\"}}, \"marker\": {\"colorbar\": {\"outlinewidth\": 0, \"ticks\": \"\"}}, \"type\": \"scatter3d\"}], \"scattercarpet\": [{\"marker\": {\"colorbar\": {\"outlinewidth\": 0, \"ticks\": \"\"}}, \"type\": \"scattercarpet\"}], \"scattergeo\": [{\"marker\": {\"colorbar\": {\"outlinewidth\": 0, \"ticks\": \"\"}}, \"type\": \"scattergeo\"}], \"scattergl\": [{\"marker\": {\"colorbar\": {\"outlinewidth\": 0, \"ticks\": \"\"}}, \"type\": \"scattergl\"}], \"scattermapbox\": [{\"marker\": {\"colorbar\": {\"outlinewidth\": 0, \"ticks\": \"\"}}, \"type\": \"scattermapbox\"}], \"scatterpolar\": [{\"marker\": {\"colorbar\": {\"outlinewidth\": 0, \"ticks\": \"\"}}, \"type\": \"scatterpolar\"}], \"scatterpolargl\": [{\"marker\": {\"colorbar\": {\"outlinewidth\": 0, \"ticks\": \"\"}}, \"type\": \"scatterpolargl\"}], \"scatterternary\": [{\"marker\": {\"colorbar\": {\"outlinewidth\": 0, \"ticks\": \"\"}}, \"type\": \"scatterternary\"}], \"surface\": [{\"colorbar\": {\"outlinewidth\": 0, \"ticks\": \"\"}, \"colorscale\": [[0.0, \"#0d0887\"], [0.1111111111111111, \"#46039f\"], [0.2222222222222222, \"#7201a8\"], [0.3333333333333333, \"#9c179e\"], [0.4444444444444444, \"#bd3786\"], [0.5555555555555556, \"#d8576b\"], [0.6666666666666666, \"#ed7953\"], [0.7777777777777778, \"#fb9f3a\"], [0.8888888888888888, \"#fdca26\"], [1.0, \"#f0f921\"]], \"type\": \"surface\"}], \"table\": [{\"cells\": {\"fill\": {\"color\": \"#EBF0F8\"}, \"line\": {\"color\": \"white\"}}, \"header\": {\"fill\": {\"color\": \"#C8D4E3\"}, \"line\": {\"color\": \"white\"}}, \"type\": \"table\"}]}, \"layout\": {\"annotationdefaults\": {\"arrowcolor\": \"#2a3f5f\", \"arrowhead\": 0, \"arrowwidth\": 1}, \"coloraxis\": {\"colorbar\": {\"outlinewidth\": 0, \"ticks\": \"\"}}, \"colorscale\": {\"diverging\": [[0, \"#8e0152\"], [0.1, \"#c51b7d\"], [0.2, \"#de77ae\"], [0.3, \"#f1b6da\"], [0.4, \"#fde0ef\"], [0.5, \"#f7f7f7\"], [0.6, \"#e6f5d0\"], [0.7, \"#b8e186\"], [0.8, \"#7fbc41\"], [0.9, \"#4d9221\"], [1, \"#276419\"]], \"sequential\": [[0.0, \"#0d0887\"], [0.1111111111111111, \"#46039f\"], [0.2222222222222222, \"#7201a8\"], [0.3333333333333333, \"#9c179e\"], [0.4444444444444444, \"#bd3786\"], [0.5555555555555556, \"#d8576b\"], [0.6666666666666666, \"#ed7953\"], [0.7777777777777778, \"#fb9f3a\"], [0.8888888888888888, \"#fdca26\"], [1.0, \"#f0f921\"]], \"sequentialminus\": [[0.0, \"#0d0887\"], [0.1111111111111111, \"#46039f\"], [0.2222222222222222, \"#7201a8\"], [0.3333333333333333, \"#9c179e\"], [0.4444444444444444, \"#bd3786\"], [0.5555555555555556, \"#d8576b\"], [0.6666666666666666, \"#ed7953\"], [0.7777777777777778, \"#fb9f3a\"], [0.8888888888888888, \"#fdca26\"], [1.0, \"#f0f921\"]]}, \"colorway\": [\"#636efa\", \"#EF553B\", \"#00cc96\", \"#ab63fa\", \"#FFA15A\", \"#19d3f3\", \"#FF6692\", \"#B6E880\", \"#FF97FF\", \"#FECB52\"], \"font\": {\"color\": \"#2a3f5f\"}, \"geo\": {\"bgcolor\": \"white\", \"lakecolor\": \"white\", \"landcolor\": \"#E5ECF6\", \"showlakes\": true, \"showland\": true, \"subunitcolor\": \"white\"}, \"hoverlabel\": {\"align\": \"left\"}, \"hovermode\": \"closest\", \"mapbox\": {\"style\": \"light\"}, \"paper_bgcolor\": \"white\", \"plot_bgcolor\": \"#E5ECF6\", \"polar\": {\"angularaxis\": {\"gridcolor\": \"white\", \"linecolor\": \"white\", \"ticks\": \"\"}, \"bgcolor\": \"#E5ECF6\", \"radialaxis\": {\"gridcolor\": \"white\", \"linecolor\": \"white\", \"ticks\": \"\"}}, \"scene\": {\"xaxis\": {\"backgroundcolor\": \"#E5ECF6\", \"gridcolor\": \"white\", \"gridwidth\": 2, \"linecolor\": \"white\", \"showbackground\": true, \"ticks\": \"\", \"zerolinecolor\": \"white\"}, \"yaxis\": {\"backgroundcolor\": \"#E5ECF6\", \"gridcolor\": \"white\", \"gridwidth\": 2, \"linecolor\": \"white\", \"showbackground\": true, \"ticks\": \"\", \"zerolinecolor\": \"white\"}, \"zaxis\": {\"backgroundcolor\": \"#E5ECF6\", \"gridcolor\": \"white\", \"gridwidth\": 2, \"linecolor\": \"white\", \"showbackground\": true, \"ticks\": \"\", \"zerolinecolor\": \"white\"}}, \"shapedefaults\": {\"line\": {\"color\": \"#2a3f5f\"}}, \"ternary\": {\"aaxis\": {\"gridcolor\": \"white\", \"linecolor\": \"white\", \"ticks\": \"\"}, \"baxis\": {\"gridcolor\": \"white\", \"linecolor\": \"white\", \"ticks\": \"\"}, \"bgcolor\": \"#E5ECF6\", \"caxis\": {\"gridcolor\": \"white\", \"linecolor\": \"white\", \"ticks\": \"\"}}, \"title\": {\"x\": 0.05}, \"xaxis\": {\"automargin\": true, \"gridcolor\": \"white\", \"linecolor\": \"white\", \"ticks\": \"\", \"title\": {\"standoff\": 15}, \"zerolinecolor\": \"white\", \"zerolinewidth\": 2}, \"yaxis\": {\"automargin\": true, \"gridcolor\": \"white\", \"linecolor\": \"white\", \"ticks\": \"\", \"title\": {\"standoff\": 15}, \"zerolinecolor\": \"white\", \"zerolinewidth\": 2}}}, \"xaxis\": {\"anchor\": \"y\", \"domain\": [0.0, 1.0], \"title\": {\"text\": \"nuc_hp1b_total\"}}, \"yaxis\": {\"anchor\": \"x\", \"domain\": [0.0, 1.0], \"title\": {\"text\": \"nuc_DAPI_total\"}}},\n",
       "                        {\"responsive\": true}\n",
       "                    ).then(function(){\n",
       "                            \n",
       "var gd = document.getElementById('158d26ee-99d6-4f00-a53f-d773780f9551');\n",
       "var x = new MutationObserver(function (mutations, observer) {{\n",
       "        var display = window.getComputedStyle(gd).display;\n",
       "        if (!display || display === 'none') {{\n",
       "            console.log([gd, 'removed!']);\n",
       "            Plotly.purge(gd);\n",
       "            observer.disconnect();\n",
       "        }}\n",
       "}});\n",
       "\n",
       "// Listen for the removal of the full notebook cells\n",
       "var notebookContainer = gd.closest('#notebook-container');\n",
       "if (notebookContainer) {{\n",
       "    x.observe(notebookContainer, {childList: true});\n",
       "}}\n",
       "\n",
       "// Listen for the clearing of the current output cell\n",
       "var outputEl = gd.closest('.output');\n",
       "if (outputEl) {{\n",
       "    x.observe(outputEl, {childList: true});\n",
       "}}\n",
       "\n",
       "                        })\n",
       "                };\n",
       "                });\n",
       "            </script>\n",
       "        </div>"
      ]
     },
     "metadata": {},
     "output_type": "display_data"
    }
   ],
   "source": [
    "px.scatter(geminin.loc[('G1' in x for x in geminin.category),:], 'nuc_hp1b_total','nuc_DAPI_total')"
   ]
  },
  {
   "cell_type": "code",
   "execution_count": 80,
   "metadata": {},
   "outputs": [
    {
     "data": {
      "application/vnd.plotly.v1+json": {
       "config": {
        "plotlyServerURL": "https://plot.ly"
       },
       "data": [
        {
         "alignmentgroup": "True",
         "hovertemplate": "nuc_hp1b_total=%{y}<extra></extra>",
         "legendgroup": "",
         "marker": {
          "color": "#636efa"
         },
         "name": "",
         "notched": false,
         "offsetgroup": "",
         "orientation": "v",
         "showlegend": false,
         "type": "box",
         "x0": " ",
         "xaxis": "x",
         "y": [
          1415176456,
          1062142355,
          1717888309,
          1615430949,
          1324749231,
          1714077576,
          1191923333,
          1211214094,
          1277072106,
          1097188499,
          973161231,
          1037943440,
          1029175455,
          1209364395,
          1158953361,
          1173785581,
          681399751,
          558483002,
          853093831,
          888897519,
          758197622,
          1265744848,
          1463649414,
          1237266966,
          1696563856,
          1378528661,
          1396170491,
          1530164002,
          1195347121,
          913134635,
          993652948,
          1001340942,
          1173385274,
          1113615572,
          1145110342,
          1283371694,
          1343360818,
          1448302163,
          1148851423,
          1381563232,
          1488292151,
          1166747568,
          1225997936,
          1256445798,
          1216595545,
          1241376448,
          1373778172,
          1366058827,
          1190436168,
          1550687420,
          1610488087,
          1173184677,
          921876365,
          1576334274,
          1415310339,
          1456040879,
          906539377,
          1543312364,
          1171062065,
          1102791118,
          1087501285,
          1039684362,
          1289402965,
          1112277747,
          1091430276,
          1726071023,
          1315233483,
          947351290,
          1214316203,
          1546695091,
          1146060292,
          1204103518,
          1194918358,
          1348996525,
          1191369776,
          1444674111,
          1257585843,
          1285848168,
          1340250687,
          1195005979,
          1125390289,
          1245353734,
          1507409486,
          1075397256,
          1130024369,
          1244908544,
          896903168,
          1490584448,
          1375993088,
          1156112640,
          1531300864,
          1022254592,
          980470400,
          1102612992,
          923455296,
          837296128,
          895764736,
          886496768,
          966821056,
          959146688,
          1000509696,
          599771072,
          521385984,
          802193536,
          784634752,
          575635840,
          1061375552,
          1163158528,
          983669504,
          1411369088,
          1224386944,
          1160896256,
          1327687040,
          993367808,
          718964992,
          761701248,
          772259456,
          952942336,
          877671808,
          984798080,
          1073019392,
          1126791936,
          1272397440,
          952457600,
          1160863616,
          1242480896,
          975942656,
          1065835648,
          1052820800,
          991145152,
          1012074496,
          1137992064,
          1124828800,
          988864128,
          1363593984,
          1363842176,
          948239744,
          763153280,
          1371692288,
          1195065600,
          1199473536,
          769624640,
          1316710528,
          1015242752,
          884204288,
          879721472,
          859020032,
          992768320,
          980168832,
          924821504,
          1495159808,
          1010576256,
          797291136,
          1000736128,
          1327572736,
          963110656,
          995552000,
          971545344,
          1119171840,
          1007873792,
          1239251968,
          1071403712,
          1100342528,
          1120102144,
          1003937408,
          963486464,
          1048548992,
          1247758592,
          913834496,
          960821440
         ],
         "y0": " ",
         "yaxis": "y"
        }
       ],
       "layout": {
        "boxmode": "group",
        "legend": {
         "tracegroupgap": 0
        },
        "margin": {
         "t": 60
        },
        "template": {
         "data": {
          "bar": [
           {
            "error_x": {
             "color": "#2a3f5f"
            },
            "error_y": {
             "color": "#2a3f5f"
            },
            "marker": {
             "line": {
              "color": "#E5ECF6",
              "width": 0.5
             }
            },
            "type": "bar"
           }
          ],
          "barpolar": [
           {
            "marker": {
             "line": {
              "color": "#E5ECF6",
              "width": 0.5
             }
            },
            "type": "barpolar"
           }
          ],
          "carpet": [
           {
            "aaxis": {
             "endlinecolor": "#2a3f5f",
             "gridcolor": "white",
             "linecolor": "white",
             "minorgridcolor": "white",
             "startlinecolor": "#2a3f5f"
            },
            "baxis": {
             "endlinecolor": "#2a3f5f",
             "gridcolor": "white",
             "linecolor": "white",
             "minorgridcolor": "white",
             "startlinecolor": "#2a3f5f"
            },
            "type": "carpet"
           }
          ],
          "choropleth": [
           {
            "colorbar": {
             "outlinewidth": 0,
             "ticks": ""
            },
            "type": "choropleth"
           }
          ],
          "contour": [
           {
            "colorbar": {
             "outlinewidth": 0,
             "ticks": ""
            },
            "colorscale": [
             [
              0,
              "#0d0887"
             ],
             [
              0.1111111111111111,
              "#46039f"
             ],
             [
              0.2222222222222222,
              "#7201a8"
             ],
             [
              0.3333333333333333,
              "#9c179e"
             ],
             [
              0.4444444444444444,
              "#bd3786"
             ],
             [
              0.5555555555555556,
              "#d8576b"
             ],
             [
              0.6666666666666666,
              "#ed7953"
             ],
             [
              0.7777777777777778,
              "#fb9f3a"
             ],
             [
              0.8888888888888888,
              "#fdca26"
             ],
             [
              1,
              "#f0f921"
             ]
            ],
            "type": "contour"
           }
          ],
          "contourcarpet": [
           {
            "colorbar": {
             "outlinewidth": 0,
             "ticks": ""
            },
            "type": "contourcarpet"
           }
          ],
          "heatmap": [
           {
            "colorbar": {
             "outlinewidth": 0,
             "ticks": ""
            },
            "colorscale": [
             [
              0,
              "#0d0887"
             ],
             [
              0.1111111111111111,
              "#46039f"
             ],
             [
              0.2222222222222222,
              "#7201a8"
             ],
             [
              0.3333333333333333,
              "#9c179e"
             ],
             [
              0.4444444444444444,
              "#bd3786"
             ],
             [
              0.5555555555555556,
              "#d8576b"
             ],
             [
              0.6666666666666666,
              "#ed7953"
             ],
             [
              0.7777777777777778,
              "#fb9f3a"
             ],
             [
              0.8888888888888888,
              "#fdca26"
             ],
             [
              1,
              "#f0f921"
             ]
            ],
            "type": "heatmap"
           }
          ],
          "heatmapgl": [
           {
            "colorbar": {
             "outlinewidth": 0,
             "ticks": ""
            },
            "colorscale": [
             [
              0,
              "#0d0887"
             ],
             [
              0.1111111111111111,
              "#46039f"
             ],
             [
              0.2222222222222222,
              "#7201a8"
             ],
             [
              0.3333333333333333,
              "#9c179e"
             ],
             [
              0.4444444444444444,
              "#bd3786"
             ],
             [
              0.5555555555555556,
              "#d8576b"
             ],
             [
              0.6666666666666666,
              "#ed7953"
             ],
             [
              0.7777777777777778,
              "#fb9f3a"
             ],
             [
              0.8888888888888888,
              "#fdca26"
             ],
             [
              1,
              "#f0f921"
             ]
            ],
            "type": "heatmapgl"
           }
          ],
          "histogram": [
           {
            "marker": {
             "colorbar": {
              "outlinewidth": 0,
              "ticks": ""
             }
            },
            "type": "histogram"
           }
          ],
          "histogram2d": [
           {
            "colorbar": {
             "outlinewidth": 0,
             "ticks": ""
            },
            "colorscale": [
             [
              0,
              "#0d0887"
             ],
             [
              0.1111111111111111,
              "#46039f"
             ],
             [
              0.2222222222222222,
              "#7201a8"
             ],
             [
              0.3333333333333333,
              "#9c179e"
             ],
             [
              0.4444444444444444,
              "#bd3786"
             ],
             [
              0.5555555555555556,
              "#d8576b"
             ],
             [
              0.6666666666666666,
              "#ed7953"
             ],
             [
              0.7777777777777778,
              "#fb9f3a"
             ],
             [
              0.8888888888888888,
              "#fdca26"
             ],
             [
              1,
              "#f0f921"
             ]
            ],
            "type": "histogram2d"
           }
          ],
          "histogram2dcontour": [
           {
            "colorbar": {
             "outlinewidth": 0,
             "ticks": ""
            },
            "colorscale": [
             [
              0,
              "#0d0887"
             ],
             [
              0.1111111111111111,
              "#46039f"
             ],
             [
              0.2222222222222222,
              "#7201a8"
             ],
             [
              0.3333333333333333,
              "#9c179e"
             ],
             [
              0.4444444444444444,
              "#bd3786"
             ],
             [
              0.5555555555555556,
              "#d8576b"
             ],
             [
              0.6666666666666666,
              "#ed7953"
             ],
             [
              0.7777777777777778,
              "#fb9f3a"
             ],
             [
              0.8888888888888888,
              "#fdca26"
             ],
             [
              1,
              "#f0f921"
             ]
            ],
            "type": "histogram2dcontour"
           }
          ],
          "mesh3d": [
           {
            "colorbar": {
             "outlinewidth": 0,
             "ticks": ""
            },
            "type": "mesh3d"
           }
          ],
          "parcoords": [
           {
            "line": {
             "colorbar": {
              "outlinewidth": 0,
              "ticks": ""
             }
            },
            "type": "parcoords"
           }
          ],
          "pie": [
           {
            "automargin": true,
            "type": "pie"
           }
          ],
          "scatter": [
           {
            "marker": {
             "colorbar": {
              "outlinewidth": 0,
              "ticks": ""
             }
            },
            "type": "scatter"
           }
          ],
          "scatter3d": [
           {
            "line": {
             "colorbar": {
              "outlinewidth": 0,
              "ticks": ""
             }
            },
            "marker": {
             "colorbar": {
              "outlinewidth": 0,
              "ticks": ""
             }
            },
            "type": "scatter3d"
           }
          ],
          "scattercarpet": [
           {
            "marker": {
             "colorbar": {
              "outlinewidth": 0,
              "ticks": ""
             }
            },
            "type": "scattercarpet"
           }
          ],
          "scattergeo": [
           {
            "marker": {
             "colorbar": {
              "outlinewidth": 0,
              "ticks": ""
             }
            },
            "type": "scattergeo"
           }
          ],
          "scattergl": [
           {
            "marker": {
             "colorbar": {
              "outlinewidth": 0,
              "ticks": ""
             }
            },
            "type": "scattergl"
           }
          ],
          "scattermapbox": [
           {
            "marker": {
             "colorbar": {
              "outlinewidth": 0,
              "ticks": ""
             }
            },
            "type": "scattermapbox"
           }
          ],
          "scatterpolar": [
           {
            "marker": {
             "colorbar": {
              "outlinewidth": 0,
              "ticks": ""
             }
            },
            "type": "scatterpolar"
           }
          ],
          "scatterpolargl": [
           {
            "marker": {
             "colorbar": {
              "outlinewidth": 0,
              "ticks": ""
             }
            },
            "type": "scatterpolargl"
           }
          ],
          "scatterternary": [
           {
            "marker": {
             "colorbar": {
              "outlinewidth": 0,
              "ticks": ""
             }
            },
            "type": "scatterternary"
           }
          ],
          "surface": [
           {
            "colorbar": {
             "outlinewidth": 0,
             "ticks": ""
            },
            "colorscale": [
             [
              0,
              "#0d0887"
             ],
             [
              0.1111111111111111,
              "#46039f"
             ],
             [
              0.2222222222222222,
              "#7201a8"
             ],
             [
              0.3333333333333333,
              "#9c179e"
             ],
             [
              0.4444444444444444,
              "#bd3786"
             ],
             [
              0.5555555555555556,
              "#d8576b"
             ],
             [
              0.6666666666666666,
              "#ed7953"
             ],
             [
              0.7777777777777778,
              "#fb9f3a"
             ],
             [
              0.8888888888888888,
              "#fdca26"
             ],
             [
              1,
              "#f0f921"
             ]
            ],
            "type": "surface"
           }
          ],
          "table": [
           {
            "cells": {
             "fill": {
              "color": "#EBF0F8"
             },
             "line": {
              "color": "white"
             }
            },
            "header": {
             "fill": {
              "color": "#C8D4E3"
             },
             "line": {
              "color": "white"
             }
            },
            "type": "table"
           }
          ]
         },
         "layout": {
          "annotationdefaults": {
           "arrowcolor": "#2a3f5f",
           "arrowhead": 0,
           "arrowwidth": 1
          },
          "coloraxis": {
           "colorbar": {
            "outlinewidth": 0,
            "ticks": ""
           }
          },
          "colorscale": {
           "diverging": [
            [
             0,
             "#8e0152"
            ],
            [
             0.1,
             "#c51b7d"
            ],
            [
             0.2,
             "#de77ae"
            ],
            [
             0.3,
             "#f1b6da"
            ],
            [
             0.4,
             "#fde0ef"
            ],
            [
             0.5,
             "#f7f7f7"
            ],
            [
             0.6,
             "#e6f5d0"
            ],
            [
             0.7,
             "#b8e186"
            ],
            [
             0.8,
             "#7fbc41"
            ],
            [
             0.9,
             "#4d9221"
            ],
            [
             1,
             "#276419"
            ]
           ],
           "sequential": [
            [
             0,
             "#0d0887"
            ],
            [
             0.1111111111111111,
             "#46039f"
            ],
            [
             0.2222222222222222,
             "#7201a8"
            ],
            [
             0.3333333333333333,
             "#9c179e"
            ],
            [
             0.4444444444444444,
             "#bd3786"
            ],
            [
             0.5555555555555556,
             "#d8576b"
            ],
            [
             0.6666666666666666,
             "#ed7953"
            ],
            [
             0.7777777777777778,
             "#fb9f3a"
            ],
            [
             0.8888888888888888,
             "#fdca26"
            ],
            [
             1,
             "#f0f921"
            ]
           ],
           "sequentialminus": [
            [
             0,
             "#0d0887"
            ],
            [
             0.1111111111111111,
             "#46039f"
            ],
            [
             0.2222222222222222,
             "#7201a8"
            ],
            [
             0.3333333333333333,
             "#9c179e"
            ],
            [
             0.4444444444444444,
             "#bd3786"
            ],
            [
             0.5555555555555556,
             "#d8576b"
            ],
            [
             0.6666666666666666,
             "#ed7953"
            ],
            [
             0.7777777777777778,
             "#fb9f3a"
            ],
            [
             0.8888888888888888,
             "#fdca26"
            ],
            [
             1,
             "#f0f921"
            ]
           ]
          },
          "colorway": [
           "#636efa",
           "#EF553B",
           "#00cc96",
           "#ab63fa",
           "#FFA15A",
           "#19d3f3",
           "#FF6692",
           "#B6E880",
           "#FF97FF",
           "#FECB52"
          ],
          "font": {
           "color": "#2a3f5f"
          },
          "geo": {
           "bgcolor": "white",
           "lakecolor": "white",
           "landcolor": "#E5ECF6",
           "showlakes": true,
           "showland": true,
           "subunitcolor": "white"
          },
          "hoverlabel": {
           "align": "left"
          },
          "hovermode": "closest",
          "mapbox": {
           "style": "light"
          },
          "paper_bgcolor": "white",
          "plot_bgcolor": "#E5ECF6",
          "polar": {
           "angularaxis": {
            "gridcolor": "white",
            "linecolor": "white",
            "ticks": ""
           },
           "bgcolor": "#E5ECF6",
           "radialaxis": {
            "gridcolor": "white",
            "linecolor": "white",
            "ticks": ""
           }
          },
          "scene": {
           "xaxis": {
            "backgroundcolor": "#E5ECF6",
            "gridcolor": "white",
            "gridwidth": 2,
            "linecolor": "white",
            "showbackground": true,
            "ticks": "",
            "zerolinecolor": "white"
           },
           "yaxis": {
            "backgroundcolor": "#E5ECF6",
            "gridcolor": "white",
            "gridwidth": 2,
            "linecolor": "white",
            "showbackground": true,
            "ticks": "",
            "zerolinecolor": "white"
           },
           "zaxis": {
            "backgroundcolor": "#E5ECF6",
            "gridcolor": "white",
            "gridwidth": 2,
            "linecolor": "white",
            "showbackground": true,
            "ticks": "",
            "zerolinecolor": "white"
           }
          },
          "shapedefaults": {
           "line": {
            "color": "#2a3f5f"
           }
          },
          "ternary": {
           "aaxis": {
            "gridcolor": "white",
            "linecolor": "white",
            "ticks": ""
           },
           "baxis": {
            "gridcolor": "white",
            "linecolor": "white",
            "ticks": ""
           },
           "bgcolor": "#E5ECF6",
           "caxis": {
            "gridcolor": "white",
            "linecolor": "white",
            "ticks": ""
           }
          },
          "title": {
           "x": 0.05
          },
          "xaxis": {
           "automargin": true,
           "gridcolor": "white",
           "linecolor": "white",
           "ticks": "",
           "title": {
            "standoff": 15
           },
           "zerolinecolor": "white",
           "zerolinewidth": 2
          },
          "yaxis": {
           "automargin": true,
           "gridcolor": "white",
           "linecolor": "white",
           "ticks": "",
           "title": {
            "standoff": 15
           },
           "zerolinecolor": "white",
           "zerolinewidth": 2
          }
         }
        },
        "xaxis": {
         "anchor": "y",
         "domain": [
          0,
          1
         ]
        },
        "yaxis": {
         "anchor": "x",
         "domain": [
          0,
          1
         ],
         "title": {
          "text": "nuc_hp1b_total"
         }
        }
       }
      },
      "text/html": [
       "<div>\n",
       "        \n",
       "        \n",
       "            <div id=\"0cb2c383-4cca-44e2-b44a-ae4a156f4dbe\" class=\"plotly-graph-div\" style=\"height:525px; width:100%;\"></div>\n",
       "            <script type=\"text/javascript\">\n",
       "                require([\"plotly\"], function(Plotly) {\n",
       "                    window.PLOTLYENV=window.PLOTLYENV || {};\n",
       "                    \n",
       "                if (document.getElementById(\"0cb2c383-4cca-44e2-b44a-ae4a156f4dbe\")) {\n",
       "                    Plotly.newPlot(\n",
       "                        '0cb2c383-4cca-44e2-b44a-ae4a156f4dbe',\n",
       "                        [{\"alignmentgroup\": \"True\", \"hovertemplate\": \"nuc_hp1b_total=%{y}<extra></extra>\", \"legendgroup\": \"\", \"marker\": {\"color\": \"#636efa\"}, \"name\": \"\", \"notched\": false, \"offsetgroup\": \"\", \"orientation\": \"v\", \"showlegend\": false, \"type\": \"box\", \"x0\": \" \", \"xaxis\": \"x\", \"y\": [1415176456.0, 1062142355.0, 1717888309.0, 1615430949.0, 1324749231.0, 1714077576.0, 1191923333.0, 1211214094.0, 1277072106.0, 1097188499.0, 973161231.0, 1037943440.0, 1029175455.0, 1209364395.0, 1158953361.0, 1173785581.0, 681399751.0, 558483002.0, 853093831.0, 888897519.0, 758197622.0, 1265744848.0, 1463649414.0, 1237266966.0, 1696563856.0, 1378528661.0, 1396170491.0, 1530164002.0, 1195347121.0, 913134635.0, 993652948.0, 1001340942.0, 1173385274.0, 1113615572.0, 1145110342.0, 1283371694.0, 1343360818.0, 1448302163.0, 1148851423.0, 1381563232.0, 1488292151.0, 1166747568.0, 1225997936.0, 1256445798.0, 1216595545.0, 1241376448.0, 1373778172.0, 1366058827.0, 1190436168.0, 1550687420.0, 1610488087.0, 1173184677.0, 921876365.0, 1576334274.0, 1415310339.0, 1456040879.0, 906539377.0, 1543312364.0, 1171062065.0, 1102791118.0, 1087501285.0, 1039684362.0, 1289402965.0, 1112277747.0, 1091430276.0, 1726071023.0, 1315233483.0, 947351290.0, 1214316203.0, 1546695091.0, 1146060292.0, 1204103518.0, 1194918358.0, 1348996525.0, 1191369776.0, 1444674111.0, 1257585843.0, 1285848168.0, 1340250687.0, 1195005979.0, 1125390289.0, 1245353734.0, 1507409486.0, 1075397256.0, 1130024369.0, 1244908544.0, 896903168.0, 1490584448.0, 1375993088.0, 1156112640.0, 1531300864.0, 1022254592.0, 980470400.0, 1102612992.0, 923455296.0, 837296128.0, 895764736.0, 886496768.0, 966821056.0, 959146688.0, 1000509696.0, 599771072.0, 521385984.0, 802193536.0, 784634752.0, 575635840.0, 1061375552.0, 1163158528.0, 983669504.0, 1411369088.0, 1224386944.0, 1160896256.0, 1327687040.0, 993367808.0, 718964992.0, 761701248.0, 772259456.0, 952942336.0, 877671808.0, 984798080.0, 1073019392.0, 1126791936.0, 1272397440.0, 952457600.0, 1160863616.0, 1242480896.0, 975942656.0, 1065835648.0, 1052820800.0, 991145152.0, 1012074496.0, 1137992064.0, 1124828800.0, 988864128.0, 1363593984.0, 1363842176.0, 948239744.0, 763153280.0, 1371692288.0, 1195065600.0, 1199473536.0, 769624640.0, 1316710528.0, 1015242752.0, 884204288.0, 879721472.0, 859020032.0, 992768320.0, 980168832.0, 924821504.0, 1495159808.0, 1010576256.0, 797291136.0, 1000736128.0, 1327572736.0, 963110656.0, 995552000.0, 971545344.0, 1119171840.0, 1007873792.0, 1239251968.0, 1071403712.0, 1100342528.0, 1120102144.0, 1003937408.0, 963486464.0, 1048548992.0, 1247758592.0, 913834496.0, 960821440.0], \"y0\": \" \", \"yaxis\": \"y\"}],\n",
       "                        {\"boxmode\": \"group\", \"legend\": {\"tracegroupgap\": 0}, \"margin\": {\"t\": 60}, \"template\": {\"data\": {\"bar\": [{\"error_x\": {\"color\": \"#2a3f5f\"}, \"error_y\": {\"color\": \"#2a3f5f\"}, \"marker\": {\"line\": {\"color\": \"#E5ECF6\", \"width\": 0.5}}, \"type\": \"bar\"}], \"barpolar\": [{\"marker\": {\"line\": {\"color\": \"#E5ECF6\", \"width\": 0.5}}, \"type\": \"barpolar\"}], \"carpet\": [{\"aaxis\": {\"endlinecolor\": \"#2a3f5f\", \"gridcolor\": \"white\", \"linecolor\": \"white\", \"minorgridcolor\": \"white\", \"startlinecolor\": \"#2a3f5f\"}, \"baxis\": {\"endlinecolor\": \"#2a3f5f\", \"gridcolor\": \"white\", \"linecolor\": \"white\", \"minorgridcolor\": \"white\", \"startlinecolor\": \"#2a3f5f\"}, \"type\": \"carpet\"}], \"choropleth\": [{\"colorbar\": {\"outlinewidth\": 0, \"ticks\": \"\"}, \"type\": \"choropleth\"}], \"contour\": [{\"colorbar\": {\"outlinewidth\": 0, \"ticks\": \"\"}, \"colorscale\": [[0.0, \"#0d0887\"], [0.1111111111111111, \"#46039f\"], [0.2222222222222222, \"#7201a8\"], [0.3333333333333333, \"#9c179e\"], [0.4444444444444444, \"#bd3786\"], [0.5555555555555556, \"#d8576b\"], [0.6666666666666666, \"#ed7953\"], [0.7777777777777778, \"#fb9f3a\"], [0.8888888888888888, \"#fdca26\"], [1.0, \"#f0f921\"]], \"type\": \"contour\"}], \"contourcarpet\": [{\"colorbar\": {\"outlinewidth\": 0, \"ticks\": \"\"}, \"type\": \"contourcarpet\"}], \"heatmap\": [{\"colorbar\": {\"outlinewidth\": 0, \"ticks\": \"\"}, \"colorscale\": [[0.0, \"#0d0887\"], [0.1111111111111111, \"#46039f\"], [0.2222222222222222, \"#7201a8\"], [0.3333333333333333, \"#9c179e\"], [0.4444444444444444, \"#bd3786\"], [0.5555555555555556, \"#d8576b\"], [0.6666666666666666, \"#ed7953\"], [0.7777777777777778, \"#fb9f3a\"], [0.8888888888888888, \"#fdca26\"], [1.0, \"#f0f921\"]], \"type\": \"heatmap\"}], \"heatmapgl\": [{\"colorbar\": {\"outlinewidth\": 0, \"ticks\": \"\"}, \"colorscale\": [[0.0, \"#0d0887\"], [0.1111111111111111, \"#46039f\"], [0.2222222222222222, \"#7201a8\"], [0.3333333333333333, \"#9c179e\"], [0.4444444444444444, \"#bd3786\"], [0.5555555555555556, \"#d8576b\"], [0.6666666666666666, \"#ed7953\"], [0.7777777777777778, \"#fb9f3a\"], [0.8888888888888888, \"#fdca26\"], [1.0, \"#f0f921\"]], \"type\": \"heatmapgl\"}], \"histogram\": [{\"marker\": {\"colorbar\": {\"outlinewidth\": 0, \"ticks\": \"\"}}, \"type\": \"histogram\"}], \"histogram2d\": [{\"colorbar\": {\"outlinewidth\": 0, \"ticks\": \"\"}, \"colorscale\": [[0.0, \"#0d0887\"], [0.1111111111111111, \"#46039f\"], [0.2222222222222222, \"#7201a8\"], [0.3333333333333333, \"#9c179e\"], [0.4444444444444444, \"#bd3786\"], [0.5555555555555556, \"#d8576b\"], [0.6666666666666666, \"#ed7953\"], [0.7777777777777778, \"#fb9f3a\"], [0.8888888888888888, \"#fdca26\"], [1.0, \"#f0f921\"]], \"type\": \"histogram2d\"}], \"histogram2dcontour\": [{\"colorbar\": {\"outlinewidth\": 0, \"ticks\": \"\"}, \"colorscale\": [[0.0, \"#0d0887\"], [0.1111111111111111, \"#46039f\"], [0.2222222222222222, \"#7201a8\"], [0.3333333333333333, \"#9c179e\"], [0.4444444444444444, \"#bd3786\"], [0.5555555555555556, \"#d8576b\"], [0.6666666666666666, \"#ed7953\"], [0.7777777777777778, \"#fb9f3a\"], [0.8888888888888888, \"#fdca26\"], [1.0, \"#f0f921\"]], \"type\": \"histogram2dcontour\"}], \"mesh3d\": [{\"colorbar\": {\"outlinewidth\": 0, \"ticks\": \"\"}, \"type\": \"mesh3d\"}], \"parcoords\": [{\"line\": {\"colorbar\": {\"outlinewidth\": 0, \"ticks\": \"\"}}, \"type\": \"parcoords\"}], \"pie\": [{\"automargin\": true, \"type\": \"pie\"}], \"scatter\": [{\"marker\": {\"colorbar\": {\"outlinewidth\": 0, \"ticks\": \"\"}}, \"type\": \"scatter\"}], \"scatter3d\": [{\"line\": {\"colorbar\": {\"outlinewidth\": 0, \"ticks\": \"\"}}, \"marker\": {\"colorbar\": {\"outlinewidth\": 0, \"ticks\": \"\"}}, \"type\": \"scatter3d\"}], \"scattercarpet\": [{\"marker\": {\"colorbar\": {\"outlinewidth\": 0, \"ticks\": \"\"}}, \"type\": \"scattercarpet\"}], \"scattergeo\": [{\"marker\": {\"colorbar\": {\"outlinewidth\": 0, \"ticks\": \"\"}}, \"type\": \"scattergeo\"}], \"scattergl\": [{\"marker\": {\"colorbar\": {\"outlinewidth\": 0, \"ticks\": \"\"}}, \"type\": \"scattergl\"}], \"scattermapbox\": [{\"marker\": {\"colorbar\": {\"outlinewidth\": 0, \"ticks\": \"\"}}, \"type\": \"scattermapbox\"}], \"scatterpolar\": [{\"marker\": {\"colorbar\": {\"outlinewidth\": 0, \"ticks\": \"\"}}, \"type\": \"scatterpolar\"}], \"scatterpolargl\": [{\"marker\": {\"colorbar\": {\"outlinewidth\": 0, \"ticks\": \"\"}}, \"type\": \"scatterpolargl\"}], \"scatterternary\": [{\"marker\": {\"colorbar\": {\"outlinewidth\": 0, \"ticks\": \"\"}}, \"type\": \"scatterternary\"}], \"surface\": [{\"colorbar\": {\"outlinewidth\": 0, \"ticks\": \"\"}, \"colorscale\": [[0.0, \"#0d0887\"], [0.1111111111111111, \"#46039f\"], [0.2222222222222222, \"#7201a8\"], [0.3333333333333333, \"#9c179e\"], [0.4444444444444444, \"#bd3786\"], [0.5555555555555556, \"#d8576b\"], [0.6666666666666666, \"#ed7953\"], [0.7777777777777778, \"#fb9f3a\"], [0.8888888888888888, \"#fdca26\"], [1.0, \"#f0f921\"]], \"type\": \"surface\"}], \"table\": [{\"cells\": {\"fill\": {\"color\": \"#EBF0F8\"}, \"line\": {\"color\": \"white\"}}, \"header\": {\"fill\": {\"color\": \"#C8D4E3\"}, \"line\": {\"color\": \"white\"}}, \"type\": \"table\"}]}, \"layout\": {\"annotationdefaults\": {\"arrowcolor\": \"#2a3f5f\", \"arrowhead\": 0, \"arrowwidth\": 1}, \"coloraxis\": {\"colorbar\": {\"outlinewidth\": 0, \"ticks\": \"\"}}, \"colorscale\": {\"diverging\": [[0, \"#8e0152\"], [0.1, \"#c51b7d\"], [0.2, \"#de77ae\"], [0.3, \"#f1b6da\"], [0.4, \"#fde0ef\"], [0.5, \"#f7f7f7\"], [0.6, \"#e6f5d0\"], [0.7, \"#b8e186\"], [0.8, \"#7fbc41\"], [0.9, \"#4d9221\"], [1, \"#276419\"]], \"sequential\": [[0.0, \"#0d0887\"], [0.1111111111111111, \"#46039f\"], [0.2222222222222222, \"#7201a8\"], [0.3333333333333333, \"#9c179e\"], [0.4444444444444444, \"#bd3786\"], [0.5555555555555556, \"#d8576b\"], [0.6666666666666666, \"#ed7953\"], [0.7777777777777778, \"#fb9f3a\"], [0.8888888888888888, \"#fdca26\"], [1.0, \"#f0f921\"]], \"sequentialminus\": [[0.0, \"#0d0887\"], [0.1111111111111111, \"#46039f\"], [0.2222222222222222, \"#7201a8\"], [0.3333333333333333, \"#9c179e\"], [0.4444444444444444, \"#bd3786\"], [0.5555555555555556, \"#d8576b\"], [0.6666666666666666, \"#ed7953\"], [0.7777777777777778, \"#fb9f3a\"], [0.8888888888888888, \"#fdca26\"], [1.0, \"#f0f921\"]]}, \"colorway\": [\"#636efa\", \"#EF553B\", \"#00cc96\", \"#ab63fa\", \"#FFA15A\", \"#19d3f3\", \"#FF6692\", \"#B6E880\", \"#FF97FF\", \"#FECB52\"], \"font\": {\"color\": \"#2a3f5f\"}, \"geo\": {\"bgcolor\": \"white\", \"lakecolor\": \"white\", \"landcolor\": \"#E5ECF6\", \"showlakes\": true, \"showland\": true, \"subunitcolor\": \"white\"}, \"hoverlabel\": {\"align\": \"left\"}, \"hovermode\": \"closest\", \"mapbox\": {\"style\": \"light\"}, \"paper_bgcolor\": \"white\", \"plot_bgcolor\": \"#E5ECF6\", \"polar\": {\"angularaxis\": {\"gridcolor\": \"white\", \"linecolor\": \"white\", \"ticks\": \"\"}, \"bgcolor\": \"#E5ECF6\", \"radialaxis\": {\"gridcolor\": \"white\", \"linecolor\": \"white\", \"ticks\": \"\"}}, \"scene\": {\"xaxis\": {\"backgroundcolor\": \"#E5ECF6\", \"gridcolor\": \"white\", \"gridwidth\": 2, \"linecolor\": \"white\", \"showbackground\": true, \"ticks\": \"\", \"zerolinecolor\": \"white\"}, \"yaxis\": {\"backgroundcolor\": \"#E5ECF6\", \"gridcolor\": \"white\", \"gridwidth\": 2, \"linecolor\": \"white\", \"showbackground\": true, \"ticks\": \"\", \"zerolinecolor\": \"white\"}, \"zaxis\": {\"backgroundcolor\": \"#E5ECF6\", \"gridcolor\": \"white\", \"gridwidth\": 2, \"linecolor\": \"white\", \"showbackground\": true, \"ticks\": \"\", \"zerolinecolor\": \"white\"}}, \"shapedefaults\": {\"line\": {\"color\": \"#2a3f5f\"}}, \"ternary\": {\"aaxis\": {\"gridcolor\": \"white\", \"linecolor\": \"white\", \"ticks\": \"\"}, \"baxis\": {\"gridcolor\": \"white\", \"linecolor\": \"white\", \"ticks\": \"\"}, \"bgcolor\": \"#E5ECF6\", \"caxis\": {\"gridcolor\": \"white\", \"linecolor\": \"white\", \"ticks\": \"\"}}, \"title\": {\"x\": 0.05}, \"xaxis\": {\"automargin\": true, \"gridcolor\": \"white\", \"linecolor\": \"white\", \"ticks\": \"\", \"title\": {\"standoff\": 15}, \"zerolinecolor\": \"white\", \"zerolinewidth\": 2}, \"yaxis\": {\"automargin\": true, \"gridcolor\": \"white\", \"linecolor\": \"white\", \"ticks\": \"\", \"title\": {\"standoff\": 15}, \"zerolinecolor\": \"white\", \"zerolinewidth\": 2}}}, \"xaxis\": {\"anchor\": \"y\", \"domain\": [0.0, 1.0]}, \"yaxis\": {\"anchor\": \"x\", \"domain\": [0.0, 1.0], \"title\": {\"text\": \"nuc_hp1b_total\"}}},\n",
       "                        {\"responsive\": true}\n",
       "                    ).then(function(){\n",
       "                            \n",
       "var gd = document.getElementById('0cb2c383-4cca-44e2-b44a-ae4a156f4dbe');\n",
       "var x = new MutationObserver(function (mutations, observer) {{\n",
       "        var display = window.getComputedStyle(gd).display;\n",
       "        if (!display || display === 'none') {{\n",
       "            console.log([gd, 'removed!']);\n",
       "            Plotly.purge(gd);\n",
       "            observer.disconnect();\n",
       "        }}\n",
       "}});\n",
       "\n",
       "// Listen for the removal of the full notebook cells\n",
       "var notebookContainer = gd.closest('#notebook-container');\n",
       "if (notebookContainer) {{\n",
       "    x.observe(notebookContainer, {childList: true});\n",
       "}}\n",
       "\n",
       "// Listen for the clearing of the current output cell\n",
       "var outputEl = gd.closest('.output');\n",
       "if (outputEl) {{\n",
       "    x.observe(outputEl, {childList: true});\n",
       "}}\n",
       "\n",
       "                        })\n",
       "                };\n",
       "                });\n",
       "            </script>\n",
       "        </div>"
      ]
     },
     "metadata": {},
     "output_type": "display_data"
    }
   ],
   "source": [
    "px.box(newdata.loc[('G1' in x for x in newdata.category),:], y='nuc_hp1b_total')"
   ]
  },
  {
   "cell_type": "code",
   "execution_count": 81,
   "metadata": {},
   "outputs": [
    {
     "data": {
      "application/vnd.plotly.v1+json": {
       "config": {
        "plotlyServerURL": "https://plot.ly"
       },
       "data": [
        {
         "alignmentgroup": "True",
         "hovertemplate": "nuc_hp1b_total=%{y}<extra></extra>",
         "legendgroup": "",
         "marker": {
          "color": "#636efa"
         },
         "name": "",
         "notched": false,
         "offsetgroup": "",
         "orientation": "v",
         "showlegend": false,
         "type": "box",
         "x0": " ",
         "xaxis": "x",
         "y": [
          2693841525,
          2172379544,
          2334174130,
          2112534479,
          2008106579,
          2360343354,
          2292377397,
          2211104088,
          1895837238,
          1658557280,
          2158952339,
          2013209952,
          1912245803,
          2366099315,
          1678614873,
          2763165608,
          1816503406,
          2343924748,
          2371226778,
          1848067367,
          2389314765,
          2606173701,
          1356255869,
          1631882515,
          1964435857,
          1541949174,
          1704906726,
          2252353650,
          2295633787,
          1872745352,
          1893163642,
          1899637982,
          1736641834,
          1789405283,
          1639314035,
          2327924209,
          2083424762,
          1723213980,
          1694133848,
          1677291081,
          1516540229,
          1780011503,
          1622870858,
          1500971975,
          1649492411,
          1595833451,
          2347302049,
          1616686878,
          1451199952,
          1423675381,
          1346990165,
          1489642259,
          1831719546,
          1795515690,
          1985192424,
          1859565889,
          1514156719,
          1469451809,
          995903777,
          1484837423,
          1466791538,
          1641512100,
          1619918793,
          1664450013,
          1753562959,
          1989746709,
          1287304844,
          1665729210,
          1493477343,
          1877725093,
          1106107501,
          1098645035,
          1874516094,
          1815080686,
          1524046462,
          1547209790,
          1615019837,
          1549429497,
          1531916663,
          1627782215,
          1739122870,
          1412805540,
          1653576609,
          1411189442,
          1597512777,
          1812461849,
          1500209800,
          1677261618,
          1461890760,
          1731412342,
          2003326519,
          1553499030,
          1609729259,
          1828630685,
          1279403674,
          1442809701,
          1567537136,
          1535173675,
          1535372317,
          1526843871,
          1292621974,
          1467140232,
          1603816507,
          959031919,
          1644845719,
          1419906692,
          1429042299,
          1743452099,
          1200410481,
          1134195018,
          1415925376,
          1288202059,
          781229914,
          1779764474,
          1671397150,
          898453931,
          1935149897,
          1896962567,
          1978694258,
          1978694258,
          1853845117,
          1975705532,
          1605530871,
          2398108839,
          1518575447,
          2089713688,
          1648542108,
          1762500865,
          1987277955,
          1366034561,
          1890701811
         ],
         "y0": " ",
         "yaxis": "y"
        }
       ],
       "layout": {
        "boxmode": "group",
        "legend": {
         "tracegroupgap": 0
        },
        "margin": {
         "t": 60
        },
        "template": {
         "data": {
          "bar": [
           {
            "error_x": {
             "color": "#2a3f5f"
            },
            "error_y": {
             "color": "#2a3f5f"
            },
            "marker": {
             "line": {
              "color": "#E5ECF6",
              "width": 0.5
             }
            },
            "type": "bar"
           }
          ],
          "barpolar": [
           {
            "marker": {
             "line": {
              "color": "#E5ECF6",
              "width": 0.5
             }
            },
            "type": "barpolar"
           }
          ],
          "carpet": [
           {
            "aaxis": {
             "endlinecolor": "#2a3f5f",
             "gridcolor": "white",
             "linecolor": "white",
             "minorgridcolor": "white",
             "startlinecolor": "#2a3f5f"
            },
            "baxis": {
             "endlinecolor": "#2a3f5f",
             "gridcolor": "white",
             "linecolor": "white",
             "minorgridcolor": "white",
             "startlinecolor": "#2a3f5f"
            },
            "type": "carpet"
           }
          ],
          "choropleth": [
           {
            "colorbar": {
             "outlinewidth": 0,
             "ticks": ""
            },
            "type": "choropleth"
           }
          ],
          "contour": [
           {
            "colorbar": {
             "outlinewidth": 0,
             "ticks": ""
            },
            "colorscale": [
             [
              0,
              "#0d0887"
             ],
             [
              0.1111111111111111,
              "#46039f"
             ],
             [
              0.2222222222222222,
              "#7201a8"
             ],
             [
              0.3333333333333333,
              "#9c179e"
             ],
             [
              0.4444444444444444,
              "#bd3786"
             ],
             [
              0.5555555555555556,
              "#d8576b"
             ],
             [
              0.6666666666666666,
              "#ed7953"
             ],
             [
              0.7777777777777778,
              "#fb9f3a"
             ],
             [
              0.8888888888888888,
              "#fdca26"
             ],
             [
              1,
              "#f0f921"
             ]
            ],
            "type": "contour"
           }
          ],
          "contourcarpet": [
           {
            "colorbar": {
             "outlinewidth": 0,
             "ticks": ""
            },
            "type": "contourcarpet"
           }
          ],
          "heatmap": [
           {
            "colorbar": {
             "outlinewidth": 0,
             "ticks": ""
            },
            "colorscale": [
             [
              0,
              "#0d0887"
             ],
             [
              0.1111111111111111,
              "#46039f"
             ],
             [
              0.2222222222222222,
              "#7201a8"
             ],
             [
              0.3333333333333333,
              "#9c179e"
             ],
             [
              0.4444444444444444,
              "#bd3786"
             ],
             [
              0.5555555555555556,
              "#d8576b"
             ],
             [
              0.6666666666666666,
              "#ed7953"
             ],
             [
              0.7777777777777778,
              "#fb9f3a"
             ],
             [
              0.8888888888888888,
              "#fdca26"
             ],
             [
              1,
              "#f0f921"
             ]
            ],
            "type": "heatmap"
           }
          ],
          "heatmapgl": [
           {
            "colorbar": {
             "outlinewidth": 0,
             "ticks": ""
            },
            "colorscale": [
             [
              0,
              "#0d0887"
             ],
             [
              0.1111111111111111,
              "#46039f"
             ],
             [
              0.2222222222222222,
              "#7201a8"
             ],
             [
              0.3333333333333333,
              "#9c179e"
             ],
             [
              0.4444444444444444,
              "#bd3786"
             ],
             [
              0.5555555555555556,
              "#d8576b"
             ],
             [
              0.6666666666666666,
              "#ed7953"
             ],
             [
              0.7777777777777778,
              "#fb9f3a"
             ],
             [
              0.8888888888888888,
              "#fdca26"
             ],
             [
              1,
              "#f0f921"
             ]
            ],
            "type": "heatmapgl"
           }
          ],
          "histogram": [
           {
            "marker": {
             "colorbar": {
              "outlinewidth": 0,
              "ticks": ""
             }
            },
            "type": "histogram"
           }
          ],
          "histogram2d": [
           {
            "colorbar": {
             "outlinewidth": 0,
             "ticks": ""
            },
            "colorscale": [
             [
              0,
              "#0d0887"
             ],
             [
              0.1111111111111111,
              "#46039f"
             ],
             [
              0.2222222222222222,
              "#7201a8"
             ],
             [
              0.3333333333333333,
              "#9c179e"
             ],
             [
              0.4444444444444444,
              "#bd3786"
             ],
             [
              0.5555555555555556,
              "#d8576b"
             ],
             [
              0.6666666666666666,
              "#ed7953"
             ],
             [
              0.7777777777777778,
              "#fb9f3a"
             ],
             [
              0.8888888888888888,
              "#fdca26"
             ],
             [
              1,
              "#f0f921"
             ]
            ],
            "type": "histogram2d"
           }
          ],
          "histogram2dcontour": [
           {
            "colorbar": {
             "outlinewidth": 0,
             "ticks": ""
            },
            "colorscale": [
             [
              0,
              "#0d0887"
             ],
             [
              0.1111111111111111,
              "#46039f"
             ],
             [
              0.2222222222222222,
              "#7201a8"
             ],
             [
              0.3333333333333333,
              "#9c179e"
             ],
             [
              0.4444444444444444,
              "#bd3786"
             ],
             [
              0.5555555555555556,
              "#d8576b"
             ],
             [
              0.6666666666666666,
              "#ed7953"
             ],
             [
              0.7777777777777778,
              "#fb9f3a"
             ],
             [
              0.8888888888888888,
              "#fdca26"
             ],
             [
              1,
              "#f0f921"
             ]
            ],
            "type": "histogram2dcontour"
           }
          ],
          "mesh3d": [
           {
            "colorbar": {
             "outlinewidth": 0,
             "ticks": ""
            },
            "type": "mesh3d"
           }
          ],
          "parcoords": [
           {
            "line": {
             "colorbar": {
              "outlinewidth": 0,
              "ticks": ""
             }
            },
            "type": "parcoords"
           }
          ],
          "pie": [
           {
            "automargin": true,
            "type": "pie"
           }
          ],
          "scatter": [
           {
            "marker": {
             "colorbar": {
              "outlinewidth": 0,
              "ticks": ""
             }
            },
            "type": "scatter"
           }
          ],
          "scatter3d": [
           {
            "line": {
             "colorbar": {
              "outlinewidth": 0,
              "ticks": ""
             }
            },
            "marker": {
             "colorbar": {
              "outlinewidth": 0,
              "ticks": ""
             }
            },
            "type": "scatter3d"
           }
          ],
          "scattercarpet": [
           {
            "marker": {
             "colorbar": {
              "outlinewidth": 0,
              "ticks": ""
             }
            },
            "type": "scattercarpet"
           }
          ],
          "scattergeo": [
           {
            "marker": {
             "colorbar": {
              "outlinewidth": 0,
              "ticks": ""
             }
            },
            "type": "scattergeo"
           }
          ],
          "scattergl": [
           {
            "marker": {
             "colorbar": {
              "outlinewidth": 0,
              "ticks": ""
             }
            },
            "type": "scattergl"
           }
          ],
          "scattermapbox": [
           {
            "marker": {
             "colorbar": {
              "outlinewidth": 0,
              "ticks": ""
             }
            },
            "type": "scattermapbox"
           }
          ],
          "scatterpolar": [
           {
            "marker": {
             "colorbar": {
              "outlinewidth": 0,
              "ticks": ""
             }
            },
            "type": "scatterpolar"
           }
          ],
          "scatterpolargl": [
           {
            "marker": {
             "colorbar": {
              "outlinewidth": 0,
              "ticks": ""
             }
            },
            "type": "scatterpolargl"
           }
          ],
          "scatterternary": [
           {
            "marker": {
             "colorbar": {
              "outlinewidth": 0,
              "ticks": ""
             }
            },
            "type": "scatterternary"
           }
          ],
          "surface": [
           {
            "colorbar": {
             "outlinewidth": 0,
             "ticks": ""
            },
            "colorscale": [
             [
              0,
              "#0d0887"
             ],
             [
              0.1111111111111111,
              "#46039f"
             ],
             [
              0.2222222222222222,
              "#7201a8"
             ],
             [
              0.3333333333333333,
              "#9c179e"
             ],
             [
              0.4444444444444444,
              "#bd3786"
             ],
             [
              0.5555555555555556,
              "#d8576b"
             ],
             [
              0.6666666666666666,
              "#ed7953"
             ],
             [
              0.7777777777777778,
              "#fb9f3a"
             ],
             [
              0.8888888888888888,
              "#fdca26"
             ],
             [
              1,
              "#f0f921"
             ]
            ],
            "type": "surface"
           }
          ],
          "table": [
           {
            "cells": {
             "fill": {
              "color": "#EBF0F8"
             },
             "line": {
              "color": "white"
             }
            },
            "header": {
             "fill": {
              "color": "#C8D4E3"
             },
             "line": {
              "color": "white"
             }
            },
            "type": "table"
           }
          ]
         },
         "layout": {
          "annotationdefaults": {
           "arrowcolor": "#2a3f5f",
           "arrowhead": 0,
           "arrowwidth": 1
          },
          "coloraxis": {
           "colorbar": {
            "outlinewidth": 0,
            "ticks": ""
           }
          },
          "colorscale": {
           "diverging": [
            [
             0,
             "#8e0152"
            ],
            [
             0.1,
             "#c51b7d"
            ],
            [
             0.2,
             "#de77ae"
            ],
            [
             0.3,
             "#f1b6da"
            ],
            [
             0.4,
             "#fde0ef"
            ],
            [
             0.5,
             "#f7f7f7"
            ],
            [
             0.6,
             "#e6f5d0"
            ],
            [
             0.7,
             "#b8e186"
            ],
            [
             0.8,
             "#7fbc41"
            ],
            [
             0.9,
             "#4d9221"
            ],
            [
             1,
             "#276419"
            ]
           ],
           "sequential": [
            [
             0,
             "#0d0887"
            ],
            [
             0.1111111111111111,
             "#46039f"
            ],
            [
             0.2222222222222222,
             "#7201a8"
            ],
            [
             0.3333333333333333,
             "#9c179e"
            ],
            [
             0.4444444444444444,
             "#bd3786"
            ],
            [
             0.5555555555555556,
             "#d8576b"
            ],
            [
             0.6666666666666666,
             "#ed7953"
            ],
            [
             0.7777777777777778,
             "#fb9f3a"
            ],
            [
             0.8888888888888888,
             "#fdca26"
            ],
            [
             1,
             "#f0f921"
            ]
           ],
           "sequentialminus": [
            [
             0,
             "#0d0887"
            ],
            [
             0.1111111111111111,
             "#46039f"
            ],
            [
             0.2222222222222222,
             "#7201a8"
            ],
            [
             0.3333333333333333,
             "#9c179e"
            ],
            [
             0.4444444444444444,
             "#bd3786"
            ],
            [
             0.5555555555555556,
             "#d8576b"
            ],
            [
             0.6666666666666666,
             "#ed7953"
            ],
            [
             0.7777777777777778,
             "#fb9f3a"
            ],
            [
             0.8888888888888888,
             "#fdca26"
            ],
            [
             1,
             "#f0f921"
            ]
           ]
          },
          "colorway": [
           "#636efa",
           "#EF553B",
           "#00cc96",
           "#ab63fa",
           "#FFA15A",
           "#19d3f3",
           "#FF6692",
           "#B6E880",
           "#FF97FF",
           "#FECB52"
          ],
          "font": {
           "color": "#2a3f5f"
          },
          "geo": {
           "bgcolor": "white",
           "lakecolor": "white",
           "landcolor": "#E5ECF6",
           "showlakes": true,
           "showland": true,
           "subunitcolor": "white"
          },
          "hoverlabel": {
           "align": "left"
          },
          "hovermode": "closest",
          "mapbox": {
           "style": "light"
          },
          "paper_bgcolor": "white",
          "plot_bgcolor": "#E5ECF6",
          "polar": {
           "angularaxis": {
            "gridcolor": "white",
            "linecolor": "white",
            "ticks": ""
           },
           "bgcolor": "#E5ECF6",
           "radialaxis": {
            "gridcolor": "white",
            "linecolor": "white",
            "ticks": ""
           }
          },
          "scene": {
           "xaxis": {
            "backgroundcolor": "#E5ECF6",
            "gridcolor": "white",
            "gridwidth": 2,
            "linecolor": "white",
            "showbackground": true,
            "ticks": "",
            "zerolinecolor": "white"
           },
           "yaxis": {
            "backgroundcolor": "#E5ECF6",
            "gridcolor": "white",
            "gridwidth": 2,
            "linecolor": "white",
            "showbackground": true,
            "ticks": "",
            "zerolinecolor": "white"
           },
           "zaxis": {
            "backgroundcolor": "#E5ECF6",
            "gridcolor": "white",
            "gridwidth": 2,
            "linecolor": "white",
            "showbackground": true,
            "ticks": "",
            "zerolinecolor": "white"
           }
          },
          "shapedefaults": {
           "line": {
            "color": "#2a3f5f"
           }
          },
          "ternary": {
           "aaxis": {
            "gridcolor": "white",
            "linecolor": "white",
            "ticks": ""
           },
           "baxis": {
            "gridcolor": "white",
            "linecolor": "white",
            "ticks": ""
           },
           "bgcolor": "#E5ECF6",
           "caxis": {
            "gridcolor": "white",
            "linecolor": "white",
            "ticks": ""
           }
          },
          "title": {
           "x": 0.05
          },
          "xaxis": {
           "automargin": true,
           "gridcolor": "white",
           "linecolor": "white",
           "ticks": "",
           "title": {
            "standoff": 15
           },
           "zerolinecolor": "white",
           "zerolinewidth": 2
          },
          "yaxis": {
           "automargin": true,
           "gridcolor": "white",
           "linecolor": "white",
           "ticks": "",
           "title": {
            "standoff": 15
           },
           "zerolinecolor": "white",
           "zerolinewidth": 2
          }
         }
        },
        "xaxis": {
         "anchor": "y",
         "domain": [
          0,
          1
         ]
        },
        "yaxis": {
         "anchor": "x",
         "domain": [
          0,
          1
         ],
         "title": {
          "text": "nuc_hp1b_total"
         }
        }
       }
      },
      "text/html": [
       "<div>\n",
       "        \n",
       "        \n",
       "            <div id=\"af969796-e689-494b-bfb4-b6419424aee8\" class=\"plotly-graph-div\" style=\"height:525px; width:100%;\"></div>\n",
       "            <script type=\"text/javascript\">\n",
       "                require([\"plotly\"], function(Plotly) {\n",
       "                    window.PLOTLYENV=window.PLOTLYENV || {};\n",
       "                    \n",
       "                if (document.getElementById(\"af969796-e689-494b-bfb4-b6419424aee8\")) {\n",
       "                    Plotly.newPlot(\n",
       "                        'af969796-e689-494b-bfb4-b6419424aee8',\n",
       "                        [{\"alignmentgroup\": \"True\", \"hovertemplate\": \"nuc_hp1b_total=%{y}<extra></extra>\", \"legendgroup\": \"\", \"marker\": {\"color\": \"#636efa\"}, \"name\": \"\", \"notched\": false, \"offsetgroup\": \"\", \"orientation\": \"v\", \"showlegend\": false, \"type\": \"box\", \"x0\": \" \", \"xaxis\": \"x\", \"y\": [2693841525.0, 2172379544.0, 2334174130.0, 2112534479.0, 2008106579.0, 2360343354.0, 2292377397.0, 2211104088.0, 1895837238.0, 1658557280.0, 2158952339.0, 2013209952.0, 1912245803.0, 2366099315.0, 1678614873.0, 2763165608.0, 1816503406.0, 2343924748.0, 2371226778.0, 1848067367.0, 2389314765.0, 2606173701.0, 1356255869.0, 1631882515.0, 1964435857.0, 1541949174.0, 1704906726.0, 2252353650.0, 2295633787.0, 1872745352.0, 1893163642.0, 1899637982.0, 1736641834.0, 1789405283.0, 1639314035.0, 2327924209.0, 2083424762.0, 1723213980.0, 1694133848.0, 1677291081.0, 1516540229.0, 1780011503.0, 1622870858.0, 1500971975.0, 1649492411.0, 1595833451.0, 2347302049.0, 1616686878.0, 1451199952.0, 1423675381.0, 1346990165.0, 1489642259.0, 1831719546.0, 1795515690.0, 1985192424.0, 1859565889.0, 1514156719.0, 1469451809.0, 995903777.0, 1484837423.0, 1466791538.0, 1641512100.0, 1619918793.0, 1664450013.0, 1753562959.0, 1989746709.0, 1287304844.0, 1665729210.0, 1493477343.0, 1877725093.0, 1106107501.0, 1098645035.0, 1874516094.0, 1815080686.0, 1524046462.0, 1547209790.0, 1615019837.0, 1549429497.0, 1531916663.0, 1627782215.0, 1739122870.0, 1412805540.0, 1653576609.0, 1411189442.0, 1597512777.0, 1812461849.0, 1500209800.0, 1677261618.0, 1461890760.0, 1731412342.0, 2003326519.0, 1553499030.0, 1609729259.0, 1828630685.0, 1279403674.0, 1442809701.0, 1567537136.0, 1535173675.0, 1535372317.0, 1526843871.0, 1292621974.0, 1467140232.0, 1603816507.0, 959031919.0, 1644845719.0, 1419906692.0, 1429042299.0, 1743452099.0, 1200410481.0, 1134195018.0, 1415925376.0, 1288202059.0, 781229914.0, 1779764474.0, 1671397150.0, 898453931.0, 1935149897.0, 1896962567.0, 1978694258.0, 1978694258.0, 1853845117.0, 1975705532.0, 1605530871.0, 2398108839.0, 1518575447.0, 2089713688.0, 1648542108.0, 1762500865.0, 1987277955.0, 1366034561.0, 1890701811.0], \"y0\": \" \", \"yaxis\": \"y\"}],\n",
       "                        {\"boxmode\": \"group\", \"legend\": {\"tracegroupgap\": 0}, \"margin\": {\"t\": 60}, \"template\": {\"data\": {\"bar\": [{\"error_x\": {\"color\": \"#2a3f5f\"}, \"error_y\": {\"color\": \"#2a3f5f\"}, \"marker\": {\"line\": {\"color\": \"#E5ECF6\", \"width\": 0.5}}, \"type\": \"bar\"}], \"barpolar\": [{\"marker\": {\"line\": {\"color\": \"#E5ECF6\", \"width\": 0.5}}, \"type\": \"barpolar\"}], \"carpet\": [{\"aaxis\": {\"endlinecolor\": \"#2a3f5f\", \"gridcolor\": \"white\", \"linecolor\": \"white\", \"minorgridcolor\": \"white\", \"startlinecolor\": \"#2a3f5f\"}, \"baxis\": {\"endlinecolor\": \"#2a3f5f\", \"gridcolor\": \"white\", \"linecolor\": \"white\", \"minorgridcolor\": \"white\", \"startlinecolor\": \"#2a3f5f\"}, \"type\": \"carpet\"}], \"choropleth\": [{\"colorbar\": {\"outlinewidth\": 0, \"ticks\": \"\"}, \"type\": \"choropleth\"}], \"contour\": [{\"colorbar\": {\"outlinewidth\": 0, \"ticks\": \"\"}, \"colorscale\": [[0.0, \"#0d0887\"], [0.1111111111111111, \"#46039f\"], [0.2222222222222222, \"#7201a8\"], [0.3333333333333333, \"#9c179e\"], [0.4444444444444444, \"#bd3786\"], [0.5555555555555556, \"#d8576b\"], [0.6666666666666666, \"#ed7953\"], [0.7777777777777778, \"#fb9f3a\"], [0.8888888888888888, \"#fdca26\"], [1.0, \"#f0f921\"]], \"type\": \"contour\"}], \"contourcarpet\": [{\"colorbar\": {\"outlinewidth\": 0, \"ticks\": \"\"}, \"type\": \"contourcarpet\"}], \"heatmap\": [{\"colorbar\": {\"outlinewidth\": 0, \"ticks\": \"\"}, \"colorscale\": [[0.0, \"#0d0887\"], [0.1111111111111111, \"#46039f\"], [0.2222222222222222, \"#7201a8\"], [0.3333333333333333, \"#9c179e\"], [0.4444444444444444, \"#bd3786\"], [0.5555555555555556, \"#d8576b\"], [0.6666666666666666, \"#ed7953\"], [0.7777777777777778, \"#fb9f3a\"], [0.8888888888888888, \"#fdca26\"], [1.0, \"#f0f921\"]], \"type\": \"heatmap\"}], \"heatmapgl\": [{\"colorbar\": {\"outlinewidth\": 0, \"ticks\": \"\"}, \"colorscale\": [[0.0, \"#0d0887\"], [0.1111111111111111, \"#46039f\"], [0.2222222222222222, \"#7201a8\"], [0.3333333333333333, \"#9c179e\"], [0.4444444444444444, \"#bd3786\"], [0.5555555555555556, \"#d8576b\"], [0.6666666666666666, \"#ed7953\"], [0.7777777777777778, \"#fb9f3a\"], [0.8888888888888888, \"#fdca26\"], [1.0, \"#f0f921\"]], \"type\": \"heatmapgl\"}], \"histogram\": [{\"marker\": {\"colorbar\": {\"outlinewidth\": 0, \"ticks\": \"\"}}, \"type\": \"histogram\"}], \"histogram2d\": [{\"colorbar\": {\"outlinewidth\": 0, \"ticks\": \"\"}, \"colorscale\": [[0.0, \"#0d0887\"], [0.1111111111111111, \"#46039f\"], [0.2222222222222222, \"#7201a8\"], [0.3333333333333333, \"#9c179e\"], [0.4444444444444444, \"#bd3786\"], [0.5555555555555556, \"#d8576b\"], [0.6666666666666666, \"#ed7953\"], [0.7777777777777778, \"#fb9f3a\"], [0.8888888888888888, \"#fdca26\"], [1.0, \"#f0f921\"]], \"type\": \"histogram2d\"}], \"histogram2dcontour\": [{\"colorbar\": {\"outlinewidth\": 0, \"ticks\": \"\"}, \"colorscale\": [[0.0, \"#0d0887\"], [0.1111111111111111, \"#46039f\"], [0.2222222222222222, \"#7201a8\"], [0.3333333333333333, \"#9c179e\"], [0.4444444444444444, \"#bd3786\"], [0.5555555555555556, \"#d8576b\"], [0.6666666666666666, \"#ed7953\"], [0.7777777777777778, \"#fb9f3a\"], [0.8888888888888888, \"#fdca26\"], [1.0, \"#f0f921\"]], \"type\": \"histogram2dcontour\"}], \"mesh3d\": [{\"colorbar\": {\"outlinewidth\": 0, \"ticks\": \"\"}, \"type\": \"mesh3d\"}], \"parcoords\": [{\"line\": {\"colorbar\": {\"outlinewidth\": 0, \"ticks\": \"\"}}, \"type\": \"parcoords\"}], \"pie\": [{\"automargin\": true, \"type\": \"pie\"}], \"scatter\": [{\"marker\": {\"colorbar\": {\"outlinewidth\": 0, \"ticks\": \"\"}}, \"type\": \"scatter\"}], \"scatter3d\": [{\"line\": {\"colorbar\": {\"outlinewidth\": 0, \"ticks\": \"\"}}, \"marker\": {\"colorbar\": {\"outlinewidth\": 0, \"ticks\": \"\"}}, \"type\": \"scatter3d\"}], \"scattercarpet\": [{\"marker\": {\"colorbar\": {\"outlinewidth\": 0, \"ticks\": \"\"}}, \"type\": \"scattercarpet\"}], \"scattergeo\": [{\"marker\": {\"colorbar\": {\"outlinewidth\": 0, \"ticks\": \"\"}}, \"type\": \"scattergeo\"}], \"scattergl\": [{\"marker\": {\"colorbar\": {\"outlinewidth\": 0, \"ticks\": \"\"}}, \"type\": \"scattergl\"}], \"scattermapbox\": [{\"marker\": {\"colorbar\": {\"outlinewidth\": 0, \"ticks\": \"\"}}, \"type\": \"scattermapbox\"}], \"scatterpolar\": [{\"marker\": {\"colorbar\": {\"outlinewidth\": 0, \"ticks\": \"\"}}, \"type\": \"scatterpolar\"}], \"scatterpolargl\": [{\"marker\": {\"colorbar\": {\"outlinewidth\": 0, \"ticks\": \"\"}}, \"type\": \"scatterpolargl\"}], \"scatterternary\": [{\"marker\": {\"colorbar\": {\"outlinewidth\": 0, \"ticks\": \"\"}}, \"type\": \"scatterternary\"}], \"surface\": [{\"colorbar\": {\"outlinewidth\": 0, \"ticks\": \"\"}, \"colorscale\": [[0.0, \"#0d0887\"], [0.1111111111111111, \"#46039f\"], [0.2222222222222222, \"#7201a8\"], [0.3333333333333333, \"#9c179e\"], [0.4444444444444444, \"#bd3786\"], [0.5555555555555556, \"#d8576b\"], [0.6666666666666666, \"#ed7953\"], [0.7777777777777778, \"#fb9f3a\"], [0.8888888888888888, \"#fdca26\"], [1.0, \"#f0f921\"]], \"type\": \"surface\"}], \"table\": [{\"cells\": {\"fill\": {\"color\": \"#EBF0F8\"}, \"line\": {\"color\": \"white\"}}, \"header\": {\"fill\": {\"color\": \"#C8D4E3\"}, \"line\": {\"color\": \"white\"}}, \"type\": \"table\"}]}, \"layout\": {\"annotationdefaults\": {\"arrowcolor\": \"#2a3f5f\", \"arrowhead\": 0, \"arrowwidth\": 1}, \"coloraxis\": {\"colorbar\": {\"outlinewidth\": 0, \"ticks\": \"\"}}, \"colorscale\": {\"diverging\": [[0, \"#8e0152\"], [0.1, \"#c51b7d\"], [0.2, \"#de77ae\"], [0.3, \"#f1b6da\"], [0.4, \"#fde0ef\"], [0.5, \"#f7f7f7\"], [0.6, \"#e6f5d0\"], [0.7, \"#b8e186\"], [0.8, \"#7fbc41\"], [0.9, \"#4d9221\"], [1, \"#276419\"]], \"sequential\": [[0.0, \"#0d0887\"], [0.1111111111111111, \"#46039f\"], [0.2222222222222222, \"#7201a8\"], [0.3333333333333333, \"#9c179e\"], [0.4444444444444444, \"#bd3786\"], [0.5555555555555556, \"#d8576b\"], [0.6666666666666666, \"#ed7953\"], [0.7777777777777778, \"#fb9f3a\"], [0.8888888888888888, \"#fdca26\"], [1.0, \"#f0f921\"]], \"sequentialminus\": [[0.0, \"#0d0887\"], [0.1111111111111111, \"#46039f\"], [0.2222222222222222, \"#7201a8\"], [0.3333333333333333, \"#9c179e\"], [0.4444444444444444, \"#bd3786\"], [0.5555555555555556, \"#d8576b\"], [0.6666666666666666, \"#ed7953\"], [0.7777777777777778, \"#fb9f3a\"], [0.8888888888888888, \"#fdca26\"], [1.0, \"#f0f921\"]]}, \"colorway\": [\"#636efa\", \"#EF553B\", \"#00cc96\", \"#ab63fa\", \"#FFA15A\", \"#19d3f3\", \"#FF6692\", \"#B6E880\", \"#FF97FF\", \"#FECB52\"], \"font\": {\"color\": \"#2a3f5f\"}, \"geo\": {\"bgcolor\": \"white\", \"lakecolor\": \"white\", \"landcolor\": \"#E5ECF6\", \"showlakes\": true, \"showland\": true, \"subunitcolor\": \"white\"}, \"hoverlabel\": {\"align\": \"left\"}, \"hovermode\": \"closest\", \"mapbox\": {\"style\": \"light\"}, \"paper_bgcolor\": \"white\", \"plot_bgcolor\": \"#E5ECF6\", \"polar\": {\"angularaxis\": {\"gridcolor\": \"white\", \"linecolor\": \"white\", \"ticks\": \"\"}, \"bgcolor\": \"#E5ECF6\", \"radialaxis\": {\"gridcolor\": \"white\", \"linecolor\": \"white\", \"ticks\": \"\"}}, \"scene\": {\"xaxis\": {\"backgroundcolor\": \"#E5ECF6\", \"gridcolor\": \"white\", \"gridwidth\": 2, \"linecolor\": \"white\", \"showbackground\": true, \"ticks\": \"\", \"zerolinecolor\": \"white\"}, \"yaxis\": {\"backgroundcolor\": \"#E5ECF6\", \"gridcolor\": \"white\", \"gridwidth\": 2, \"linecolor\": \"white\", \"showbackground\": true, \"ticks\": \"\", \"zerolinecolor\": \"white\"}, \"zaxis\": {\"backgroundcolor\": \"#E5ECF6\", \"gridcolor\": \"white\", \"gridwidth\": 2, \"linecolor\": \"white\", \"showbackground\": true, \"ticks\": \"\", \"zerolinecolor\": \"white\"}}, \"shapedefaults\": {\"line\": {\"color\": \"#2a3f5f\"}}, \"ternary\": {\"aaxis\": {\"gridcolor\": \"white\", \"linecolor\": \"white\", \"ticks\": \"\"}, \"baxis\": {\"gridcolor\": \"white\", \"linecolor\": \"white\", \"ticks\": \"\"}, \"bgcolor\": \"#E5ECF6\", \"caxis\": {\"gridcolor\": \"white\", \"linecolor\": \"white\", \"ticks\": \"\"}}, \"title\": {\"x\": 0.05}, \"xaxis\": {\"automargin\": true, \"gridcolor\": \"white\", \"linecolor\": \"white\", \"ticks\": \"\", \"title\": {\"standoff\": 15}, \"zerolinecolor\": \"white\", \"zerolinewidth\": 2}, \"yaxis\": {\"automargin\": true, \"gridcolor\": \"white\", \"linecolor\": \"white\", \"ticks\": \"\", \"title\": {\"standoff\": 15}, \"zerolinecolor\": \"white\", \"zerolinewidth\": 2}}}, \"xaxis\": {\"anchor\": \"y\", \"domain\": [0.0, 1.0]}, \"yaxis\": {\"anchor\": \"x\", \"domain\": [0.0, 1.0], \"title\": {\"text\": \"nuc_hp1b_total\"}}},\n",
       "                        {\"responsive\": true}\n",
       "                    ).then(function(){\n",
       "                            \n",
       "var gd = document.getElementById('af969796-e689-494b-bfb4-b6419424aee8');\n",
       "var x = new MutationObserver(function (mutations, observer) {{\n",
       "        var display = window.getComputedStyle(gd).display;\n",
       "        if (!display || display === 'none') {{\n",
       "            console.log([gd, 'removed!']);\n",
       "            Plotly.purge(gd);\n",
       "            observer.disconnect();\n",
       "        }}\n",
       "}});\n",
       "\n",
       "// Listen for the removal of the full notebook cells\n",
       "var notebookContainer = gd.closest('#notebook-container');\n",
       "if (notebookContainer) {{\n",
       "    x.observe(notebookContainer, {childList: true});\n",
       "}}\n",
       "\n",
       "// Listen for the clearing of the current output cell\n",
       "var outputEl = gd.closest('.output');\n",
       "if (outputEl) {{\n",
       "    x.observe(outputEl, {childList: true});\n",
       "}}\n",
       "\n",
       "                        })\n",
       "                };\n",
       "                });\n",
       "            </script>\n",
       "        </div>"
      ]
     },
     "metadata": {},
     "output_type": "display_data"
    }
   ],
   "source": [
    "px.box(geminin.loc[('G1' in x for x in geminin.category),:], y='nuc_hp1b_total')"
   ]
  },
  {
   "cell_type": "code",
   "execution_count": null,
   "metadata": {},
   "outputs": [],
   "source": []
  }
 ],
 "metadata": {
  "kernelspec": {
   "display_name": "Python 3",
   "language": "python",
   "name": "python3"
  },
  "language_info": {
   "codemirror_mode": {
    "name": "ipython",
    "version": 3
   },
   "file_extension": ".py",
   "mimetype": "text/x-python",
   "name": "python",
   "nbconvert_exporter": "python",
   "pygments_lexer": "ipython3",
   "version": "3.7.3"
  }
 },
 "nbformat": 4,
 "nbformat_minor": 2
}
