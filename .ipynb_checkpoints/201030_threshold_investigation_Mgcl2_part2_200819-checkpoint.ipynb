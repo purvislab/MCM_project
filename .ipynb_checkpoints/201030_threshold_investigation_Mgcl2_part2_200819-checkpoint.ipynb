{
 "cells": [
  {
   "cell_type": "code",
   "execution_count": 30,
   "metadata": {},
   "outputs": [],
   "source": [
    "import pandas as pd\n",
    "import numpy as np\n",
    "import matplotlib.pyplot as plt\n",
    "import seaborn as sns\n",
    "from scipy import stats"
   ]
  },
  {
   "cell_type": "code",
   "execution_count": 2,
   "metadata": {},
   "outputs": [],
   "source": [
    "import os\n",
    "from os import listdir\n",
    "from os.path import isfile, join\n",
    "from itertools import islice\n",
    "from skimage.external import tifffile\n",
    "from skimage.external.tifffile import imread\n",
    "import ipywidgets as widgets"
   ]
  },
  {
   "cell_type": "code",
   "execution_count": 3,
   "metadata": {},
   "outputs": [],
   "source": [
    "bigDir = r'Z:\\CookLab\\Liu\\20190816_organizedData_MCM_loading\\20200829_h3k9me3'"
   ]
  },
  {
   "cell_type": "code",
   "execution_count": 9,
   "metadata": {},
   "outputs": [],
   "source": [
    "file = f\"{bigDir}\\\\200819_cellinfo_v7_20.csv\"\n",
    "data = pd.read_csv(file)"
   ]
  },
  {
   "cell_type": "code",
   "execution_count": 5,
   "metadata": {},
   "outputs": [
    {
     "data": {
      "text/html": [
       "<div>\n",
       "<style scoped>\n",
       "    .dataframe tbody tr th:only-of-type {\n",
       "        vertical-align: middle;\n",
       "    }\n",
       "\n",
       "    .dataframe tbody tr th {\n",
       "        vertical-align: top;\n",
       "    }\n",
       "\n",
       "    .dataframe thead th {\n",
       "        text-align: right;\n",
       "    }\n",
       "</style>\n",
       "<table border=\"1\" class=\"dataframe\">\n",
       "  <thead>\n",
       "    <tr style=\"text-align: right;\">\n",
       "      <th></th>\n",
       "      <th>Unnamed: 0</th>\n",
       "      <th>Unnamed: 0.1</th>\n",
       "      <th>file</th>\n",
       "      <th>original cell name</th>\n",
       "      <th>movie</th>\n",
       "      <th>x</th>\n",
       "      <th>y</th>\n",
       "      <th>ab1 (MCM)</th>\n",
       "      <th>ab1 ch</th>\n",
       "      <th>ab2 (heterochromatin)</th>\n",
       "      <th>...</th>\n",
       "      <th>outer_DAPI_eu</th>\n",
       "      <th>nuc_h3k9me3_total</th>\n",
       "      <th>inner_h3k9me3_total</th>\n",
       "      <th>outer_h3k9me3_total</th>\n",
       "      <th>nuc_h3k9me3_het</th>\n",
       "      <th>inner_h3k9me3_het</th>\n",
       "      <th>outer_h3k9me3_het</th>\n",
       "      <th>nuc_h3k9me3_eu</th>\n",
       "      <th>inner_h3k9me3_eu</th>\n",
       "      <th>outer_h3k9me3_eu</th>\n",
       "    </tr>\n",
       "  </thead>\n",
       "  <tbody>\n",
       "    <tr>\n",
       "      <th>0</th>\n",
       "      <td>0</td>\n",
       "      <td>0</td>\n",
       "      <td>20200819_cell2_01.ciz</td>\n",
       "      <td>20200818xy19_6.czi</td>\n",
       "      <td>200819xy19</td>\n",
       "      <td>1526.899</td>\n",
       "      <td>85.295</td>\n",
       "      <td>H3k9me3</td>\n",
       "      <td>1</td>\n",
       "      <td>MCM2</td>\n",
       "      <td>...</td>\n",
       "      <td>8.056507e+08</td>\n",
       "      <td>1.556340e+09</td>\n",
       "      <td>507823395.0</td>\n",
       "      <td>1.048516e+09</td>\n",
       "      <td>658184045.0</td>\n",
       "      <td>359266210.0</td>\n",
       "      <td>298917835.0</td>\n",
       "      <td>8.981557e+08</td>\n",
       "      <td>148557185.0</td>\n",
       "      <td>749598468.0</td>\n",
       "    </tr>\n",
       "    <tr>\n",
       "      <th>1</th>\n",
       "      <td>1</td>\n",
       "      <td>1</td>\n",
       "      <td>20200819_cell2_02.ciz</td>\n",
       "      <td>20200818xy19_8.czi</td>\n",
       "      <td>200819xy19</td>\n",
       "      <td>1112.568</td>\n",
       "      <td>94.321</td>\n",
       "      <td>H3k9me3</td>\n",
       "      <td>1</td>\n",
       "      <td>MCM2</td>\n",
       "      <td>...</td>\n",
       "      <td>8.659832e+08</td>\n",
       "      <td>1.519626e+09</td>\n",
       "      <td>374000205.0</td>\n",
       "      <td>1.145626e+09</td>\n",
       "      <td>603664320.0</td>\n",
       "      <td>217624195.0</td>\n",
       "      <td>386040125.0</td>\n",
       "      <td>9.159621e+08</td>\n",
       "      <td>156376010.0</td>\n",
       "      <td>759586103.0</td>\n",
       "    </tr>\n",
       "    <tr>\n",
       "      <th>2</th>\n",
       "      <td>2</td>\n",
       "      <td>2</td>\n",
       "      <td>20200819_cell2_03.ciz</td>\n",
       "      <td>20200818xy19_22.czi</td>\n",
       "      <td>200819xy19</td>\n",
       "      <td>1412.269</td>\n",
       "      <td>290.826</td>\n",
       "      <td>H3k9me3</td>\n",
       "      <td>1</td>\n",
       "      <td>MCM2</td>\n",
       "      <td>...</td>\n",
       "      <td>9.180782e+08</td>\n",
       "      <td>1.031510e+09</td>\n",
       "      <td>329936617.0</td>\n",
       "      <td>7.015734e+08</td>\n",
       "      <td>457591039.0</td>\n",
       "      <td>256291447.0</td>\n",
       "      <td>201299592.0</td>\n",
       "      <td>5.739190e+08</td>\n",
       "      <td>73645170.0</td>\n",
       "      <td>500273850.0</td>\n",
       "    </tr>\n",
       "    <tr>\n",
       "      <th>3</th>\n",
       "      <td>3</td>\n",
       "      <td>3</td>\n",
       "      <td>20200819_cell2_04.ciz</td>\n",
       "      <td>20200818xy19_25.czi</td>\n",
       "      <td>200819xy19</td>\n",
       "      <td>1764.520</td>\n",
       "      <td>336.100</td>\n",
       "      <td>H3k9me3</td>\n",
       "      <td>1</td>\n",
       "      <td>MCM2</td>\n",
       "      <td>...</td>\n",
       "      <td>1.037998e+09</td>\n",
       "      <td>1.255900e+09</td>\n",
       "      <td>244456731.0</td>\n",
       "      <td>1.011443e+09</td>\n",
       "      <td>579531132.0</td>\n",
       "      <td>203671825.0</td>\n",
       "      <td>375859307.0</td>\n",
       "      <td>6.763688e+08</td>\n",
       "      <td>40784906.0</td>\n",
       "      <td>635583861.0</td>\n",
       "    </tr>\n",
       "    <tr>\n",
       "      <th>4</th>\n",
       "      <td>4</td>\n",
       "      <td>4</td>\n",
       "      <td>20200819_cell2_05.ciz</td>\n",
       "      <td>20200818xy19_27.czi</td>\n",
       "      <td>200819xy19</td>\n",
       "      <td>188.411</td>\n",
       "      <td>367.506</td>\n",
       "      <td>H3k9me3</td>\n",
       "      <td>1</td>\n",
       "      <td>MCM2</td>\n",
       "      <td>...</td>\n",
       "      <td>1.771447e+09</td>\n",
       "      <td>1.834223e+09</td>\n",
       "      <td>612423518.0</td>\n",
       "      <td>1.221800e+09</td>\n",
       "      <td>716771839.0</td>\n",
       "      <td>397258618.0</td>\n",
       "      <td>319513221.0</td>\n",
       "      <td>1.117451e+09</td>\n",
       "      <td>215164900.0</td>\n",
       "      <td>902286564.0</td>\n",
       "    </tr>\n",
       "  </tbody>\n",
       "</table>\n",
       "<p>5 rows × 61 columns</p>\n",
       "</div>"
      ],
      "text/plain": [
       "   Unnamed: 0  Unnamed: 0.1                   file   original cell name  \\\n",
       "0           0             0  20200819_cell2_01.ciz   20200818xy19_6.czi   \n",
       "1           1             1  20200819_cell2_02.ciz   20200818xy19_8.czi   \n",
       "2           2             2  20200819_cell2_03.ciz  20200818xy19_22.czi   \n",
       "3           3             3  20200819_cell2_04.ciz  20200818xy19_25.czi   \n",
       "4           4             4  20200819_cell2_05.ciz  20200818xy19_27.czi   \n",
       "\n",
       "        movie         x        y ab1 (MCM)  ab1 ch ab2 (heterochromatin)  ...  \\\n",
       "0  200819xy19  1526.899   85.295   H3k9me3       1                  MCM2  ...   \n",
       "1  200819xy19  1112.568   94.321   H3k9me3       1                  MCM2  ...   \n",
       "2  200819xy19  1412.269  290.826   H3k9me3       1                  MCM2  ...   \n",
       "3  200819xy19  1764.520  336.100   H3k9me3       1                  MCM2  ...   \n",
       "4  200819xy19   188.411  367.506   H3k9me3       1                  MCM2  ...   \n",
       "\n",
       "   outer_DAPI_eu  nuc_h3k9me3_total  inner_h3k9me3_total outer_h3k9me3_total  \\\n",
       "0   8.056507e+08       1.556340e+09          507823395.0        1.048516e+09   \n",
       "1   8.659832e+08       1.519626e+09          374000205.0        1.145626e+09   \n",
       "2   9.180782e+08       1.031510e+09          329936617.0        7.015734e+08   \n",
       "3   1.037998e+09       1.255900e+09          244456731.0        1.011443e+09   \n",
       "4   1.771447e+09       1.834223e+09          612423518.0        1.221800e+09   \n",
       "\n",
       "   nuc_h3k9me3_het  inner_h3k9me3_het  outer_h3k9me3_het nuc_h3k9me3_eu  \\\n",
       "0      658184045.0        359266210.0        298917835.0   8.981557e+08   \n",
       "1      603664320.0        217624195.0        386040125.0   9.159621e+08   \n",
       "2      457591039.0        256291447.0        201299592.0   5.739190e+08   \n",
       "3      579531132.0        203671825.0        375859307.0   6.763688e+08   \n",
       "4      716771839.0        397258618.0        319513221.0   1.117451e+09   \n",
       "\n",
       "  inner_h3k9me3_eu  outer_h3k9me3_eu  \n",
       "0      148557185.0       749598468.0  \n",
       "1      156376010.0       759586103.0  \n",
       "2       73645170.0       500273850.0  \n",
       "3       40784906.0       635583861.0  \n",
       "4      215164900.0       902286564.0  \n",
       "\n",
       "[5 rows x 61 columns]"
      ]
     },
     "execution_count": 5,
     "metadata": {},
     "output_type": "execute_result"
    }
   ],
   "source": [
    "data.head()"
   ]
  },
  {
   "cell_type": "code",
   "execution_count": 4,
   "metadata": {},
   "outputs": [],
   "source": [
    "file2 = f\"{bigDir}\\\\200819_cellinfo_v6_28.csv\"\n",
    "data2 = pd.read_csv(file2)"
   ]
  },
  {
   "cell_type": "code",
   "execution_count": 5,
   "metadata": {},
   "outputs": [],
   "source": [
    "file3 = f\"{bigDir}\\\\200819_cellinfo_v6_29.csv\"\n",
    "data3 = pd.read_csv(file3)"
   ]
  },
  {
   "cell_type": "markdown",
   "metadata": {},
   "source": [
    "# Questions to answer\n",
    "1. Do the cells change the volume of nuclei in MgCL2? - answered by Liu\n",
    "2. What is the distribution of heterochromatin intensity threshold in ctrl population of cells?\n",
    "3. Compare total heterochromatin marker signal in cells in ctl and MgCl2 groups. which group has more signal?\n",
    "4. Find thresdhold for heterochromatin volume in MgCl2 treated cells that will match the intensity threshold from ctl cells. "
   ]
  },
  {
   "cell_type": "code",
   "execution_count": 6,
   "metadata": {},
   "outputs": [],
   "source": [
    "myHetSignalFinal=[]\n",
    "myChannelFinal=[]\n",
    "myHetSignal_1Final=[]"
   ]
  },
  {
   "cell_type": "code",
   "execution_count": 9,
   "metadata": {},
   "outputs": [],
   "source": [
    "data_test=data"
   ]
  },
  {
   "cell_type": "code",
   "execution_count": 8,
   "metadata": {},
   "outputs": [
    {
     "data": {
      "application/vnd.jupyter.widget-view+json": {
       "model_id": "7a5a482cebf94938bf2a6dc610165b55",
       "version_major": 2,
       "version_minor": 0
      },
      "text/plain": [
       "IntProgress(value=60, description='Progress:', max=113)"
      ]
     },
     "metadata": {},
     "output_type": "display_data"
    }
   ],
   "source": [
    "%matplotlib notebook\n",
    "hp1=0\n",
    "\n",
    "## calculating 20% brightest pixles\n",
    "het_percentile=28\n",
    "\n",
    "# Progress Bar\n",
    "i=60\n",
    "\n",
    "progBar=widgets.IntProgress(\n",
    "    value=i,\n",
    "    min=0,\n",
    "    max=len(data2),\n",
    "    step=1,\n",
    "    description='Progress:',\n",
    "    orientation='horizontal'\n",
    ")\n",
    "display(progBar)\n",
    "for i,myCell in islice(data2.iterrows(), i,None):\n",
    "    if myCell.group=='Mgcl2':\n",
    "        ## create folder to store this percentile data if it doesn't exist yet\n",
    "        newSegFolder = os.path.dirname(myCell.path).replace('data_tiff',f'segmentation_{het_percentile}')\n",
    "        newResultsFolder = os.path.dirname(myCell.path).replace('data_tiff', 'results')\n",
    "\n",
    "        try:\n",
    "            os.mkdir(newSegFolder)\n",
    "        except:\n",
    "            pass\n",
    "\n",
    "        try:\n",
    "            os.mkdir(newResultsFolder)\n",
    "        except:\n",
    "            pass\n",
    "\n",
    "\n",
    "        ## open tiff image of a cell\n",
    "        try:\n",
    "            myImage=imread(myCell.path)    \n",
    "        except:\n",
    "            myCell.path=myCell.path.replace('.tif','.tiff')\n",
    "            myImage=imread(myCell.path)    \n",
    "        #print(myImage.shape)\n",
    "        ## opening the channel according to the dataset\n",
    "        myChannel = myImage[:, hp1, :, :] \n",
    "\n",
    "        ## open nucleus mask\n",
    "        ### if the file is not found in the directory, trying to change the file extension \n",
    "        #### this is because there are some file files that are saved as tiff image \n",
    "        nucleusMaskPath=myCell.path\n",
    "        nucleusMaskPath=nucleusMaskPath.replace('data_tiff','segmentation_nucleus_Otsu')\n",
    "        nucleusMaskPath=nucleusMaskPath.replace('.tif','_nucleus.tif')\n",
    "        try:\n",
    "            nucleusMask=imread(nucleusMaskPath)\n",
    "        except:\n",
    "            nucleusMaskPath=nucleusMaskPath.replace('.tiff','.tif')\n",
    "            nucleusMask=imread(nucleusMaskPath)\n",
    "\n",
    "\n",
    "        ## make nucleus mask binary\n",
    "        nucleusMask = nucleusMask.astype(bool)\n",
    "\n",
    "        ## clean image\n",
    "        myNucleus = myChannel[nucleusMask]\n",
    "        #myChannelFinal_mgcl.extend(myNucleus)\n",
    "        #print(myNucleus.shape)\n",
    "        #sns.distplot(myNucleus)\n",
    "\n",
    "        ## find threshold\n",
    "        myPercentile = np.nanpercentile(myNucleus, (100-het_percentile)) \n",
    "        #plt.axvline(myPercentile, 0,1)\n",
    "\n",
    "\n",
    "        ## threshold\n",
    "        myHetMask=np.zeros(myChannel.shape).astype('bool')\n",
    "        myHetMask[myChannel >= myPercentile] = 1\n",
    "\n",
    "        ## clean from elements outside the nucleus\n",
    "        cleanNucleusMask=~nucleusMask\n",
    "        myHetMask[cleanNucleusMask]=0\n",
    "        cleanHetMask = ~myHetMask\n",
    "\n",
    "        ## save segmentation mask\n",
    "        maskFile = os.path.basename(myCell.path).replace('.tif',f'_hetChrom.tif')\n",
    "        tifffile.imsave(os.path.join(newSegFolder,maskFile), myHetMask.astype('uint8'))\n",
    "        \n",
    "        myChannel[~myHetMask]=0\n",
    "        myHetSignal_1=myChannel.ravel()\n",
    "        myHetSignal_1=[i for i in myHetSignal_1 if i !=0]\n",
    "        \n",
    "        data2.loc[i,'hetThreshold'] = min(myHetSignal_1)\n",
    "        data2.loc[i,'volThreshold'] = myPercentile\n",
    "        \n",
    "        #sns.distplot(myHetSignal)\n",
    "        progBar.value=progBar.value+1\n",
    "\n",
    "    \n",
    "\n",
    "  "
   ]
  },
  {
   "cell_type": "code",
   "execution_count": 11,
   "metadata": {},
   "outputs": [],
   "source": [
    "hetThresholdCTL=data.loc[(['CTL' in x for x in data.group]), 'hetThreshold']"
   ]
  },
  {
   "cell_type": "code",
   "execution_count": 12,
   "metadata": {},
   "outputs": [],
   "source": [
    "volThresholdCTL=data.loc[(['CTL' in x for x in data.group]), 'volThreshold']"
   ]
  },
  {
   "cell_type": "code",
   "execution_count": 14,
   "metadata": {},
   "outputs": [],
   "source": [
    "data2.loc[(['CTL' in x for x in data2.group]), 'hetThreshold']=hetThresholdCTL"
   ]
  },
  {
   "cell_type": "code",
   "execution_count": 15,
   "metadata": {},
   "outputs": [],
   "source": [
    "data2.loc[(['CTL' in x for x in data2.group]), 'volThreshold']=volThresholdCTL"
   ]
  },
  {
   "cell_type": "code",
   "execution_count": 17,
   "metadata": {},
   "outputs": [],
   "source": [
    "hetThresholdMGCL_28=data2.loc[(['Mgcl2' in x for x in data2.group]), 'hetThreshold']\n",
    "volThresholdMGCL_28=data2.loc[(['Mgcl2' in x for x in data2.group]), 'volThreshold']"
   ]
  },
  {
   "cell_type": "code",
   "execution_count": 18,
   "metadata": {},
   "outputs": [
    {
     "data": {
      "application/vnd.jupyter.widget-view+json": {
       "model_id": "ff3cbe23ba5d4c0b9afbf8b06bd0c48b",
       "version_major": 2,
       "version_minor": 0
      },
      "text/plain": [
       "IntProgress(value=60, description='Progress:', max=113)"
      ]
     },
     "metadata": {},
     "output_type": "display_data"
    }
   ],
   "source": [
    "%matplotlib notebook\n",
    "hp1=0\n",
    "\n",
    "## calculating 20% brightest pixles\n",
    "het_percentile=29\n",
    "\n",
    "# Progress Bar\n",
    "i=60\n",
    "\n",
    "progBar=widgets.IntProgress(\n",
    "    value=i,\n",
    "    min=0,\n",
    "    max=len(data3),\n",
    "    step=1,\n",
    "    description='Progress:',\n",
    "    orientation='horizontal'\n",
    ")\n",
    "display(progBar)\n",
    "for i,myCell in islice(data3.iterrows(), i,None):\n",
    "    if myCell.group=='Mgcl2':\n",
    "        ## create folder to store this percentile data if it doesn't exist yet\n",
    "        newSegFolder = os.path.dirname(myCell.path).replace('data_tiff',f'segmentation_{het_percentile}')\n",
    "        newResultsFolder = os.path.dirname(myCell.path).replace('data_tiff', 'results')\n",
    "\n",
    "        try:\n",
    "            os.mkdir(newSegFolder)\n",
    "        except:\n",
    "            pass\n",
    "\n",
    "        try:\n",
    "            os.mkdir(newResultsFolder)\n",
    "        except:\n",
    "            pass\n",
    "\n",
    "\n",
    "        ## open tiff image of a cell\n",
    "        try:\n",
    "            myImage=imread(myCell.path)    \n",
    "        except:\n",
    "            myCell.path=myCell.path.replace('.tif','.tiff')\n",
    "            myImage=imread(myCell.path)    \n",
    "        #print(myImage.shape)\n",
    "        ## opening the channel according to the dataset\n",
    "        myChannel = myImage[:, hp1, :, :] \n",
    "\n",
    "        ## open nucleus mask\n",
    "        ### if the file is not found in the directory, trying to change the file extension \n",
    "        #### this is because there are some file files that are saved as tiff image \n",
    "        nucleusMaskPath=myCell.path\n",
    "        nucleusMaskPath=nucleusMaskPath.replace('data_tiff','segmentation_nucleus_Otsu')\n",
    "        nucleusMaskPath=nucleusMaskPath.replace('.tif','_nucleus.tif')\n",
    "        try:\n",
    "            nucleusMask=imread(nucleusMaskPath)\n",
    "        except:\n",
    "            nucleusMaskPath=nucleusMaskPath.replace('.tiff','.tif')\n",
    "            nucleusMask=imread(nucleusMaskPath)\n",
    "\n",
    "\n",
    "        ## make nucleus mask binary\n",
    "        nucleusMask = nucleusMask.astype(bool)\n",
    "\n",
    "        ## clean image\n",
    "        myNucleus = myChannel[nucleusMask]\n",
    "        #myChannelFinal_mgcl.extend(myNucleus)\n",
    "        #print(myNucleus.shape)\n",
    "        #sns.distplot(myNucleus)\n",
    "\n",
    "        ## find threshold\n",
    "        myPercentile = np.nanpercentile(myNucleus, (100-het_percentile)) \n",
    "        #plt.axvline(myPercentile, 0,1)\n",
    "\n",
    "\n",
    "        ## threshold\n",
    "        myHetMask=np.zeros(myChannel.shape).astype('bool')\n",
    "        myHetMask[myChannel >= myPercentile] = 1\n",
    "\n",
    "        ## clean from elements outside the nucleus\n",
    "        cleanNucleusMask=~nucleusMask\n",
    "        myHetMask[cleanNucleusMask]=0\n",
    "        cleanHetMask = ~myHetMask\n",
    "\n",
    "        ## save segmentation mask\n",
    "        maskFile = os.path.basename(myCell.path).replace('.tif',f'_hetChrom.tif')\n",
    "        tifffile.imsave(os.path.join(newSegFolder,maskFile), myHetMask.astype('uint8'))\n",
    "        \n",
    "        myChannel[~myHetMask]=0\n",
    "        myHetSignal_1=myChannel.ravel()\n",
    "        myHetSignal_1=[i for i in myHetSignal_1 if i !=0]\n",
    "        \n",
    "        data3.loc[i,'hetThreshold'] = min(myHetSignal_1)\n",
    "        data3.loc[i,'volThreshold'] = myPercentile\n",
    "        \n",
    "        #sns.distplot(myHetSignal)\n",
    "        progBar.value=progBar.value+1\n",
    "\n",
    "    \n",
    "\n",
    "  "
   ]
  },
  {
   "cell_type": "code",
   "execution_count": 20,
   "metadata": {},
   "outputs": [],
   "source": [
    "hetThresholdMGCL_29=data3.loc[(['Mgcl2' in x for x in data3.group]), 'hetThreshold']\n",
    "volThresholdMGCL_29=data3.loc[(['Mgcl2' in x for x in data3.group]), 'volThreshold']"
   ]
  },
  {
   "cell_type": "code",
   "execution_count": 21,
   "metadata": {},
   "outputs": [],
   "source": [
    "data3.loc[(['CTL' in x for x in data3.group]), 'hetThreshold']=hetThresholdCTL\n",
    "data3.loc[(['CTL' in x for x in data3.group]), 'volThreshold']=volThresholdCTL"
   ]
  },
  {
   "cell_type": "code",
   "execution_count": 22,
   "metadata": {},
   "outputs": [],
   "source": [
    "data2.to_csv(file2.replace(\"v6\",\"v7\"))"
   ]
  },
  {
   "cell_type": "code",
   "execution_count": 23,
   "metadata": {},
   "outputs": [],
   "source": [
    "data3.to_csv(file3.replace(\"v6\",\"v7\"))"
   ]
  },
  {
   "cell_type": "code",
   "execution_count": 24,
   "metadata": {},
   "outputs": [
    {
     "data": {
      "text/plain": [
       "10143.905660377359"
      ]
     },
     "execution_count": 24,
     "metadata": {},
     "output_type": "execute_result"
    }
   ],
   "source": [
    "np.mean(hetThresholdMGCL_29)"
   ]
  },
  {
   "cell_type": "code",
   "execution_count": 25,
   "metadata": {},
   "outputs": [
    {
     "data": {
      "text/plain": [
       "10143.84962264151"
      ]
     },
     "execution_count": 25,
     "metadata": {},
     "output_type": "execute_result"
    }
   ],
   "source": [
    "np.mean(volThresholdMGCL_29)"
   ]
  },
  {
   "cell_type": "code",
   "execution_count": 26,
   "metadata": {},
   "outputs": [
    {
     "data": {
      "text/plain": [
       "9592.0"
      ]
     },
     "execution_count": 26,
     "metadata": {},
     "output_type": "execute_result"
    }
   ],
   "source": [
    "np.median(hetThresholdMGCL_29)"
   ]
  },
  {
   "cell_type": "code",
   "execution_count": 27,
   "metadata": {},
   "outputs": [
    {
     "data": {
      "text/plain": [
       "9878.0"
      ]
     },
     "execution_count": 27,
     "metadata": {},
     "output_type": "execute_result"
    }
   ],
   "source": [
    "np.median(hetThresholdMGCL_28)"
   ]
  },
  {
   "cell_type": "code",
   "execution_count": 28,
   "metadata": {},
   "outputs": [
    {
     "data": {
      "text/plain": [
       "9686.5"
      ]
     },
     "execution_count": 28,
     "metadata": {},
     "output_type": "execute_result"
    }
   ],
   "source": [
    "np.median(hetThresholdCTL)"
   ]
  },
  {
   "cell_type": "code",
   "execution_count": 31,
   "metadata": {},
   "outputs": [
    {
     "data": {
      "text/plain": [
       "Ttest_indResult(statistic=-0.30664652647024276, pvalue=0.7596869157589916)"
      ]
     },
     "execution_count": 31,
     "metadata": {},
     "output_type": "execute_result"
    }
   ],
   "source": [
    "stats.ttest_ind(hetThresholdCTL,hetThresholdMGCL_28)"
   ]
  },
  {
   "cell_type": "code",
   "execution_count": 32,
   "metadata": {},
   "outputs": [
    {
     "data": {
      "text/plain": [
       "Ttest_indResult(statistic=0.16462354994115627, pvalue=0.8695397086530996)"
      ]
     },
     "execution_count": 32,
     "metadata": {},
     "output_type": "execute_result"
    }
   ],
   "source": [
    "stats.ttest_ind(hetThresholdCTL,hetThresholdMGCL_29)"
   ]
  },
  {
   "cell_type": "code",
   "execution_count": null,
   "metadata": {},
   "outputs": [],
   "source": []
  }
 ],
 "metadata": {
  "kernelspec": {
   "display_name": "Python 3",
   "language": "python",
   "name": "python3"
  },
  "language_info": {
   "codemirror_mode": {
    "name": "ipython",
    "version": 3
   },
   "file_extension": ".py",
   "mimetype": "text/x-python",
   "name": "python",
   "nbconvert_exporter": "python",
   "pygments_lexer": "ipython3",
   "version": "3.7.3"
  }
 },
 "nbformat": 4,
 "nbformat_minor": 2
}
