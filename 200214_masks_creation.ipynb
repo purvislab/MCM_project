{
 "cells": [
  {
   "cell_type": "code",
   "execution_count": 1,
   "metadata": {},
   "outputs": [],
   "source": [
    "## import libraries\n",
    "import os\n",
    "from os import listdir\n",
    "from os.path import isfile, join\n",
    "\n",
    "import pandas as pd\n",
    "from itertools import islice\n",
    "import numpy as np\n",
    "\n",
    "from skimage.external import tifffile\n",
    "from skimage.external.tifffile import imread\n",
    "\n",
    "import matplotlib.pyplot as plt\n",
    "\n",
    "import ipywidgets as widgets\n",
    "\n",
    "import random\n",
    "\n",
    "\n",
    "from scipy.ndimage.morphology import binary_erosion as br\n",
    "from skimage import morphology as skmor\n",
    "\n",
    "from scipy import ndimage\n",
    "from PIL import Image, ImageDraw\n",
    "\n",
    "import numpy.ma as ma\n",
    "\n",
    "from skimage.measure import label, regionprops"
   ]
  },
  {
   "cell_type": "code",
   "execution_count": 2,
   "metadata": {},
   "outputs": [],
   "source": [
    "bigDir=r'Z:\\CookLab\\Liu\\20190816_organizedData_MCM_loading'"
   ]
  },
  {
   "cell_type": "code",
   "execution_count": 3,
   "metadata": {},
   "outputs": [],
   "source": [
    "newfile=f'{bigDir}\\\\new dataset\\cellinfo_signals_v3.csv'\n",
    "newdata=pd.read_csv(newfile)"
   ]
  },
  {
   "cell_type": "code",
   "execution_count": 4,
   "metadata": {},
   "outputs": [],
   "source": [
    "orgfile=f'{bigDir}\\\\signal_data_total_v3.csv'\n",
    "orgdata=pd.read_csv(orgfile)"
   ]
  },
  {
   "cell_type": "markdown",
   "metadata": {},
   "source": [
    "# creating nuclear masks\n",
    "run r'Z:\\CookLab\\Liu\\20190816_organizedData_MCM_loading\\jupyter_scripts\\MCM_project\\batchMCMsegm_nucleus.ijm.ijm'"
   ]
  },
  {
   "cell_type": "markdown",
   "metadata": {},
   "source": [
    "# creating erosion inner and outer masks"
   ]
  },
  {
   "cell_type": "code",
   "execution_count": 2,
   "metadata": {},
   "outputs": [],
   "source": [
    "nine_filter=skmor.ball(1)\n",
    "radius=1\n",
    "while (nine_filter.shape[0]<9):\n",
    "    radius+=1\n",
    "    nine_filter=skmor.ball(radius)\n",
    "nine_filter=np.delete(nine_filter, [(0,1,2,6,7,8)], axis=0)"
   ]
  },
  {
   "cell_type": "code",
   "execution_count": 44,
   "metadata": {},
   "outputs": [],
   "source": [
    "def create_erosion_nuc_masks(name,data):\n",
    "    \n",
    "    ## checking if the data given is new or original dataset\n",
    "    if name==\"new\":\n",
    "        hp1=1\n",
    "    else:\n",
    "        hp1=0\n",
    "    \n",
    "    i=0\n",
    "    # Progress Bar for the function\n",
    "    progBar=widgets.IntProgress(\n",
    "        value=i,\n",
    "        min=0,\n",
    "        max=len(data),\n",
    "        step=1,\n",
    "        description='Progress:',\n",
    "        orientation='horizontal'\n",
    "    )\n",
    "    display(progBar)\n",
    "    \n",
    "    ## creating the structure/filter with 9x9x9 \n",
    "    nine_filter=skmor.ball(1)\n",
    "    radius=1\n",
    "    while (nine_filter.shape[0]<9):\n",
    "        radius+=1\n",
    "        nine_filter=skmor.ball(radius)\n",
    "    ### only using the middle 3 layers of the cube (3x9x9)\n",
    "    nine_filter=np.delete(nine_filter, [(0,1,2,6,7,8)], axis=0)\n",
    "    \n",
    "    ## creating masks for entire cells in the dataset\n",
    "    for i,cell in islice(data.iterrows(),i,None):\n",
    "        percentile = 20\n",
    "\n",
    "        ## open tiff image of a cell\n",
    "        ### if the file is not found in the directory, trying to change the file extension \n",
    "        #### this is because there are some file files that are saved as tiff image \n",
    "        try:\n",
    "            myImage=imread(cell.path) \n",
    "        except:\n",
    "            cell.path=cell.path.replace('.tif','.tiff')\n",
    "            myImage=imread(cell.path)\n",
    "        \n",
    "        ## open nucleus mask\n",
    "        ### if the file is not found in the directory, trying to change the file extension \n",
    "        #### this is because there are some file files that are saved as tiff image \n",
    "        nucleusMaskPath=cell.path\n",
    "        nucleusMaskPath=nucleusMaskPath.replace('data_tiff','segmentation_nucleus_Otsu')\n",
    "        nucleusMaskPath=nucleusMaskPath.replace('.tif','_nucleus.tif')\n",
    "        try:\n",
    "            nucMask=imread(nucleusMaskPath)\n",
    "        except:\n",
    "            nucleusMaskPath=nucleusMaskPath.replace('.tiff','.tif')\n",
    "            nucMask=imread(nucleusMaskPath)\n",
    "\n",
    "        ## making nucleus mask binary \n",
    "        nucMask=nucMask.astype(bool)\n",
    "\n",
    "        ## using the pre-made filter for morphology (erosion) \n",
    "        copy_nuc=nucMask.copy()\n",
    "        ### inner mask (iterating 3x9x9 structure 5 times)\n",
    "        nin_fiv=br(nucMask, structure=nine_filter, iterations=5)\n",
    "        ### deselecting the inner mask from the nucleus mask, creating outer nucleus mask\n",
    "        outermask=nucMask.copy()\n",
    "        outermask[nin_fiv]=0\n",
    "        \n",
    "        ## saving image files\n",
    "        newSegFolder = os.path.dirname(cell.path).replace('data_tiff','erosion_nuc_mask')\n",
    "        try:\n",
    "            os.mkdir(newSegFolder)\n",
    "        except:\n",
    "            pass\n",
    "        maskFile = os.path.basename(cell.path).replace('.tif',f'_eroded_9^5_inner_mask_{percentile}.tif')\n",
    "        tifffile.imsave(os.path.join(newSegFolder,maskFile), nin_fiv.astype('uint8'))\n",
    "        maskFile = os.path.basename(cell.path).replace('.tif',f'_eroded_9^5_outer_mask_{percentile}.tif')\n",
    "        tifffile.imsave(os.path.join(newSegFolder,maskFile), outermask.astype('uint8'))\n",
    "        \n",
    "        progBar.value=progBar.value+1\n"
   ]
  },
  {
   "cell_type": "code",
   "execution_count": 43,
   "metadata": {},
   "outputs": [
    {
     "data": {
      "application/vnd.jupyter.widget-view+json": {
       "model_id": "dec209b739f84a7f8e33483481882b65",
       "version_major": 2,
       "version_minor": 0
      },
      "text/plain": [
       "IntProgress(value=0, description='Progress:', max=324)"
      ]
     },
     "metadata": {},
     "output_type": "display_data"
    }
   ],
   "source": [
    "create_erosion_nuc_masks(\"new\",newdata)"
   ]
  },
  {
   "cell_type": "code",
   "execution_count": 46,
   "metadata": {},
   "outputs": [
    {
     "data": {
      "application/vnd.jupyter.widget-view+json": {
       "model_id": "e856f60c29a94418aac62d3c26680747",
       "version_major": 2,
       "version_minor": 0
      },
      "text/plain": [
       "IntProgress(value=0, description='Progress:', max=300)"
      ]
     },
     "metadata": {},
     "output_type": "display_data"
    }
   ],
   "source": [
    "create_erosion_nuc_masks(\"org\",orgdata)"
   ]
  },
  {
   "cell_type": "markdown",
   "metadata": {},
   "source": [
    "# creating heterochromatin masks - 20% brightest pixel"
   ]
  },
  {
   "cell_type": "code",
   "execution_count": 52,
   "metadata": {},
   "outputs": [],
   "source": [
    "def create_het_mask(name,data):\n",
    "    ## based on the name give as a parameter, selecting the channel \n",
    "    ### hp1beta channel is 2 in new dataset and 1 in original dataset\n",
    "    if name==\"new\":\n",
    "        hp1=1\n",
    "    else:\n",
    "        hp1=0\n",
    "    \n",
    "    \n",
    "    \n",
    "    ## calculating 20% brightest pixles\n",
    "    het_percentile=20\n",
    "    \n",
    "    # Progress Bar\n",
    "    i=0\n",
    "    progBar=widgets.IntProgress(\n",
    "        value=i,\n",
    "        min=0,\n",
    "        max=len(data),\n",
    "        step=1,\n",
    "        description='Progress:',\n",
    "        orientation='horizontal'\n",
    "    )\n",
    "    display(progBar)\n",
    "\n",
    "    for i,myCell in islice(data.iterrows(), i,None):\n",
    "\n",
    "        ## create folder to store this percentile data if it doesn't exist yet\n",
    "        newSegFolder = os.path.dirname(myCell.path).replace('data_tiff',f'segmentation_{het_percentile}')\n",
    "        newResultsFolder = os.path.dirname(myCell.path).replace('data_tiff', 'results')\n",
    "\n",
    "        try:\n",
    "            os.mkdir(newSegFolder)\n",
    "        except:\n",
    "            pass\n",
    "\n",
    "        try:\n",
    "            os.mkdir(newResultsFolder)\n",
    "        except:\n",
    "            pass\n",
    "\n",
    "\n",
    "        ## open tiff image of a cell\n",
    "        try:\n",
    "            myImage=imread(myCell.path)    \n",
    "        except:\n",
    "            myCell.path=myCell.path.replace('.tif','.tiff')\n",
    "            myImage=imread(myCell.path)    \n",
    "\n",
    "        ## opening the channel according to the dataset\n",
    "        myChannel = myImage[:, hp1, :, :] \n",
    "\n",
    "        ## open nucleus mask\n",
    "        ### if the file is not found in the directory, trying to change the file extension \n",
    "        #### this is because there are some file files that are saved as tiff image \n",
    "        nucleusMaskPath=myCell.path\n",
    "        nucleusMaskPath=nucleusMaskPath.replace('data_tiff','segmentation_nucleus_Otsu')\n",
    "        nucleusMaskPath=nucleusMaskPath.replace('.tif','_nucleus.tif')\n",
    "        try:\n",
    "            nucleusMask=imread(nucleusMaskPath)\n",
    "        except:\n",
    "            nucleusMaskPath=nucleusMaskPath.replace('.tiff','.tif')\n",
    "            nucleusMask=imread(nucleusMaskPath)\n",
    "\n",
    "\n",
    "        ## make nucleus mask binary\n",
    "        nucleusMask = nucleusMask.astype(bool)\n",
    "\n",
    "        ## clean image\n",
    "        myNucleus = myChannel[nucleusMask]\n",
    "\n",
    "        ## find threshold\n",
    "        myPercentile = np.nanpercentile(myNucleus, (100-het_percentile)) \n",
    "\n",
    "        ## threshold\n",
    "        myHetMask=np.zeros(myChannel.shape).astype('bool')\n",
    "        myHetMask[myChannel >= myPercentile] = 1\n",
    "\n",
    "        ## clean from elements outside the nucleus\n",
    "        cleanNucleusMask=~nucleusMask\n",
    "        myHetMask[cleanNucleusMask]=0\n",
    "        cleanHetMask = ~myHetMask\n",
    "\n",
    "        ## save segmentation mask\n",
    "        maskFile = os.path.basename(myCell.path).replace('.tif',f'_hetChrom.tif')\n",
    "        tifffile.imsave(os.path.join(newSegFolder,maskFile), myHetMask.astype('uint8'))\n",
    "\n",
    "\n",
    "        progBar.value=progBar.value+1\n",
    "\n",
    "        "
   ]
  },
  {
   "cell_type": "code",
   "execution_count": 53,
   "metadata": {},
   "outputs": [
    {
     "data": {
      "application/vnd.jupyter.widget-view+json": {
       "model_id": "ee773dae8b8047a7bb129045e404a57e",
       "version_major": 2,
       "version_minor": 0
      },
      "text/plain": [
       "IntProgress(value=0, description='Progress:', max=324)"
      ]
     },
     "metadata": {},
     "output_type": "display_data"
    }
   ],
   "source": [
    "create_het_mask(\"new\", newdata)"
   ]
  },
  {
   "cell_type": "code",
   "execution_count": 54,
   "metadata": {},
   "outputs": [
    {
     "data": {
      "application/vnd.jupyter.widget-view+json": {
       "model_id": "081d3684a0814ac9874b19d2a7aa592a",
       "version_major": 2,
       "version_minor": 0
      },
      "text/plain": [
       "IntProgress(value=0, description='Progress:', max=300)"
      ]
     },
     "metadata": {},
     "output_type": "display_data"
    }
   ],
   "source": [
    "create_het_mask(\"org\", orgdata)"
   ]
  },
  {
   "cell_type": "markdown",
   "metadata": {},
   "source": [
    "# masking heterochromatin with inner and outer masks"
   ]
  },
  {
   "cell_type": "code",
   "execution_count": 86,
   "metadata": {},
   "outputs": [],
   "source": [
    "def create_het_mask_erosion (name, data):\n",
    "    if name==\"new\":\n",
    "            hp1=1\n",
    "    else:\n",
    "        hp1=0\n",
    "\n",
    "    i=0\n",
    "    het_percentile=20\n",
    "    # Progress Bar\n",
    "    progBar=widgets.IntProgress(\n",
    "        value=i,\n",
    "        min=0,\n",
    "        max=len(data),\n",
    "        step=1,\n",
    "        description='Progress:',\n",
    "        orientation='horizontal'\n",
    "    )\n",
    "    display(progBar)\n",
    "\n",
    "    for i,myCell in islice(data.iterrows(), i,None):\n",
    "\n",
    "        # create folder to store this percentile (inner and outer) data if it doesn't exist yet\n",
    "        newSegFolder = os.path.dirname(myCell.path).replace('data_tiff',f'segmentation_{het_percentile}_erosion')\n",
    "\n",
    "        try:\n",
    "            os.mkdir(newSegFolder)\n",
    "        except:\n",
    "            pass\n",
    "\n",
    "        try:\n",
    "            os.mkdir(newResultsFolder)\n",
    "        except:\n",
    "            pass\n",
    "\n",
    "\n",
    "        # open tiff image of a cell\n",
    "        try:\n",
    "            myImage=imread(myCell.path)    \n",
    "        except:\n",
    "            myCell.path=myCell.path.replace('.tif','.tiff')\n",
    "            myImage=imread(myCell.path)    \n",
    "\n",
    "\n",
    "        myChannel = myImage[:, 1, :, :] #2nd channel is hetChrom (as stained by HP1B or H3K9Me3)\n",
    "\n",
    "        ## openning nucleus masks\n",
    "        nucleusMaskPath=myCell.path\n",
    "        nucleusMaskPath=nucleusMaskPath.replace('data_tiff','erosion_nuc_mask')\n",
    "        nucouterpath=nucleusMaskPath.replace('.tif','_eroded_9^5_outer_mask_20.tif')\n",
    "        nucinnerpath=nucleusMaskPath.replace('.tif','_eroded_9^5_inner_mask_20.tif')\n",
    "        outernuc=imread(nucouterpath)\n",
    "        outernuc=outernuc.astype(bool)\n",
    "        innernuc=imread(nucinnerpath)\n",
    "        innernuc=innernuc.astype(bool)\n",
    "\n",
    "        ## opening heterochromatin mask\n",
    "        hetPath=myCell.path\n",
    "        hetPath=hetPath.replace('data_tiff','segmentation_20')\n",
    "        hetPath=hetPath.replace('.tif','_hetChrom.tif')\n",
    "        het=imread(hetPath)\n",
    "        het=het.astype(bool)\n",
    "\n",
    "        ## masking heterochromatin with inner nuc mask\n",
    "        het_inner=het.copy()\n",
    "        het_inner=het_inner.astype(bool)\n",
    "        het_inner[~innernuc]=0\n",
    "\n",
    "        ## masking heterochromatin with outer nuc mask\n",
    "        het_outer=het.copy()\n",
    "        het_outer=het_outer.astype(bool)\n",
    "        het_outer[~outernuc]=0\n",
    "\n",
    "        ## save segmentation mask\n",
    "        maskFile = os.path.basename(myCell.path).replace('.tif',f'_hetChrom_inner.tif')\n",
    "        tifffile.imsave(os.path.join(newSegFolder,maskFile), het_inner.astype('uint8'))\n",
    "        maskFile = os.path.basename(myCell.path).replace('.tif',f'_hetChrom_outer.tif')\n",
    "        tifffile.imsave(os.path.join(newSegFolder,maskFile), het_outer.astype('uint8'))\n",
    "\n",
    "\n",
    "        progBar.value=progBar.value+1\n",
    "\n",
    "    "
   ]
  },
  {
   "cell_type": "code",
   "execution_count": 87,
   "metadata": {},
   "outputs": [
    {
     "data": {
      "application/vnd.jupyter.widget-view+json": {
       "model_id": "fc636561238742b392d9ea9d499e7d48",
       "version_major": 2,
       "version_minor": 0
      },
      "text/plain": [
       "IntProgress(value=0, description='Progress:', max=324)"
      ]
     },
     "metadata": {},
     "output_type": "display_data"
    }
   ],
   "source": [
    "create_het_mask_erosion(\"new\",newdata)"
   ]
  },
  {
   "cell_type": "code",
   "execution_count": 88,
   "metadata": {},
   "outputs": [
    {
     "data": {
      "application/vnd.jupyter.widget-view+json": {
       "model_id": "0a366a9c0abf41aa85dd943e13136d4a",
       "version_major": 2,
       "version_minor": 0
      },
      "text/plain": [
       "IntProgress(value=0, description='Progress:', max=300)"
      ]
     },
     "metadata": {},
     "output_type": "display_data"
    }
   ],
   "source": [
    "create_het_mask_erosion(\"org\",orgdata)"
   ]
  },
  {
   "cell_type": "markdown",
   "metadata": {},
   "source": [
    "# creating euchromatin mask"
   ]
  },
  {
   "cell_type": "code",
   "execution_count": 10,
   "metadata": {},
   "outputs": [],
   "source": [
    "def create_eu_mask(name,data):\n",
    "    ## based on the name give as a parameter, selecting the channel \n",
    "    ### hp1beta channel is 2 in new dataset and 1 in original dataset\n",
    "\n",
    "    if name==\"new\":\n",
    "        hp1=1\n",
    "    else:\n",
    "        hp1=0\n",
    "\n",
    "    ## calculating 80% brightest pixles\n",
    "    eu_percentile=80\n",
    "    het_percentile=20\n",
    "    # Progress Bar\n",
    "    i=0\n",
    "    progBar=widgets.IntProgress(\n",
    "        value=i,\n",
    "        min=0,\n",
    "        max=len(data),\n",
    "        step=1,\n",
    "        description='Progress:',\n",
    "        orientation='horizontal'\n",
    "    )\n",
    "    display(progBar)\n",
    "\n",
    "    for i,myCell in islice(data.iterrows(), i,None):\n",
    "\n",
    "        ## create folder to store this percentile data if it doesn't exist yet\n",
    "        newSegFolder = os.path.dirname(myCell.path).replace('data_tiff',f'segmentation_{het_percentile}_eu')\n",
    "\n",
    "        try:\n",
    "            os.mkdir(newSegFolder)\n",
    "        except:\n",
    "            pass\n",
    "\n",
    "        ## open tiff image of a cell\n",
    "        try:\n",
    "            myImage=imread(myCell.path)    \n",
    "        except:\n",
    "            myCell.path=myCell.path.replace('.tif','.tiff')\n",
    "            myImage=imread(myCell.path)    \n",
    "\n",
    "        ## opening the channel according to the dataset\n",
    "        myChannel = myImage[:, 1, :, :] \n",
    "\n",
    "        ## open nucleus mask\n",
    "        ### if the file is not found in the directory, trying to change the file extension \n",
    "        #### this is because there are some file files that are saved as tiff image \n",
    "        nucleusMaskPath=myCell.path\n",
    "        nucleusMaskPath=nucleusMaskPath.replace('data_tiff','segmentation_nucleus_Otsu')\n",
    "        nucleusMaskPath=nucleusMaskPath.replace('.tif','_nucleus.tif')\n",
    "        try:\n",
    "            nucleusMask=imread(nucleusMaskPath)\n",
    "        except:\n",
    "            nucleusMaskPath=nucleusMaskPath.replace('.tiff','.tif')\n",
    "            nucleusMask=imread(nucleusMaskPath)\n",
    "\n",
    "        hetPath=myCell.path\n",
    "        hetPath=hetPath.replace('data_tiff','segmentation_20')\n",
    "        hetPath=hetPath.replace('.tif','_hetChrom.tif')\n",
    "        het=imread(hetPath)\n",
    "        het=het.astype(bool)\n",
    "\n",
    "        ## make nucleus mask binary\n",
    "        nucleusMask = nucleusMask.astype(bool)\n",
    "\n",
    "        ## clean image\n",
    "        myNucleus = myChannel[nucleusMask]\n",
    "\n",
    "        ## find threshold\n",
    "        myPercentile = np.nanpercentile(myNucleus, (100-eu_percentile)) \n",
    "\n",
    "        ## threshold\n",
    "        myEuMask=np.zeros(myChannel.shape).astype('bool')\n",
    "        myEuMask[myChannel >= myPercentile] = 1\n",
    "\n",
    "        ## clean from elements outside the nucleus\n",
    "        cleanNucleusMask=~nucleusMask\n",
    "        myEuMask[cleanNucleusMask]=0\n",
    "        cleanHetMask = ~myEuMask\n",
    "\n",
    "        ## save segmentation mask\n",
    "        maskFile = os.path.basename(myCell.path).replace('.tif',f'_euChrom.tif')\n",
    "        tifffile.imsave(os.path.join(newSegFolder,maskFile), myEuMask.astype('uint8'))\n",
    "\n",
    "\n",
    "        progBar.value=progBar.value+1\n",
    "        "
   ]
  },
  {
   "cell_type": "code",
   "execution_count": 118,
   "metadata": {},
   "outputs": [
    {
     "data": {
      "application/vnd.jupyter.widget-view+json": {
       "model_id": "27b6913bf9f54711882ee2d88c31255c",
       "version_major": 2,
       "version_minor": 0
      },
      "text/plain": [
       "IntProgress(value=0, description='Progress:', max=324)"
      ]
     },
     "metadata": {},
     "output_type": "display_data"
    }
   ],
   "source": [
    "create_eu_mask(\"new\",newdata)"
   ]
  },
  {
   "cell_type": "code",
   "execution_count": 11,
   "metadata": {},
   "outputs": [
    {
     "data": {
      "application/vnd.jupyter.widget-view+json": {
       "model_id": "0e4f97203bdc4c8b8c9eb6798887eb37",
       "version_major": 2,
       "version_minor": 0
      },
      "text/plain": [
       "IntProgress(value=0, description='Progress:', max=300)"
      ]
     },
     "metadata": {},
     "output_type": "display_data"
    }
   ],
   "source": [
    "create_eu_mask(\"org\",orgdata)"
   ]
  },
  {
   "cell_type": "markdown",
   "metadata": {},
   "source": [
    "# creating euchromatin inner and outer mask "
   ]
  },
  {
   "cell_type": "code",
   "execution_count": 12,
   "metadata": {},
   "outputs": [],
   "source": [
    "def create_het_mask_erosion (name, data):\n",
    "    if name==\"new\":\n",
    "            hp1=1\n",
    "    else:\n",
    "        hp1=0\n",
    "\n",
    "    i=0\n",
    "    \n",
    "    het_percentile=20\n",
    "    eu_percentile=80\n",
    "    \n",
    "    # Progress Bar\n",
    "    progBar=widgets.IntProgress(\n",
    "        value=i,\n",
    "        min=0,\n",
    "        max=len(data),\n",
    "        step=1,\n",
    "        description='Progress:',\n",
    "        orientation='horizontal'\n",
    "    )\n",
    "    display(progBar)\n",
    "\n",
    "    for i,myCell in islice(data.iterrows(), i,None):\n",
    "\n",
    "        # create folder to store this percentile (inner and outer) data if it doesn't exist yet\n",
    "        newSegFolder = os.path.dirname(myCell.path).replace('data_tiff',f'segmentation_{het_percentile}_eu_erosion')\n",
    "\n",
    "        try:\n",
    "            os.mkdir(newSegFolder)\n",
    "        except:\n",
    "            pass\n",
    "\n",
    "        try:\n",
    "            os.mkdir(newResultsFolder)\n",
    "        except:\n",
    "            pass\n",
    "\n",
    "\n",
    "        # open tiff image of a cell\n",
    "        try:\n",
    "            myImage=imread(myCell.path)    \n",
    "        except:\n",
    "            myCell.path=myCell.path.replace('.tif','.tiff')\n",
    "            myImage=imread(myCell.path)    \n",
    "\n",
    "\n",
    "        myChannel = myImage[:, 1, :, :] #2nd channel is hetChrom (as stained by HP1B or H3K9Me3)\n",
    "\n",
    "        ## openning nucleus masks\n",
    "        nucleusMaskPath=myCell.path\n",
    "        nucleusMaskPath=nucleusMaskPath.replace('data_tiff','erosion_nuc_mask')\n",
    "        nucouterpath=nucleusMaskPath.replace('.tif','_eroded_9^5_outer_mask_20.tif')\n",
    "        nucinnerpath=nucleusMaskPath.replace('.tif','_eroded_9^5_inner_mask_20.tif')\n",
    "        outernuc=imread(nucouterpath)\n",
    "        outernuc=outernuc.astype(bool)\n",
    "        innernuc=imread(nucinnerpath)\n",
    "        innernuc=innernuc.astype(bool)\n",
    "\n",
    "        ## opening heterochromatin mask\n",
    "        euPath=myCell.path\n",
    "        euPath=euPath.replace('data_tiff','segmentation_20_eu')\n",
    "        euPath=euPath.replace('.tif','_euChrom.tif')\n",
    "        eu=imread(euPath)\n",
    "        eu=eu.astype(bool)\n",
    "\n",
    "        ## masking heterochromatin with inner nuc mask\n",
    "        eu_inner=eu.copy()\n",
    "        eu_inner=eu_inner.astype(bool)\n",
    "        eu_inner[~innernuc]=0\n",
    "\n",
    "        ## masking heterochromatin with outer nuc mask\n",
    "        eu_outer=eu.copy()\n",
    "        eu_outer=eu_outer.astype(bool)\n",
    "        eu_outer[~outernuc]=0\n",
    "\n",
    "        ## save segmentation mask\n",
    "        maskFile = os.path.basename(myCell.path).replace('.tif',f'_euChrom_inner.tif')\n",
    "        tifffile.imsave(os.path.join(newSegFolder,maskFile), eu_inner.astype('uint8'))\n",
    "        maskFile = os.path.basename(myCell.path).replace('.tif',f'_euChrom_outer.tif')\n",
    "        tifffile.imsave(os.path.join(newSegFolder,maskFile), eu_outer.astype('uint8'))\n",
    "\n",
    "\n",
    "        progBar.value=progBar.value+1\n",
    "\n",
    "    "
   ]
  },
  {
   "cell_type": "code",
   "execution_count": 13,
   "metadata": {},
   "outputs": [
    {
     "data": {
      "application/vnd.jupyter.widget-view+json": {
       "model_id": "dbef88a6c8d84e33ae72167bf2e17c8d",
       "version_major": 2,
       "version_minor": 0
      },
      "text/plain": [
       "IntProgress(value=0, description='Progress:', max=324)"
      ]
     },
     "metadata": {},
     "output_type": "display_data"
    }
   ],
   "source": [
    "create_het_mask_erosion(\"new\",newdata)"
   ]
  },
  {
   "cell_type": "code",
   "execution_count": 14,
   "metadata": {},
   "outputs": [
    {
     "data": {
      "application/vnd.jupyter.widget-view+json": {
       "model_id": "58673499278f49709693e0610be729ce",
       "version_major": 2,
       "version_minor": 0
      },
      "text/plain": [
       "IntProgress(value=0, description='Progress:', max=300)"
      ]
     },
     "metadata": {},
     "output_type": "display_data"
    }
   ],
   "source": [
    "create_het_mask_erosion(\"org\",orgdata)"
   ]
  },
  {
   "cell_type": "code",
   "execution_count": null,
   "metadata": {},
   "outputs": [],
   "source": []
  }
 ],
 "metadata": {
  "kernelspec": {
   "display_name": "Python 3",
   "language": "python",
   "name": "python3"
  },
  "language_info": {
   "codemirror_mode": {
    "name": "ipython",
    "version": 3
   },
   "file_extension": ".py",
   "mimetype": "text/x-python",
   "name": "python",
   "nbconvert_exporter": "python",
   "pygments_lexer": "ipython3",
   "version": "3.7.3"
  }
 },
 "nbformat": 4,
 "nbformat_minor": 2
}
