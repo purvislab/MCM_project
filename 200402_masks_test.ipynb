{
 "cells": [
  {
   "cell_type": "code",
   "execution_count": 1,
   "metadata": {},
   "outputs": [],
   "source": [
    "## import libraries\n",
    "import os\n",
    "from os import listdir\n",
    "from os.path import isfile, join\n",
    "\n",
    "import pandas as pd\n",
    "from itertools import islice\n",
    "import numpy as np\n",
    "\n",
    "from skimage.external import tifffile\n",
    "from skimage.external.tifffile import imread\n",
    "\n",
    "import matplotlib.pyplot as plt\n",
    "\n",
    "import ipywidgets as widgets\n",
    "\n",
    "import random\n",
    "\n",
    "\n",
    "from scipy.ndimage.morphology import binary_erosion as br\n",
    "from skimage import morphology as skmor\n",
    "\n",
    "from scipy import ndimage\n",
    "from PIL import Image, ImageDraw\n",
    "\n",
    "import numpy.ma as ma\n",
    "\n",
    "from skimage.measure import label, regionprops"
   ]
  },
  {
   "cell_type": "code",
   "execution_count": 2,
   "metadata": {},
   "outputs": [],
   "source": [
    "bigDir=r'Z:\\CookLab\\Liu\\20190816_organizedData_MCM_loading'"
   ]
  },
  {
   "cell_type": "code",
   "execution_count": 13,
   "metadata": {},
   "outputs": [],
   "source": [
    "newfile=f'{bigDir}\\\\new dataset\\cellinfo_signals_v3.csv'\n",
    "newdata=pd.read_csv(newfile)"
   ]
  },
  {
   "cell_type": "code",
   "execution_count": 4,
   "metadata": {
    "scrolled": true
   },
   "outputs": [],
   "source": [
    "orgfile=f'{bigDir}\\\\csv_signals_cell_data\\\\signal_data_total_v3.csv'\n",
    "orgdata=pd.read_csv(orgfile)"
   ]
  },
  {
   "cell_type": "markdown",
   "metadata": {},
   "source": [
    "# testing the volume of the masks"
   ]
  },
  {
   "cell_type": "code",
   "execution_count": 11,
   "metadata": {},
   "outputs": [],
   "source": [
    "def calculate_volume (data,volumes):\n",
    "    volumes = pd.DataFrame()\n",
    "    i=0\n",
    "    progBar=widgets.IntProgress(\n",
    "        value=i,\n",
    "        min=0,\n",
    "        max=len(data),\n",
    "        step=1,\n",
    "        description='Progress:',\n",
    "        orientation='horizontal'\n",
    "    )\n",
    "    display(progBar)\n",
    "\n",
    "    for i,myCell in islice(data.iterrows(), i,None):\n",
    "        path=myCell.path\n",
    "        \n",
    "        # nucleus - inner\n",
    "        ## reading mask files\n",
    "        innerNucleusPath = path.replace('data_tiff','erosion_nuc_mask')\n",
    "        innerNucleusPath= innerNucleusPath.replace('.tif','_eroded_9^5_inner_mask_20.tif')\n",
    "        try:\n",
    "            innerNuc=imread(innerNucleusPath)    \n",
    "        except:\n",
    "            innerNucleusPath=innerNucleusPath.replace('.tif','.tiff')\n",
    "            innerNuc=imread(innerNucleusPath)      \n",
    "        ## making this image binary\n",
    "        innerNuc=innerNuc.astype(bool)\n",
    "        ## calculating the volume of the masks and entering into the dataframe\n",
    "        volumes.at[i,\"innerNuc\"]=np.sum(innerNuc)\n",
    "        \n",
    "        # nucleus - outer\n",
    "        ## reading mask files\n",
    "        outerNucleusPath = path.replace('data_tiff','erosion_nuc_mask')\n",
    "        outerNucleusPath=outerNucleusPath.replace('.tif','_eroded_9^5_outer_mask_20.tif')\n",
    "        try:\n",
    "            outerNuc=imread(outerNucleusPath)    \n",
    "        except:\n",
    "            outerNucleusPath=outerNucleusPath.replace('.tif','.tiff')\n",
    "            outerNuc=imread(outerNucleusPath)\n",
    "        ## making this image binary\n",
    "        outerNuc=outerNuc.astype(bool)\n",
    "        ## calculating the volume of the masks and entering into the dataframe. \n",
    "        volumes.at[i,\"outerNuc\"]=np.sum(outerNuc)\n",
    "        \n",
    "        # nucleus - total\n",
    "        ## reading mask files\n",
    "        totalNucleusPath = path.replace('data_tiff','segmentation_nucleus_Otsu')\n",
    "        totalNucleusPath=totalNucleusPath.replace('.tif','_nucleus.tif')\n",
    "        try:\n",
    "            totalNuc=imread(totalNucleusPath)    \n",
    "        except:\n",
    "            totalNucleusPath=totalNucleusPath.replace('.tif','.tiff')\n",
    "            totalNuc=imread(totalNucleusPath)\n",
    "        ## masking this image binary\n",
    "        totalNuc=totalNuc.astype(bool)\n",
    "        ## calculating the volume of the masks and entering into the dataframe. \n",
    "        volumes.at[i,\"totalNucleus\"]=np.sum(totalNuc)\n",
    "        \n",
    "        # het - inner\n",
    "        ## reading mask files\n",
    "        innerHetPath = path.replace('data_tiff','segmentation_20_erosion')\n",
    "        innerHetPath=innerHetPath.replace('.tif','_hetChrom_inner.tif')\n",
    "        try:\n",
    "            innerHet=imread(innerHetPath)    \n",
    "        except:\n",
    "            innerHetPath=innerHetPath.replace('.tif','.tiff')\n",
    "            innerHet=imread(innerHetPath)\n",
    "        ## masking this image binary\n",
    "        innerHet=innerHet.astype(bool)\n",
    "        ## calculating the volume of the masks and entering into the dataframe. \n",
    "        volumes.at[i,\"innerHet\"]=np.sum(innerHet)\n",
    "        \n",
    "        # het - outer\n",
    "        ## reading mask files\n",
    "        outerHetPath = path.replace('data_tiff','segmentation_20_erosion')\n",
    "        outerHetPath=outerHetPath.replace('.tif','_hetChrom_outer.tif')\n",
    "        try:\n",
    "            outerHet=imread(outerHetPath)    \n",
    "        except:\n",
    "            outerHetPath=outerHetPath.replace('.tif','.tiff')\n",
    "            outerHet=imread(outerHetPath)\n",
    "        ## masking this image binary\n",
    "        outerHet=outerHet.astype(bool)\n",
    "        ## calculating the volume of the masks and entering into the dataframe.\n",
    "        volumes.at[i,\"outerHet\"]=np.sum(outerHet)\n",
    "        \n",
    "        # het - total\n",
    "        ## reading mask files\n",
    "        totalHetPath = path.replace('data_tiff','segmentation_20')\n",
    "        totalHetPath=totalHetPath.replace('.tif','_hetChrom.tif')\n",
    "        try:\n",
    "            totalHet=imread(totalHetPath)  \n",
    "        except:\n",
    "            totalHetPath=totalHetPath.replace('.tif','.tiff')\n",
    "            totalHet=imread(totalHetPath)\n",
    "        ## masking this image binary\n",
    "        totalHet=totalHet.astype(bool)\n",
    "        ## calculating the volume of the masks and entering into the dataframe.\n",
    "        volumes.at[i,\"totalHet\"]=np.sum(totalHet)\n",
    "\n",
    "        # eu - inner\n",
    "        ## reading mask files\n",
    "        innerEuPath = path.replace('data_tiff','segmentation_20_eu_erosion')\n",
    "        innerEuPath=innerEuPath.replace('.tif','_euChrom_inner.tif')\n",
    "        try:\n",
    "            innerEu=imread(innerEuPath)\n",
    "        except:\n",
    "            innerEuPath=innerEuPath.replace('.tif','.tiff')\n",
    "            innerEu=imread(innerEuPath)\n",
    "        ## masking this image binary\n",
    "        innerEu=innerEu.astype(bool)\n",
    "        ## calculating the volume of the masks and entering into the dataframe\n",
    "        volumes.at[i,\"innerEu\"]=np.sum(innerEu)\n",
    "        \n",
    "        # eu - outer\n",
    "        ## reading mask files\n",
    "        outerEuPath =path.replace('data_tiff','segmentation_20_eu_erosion')\n",
    "        outerEuPath=outerEuPath.replace('.tif','_euChrom_outer.tif')\n",
    "        try:\n",
    "            outerEu=imread(outerEuPath)\n",
    "        except:\n",
    "            outerEuPath=outerEuPath.replace('.tif','.tiff')\n",
    "            outerEu=imread(outerEuPath)\n",
    "        ## masking this image binary\n",
    "        outerEu=outerEu.astype(bool)\n",
    "        ## calculating the volume of the masks and entering into the dataframe\n",
    "        volumes.at[i,\"outerEu\"]=np.sum(outerEu)\n",
    "        \n",
    "        # eu - total\n",
    "        ## reading mask files\n",
    "        totalEuPath = path.replace('data_tiff','segmentation_20_eu')\n",
    "        totalEuPath=totalEuPath.replace('.tif','_euChrom.tif')\n",
    "        try:\n",
    "            totalEu=imread(totalEuPath)\n",
    "        except:\n",
    "            totalEuPath=totalEuPath.replace('.tif','.tiff')\n",
    "            totalEu=imread(totalEuPath)\n",
    "        ## masking this image binary\n",
    "        totalEu=totalEu.astype(bool)\n",
    "        ## calculating the volume of the masks and entering into the dataframe\n",
    "        volumes.at[i,\"totalEu\"]=np.sum(totalEu)\n",
    "        \n",
    "        progBar.value=progBar.value+1\n",
    "        \n",
    "    return volumes\n",
    "        "
   ]
  },
  {
   "cell_type": "code",
   "execution_count": 23,
   "metadata": {},
   "outputs": [],
   "source": [
    "def testRatio (volDf, part1, part2, total):\n",
    "    return np.sum(volDf[part1] + volDf[part2]) / np.sum(volDf[total]) == 1.0\n",
    "        "
   ]
  },
  {
   "cell_type": "code",
   "execution_count": 14,
   "metadata": {},
   "outputs": [
    {
     "data": {
      "application/vnd.jupyter.widget-view+json": {
       "model_id": "e2d4f578f5bd449fb4deb6adb6081a02",
       "version_major": 2,
       "version_minor": 0
      },
      "text/plain": [
       "IntProgress(value=0, description='Progress:', max=324)"
      ]
     },
     "metadata": {},
     "output_type": "display_data"
    }
   ],
   "source": [
    "newdata_volumes=pd.DataFrame()\n",
    "newdata_vol=calculate_volume(newdata,newdata_volumes)"
   ]
  },
  {
   "cell_type": "code",
   "execution_count": 16,
   "metadata": {},
   "outputs": [
    {
     "data": {
      "text/html": [
       "<div>\n",
       "<style scoped>\n",
       "    .dataframe tbody tr th:only-of-type {\n",
       "        vertical-align: middle;\n",
       "    }\n",
       "\n",
       "    .dataframe tbody tr th {\n",
       "        vertical-align: top;\n",
       "    }\n",
       "\n",
       "    .dataframe thead th {\n",
       "        text-align: right;\n",
       "    }\n",
       "</style>\n",
       "<table border=\"1\" class=\"dataframe\">\n",
       "  <thead>\n",
       "    <tr style=\"text-align: right;\">\n",
       "      <th></th>\n",
       "      <th>innerNuc</th>\n",
       "      <th>outerNuc</th>\n",
       "      <th>totalNucleus</th>\n",
       "      <th>innerHet</th>\n",
       "      <th>outerHet</th>\n",
       "      <th>totalHet</th>\n",
       "      <th>innerEu</th>\n",
       "      <th>outerEu</th>\n",
       "      <th>totalEu</th>\n",
       "    </tr>\n",
       "  </thead>\n",
       "  <tbody>\n",
       "    <tr>\n",
       "      <th>0</th>\n",
       "      <td>47037.0</td>\n",
       "      <td>216157.0</td>\n",
       "      <td>263194.0</td>\n",
       "      <td>29163.0</td>\n",
       "      <td>23479.0</td>\n",
       "      <td>52642.0</td>\n",
       "      <td>17874.0</td>\n",
       "      <td>192678.0</td>\n",
       "      <td>210552.0</td>\n",
       "    </tr>\n",
       "    <tr>\n",
       "      <th>1</th>\n",
       "      <td>76346.0</td>\n",
       "      <td>259643.0</td>\n",
       "      <td>335989.0</td>\n",
       "      <td>39663.0</td>\n",
       "      <td>27545.0</td>\n",
       "      <td>67208.0</td>\n",
       "      <td>36683.0</td>\n",
       "      <td>232098.0</td>\n",
       "      <td>268781.0</td>\n",
       "    </tr>\n",
       "    <tr>\n",
       "      <th>2</th>\n",
       "      <td>74826.0</td>\n",
       "      <td>255724.0</td>\n",
       "      <td>330550.0</td>\n",
       "      <td>39304.0</td>\n",
       "      <td>26820.0</td>\n",
       "      <td>66124.0</td>\n",
       "      <td>35522.0</td>\n",
       "      <td>228904.0</td>\n",
       "      <td>264426.0</td>\n",
       "    </tr>\n",
       "    <tr>\n",
       "      <th>3</th>\n",
       "      <td>28597.0</td>\n",
       "      <td>195272.0</td>\n",
       "      <td>223869.0</td>\n",
       "      <td>19580.0</td>\n",
       "      <td>25209.0</td>\n",
       "      <td>44789.0</td>\n",
       "      <td>9017.0</td>\n",
       "      <td>170063.0</td>\n",
       "      <td>179080.0</td>\n",
       "    </tr>\n",
       "    <tr>\n",
       "      <th>4</th>\n",
       "      <td>57497.0</td>\n",
       "      <td>259717.0</td>\n",
       "      <td>317214.0</td>\n",
       "      <td>36637.0</td>\n",
       "      <td>26823.0</td>\n",
       "      <td>63460.0</td>\n",
       "      <td>20860.0</td>\n",
       "      <td>232894.0</td>\n",
       "      <td>253754.0</td>\n",
       "    </tr>\n",
       "  </tbody>\n",
       "</table>\n",
       "</div>"
      ],
      "text/plain": [
       "   innerNuc  outerNuc  totalNucleus  innerHet  outerHet  totalHet  innerEu  \\\n",
       "0   47037.0  216157.0      263194.0   29163.0   23479.0   52642.0  17874.0   \n",
       "1   76346.0  259643.0      335989.0   39663.0   27545.0   67208.0  36683.0   \n",
       "2   74826.0  255724.0      330550.0   39304.0   26820.0   66124.0  35522.0   \n",
       "3   28597.0  195272.0      223869.0   19580.0   25209.0   44789.0   9017.0   \n",
       "4   57497.0  259717.0      317214.0   36637.0   26823.0   63460.0  20860.0   \n",
       "\n",
       "    outerEu   totalEu  \n",
       "0  192678.0  210552.0  \n",
       "1  232098.0  268781.0  \n",
       "2  228904.0  264426.0  \n",
       "3  170063.0  179080.0  \n",
       "4  232894.0  253754.0  "
      ]
     },
     "execution_count": 16,
     "metadata": {},
     "output_type": "execute_result"
    }
   ],
   "source": [
    "newdata_vol.head()"
   ]
  },
  {
   "cell_type": "code",
   "execution_count": 27,
   "metadata": {},
   "outputs": [
    {
     "data": {
      "application/vnd.jupyter.widget-view+json": {
       "model_id": "a058129beccf4ec1b6e8c99c1292ab86",
       "version_major": 2,
       "version_minor": 0
      },
      "text/plain": [
       "IntProgress(value=0, description='Progress:', max=300)"
      ]
     },
     "metadata": {},
     "output_type": "display_data"
    }
   ],
   "source": [
    "orgdata_volumes=pd.DataFrame()\n",
    "orgdata_vol=calculate_volume(orgdata,orgdata_volumes)"
   ]
  },
  {
   "cell_type": "code",
   "execution_count": 34,
   "metadata": {},
   "outputs": [
    {
     "data": {
      "text/html": [
       "<div>\n",
       "<style scoped>\n",
       "    .dataframe tbody tr th:only-of-type {\n",
       "        vertical-align: middle;\n",
       "    }\n",
       "\n",
       "    .dataframe tbody tr th {\n",
       "        vertical-align: top;\n",
       "    }\n",
       "\n",
       "    .dataframe thead th {\n",
       "        text-align: right;\n",
       "    }\n",
       "</style>\n",
       "<table border=\"1\" class=\"dataframe\">\n",
       "  <thead>\n",
       "    <tr style=\"text-align: right;\">\n",
       "      <th></th>\n",
       "      <th>innerNuc</th>\n",
       "      <th>outerNuc</th>\n",
       "      <th>totalNucleus</th>\n",
       "      <th>innerHet</th>\n",
       "      <th>outerHet</th>\n",
       "      <th>totalHet</th>\n",
       "      <th>innerEu</th>\n",
       "      <th>outerEu</th>\n",
       "      <th>totalEu</th>\n",
       "    </tr>\n",
       "  </thead>\n",
       "  <tbody>\n",
       "    <tr>\n",
       "      <th>0</th>\n",
       "      <td>121203.0</td>\n",
       "      <td>338695.0</td>\n",
       "      <td>459898.0</td>\n",
       "      <td>56704.0</td>\n",
       "      <td>35278.0</td>\n",
       "      <td>91982.0</td>\n",
       "      <td>64499.0</td>\n",
       "      <td>303417.0</td>\n",
       "      <td>367916.0</td>\n",
       "    </tr>\n",
       "    <tr>\n",
       "      <th>1</th>\n",
       "      <td>113058.0</td>\n",
       "      <td>323479.0</td>\n",
       "      <td>436537.0</td>\n",
       "      <td>53828.0</td>\n",
       "      <td>33491.0</td>\n",
       "      <td>87319.0</td>\n",
       "      <td>59230.0</td>\n",
       "      <td>289988.0</td>\n",
       "      <td>349218.0</td>\n",
       "    </tr>\n",
       "    <tr>\n",
       "      <th>2</th>\n",
       "      <td>110924.0</td>\n",
       "      <td>286116.0</td>\n",
       "      <td>397040.0</td>\n",
       "      <td>54924.0</td>\n",
       "      <td>24487.0</td>\n",
       "      <td>79411.0</td>\n",
       "      <td>56000.0</td>\n",
       "      <td>261629.0</td>\n",
       "      <td>317629.0</td>\n",
       "    </tr>\n",
       "    <tr>\n",
       "      <th>3</th>\n",
       "      <td>112322.0</td>\n",
       "      <td>309306.0</td>\n",
       "      <td>421628.0</td>\n",
       "      <td>53664.0</td>\n",
       "      <td>30679.0</td>\n",
       "      <td>84343.0</td>\n",
       "      <td>58658.0</td>\n",
       "      <td>278627.0</td>\n",
       "      <td>337285.0</td>\n",
       "    </tr>\n",
       "    <tr>\n",
       "      <th>4</th>\n",
       "      <td>283573.0</td>\n",
       "      <td>530699.0</td>\n",
       "      <td>814272.0</td>\n",
       "      <td>112732.0</td>\n",
       "      <td>50131.0</td>\n",
       "      <td>162863.0</td>\n",
       "      <td>170841.0</td>\n",
       "      <td>480568.0</td>\n",
       "      <td>651409.0</td>\n",
       "    </tr>\n",
       "  </tbody>\n",
       "</table>\n",
       "</div>"
      ],
      "text/plain": [
       "   innerNuc  outerNuc  totalNucleus  innerHet  outerHet  totalHet   innerEu  \\\n",
       "0  121203.0  338695.0      459898.0   56704.0   35278.0   91982.0   64499.0   \n",
       "1  113058.0  323479.0      436537.0   53828.0   33491.0   87319.0   59230.0   \n",
       "2  110924.0  286116.0      397040.0   54924.0   24487.0   79411.0   56000.0   \n",
       "3  112322.0  309306.0      421628.0   53664.0   30679.0   84343.0   58658.0   \n",
       "4  283573.0  530699.0      814272.0  112732.0   50131.0  162863.0  170841.0   \n",
       "\n",
       "    outerEu   totalEu  \n",
       "0  303417.0  367916.0  \n",
       "1  289988.0  349218.0  \n",
       "2  261629.0  317629.0  \n",
       "3  278627.0  337285.0  \n",
       "4  480568.0  651409.0  "
      ]
     },
     "execution_count": 34,
     "metadata": {},
     "output_type": "execute_result"
    }
   ],
   "source": [
    "orgdata_vol.head()"
   ]
  },
  {
   "cell_type": "markdown",
   "metadata": {},
   "source": [
    "# testRatio(volumedataframe, part1, part2, total)\n",
    "This function takes in the dataframe that has volumes of the masks, string value of the compartment 1, compartment 2 and the total which the ratio of the sum volume of compartment 1 and 2 and the total volume should be 1. IF the ratio is 1, the function returns **True**, else returns **False**. "
   ]
  },
  {
   "cell_type": "markdown",
   "metadata": {},
   "source": [
    "## new data tests"
   ]
  },
  {
   "cell_type": "code",
   "execution_count": 28,
   "metadata": {},
   "outputs": [
    {
     "data": {
      "text/plain": [
       "True"
      ]
     },
     "execution_count": 28,
     "metadata": {},
     "output_type": "execute_result"
    }
   ],
   "source": [
    "testRatio(newdata_vol,\"innerNuc\",\"outerNuc\",\"totalNucleus\")"
   ]
  },
  {
   "cell_type": "code",
   "execution_count": 29,
   "metadata": {},
   "outputs": [
    {
     "data": {
      "text/plain": [
       "False"
      ]
     },
     "execution_count": 29,
     "metadata": {},
     "output_type": "execute_result"
    }
   ],
   "source": [
    "testRatio(newdata_vol,\"innerHet\",\"outerHet\",\"totalHet\")"
   ]
  },
  {
   "cell_type": "code",
   "execution_count": 33,
   "metadata": {},
   "outputs": [
    {
     "data": {
      "text/plain": [
       "0.9980484018970869"
      ]
     },
     "execution_count": 33,
     "metadata": {},
     "output_type": "execute_result"
    }
   ],
   "source": [
    "np.sum(newdata_vol[\"innerHet\"]+newdata_vol[\"outerHet\"]) / np.sum(newdata_vol[\"totalHet\"])"
   ]
  },
  {
   "cell_type": "code",
   "execution_count": 30,
   "metadata": {},
   "outputs": [
    {
     "data": {
      "text/plain": [
       "True"
      ]
     },
     "execution_count": 30,
     "metadata": {},
     "output_type": "execute_result"
    }
   ],
   "source": [
    "testRatio(newdata_vol,\"innerEu\",\"outerEu\",\"totalEu\")"
   ]
  },
  {
   "cell_type": "code",
   "execution_count": 31,
   "metadata": {},
   "outputs": [
    {
     "data": {
      "text/plain": [
       "True"
      ]
     },
     "execution_count": 31,
     "metadata": {},
     "output_type": "execute_result"
    }
   ],
   "source": [
    "testRatio(newdata_vol,\"innerHet\",\"innerEu\",\"innerNuc\")"
   ]
  },
  {
   "cell_type": "code",
   "execution_count": 32,
   "metadata": {
    "scrolled": true
   },
   "outputs": [
    {
     "data": {
      "text/plain": [
       "True"
      ]
     },
     "execution_count": 32,
     "metadata": {},
     "output_type": "execute_result"
    }
   ],
   "source": [
    "testRatio(newdata_vol,\"outerHet\",\"outerEu\",\"outerNuc\")"
   ]
  },
  {
   "cell_type": "markdown",
   "metadata": {},
   "source": [
    "## original data tests"
   ]
  },
  {
   "cell_type": "code",
   "execution_count": 35,
   "metadata": {},
   "outputs": [
    {
     "data": {
      "text/plain": [
       "True"
      ]
     },
     "execution_count": 35,
     "metadata": {},
     "output_type": "execute_result"
    }
   ],
   "source": [
    "testRatio(orgdata_vol,\"innerNuc\",\"outerNuc\",\"totalNucleus\")"
   ]
  },
  {
   "cell_type": "code",
   "execution_count": 36,
   "metadata": {},
   "outputs": [
    {
     "data": {
      "text/plain": [
       "True"
      ]
     },
     "execution_count": 36,
     "metadata": {},
     "output_type": "execute_result"
    }
   ],
   "source": [
    "testRatio(orgdata_vol,\"innerHet\",\"outerHet\",\"totalHet\")"
   ]
  },
  {
   "cell_type": "code",
   "execution_count": 38,
   "metadata": {},
   "outputs": [
    {
     "data": {
      "text/plain": [
       "True"
      ]
     },
     "execution_count": 38,
     "metadata": {},
     "output_type": "execute_result"
    }
   ],
   "source": [
    "testRatio(orgdata_vol,\"innerEu\",\"outerEu\",\"totalEu\")"
   ]
  },
  {
   "cell_type": "code",
   "execution_count": 39,
   "metadata": {},
   "outputs": [
    {
     "data": {
      "text/plain": [
       "True"
      ]
     },
     "execution_count": 39,
     "metadata": {},
     "output_type": "execute_result"
    }
   ],
   "source": [
    "testRatio(orgdata_vol,\"innerHet\",\"innerEu\",\"innerNuc\")"
   ]
  },
  {
   "cell_type": "code",
   "execution_count": 40,
   "metadata": {
    "scrolled": true
   },
   "outputs": [
    {
     "data": {
      "text/plain": [
       "True"
      ]
     },
     "execution_count": 40,
     "metadata": {},
     "output_type": "execute_result"
    }
   ],
   "source": [
    "testRatio(orgdata_vol,\"outerHet\",\"outerEu\",\"outerNuc\")"
   ]
  },
  {
   "cell_type": "code",
   "execution_count": null,
   "metadata": {},
   "outputs": [],
   "source": []
  }
 ],
 "metadata": {
  "kernelspec": {
   "display_name": "Python 3",
   "language": "python",
   "name": "python3"
  },
  "language_info": {
   "codemirror_mode": {
    "name": "ipython",
    "version": 3
   },
   "file_extension": ".py",
   "mimetype": "text/x-python",
   "name": "python",
   "nbconvert_exporter": "python",
   "pygments_lexer": "ipython3",
   "version": "3.7.3"
  }
 },
 "nbformat": 4,
 "nbformat_minor": 2
}
