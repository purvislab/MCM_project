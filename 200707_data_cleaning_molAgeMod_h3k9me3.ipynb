{
 "cells": [
  {
   "cell_type": "code",
   "execution_count": 1,
   "metadata": {},
   "outputs": [],
   "source": [
    "import pandas as pd\n",
    "import numpy as np"
   ]
  },
  {
   "cell_type": "code",
   "execution_count": 2,
   "metadata": {},
   "outputs": [],
   "source": [
    "bigDir=r'Z:\\CookLab\\Liu\\20190816_organizedData_MCM_loading\\20200604_h3k9me3'"
   ]
  },
  {
   "cell_type": "code",
   "execution_count": 11,
   "metadata": {},
   "outputs": [],
   "source": [
    "file=f'{bigDir}\\\\cellinfo_200604v1.csv'"
   ]
  },
  {
   "cell_type": "code",
   "execution_count": 12,
   "metadata": {},
   "outputs": [],
   "source": [
    "data=pd.read_csv(file)"
   ]
  },
  {
   "cell_type": "code",
   "execution_count": 13,
   "metadata": {},
   "outputs": [
    {
     "data": {
      "text/html": [
       "<div>\n",
       "<style scoped>\n",
       "    .dataframe tbody tr th:only-of-type {\n",
       "        vertical-align: middle;\n",
       "    }\n",
       "\n",
       "    .dataframe tbody tr th {\n",
       "        vertical-align: top;\n",
       "    }\n",
       "\n",
       "    .dataframe thead th {\n",
       "        text-align: right;\n",
       "    }\n",
       "</style>\n",
       "<table border=\"1\" class=\"dataframe\">\n",
       "  <thead>\n",
       "    <tr style=\"text-align: right;\">\n",
       "      <th></th>\n",
       "      <th>Unnamed: 0</th>\n",
       "      <th>Unnamed: 0.1</th>\n",
       "      <th>file</th>\n",
       "      <th>original_name</th>\n",
       "      <th>movie</th>\n",
       "      <th>last frame movie position x</th>\n",
       "      <th>last frame movie position y</th>\n",
       "      <th>ab1 (MCM)</th>\n",
       "      <th>ab1 ch</th>\n",
       "      <th>ab2 (heterochromatin)</th>\n",
       "      <th>ab2 ch</th>\n",
       "      <th>DAPI ch</th>\n",
       "      <th>category</th>\n",
       "      <th>molecular age</th>\n",
       "      <th>physical age [min]</th>\n",
       "      <th>imaging core</th>\n",
       "      <th>cell_id_last frame</th>\n",
       "      <th>cell id for tracking</th>\n",
       "    </tr>\n",
       "  </thead>\n",
       "  <tbody>\n",
       "    <tr>\n",
       "      <th>0</th>\n",
       "      <td>0.0</td>\n",
       "      <td>0</td>\n",
       "      <td>20200604_cell_00.ciz</td>\n",
       "      <td>200604_09_15_63X.czi</td>\n",
       "      <td>200604xy09</td>\n",
       "      <td>325.986</td>\n",
       "      <td>135.825</td>\n",
       "      <td>H3K9Me3</td>\n",
       "      <td>1</td>\n",
       "      <td>MCM2</td>\n",
       "      <td>2</td>\n",
       "      <td>3</td>\n",
       "      <td>earlyG1</td>\n",
       "      <td>0.560</td>\n",
       "      <td>60min</td>\n",
       "      <td>HIC</td>\n",
       "      <td>15.0</td>\n",
       "      <td>NaN</td>\n",
       "    </tr>\n",
       "    <tr>\n",
       "      <th>1</th>\n",
       "      <td>1.0</td>\n",
       "      <td>1</td>\n",
       "      <td>20200604_cell_01.ciz</td>\n",
       "      <td>200604_09_46_63X.czi</td>\n",
       "      <td>200604xy09</td>\n",
       "      <td>1103.256</td>\n",
       "      <td>483.760</td>\n",
       "      <td>H3K9Me3</td>\n",
       "      <td>1</td>\n",
       "      <td>MCM2</td>\n",
       "      <td>2</td>\n",
       "      <td>3</td>\n",
       "      <td>lateG1</td>\n",
       "      <td>0.855</td>\n",
       "      <td>330min</td>\n",
       "      <td>HIC</td>\n",
       "      <td>46.0</td>\n",
       "      <td>NaN</td>\n",
       "    </tr>\n",
       "    <tr>\n",
       "      <th>2</th>\n",
       "      <td>2.0</td>\n",
       "      <td>2</td>\n",
       "      <td>20200604_cell_02.ciz</td>\n",
       "      <td>200604_09_51_63X.czi</td>\n",
       "      <td>200604xy09</td>\n",
       "      <td>1865.490</td>\n",
       "      <td>559.814</td>\n",
       "      <td>H3K9Me3</td>\n",
       "      <td>1</td>\n",
       "      <td>MCM2</td>\n",
       "      <td>2</td>\n",
       "      <td>3</td>\n",
       "      <td>middleG1</td>\n",
       "      <td>0.773</td>\n",
       "      <td>280min</td>\n",
       "      <td>HIC</td>\n",
       "      <td>51.0</td>\n",
       "      <td>NaN</td>\n",
       "    </tr>\n",
       "    <tr>\n",
       "      <th>3</th>\n",
       "      <td>3.0</td>\n",
       "      <td>3</td>\n",
       "      <td>20200604_cell_03.ciz</td>\n",
       "      <td>200604_09_53_63X.czi</td>\n",
       "      <td>200604xy09</td>\n",
       "      <td>601.353</td>\n",
       "      <td>583.042</td>\n",
       "      <td>H3K9Me3</td>\n",
       "      <td>1</td>\n",
       "      <td>MCM2</td>\n",
       "      <td>2</td>\n",
       "      <td>3</td>\n",
       "      <td>middleG1</td>\n",
       "      <td>0.234</td>\n",
       "      <td>150min</td>\n",
       "      <td>HIC</td>\n",
       "      <td>53.0</td>\n",
       "      <td>NaN</td>\n",
       "    </tr>\n",
       "    <tr>\n",
       "      <th>4</th>\n",
       "      <td>4.0</td>\n",
       "      <td>4</td>\n",
       "      <td>20200604_cell_04.ciz</td>\n",
       "      <td>200604_09_58_63X.czi</td>\n",
       "      <td>200604xy09</td>\n",
       "      <td>1577.064</td>\n",
       "      <td>627.569</td>\n",
       "      <td>H3K9Me3</td>\n",
       "      <td>1</td>\n",
       "      <td>MCM2</td>\n",
       "      <td>2</td>\n",
       "      <td>3</td>\n",
       "      <td>earlyG1</td>\n",
       "      <td>0.312</td>\n",
       "      <td>100min</td>\n",
       "      <td>HIC</td>\n",
       "      <td>58.0</td>\n",
       "      <td>NaN</td>\n",
       "    </tr>\n",
       "  </tbody>\n",
       "</table>\n",
       "</div>"
      ],
      "text/plain": [
       "   Unnamed: 0  Unnamed: 0.1                  file         original_name  \\\n",
       "0         0.0             0  20200604_cell_00.ciz  200604_09_15_63X.czi   \n",
       "1         1.0             1  20200604_cell_01.ciz  200604_09_46_63X.czi   \n",
       "2         2.0             2  20200604_cell_02.ciz  200604_09_51_63X.czi   \n",
       "3         3.0             3  20200604_cell_03.ciz  200604_09_53_63X.czi   \n",
       "4         4.0             4  20200604_cell_04.ciz  200604_09_58_63X.czi   \n",
       "\n",
       "        movie  last frame movie position x  last frame movie position y  \\\n",
       "0  200604xy09                      325.986                      135.825   \n",
       "1  200604xy09                     1103.256                      483.760   \n",
       "2  200604xy09                     1865.490                      559.814   \n",
       "3  200604xy09                      601.353                      583.042   \n",
       "4  200604xy09                     1577.064                      627.569   \n",
       "\n",
       "  ab1 (MCM)  ab1 ch ab2 (heterochromatin)  ab2 ch  DAPI ch  category  \\\n",
       "0   H3K9Me3       1                  MCM2       2        3   earlyG1   \n",
       "1   H3K9Me3       1                  MCM2       2        3    lateG1   \n",
       "2   H3K9Me3       1                  MCM2       2        3  middleG1   \n",
       "3   H3K9Me3       1                  MCM2       2        3  middleG1   \n",
       "4   H3K9Me3       1                  MCM2       2        3   earlyG1   \n",
       "\n",
       "   molecular age  physical age [min] imaging core  cell_id_last frame  \\\n",
       "0           0.560              60min          HIC                15.0   \n",
       "1           0.855             330min          HIC                46.0   \n",
       "2           0.773             280min          HIC                51.0   \n",
       "3           0.234             150min          HIC                53.0   \n",
       "4           0.312             100min          HIC                58.0   \n",
       "\n",
       "   cell id for tracking  \n",
       "0                   NaN  \n",
       "1                   NaN  \n",
       "2                   NaN  \n",
       "3                   NaN  \n",
       "4                   NaN  "
      ]
     },
     "execution_count": 13,
     "metadata": {},
     "output_type": "execute_result"
    }
   ],
   "source": [
    "data.head()"
   ]
  },
  {
   "cell_type": "code",
   "execution_count": 14,
   "metadata": {},
   "outputs": [
    {
     "data": {
      "text/plain": [
       "array(['earlyG1', 'lateG1', 'middleG1', 'G2'], dtype=object)"
      ]
     },
     "execution_count": 14,
     "metadata": {},
     "output_type": "execute_result"
    }
   ],
   "source": [
    "data.category.unique()"
   ]
  },
  {
   "cell_type": "code",
   "execution_count": 15,
   "metadata": {},
   "outputs": [],
   "source": [
    "data=data.drop(columns=['Unnamed: 0','Unnamed: 0.1'])"
   ]
  },
  {
   "cell_type": "code",
   "execution_count": 16,
   "metadata": {},
   "outputs": [],
   "source": [
    "from itertools import islice"
   ]
  },
  {
   "cell_type": "code",
   "execution_count": 17,
   "metadata": {},
   "outputs": [],
   "source": [
    "i=0\n",
    "for i,cell in islice(data.iterrows(),i,None):\n",
    "    data.at[i,'path']=bigDir+\"\\\\data_tiff\\\\\"+data.at[i,'file'].split(\".\")[0]+'.tif'"
   ]
  },
  {
   "cell_type": "code",
   "execution_count": 18,
   "metadata": {},
   "outputs": [
    {
     "data": {
      "text/plain": [
       "0    Z:\\CookLab\\Liu\\20190816_organizedData_MCM_load...\n",
       "1    Z:\\CookLab\\Liu\\20190816_organizedData_MCM_load...\n",
       "2    Z:\\CookLab\\Liu\\20190816_organizedData_MCM_load...\n",
       "3    Z:\\CookLab\\Liu\\20190816_organizedData_MCM_load...\n",
       "4    Z:\\CookLab\\Liu\\20190816_organizedData_MCM_load...\n",
       "Name: path, dtype: object"
      ]
     },
     "execution_count": 18,
     "metadata": {},
     "output_type": "execute_result"
    }
   ],
   "source": [
    "data.path.head()"
   ]
  },
  {
   "cell_type": "code",
   "execution_count": 19,
   "metadata": {},
   "outputs": [
    {
     "data": {
      "text/plain": [
       "'Z:\\\\CookLab\\\\Liu\\\\20190816_organizedData_MCM_loading\\\\20200604_h3k9me3\\\\data_tiff\\\\20200604_cell_00.tif'"
      ]
     },
     "execution_count": 19,
     "metadata": {},
     "output_type": "execute_result"
    }
   ],
   "source": [
    "data.loc[0,'path']"
   ]
  },
  {
   "cell_type": "code",
   "execution_count": 20,
   "metadata": {},
   "outputs": [],
   "source": [
    "data.to_csv(file.replace('v1','v2'))"
   ]
  },
  {
   "cell_type": "markdown",
   "metadata": {},
   "source": [
    "## molecular age modification"
   ]
  },
  {
   "cell_type": "code",
   "execution_count": 3,
   "metadata": {},
   "outputs": [],
   "source": [
    "file=f'{bigDir}\\\\cellinfo_200604v2.csv'"
   ]
  },
  {
   "cell_type": "code",
   "execution_count": 4,
   "metadata": {},
   "outputs": [],
   "source": [
    "data=pd.read_csv(file)"
   ]
  },
  {
   "cell_type": "code",
   "execution_count": 5,
   "metadata": {},
   "outputs": [
    {
     "data": {
      "text/html": [
       "<div>\n",
       "<style scoped>\n",
       "    .dataframe tbody tr th:only-of-type {\n",
       "        vertical-align: middle;\n",
       "    }\n",
       "\n",
       "    .dataframe tbody tr th {\n",
       "        vertical-align: top;\n",
       "    }\n",
       "\n",
       "    .dataframe thead th {\n",
       "        text-align: right;\n",
       "    }\n",
       "</style>\n",
       "<table border=\"1\" class=\"dataframe\">\n",
       "  <thead>\n",
       "    <tr style=\"text-align: right;\">\n",
       "      <th></th>\n",
       "      <th>Unnamed: 0</th>\n",
       "      <th>file</th>\n",
       "      <th>original_name</th>\n",
       "      <th>movie</th>\n",
       "      <th>last frame movie position x</th>\n",
       "      <th>last frame movie position y</th>\n",
       "      <th>ab1 (Heterochromatin)</th>\n",
       "      <th>ab1 ch</th>\n",
       "      <th>ab2 (MCM)</th>\n",
       "      <th>ab2 ch</th>\n",
       "      <th>DAPI ch</th>\n",
       "      <th>category</th>\n",
       "      <th>molecular age</th>\n",
       "      <th>physical age [min]</th>\n",
       "      <th>imaging core</th>\n",
       "      <th>cell_id_last frame</th>\n",
       "      <th>cell id for tracking</th>\n",
       "      <th>path</th>\n",
       "    </tr>\n",
       "  </thead>\n",
       "  <tbody>\n",
       "    <tr>\n",
       "      <th>0</th>\n",
       "      <td>0</td>\n",
       "      <td>20200604_cell_00.ciz</td>\n",
       "      <td>200604_09_15_63X.czi</td>\n",
       "      <td>200604xy09</td>\n",
       "      <td>325.986</td>\n",
       "      <td>135.825</td>\n",
       "      <td>H3K9Me3</td>\n",
       "      <td>1</td>\n",
       "      <td>MCM2</td>\n",
       "      <td>2</td>\n",
       "      <td>3</td>\n",
       "      <td>earlyG1</td>\n",
       "      <td>0.560</td>\n",
       "      <td>60min</td>\n",
       "      <td>HIC</td>\n",
       "      <td>15.0</td>\n",
       "      <td>NaN</td>\n",
       "      <td>Z:\\CookLab\\Liu\\20190816_organizedData_MCM_load...</td>\n",
       "    </tr>\n",
       "    <tr>\n",
       "      <th>1</th>\n",
       "      <td>1</td>\n",
       "      <td>20200604_cell_01.ciz</td>\n",
       "      <td>200604_09_46_63X.czi</td>\n",
       "      <td>200604xy09</td>\n",
       "      <td>1103.256</td>\n",
       "      <td>483.760</td>\n",
       "      <td>H3K9Me3</td>\n",
       "      <td>1</td>\n",
       "      <td>MCM2</td>\n",
       "      <td>2</td>\n",
       "      <td>3</td>\n",
       "      <td>lateG1</td>\n",
       "      <td>0.855</td>\n",
       "      <td>330min</td>\n",
       "      <td>HIC</td>\n",
       "      <td>46.0</td>\n",
       "      <td>NaN</td>\n",
       "      <td>Z:\\CookLab\\Liu\\20190816_organizedData_MCM_load...</td>\n",
       "    </tr>\n",
       "    <tr>\n",
       "      <th>2</th>\n",
       "      <td>2</td>\n",
       "      <td>20200604_cell_02.ciz</td>\n",
       "      <td>200604_09_51_63X.czi</td>\n",
       "      <td>200604xy09</td>\n",
       "      <td>1865.490</td>\n",
       "      <td>559.814</td>\n",
       "      <td>H3K9Me3</td>\n",
       "      <td>1</td>\n",
       "      <td>MCM2</td>\n",
       "      <td>2</td>\n",
       "      <td>3</td>\n",
       "      <td>middleG1</td>\n",
       "      <td>0.773</td>\n",
       "      <td>280min</td>\n",
       "      <td>HIC</td>\n",
       "      <td>51.0</td>\n",
       "      <td>NaN</td>\n",
       "      <td>Z:\\CookLab\\Liu\\20190816_organizedData_MCM_load...</td>\n",
       "    </tr>\n",
       "    <tr>\n",
       "      <th>3</th>\n",
       "      <td>3</td>\n",
       "      <td>20200604_cell_03.ciz</td>\n",
       "      <td>200604_09_53_63X.czi</td>\n",
       "      <td>200604xy09</td>\n",
       "      <td>601.353</td>\n",
       "      <td>583.042</td>\n",
       "      <td>H3K9Me3</td>\n",
       "      <td>1</td>\n",
       "      <td>MCM2</td>\n",
       "      <td>2</td>\n",
       "      <td>3</td>\n",
       "      <td>middleG1</td>\n",
       "      <td>0.234</td>\n",
       "      <td>150min</td>\n",
       "      <td>HIC</td>\n",
       "      <td>53.0</td>\n",
       "      <td>NaN</td>\n",
       "      <td>Z:\\CookLab\\Liu\\20190816_organizedData_MCM_load...</td>\n",
       "    </tr>\n",
       "    <tr>\n",
       "      <th>4</th>\n",
       "      <td>4</td>\n",
       "      <td>20200604_cell_04.ciz</td>\n",
       "      <td>200604_09_58_63X.czi</td>\n",
       "      <td>200604xy09</td>\n",
       "      <td>1577.064</td>\n",
       "      <td>627.569</td>\n",
       "      <td>H3K9Me3</td>\n",
       "      <td>1</td>\n",
       "      <td>MCM2</td>\n",
       "      <td>2</td>\n",
       "      <td>3</td>\n",
       "      <td>earlyG1</td>\n",
       "      <td>0.312</td>\n",
       "      <td>100min</td>\n",
       "      <td>HIC</td>\n",
       "      <td>58.0</td>\n",
       "      <td>NaN</td>\n",
       "      <td>Z:\\CookLab\\Liu\\20190816_organizedData_MCM_load...</td>\n",
       "    </tr>\n",
       "  </tbody>\n",
       "</table>\n",
       "</div>"
      ],
      "text/plain": [
       "   Unnamed: 0                  file         original_name       movie  \\\n",
       "0           0  20200604_cell_00.ciz  200604_09_15_63X.czi  200604xy09   \n",
       "1           1  20200604_cell_01.ciz  200604_09_46_63X.czi  200604xy09   \n",
       "2           2  20200604_cell_02.ciz  200604_09_51_63X.czi  200604xy09   \n",
       "3           3  20200604_cell_03.ciz  200604_09_53_63X.czi  200604xy09   \n",
       "4           4  20200604_cell_04.ciz  200604_09_58_63X.czi  200604xy09   \n",
       "\n",
       "   last frame movie position x  last frame movie position y  \\\n",
       "0                      325.986                      135.825   \n",
       "1                     1103.256                      483.760   \n",
       "2                     1865.490                      559.814   \n",
       "3                      601.353                      583.042   \n",
       "4                     1577.064                      627.569   \n",
       "\n",
       "  ab1 (Heterochromatin)  ab1 ch ab2 (MCM)  ab2 ch  DAPI ch  category  \\\n",
       "0               H3K9Me3       1      MCM2       2        3   earlyG1   \n",
       "1               H3K9Me3       1      MCM2       2        3    lateG1   \n",
       "2               H3K9Me3       1      MCM2       2        3  middleG1   \n",
       "3               H3K9Me3       1      MCM2       2        3  middleG1   \n",
       "4               H3K9Me3       1      MCM2       2        3   earlyG1   \n",
       "\n",
       "   molecular age  physical age [min] imaging core  cell_id_last frame  \\\n",
       "0           0.560              60min          HIC                15.0   \n",
       "1           0.855             330min          HIC                46.0   \n",
       "2           0.773             280min          HIC                51.0   \n",
       "3           0.234             150min          HIC                53.0   \n",
       "4           0.312             100min          HIC                58.0   \n",
       "\n",
       "   cell id for tracking                                               path  \n",
       "0                   NaN  Z:\\CookLab\\Liu\\20190816_organizedData_MCM_load...  \n",
       "1                   NaN  Z:\\CookLab\\Liu\\20190816_organizedData_MCM_load...  \n",
       "2                   NaN  Z:\\CookLab\\Liu\\20190816_organizedData_MCM_load...  \n",
       "3                   NaN  Z:\\CookLab\\Liu\\20190816_organizedData_MCM_load...  \n",
       "4                   NaN  Z:\\CookLab\\Liu\\20190816_organizedData_MCM_load...  "
      ]
     },
     "execution_count": 5,
     "metadata": {},
     "output_type": "execute_result"
    }
   ],
   "source": [
    "data.head()"
   ]
  },
  {
   "cell_type": "code",
   "execution_count": 7,
   "metadata": {},
   "outputs": [],
   "source": [
    "from itertools import islice"
   ]
  },
  {
   "cell_type": "code",
   "execution_count": 16,
   "metadata": {},
   "outputs": [],
   "source": [
    "i=0\n",
    "for i,myCell in islice(data.iterrows(), i,None):\n",
    "    try:\n",
    "        data.loc[i,'physical_age']=((int(data.loc[i,'physical age [min]'][:-3]) / 60) + 1)\n",
    "    except:\n",
    "        data.loc[i,'physical_age']=None"
   ]
  },
  {
   "cell_type": "code",
   "execution_count": 18,
   "metadata": {},
   "outputs": [],
   "source": [
    "i=0\n",
    "for i,myCell in islice(data.iterrows(), i,None):\n",
    "    try:\n",
    "        data.loc[i,'physical_age_liu']=((int(data.loc[i,'physical age [min]'][:-3]) / 60))\n",
    "    except:\n",
    "        data.loc[i,'physical_age_liu']=None"
   ]
  },
  {
   "cell_type": "code",
   "execution_count": 19,
   "metadata": {},
   "outputs": [],
   "source": [
    "data.loc[((data.physical_age<2) & (data.category=='earlyG1')),'mol_age_mod']=np.min(data['molecular age '])"
   ]
  },
  {
   "cell_type": "code",
   "execution_count": 20,
   "metadata": {},
   "outputs": [],
   "source": [
    "data.loc[((data.physical_age_liu<2) & (data.category=='earlyG1')),'mol_age_mod_liu']=np.min(data['molecular age '])"
   ]
  },
  {
   "cell_type": "code",
   "execution_count": 21,
   "metadata": {},
   "outputs": [
    {
     "data": {
      "text/plain": [
       "count    1.100000e+01\n",
       "mean     1.670000e-01\n",
       "std      2.911029e-17\n",
       "min      1.670000e-01\n",
       "25%      1.670000e-01\n",
       "50%      1.670000e-01\n",
       "75%      1.670000e-01\n",
       "max      1.670000e-01\n",
       "Name: mol_age_mod, dtype: float64"
      ]
     },
     "execution_count": 21,
     "metadata": {},
     "output_type": "execute_result"
    }
   ],
   "source": [
    "data.loc[((data.physical_age<2) & (data.category=='earlyG1')),'mol_age_mod'].describe()"
   ]
  },
  {
   "cell_type": "code",
   "execution_count": 22,
   "metadata": {},
   "outputs": [
    {
     "data": {
      "text/plain": [
       "count    2.100000e+01\n",
       "mean     1.670000e-01\n",
       "std      5.688200e-17\n",
       "min      1.670000e-01\n",
       "25%      1.670000e-01\n",
       "50%      1.670000e-01\n",
       "75%      1.670000e-01\n",
       "max      1.670000e-01\n",
       "Name: mol_age_mod_liu, dtype: float64"
      ]
     },
     "execution_count": 22,
     "metadata": {},
     "output_type": "execute_result"
    }
   ],
   "source": [
    "data.loc[((data.physical_age_liu<2) & (data.category=='earlyG1')),'mol_age_mod_liu'].describe()"
   ]
  },
  {
   "cell_type": "code",
   "execution_count": 23,
   "metadata": {},
   "outputs": [],
   "source": [
    "data=data.drop(columns=['Unnamed: 0'])"
   ]
  },
  {
   "cell_type": "code",
   "execution_count": 24,
   "metadata": {},
   "outputs": [],
   "source": [
    "data.to_csv(file.replace('v2','v3'))"
   ]
  },
  {
   "cell_type": "code",
   "execution_count": null,
   "metadata": {},
   "outputs": [],
   "source": []
  }
 ],
 "metadata": {
  "kernelspec": {
   "display_name": "Python 3",
   "language": "python",
   "name": "python3"
  },
  "language_info": {
   "codemirror_mode": {
    "name": "ipython",
    "version": 3
   },
   "file_extension": ".py",
   "mimetype": "text/x-python",
   "name": "python",
   "nbconvert_exporter": "python",
   "pygments_lexer": "ipython3",
   "version": "3.7.3"
  }
 },
 "nbformat": 4,
 "nbformat_minor": 2
}
