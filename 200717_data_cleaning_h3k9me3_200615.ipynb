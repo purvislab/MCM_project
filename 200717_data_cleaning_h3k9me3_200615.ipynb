{
 "cells": [
  {
   "cell_type": "code",
   "execution_count": 1,
   "metadata": {},
   "outputs": [],
   "source": [
    "import pandas as pd\n",
    "import numpy as np"
   ]
  },
  {
   "cell_type": "code",
   "execution_count": 2,
   "metadata": {},
   "outputs": [],
   "source": [
    "bigDir=r'Z:\\CookLab\\Liu\\20190816_organizedData_MCM_loading\\20200615_h3k9me3'"
   ]
  },
  {
   "cell_type": "code",
   "execution_count": 3,
   "metadata": {},
   "outputs": [],
   "source": [
    "file=f'{bigDir}\\\\cellinfo_200615v1.csv'"
   ]
  },
  {
   "cell_type": "code",
   "execution_count": 4,
   "metadata": {},
   "outputs": [],
   "source": [
    "data=pd.read_csv(file)"
   ]
  },
  {
   "cell_type": "code",
   "execution_count": 5,
   "metadata": {},
   "outputs": [
    {
     "data": {
      "text/html": [
       "<div>\n",
       "<style scoped>\n",
       "    .dataframe tbody tr th:only-of-type {\n",
       "        vertical-align: middle;\n",
       "    }\n",
       "\n",
       "    .dataframe tbody tr th {\n",
       "        vertical-align: top;\n",
       "    }\n",
       "\n",
       "    .dataframe thead th {\n",
       "        text-align: right;\n",
       "    }\n",
       "</style>\n",
       "<table border=\"1\" class=\"dataframe\">\n",
       "  <thead>\n",
       "    <tr style=\"text-align: right;\">\n",
       "      <th></th>\n",
       "      <th>Unnamed: 0</th>\n",
       "      <th>file</th>\n",
       "      <th>original_name</th>\n",
       "      <th>movie</th>\n",
       "      <th>last frame movie position x</th>\n",
       "      <th>last frame movie position y</th>\n",
       "      <th>ab1 (MCM)</th>\n",
       "      <th>ab1 ch</th>\n",
       "      <th>ab2 (heterochromatin)</th>\n",
       "      <th>ab2 ch</th>\n",
       "      <th>DAPI ch</th>\n",
       "      <th>category</th>\n",
       "      <th>molecular age</th>\n",
       "      <th>physical age [min]</th>\n",
       "      <th>imaging core</th>\n",
       "      <th>cell_id_last frame</th>\n",
       "    </tr>\n",
       "  </thead>\n",
       "  <tbody>\n",
       "    <tr>\n",
       "      <th>0</th>\n",
       "      <td>0</td>\n",
       "      <td>20200615_cell_00.ciz</td>\n",
       "      <td>20200615_29_11_63x.czi</td>\n",
       "      <td>200614xy29</td>\n",
       "      <td>1781.995</td>\n",
       "      <td>159.930</td>\n",
       "      <td>H3K9Me3</td>\n",
       "      <td>1</td>\n",
       "      <td>MCM2</td>\n",
       "      <td>2</td>\n",
       "      <td>3</td>\n",
       "      <td>middleG1</td>\n",
       "      <td>0.353</td>\n",
       "      <td>140min</td>\n",
       "      <td>HIC</td>\n",
       "      <td>11</td>\n",
       "    </tr>\n",
       "    <tr>\n",
       "      <th>1</th>\n",
       "      <td>1</td>\n",
       "      <td>20200615_cell_01.ciz</td>\n",
       "      <td>20200615_29_18_63x.czi</td>\n",
       "      <td>200614xy29</td>\n",
       "      <td>1534.667</td>\n",
       "      <td>302.703</td>\n",
       "      <td>H3K9Me3</td>\n",
       "      <td>1</td>\n",
       "      <td>MCM2</td>\n",
       "      <td>2</td>\n",
       "      <td>3</td>\n",
       "      <td>middleG1</td>\n",
       "      <td>0.371</td>\n",
       "      <td>330min</td>\n",
       "      <td>HIC</td>\n",
       "      <td>18</td>\n",
       "    </tr>\n",
       "    <tr>\n",
       "      <th>2</th>\n",
       "      <td>2</td>\n",
       "      <td>20200615_cell_02.ciz</td>\n",
       "      <td>20200615_29_23_63x.czi</td>\n",
       "      <td>200614xy29</td>\n",
       "      <td>558.209</td>\n",
       "      <td>366.997</td>\n",
       "      <td>H3K9Me3</td>\n",
       "      <td>1</td>\n",
       "      <td>MCM2</td>\n",
       "      <td>2</td>\n",
       "      <td>3</td>\n",
       "      <td>middleG1</td>\n",
       "      <td>0.540</td>\n",
       "      <td>420min</td>\n",
       "      <td>HIC</td>\n",
       "      <td>23</td>\n",
       "    </tr>\n",
       "    <tr>\n",
       "      <th>3</th>\n",
       "      <td>3</td>\n",
       "      <td>20200615_cell_03.ciz</td>\n",
       "      <td>20200615_29_24_63x.czi</td>\n",
       "      <td>200614xy29</td>\n",
       "      <td>1147.608</td>\n",
       "      <td>371.829</td>\n",
       "      <td>H3K9Me3</td>\n",
       "      <td>1</td>\n",
       "      <td>MCM2</td>\n",
       "      <td>2</td>\n",
       "      <td>3</td>\n",
       "      <td>lateG1</td>\n",
       "      <td>0.700</td>\n",
       "      <td>270min</td>\n",
       "      <td>HIC</td>\n",
       "      <td>24</td>\n",
       "    </tr>\n",
       "    <tr>\n",
       "      <th>4</th>\n",
       "      <td>4</td>\n",
       "      <td>20200615_cell_04.ciz</td>\n",
       "      <td>20200615_29_31_63x.czi</td>\n",
       "      <td>200614xy29</td>\n",
       "      <td>1649.449</td>\n",
       "      <td>469.520</td>\n",
       "      <td>H3K9Me3</td>\n",
       "      <td>1</td>\n",
       "      <td>MCM2</td>\n",
       "      <td>2</td>\n",
       "      <td>3</td>\n",
       "      <td>middleG1</td>\n",
       "      <td>0.298</td>\n",
       "      <td>360min</td>\n",
       "      <td>HIC</td>\n",
       "      <td>31</td>\n",
       "    </tr>\n",
       "  </tbody>\n",
       "</table>\n",
       "</div>"
      ],
      "text/plain": [
       "   Unnamed: 0                  file           original_name       movie  \\\n",
       "0           0  20200615_cell_00.ciz  20200615_29_11_63x.czi  200614xy29   \n",
       "1           1  20200615_cell_01.ciz  20200615_29_18_63x.czi  200614xy29   \n",
       "2           2  20200615_cell_02.ciz  20200615_29_23_63x.czi  200614xy29   \n",
       "3           3  20200615_cell_03.ciz  20200615_29_24_63x.czi  200614xy29   \n",
       "4           4  20200615_cell_04.ciz  20200615_29_31_63x.czi  200614xy29   \n",
       "\n",
       "   last frame movie position x  last frame movie position y ab1 (MCM)  ab1 ch  \\\n",
       "0                     1781.995                      159.930   H3K9Me3       1   \n",
       "1                     1534.667                      302.703   H3K9Me3       1   \n",
       "2                      558.209                      366.997   H3K9Me3       1   \n",
       "3                     1147.608                      371.829   H3K9Me3       1   \n",
       "4                     1649.449                      469.520   H3K9Me3       1   \n",
       "\n",
       "  ab2 (heterochromatin)  ab2 ch  DAPI ch  category  molecular age   \\\n",
       "0                  MCM2       2        3  middleG1           0.353   \n",
       "1                  MCM2       2        3  middleG1           0.371   \n",
       "2                  MCM2       2        3  middleG1           0.540   \n",
       "3                  MCM2       2        3    lateG1           0.700   \n",
       "4                  MCM2       2        3  middleG1           0.298   \n",
       "\n",
       "  physical age [min] imaging core  cell_id_last frame  \n",
       "0             140min          HIC                  11  \n",
       "1             330min          HIC                  18  \n",
       "2             420min          HIC                  23  \n",
       "3             270min          HIC                  24  \n",
       "4             360min          HIC                  31  "
      ]
     },
     "execution_count": 5,
     "metadata": {},
     "output_type": "execute_result"
    }
   ],
   "source": [
    "data.head()"
   ]
  },
  {
   "cell_type": "code",
   "execution_count": 7,
   "metadata": {},
   "outputs": [
    {
     "data": {
      "text/plain": [
       "array(['middleG1', 'lateG1', 'G2', 'earlyG1'], dtype=object)"
      ]
     },
     "execution_count": 7,
     "metadata": {},
     "output_type": "execute_result"
    }
   ],
   "source": [
    "data.category.unique()"
   ]
  },
  {
   "cell_type": "code",
   "execution_count": 8,
   "metadata": {},
   "outputs": [],
   "source": [
    "data=data.drop(columns=['Unnamed: 0'])"
   ]
  },
  {
   "cell_type": "code",
   "execution_count": 11,
   "metadata": {},
   "outputs": [],
   "source": [
    "i=0\n",
    "from itertools import islice\n",
    "for i,cell in islice(data.iterrows(),i,None):\n",
    "    data.at[i,'path']=bigDir+\"\\\\data_tiff\\\\\"+data.at[i,'file'].split(\".\")[0]+'.tif'"
   ]
  },
  {
   "cell_type": "code",
   "execution_count": 12,
   "metadata": {},
   "outputs": [],
   "source": [
    "data['mol_age_mod']=data['molecular age ']"
   ]
  },
  {
   "cell_type": "code",
   "execution_count": 13,
   "metadata": {},
   "outputs": [],
   "source": [
    "i=0\n",
    "for i,myCell in islice(data.iterrows(), i,None):\n",
    "    try:\n",
    "        data.loc[i,'physical_age']=((int(data.loc[i,'physical age [min]'][:-3]) / 60) + 1)\n",
    "    except:\n",
    "        data.loc[i,'physical_age']=None"
   ]
  },
  {
   "cell_type": "code",
   "execution_count": 14,
   "metadata": {},
   "outputs": [],
   "source": [
    "data.loc[((data.physical_age<2) & (data.category=='earlyG1')),'mol_age_mod']=np.min(data['molecular age '])"
   ]
  },
  {
   "cell_type": "code",
   "execution_count": 16,
   "metadata": {},
   "outputs": [
    {
     "data": {
      "text/plain": [
       "11    0.110\n",
       "12    0.110\n",
       "28    0.110\n",
       "30    0.110\n",
       "31    0.110\n",
       "33    0.372\n",
       "34    0.452\n",
       "38    0.110\n",
       "39    0.110\n",
       "44    0.355\n",
       "46    0.110\n",
       "48    0.110\n",
       "49    0.522\n",
       "53    0.343\n",
       "54    0.262\n",
       "56    0.500\n",
       "57    0.503\n",
       "61    0.306\n",
       "62    0.246\n",
       "63    0.398\n",
       "65    0.378\n",
       "68    0.251\n",
       "69    0.355\n",
       "70    0.110\n",
       "74    0.386\n",
       "75    0.300\n",
       "76    0.311\n",
       "78    0.110\n",
       "79    0.110\n",
       "87    0.110\n",
       "Name: mol_age_mod, dtype: float64"
      ]
     },
     "execution_count": 16,
     "metadata": {},
     "output_type": "execute_result"
    }
   ],
   "source": [
    "data.loc[(data.category=='earlyG1'),'mol_age_mod']"
   ]
  },
  {
   "cell_type": "code",
   "execution_count": 17,
   "metadata": {},
   "outputs": [],
   "source": [
    "data.to_csv(file.replace('v1','v2'))"
   ]
  },
  {
   "cell_type": "code",
   "execution_count": null,
   "metadata": {},
   "outputs": [],
   "source": []
  }
 ],
 "metadata": {
  "kernelspec": {
   "display_name": "Python 3",
   "language": "python",
   "name": "python3"
  },
  "language_info": {
   "codemirror_mode": {
    "name": "ipython",
    "version": 3
   },
   "file_extension": ".py",
   "mimetype": "text/x-python",
   "name": "python",
   "nbconvert_exporter": "python",
   "pygments_lexer": "ipython3",
   "version": "3.7.3"
  }
 },
 "nbformat": 4,
 "nbformat_minor": 2
}
