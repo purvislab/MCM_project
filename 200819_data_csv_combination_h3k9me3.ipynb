{
 "cells": [
  {
   "cell_type": "code",
   "execution_count": 1,
   "metadata": {},
   "outputs": [],
   "source": [
    "import pandas as pd\n",
    "import numpy as np\n",
    "import matplotlib.pyplot as plt\n",
    "import seaborn as sn\n",
    "from scipy import stats"
   ]
  },
  {
   "cell_type": "code",
   "execution_count": 2,
   "metadata": {},
   "outputs": [],
   "source": [
    "bigDir=r'Z:\\CookLab\\Liu\\20190816_organizedData_MCM_loading'"
   ]
  },
  {
   "cell_type": "code",
   "execution_count": 5,
   "metadata": {},
   "outputs": [
    {
     "name": "stdout",
     "output_type": "stream",
     "text": [
      "0     0.100020\n",
      "1     0.100014\n",
      "2     0.100013\n",
      "3     0.100003\n",
      "4     0.100028\n",
      "        ...   \n",
      "73    0.100022\n",
      "74    0.100010\n",
      "75    0.100004\n",
      "76    0.100026\n",
      "77    0.100029\n",
      "Name: temp, Length: 78, dtype: float64\n"
     ]
    }
   ],
   "source": [
    "newfile_1=f'{bigDir}\\\\20200604_h3k9me3\\cellinfo_200604v4_10percent.csv'\n",
    "newfile_2=f'{bigDir}\\\\20200604_h3k9me3\\cellinfo_200604v5_10percent.csv'\n",
    "\n",
    "data1=pd.read_csv(newfile_1)\n",
    "data2=pd.read_csv(newfile_2)\n",
    "data1['temp']=data1.nuc_vol_het/data1.nuc_vol_total\n",
    "print(data1.temp)\n",
    "\n",
    "data1.columns\n",
    "data2.columns\n",
    "\n",
    "data2=data2.drop(columns=['Unnamed: 0', 'Unnamed: 0.1', 'Unnamed: 0.1.1', 'file', 'original_name',\n",
    "       'movie', 'last frame movie position x', 'last frame movie position y',\n",
    "       'ab1 (Heterochromatin)', 'ab1 ch', 'ab2 (MCM)', 'ab2 ch', 'DAPI ch',\n",
    "       'category', 'molecular age ', 'physical age [min]', 'imaging core',\n",
    "       'cell_id_last frame', 'cell id for tracking', 'path', 'physical_age',\n",
    "       'physical_age_liu', 'mol_age_mod', 'mol_age_mod_liu', 'nuc_vol_total',\n",
    "       'inner_vol_total', 'outer_vol_total', 'nuc_mcm_total',\n",
    "       'inner_mcm_total', 'outer_mcm_total', 'nuc_vol_het', 'inner_vol_het',\n",
    "       'outer_vol_het', 'nuc_mcm_het', 'inner_mcm_het', 'outer_mcm_het',\n",
    "       'nuc_vol_eu', 'inner_vol_eu', 'outer_vol_eu', 'nuc_mcm_eu',\n",
    "       'inner_mcm_eu', 'outer_mcm_eu','temp'])\n",
    "\n",
    "data=data1.join(data2)\n",
    "\n",
    "data=data.drop(columns=['Unnamed: 0','Unnamed: 0.1'])\n",
    "data.to_csv(newfile_2.replace('v5','v6'))"
   ]
  },
  {
   "cell_type": "code",
   "execution_count": 3,
   "metadata": {},
   "outputs": [],
   "source": [
    "newfile_1=f'{bigDir}\\\\20200604_h3k9me3\\cellinfo_200604v4_50percent.csv'\n",
    "newfile_2=f'{bigDir}\\\\20200604_h3k9me3\\cellinfo_200604v5_50percent.csv'\n",
    "\n",
    "data1=pd.read_csv(newfile_1)\n",
    "data2=pd.read_csv(newfile_2)\n",
    "\n",
    "data1.columns\n",
    "data2.columns\n",
    "\n",
    "data2=data2.drop(columns=['Unnamed: 0', 'Unnamed: 0.1', 'Unnamed: 0.1.1', 'file', 'original_name',\n",
    "       'movie', 'last frame movie position x', 'last frame movie position y',\n",
    "       'ab1 (Heterochromatin)', 'ab1 ch', 'ab2 (MCM)', 'ab2 ch', 'DAPI ch',\n",
    "       'category', 'molecular age ', 'physical age [min]', 'imaging core',\n",
    "       'cell_id_last frame', 'cell id for tracking', 'path', 'physical_age',\n",
    "       'physical_age_liu', 'mol_age_mod', 'mol_age_mod_liu', 'nuc_vol_total',\n",
    "       'inner_vol_total', 'outer_vol_total', 'nuc_mcm_total',\n",
    "       'inner_mcm_total', 'outer_mcm_total', 'nuc_vol_het', 'inner_vol_het',\n",
    "       'outer_vol_het', 'nuc_mcm_het', 'inner_mcm_het', 'outer_mcm_het',\n",
    "       'nuc_vol_eu', 'inner_vol_eu', 'outer_vol_eu', 'nuc_mcm_eu',\n",
    "       'inner_mcm_eu', 'outer_mcm_eu','temp'])\n",
    "\n",
    "data=data1.join(data2)\n",
    "\n",
    "data=data.drop(columns=['Unnamed: 0','Unnamed: 0.1'])\n",
    "data.to_csv(newfile_2.replace('v5','v6'))"
   ]
  },
  {
   "cell_type": "code",
   "execution_count": 9,
   "metadata": {},
   "outputs": [],
   "source": [
    "newfile_1=f'{bigDir}\\\\20200615_h3k9me3\\cellinfo_200615v4_10percent.csv'\n",
    "newfile_2=f'{bigDir}\\\\20200615_h3k9me3\\cellinfo_200615v5_10percent.csv'\n",
    "\n",
    "data1=pd.read_csv(newfile_1)\n",
    "data2=pd.read_csv(newfile_2)\n",
    "\n",
    "data1.columns\n",
    "data2.columns\n",
    "\n",
    "data2=data2.drop(columns=['Unnamed: 0', 'Unnamed: 0.1', 'Unnamed: 0.1.1', 'file', 'original_name',\n",
    "       'movie', 'last frame movie position x', 'last frame movie position y',\n",
    "       'ab1 (MCM)', 'ab1 ch', 'ab2 (heterochromatin)', 'ab2 ch', 'DAPI ch',\n",
    "       'category', 'molecular age ', 'physical age [min]', 'imaging core',\n",
    "       'cell_id_last frame', 'path', 'mol_age_mod', 'physical_age',\n",
    "       'nuc_vol_total', 'inner_vol_total', 'outer_vol_total', 'nuc_mcm_total',\n",
    "       'inner_mcm_total', 'outer_mcm_total', 'nuc_vol_het', 'inner_vol_het',\n",
    "       'outer_vol_het', 'nuc_mcm_het', 'inner_mcm_het', 'outer_mcm_het',\n",
    "       'nuc_vol_eu', 'inner_vol_eu', 'outer_vol_eu', 'nuc_mcm_eu',\n",
    "       'inner_mcm_eu', 'outer_mcm_eu', 'temp'])\n",
    "\n",
    "data=data1.join(data2)\n",
    "\n",
    "data=data.drop(columns=['Unnamed: 0','Unnamed: 0.1'])\n",
    "data.to_csv(newfile_2.replace('v5','v6'))"
   ]
  },
  {
   "cell_type": "code",
   "execution_count": 8,
   "metadata": {},
   "outputs": [
    {
     "data": {
      "text/plain": [
       "Index(['Unnamed: 0', 'Unnamed: 0.1', 'Unnamed: 0.1.1', 'file', 'original_name',\n",
       "       'movie', 'last frame movie position x', 'last frame movie position y',\n",
       "       'ab1 (MCM)', 'ab1 ch', 'ab2 (heterochromatin)', 'ab2 ch', 'DAPI ch',\n",
       "       'category', 'molecular age ', 'physical age [min]', 'imaging core',\n",
       "       'cell_id_last frame', 'path', 'mol_age_mod', 'physical_age',\n",
       "       'nuc_vol_total', 'inner_vol_total', 'outer_vol_total', 'nuc_mcm_total',\n",
       "       'inner_mcm_total', 'outer_mcm_total', 'nuc_vol_het', 'inner_vol_het',\n",
       "       'outer_vol_het', 'nuc_mcm_het', 'inner_mcm_het', 'outer_mcm_het',\n",
       "       'nuc_vol_eu', 'inner_vol_eu', 'outer_vol_eu', 'nuc_mcm_eu',\n",
       "       'inner_mcm_eu', 'outer_mcm_eu', 'temp'],\n",
       "      dtype='object')"
      ]
     },
     "execution_count": 8,
     "metadata": {},
     "output_type": "execute_result"
    }
   ],
   "source": [
    "data1.columns"
   ]
  },
  {
   "cell_type": "code",
   "execution_count": 10,
   "metadata": {},
   "outputs": [],
   "source": [
    "newfile_1=f'{bigDir}\\\\20200615_h3k9me3\\cellinfo_200615v4_50percent.csv'\n",
    "newfile_2=f'{bigDir}\\\\20200615_h3k9me3\\cellinfo_200615v5_50percent.csv'\n",
    "\n",
    "data1=pd.read_csv(newfile_1)\n",
    "data2=pd.read_csv(newfile_2)\n",
    "\n",
    "data1.columns\n",
    "data2.columns\n",
    "\n",
    "data2=data2.drop(columns=['Unnamed: 0', 'Unnamed: 0.1', 'Unnamed: 0.1.1', 'file', 'original_name',\n",
    "       'movie', 'last frame movie position x', 'last frame movie position y',\n",
    "       'ab1 (MCM)', 'ab1 ch', 'ab2 (heterochromatin)', 'ab2 ch', 'DAPI ch',\n",
    "       'category', 'molecular age ', 'physical age [min]', 'imaging core',\n",
    "       'cell_id_last frame', 'path', 'mol_age_mod', 'physical_age',\n",
    "       'nuc_vol_total', 'inner_vol_total', 'outer_vol_total', 'nuc_mcm_total',\n",
    "       'inner_mcm_total', 'outer_mcm_total', 'nuc_vol_het', 'inner_vol_het',\n",
    "       'outer_vol_het', 'nuc_mcm_het', 'inner_mcm_het', 'outer_mcm_het',\n",
    "       'nuc_vol_eu', 'inner_vol_eu', 'outer_vol_eu', 'nuc_mcm_eu',\n",
    "       'inner_mcm_eu', 'outer_mcm_eu', 'temp'])\n",
    "\n",
    "data=data1.join(data2)\n",
    "\n",
    "data=data.drop(columns=['Unnamed: 0','Unnamed: 0.1'])\n",
    "data.to_csv(newfile_2.replace('v5','v6'))"
   ]
  },
  {
   "cell_type": "code",
   "execution_count": null,
   "metadata": {},
   "outputs": [],
   "source": []
  }
 ],
 "metadata": {
  "kernelspec": {
   "display_name": "Python 3",
   "language": "python",
   "name": "python3"
  },
  "language_info": {
   "codemirror_mode": {
    "name": "ipython",
    "version": 3
   },
   "file_extension": ".py",
   "mimetype": "text/x-python",
   "name": "python",
   "nbconvert_exporter": "python",
   "pygments_lexer": "ipython3",
   "version": "3.7.3"
  }
 },
 "nbformat": 4,
 "nbformat_minor": 2
}
