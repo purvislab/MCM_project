{
 "cells": [
  {
   "cell_type": "code",
   "execution_count": 1,
   "metadata": {},
   "outputs": [],
   "source": [
    "import pandas as pd\n",
    "import numpy as np"
   ]
  },
  {
   "cell_type": "code",
   "execution_count": 2,
   "metadata": {},
   "outputs": [],
   "source": [
    "bigDir=r'Z:\\CookLab\\Liu\\20190816_organizedData_MCM_loading\\20200604_h3k9me3'"
   ]
  },
  {
   "cell_type": "code",
   "execution_count": 11,
   "metadata": {},
   "outputs": [],
   "source": [
    "file=f'{bigDir}\\\\cellinfo_200604v6_10.csv'"
   ]
  },
  {
   "cell_type": "code",
   "execution_count": 12,
   "metadata": {},
   "outputs": [],
   "source": [
    "data=pd.read_csv(file)"
   ]
  },
  {
   "cell_type": "code",
   "execution_count": 13,
   "metadata": {},
   "outputs": [
    {
     "data": {
      "text/html": [
       "<div>\n",
       "<style scoped>\n",
       "    .dataframe tbody tr th:only-of-type {\n",
       "        vertical-align: middle;\n",
       "    }\n",
       "\n",
       "    .dataframe tbody tr th {\n",
       "        vertical-align: top;\n",
       "    }\n",
       "\n",
       "    .dataframe thead th {\n",
       "        text-align: right;\n",
       "    }\n",
       "</style>\n",
       "<table border=\"1\" class=\"dataframe\">\n",
       "  <thead>\n",
       "    <tr style=\"text-align: right;\">\n",
       "      <th></th>\n",
       "      <th>Unnamed: 0</th>\n",
       "      <th>Unnamed: 0.1</th>\n",
       "      <th>file</th>\n",
       "      <th>original_name</th>\n",
       "      <th>movie</th>\n",
       "      <th>last frame movie position x</th>\n",
       "      <th>last frame movie position y</th>\n",
       "      <th>ab1 (MCM)</th>\n",
       "      <th>ab1 ch</th>\n",
       "      <th>ab2 (heterochromatin)</th>\n",
       "      <th>ab2 ch</th>\n",
       "      <th>DAPI ch</th>\n",
       "      <th>category</th>\n",
       "      <th>molecular age</th>\n",
       "      <th>physical age [min]</th>\n",
       "      <th>imaging core</th>\n",
       "      <th>cell_id_last frame</th>\n",
       "      <th>cell id for tracking</th>\n",
       "    </tr>\n",
       "  </thead>\n",
       "  <tbody>\n",
       "    <tr>\n",
       "      <th>0</th>\n",
       "      <td>0.0</td>\n",
       "      <td>0</td>\n",
       "      <td>20200604_cell_00.ciz</td>\n",
       "      <td>200604_09_15_63X.czi</td>\n",
       "      <td>200604xy09</td>\n",
       "      <td>325.986</td>\n",
       "      <td>135.825</td>\n",
       "      <td>H3K9Me3</td>\n",
       "      <td>1</td>\n",
       "      <td>MCM2</td>\n",
       "      <td>2</td>\n",
       "      <td>3</td>\n",
       "      <td>earlyG1</td>\n",
       "      <td>0.560</td>\n",
       "      <td>60min</td>\n",
       "      <td>HIC</td>\n",
       "      <td>15.0</td>\n",
       "      <td>NaN</td>\n",
       "    </tr>\n",
       "    <tr>\n",
       "      <th>1</th>\n",
       "      <td>1.0</td>\n",
       "      <td>1</td>\n",
       "      <td>20200604_cell_01.ciz</td>\n",
       "      <td>200604_09_46_63X.czi</td>\n",
       "      <td>200604xy09</td>\n",
       "      <td>1103.256</td>\n",
       "      <td>483.760</td>\n",
       "      <td>H3K9Me3</td>\n",
       "      <td>1</td>\n",
       "      <td>MCM2</td>\n",
       "      <td>2</td>\n",
       "      <td>3</td>\n",
       "      <td>lateG1</td>\n",
       "      <td>0.855</td>\n",
       "      <td>330min</td>\n",
       "      <td>HIC</td>\n",
       "      <td>46.0</td>\n",
       "      <td>NaN</td>\n",
       "    </tr>\n",
       "    <tr>\n",
       "      <th>2</th>\n",
       "      <td>2.0</td>\n",
       "      <td>2</td>\n",
       "      <td>20200604_cell_02.ciz</td>\n",
       "      <td>200604_09_51_63X.czi</td>\n",
       "      <td>200604xy09</td>\n",
       "      <td>1865.490</td>\n",
       "      <td>559.814</td>\n",
       "      <td>H3K9Me3</td>\n",
       "      <td>1</td>\n",
       "      <td>MCM2</td>\n",
       "      <td>2</td>\n",
       "      <td>3</td>\n",
       "      <td>middleG1</td>\n",
       "      <td>0.773</td>\n",
       "      <td>280min</td>\n",
       "      <td>HIC</td>\n",
       "      <td>51.0</td>\n",
       "      <td>NaN</td>\n",
       "    </tr>\n",
       "    <tr>\n",
       "      <th>3</th>\n",
       "      <td>3.0</td>\n",
       "      <td>3</td>\n",
       "      <td>20200604_cell_03.ciz</td>\n",
       "      <td>200604_09_53_63X.czi</td>\n",
       "      <td>200604xy09</td>\n",
       "      <td>601.353</td>\n",
       "      <td>583.042</td>\n",
       "      <td>H3K9Me3</td>\n",
       "      <td>1</td>\n",
       "      <td>MCM2</td>\n",
       "      <td>2</td>\n",
       "      <td>3</td>\n",
       "      <td>middleG1</td>\n",
       "      <td>0.234</td>\n",
       "      <td>150min</td>\n",
       "      <td>HIC</td>\n",
       "      <td>53.0</td>\n",
       "      <td>NaN</td>\n",
       "    </tr>\n",
       "    <tr>\n",
       "      <th>4</th>\n",
       "      <td>4.0</td>\n",
       "      <td>4</td>\n",
       "      <td>20200604_cell_04.ciz</td>\n",
       "      <td>200604_09_58_63X.czi</td>\n",
       "      <td>200604xy09</td>\n",
       "      <td>1577.064</td>\n",
       "      <td>627.569</td>\n",
       "      <td>H3K9Me3</td>\n",
       "      <td>1</td>\n",
       "      <td>MCM2</td>\n",
       "      <td>2</td>\n",
       "      <td>3</td>\n",
       "      <td>earlyG1</td>\n",
       "      <td>0.312</td>\n",
       "      <td>100min</td>\n",
       "      <td>HIC</td>\n",
       "      <td>58.0</td>\n",
       "      <td>NaN</td>\n",
       "    </tr>\n",
       "  </tbody>\n",
       "</table>\n",
       "</div>"
      ],
      "text/plain": [
       "   Unnamed: 0  Unnamed: 0.1                  file         original_name  \\\n",
       "0         0.0             0  20200604_cell_00.ciz  200604_09_15_63X.czi   \n",
       "1         1.0             1  20200604_cell_01.ciz  200604_09_46_63X.czi   \n",
       "2         2.0             2  20200604_cell_02.ciz  200604_09_51_63X.czi   \n",
       "3         3.0             3  20200604_cell_03.ciz  200604_09_53_63X.czi   \n",
       "4         4.0             4  20200604_cell_04.ciz  200604_09_58_63X.czi   \n",
       "\n",
       "        movie  last frame movie position x  last frame movie position y  \\\n",
       "0  200604xy09                      325.986                      135.825   \n",
       "1  200604xy09                     1103.256                      483.760   \n",
       "2  200604xy09                     1865.490                      559.814   \n",
       "3  200604xy09                      601.353                      583.042   \n",
       "4  200604xy09                     1577.064                      627.569   \n",
       "\n",
       "  ab1 (MCM)  ab1 ch ab2 (heterochromatin)  ab2 ch  DAPI ch  category  \\\n",
       "0   H3K9Me3       1                  MCM2       2        3   earlyG1   \n",
       "1   H3K9Me3       1                  MCM2       2        3    lateG1   \n",
       "2   H3K9Me3       1                  MCM2       2        3  middleG1   \n",
       "3   H3K9Me3       1                  MCM2       2        3  middleG1   \n",
       "4   H3K9Me3       1                  MCM2       2        3   earlyG1   \n",
       "\n",
       "   molecular age  physical age [min] imaging core  cell_id_last frame  \\\n",
       "0           0.560              60min          HIC                15.0   \n",
       "1           0.855             330min          HIC                46.0   \n",
       "2           0.773             280min          HIC                51.0   \n",
       "3           0.234             150min          HIC                53.0   \n",
       "4           0.312             100min          HIC                58.0   \n",
       "\n",
       "   cell id for tracking  \n",
       "0                   NaN  \n",
       "1                   NaN  \n",
       "2                   NaN  \n",
       "3                   NaN  \n",
       "4                   NaN  "
      ]
     },
     "execution_count": 13,
     "metadata": {},
     "output_type": "execute_result"
    }
   ],
   "source": [
    "data.head()"
   ]
  },
  {
   "cell_type": "code",
   "execution_count": 14,
   "metadata": {},
   "outputs": [
    {
     "data": {
      "text/plain": [
       "array(['earlyG1', 'lateG1', 'middleG1', 'G2'], dtype=object)"
      ]
     },
     "execution_count": 14,
     "metadata": {},
     "output_type": "execute_result"
    }
   ],
   "source": [
    "data.category.unique()"
   ]
  },
  {
   "cell_type": "code",
   "execution_count": 15,
   "metadata": {},
   "outputs": [],
   "source": [
    "data=data.drop(columns=['Unnamed: 0','Unnamed: 0.1'])"
   ]
  },
  {
   "cell_type": "code",
   "execution_count": 16,
   "metadata": {},
   "outputs": [],
   "source": [
    "from itertools import islice"
   ]
  },
  {
   "cell_type": "code",
   "execution_count": 17,
   "metadata": {},
   "outputs": [],
   "source": [
    "i=0\n",
    "for i,cell in islice(data.iterrows(),i,None):\n",
    "    data.at[i,'path']=bigDir+\"\\\\data_tiff\\\\\"+data.at[i,'file'].split(\".\")[0]+'.tif'"
   ]
  },
  {
   "cell_type": "code",
   "execution_count": 18,
   "metadata": {},
   "outputs": [
    {
     "data": {
      "text/plain": [
       "0    Z:\\CookLab\\Liu\\20190816_organizedData_MCM_load...\n",
       "1    Z:\\CookLab\\Liu\\20190816_organizedData_MCM_load...\n",
       "2    Z:\\CookLab\\Liu\\20190816_organizedData_MCM_load...\n",
       "3    Z:\\CookLab\\Liu\\20190816_organizedData_MCM_load...\n",
       "4    Z:\\CookLab\\Liu\\20190816_organizedData_MCM_load...\n",
       "Name: path, dtype: object"
      ]
     },
     "execution_count": 18,
     "metadata": {},
     "output_type": "execute_result"
    }
   ],
   "source": [
    "data.path.head()"
   ]
  },
  {
   "cell_type": "code",
   "execution_count": 19,
   "metadata": {},
   "outputs": [
    {
     "data": {
      "text/plain": [
       "'Z:\\\\CookLab\\\\Liu\\\\20190816_organizedData_MCM_loading\\\\20200604_h3k9me3\\\\data_tiff\\\\20200604_cell_00.tif'"
      ]
     },
     "execution_count": 19,
     "metadata": {},
     "output_type": "execute_result"
    }
   ],
   "source": [
    "data.loc[0,'path']"
   ]
  },
  {
   "cell_type": "code",
   "execution_count": 20,
   "metadata": {},
   "outputs": [],
   "source": [
    "data.to_csv(file.replace('v1','v2'))"
   ]
  },
  {
   "cell_type": "markdown",
   "metadata": {},
   "source": [
    "## molecular age modification"
   ]
  },
  {
   "cell_type": "code",
   "execution_count": 4,
   "metadata": {},
   "outputs": [],
   "source": [
    "file=f'{bigDir}\\\\cellinfo_200604v6.csv'"
   ]
  },
  {
   "cell_type": "code",
   "execution_count": 5,
   "metadata": {},
   "outputs": [],
   "source": [
    "data=pd.read_csv(file)"
   ]
  },
  {
   "cell_type": "code",
   "execution_count": 6,
   "metadata": {},
   "outputs": [
    {
     "data": {
      "text/html": [
       "<div>\n",
       "<style scoped>\n",
       "    .dataframe tbody tr th:only-of-type {\n",
       "        vertical-align: middle;\n",
       "    }\n",
       "\n",
       "    .dataframe tbody tr th {\n",
       "        vertical-align: top;\n",
       "    }\n",
       "\n",
       "    .dataframe thead th {\n",
       "        text-align: right;\n",
       "    }\n",
       "</style>\n",
       "<table border=\"1\" class=\"dataframe\">\n",
       "  <thead>\n",
       "    <tr style=\"text-align: right;\">\n",
       "      <th></th>\n",
       "      <th>Unnamed: 0</th>\n",
       "      <th>Unnamed: 0.1</th>\n",
       "      <th>Unnamed: 0.1.1</th>\n",
       "      <th>file</th>\n",
       "      <th>original_name</th>\n",
       "      <th>movie</th>\n",
       "      <th>last frame movie position x</th>\n",
       "      <th>last frame movie position y</th>\n",
       "      <th>ab1 (Heterochromatin)</th>\n",
       "      <th>ab1 ch</th>\n",
       "      <th>...</th>\n",
       "      <th>outer_mcm_eu</th>\n",
       "      <th>nuc_DAPI_total</th>\n",
       "      <th>inner_DAPI_total</th>\n",
       "      <th>outer_DAPI_total</th>\n",
       "      <th>nuc_DAPI_het</th>\n",
       "      <th>inner_DAPI_het</th>\n",
       "      <th>outer_DAPI_het</th>\n",
       "      <th>nuc_DAPI_eu</th>\n",
       "      <th>inner_DAPI_eu</th>\n",
       "      <th>outer_DAPI_eu</th>\n",
       "    </tr>\n",
       "  </thead>\n",
       "  <tbody>\n",
       "    <tr>\n",
       "      <th>0</th>\n",
       "      <td>0</td>\n",
       "      <td>0</td>\n",
       "      <td>0</td>\n",
       "      <td>20200604_cell_00.ciz</td>\n",
       "      <td>200604_09_15_63X.czi</td>\n",
       "      <td>200604xy09</td>\n",
       "      <td>325.986</td>\n",
       "      <td>135.825</td>\n",
       "      <td>H3K9Me3</td>\n",
       "      <td>1</td>\n",
       "      <td>...</td>\n",
       "      <td>9.910869e+08</td>\n",
       "      <td>2.697250e+09</td>\n",
       "      <td>822467048.0</td>\n",
       "      <td>1.874783e+09</td>\n",
       "      <td>1.126944e+09</td>\n",
       "      <td>688993863.0</td>\n",
       "      <td>437950504.0</td>\n",
       "      <td>1.570306e+09</td>\n",
       "      <td>133473185.0</td>\n",
       "      <td>1.436832e+09</td>\n",
       "    </tr>\n",
       "    <tr>\n",
       "      <th>1</th>\n",
       "      <td>1</td>\n",
       "      <td>1</td>\n",
       "      <td>1</td>\n",
       "      <td>20200604_cell_01.ciz</td>\n",
       "      <td>200604_09_46_63X.czi</td>\n",
       "      <td>200604xy09</td>\n",
       "      <td>1103.256</td>\n",
       "      <td>483.760</td>\n",
       "      <td>H3K9Me3</td>\n",
       "      <td>1</td>\n",
       "      <td>...</td>\n",
       "      <td>9.940740e+08</td>\n",
       "      <td>2.321032e+09</td>\n",
       "      <td>899578615.0</td>\n",
       "      <td>1.421453e+09</td>\n",
       "      <td>9.240528e+08</td>\n",
       "      <td>588082696.0</td>\n",
       "      <td>335970054.0</td>\n",
       "      <td>1.396979e+09</td>\n",
       "      <td>311495919.0</td>\n",
       "      <td>1.085483e+09</td>\n",
       "    </tr>\n",
       "    <tr>\n",
       "      <th>2</th>\n",
       "      <td>2</td>\n",
       "      <td>2</td>\n",
       "      <td>2</td>\n",
       "      <td>20200604_cell_02.ciz</td>\n",
       "      <td>200604_09_51_63X.czi</td>\n",
       "      <td>200604xy09</td>\n",
       "      <td>1865.490</td>\n",
       "      <td>559.814</td>\n",
       "      <td>H3K9Me3</td>\n",
       "      <td>1</td>\n",
       "      <td>...</td>\n",
       "      <td>1.231345e+09</td>\n",
       "      <td>2.570708e+09</td>\n",
       "      <td>959263344.0</td>\n",
       "      <td>1.611445e+09</td>\n",
       "      <td>1.034817e+09</td>\n",
       "      <td>647156625.0</td>\n",
       "      <td>387659985.0</td>\n",
       "      <td>1.535892e+09</td>\n",
       "      <td>312106719.0</td>\n",
       "      <td>1.223785e+09</td>\n",
       "    </tr>\n",
       "    <tr>\n",
       "      <th>3</th>\n",
       "      <td>3</td>\n",
       "      <td>3</td>\n",
       "      <td>3</td>\n",
       "      <td>20200604_cell_03.ciz</td>\n",
       "      <td>200604_09_53_63X.czi</td>\n",
       "      <td>200604xy09</td>\n",
       "      <td>601.353</td>\n",
       "      <td>583.042</td>\n",
       "      <td>H3K9Me3</td>\n",
       "      <td>1</td>\n",
       "      <td>...</td>\n",
       "      <td>5.490997e+08</td>\n",
       "      <td>2.176022e+09</td>\n",
       "      <td>779353206.0</td>\n",
       "      <td>1.396669e+09</td>\n",
       "      <td>8.454837e+08</td>\n",
       "      <td>555806131.0</td>\n",
       "      <td>289677561.0</td>\n",
       "      <td>1.330538e+09</td>\n",
       "      <td>223547075.0</td>\n",
       "      <td>1.106991e+09</td>\n",
       "    </tr>\n",
       "    <tr>\n",
       "      <th>4</th>\n",
       "      <td>4</td>\n",
       "      <td>4</td>\n",
       "      <td>4</td>\n",
       "      <td>20200604_cell_04.ciz</td>\n",
       "      <td>200604_09_58_63X.czi</td>\n",
       "      <td>200604xy09</td>\n",
       "      <td>1577.064</td>\n",
       "      <td>627.569</td>\n",
       "      <td>H3K9Me3</td>\n",
       "      <td>1</td>\n",
       "      <td>...</td>\n",
       "      <td>6.885018e+08</td>\n",
       "      <td>2.687250e+09</td>\n",
       "      <td>828964429.0</td>\n",
       "      <td>1.858286e+09</td>\n",
       "      <td>1.025013e+09</td>\n",
       "      <td>598365413.0</td>\n",
       "      <td>426648006.0</td>\n",
       "      <td>1.662237e+09</td>\n",
       "      <td>230599016.0</td>\n",
       "      <td>1.431638e+09</td>\n",
       "    </tr>\n",
       "  </tbody>\n",
       "</table>\n",
       "<p>5 rows × 51 columns</p>\n",
       "</div>"
      ],
      "text/plain": [
       "   Unnamed: 0  Unnamed: 0.1  Unnamed: 0.1.1                  file  \\\n",
       "0           0             0               0  20200604_cell_00.ciz   \n",
       "1           1             1               1  20200604_cell_01.ciz   \n",
       "2           2             2               2  20200604_cell_02.ciz   \n",
       "3           3             3               3  20200604_cell_03.ciz   \n",
       "4           4             4               4  20200604_cell_04.ciz   \n",
       "\n",
       "          original_name       movie  last frame movie position x  \\\n",
       "0  200604_09_15_63X.czi  200604xy09                      325.986   \n",
       "1  200604_09_46_63X.czi  200604xy09                     1103.256   \n",
       "2  200604_09_51_63X.czi  200604xy09                     1865.490   \n",
       "3  200604_09_53_63X.czi  200604xy09                      601.353   \n",
       "4  200604_09_58_63X.czi  200604xy09                     1577.064   \n",
       "\n",
       "   last frame movie position y ab1 (Heterochromatin)  ab1 ch  ...  \\\n",
       "0                      135.825               H3K9Me3       1  ...   \n",
       "1                      483.760               H3K9Me3       1  ...   \n",
       "2                      559.814               H3K9Me3       1  ...   \n",
       "3                      583.042               H3K9Me3       1  ...   \n",
       "4                      627.569               H3K9Me3       1  ...   \n",
       "\n",
       "   outer_mcm_eu  nuc_DAPI_total  inner_DAPI_total outer_DAPI_total  \\\n",
       "0  9.910869e+08    2.697250e+09       822467048.0     1.874783e+09   \n",
       "1  9.940740e+08    2.321032e+09       899578615.0     1.421453e+09   \n",
       "2  1.231345e+09    2.570708e+09       959263344.0     1.611445e+09   \n",
       "3  5.490997e+08    2.176022e+09       779353206.0     1.396669e+09   \n",
       "4  6.885018e+08    2.687250e+09       828964429.0     1.858286e+09   \n",
       "\n",
       "   nuc_DAPI_het inner_DAPI_het outer_DAPI_het   nuc_DAPI_eu  inner_DAPI_eu  \\\n",
       "0  1.126944e+09    688993863.0    437950504.0  1.570306e+09    133473185.0   \n",
       "1  9.240528e+08    588082696.0    335970054.0  1.396979e+09    311495919.0   \n",
       "2  1.034817e+09    647156625.0    387659985.0  1.535892e+09    312106719.0   \n",
       "3  8.454837e+08    555806131.0    289677561.0  1.330538e+09    223547075.0   \n",
       "4  1.025013e+09    598365413.0    426648006.0  1.662237e+09    230599016.0   \n",
       "\n",
       "  outer_DAPI_eu  \n",
       "0  1.436832e+09  \n",
       "1  1.085483e+09  \n",
       "2  1.223785e+09  \n",
       "3  1.106991e+09  \n",
       "4  1.431638e+09  \n",
       "\n",
       "[5 rows x 51 columns]"
      ]
     },
     "execution_count": 6,
     "metadata": {},
     "output_type": "execute_result"
    }
   ],
   "source": [
    "data.head()"
   ]
  },
  {
   "cell_type": "code",
   "execution_count": 7,
   "metadata": {},
   "outputs": [],
   "source": [
    "from itertools import islice"
   ]
  },
  {
   "cell_type": "code",
   "execution_count": 16,
   "metadata": {},
   "outputs": [],
   "source": [
    "data['mol_age_mod']=data['molecular age ']\n",
    "data['mol_age_mod_liu']=data['molecular age ']"
   ]
  },
  {
   "cell_type": "code",
   "execution_count": 17,
   "metadata": {},
   "outputs": [],
   "source": [
    "i=0\n",
    "for i,myCell in islice(data.iterrows(), i,None):\n",
    "    try:\n",
    "        data.loc[i,'physical_age']=((int(data.loc[i,'physical age [min]'][:-3]) / 60) + 1)\n",
    "    except:\n",
    "        data.loc[i,'physical_age']=None"
   ]
  },
  {
   "cell_type": "code",
   "execution_count": 18,
   "metadata": {},
   "outputs": [],
   "source": [
    "i=0\n",
    "for i,myCell in islice(data.iterrows(), i,None):\n",
    "    try:\n",
    "        data.loc[i,'physical_age_liu']=((int(data.loc[i,'physical age [min]'][:-3]) / 60))\n",
    "    except:\n",
    "        data.loc[i,'physical_age_liu']=None"
   ]
  },
  {
   "cell_type": "code",
   "execution_count": 19,
   "metadata": {},
   "outputs": [],
   "source": [
    "data.loc[((data.physical_age<2) & (data.category=='earlyG1')),'mol_age_mod']=np.min(data['molecular age '])"
   ]
  },
  {
   "cell_type": "code",
   "execution_count": 20,
   "metadata": {},
   "outputs": [],
   "source": [
    "data.loc[((data.physical_age_liu<2) & (data.category=='earlyG1')),'mol_age_mod_liu']=np.min(data['molecular age '])"
   ]
  },
  {
   "cell_type": "code",
   "execution_count": 21,
   "metadata": {},
   "outputs": [
    {
     "data": {
      "text/plain": [
       "count    1.100000e+01\n",
       "mean     1.670000e-01\n",
       "std      2.911029e-17\n",
       "min      1.670000e-01\n",
       "25%      1.670000e-01\n",
       "50%      1.670000e-01\n",
       "75%      1.670000e-01\n",
       "max      1.670000e-01\n",
       "Name: mol_age_mod, dtype: float64"
      ]
     },
     "execution_count": 21,
     "metadata": {},
     "output_type": "execute_result"
    }
   ],
   "source": [
    "data.loc[((data.physical_age<2) & (data.category=='earlyG1')),'mol_age_mod'].describe()"
   ]
  },
  {
   "cell_type": "code",
   "execution_count": 22,
   "metadata": {},
   "outputs": [
    {
     "data": {
      "text/plain": [
       "count    2.100000e+01\n",
       "mean     1.670000e-01\n",
       "std      5.688200e-17\n",
       "min      1.670000e-01\n",
       "25%      1.670000e-01\n",
       "50%      1.670000e-01\n",
       "75%      1.670000e-01\n",
       "max      1.670000e-01\n",
       "Name: mol_age_mod_liu, dtype: float64"
      ]
     },
     "execution_count": 22,
     "metadata": {},
     "output_type": "execute_result"
    }
   ],
   "source": [
    "data.loc[((data.physical_age_liu<2) & (data.category=='earlyG1')),'mol_age_mod_liu'].describe()"
   ]
  },
  {
   "cell_type": "code",
   "execution_count": 23,
   "metadata": {},
   "outputs": [
    {
     "ename": "KeyError",
     "evalue": "\"['Unnamed: 0' 'Unnamed: 0.1' 'Unnamed: 0.1.1'] not found in axis\"",
     "output_type": "error",
     "traceback": [
      "\u001b[1;31m---------------------------------------------------------------------------\u001b[0m",
      "\u001b[1;31mKeyError\u001b[0m                                  Traceback (most recent call last)",
      "\u001b[1;32m<ipython-input-23-3536db6f88b1>\u001b[0m in \u001b[0;36m<module>\u001b[1;34m\u001b[0m\n\u001b[1;32m----> 1\u001b[1;33m \u001b[0mdata\u001b[0m\u001b[1;33m=\u001b[0m\u001b[0mdata\u001b[0m\u001b[1;33m.\u001b[0m\u001b[0mdrop\u001b[0m\u001b[1;33m(\u001b[0m\u001b[0mcolumns\u001b[0m\u001b[1;33m=\u001b[0m\u001b[1;33m[\u001b[0m\u001b[1;34m'Unnamed: 0'\u001b[0m\u001b[1;33m,\u001b[0m\u001b[1;34m'Unnamed: 0.1'\u001b[0m\u001b[1;33m,\u001b[0m\u001b[1;34m'Unnamed: 0.1.1'\u001b[0m\u001b[1;33m]\u001b[0m\u001b[1;33m)\u001b[0m\u001b[1;33m\u001b[0m\u001b[1;33m\u001b[0m\u001b[0m\n\u001b[0m",
      "\u001b[1;32mC:\\ProgramData\\Anaconda3_reinstalled\\lib\\site-packages\\pandas\\core\\frame.py\u001b[0m in \u001b[0;36mdrop\u001b[1;34m(self, labels, axis, index, columns, level, inplace, errors)\u001b[0m\n\u001b[0;32m   3938\u001b[0m                                            \u001b[0mindex\u001b[0m\u001b[1;33m=\u001b[0m\u001b[0mindex\u001b[0m\u001b[1;33m,\u001b[0m \u001b[0mcolumns\u001b[0m\u001b[1;33m=\u001b[0m\u001b[0mcolumns\u001b[0m\u001b[1;33m,\u001b[0m\u001b[1;33m\u001b[0m\u001b[1;33m\u001b[0m\u001b[0m\n\u001b[0;32m   3939\u001b[0m                                            \u001b[0mlevel\u001b[0m\u001b[1;33m=\u001b[0m\u001b[0mlevel\u001b[0m\u001b[1;33m,\u001b[0m \u001b[0minplace\u001b[0m\u001b[1;33m=\u001b[0m\u001b[0minplace\u001b[0m\u001b[1;33m,\u001b[0m\u001b[1;33m\u001b[0m\u001b[1;33m\u001b[0m\u001b[0m\n\u001b[1;32m-> 3940\u001b[1;33m                                            errors=errors)\n\u001b[0m\u001b[0;32m   3941\u001b[0m \u001b[1;33m\u001b[0m\u001b[0m\n\u001b[0;32m   3942\u001b[0m     @rewrite_axis_style_signature('mapper', [('copy', True),\n",
      "\u001b[1;32mC:\\ProgramData\\Anaconda3_reinstalled\\lib\\site-packages\\pandas\\core\\generic.py\u001b[0m in \u001b[0;36mdrop\u001b[1;34m(self, labels, axis, index, columns, level, inplace, errors)\u001b[0m\n\u001b[0;32m   3778\u001b[0m         \u001b[1;32mfor\u001b[0m \u001b[0maxis\u001b[0m\u001b[1;33m,\u001b[0m \u001b[0mlabels\u001b[0m \u001b[1;32min\u001b[0m \u001b[0maxes\u001b[0m\u001b[1;33m.\u001b[0m\u001b[0mitems\u001b[0m\u001b[1;33m(\u001b[0m\u001b[1;33m)\u001b[0m\u001b[1;33m:\u001b[0m\u001b[1;33m\u001b[0m\u001b[1;33m\u001b[0m\u001b[0m\n\u001b[0;32m   3779\u001b[0m             \u001b[1;32mif\u001b[0m \u001b[0mlabels\u001b[0m \u001b[1;32mis\u001b[0m \u001b[1;32mnot\u001b[0m \u001b[1;32mNone\u001b[0m\u001b[1;33m:\u001b[0m\u001b[1;33m\u001b[0m\u001b[1;33m\u001b[0m\u001b[0m\n\u001b[1;32m-> 3780\u001b[1;33m                 \u001b[0mobj\u001b[0m \u001b[1;33m=\u001b[0m \u001b[0mobj\u001b[0m\u001b[1;33m.\u001b[0m\u001b[0m_drop_axis\u001b[0m\u001b[1;33m(\u001b[0m\u001b[0mlabels\u001b[0m\u001b[1;33m,\u001b[0m \u001b[0maxis\u001b[0m\u001b[1;33m,\u001b[0m \u001b[0mlevel\u001b[0m\u001b[1;33m=\u001b[0m\u001b[0mlevel\u001b[0m\u001b[1;33m,\u001b[0m \u001b[0merrors\u001b[0m\u001b[1;33m=\u001b[0m\u001b[0merrors\u001b[0m\u001b[1;33m)\u001b[0m\u001b[1;33m\u001b[0m\u001b[1;33m\u001b[0m\u001b[0m\n\u001b[0m\u001b[0;32m   3781\u001b[0m \u001b[1;33m\u001b[0m\u001b[0m\n\u001b[0;32m   3782\u001b[0m         \u001b[1;32mif\u001b[0m \u001b[0minplace\u001b[0m\u001b[1;33m:\u001b[0m\u001b[1;33m\u001b[0m\u001b[1;33m\u001b[0m\u001b[0m\n",
      "\u001b[1;32mC:\\ProgramData\\Anaconda3_reinstalled\\lib\\site-packages\\pandas\\core\\generic.py\u001b[0m in \u001b[0;36m_drop_axis\u001b[1;34m(self, labels, axis, level, errors)\u001b[0m\n\u001b[0;32m   3810\u001b[0m                 \u001b[0mnew_axis\u001b[0m \u001b[1;33m=\u001b[0m \u001b[0maxis\u001b[0m\u001b[1;33m.\u001b[0m\u001b[0mdrop\u001b[0m\u001b[1;33m(\u001b[0m\u001b[0mlabels\u001b[0m\u001b[1;33m,\u001b[0m \u001b[0mlevel\u001b[0m\u001b[1;33m=\u001b[0m\u001b[0mlevel\u001b[0m\u001b[1;33m,\u001b[0m \u001b[0merrors\u001b[0m\u001b[1;33m=\u001b[0m\u001b[0merrors\u001b[0m\u001b[1;33m)\u001b[0m\u001b[1;33m\u001b[0m\u001b[1;33m\u001b[0m\u001b[0m\n\u001b[0;32m   3811\u001b[0m             \u001b[1;32melse\u001b[0m\u001b[1;33m:\u001b[0m\u001b[1;33m\u001b[0m\u001b[1;33m\u001b[0m\u001b[0m\n\u001b[1;32m-> 3812\u001b[1;33m                 \u001b[0mnew_axis\u001b[0m \u001b[1;33m=\u001b[0m \u001b[0maxis\u001b[0m\u001b[1;33m.\u001b[0m\u001b[0mdrop\u001b[0m\u001b[1;33m(\u001b[0m\u001b[0mlabels\u001b[0m\u001b[1;33m,\u001b[0m \u001b[0merrors\u001b[0m\u001b[1;33m=\u001b[0m\u001b[0merrors\u001b[0m\u001b[1;33m)\u001b[0m\u001b[1;33m\u001b[0m\u001b[1;33m\u001b[0m\u001b[0m\n\u001b[0m\u001b[0;32m   3813\u001b[0m             \u001b[0mresult\u001b[0m \u001b[1;33m=\u001b[0m \u001b[0mself\u001b[0m\u001b[1;33m.\u001b[0m\u001b[0mreindex\u001b[0m\u001b[1;33m(\u001b[0m\u001b[1;33m**\u001b[0m\u001b[1;33m{\u001b[0m\u001b[0maxis_name\u001b[0m\u001b[1;33m:\u001b[0m \u001b[0mnew_axis\u001b[0m\u001b[1;33m}\u001b[0m\u001b[1;33m)\u001b[0m\u001b[1;33m\u001b[0m\u001b[1;33m\u001b[0m\u001b[0m\n\u001b[0;32m   3814\u001b[0m \u001b[1;33m\u001b[0m\u001b[0m\n",
      "\u001b[1;32mC:\\ProgramData\\Anaconda3_reinstalled\\lib\\site-packages\\pandas\\core\\indexes\\base.py\u001b[0m in \u001b[0;36mdrop\u001b[1;34m(self, labels, errors)\u001b[0m\n\u001b[0;32m   4963\u001b[0m             \u001b[1;32mif\u001b[0m \u001b[0merrors\u001b[0m \u001b[1;33m!=\u001b[0m \u001b[1;34m'ignore'\u001b[0m\u001b[1;33m:\u001b[0m\u001b[1;33m\u001b[0m\u001b[1;33m\u001b[0m\u001b[0m\n\u001b[0;32m   4964\u001b[0m                 raise KeyError(\n\u001b[1;32m-> 4965\u001b[1;33m                     '{} not found in axis'.format(labels[mask]))\n\u001b[0m\u001b[0;32m   4966\u001b[0m             \u001b[0mindexer\u001b[0m \u001b[1;33m=\u001b[0m \u001b[0mindexer\u001b[0m\u001b[1;33m[\u001b[0m\u001b[1;33m~\u001b[0m\u001b[0mmask\u001b[0m\u001b[1;33m]\u001b[0m\u001b[1;33m\u001b[0m\u001b[1;33m\u001b[0m\u001b[0m\n\u001b[0;32m   4967\u001b[0m         \u001b[1;32mreturn\u001b[0m \u001b[0mself\u001b[0m\u001b[1;33m.\u001b[0m\u001b[0mdelete\u001b[0m\u001b[1;33m(\u001b[0m\u001b[0mindexer\u001b[0m\u001b[1;33m)\u001b[0m\u001b[1;33m\u001b[0m\u001b[1;33m\u001b[0m\u001b[0m\n",
      "\u001b[1;31mKeyError\u001b[0m: \"['Unnamed: 0' 'Unnamed: 0.1' 'Unnamed: 0.1.1'] not found in axis\""
     ]
    }
   ],
   "source": [
    "data=data.drop(columns=['Unnamed: 0','Unnamed: 0.1','Unnamed: 0.1.1'])"
   ]
  },
  {
   "cell_type": "code",
   "execution_count": 24,
   "metadata": {},
   "outputs": [
    {
     "data": {
      "text/plain": [
       "file                                                        20200604_cell_00.ciz\n",
       "original_name                                               200604_09_15_63X.czi\n",
       "movie                                                                 200604xy09\n",
       "last frame movie position x                                              325.986\n",
       "last frame movie position y                                              135.825\n",
       "ab1 (Heterochromatin)                                                    H3K9Me3\n",
       "ab1 ch                                                                         1\n",
       "ab2 (MCM)                                                                   MCM2\n",
       "ab2 ch                                                                         2\n",
       "DAPI ch                                                                        3\n",
       "category                                                                 earlyG1\n",
       "molecular age                                                               0.56\n",
       "physical age [min]                                                         60min\n",
       "imaging core                                                                 HIC\n",
       "cell_id_last frame                                                            15\n",
       "cell id for tracking                                                         NaN\n",
       "path                           Z:\\CookLab\\Liu\\20190816_organizedData_MCM_load...\n",
       "physical_age                                                                   2\n",
       "physical_age_liu                                                               1\n",
       "mol_age_mod                                                                 0.56\n",
       "mol_age_mod_liu                                                            0.167\n",
       "nuc_vol_total                                                             376005\n",
       "inner_vol_total                                                            46553\n",
       "outer_vol_total                                                           329452\n",
       "nuc_mcm_total                                                        1.89713e+09\n",
       "inner_mcm_total                                                      5.78845e+08\n",
       "outer_mcm_total                                                      1.31828e+09\n",
       "nuc_vol_het                                                                75201\n",
       "inner_vol_het                                                              37843\n",
       "outer_vol_het                                                              37358\n",
       "nuc_mcm_het                                                          7.99874e+08\n",
       "inner_mcm_het                                                        4.72679e+08\n",
       "outer_mcm_het                                                        3.27195e+08\n",
       "nuc_vol_eu                                                                300804\n",
       "inner_vol_eu                                                                8710\n",
       "outer_vol_eu                                                              292094\n",
       "nuc_mcm_eu                                                           1.09725e+09\n",
       "inner_mcm_eu                                                         1.06166e+08\n",
       "outer_mcm_eu                                                         9.91087e+08\n",
       "nuc_DAPI_total                                                       2.69725e+09\n",
       "inner_DAPI_total                                                     8.22467e+08\n",
       "outer_DAPI_total                                                     1.87478e+09\n",
       "nuc_DAPI_het                                                         1.12694e+09\n",
       "inner_DAPI_het                                                       6.88994e+08\n",
       "outer_DAPI_het                                                       4.37951e+08\n",
       "nuc_DAPI_eu                                                          1.57031e+09\n",
       "inner_DAPI_eu                                                        1.33473e+08\n",
       "outer_DAPI_eu                                                        1.43683e+09\n",
       "Name: 0, dtype: object"
      ]
     },
     "execution_count": 24,
     "metadata": {},
     "output_type": "execute_result"
    }
   ],
   "source": [
    "data.iloc[0]"
   ]
  },
  {
   "cell_type": "code",
   "execution_count": 25,
   "metadata": {},
   "outputs": [],
   "source": [
    "data.to_csv(file)"
   ]
  },
  {
   "cell_type": "code",
   "execution_count": null,
   "metadata": {},
   "outputs": [],
   "source": []
  }
 ],
 "metadata": {
  "kernelspec": {
   "display_name": "Python 3",
   "language": "python",
   "name": "python3"
  },
  "language_info": {
   "codemirror_mode": {
    "name": "ipython",
    "version": 3
   },
   "file_extension": ".py",
   "mimetype": "text/x-python",
   "name": "python",
   "nbconvert_exporter": "python",
   "pygments_lexer": "ipython3",
   "version": "3.7.0"
  }
 },
 "nbformat": 4,
 "nbformat_minor": 2
}
