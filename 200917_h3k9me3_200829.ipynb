{
 "cells": [
  {
   "cell_type": "code",
   "execution_count": 1,
   "metadata": {},
   "outputs": [],
   "source": [
    "import pandas as pd\n",
    "import numpy as np"
   ]
  },
  {
   "cell_type": "code",
   "execution_count": 2,
   "metadata": {},
   "outputs": [],
   "source": [
    "bigDir=\"Z:\\\\CookLab\\\\Liu\\\\20190816_organizedData_MCM_loading\\\\20200829_h3k9me3\""
   ]
  },
  {
   "cell_type": "code",
   "execution_count": 9,
   "metadata": {},
   "outputs": [],
   "source": [
    "data=pd.read_csv(f'{bigDir}\\\\200819_cellinfo_v1.csv')"
   ]
  },
  {
   "cell_type": "code",
   "execution_count": 10,
   "metadata": {},
   "outputs": [
    {
     "data": {
      "text/html": [
       "<div>\n",
       "<style scoped>\n",
       "    .dataframe tbody tr th:only-of-type {\n",
       "        vertical-align: middle;\n",
       "    }\n",
       "\n",
       "    .dataframe tbody tr th {\n",
       "        vertical-align: top;\n",
       "    }\n",
       "\n",
       "    .dataframe thead th {\n",
       "        text-align: right;\n",
       "    }\n",
       "</style>\n",
       "<table border=\"1\" class=\"dataframe\">\n",
       "  <thead>\n",
       "    <tr style=\"text-align: right;\">\n",
       "      <th></th>\n",
       "      <th>file</th>\n",
       "      <th>original cell name</th>\n",
       "      <th>movie</th>\n",
       "      <th>x</th>\n",
       "      <th>y</th>\n",
       "      <th>ab1 (MCM)</th>\n",
       "      <th>ab1 ch</th>\n",
       "      <th>ab2 (heterochromatin)</th>\n",
       "      <th>ab2 ch</th>\n",
       "      <th>DAPI ch</th>\n",
       "      <th>DIC ch</th>\n",
       "      <th>category</th>\n",
       "      <th>physical_age [min]</th>\n",
       "      <th>molecular_age_dhb</th>\n",
       "      <th>molecular_age_cdc6</th>\n",
       "      <th>group</th>\n",
       "      <th>imaging core</th>\n",
       "      <th>cell id for tracking</th>\n",
       "      <th>comment</th>\n",
       "      <th>decon</th>\n",
       "    </tr>\n",
       "  </thead>\n",
       "  <tbody>\n",
       "    <tr>\n",
       "      <th>0</th>\n",
       "      <td>20200819_cell2_01.ciz</td>\n",
       "      <td>20200818xy19_6.czi</td>\n",
       "      <td>200819xy19</td>\n",
       "      <td>1526.899</td>\n",
       "      <td>85.295</td>\n",
       "      <td>H3k9me3</td>\n",
       "      <td>1</td>\n",
       "      <td>MCM2</td>\n",
       "      <td>2</td>\n",
       "      <td>3</td>\n",
       "      <td>NaN</td>\n",
       "      <td>lateG1</td>\n",
       "      <td>360.0</td>\n",
       "      <td>0.726</td>\n",
       "      <td>NaN</td>\n",
       "      <td>#VALUE!</td>\n",
       "      <td>HIC</td>\n",
       "      <td>6.0</td>\n",
       "      <td>NaN</td>\n",
       "      <td>no</td>\n",
       "    </tr>\n",
       "    <tr>\n",
       "      <th>1</th>\n",
       "      <td>20200819_cell2_02.ciz</td>\n",
       "      <td>20200818xy19_8.czi</td>\n",
       "      <td>200819xy19</td>\n",
       "      <td>1112.568</td>\n",
       "      <td>94.321</td>\n",
       "      <td>H3k9me3</td>\n",
       "      <td>1</td>\n",
       "      <td>MCM2</td>\n",
       "      <td>2</td>\n",
       "      <td>3</td>\n",
       "      <td>NaN</td>\n",
       "      <td>earlyG1</td>\n",
       "      <td>60.0</td>\n",
       "      <td>0.601</td>\n",
       "      <td>NaN</td>\n",
       "      <td>CTL</td>\n",
       "      <td>HIC</td>\n",
       "      <td>8.0</td>\n",
       "      <td>NaN</td>\n",
       "      <td>no</td>\n",
       "    </tr>\n",
       "    <tr>\n",
       "      <th>2</th>\n",
       "      <td>20200819_cell2_03.ciz</td>\n",
       "      <td>20200818xy19_22.czi</td>\n",
       "      <td>200819xy19</td>\n",
       "      <td>1412.269</td>\n",
       "      <td>290.826</td>\n",
       "      <td>H3k9me3</td>\n",
       "      <td>1</td>\n",
       "      <td>MCM2</td>\n",
       "      <td>2</td>\n",
       "      <td>3</td>\n",
       "      <td>NaN</td>\n",
       "      <td>earlyG1</td>\n",
       "      <td>80.0</td>\n",
       "      <td>0.264</td>\n",
       "      <td>NaN</td>\n",
       "      <td>CTL</td>\n",
       "      <td>HIC</td>\n",
       "      <td>22.0</td>\n",
       "      <td>NaN</td>\n",
       "      <td>no</td>\n",
       "    </tr>\n",
       "    <tr>\n",
       "      <th>3</th>\n",
       "      <td>20200819_cell2_04.ciz</td>\n",
       "      <td>20200818xy19_25.czi</td>\n",
       "      <td>200819xy19</td>\n",
       "      <td>1764.520</td>\n",
       "      <td>336.100</td>\n",
       "      <td>H3k9me3</td>\n",
       "      <td>1</td>\n",
       "      <td>MCM2</td>\n",
       "      <td>2</td>\n",
       "      <td>3</td>\n",
       "      <td>NaN</td>\n",
       "      <td>earlyG1</td>\n",
       "      <td>30.0</td>\n",
       "      <td>0.379</td>\n",
       "      <td>NaN</td>\n",
       "      <td>CTL</td>\n",
       "      <td>HIC</td>\n",
       "      <td>25.0</td>\n",
       "      <td>NaN</td>\n",
       "      <td>no</td>\n",
       "    </tr>\n",
       "    <tr>\n",
       "      <th>4</th>\n",
       "      <td>20200819_cell2_05.ciz</td>\n",
       "      <td>20200818xy19_27.czi</td>\n",
       "      <td>200819xy19</td>\n",
       "      <td>188.411</td>\n",
       "      <td>367.506</td>\n",
       "      <td>H3k9me3</td>\n",
       "      <td>1</td>\n",
       "      <td>MCM2</td>\n",
       "      <td>2</td>\n",
       "      <td>3</td>\n",
       "      <td>NaN</td>\n",
       "      <td>G2</td>\n",
       "      <td>NaN</td>\n",
       "      <td>1.480</td>\n",
       "      <td>NaN</td>\n",
       "      <td>CTL</td>\n",
       "      <td>HIC</td>\n",
       "      <td>27.0</td>\n",
       "      <td>NaN</td>\n",
       "      <td>no</td>\n",
       "    </tr>\n",
       "  </tbody>\n",
       "</table>\n",
       "</div>"
      ],
      "text/plain": [
       "                    file   original cell name       movie         x        y  \\\n",
       "0  20200819_cell2_01.ciz   20200818xy19_6.czi  200819xy19  1526.899   85.295   \n",
       "1  20200819_cell2_02.ciz   20200818xy19_8.czi  200819xy19  1112.568   94.321   \n",
       "2  20200819_cell2_03.ciz  20200818xy19_22.czi  200819xy19  1412.269  290.826   \n",
       "3  20200819_cell2_04.ciz  20200818xy19_25.czi  200819xy19  1764.520  336.100   \n",
       "4  20200819_cell2_05.ciz  20200818xy19_27.czi  200819xy19   188.411  367.506   \n",
       "\n",
       "  ab1 (MCM)  ab1 ch ab2 (heterochromatin)  ab2 ch  DAPI ch  DIC ch category  \\\n",
       "0   H3k9me3       1                  MCM2       2        3     NaN   lateG1   \n",
       "1   H3k9me3       1                  MCM2       2        3     NaN  earlyG1   \n",
       "2   H3k9me3       1                  MCM2       2        3     NaN  earlyG1   \n",
       "3   H3k9me3       1                  MCM2       2        3     NaN  earlyG1   \n",
       "4   H3k9me3       1                  MCM2       2        3     NaN       G2   \n",
       "\n",
       "   physical_age [min]  molecular_age_dhb  molecular_age_cdc6    group  \\\n",
       "0               360.0              0.726                 NaN  #VALUE!   \n",
       "1                60.0              0.601                 NaN      CTL   \n",
       "2                80.0              0.264                 NaN      CTL   \n",
       "3                30.0              0.379                 NaN      CTL   \n",
       "4                 NaN              1.480                 NaN      CTL   \n",
       "\n",
       "  imaging core  cell id for tracking  comment decon  \n",
       "0          HIC                   6.0      NaN    no  \n",
       "1          HIC                   8.0      NaN    no  \n",
       "2          HIC                  22.0      NaN    no  \n",
       "3          HIC                  25.0      NaN    no  \n",
       "4          HIC                  27.0      NaN    no  "
      ]
     },
     "execution_count": 10,
     "metadata": {},
     "output_type": "execute_result"
    }
   ],
   "source": [
    "data.head()"
   ]
  },
  {
   "cell_type": "code",
   "execution_count": 11,
   "metadata": {},
   "outputs": [
    {
     "data": {
      "text/plain": [
       "array(['lateG1', 'earlyG1', 'G2', 'middleG1', nan], dtype=object)"
      ]
     },
     "execution_count": 11,
     "metadata": {},
     "output_type": "execute_result"
    }
   ],
   "source": [
    "data.category.unique()"
   ]
  },
  {
   "cell_type": "code",
   "execution_count": 12,
   "metadata": {},
   "outputs": [],
   "source": [
    "from itertools import islice\n",
    "i=0\n",
    "for i,cell in islice(data.iterrows(),i,None):\n",
    "    data.at[i,'path']=bigDir+\"\\\\data_tiff\\\\\"+data.at[i,'file'].split(\".\")[0]+'.tif'"
   ]
  },
  {
   "cell_type": "code",
   "execution_count": 14,
   "metadata": {},
   "outputs": [
    {
     "data": {
      "text/plain": [
       "'Z:\\\\CookLab\\\\Liu\\\\20190816_organizedData_MCM_loading\\\\20200829_h3k9me3\\\\data_tiff\\\\20200819_cell2_01.tif'"
      ]
     },
     "execution_count": 14,
     "metadata": {},
     "output_type": "execute_result"
    }
   ],
   "source": [
    "data.path[0]"
   ]
  },
  {
   "cell_type": "code",
   "execution_count": 15,
   "metadata": {},
   "outputs": [],
   "source": [
    "data.to_csv(f'{bigDir}\\\\200819_cellinfo_v2.csv')"
   ]
  },
  {
   "cell_type": "code",
   "execution_count": 18,
   "metadata": {},
   "outputs": [],
   "source": [
    "data['mol_age_mod']=data['molecular_age_dhb']\n",
    "i=0\n",
    "for i,myCell in islice(data.iterrows(), i,None):\n",
    "    try:\n",
    "        data.loc[i,'physical_age']=((int(data.loc[i,'physical age [min]'][:-3]) / 60) + 1)\n",
    "    except:\n",
    "        data.loc[i,'physical_age']=None"
   ]
  },
  {
   "cell_type": "code",
   "execution_count": 19,
   "metadata": {},
   "outputs": [],
   "source": [
    "data.loc[((data.physical_age<2) & (data.category=='earlyG1')),'mol_age_mod']=np.min(data['molecular_age_dhb'])"
   ]
  },
  {
   "cell_type": "code",
   "execution_count": 20,
   "metadata": {},
   "outputs": [],
   "source": [
    "data.to_csv(f'{bigDir}\\\\200819_cellinfo_v2.csv')"
   ]
  },
  {
   "cell_type": "markdown",
   "metadata": {},
   "source": [
    "# h3k9me3 signal calc"
   ]
  },
  {
   "cell_type": "code",
   "execution_count": null,
   "metadata": {},
   "outputs": [],
   "source": []
  }
 ],
 "metadata": {
  "kernelspec": {
   "display_name": "Python 3",
   "language": "python",
   "name": "python3"
  },
  "language_info": {
   "codemirror_mode": {
    "name": "ipython",
    "version": 3
   },
   "file_extension": ".py",
   "mimetype": "text/x-python",
   "name": "python",
   "nbconvert_exporter": "python",
   "pygments_lexer": "ipython3",
   "version": "3.7.3"
  }
 },
 "nbformat": 4,
 "nbformat_minor": 2
}
