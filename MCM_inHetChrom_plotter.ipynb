{
 "cells": [
  {
   "cell_type": "markdown",
   "metadata": {},
   "source": [
    "## Script to plot results of heterochromatin localization study"
   ]
  },
  {
   "cell_type": "code",
   "execution_count": 77,
   "metadata": {},
   "outputs": [],
   "source": [
    "from os import listdir\n",
    "from os.path import isfile, join\n",
    "\n",
    "import pandas as pd\n",
    "import numpy as np\n",
    "\n",
    "import matplotlib.pyplot as plt\n",
    "import seaborn as sns"
   ]
  },
  {
   "cell_type": "code",
   "execution_count": 63,
   "metadata": {},
   "outputs": [],
   "source": [
    "# specify directory to analyze\n",
    "myDir=r'S:\\ActiveUsers\\Kasia\\2019_Liu_forMacro\\20190426\\20190506-MSL\\test\\results'"
   ]
  },
  {
   "cell_type": "markdown",
   "metadata": {},
   "source": [
    "Read all the data - original csv files contain measurements for each frame."
   ]
  },
  {
   "cell_type": "code",
   "execution_count": 96,
   "metadata": {},
   "outputs": [],
   "source": [
    "myFiles = [f for f in listdir(myDir) if ('nucleusSignal' in f)]\n",
    "\n",
    "myData=pd.DataFrame()\n",
    "\n",
    "for f in myFiles:\n",
    "    \n",
    "    myData_temp=pd.read_csv(join(myDir, f))\n",
    "    myData_temp['file']=f\n",
    "    myData_temp['total']=myData_temp.Area*myData_temp.Mean;\n",
    "    myData_temp['localization']='nucleus'\n",
    "    \n",
    "    try:\n",
    "        myData = pd.concat([myData,myData_temp],sort=False)\n",
    "    except:\n",
    "        myData = myData_temp.copy()\n",
    "    \n",
    "    # add euchromatin\n",
    "    myData_temp=pd.read_csv(join(myDir, f.replace(\"nucleus\", \"euChrom\")))\n",
    "    myData_temp['file']=f\n",
    "    myData_temp['total']=myData_temp.Area*myData_temp.Mean;\n",
    "    myData_temp['localization']='eu'\n",
    "    \n",
    "    myData = pd.concat([myData,myData_temp],sort=False)\n",
    "    \n",
    "    # add heterochromatin\n",
    "    myData_temp=pd.read_csv(join(myDir, f.replace(\"nucleus\", \"hetChrom\")))\n",
    "    myData_temp['file']=f\n",
    "    myData_temp['total']=myData_temp.Area*myData_temp.Mean;\n",
    "    myData_temp['localization']='het'\n",
    "    \n",
    "    myData = pd.concat([myData,myData_temp],sort=False)\n",
    "    "
   ]
  },
  {
   "cell_type": "markdown",
   "metadata": {},
   "source": [
    "Summarize data for each cell and then calculate ratios."
   ]
  },
  {
   "cell_type": "code",
   "execution_count": 220,
   "metadata": {},
   "outputs": [],
   "source": [
    "myData_cells=myData.groupby(['file','localization'], as_index=False).sum()"
   ]
  },
  {
   "cell_type": "code",
   "execution_count": 221,
   "metadata": {},
   "outputs": [
    {
     "data": {
      "text/html": [
       "<div>\n",
       "<style scoped>\n",
       "    .dataframe tbody tr th:only-of-type {\n",
       "        vertical-align: middle;\n",
       "    }\n",
       "\n",
       "    .dataframe tbody tr th {\n",
       "        vertical-align: top;\n",
       "    }\n",
       "\n",
       "    .dataframe thead th {\n",
       "        text-align: right;\n",
       "    }\n",
       "</style>\n",
       "<table border=\"1\" class=\"dataframe\">\n",
       "  <thead>\n",
       "    <tr style=\"text-align: right;\">\n",
       "      <th></th>\n",
       "      <th>file</th>\n",
       "      <th>localization</th>\n",
       "      <th>Area</th>\n",
       "      <th>Mean</th>\n",
       "      <th>StdDev</th>\n",
       "      <th>Mode</th>\n",
       "      <th>Slice</th>\n",
       "      <th>total</th>\n",
       "    </tr>\n",
       "  </thead>\n",
       "  <tbody>\n",
       "    <tr>\n",
       "      <th>0</th>\n",
       "      <td>10_E2_nucleusSignal.csv</td>\n",
       "      <td>eu</td>\n",
       "      <td>554669</td>\n",
       "      <td>5041.628</td>\n",
       "      <td>2508.704</td>\n",
       "      <td>4108.760</td>\n",
       "      <td>675</td>\n",
       "      <td>1.018386e+08</td>\n",
       "    </tr>\n",
       "    <tr>\n",
       "      <th>1</th>\n",
       "      <td>10_E2_nucleusSignal.csv</td>\n",
       "      <td>het</td>\n",
       "      <td>9928</td>\n",
       "      <td>4682.191</td>\n",
       "      <td>1594.459</td>\n",
       "      <td>3828.503</td>\n",
       "      <td>506</td>\n",
       "      <td>2.090623e+06</td>\n",
       "    </tr>\n",
       "    <tr>\n",
       "      <th>2</th>\n",
       "      <td>10_E2_nucleusSignal.csv</td>\n",
       "      <td>nucleus</td>\n",
       "      <td>564597</td>\n",
       "      <td>5046.916</td>\n",
       "      <td>2499.078</td>\n",
       "      <td>4113.269</td>\n",
       "      <td>675</td>\n",
       "      <td>1.039293e+08</td>\n",
       "    </tr>\n",
       "    <tr>\n",
       "      <th>3</th>\n",
       "      <td>10_L2.czi_nucleusSignal.csv</td>\n",
       "      <td>eu</td>\n",
       "      <td>578939</td>\n",
       "      <td>9434.489</td>\n",
       "      <td>4213.795</td>\n",
       "      <td>7814.651</td>\n",
       "      <td>540</td>\n",
       "      <td>2.143512e+08</td>\n",
       "    </tr>\n",
       "    <tr>\n",
       "      <th>4</th>\n",
       "      <td>10_L2.czi_nucleusSignal.csv</td>\n",
       "      <td>het</td>\n",
       "      <td>16605</td>\n",
       "      <td>11954.682</td>\n",
       "      <td>3764.828</td>\n",
       "      <td>10389.540</td>\n",
       "      <td>533</td>\n",
       "      <td>8.000027e+06</td>\n",
       "    </tr>\n",
       "    <tr>\n",
       "      <th>5</th>\n",
       "      <td>10_L2.czi_nucleusSignal.csv</td>\n",
       "      <td>nucleus</td>\n",
       "      <td>595544</td>\n",
       "      <td>9499.617</td>\n",
       "      <td>4225.800</td>\n",
       "      <td>7920.510</td>\n",
       "      <td>540</td>\n",
       "      <td>2.223512e+08</td>\n",
       "    </tr>\n",
       "  </tbody>\n",
       "</table>\n",
       "</div>"
      ],
      "text/plain": [
       "                          file localization    Area       Mean    StdDev  \\\n",
       "0      10_E2_nucleusSignal.csv           eu  554669   5041.628  2508.704   \n",
       "1      10_E2_nucleusSignal.csv          het    9928   4682.191  1594.459   \n",
       "2      10_E2_nucleusSignal.csv      nucleus  564597   5046.916  2499.078   \n",
       "3  10_L2.czi_nucleusSignal.csv           eu  578939   9434.489  4213.795   \n",
       "4  10_L2.czi_nucleusSignal.csv          het   16605  11954.682  3764.828   \n",
       "5  10_L2.czi_nucleusSignal.csv      nucleus  595544   9499.617  4225.800   \n",
       "\n",
       "        Mode  Slice         total  \n",
       "0   4108.760    675  1.018386e+08  \n",
       "1   3828.503    506  2.090623e+06  \n",
       "2   4113.269    675  1.039293e+08  \n",
       "3   7814.651    540  2.143512e+08  \n",
       "4  10389.540    533  8.000027e+06  \n",
       "5   7920.510    540  2.223512e+08  "
      ]
     },
     "execution_count": 221,
     "metadata": {},
     "output_type": "execute_result"
    }
   ],
   "source": [
    "myData_cells"
   ]
  },
  {
   "cell_type": "code",
   "execution_count": 218,
   "metadata": {},
   "outputs": [],
   "source": [
    "def group_norm(group):\n",
    "    # find norm factors/group\n",
    "    area_norm_factor=np.array(group.loc[group.localization=='nucleus','Area'])[0]\n",
    "    signal_norm_factor=np.array(group.loc[group.localization=='nucleus','total'])[0]\n",
    "    #modify dataframe\n",
    "    group['volume_norm']=group.Area/area_norm_factor\n",
    "    group['signal_norm']=group.total/signal_norm_factor\n",
    "    return group"
   ]
  },
  {
   "cell_type": "code",
   "execution_count": 234,
   "metadata": {},
   "outputs": [],
   "source": [
    "myData_cells=myData_cells.groupby(['file'],as_index=False).apply(group_norm)"
   ]
  },
  {
   "cell_type": "code",
   "execution_count": 235,
   "metadata": {},
   "outputs": [
    {
     "data": {
      "text/html": [
       "<div>\n",
       "<style scoped>\n",
       "    .dataframe tbody tr th:only-of-type {\n",
       "        vertical-align: middle;\n",
       "    }\n",
       "\n",
       "    .dataframe tbody tr th {\n",
       "        vertical-align: top;\n",
       "    }\n",
       "\n",
       "    .dataframe thead th {\n",
       "        text-align: right;\n",
       "    }\n",
       "</style>\n",
       "<table border=\"1\" class=\"dataframe\">\n",
       "  <thead>\n",
       "    <tr style=\"text-align: right;\">\n",
       "      <th></th>\n",
       "      <th>file</th>\n",
       "      <th>localization</th>\n",
       "      <th>Area</th>\n",
       "      <th>Mean</th>\n",
       "      <th>StdDev</th>\n",
       "      <th>Mode</th>\n",
       "      <th>Slice</th>\n",
       "      <th>total</th>\n",
       "      <th>volume_norm</th>\n",
       "      <th>signal_norm</th>\n",
       "    </tr>\n",
       "  </thead>\n",
       "  <tbody>\n",
       "    <tr>\n",
       "      <th>0</th>\n",
       "      <td>10_E2_nucleusSignal.csv</td>\n",
       "      <td>eu</td>\n",
       "      <td>554669</td>\n",
       "      <td>5041.628</td>\n",
       "      <td>2508.704</td>\n",
       "      <td>4108.760</td>\n",
       "      <td>675</td>\n",
       "      <td>1.018386e+08</td>\n",
       "      <td>0.982416</td>\n",
       "      <td>0.979884</td>\n",
       "    </tr>\n",
       "    <tr>\n",
       "      <th>1</th>\n",
       "      <td>10_E2_nucleusSignal.csv</td>\n",
       "      <td>het</td>\n",
       "      <td>9928</td>\n",
       "      <td>4682.191</td>\n",
       "      <td>1594.459</td>\n",
       "      <td>3828.503</td>\n",
       "      <td>506</td>\n",
       "      <td>2.090623e+06</td>\n",
       "      <td>0.017584</td>\n",
       "      <td>0.020116</td>\n",
       "    </tr>\n",
       "    <tr>\n",
       "      <th>2</th>\n",
       "      <td>10_E2_nucleusSignal.csv</td>\n",
       "      <td>nucleus</td>\n",
       "      <td>564597</td>\n",
       "      <td>5046.916</td>\n",
       "      <td>2499.078</td>\n",
       "      <td>4113.269</td>\n",
       "      <td>675</td>\n",
       "      <td>1.039293e+08</td>\n",
       "      <td>1.000000</td>\n",
       "      <td>1.000000</td>\n",
       "    </tr>\n",
       "    <tr>\n",
       "      <th>3</th>\n",
       "      <td>10_L2.czi_nucleusSignal.csv</td>\n",
       "      <td>eu</td>\n",
       "      <td>578939</td>\n",
       "      <td>9434.489</td>\n",
       "      <td>4213.795</td>\n",
       "      <td>7814.651</td>\n",
       "      <td>540</td>\n",
       "      <td>2.143512e+08</td>\n",
       "      <td>0.972118</td>\n",
       "      <td>0.964021</td>\n",
       "    </tr>\n",
       "    <tr>\n",
       "      <th>4</th>\n",
       "      <td>10_L2.czi_nucleusSignal.csv</td>\n",
       "      <td>het</td>\n",
       "      <td>16605</td>\n",
       "      <td>11954.682</td>\n",
       "      <td>3764.828</td>\n",
       "      <td>10389.540</td>\n",
       "      <td>533</td>\n",
       "      <td>8.000027e+06</td>\n",
       "      <td>0.027882</td>\n",
       "      <td>0.035979</td>\n",
       "    </tr>\n",
       "    <tr>\n",
       "      <th>5</th>\n",
       "      <td>10_L2.czi_nucleusSignal.csv</td>\n",
       "      <td>nucleus</td>\n",
       "      <td>595544</td>\n",
       "      <td>9499.617</td>\n",
       "      <td>4225.800</td>\n",
       "      <td>7920.510</td>\n",
       "      <td>540</td>\n",
       "      <td>2.223512e+08</td>\n",
       "      <td>1.000000</td>\n",
       "      <td>1.000000</td>\n",
       "    </tr>\n",
       "  </tbody>\n",
       "</table>\n",
       "</div>"
      ],
      "text/plain": [
       "                          file localization    Area       Mean    StdDev  \\\n",
       "0      10_E2_nucleusSignal.csv           eu  554669   5041.628  2508.704   \n",
       "1      10_E2_nucleusSignal.csv          het    9928   4682.191  1594.459   \n",
       "2      10_E2_nucleusSignal.csv      nucleus  564597   5046.916  2499.078   \n",
       "3  10_L2.czi_nucleusSignal.csv           eu  578939   9434.489  4213.795   \n",
       "4  10_L2.czi_nucleusSignal.csv          het   16605  11954.682  3764.828   \n",
       "5  10_L2.czi_nucleusSignal.csv      nucleus  595544   9499.617  4225.800   \n",
       "\n",
       "        Mode  Slice         total  volume_norm  signal_norm  \n",
       "0   4108.760    675  1.018386e+08     0.982416     0.979884  \n",
       "1   3828.503    506  2.090623e+06     0.017584     0.020116  \n",
       "2   4113.269    675  1.039293e+08     1.000000     1.000000  \n",
       "3   7814.651    540  2.143512e+08     0.972118     0.964021  \n",
       "4  10389.540    533  8.000027e+06     0.027882     0.035979  \n",
       "5   7920.510    540  2.223512e+08     1.000000     1.000000  "
      ]
     },
     "execution_count": 235,
     "metadata": {},
     "output_type": "execute_result"
    }
   ],
   "source": [
    "myData_cells"
   ]
  },
  {
   "cell_type": "markdown",
   "metadata": {},
   "source": [
    "### Plots"
   ]
  },
  {
   "cell_type": "markdown",
   "metadata": {},
   "source": [
    "Plot total signal in different structures."
   ]
  },
  {
   "cell_type": "code",
   "execution_count": 223,
   "metadata": {},
   "outputs": [
    {
     "data": {
      "text/plain": [
       "<matplotlib.axes._subplots.AxesSubplot at 0xe6a2f98>"
      ]
     },
     "execution_count": 223,
     "metadata": {},
     "output_type": "execute_result"
    },
    {
     "data": {
      "image/png": "[encoded data removed]",
      "text/plain": [
       "<Figure size 432x288 with 1 Axes>"
      ]
     },
     "metadata": {
      "needs_background": "light"
     },
     "output_type": "display_data"
    }
   ],
   "source": [
    "sns.barplot(x=\"file\", y=\"total\", hue=\"localization\", data=myData_cells)"
   ]
  },
  {
   "cell_type": "markdown",
   "metadata": {},
   "source": [
    "Plot ratios in different chromatin structures."
   ]
  },
  {
   "cell_type": "code",
   "execution_count": 236,
   "metadata": {},
   "outputs": [
    {
     "data": {
      "text/plain": [
       "<matplotlib.axes._subplots.AxesSubplot at 0xebe66a0>"
      ]
     },
     "execution_count": 236,
     "metadata": {},
     "output_type": "execute_result"
    },
    {
     "data": {
      "image/png": "[encoded data removed]",
      "text/plain": [
       "<Figure size 432x288 with 1 Axes>"
      ]
     },
     "metadata": {
      "needs_background": "light"
     },
     "output_type": "display_data"
    }
   ],
   "source": [
    "sns.barplot(x=\"file\", y=\"volume_norm\", hue=\"localization\", data=myData_cells)"
   ]
  },
  {
   "cell_type": "code",
   "execution_count": null,
   "metadata": {},
   "outputs": [],
   "source": []
  }
 ],
 "metadata": {
  "kernelspec": {
   "display_name": "Python 3",
   "language": "python",
   "name": "python3"
  },
  "language_info": {
   "codemirror_mode": {
    "name": "ipython",
    "version": 3
   },
   "file_extension": ".py",
   "mimetype": "text/x-python",
   "name": "python",
   "nbconvert_exporter": "python",
   "pygments_lexer": "ipython3",
   "version": "3.7.1"
  }
 },
 "nbformat": 4,
 "nbformat_minor": 2
}
