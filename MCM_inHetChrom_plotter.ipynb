{
 "cells": [
  {
   "cell_type": "markdown",
   "metadata": {},
   "source": [
    "## Script to plot results of heterochromatin localization study"
   ]
  },
  {
   "cell_type": "code",
   "execution_count": 77,
   "metadata": {},
   "outputs": [],
   "source": [
    "from os import listdir\n",
    "from os.path import isfile, join\n",
    "\n",
    "import pandas as pd\n",
    "import numpy as np\n",
    "\n",
    "import matplotlib.pyplot as plt\n",
    "import seaborn as sns"
   ]
  },
  {
   "cell_type": "code",
   "execution_count": 63,
   "metadata": {},
   "outputs": [],
   "source": [
    "# specify directory to analyze\n",
    "myDir=r'S:\\ActiveUsers\\Kasia\\2019_Liu_forMacro\\20190426\\20190506-MSL\\test\\results'"
   ]
  },
  {
   "cell_type": "code",
   "execution_count": 74,
   "metadata": {},
   "outputs": [],
   "source": [
    "myFiles = [f for f in listdir(myDir) if ('nucleusSignal' in f)]\n",
    "\n",
    "myData_cells=pd.DataFrame()\n",
    "myData_cells[\"cell\"]= myFiles\n",
    "\n",
    "for f in myFiles:\n",
    "    \n",
    "    myData_nuc=pd.read_csv(join(myDir, f))\n",
    "    myData_nuc['total']=myData_nuc.Area*myData_nuc.Mean;\n",
    "    myData_nuc.set_axis(['Area_nuc', 'Mean_nuc', 'StdDev_nuc', 'Mode_nuc', 'Slice','total_nuc'], axis=1, inplace=True)\n",
    "    \n",
    "    myData_het=pd.read_csv(join(myDir, f.replace(\"nucleus\", \"hetChrom\")))\n",
    "    myData_het[\"total\"]=myData_het.Area*myData_het.Mean;\n",
    "    myData_het.set_axis(['Area_het', 'Mean_het', 'StdDev_het', 'Mode_het', 'Slice','total_het'], axis=1, inplace=True)\n",
    "    \n",
    "    \n",
    "    # merge by Slice\n",
    "    myData = pd.merge(myData_nuc, myData_het, on='Slice',how=\"outer\")\n",
    "    \n",
    "    myData_eu=pd.read_csv(join(myDir, f.replace(\"nucleus\", \"euChrom\")))\n",
    "    myData_eu['total']=myData_eu.Area*myData_eu.Mean;\n",
    "    myData_eu.set_axis(['Area_eu', 'Mean_eu', 'StdDev_eu', 'Mode_eu', 'Slice','total_eu'], axis=1, inplace=True)\n",
    "    \n",
    "    # merge by Slice\n",
    "    myData = pd.merge(myData, myData_eu, on='Slice',how=\"outer\")\n",
    "    \n",
    "    # sanity check\n",
    "    myData[\"check\"]=myData.Area_nuc-myData.Area_het-myData.Area_eu\n",
    "    \n",
    "    myData_cells.loc[myData_cells['cell'] == f,'volume_nuc']=np.sum(myData.Area_nuc)\n",
    "    myData_cells.loc[myData_cells['cell'] == f,'volume_het']=np.sum(myData.Area_het)\n",
    "    myData_cells.loc[myData_cells['cell'] == f,'volume_eu']=np.sum(myData.Area_eu)\n",
    "    \n",
    "    myData_cells.loc[myData_cells['cell'] == f,'signal_nuc']=np.sum(myData.total_nuc)\n",
    "    myData_cells.loc[myData_cells['cell'] == f,'signal_het']=np.sum(myData.total_het)\n",
    "    myData_cells.loc[myData_cells['cell'] == f,'signal_eu']=np.sum(myData.total_eu)\n",
    "    \n",
    "    myData_cells.loc[myData_cells['cell'] == f,'check']=np.sum(myData.check)\n",
    "\n",
    "# add ratios of volume and signal\n",
    "myData_cells['volume_het_ratio']=myData_cells.volume_het/myData_cells.volume_nuc\n",
    "myData_cells['volume_eu_ratio']=myData_cells.volume_eu/myData_cells.volume_nuc\n",
    "\n",
    "myData_cells['signal_het_ratio']=myData_cells.signal_het/myData_cells.signal_nuc\n",
    "myData_cells['signal_eu_ratio']=myData_cells.signal_eu/myData_cells.signal_nuc"
   ]
  },
  {
   "cell_type": "code",
   "execution_count": 75,
   "metadata": {},
   "outputs": [
    {
     "data": {
      "text/html": [
       "<div>\n",
       "<style scoped>\n",
       "    .dataframe tbody tr th:only-of-type {\n",
       "        vertical-align: middle;\n",
       "    }\n",
       "\n",
       "    .dataframe tbody tr th {\n",
       "        vertical-align: top;\n",
       "    }\n",
       "\n",
       "    .dataframe thead th {\n",
       "        text-align: right;\n",
       "    }\n",
       "</style>\n",
       "<table border=\"1\" class=\"dataframe\">\n",
       "  <thead>\n",
       "    <tr style=\"text-align: right;\">\n",
       "      <th></th>\n",
       "      <th>cell</th>\n",
       "      <th>volume_nuc</th>\n",
       "      <th>volume_het</th>\n",
       "      <th>volume_eu</th>\n",
       "      <th>signal_nuc</th>\n",
       "      <th>signal_het</th>\n",
       "      <th>signal_eu</th>\n",
       "      <th>check</th>\n",
       "      <th>volume_het_ratio</th>\n",
       "      <th>volume_eu_ratio</th>\n",
       "      <th>signal_het_ratio</th>\n",
       "      <th>signal_eu_ratio</th>\n",
       "    </tr>\n",
       "  </thead>\n",
       "  <tbody>\n",
       "    <tr>\n",
       "      <th>0</th>\n",
       "      <td>10_L2.czi_nucleusSignal.csv</td>\n",
       "      <td>595544.0</td>\n",
       "      <td>16605.0</td>\n",
       "      <td>578939.0</td>\n",
       "      <td>2.223512e+08</td>\n",
       "      <td>8000026.571</td>\n",
       "      <td>2.143512e+08</td>\n",
       "      <td>0.0</td>\n",
       "      <td>0.027882</td>\n",
       "      <td>0.972118</td>\n",
       "      <td>0.035979</td>\n",
       "      <td>0.964021</td>\n",
       "    </tr>\n",
       "    <tr>\n",
       "      <th>1</th>\n",
       "      <td>10_E2_nucleusSignal.csv</td>\n",
       "      <td>564597.0</td>\n",
       "      <td>9928.0</td>\n",
       "      <td>554669.0</td>\n",
       "      <td>1.039293e+08</td>\n",
       "      <td>2090623.481</td>\n",
       "      <td>1.018386e+08</td>\n",
       "      <td>0.0</td>\n",
       "      <td>0.017584</td>\n",
       "      <td>0.982416</td>\n",
       "      <td>0.020116</td>\n",
       "      <td>0.979884</td>\n",
       "    </tr>\n",
       "  </tbody>\n",
       "</table>\n",
       "</div>"
      ],
      "text/plain": [
       "                          cell  volume_nuc  volume_het  volume_eu  \\\n",
       "0  10_L2.czi_nucleusSignal.csv    595544.0     16605.0   578939.0   \n",
       "1      10_E2_nucleusSignal.csv    564597.0      9928.0   554669.0   \n",
       "\n",
       "     signal_nuc   signal_het     signal_eu  check  volume_het_ratio  \\\n",
       "0  2.223512e+08  8000026.571  2.143512e+08    0.0          0.027882   \n",
       "1  1.039293e+08  2090623.481  1.018386e+08    0.0          0.017584   \n",
       "\n",
       "   volume_eu_ratio  signal_het_ratio  signal_eu_ratio  \n",
       "0         0.972118          0.035979         0.964021  \n",
       "1         0.982416          0.020116         0.979884  "
      ]
     },
     "execution_count": 75,
     "metadata": {},
     "output_type": "execute_result"
    }
   ],
   "source": [
    "myData_cells.head()"
   ]
  },
  {
   "cell_type": "markdown",
   "metadata": {},
   "source": [
    "### Plot ratios"
   ]
  },
  {
   "cell_type": "code",
   "execution_count": 58,
   "metadata": {},
   "outputs": [
    {
     "data": {
      "text/plain": [
       "3407.372999999999"
      ]
     },
     "execution_count": 58,
     "metadata": {},
     "output_type": "execute_result"
    }
   ],
   "source": []
  },
  {
   "cell_type": "code",
   "execution_count": null,
   "metadata": {},
   "outputs": [],
   "source": []
  }
 ],
 "metadata": {
  "kernelspec": {
   "display_name": "Python 3",
   "language": "python",
   "name": "python3"
  },
  "language_info": {
   "codemirror_mode": {
    "name": "ipython",
    "version": 3
   },
   "file_extension": ".py",
   "mimetype": "text/x-python",
   "name": "python",
   "nbconvert_exporter": "python",
   "pygments_lexer": "ipython3",
   "version": "3.7.1"
  }
 },
 "nbformat": 4,
 "nbformat_minor": 2
}
