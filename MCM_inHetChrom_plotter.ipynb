{
 "cells": [
  {
   "cell_type": "markdown",
   "metadata": {},
   "source": [
    "## Script to plot results of heterochromatin localization study"
   ]
  },
  {
   "cell_type": "code",
   "execution_count": 77,
   "metadata": {},
   "outputs": [],
   "source": [
    "from os import listdir\n",
    "from os.path import isfile, join\n",
    "\n",
    "import pandas as pd\n",
    "import numpy as np\n",
    "\n",
    "import matplotlib.pyplot as plt\n",
    "import seaborn as sns"
   ]
  },
  {
   "cell_type": "code",
   "execution_count": 237,
   "metadata": {},
   "outputs": [],
   "source": [
    "# specify directory to analyze\n",
    "myDir=r'S:\\ActiveUsers\\Kasia\\2019_Liu_forMacro\\20190426\\20190506-MSL\\test\\results'"
   ]
  },
  {
   "cell_type": "markdown",
   "metadata": {},
   "source": [
    "Read all the data - original csv files contain measurements for each frame."
   ]
  },
  {
   "cell_type": "code",
   "execution_count": 238,
   "metadata": {},
   "outputs": [],
   "source": [
    "myFiles = [f for f in listdir(myDir) if ('nucleusSignal' in f)]\n",
    "\n",
    "myData=pd.DataFrame()\n",
    "\n",
    "for f in myFiles:\n",
    "    \n",
    "    myData_temp=pd.read_csv(join(myDir, f))\n",
    "    myData_temp['file']=f\n",
    "    myData_temp['total']=myData_temp.Area*myData_temp.Mean;\n",
    "    myData_temp['localization']='nucleus'\n",
    "    \n",
    "    try:\n",
    "        myData = pd.concat([myData,myData_temp],sort=False)\n",
    "    except:\n",
    "        myData = myData_temp.copy()\n",
    "    \n",
    "    # add euchromatin\n",
    "    myData_temp=pd.read_csv(join(myDir, f.replace(\"nucleus\", \"euChrom\")))\n",
    "    myData_temp['file']=f\n",
    "    myData_temp['total']=myData_temp.Area*myData_temp.Mean;\n",
    "    myData_temp['localization']='eu'\n",
    "    \n",
    "    myData = pd.concat([myData,myData_temp],sort=False)\n",
    "    \n",
    "    # add heterochromatin\n",
    "    myData_temp=pd.read_csv(join(myDir, f.replace(\"nucleus\", \"hetChrom\")))\n",
    "    myData_temp['file']=f\n",
    "    myData_temp['total']=myData_temp.Area*myData_temp.Mean;\n",
    "    myData_temp['localization']='het'\n",
    "    \n",
    "    myData = pd.concat([myData,myData_temp],sort=False)\n",
    "    "
   ]
  },
  {
   "cell_type": "markdown",
   "metadata": {},
   "source": [
    "Summarize data for each cell and then calculate ratios."
   ]
  },
  {
   "cell_type": "code",
   "execution_count": 239,
   "metadata": {},
   "outputs": [],
   "source": [
    "myData_cells=myData.groupby(['file','localization'], as_index=False).sum()"
   ]
  },
  {
   "cell_type": "code",
   "execution_count": 240,
   "metadata": {},
   "outputs": [
    {
     "data": {
      "text/html": [
       "<div>\n",
       "<style scoped>\n",
       "    .dataframe tbody tr th:only-of-type {\n",
       "        vertical-align: middle;\n",
       "    }\n",
       "\n",
       "    .dataframe tbody tr th {\n",
       "        vertical-align: top;\n",
       "    }\n",
       "\n",
       "    .dataframe thead th {\n",
       "        text-align: right;\n",
       "    }\n",
       "</style>\n",
       "<table border=\"1\" class=\"dataframe\">\n",
       "  <thead>\n",
       "    <tr style=\"text-align: right;\">\n",
       "      <th></th>\n",
       "      <th>file</th>\n",
       "      <th>localization</th>\n",
       "      <th>Area</th>\n",
       "      <th>Mean</th>\n",
       "      <th>StdDev</th>\n",
       "      <th>Mode</th>\n",
       "      <th>Slice</th>\n",
       "      <th>total</th>\n",
       "    </tr>\n",
       "  </thead>\n",
       "  <tbody>\n",
       "    <tr>\n",
       "      <th>0</th>\n",
       "      <td>10_09-8M-E4(DOWN).czi_nucleusSignal.csv</td>\n",
       "      <td>eu</td>\n",
       "      <td>453918</td>\n",
       "      <td>4795.450</td>\n",
       "      <td>1908.154</td>\n",
       "      <td>3940.365</td>\n",
       "      <td>784</td>\n",
       "      <td>7.583474e+07</td>\n",
       "    </tr>\n",
       "    <tr>\n",
       "      <th>1</th>\n",
       "      <td>10_09-8M-E4(DOWN).czi_nucleusSignal.csv</td>\n",
       "      <td>het</td>\n",
       "      <td>32207</td>\n",
       "      <td>4721.081</td>\n",
       "      <td>1597.563</td>\n",
       "      <td>4108.446</td>\n",
       "      <td>529</td>\n",
       "      <td>6.946505e+06</td>\n",
       "    </tr>\n",
       "    <tr>\n",
       "      <th>2</th>\n",
       "      <td>10_09-8M-E4(DOWN).czi_nucleusSignal.csv</td>\n",
       "      <td>nucleus</td>\n",
       "      <td>486125</td>\n",
       "      <td>4842.968</td>\n",
       "      <td>1909.141</td>\n",
       "      <td>4068.100</td>\n",
       "      <td>784</td>\n",
       "      <td>8.278120e+07</td>\n",
       "    </tr>\n",
       "    <tr>\n",
       "      <th>3</th>\n",
       "      <td>10_09-8M-ES1.czi_nucleusSignal.csv</td>\n",
       "      <td>eu</td>\n",
       "      <td>570366</td>\n",
       "      <td>8693.745</td>\n",
       "      <td>3707.228</td>\n",
       "      <td>7646.047</td>\n",
       "      <td>775</td>\n",
       "      <td>1.758827e+08</td>\n",
       "    </tr>\n",
       "    <tr>\n",
       "      <th>4</th>\n",
       "      <td>10_09-8M-ES1.czi_nucleusSignal.csv</td>\n",
       "      <td>het</td>\n",
       "      <td>43610</td>\n",
       "      <td>10678.860</td>\n",
       "      <td>3551.019</td>\n",
       "      <td>9215.828</td>\n",
       "      <td>625</td>\n",
       "      <td>1.979973e+07</td>\n",
       "    </tr>\n",
       "    <tr>\n",
       "      <th>5</th>\n",
       "      <td>10_09-8M-ES1.czi_nucleusSignal.csv</td>\n",
       "      <td>nucleus</td>\n",
       "      <td>613976</td>\n",
       "      <td>8871.030</td>\n",
       "      <td>3755.807</td>\n",
       "      <td>7784.725</td>\n",
       "      <td>775</td>\n",
       "      <td>1.956823e+08</td>\n",
       "    </tr>\n",
       "    <tr>\n",
       "      <th>6</th>\n",
       "      <td>10_E2_nucleusSignal.csv</td>\n",
       "      <td>eu</td>\n",
       "      <td>544523</td>\n",
       "      <td>5036.978</td>\n",
       "      <td>2517.015</td>\n",
       "      <td>4094.560</td>\n",
       "      <td>675</td>\n",
       "      <td>9.969692e+07</td>\n",
       "    </tr>\n",
       "    <tr>\n",
       "      <th>7</th>\n",
       "      <td>10_E2_nucleusSignal.csv</td>\n",
       "      <td>het</td>\n",
       "      <td>20074</td>\n",
       "      <td>5020.406</td>\n",
       "      <td>1786.500</td>\n",
       "      <td>4094.628</td>\n",
       "      <td>585</td>\n",
       "      <td>4.232338e+06</td>\n",
       "    </tr>\n",
       "    <tr>\n",
       "      <th>8</th>\n",
       "      <td>10_E2_nucleusSignal.csv</td>\n",
       "      <td>nucleus</td>\n",
       "      <td>564597</td>\n",
       "      <td>5046.916</td>\n",
       "      <td>2499.078</td>\n",
       "      <td>4113.269</td>\n",
       "      <td>675</td>\n",
       "      <td>1.039293e+08</td>\n",
       "    </tr>\n",
       "    <tr>\n",
       "      <th>9</th>\n",
       "      <td>10_L2.czi_nucleusSignal.csv</td>\n",
       "      <td>eu</td>\n",
       "      <td>562016</td>\n",
       "      <td>9376.249</td>\n",
       "      <td>4205.004</td>\n",
       "      <td>7883.762</td>\n",
       "      <td>540</td>\n",
       "      <td>2.062029e+08</td>\n",
       "    </tr>\n",
       "    <tr>\n",
       "      <th>10</th>\n",
       "      <td>10_L2.czi_nucleusSignal.csv</td>\n",
       "      <td>het</td>\n",
       "      <td>33528</td>\n",
       "      <td>11709.046</td>\n",
       "      <td>3896.403</td>\n",
       "      <td>9953.551</td>\n",
       "      <td>533</td>\n",
       "      <td>1.614836e+07</td>\n",
       "    </tr>\n",
       "    <tr>\n",
       "      <th>11</th>\n",
       "      <td>10_L2.czi_nucleusSignal.csv</td>\n",
       "      <td>nucleus</td>\n",
       "      <td>595544</td>\n",
       "      <td>9499.617</td>\n",
       "      <td>4225.800</td>\n",
       "      <td>7920.510</td>\n",
       "      <td>540</td>\n",
       "      <td>2.223512e+08</td>\n",
       "    </tr>\n",
       "  </tbody>\n",
       "</table>\n",
       "</div>"
      ],
      "text/plain": [
       "                                       file localization    Area       Mean  \\\n",
       "0   10_09-8M-E4(DOWN).czi_nucleusSignal.csv           eu  453918   4795.450   \n",
       "1   10_09-8M-E4(DOWN).czi_nucleusSignal.csv          het   32207   4721.081   \n",
       "2   10_09-8M-E4(DOWN).czi_nucleusSignal.csv      nucleus  486125   4842.968   \n",
       "3        10_09-8M-ES1.czi_nucleusSignal.csv           eu  570366   8693.745   \n",
       "4        10_09-8M-ES1.czi_nucleusSignal.csv          het   43610  10678.860   \n",
       "5        10_09-8M-ES1.czi_nucleusSignal.csv      nucleus  613976   8871.030   \n",
       "6                   10_E2_nucleusSignal.csv           eu  544523   5036.978   \n",
       "7                   10_E2_nucleusSignal.csv          het   20074   5020.406   \n",
       "8                   10_E2_nucleusSignal.csv      nucleus  564597   5046.916   \n",
       "9               10_L2.czi_nucleusSignal.csv           eu  562016   9376.249   \n",
       "10              10_L2.czi_nucleusSignal.csv          het   33528  11709.046   \n",
       "11              10_L2.czi_nucleusSignal.csv      nucleus  595544   9499.617   \n",
       "\n",
       "      StdDev      Mode  Slice         total  \n",
       "0   1908.154  3940.365    784  7.583474e+07  \n",
       "1   1597.563  4108.446    529  6.946505e+06  \n",
       "2   1909.141  4068.100    784  8.278120e+07  \n",
       "3   3707.228  7646.047    775  1.758827e+08  \n",
       "4   3551.019  9215.828    625  1.979973e+07  \n",
       "5   3755.807  7784.725    775  1.956823e+08  \n",
       "6   2517.015  4094.560    675  9.969692e+07  \n",
       "7   1786.500  4094.628    585  4.232338e+06  \n",
       "8   2499.078  4113.269    675  1.039293e+08  \n",
       "9   4205.004  7883.762    540  2.062029e+08  \n",
       "10  3896.403  9953.551    533  1.614836e+07  \n",
       "11  4225.800  7920.510    540  2.223512e+08  "
      ]
     },
     "execution_count": 240,
     "metadata": {},
     "output_type": "execute_result"
    }
   ],
   "source": [
    "myData_cells"
   ]
  },
  {
   "cell_type": "code",
   "execution_count": 241,
   "metadata": {},
   "outputs": [],
   "source": [
    "def group_norm(group):\n",
    "    # find norm factors/group\n",
    "    area_norm_factor=np.array(group.loc[group.localization=='nucleus','Area'])[0]\n",
    "    signal_norm_factor=np.array(group.loc[group.localization=='nucleus','total'])[0]\n",
    "    #modify dataframe\n",
    "    group['volume_norm']=group.Area/area_norm_factor\n",
    "    group['signal_norm']=group.total/signal_norm_factor\n",
    "    return group"
   ]
  },
  {
   "cell_type": "code",
   "execution_count": 242,
   "metadata": {},
   "outputs": [],
   "source": [
    "myData_cells=myData_cells.groupby(['file'],as_index=False).apply(group_norm)"
   ]
  },
  {
   "cell_type": "code",
   "execution_count": 243,
   "metadata": {},
   "outputs": [
    {
     "data": {
      "text/html": [
       "<div>\n",
       "<style scoped>\n",
       "    .dataframe tbody tr th:only-of-type {\n",
       "        vertical-align: middle;\n",
       "    }\n",
       "\n",
       "    .dataframe tbody tr th {\n",
       "        vertical-align: top;\n",
       "    }\n",
       "\n",
       "    .dataframe thead th {\n",
       "        text-align: right;\n",
       "    }\n",
       "</style>\n",
       "<table border=\"1\" class=\"dataframe\">\n",
       "  <thead>\n",
       "    <tr style=\"text-align: right;\">\n",
       "      <th></th>\n",
       "      <th>file</th>\n",
       "      <th>localization</th>\n",
       "      <th>Area</th>\n",
       "      <th>Mean</th>\n",
       "      <th>StdDev</th>\n",
       "      <th>Mode</th>\n",
       "      <th>Slice</th>\n",
       "      <th>total</th>\n",
       "      <th>volume_norm</th>\n",
       "      <th>signal_norm</th>\n",
       "    </tr>\n",
       "  </thead>\n",
       "  <tbody>\n",
       "    <tr>\n",
       "      <th>0</th>\n",
       "      <td>10_09-8M-E4(DOWN).czi_nucleusSignal.csv</td>\n",
       "      <td>eu</td>\n",
       "      <td>453918</td>\n",
       "      <td>4795.450</td>\n",
       "      <td>1908.154</td>\n",
       "      <td>3940.365</td>\n",
       "      <td>784</td>\n",
       "      <td>7.583474e+07</td>\n",
       "      <td>0.933747</td>\n",
       "      <td>0.916087</td>\n",
       "    </tr>\n",
       "    <tr>\n",
       "      <th>1</th>\n",
       "      <td>10_09-8M-E4(DOWN).czi_nucleusSignal.csv</td>\n",
       "      <td>het</td>\n",
       "      <td>32207</td>\n",
       "      <td>4721.081</td>\n",
       "      <td>1597.563</td>\n",
       "      <td>4108.446</td>\n",
       "      <td>529</td>\n",
       "      <td>6.946505e+06</td>\n",
       "      <td>0.066253</td>\n",
       "      <td>0.083914</td>\n",
       "    </tr>\n",
       "    <tr>\n",
       "      <th>2</th>\n",
       "      <td>10_09-8M-E4(DOWN).czi_nucleusSignal.csv</td>\n",
       "      <td>nucleus</td>\n",
       "      <td>486125</td>\n",
       "      <td>4842.968</td>\n",
       "      <td>1909.141</td>\n",
       "      <td>4068.100</td>\n",
       "      <td>784</td>\n",
       "      <td>8.278120e+07</td>\n",
       "      <td>1.000000</td>\n",
       "      <td>1.000000</td>\n",
       "    </tr>\n",
       "    <tr>\n",
       "      <th>3</th>\n",
       "      <td>10_09-8M-ES1.czi_nucleusSignal.csv</td>\n",
       "      <td>eu</td>\n",
       "      <td>570366</td>\n",
       "      <td>8693.745</td>\n",
       "      <td>3707.228</td>\n",
       "      <td>7646.047</td>\n",
       "      <td>775</td>\n",
       "      <td>1.758827e+08</td>\n",
       "      <td>0.928971</td>\n",
       "      <td>0.898817</td>\n",
       "    </tr>\n",
       "    <tr>\n",
       "      <th>4</th>\n",
       "      <td>10_09-8M-ES1.czi_nucleusSignal.csv</td>\n",
       "      <td>het</td>\n",
       "      <td>43610</td>\n",
       "      <td>10678.860</td>\n",
       "      <td>3551.019</td>\n",
       "      <td>9215.828</td>\n",
       "      <td>625</td>\n",
       "      <td>1.979973e+07</td>\n",
       "      <td>0.071029</td>\n",
       "      <td>0.101183</td>\n",
       "    </tr>\n",
       "    <tr>\n",
       "      <th>5</th>\n",
       "      <td>10_09-8M-ES1.czi_nucleusSignal.csv</td>\n",
       "      <td>nucleus</td>\n",
       "      <td>613976</td>\n",
       "      <td>8871.030</td>\n",
       "      <td>3755.807</td>\n",
       "      <td>7784.725</td>\n",
       "      <td>775</td>\n",
       "      <td>1.956823e+08</td>\n",
       "      <td>1.000000</td>\n",
       "      <td>1.000000</td>\n",
       "    </tr>\n",
       "    <tr>\n",
       "      <th>6</th>\n",
       "      <td>10_E2_nucleusSignal.csv</td>\n",
       "      <td>eu</td>\n",
       "      <td>544523</td>\n",
       "      <td>5036.978</td>\n",
       "      <td>2517.015</td>\n",
       "      <td>4094.560</td>\n",
       "      <td>675</td>\n",
       "      <td>9.969692e+07</td>\n",
       "      <td>0.964445</td>\n",
       "      <td>0.959276</td>\n",
       "    </tr>\n",
       "    <tr>\n",
       "      <th>7</th>\n",
       "      <td>10_E2_nucleusSignal.csv</td>\n",
       "      <td>het</td>\n",
       "      <td>20074</td>\n",
       "      <td>5020.406</td>\n",
       "      <td>1786.500</td>\n",
       "      <td>4094.628</td>\n",
       "      <td>585</td>\n",
       "      <td>4.232338e+06</td>\n",
       "      <td>0.035555</td>\n",
       "      <td>0.040723</td>\n",
       "    </tr>\n",
       "    <tr>\n",
       "      <th>8</th>\n",
       "      <td>10_E2_nucleusSignal.csv</td>\n",
       "      <td>nucleus</td>\n",
       "      <td>564597</td>\n",
       "      <td>5046.916</td>\n",
       "      <td>2499.078</td>\n",
       "      <td>4113.269</td>\n",
       "      <td>675</td>\n",
       "      <td>1.039293e+08</td>\n",
       "      <td>1.000000</td>\n",
       "      <td>1.000000</td>\n",
       "    </tr>\n",
       "    <tr>\n",
       "      <th>9</th>\n",
       "      <td>10_L2.czi_nucleusSignal.csv</td>\n",
       "      <td>eu</td>\n",
       "      <td>562016</td>\n",
       "      <td>9376.249</td>\n",
       "      <td>4205.004</td>\n",
       "      <td>7883.762</td>\n",
       "      <td>540</td>\n",
       "      <td>2.062029e+08</td>\n",
       "      <td>0.943702</td>\n",
       "      <td>0.927375</td>\n",
       "    </tr>\n",
       "    <tr>\n",
       "      <th>10</th>\n",
       "      <td>10_L2.czi_nucleusSignal.csv</td>\n",
       "      <td>het</td>\n",
       "      <td>33528</td>\n",
       "      <td>11709.046</td>\n",
       "      <td>3896.403</td>\n",
       "      <td>9953.551</td>\n",
       "      <td>533</td>\n",
       "      <td>1.614836e+07</td>\n",
       "      <td>0.056298</td>\n",
       "      <td>0.072625</td>\n",
       "    </tr>\n",
       "    <tr>\n",
       "      <th>11</th>\n",
       "      <td>10_L2.czi_nucleusSignal.csv</td>\n",
       "      <td>nucleus</td>\n",
       "      <td>595544</td>\n",
       "      <td>9499.617</td>\n",
       "      <td>4225.800</td>\n",
       "      <td>7920.510</td>\n",
       "      <td>540</td>\n",
       "      <td>2.223512e+08</td>\n",
       "      <td>1.000000</td>\n",
       "      <td>1.000000</td>\n",
       "    </tr>\n",
       "  </tbody>\n",
       "</table>\n",
       "</div>"
      ],
      "text/plain": [
       "                                       file localization    Area       Mean  \\\n",
       "0   10_09-8M-E4(DOWN).czi_nucleusSignal.csv           eu  453918   4795.450   \n",
       "1   10_09-8M-E4(DOWN).czi_nucleusSignal.csv          het   32207   4721.081   \n",
       "2   10_09-8M-E4(DOWN).czi_nucleusSignal.csv      nucleus  486125   4842.968   \n",
       "3        10_09-8M-ES1.czi_nucleusSignal.csv           eu  570366   8693.745   \n",
       "4        10_09-8M-ES1.czi_nucleusSignal.csv          het   43610  10678.860   \n",
       "5        10_09-8M-ES1.czi_nucleusSignal.csv      nucleus  613976   8871.030   \n",
       "6                   10_E2_nucleusSignal.csv           eu  544523   5036.978   \n",
       "7                   10_E2_nucleusSignal.csv          het   20074   5020.406   \n",
       "8                   10_E2_nucleusSignal.csv      nucleus  564597   5046.916   \n",
       "9               10_L2.czi_nucleusSignal.csv           eu  562016   9376.249   \n",
       "10              10_L2.czi_nucleusSignal.csv          het   33528  11709.046   \n",
       "11              10_L2.czi_nucleusSignal.csv      nucleus  595544   9499.617   \n",
       "\n",
       "      StdDev      Mode  Slice         total  volume_norm  signal_norm  \n",
       "0   1908.154  3940.365    784  7.583474e+07     0.933747     0.916087  \n",
       "1   1597.563  4108.446    529  6.946505e+06     0.066253     0.083914  \n",
       "2   1909.141  4068.100    784  8.278120e+07     1.000000     1.000000  \n",
       "3   3707.228  7646.047    775  1.758827e+08     0.928971     0.898817  \n",
       "4   3551.019  9215.828    625  1.979973e+07     0.071029     0.101183  \n",
       "5   3755.807  7784.725    775  1.956823e+08     1.000000     1.000000  \n",
       "6   2517.015  4094.560    675  9.969692e+07     0.964445     0.959276  \n",
       "7   1786.500  4094.628    585  4.232338e+06     0.035555     0.040723  \n",
       "8   2499.078  4113.269    675  1.039293e+08     1.000000     1.000000  \n",
       "9   4205.004  7883.762    540  2.062029e+08     0.943702     0.927375  \n",
       "10  3896.403  9953.551    533  1.614836e+07     0.056298     0.072625  \n",
       "11  4225.800  7920.510    540  2.223512e+08     1.000000     1.000000  "
      ]
     },
     "execution_count": 243,
     "metadata": {},
     "output_type": "execute_result"
    }
   ],
   "source": [
    "myData_cells"
   ]
  },
  {
   "cell_type": "markdown",
   "metadata": {},
   "source": [
    "### Plots"
   ]
  },
  {
   "cell_type": "markdown",
   "metadata": {},
   "source": [
    "Volume of heterochromatin vs euchromatin."
   ]
  },
  {
   "cell_type": "code",
   "execution_count": 251,
   "metadata": {},
   "outputs": [
    {
     "data": {
      "text/plain": [
       "<matplotlib.axes._subplots.AxesSubplot at 0xef0fbe0>"
      ]
     },
     "execution_count": 251,
     "metadata": {},
     "output_type": "execute_result"
    },
    {
     "data": {
      "image/png": "[encoded data removed]",
      "text/plain": [
       "<Figure size 1080x288 with 1 Axes>"
      ]
     },
     "metadata": {
      "needs_background": "light"
     },
     "output_type": "display_data"
    }
   ],
   "source": [
    "plt.figure(figsize=(15,4))\n",
    "sns.barplot(x=\"file\", y=\"Area\", hue=\"localization\", data=myData_cells)"
   ]
  },
  {
   "cell_type": "code",
   "execution_count": 250,
   "metadata": {},
   "outputs": [
    {
     "data": {
      "text/plain": [
       "<matplotlib.axes._subplots.AxesSubplot at 0xee3dcf8>"
      ]
     },
     "execution_count": 250,
     "metadata": {},
     "output_type": "execute_result"
    },
    {
     "data": {
      "image/png": "[encoded data removed]",
      "text/plain": [
       "<Figure size 1080x288 with 1 Axes>"
      ]
     },
     "metadata": {
      "needs_background": "light"
     },
     "output_type": "display_data"
    }
   ],
   "source": [
    "plt.figure(figsize=(15,4))\n",
    "sns.barplot(x=\"file\", y=\"volume_norm\", hue=\"localization\", data=myData_cells)"
   ]
  },
  {
   "cell_type": "markdown",
   "metadata": {},
   "source": [
    "Plot total signal in different structures."
   ]
  },
  {
   "cell_type": "code",
   "execution_count": 248,
   "metadata": {},
   "outputs": [
    {
     "data": {
      "text/plain": [
       "<matplotlib.axes._subplots.AxesSubplot at 0xee01da0>"
      ]
     },
     "execution_count": 248,
     "metadata": {},
     "output_type": "execute_result"
    },
    {
     "data": {
      "image/png": "[encoded data removed]",
      "text/plain": [
       "<Figure size 1080x288 with 1 Axes>"
      ]
     },
     "metadata": {
      "needs_background": "light"
     },
     "output_type": "display_data"
    }
   ],
   "source": [
    "plt.figure(figsize=(15,4))\n",
    "sns.barplot(x=\"file\", y=\"total\", hue=\"localization\", data=myData_cells)"
   ]
  },
  {
   "cell_type": "markdown",
   "metadata": {},
   "source": [
    "Plot ratios in different chromatin structures."
   ]
  },
  {
   "cell_type": "code",
   "execution_count": 252,
   "metadata": {},
   "outputs": [
    {
     "data": {
      "text/plain": [
       "<matplotlib.axes._subplots.AxesSubplot at 0xf1353c8>"
      ]
     },
     "execution_count": 252,
     "metadata": {},
     "output_type": "execute_result"
    },
    {
     "data": {
      "image/png": "[encoded data removed]",
      "text/plain": [
       "<Figure size 1080x288 with 1 Axes>"
      ]
     },
     "metadata": {
      "needs_background": "light"
     },
     "output_type": "display_data"
    }
   ],
   "source": [
    "plt.figure(figsize=(15,4))\n",
    "sns.barplot(x=\"file\", y=\"signal_norm\", hue=\"localization\", data=myData_cells)"
   ]
  },
  {
   "cell_type": "code",
   "execution_count": null,
   "metadata": {},
   "outputs": [],
   "source": []
  }
 ],
 "metadata": {
  "kernelspec": {
   "display_name": "Python 3",
   "language": "python",
   "name": "python3"
  },
  "language_info": {
   "codemirror_mode": {
    "name": "ipython",
    "version": 3
   },
   "file_extension": ".py",
   "mimetype": "text/x-python",
   "name": "python",
   "nbconvert_exporter": "python",
   "pygments_lexer": "ipython3",
   "version": "3.7.1"
  }
 },
 "nbformat": 4,
 "nbformat_minor": 2
}
