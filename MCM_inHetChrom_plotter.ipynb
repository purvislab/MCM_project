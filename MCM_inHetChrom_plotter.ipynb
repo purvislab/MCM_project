{
 "cells": [
  {
   "cell_type": "markdown",
   "metadata": {},
   "source": [
    "## Script to plot results of heterochromatin localization study"
   ]
  },
  {
   "cell_type": "code",
   "execution_count": 1,
   "metadata": {},
   "outputs": [],
   "source": [
    "from os import listdir\n",
    "from os.path import isfile, join\n",
    "\n",
    "import pandas as pd\n",
    "import numpy as np\n",
    "\n",
    "import matplotlib.pyplot as plt\n",
    "import seaborn as sns"
   ]
  },
  {
   "cell_type": "code",
   "execution_count": 2,
   "metadata": {},
   "outputs": [],
   "source": [
    "# specify directory to analyze\n",
    "myDir=r'S:\\ActiveUsers\\Kasia\\2019_Liu_forMacro\\20190426\\20190506-MSL\\test\\results'"
   ]
  },
  {
   "cell_type": "markdown",
   "metadata": {},
   "source": [
    "Read all the data - original csv files contain measurements for each frame."
   ]
  },
  {
   "cell_type": "code",
   "execution_count": 3,
   "metadata": {},
   "outputs": [],
   "source": [
    "myFiles = [f for f in listdir(myDir) if ('nucleusSignal' in f)]\n",
    "\n",
    "myData=pd.DataFrame()\n",
    "\n",
    "for f in myFiles:\n",
    "    \n",
    "    myData_temp=pd.read_csv(join(myDir, f))\n",
    "    myData_temp['file']=f\n",
    "    myData_temp['total']=myData_temp.Area*myData_temp.Mean;\n",
    "    myData_temp['localization']='nucleus'\n",
    "    \n",
    "    try:\n",
    "        myData = pd.concat([myData,myData_temp],sort=False)\n",
    "    except:\n",
    "        myData = myData_temp.copy()\n",
    "    \n",
    "    # add euchromatin\n",
    "    myData_temp=pd.read_csv(join(myDir, f.replace(\"nucleus\", \"euChrom\")))\n",
    "    myData_temp['file']=f\n",
    "    myData_temp['total']=myData_temp.Area*myData_temp.Mean;\n",
    "    myData_temp['localization']='eu'\n",
    "    \n",
    "    myData = pd.concat([myData,myData_temp],sort=False)\n",
    "    \n",
    "    # add heterochromatin\n",
    "    myData_temp=pd.read_csv(join(myDir, f.replace(\"nucleus\", \"hetChrom\")))\n",
    "    myData_temp['file']=f\n",
    "    myData_temp['total']=myData_temp.Area*myData_temp.Mean;\n",
    "    myData_temp['localization']='het'\n",
    "    \n",
    "    myData = pd.concat([myData,myData_temp],sort=False)\n",
    "    "
   ]
  },
  {
   "cell_type": "markdown",
   "metadata": {},
   "source": [
    "Summarize data for each cell and then calculate ratios."
   ]
  },
  {
   "cell_type": "code",
   "execution_count": 4,
   "metadata": {},
   "outputs": [],
   "source": [
    "myData_cells=myData.groupby(['file','localization'], as_index=False).sum()"
   ]
  },
  {
   "cell_type": "code",
   "execution_count": 5,
   "metadata": {},
   "outputs": [
    {
     "data": {
      "text/html": [
       "<div>\n",
       "<style scoped>\n",
       "    .dataframe tbody tr th:only-of-type {\n",
       "        vertical-align: middle;\n",
       "    }\n",
       "\n",
       "    .dataframe tbody tr th {\n",
       "        vertical-align: top;\n",
       "    }\n",
       "\n",
       "    .dataframe thead th {\n",
       "        text-align: right;\n",
       "    }\n",
       "</style>\n",
       "<table border=\"1\" class=\"dataframe\">\n",
       "  <thead>\n",
       "    <tr style=\"text-align: right;\">\n",
       "      <th></th>\n",
       "      <th>file</th>\n",
       "      <th>localization</th>\n",
       "      <th>Area</th>\n",
       "      <th>Mean</th>\n",
       "      <th>StdDev</th>\n",
       "      <th>Mode</th>\n",
       "      <th>Slice</th>\n",
       "      <th>total</th>\n",
       "    </tr>\n",
       "  </thead>\n",
       "  <tbody>\n",
       "    <tr>\n",
       "      <th>0</th>\n",
       "      <td>10_09-8M-E4(DOWN).czi_nucleusSignal.csv</td>\n",
       "      <td>eu</td>\n",
       "      <td>474845</td>\n",
       "      <td>4827.967</td>\n",
       "      <td>1911.089</td>\n",
       "      <td>4050.453</td>\n",
       "      <td>784</td>\n",
       "      <td>8.034556e+07</td>\n",
       "    </tr>\n",
       "    <tr>\n",
       "      <th>1</th>\n",
       "      <td>10_09-8M-E4(DOWN).czi_nucleusSignal.csv</td>\n",
       "      <td>het</td>\n",
       "      <td>11280</td>\n",
       "      <td>4511.640</td>\n",
       "      <td>1412.628</td>\n",
       "      <td>3537.451</td>\n",
       "      <td>495</td>\n",
       "      <td>2.435605e+06</td>\n",
       "    </tr>\n",
       "    <tr>\n",
       "      <th>2</th>\n",
       "      <td>10_09-8M-E4(DOWN).czi_nucleusSignal.csv</td>\n",
       "      <td>nucleus</td>\n",
       "      <td>486125</td>\n",
       "      <td>4842.968</td>\n",
       "      <td>1909.141</td>\n",
       "      <td>4068.100</td>\n",
       "      <td>784</td>\n",
       "      <td>8.278120e+07</td>\n",
       "    </tr>\n",
       "    <tr>\n",
       "      <th>3</th>\n",
       "      <td>10_09-8M-ES1.czi_nucleusSignal.csv</td>\n",
       "      <td>eu</td>\n",
       "      <td>598983</td>\n",
       "      <td>8797.077</td>\n",
       "      <td>3721.093</td>\n",
       "      <td>7739.338</td>\n",
       "      <td>775</td>\n",
       "      <td>1.885035e+08</td>\n",
       "    </tr>\n",
       "    <tr>\n",
       "      <th>4</th>\n",
       "      <td>10_09-8M-ES1.czi_nucleusSignal.csv</td>\n",
       "      <td>het</td>\n",
       "      <td>14993</td>\n",
       "      <td>11261.303</td>\n",
       "      <td>3711.780</td>\n",
       "      <td>9425.096</td>\n",
       "      <td>625</td>\n",
       "      <td>7.178897e+06</td>\n",
       "    </tr>\n",
       "    <tr>\n",
       "      <th>5</th>\n",
       "      <td>10_09-8M-ES1.czi_nucleusSignal.csv</td>\n",
       "      <td>nucleus</td>\n",
       "      <td>613976</td>\n",
       "      <td>8871.030</td>\n",
       "      <td>3755.807</td>\n",
       "      <td>7784.725</td>\n",
       "      <td>775</td>\n",
       "      <td>1.956823e+08</td>\n",
       "    </tr>\n",
       "    <tr>\n",
       "      <th>6</th>\n",
       "      <td>10_E2_nucleusSignal.csv</td>\n",
       "      <td>eu</td>\n",
       "      <td>557374</td>\n",
       "      <td>5042.612</td>\n",
       "      <td>2506.231</td>\n",
       "      <td>4081.665</td>\n",
       "      <td>675</td>\n",
       "      <td>1.023977e+08</td>\n",
       "    </tr>\n",
       "    <tr>\n",
       "      <th>7</th>\n",
       "      <td>10_E2_nucleusSignal.csv</td>\n",
       "      <td>het</td>\n",
       "      <td>7223</td>\n",
       "      <td>4653.525</td>\n",
       "      <td>1542.765</td>\n",
       "      <td>3708.671</td>\n",
       "      <td>506</td>\n",
       "      <td>1.531497e+06</td>\n",
       "    </tr>\n",
       "    <tr>\n",
       "      <th>8</th>\n",
       "      <td>10_E2_nucleusSignal.csv</td>\n",
       "      <td>nucleus</td>\n",
       "      <td>564597</td>\n",
       "      <td>5046.916</td>\n",
       "      <td>2499.078</td>\n",
       "      <td>4113.269</td>\n",
       "      <td>675</td>\n",
       "      <td>1.039293e+08</td>\n",
       "    </tr>\n",
       "    <tr>\n",
       "      <th>9</th>\n",
       "      <td>10_L2.czi_nucleusSignal.csv</td>\n",
       "      <td>eu</td>\n",
       "      <td>583219</td>\n",
       "      <td>9449.089</td>\n",
       "      <td>4216.124</td>\n",
       "      <td>7814.651</td>\n",
       "      <td>540</td>\n",
       "      <td>2.164092e+08</td>\n",
       "    </tr>\n",
       "    <tr>\n",
       "      <th>10</th>\n",
       "      <td>10_L2.czi_nucleusSignal.csv</td>\n",
       "      <td>het</td>\n",
       "      <td>12325</td>\n",
       "      <td>11562.959</td>\n",
       "      <td>3606.762</td>\n",
       "      <td>9678.376</td>\n",
       "      <td>500</td>\n",
       "      <td>5.942085e+06</td>\n",
       "    </tr>\n",
       "    <tr>\n",
       "      <th>11</th>\n",
       "      <td>10_L2.czi_nucleusSignal.csv</td>\n",
       "      <td>nucleus</td>\n",
       "      <td>595544</td>\n",
       "      <td>9499.617</td>\n",
       "      <td>4225.800</td>\n",
       "      <td>7920.510</td>\n",
       "      <td>540</td>\n",
       "      <td>2.223512e+08</td>\n",
       "    </tr>\n",
       "  </tbody>\n",
       "</table>\n",
       "</div>"
      ],
      "text/plain": [
       "                                       file localization    Area       Mean  \\\n",
       "0   10_09-8M-E4(DOWN).czi_nucleusSignal.csv           eu  474845   4827.967   \n",
       "1   10_09-8M-E4(DOWN).czi_nucleusSignal.csv          het   11280   4511.640   \n",
       "2   10_09-8M-E4(DOWN).czi_nucleusSignal.csv      nucleus  486125   4842.968   \n",
       "3        10_09-8M-ES1.czi_nucleusSignal.csv           eu  598983   8797.077   \n",
       "4        10_09-8M-ES1.czi_nucleusSignal.csv          het   14993  11261.303   \n",
       "5        10_09-8M-ES1.czi_nucleusSignal.csv      nucleus  613976   8871.030   \n",
       "6                   10_E2_nucleusSignal.csv           eu  557374   5042.612   \n",
       "7                   10_E2_nucleusSignal.csv          het    7223   4653.525   \n",
       "8                   10_E2_nucleusSignal.csv      nucleus  564597   5046.916   \n",
       "9               10_L2.czi_nucleusSignal.csv           eu  583219   9449.089   \n",
       "10              10_L2.czi_nucleusSignal.csv          het   12325  11562.959   \n",
       "11              10_L2.czi_nucleusSignal.csv      nucleus  595544   9499.617   \n",
       "\n",
       "      StdDev      Mode  Slice         total  \n",
       "0   1911.089  4050.453    784  8.034556e+07  \n",
       "1   1412.628  3537.451    495  2.435605e+06  \n",
       "2   1909.141  4068.100    784  8.278120e+07  \n",
       "3   3721.093  7739.338    775  1.885035e+08  \n",
       "4   3711.780  9425.096    625  7.178897e+06  \n",
       "5   3755.807  7784.725    775  1.956823e+08  \n",
       "6   2506.231  4081.665    675  1.023977e+08  \n",
       "7   1542.765  3708.671    506  1.531497e+06  \n",
       "8   2499.078  4113.269    675  1.039293e+08  \n",
       "9   4216.124  7814.651    540  2.164092e+08  \n",
       "10  3606.762  9678.376    500  5.942085e+06  \n",
       "11  4225.800  7920.510    540  2.223512e+08  "
      ]
     },
     "execution_count": 5,
     "metadata": {},
     "output_type": "execute_result"
    }
   ],
   "source": [
    "myData_cells"
   ]
  },
  {
   "cell_type": "code",
   "execution_count": 6,
   "metadata": {},
   "outputs": [],
   "source": [
    "def group_norm(group):\n",
    "    # find norm factors/group\n",
    "    area_norm_factor=np.array(group.loc[group.localization=='nucleus','Area'])[0]\n",
    "    signal_norm_factor=np.array(group.loc[group.localization=='nucleus','total'])[0]\n",
    "    #modify dataframe\n",
    "    group['volume_norm']=group.Area/area_norm_factor\n",
    "    group['signal_norm']=group.total/signal_norm_factor\n",
    "    return group"
   ]
  },
  {
   "cell_type": "code",
   "execution_count": 7,
   "metadata": {},
   "outputs": [],
   "source": [
    "myData_cells=myData_cells.groupby(['file'],as_index=False).apply(group_norm)"
   ]
  },
  {
   "cell_type": "code",
   "execution_count": 8,
   "metadata": {},
   "outputs": [
    {
     "data": {
      "text/html": [
       "<div>\n",
       "<style scoped>\n",
       "    .dataframe tbody tr th:only-of-type {\n",
       "        vertical-align: middle;\n",
       "    }\n",
       "\n",
       "    .dataframe tbody tr th {\n",
       "        vertical-align: top;\n",
       "    }\n",
       "\n",
       "    .dataframe thead th {\n",
       "        text-align: right;\n",
       "    }\n",
       "</style>\n",
       "<table border=\"1\" class=\"dataframe\">\n",
       "  <thead>\n",
       "    <tr style=\"text-align: right;\">\n",
       "      <th></th>\n",
       "      <th>file</th>\n",
       "      <th>localization</th>\n",
       "      <th>Area</th>\n",
       "      <th>Mean</th>\n",
       "      <th>StdDev</th>\n",
       "      <th>Mode</th>\n",
       "      <th>Slice</th>\n",
       "      <th>total</th>\n",
       "      <th>volume_norm</th>\n",
       "      <th>signal_norm</th>\n",
       "    </tr>\n",
       "  </thead>\n",
       "  <tbody>\n",
       "    <tr>\n",
       "      <th>0</th>\n",
       "      <td>10_09-8M-E4(DOWN).czi_nucleusSignal.csv</td>\n",
       "      <td>eu</td>\n",
       "      <td>474845</td>\n",
       "      <td>4827.967</td>\n",
       "      <td>1911.089</td>\n",
       "      <td>4050.453</td>\n",
       "      <td>784</td>\n",
       "      <td>8.034556e+07</td>\n",
       "      <td>0.976796</td>\n",
       "      <td>0.970577</td>\n",
       "    </tr>\n",
       "    <tr>\n",
       "      <th>1</th>\n",
       "      <td>10_09-8M-E4(DOWN).czi_nucleusSignal.csv</td>\n",
       "      <td>het</td>\n",
       "      <td>11280</td>\n",
       "      <td>4511.640</td>\n",
       "      <td>1412.628</td>\n",
       "      <td>3537.451</td>\n",
       "      <td>495</td>\n",
       "      <td>2.435605e+06</td>\n",
       "      <td>0.023204</td>\n",
       "      <td>0.029422</td>\n",
       "    </tr>\n",
       "    <tr>\n",
       "      <th>2</th>\n",
       "      <td>10_09-8M-E4(DOWN).czi_nucleusSignal.csv</td>\n",
       "      <td>nucleus</td>\n",
       "      <td>486125</td>\n",
       "      <td>4842.968</td>\n",
       "      <td>1909.141</td>\n",
       "      <td>4068.100</td>\n",
       "      <td>784</td>\n",
       "      <td>8.278120e+07</td>\n",
       "      <td>1.000000</td>\n",
       "      <td>1.000000</td>\n",
       "    </tr>\n",
       "    <tr>\n",
       "      <th>3</th>\n",
       "      <td>10_09-8M-ES1.czi_nucleusSignal.csv</td>\n",
       "      <td>eu</td>\n",
       "      <td>598983</td>\n",
       "      <td>8797.077</td>\n",
       "      <td>3721.093</td>\n",
       "      <td>7739.338</td>\n",
       "      <td>775</td>\n",
       "      <td>1.885035e+08</td>\n",
       "      <td>0.975580</td>\n",
       "      <td>0.963314</td>\n",
       "    </tr>\n",
       "    <tr>\n",
       "      <th>4</th>\n",
       "      <td>10_09-8M-ES1.czi_nucleusSignal.csv</td>\n",
       "      <td>het</td>\n",
       "      <td>14993</td>\n",
       "      <td>11261.303</td>\n",
       "      <td>3711.780</td>\n",
       "      <td>9425.096</td>\n",
       "      <td>625</td>\n",
       "      <td>7.178897e+06</td>\n",
       "      <td>0.024420</td>\n",
       "      <td>0.036686</td>\n",
       "    </tr>\n",
       "    <tr>\n",
       "      <th>5</th>\n",
       "      <td>10_09-8M-ES1.czi_nucleusSignal.csv</td>\n",
       "      <td>nucleus</td>\n",
       "      <td>613976</td>\n",
       "      <td>8871.030</td>\n",
       "      <td>3755.807</td>\n",
       "      <td>7784.725</td>\n",
       "      <td>775</td>\n",
       "      <td>1.956823e+08</td>\n",
       "      <td>1.000000</td>\n",
       "      <td>1.000000</td>\n",
       "    </tr>\n",
       "    <tr>\n",
       "      <th>6</th>\n",
       "      <td>10_E2_nucleusSignal.csv</td>\n",
       "      <td>eu</td>\n",
       "      <td>557374</td>\n",
       "      <td>5042.612</td>\n",
       "      <td>2506.231</td>\n",
       "      <td>4081.665</td>\n",
       "      <td>675</td>\n",
       "      <td>1.023977e+08</td>\n",
       "      <td>0.987207</td>\n",
       "      <td>0.985264</td>\n",
       "    </tr>\n",
       "    <tr>\n",
       "      <th>7</th>\n",
       "      <td>10_E2_nucleusSignal.csv</td>\n",
       "      <td>het</td>\n",
       "      <td>7223</td>\n",
       "      <td>4653.525</td>\n",
       "      <td>1542.765</td>\n",
       "      <td>3708.671</td>\n",
       "      <td>506</td>\n",
       "      <td>1.531497e+06</td>\n",
       "      <td>0.012793</td>\n",
       "      <td>0.014736</td>\n",
       "    </tr>\n",
       "    <tr>\n",
       "      <th>8</th>\n",
       "      <td>10_E2_nucleusSignal.csv</td>\n",
       "      <td>nucleus</td>\n",
       "      <td>564597</td>\n",
       "      <td>5046.916</td>\n",
       "      <td>2499.078</td>\n",
       "      <td>4113.269</td>\n",
       "      <td>675</td>\n",
       "      <td>1.039293e+08</td>\n",
       "      <td>1.000000</td>\n",
       "      <td>1.000000</td>\n",
       "    </tr>\n",
       "    <tr>\n",
       "      <th>9</th>\n",
       "      <td>10_L2.czi_nucleusSignal.csv</td>\n",
       "      <td>eu</td>\n",
       "      <td>583219</td>\n",
       "      <td>9449.089</td>\n",
       "      <td>4216.124</td>\n",
       "      <td>7814.651</td>\n",
       "      <td>540</td>\n",
       "      <td>2.164092e+08</td>\n",
       "      <td>0.979305</td>\n",
       "      <td>0.973276</td>\n",
       "    </tr>\n",
       "    <tr>\n",
       "      <th>10</th>\n",
       "      <td>10_L2.czi_nucleusSignal.csv</td>\n",
       "      <td>het</td>\n",
       "      <td>12325</td>\n",
       "      <td>11562.959</td>\n",
       "      <td>3606.762</td>\n",
       "      <td>9678.376</td>\n",
       "      <td>500</td>\n",
       "      <td>5.942085e+06</td>\n",
       "      <td>0.020695</td>\n",
       "      <td>0.026724</td>\n",
       "    </tr>\n",
       "    <tr>\n",
       "      <th>11</th>\n",
       "      <td>10_L2.czi_nucleusSignal.csv</td>\n",
       "      <td>nucleus</td>\n",
       "      <td>595544</td>\n",
       "      <td>9499.617</td>\n",
       "      <td>4225.800</td>\n",
       "      <td>7920.510</td>\n",
       "      <td>540</td>\n",
       "      <td>2.223512e+08</td>\n",
       "      <td>1.000000</td>\n",
       "      <td>1.000000</td>\n",
       "    </tr>\n",
       "  </tbody>\n",
       "</table>\n",
       "</div>"
      ],
      "text/plain": [
       "                                       file localization    Area       Mean  \\\n",
       "0   10_09-8M-E4(DOWN).czi_nucleusSignal.csv           eu  474845   4827.967   \n",
       "1   10_09-8M-E4(DOWN).czi_nucleusSignal.csv          het   11280   4511.640   \n",
       "2   10_09-8M-E4(DOWN).czi_nucleusSignal.csv      nucleus  486125   4842.968   \n",
       "3        10_09-8M-ES1.czi_nucleusSignal.csv           eu  598983   8797.077   \n",
       "4        10_09-8M-ES1.czi_nucleusSignal.csv          het   14993  11261.303   \n",
       "5        10_09-8M-ES1.czi_nucleusSignal.csv      nucleus  613976   8871.030   \n",
       "6                   10_E2_nucleusSignal.csv           eu  557374   5042.612   \n",
       "7                   10_E2_nucleusSignal.csv          het    7223   4653.525   \n",
       "8                   10_E2_nucleusSignal.csv      nucleus  564597   5046.916   \n",
       "9               10_L2.czi_nucleusSignal.csv           eu  583219   9449.089   \n",
       "10              10_L2.czi_nucleusSignal.csv          het   12325  11562.959   \n",
       "11              10_L2.czi_nucleusSignal.csv      nucleus  595544   9499.617   \n",
       "\n",
       "      StdDev      Mode  Slice         total  volume_norm  signal_norm  \n",
       "0   1911.089  4050.453    784  8.034556e+07     0.976796     0.970577  \n",
       "1   1412.628  3537.451    495  2.435605e+06     0.023204     0.029422  \n",
       "2   1909.141  4068.100    784  8.278120e+07     1.000000     1.000000  \n",
       "3   3721.093  7739.338    775  1.885035e+08     0.975580     0.963314  \n",
       "4   3711.780  9425.096    625  7.178897e+06     0.024420     0.036686  \n",
       "5   3755.807  7784.725    775  1.956823e+08     1.000000     1.000000  \n",
       "6   2506.231  4081.665    675  1.023977e+08     0.987207     0.985264  \n",
       "7   1542.765  3708.671    506  1.531497e+06     0.012793     0.014736  \n",
       "8   2499.078  4113.269    675  1.039293e+08     1.000000     1.000000  \n",
       "9   4216.124  7814.651    540  2.164092e+08     0.979305     0.973276  \n",
       "10  3606.762  9678.376    500  5.942085e+06     0.020695     0.026724  \n",
       "11  4225.800  7920.510    540  2.223512e+08     1.000000     1.000000  "
      ]
     },
     "execution_count": 8,
     "metadata": {},
     "output_type": "execute_result"
    }
   ],
   "source": [
    "myData_cells"
   ]
  },
  {
   "cell_type": "markdown",
   "metadata": {},
   "source": [
    "### Plots"
   ]
  },
  {
   "cell_type": "markdown",
   "metadata": {},
   "source": [
    "Volume of heterochromatin vs euchromatin."
   ]
  },
  {
   "cell_type": "code",
   "execution_count": 9,
   "metadata": {},
   "outputs": [
    {
     "data": {
      "text/plain": [
       "<matplotlib.axes._subplots.AxesSubplot at 0xa9b9e80>"
      ]
     },
     "execution_count": 9,
     "metadata": {},
     "output_type": "execute_result"
    },
    {
     "data": {
      "image/png": "[encoded data removed]",
      "text/plain": [
       "<Figure size 1080x288 with 1 Axes>"
      ]
     },
     "metadata": {
      "needs_background": "light"
     },
     "output_type": "display_data"
    }
   ],
   "source": [
    "plt.figure(figsize=(15,4))\n",
    "sns.barplot(x=\"file\", y=\"Area\", hue=\"localization\", data=myData_cells)"
   ]
  },
  {
   "cell_type": "code",
   "execution_count": 10,
   "metadata": {},
   "outputs": [
    {
     "data": {
      "text/plain": [
       "<matplotlib.axes._subplots.AxesSubplot at 0xbec45f8>"
      ]
     },
     "execution_count": 10,
     "metadata": {},
     "output_type": "execute_result"
    },
    {
     "data": {
      "image/png": "[encoded data removed]",
      "text/plain": [
       "<Figure size 1080x288 with 1 Axes>"
      ]
     },
     "metadata": {
      "needs_background": "light"
     },
     "output_type": "display_data"
    }
   ],
   "source": [
    "plt.figure(figsize=(15,4))\n",
    "sns.barplot(x=\"file\", y=\"volume_norm\", hue=\"localization\", data=myData_cells)"
   ]
  },
  {
   "cell_type": "markdown",
   "metadata": {},
   "source": [
    "Plot total signal in different structures."
   ]
  },
  {
   "cell_type": "code",
   "execution_count": 11,
   "metadata": {},
   "outputs": [
    {
     "data": {
      "text/plain": [
       "<matplotlib.axes._subplots.AxesSubplot at 0xbe93e48>"
      ]
     },
     "execution_count": 11,
     "metadata": {},
     "output_type": "execute_result"
    },
    {
     "data": {
      "image/png": "[encoded data removed]",
      "text/plain": [
       "<Figure size 1080x288 with 1 Axes>"
      ]
     },
     "metadata": {
      "needs_background": "light"
     },
     "output_type": "display_data"
    }
   ],
   "source": [
    "plt.figure(figsize=(15,4))\n",
    "sns.barplot(x=\"file\", y=\"total\", hue=\"localization\", data=myData_cells)"
   ]
  },
  {
   "cell_type": "markdown",
   "metadata": {},
   "source": [
    "Plot ratios in different chromatin structures."
   ]
  },
  {
   "cell_type": "code",
   "execution_count": 12,
   "metadata": {},
   "outputs": [
    {
     "data": {
      "text/plain": [
       "<matplotlib.axes._subplots.AxesSubplot at 0xc427ba8>"
      ]
     },
     "execution_count": 12,
     "metadata": {},
     "output_type": "execute_result"
    },
    {
     "data": {
      "image/png": "[encoded data removed]",
      "text/plain": [
       "<Figure size 1080x288 with 1 Axes>"
      ]
     },
     "metadata": {
      "needs_background": "light"
     },
     "output_type": "display_data"
    }
   ],
   "source": [
    "plt.figure(figsize=(15,4))\n",
    "sns.barplot(x=\"file\", y=\"signal_norm\", hue=\"localization\", data=myData_cells)"
   ]
  },
  {
   "cell_type": "code",
   "execution_count": null,
   "metadata": {},
   "outputs": [],
   "source": []
  }
 ],
 "metadata": {
  "kernelspec": {
   "display_name": "Python 3",
   "language": "python",
   "name": "python3"
  },
  "language_info": {
   "codemirror_mode": {
    "name": "ipython",
    "version": 3
   },
   "file_extension": ".py",
   "mimetype": "text/x-python",
   "name": "python",
   "nbconvert_exporter": "python",
   "pygments_lexer": "ipython3",
   "version": "3.7.1"
  }
 },
 "nbformat": 4,
 "nbformat_minor": 2
}
