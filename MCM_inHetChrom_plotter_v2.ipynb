{
 "cells": [
  {
   "cell_type": "markdown",
   "metadata": {},
   "source": [
    "## Script to plot results of heterochromatin localization study"
   ]
  },
  {
   "cell_type": "code",
   "execution_count": 29,
   "metadata": {},
   "outputs": [],
   "source": [
    "from os import listdir\n",
    "from os.path import isfile, join\n",
    "\n",
    "import pandas as pd\n",
    "import numpy as np\n",
    "\n",
    "import matplotlib.pyplot as plt\n",
    "import seaborn as sns\n",
    "\n",
    "import os"
   ]
  },
  {
   "cell_type": "code",
   "execution_count": 25,
   "metadata": {},
   "outputs": [],
   "source": [
    "# specify directory to analyze\n",
    "myDirMain=r\"S:\\CookLab\\Liu\\20190816_organizedData_MCM_loading\\DATA\"\n",
    "myDirList=[\"20190506-MSL decon rename\",\"20190607-MSL decon rename\",\"20190609-MSL decon rename\",\n",
    "           \"20190625-MSL decon rename\",\"20190701-MSL decon rename\",\"20190712-MSL decon rename\",\n",
    "           \"20190716-MSL decon rename\"]\n",
    "# define a file with all the info\n",
    "myFileData=r'S:\\CookLab\\Liu\\20190816_organizedData_MCM_loading\\sel_cells.csv'"
   ]
  },
  {
   "cell_type": "code",
   "execution_count": 27,
   "metadata": {},
   "outputs": [
    {
     "name": "stdout",
     "output_type": "stream",
     "text": [
      "280\n"
     ]
    },
    {
     "data": {
      "text/html": [
       "<div>\n",
       "<style scoped>\n",
       "    .dataframe tbody tr th:only-of-type {\n",
       "        vertical-align: middle;\n",
       "    }\n",
       "\n",
       "    .dataframe tbody tr th {\n",
       "        vertical-align: top;\n",
       "    }\n",
       "\n",
       "    .dataframe thead th {\n",
       "        text-align: right;\n",
       "    }\n",
       "</style>\n",
       "<table border=\"1\" class=\"dataframe\">\n",
       "  <thead>\n",
       "    <tr style=\"text-align: right;\">\n",
       "      <th></th>\n",
       "      <th>Unnamed: 0</th>\n",
       "      <th>file</th>\n",
       "      <th>original cell name</th>\n",
       "      <th>Amy_mod</th>\n",
       "      <th>movie</th>\n",
       "      <th>x</th>\n",
       "      <th>y</th>\n",
       "      <th>ab1 (heterochromatin)</th>\n",
       "      <th>ab1 ch</th>\n",
       "      <th>ab2 (MCM)</th>\n",
       "      <th>...</th>\n",
       "      <th>imaging core</th>\n",
       "      <th>cell id for tracking</th>\n",
       "      <th>comment</th>\n",
       "      <th>dhb_tracking</th>\n",
       "      <th>exp</th>\n",
       "      <th>track_cell_id</th>\n",
       "      <th>dist</th>\n",
       "      <th>x_track</th>\n",
       "      <th>y_track</th>\n",
       "      <th>track_length</th>\n",
       "    </tr>\n",
       "  </thead>\n",
       "  <tbody>\n",
       "    <tr>\n",
       "      <th>0</th>\n",
       "      <td>0</td>\n",
       "      <td>20190625_cell-00.czi</td>\n",
       "      <td>7LE1(B)</td>\n",
       "      <td>1130/10</td>\n",
       "      <td>190619-cdc6-dhb-pcna002xy09</td>\n",
       "      <td>172.0</td>\n",
       "      <td>956.0</td>\n",
       "      <td>HP1B</td>\n",
       "      <td>1.0</td>\n",
       "      <td>MCM3</td>\n",
       "      <td>...</td>\n",
       "      <td>HIC</td>\n",
       "      <td>0.0</td>\n",
       "      <td>NaN</td>\n",
       "      <td>1.906192e+10</td>\n",
       "      <td>19061916009</td>\n",
       "      <td>0.0</td>\n",
       "      <td>3.807887</td>\n",
       "      <td>173.5</td>\n",
       "      <td>959.5</td>\n",
       "      <td>5.0</td>\n",
       "    </tr>\n",
       "    <tr>\n",
       "      <th>1</th>\n",
       "      <td>1</td>\n",
       "      <td>20190625_cell-01.czi</td>\n",
       "      <td>7L-E1(T)</td>\n",
       "      <td>0</td>\n",
       "      <td>190619-cdc6-dhb-pcna002xy09</td>\n",
       "      <td>158.0</td>\n",
       "      <td>906.0</td>\n",
       "      <td>HP1B</td>\n",
       "      <td>1.0</td>\n",
       "      <td>MCM3</td>\n",
       "      <td>...</td>\n",
       "      <td>HIC</td>\n",
       "      <td>1.0</td>\n",
       "      <td>NaN</td>\n",
       "      <td>1.906192e+10</td>\n",
       "      <td>19061916009</td>\n",
       "      <td>1.0</td>\n",
       "      <td>4.272002</td>\n",
       "      <td>159.5</td>\n",
       "      <td>902.0</td>\n",
       "      <td>5.0</td>\n",
       "    </tr>\n",
       "    <tr>\n",
       "      <th>2</th>\n",
       "      <td>2</td>\n",
       "      <td>20190625_cell-02.czi</td>\n",
       "      <td>7L-E2(B)</td>\n",
       "      <td>0</td>\n",
       "      <td>190619-cdc6-dhb-pcna002xy09</td>\n",
       "      <td>832.0</td>\n",
       "      <td>252.0</td>\n",
       "      <td>HP1B</td>\n",
       "      <td>1.0</td>\n",
       "      <td>MCM3</td>\n",
       "      <td>...</td>\n",
       "      <td>HIC</td>\n",
       "      <td>2.0</td>\n",
       "      <td>NaN</td>\n",
       "      <td>1.906192e+10</td>\n",
       "      <td>19061916009</td>\n",
       "      <td>2.0</td>\n",
       "      <td>6.000000</td>\n",
       "      <td>826.0</td>\n",
       "      <td>252.0</td>\n",
       "      <td>13.0</td>\n",
       "    </tr>\n",
       "    <tr>\n",
       "      <th>3</th>\n",
       "      <td>3</td>\n",
       "      <td>20190625_cell-03.czi</td>\n",
       "      <td>7L-E2(T)</td>\n",
       "      <td>0</td>\n",
       "      <td>190619-cdc6-dhb-pcna002xy09</td>\n",
       "      <td>888.0</td>\n",
       "      <td>160.0</td>\n",
       "      <td>HP1B</td>\n",
       "      <td>1.0</td>\n",
       "      <td>MCM3</td>\n",
       "      <td>...</td>\n",
       "      <td>HIC</td>\n",
       "      <td>3.0</td>\n",
       "      <td>NaN</td>\n",
       "      <td>1.906192e+10</td>\n",
       "      <td>19061916009</td>\n",
       "      <td>3.0</td>\n",
       "      <td>1.500000</td>\n",
       "      <td>889.5</td>\n",
       "      <td>160.0</td>\n",
       "      <td>13.0</td>\n",
       "    </tr>\n",
       "    <tr>\n",
       "      <th>4</th>\n",
       "      <td>5</td>\n",
       "      <td>20190625_cell-05.czi</td>\n",
       "      <td>7L-G2</td>\n",
       "      <td>0</td>\n",
       "      <td>190619-cdc6-dhb-pcna002xy09</td>\n",
       "      <td>172.0</td>\n",
       "      <td>324.0</td>\n",
       "      <td>HP1B</td>\n",
       "      <td>1.0</td>\n",
       "      <td>MCM3</td>\n",
       "      <td>...</td>\n",
       "      <td>HIC</td>\n",
       "      <td>5.0</td>\n",
       "      <td>130 min after s</td>\n",
       "      <td>1.906192e+10</td>\n",
       "      <td>19061916009</td>\n",
       "      <td>5.0</td>\n",
       "      <td>3.354102</td>\n",
       "      <td>175.0</td>\n",
       "      <td>322.5</td>\n",
       "      <td>118.0</td>\n",
       "    </tr>\n",
       "  </tbody>\n",
       "</table>\n",
       "<p>5 rows × 26 columns</p>\n",
       "</div>"
      ],
      "text/plain": [
       "   Unnamed: 0                  file original cell name  Amy_mod  \\\n",
       "0           0  20190625_cell-00.czi            7LE1(B)  1130/10   \n",
       "1           1  20190625_cell-01.czi           7L-E1(T)        0   \n",
       "2           2  20190625_cell-02.czi           7L-E2(B)        0   \n",
       "3           3  20190625_cell-03.czi           7L-E2(T)        0   \n",
       "4           5  20190625_cell-05.czi              7L-G2        0   \n",
       "\n",
       "                         movie      x      y ab1 (heterochromatin)  ab1 ch  \\\n",
       "0  190619-cdc6-dhb-pcna002xy09  172.0  956.0                  HP1B     1.0   \n",
       "1  190619-cdc6-dhb-pcna002xy09  158.0  906.0                  HP1B     1.0   \n",
       "2  190619-cdc6-dhb-pcna002xy09  832.0  252.0                  HP1B     1.0   \n",
       "3  190619-cdc6-dhb-pcna002xy09  888.0  160.0                  HP1B     1.0   \n",
       "4  190619-cdc6-dhb-pcna002xy09  172.0  324.0                  HP1B     1.0   \n",
       "\n",
       "  ab2 (MCM)  ...  imaging core  cell id for tracking          comment  \\\n",
       "0      MCM3  ...           HIC                   0.0              NaN   \n",
       "1      MCM3  ...           HIC                   1.0              NaN   \n",
       "2      MCM3  ...           HIC                   2.0              NaN   \n",
       "3      MCM3  ...           HIC                   3.0              NaN   \n",
       "4      MCM3  ...           HIC                   5.0  130 min after s   \n",
       "\n",
       "   dhb_tracking          exp  track_cell_id      dist  x_track y_track  \\\n",
       "0  1.906192e+10  19061916009            0.0  3.807887    173.5   959.5   \n",
       "1  1.906192e+10  19061916009            1.0  4.272002    159.5   902.0   \n",
       "2  1.906192e+10  19061916009            2.0  6.000000    826.0   252.0   \n",
       "3  1.906192e+10  19061916009            3.0  1.500000    889.5   160.0   \n",
       "4  1.906192e+10  19061916009            5.0  3.354102    175.0   322.5   \n",
       "\n",
       "   track_length  \n",
       "0           5.0  \n",
       "1           5.0  \n",
       "2          13.0  \n",
       "3          13.0  \n",
       "4         118.0  \n",
       "\n",
       "[5 rows x 26 columns]"
      ]
     },
     "execution_count": 27,
     "metadata": {},
     "output_type": "execute_result"
    }
   ],
   "source": [
    "# read in the main data file\n",
    "myDataTracking=pd.read_csv(myFileData)\n",
    "print(len(myDataTracking))\n",
    "myDataTracking.head()"
   ]
  },
  {
   "cell_type": "code",
   "execution_count": 30,
   "metadata": {},
   "outputs": [
    {
     "data": {
      "text/plain": [
       "['S:\\\\CookLab\\\\Liu\\\\20190816_organizedData_MCM_loading\\\\DATA\\\\20190506-MSL decon rename\\\\results',\n",
       " 'S:\\\\CookLab\\\\Liu\\\\20190816_organizedData_MCM_loading\\\\DATA\\\\20190607-MSL decon rename\\\\results',\n",
       " 'S:\\\\CookLab\\\\Liu\\\\20190816_organizedData_MCM_loading\\\\DATA\\\\20190609-MSL decon rename\\\\results',\n",
       " 'S:\\\\CookLab\\\\Liu\\\\20190816_organizedData_MCM_loading\\\\DATA\\\\20190625-MSL decon rename\\\\results',\n",
       " 'S:\\\\CookLab\\\\Liu\\\\20190816_organizedData_MCM_loading\\\\DATA\\\\20190701-MSL decon rename\\\\results',\n",
       " 'S:\\\\CookLab\\\\Liu\\\\20190816_organizedData_MCM_loading\\\\DATA\\\\20190712-MSL decon rename\\\\results',\n",
       " 'S:\\\\CookLab\\\\Liu\\\\20190816_organizedData_MCM_loading\\\\DATA\\\\20190716-MSL decon rename\\\\results']"
      ]
     },
     "execution_count": 30,
     "metadata": {},
     "output_type": "execute_result"
    }
   ],
   "source": [
    "pathsList=[os.path.join(myDirMain,x,'results') for x in myDirList]\n",
    "pathsList"
   ]
  },
  {
   "cell_type": "markdown",
   "metadata": {},
   "source": [
    "Read all the data - original csv files contain measurements for each frame."
   ]
  },
  {
   "cell_type": "code",
   "execution_count": 43,
   "metadata": {},
   "outputs": [
    {
     "name": "stdout",
     "output_type": "stream",
     "text": [
      "17\n",
      "30\n",
      "16\n",
      "28\n",
      "31\n",
      "31\n",
      "17\n"
     ]
    }
   ],
   "source": [
    "myData=pd.DataFrame()\n",
    "\n",
    "for myDir in pathsList:\n",
    "\n",
    "    myFiles = [f for f in listdir(myDir) if ('nucleusSignal' in f)]\n",
    "    print(len(myFiles))\n",
    "\n",
    "    for f in myFiles:\n",
    "\n",
    "        myData_temp=pd.read_csv(join(myDir, f))\n",
    "        myData_temp['file']=f\n",
    "        myData_temp['total']=myData_temp.Area*myData_temp.Mean;\n",
    "        myData_temp['localization']='nucleus'\n",
    "\n",
    "        try:\n",
    "            myData = pd.concat([myData,myData_temp],sort=False)\n",
    "        except:\n",
    "            myData = myData_temp.copy()\n",
    "\n",
    "        # add euchromatin\n",
    "        myData_temp=pd.read_csv(join(myDir, f.replace(\"nucleus\", \"euChrom\")))\n",
    "        myData_temp['file']=f\n",
    "        myData_temp['total']=myData_temp.Area*myData_temp.Mean;\n",
    "        myData_temp['localization']='eu'\n",
    "\n",
    "        myData = pd.concat([myData,myData_temp],sort=False)\n",
    "\n",
    "        # add heterochromatin\n",
    "        myData_temp=pd.read_csv(join(myDir, f.replace(\"nucleus\", \"hetChrom\")))\n",
    "        myData_temp['file']=f\n",
    "        myData_temp['total']=myData_temp.Area*myData_temp.Mean;\n",
    "        myData_temp['localization']='het'\n",
    "\n",
    "        myData = pd.concat([myData,myData_temp],sort=False)\n",
    "    "
   ]
  },
  {
   "cell_type": "code",
   "execution_count": 44,
   "metadata": {},
   "outputs": [
    {
     "name": "stdout",
     "output_type": "stream",
     "text": [
      "14204\n"
     ]
    },
    {
     "data": {
      "text/html": [
       "<div>\n",
       "<style scoped>\n",
       "    .dataframe tbody tr th:only-of-type {\n",
       "        vertical-align: middle;\n",
       "    }\n",
       "\n",
       "    .dataframe tbody tr th {\n",
       "        vertical-align: top;\n",
       "    }\n",
       "\n",
       "    .dataframe thead th {\n",
       "        text-align: right;\n",
       "    }\n",
       "</style>\n",
       "<table border=\"1\" class=\"dataframe\">\n",
       "  <thead>\n",
       "    <tr style=\"text-align: right;\">\n",
       "      <th></th>\n",
       "      <th>Area</th>\n",
       "      <th>Mean</th>\n",
       "      <th>StdDev</th>\n",
       "      <th>Mode</th>\n",
       "      <th>Slice</th>\n",
       "      <th>file</th>\n",
       "      <th>total</th>\n",
       "      <th>localization</th>\n",
       "    </tr>\n",
       "  </thead>\n",
       "  <tbody>\n",
       "    <tr>\n",
       "      <th>0</th>\n",
       "      <td>8206</td>\n",
       "      <td>78.088</td>\n",
       "      <td>24.206</td>\n",
       "      <td>67.660</td>\n",
       "      <td>3</td>\n",
       "      <td>20190506_cellde-11.czi_nucleusSignal.csv</td>\n",
       "      <td>640790.128</td>\n",
       "      <td>nucleus</td>\n",
       "    </tr>\n",
       "    <tr>\n",
       "      <th>1</th>\n",
       "      <td>25875</td>\n",
       "      <td>91.764</td>\n",
       "      <td>28.074</td>\n",
       "      <td>84.153</td>\n",
       "      <td>4</td>\n",
       "      <td>20190506_cellde-11.czi_nucleusSignal.csv</td>\n",
       "      <td>2374393.500</td>\n",
       "      <td>nucleus</td>\n",
       "    </tr>\n",
       "    <tr>\n",
       "      <th>2</th>\n",
       "      <td>27753</td>\n",
       "      <td>115.119</td>\n",
       "      <td>37.546</td>\n",
       "      <td>91.601</td>\n",
       "      <td>5</td>\n",
       "      <td>20190506_cellde-11.czi_nucleusSignal.csv</td>\n",
       "      <td>3194897.607</td>\n",
       "      <td>nucleus</td>\n",
       "    </tr>\n",
       "    <tr>\n",
       "      <th>3</th>\n",
       "      <td>29094</td>\n",
       "      <td>152.609</td>\n",
       "      <td>57.771</td>\n",
       "      <td>140.143</td>\n",
       "      <td>6</td>\n",
       "      <td>20190506_cellde-11.czi_nucleusSignal.csv</td>\n",
       "      <td>4440006.246</td>\n",
       "      <td>nucleus</td>\n",
       "    </tr>\n",
       "    <tr>\n",
       "      <th>4</th>\n",
       "      <td>29942</td>\n",
       "      <td>202.539</td>\n",
       "      <td>89.378</td>\n",
       "      <td>173.634</td>\n",
       "      <td>7</td>\n",
       "      <td>20190506_cellde-11.czi_nucleusSignal.csv</td>\n",
       "      <td>6064422.738</td>\n",
       "      <td>nucleus</td>\n",
       "    </tr>\n",
       "  </tbody>\n",
       "</table>\n",
       "</div>"
      ],
      "text/plain": [
       "    Area     Mean  StdDev     Mode  Slice  \\\n",
       "0   8206   78.088  24.206   67.660      3   \n",
       "1  25875   91.764  28.074   84.153      4   \n",
       "2  27753  115.119  37.546   91.601      5   \n",
       "3  29094  152.609  57.771  140.143      6   \n",
       "4  29942  202.539  89.378  173.634      7   \n",
       "\n",
       "                                       file        total localization  \n",
       "0  20190506_cellde-11.czi_nucleusSignal.csv   640790.128      nucleus  \n",
       "1  20190506_cellde-11.czi_nucleusSignal.csv  2374393.500      nucleus  \n",
       "2  20190506_cellde-11.czi_nucleusSignal.csv  3194897.607      nucleus  \n",
       "3  20190506_cellde-11.czi_nucleusSignal.csv  4440006.246      nucleus  \n",
       "4  20190506_cellde-11.czi_nucleusSignal.csv  6064422.738      nucleus  "
      ]
     },
     "execution_count": 44,
     "metadata": {},
     "output_type": "execute_result"
    }
   ],
   "source": [
    "print(len(myData))\n",
    "myData.head()"
   ]
  },
  {
   "cell_type": "markdown",
   "metadata": {},
   "source": [
    "Summarize data for each cell and then calculate ratios."
   ]
  },
  {
   "cell_type": "code",
   "execution_count": 45,
   "metadata": {},
   "outputs": [],
   "source": [
    "myData_cells=myData.groupby(['file','localization'], as_index=False).sum()"
   ]
  },
  {
   "cell_type": "code",
   "execution_count": 46,
   "metadata": {},
   "outputs": [
    {
     "name": "stdout",
     "output_type": "stream",
     "text": [
      "510\n"
     ]
    },
    {
     "data": {
      "text/html": [
       "<div>\n",
       "<style scoped>\n",
       "    .dataframe tbody tr th:only-of-type {\n",
       "        vertical-align: middle;\n",
       "    }\n",
       "\n",
       "    .dataframe tbody tr th {\n",
       "        vertical-align: top;\n",
       "    }\n",
       "\n",
       "    .dataframe thead th {\n",
       "        text-align: right;\n",
       "    }\n",
       "</style>\n",
       "<table border=\"1\" class=\"dataframe\">\n",
       "  <thead>\n",
       "    <tr style=\"text-align: right;\">\n",
       "      <th></th>\n",
       "      <th>file</th>\n",
       "      <th>localization</th>\n",
       "      <th>Area</th>\n",
       "      <th>Mean</th>\n",
       "      <th>StdDev</th>\n",
       "      <th>Mode</th>\n",
       "      <th>Slice</th>\n",
       "      <th>total</th>\n",
       "    </tr>\n",
       "  </thead>\n",
       "  <tbody>\n",
       "    <tr>\n",
       "      <th>0</th>\n",
       "      <td>20190506_cellde-01.czi_nucleusSignal.csv</td>\n",
       "      <td>eu</td>\n",
       "      <td>554048</td>\n",
       "      <td>5042.030</td>\n",
       "      <td>2509.466</td>\n",
       "      <td>4108.760</td>\n",
       "      <td>675</td>\n",
       "      <td>1.017983e+08</td>\n",
       "    </tr>\n",
       "    <tr>\n",
       "      <th>1</th>\n",
       "      <td>20190506_cellde-01.czi_nucleusSignal.csv</td>\n",
       "      <td>het</td>\n",
       "      <td>9928</td>\n",
       "      <td>4682.191</td>\n",
       "      <td>1594.459</td>\n",
       "      <td>3828.503</td>\n",
       "      <td>506</td>\n",
       "      <td>2.090623e+06</td>\n",
       "    </tr>\n",
       "    <tr>\n",
       "      <th>2</th>\n",
       "      <td>20190506_cellde-01.czi_nucleusSignal.csv</td>\n",
       "      <td>nucleus</td>\n",
       "      <td>563976</td>\n",
       "      <td>5047.318</td>\n",
       "      <td>2499.840</td>\n",
       "      <td>4113.269</td>\n",
       "      <td>675</td>\n",
       "      <td>1.038889e+08</td>\n",
       "    </tr>\n",
       "    <tr>\n",
       "      <th>3</th>\n",
       "      <td>20190506_cellde-02.czi_nucleusSignal.csv</td>\n",
       "      <td>eu</td>\n",
       "      <td>533942</td>\n",
       "      <td>3394.558</td>\n",
       "      <td>1719.187</td>\n",
       "      <td>2555.893</td>\n",
       "      <td>675</td>\n",
       "      <td>6.523825e+07</td>\n",
       "    </tr>\n",
       "    <tr>\n",
       "      <th>4</th>\n",
       "      <td>20190506_cellde-02.czi_nucleusSignal.csv</td>\n",
       "      <td>het</td>\n",
       "      <td>3938</td>\n",
       "      <td>3086.519</td>\n",
       "      <td>1079.472</td>\n",
       "      <td>2464.579</td>\n",
       "      <td>462</td>\n",
       "      <td>6.038584e+05</td>\n",
       "    </tr>\n",
       "  </tbody>\n",
       "</table>\n",
       "</div>"
      ],
      "text/plain": [
       "                                       file localization    Area      Mean  \\\n",
       "0  20190506_cellde-01.czi_nucleusSignal.csv           eu  554048  5042.030   \n",
       "1  20190506_cellde-01.czi_nucleusSignal.csv          het    9928  4682.191   \n",
       "2  20190506_cellde-01.czi_nucleusSignal.csv      nucleus  563976  5047.318   \n",
       "3  20190506_cellde-02.czi_nucleusSignal.csv           eu  533942  3394.558   \n",
       "4  20190506_cellde-02.czi_nucleusSignal.csv          het    3938  3086.519   \n",
       "\n",
       "     StdDev      Mode  Slice         total  \n",
       "0  2509.466  4108.760    675  1.017983e+08  \n",
       "1  1594.459  3828.503    506  2.090623e+06  \n",
       "2  2499.840  4113.269    675  1.038889e+08  \n",
       "3  1719.187  2555.893    675  6.523825e+07  \n",
       "4  1079.472  2464.579    462  6.038584e+05  "
      ]
     },
     "execution_count": 46,
     "metadata": {},
     "output_type": "execute_result"
    }
   ],
   "source": [
    "print(len(myData_cells))\n",
    "myData_cells.head()"
   ]
  },
  {
   "cell_type": "code",
   "execution_count": 47,
   "metadata": {},
   "outputs": [],
   "source": [
    "def group_norm(group):\n",
    "    # find norm factors/group\n",
    "    area_norm_factor=np.array(group.loc[group.localization=='nucleus','Area'])[0]\n",
    "    signal_norm_factor=np.array(group.loc[group.localization=='nucleus','total'])[0]\n",
    "    #modify dataframe\n",
    "    group['volume_norm']=group.Area/area_norm_factor\n",
    "    group['signal_norm']=group.total/signal_norm_factor\n",
    "    return group"
   ]
  },
  {
   "cell_type": "code",
   "execution_count": 51,
   "metadata": {},
   "outputs": [],
   "source": [
    "myData_conf=myData_cells.groupby(['file'],as_index=False).apply(group_norm)"
   ]
  },
  {
   "cell_type": "code",
   "execution_count": 57,
   "metadata": {},
   "outputs": [
    {
     "name": "stdout",
     "output_type": "stream",
     "text": [
      "510\n"
     ]
    },
    {
     "data": {
      "text/html": [
       "<div>\n",
       "<style scoped>\n",
       "    .dataframe tbody tr th:only-of-type {\n",
       "        vertical-align: middle;\n",
       "    }\n",
       "\n",
       "    .dataframe tbody tr th {\n",
       "        vertical-align: top;\n",
       "    }\n",
       "\n",
       "    .dataframe thead th {\n",
       "        text-align: right;\n",
       "    }\n",
       "</style>\n",
       "<table border=\"1\" class=\"dataframe\">\n",
       "  <thead>\n",
       "    <tr style=\"text-align: right;\">\n",
       "      <th></th>\n",
       "      <th>file</th>\n",
       "      <th>localization</th>\n",
       "      <th>Area</th>\n",
       "      <th>Mean</th>\n",
       "      <th>StdDev</th>\n",
       "      <th>Mode</th>\n",
       "      <th>Slice</th>\n",
       "      <th>total</th>\n",
       "      <th>volume_norm</th>\n",
       "      <th>signal_norm</th>\n",
       "      <th>orgFile</th>\n",
       "    </tr>\n",
       "  </thead>\n",
       "  <tbody>\n",
       "    <tr>\n",
       "      <th>0</th>\n",
       "      <td>20190506_cellde-01.czi_nucleusSignal.csv</td>\n",
       "      <td>eu</td>\n",
       "      <td>554048</td>\n",
       "      <td>5042.030</td>\n",
       "      <td>2509.466</td>\n",
       "      <td>4108.760</td>\n",
       "      <td>675</td>\n",
       "      <td>1.017983e+08</td>\n",
       "      <td>0.982396</td>\n",
       "      <td>0.979876</td>\n",
       "      <td>20190506_cellde-01.czi</td>\n",
       "    </tr>\n",
       "    <tr>\n",
       "      <th>1</th>\n",
       "      <td>20190506_cellde-01.czi_nucleusSignal.csv</td>\n",
       "      <td>het</td>\n",
       "      <td>9928</td>\n",
       "      <td>4682.191</td>\n",
       "      <td>1594.459</td>\n",
       "      <td>3828.503</td>\n",
       "      <td>506</td>\n",
       "      <td>2.090623e+06</td>\n",
       "      <td>0.017604</td>\n",
       "      <td>0.020124</td>\n",
       "      <td>20190506_cellde-01.czi</td>\n",
       "    </tr>\n",
       "    <tr>\n",
       "      <th>2</th>\n",
       "      <td>20190506_cellde-01.czi_nucleusSignal.csv</td>\n",
       "      <td>nucleus</td>\n",
       "      <td>563976</td>\n",
       "      <td>5047.318</td>\n",
       "      <td>2499.840</td>\n",
       "      <td>4113.269</td>\n",
       "      <td>675</td>\n",
       "      <td>1.038889e+08</td>\n",
       "      <td>1.000000</td>\n",
       "      <td>1.000000</td>\n",
       "      <td>20190506_cellde-01.czi</td>\n",
       "    </tr>\n",
       "    <tr>\n",
       "      <th>3</th>\n",
       "      <td>20190506_cellde-02.czi_nucleusSignal.csv</td>\n",
       "      <td>eu</td>\n",
       "      <td>533942</td>\n",
       "      <td>3394.558</td>\n",
       "      <td>1719.187</td>\n",
       "      <td>2555.893</td>\n",
       "      <td>675</td>\n",
       "      <td>6.523825e+07</td>\n",
       "      <td>0.992679</td>\n",
       "      <td>0.990828</td>\n",
       "      <td>20190506_cellde-02.czi</td>\n",
       "    </tr>\n",
       "    <tr>\n",
       "      <th>4</th>\n",
       "      <td>20190506_cellde-02.czi_nucleusSignal.csv</td>\n",
       "      <td>het</td>\n",
       "      <td>3938</td>\n",
       "      <td>3086.519</td>\n",
       "      <td>1079.472</td>\n",
       "      <td>2464.579</td>\n",
       "      <td>462</td>\n",
       "      <td>6.038584e+05</td>\n",
       "      <td>0.007321</td>\n",
       "      <td>0.009171</td>\n",
       "      <td>20190506_cellde-02.czi</td>\n",
       "    </tr>\n",
       "  </tbody>\n",
       "</table>\n",
       "</div>"
      ],
      "text/plain": [
       "                                       file localization    Area      Mean  \\\n",
       "0  20190506_cellde-01.czi_nucleusSignal.csv           eu  554048  5042.030   \n",
       "1  20190506_cellde-01.czi_nucleusSignal.csv          het    9928  4682.191   \n",
       "2  20190506_cellde-01.czi_nucleusSignal.csv      nucleus  563976  5047.318   \n",
       "3  20190506_cellde-02.czi_nucleusSignal.csv           eu  533942  3394.558   \n",
       "4  20190506_cellde-02.czi_nucleusSignal.csv          het    3938  3086.519   \n",
       "\n",
       "     StdDev      Mode  Slice         total  volume_norm  signal_norm  \\\n",
       "0  2509.466  4108.760    675  1.017983e+08     0.982396     0.979876   \n",
       "1  1594.459  3828.503    506  2.090623e+06     0.017604     0.020124   \n",
       "2  2499.840  4113.269    675  1.038889e+08     1.000000     1.000000   \n",
       "3  1719.187  2555.893    675  6.523825e+07     0.992679     0.990828   \n",
       "4  1079.472  2464.579    462  6.038584e+05     0.007321     0.009171   \n",
       "\n",
       "                  orgFile  \n",
       "0  20190506_cellde-01.czi  \n",
       "1  20190506_cellde-01.czi  \n",
       "2  20190506_cellde-01.czi  \n",
       "3  20190506_cellde-02.czi  \n",
       "4  20190506_cellde-02.czi  "
      ]
     },
     "execution_count": 57,
     "metadata": {},
     "output_type": "execute_result"
    }
   ],
   "source": [
    "print(len(myData_conf))\n",
    "myData_conf.head()"
   ]
  },
  {
   "cell_type": "code",
   "execution_count": 50,
   "metadata": {},
   "outputs": [
    {
     "data": {
      "text/plain": [
       "170.0"
      ]
     },
     "execution_count": 50,
     "metadata": {},
     "output_type": "execute_result"
    }
   ],
   "source": [
    "510/3"
   ]
  },
  {
   "cell_type": "code",
   "execution_count": 60,
   "metadata": {},
   "outputs": [],
   "source": [
    "# merge data frames\n",
    "myData_conf['orgFile']=[f'{x[:-18]}.ims' for x in myData_conf.file]\n",
    "dataMerged=pd.merge(myDataTracking,myData_conf,left_on='file',right_on='orgFile')"
   ]
  },
  {
   "cell_type": "code",
   "execution_count": 62,
   "metadata": {},
   "outputs": [
    {
     "name": "stdout",
     "output_type": "stream",
     "text": [
      "375\n"
     ]
    },
    {
     "data": {
      "text/html": [
       "<div>\n",
       "<style scoped>\n",
       "    .dataframe tbody tr th:only-of-type {\n",
       "        vertical-align: middle;\n",
       "    }\n",
       "\n",
       "    .dataframe tbody tr th {\n",
       "        vertical-align: top;\n",
       "    }\n",
       "\n",
       "    .dataframe thead th {\n",
       "        text-align: right;\n",
       "    }\n",
       "</style>\n",
       "<table border=\"1\" class=\"dataframe\">\n",
       "  <thead>\n",
       "    <tr style=\"text-align: right;\">\n",
       "      <th></th>\n",
       "      <th>Unnamed: 0</th>\n",
       "      <th>file_x</th>\n",
       "      <th>original cell name</th>\n",
       "      <th>Amy_mod</th>\n",
       "      <th>movie</th>\n",
       "      <th>x</th>\n",
       "      <th>y</th>\n",
       "      <th>ab1 (heterochromatin)</th>\n",
       "      <th>ab1 ch</th>\n",
       "      <th>ab2 (MCM)</th>\n",
       "      <th>...</th>\n",
       "      <th>localization</th>\n",
       "      <th>Area</th>\n",
       "      <th>Mean</th>\n",
       "      <th>StdDev</th>\n",
       "      <th>Mode</th>\n",
       "      <th>Slice</th>\n",
       "      <th>total</th>\n",
       "      <th>volume_norm</th>\n",
       "      <th>signal_norm</th>\n",
       "      <th>orgFile</th>\n",
       "    </tr>\n",
       "  </thead>\n",
       "  <tbody>\n",
       "    <tr>\n",
       "      <th>0</th>\n",
       "      <td>38</td>\n",
       "      <td>20190625_cellde-00.czi.ims</td>\n",
       "      <td>10_7LE1(B)</td>\n",
       "      <td>0</td>\n",
       "      <td>190619-cdc6-dhb-pcna002xy09</td>\n",
       "      <td>172.0</td>\n",
       "      <td>956.0</td>\n",
       "      <td>HP1B</td>\n",
       "      <td>1.0</td>\n",
       "      <td>MCM3</td>\n",
       "      <td>...</td>\n",
       "      <td>eu</td>\n",
       "      <td>694950</td>\n",
       "      <td>74053.932</td>\n",
       "      <td>37917.029</td>\n",
       "      <td>54307.345</td>\n",
       "      <td>893</td>\n",
       "      <td>1.576061e+09</td>\n",
       "      <td>0.990352</td>\n",
       "      <td>0.982410</td>\n",
       "      <td>20190625_cellde-00.czi.ims</td>\n",
       "    </tr>\n",
       "    <tr>\n",
       "      <th>1</th>\n",
       "      <td>38</td>\n",
       "      <td>20190625_cellde-00.czi.ims</td>\n",
       "      <td>10_7LE1(B)</td>\n",
       "      <td>0</td>\n",
       "      <td>190619-cdc6-dhb-pcna002xy09</td>\n",
       "      <td>172.0</td>\n",
       "      <td>956.0</td>\n",
       "      <td>HP1B</td>\n",
       "      <td>1.0</td>\n",
       "      <td>MCM3</td>\n",
       "      <td>...</td>\n",
       "      <td>het</td>\n",
       "      <td>6770</td>\n",
       "      <td>71760.045</td>\n",
       "      <td>23390.747</td>\n",
       "      <td>61642.250</td>\n",
       "      <td>459</td>\n",
       "      <td>2.821993e+07</td>\n",
       "      <td>0.009648</td>\n",
       "      <td>0.017590</td>\n",
       "      <td>20190625_cellde-00.czi.ims</td>\n",
       "    </tr>\n",
       "    <tr>\n",
       "      <th>2</th>\n",
       "      <td>38</td>\n",
       "      <td>20190625_cellde-00.czi.ims</td>\n",
       "      <td>10_7LE1(B)</td>\n",
       "      <td>0</td>\n",
       "      <td>190619-cdc6-dhb-pcna002xy09</td>\n",
       "      <td>172.0</td>\n",
       "      <td>956.0</td>\n",
       "      <td>HP1B</td>\n",
       "      <td>1.0</td>\n",
       "      <td>MCM3</td>\n",
       "      <td>...</td>\n",
       "      <td>nucleus</td>\n",
       "      <td>701720</td>\n",
       "      <td>74269.778</td>\n",
       "      <td>37856.180</td>\n",
       "      <td>54545.051</td>\n",
       "      <td>893</td>\n",
       "      <td>1.604280e+09</td>\n",
       "      <td>1.000000</td>\n",
       "      <td>1.000000</td>\n",
       "      <td>20190625_cellde-00.czi.ims</td>\n",
       "    </tr>\n",
       "    <tr>\n",
       "      <th>3</th>\n",
       "      <td>39</td>\n",
       "      <td>20190625_cellde-01.czi.ims</td>\n",
       "      <td>10_7L-E1(T)</td>\n",
       "      <td>0</td>\n",
       "      <td>190619-cdc6-dhb-pcna002xy09</td>\n",
       "      <td>158.0</td>\n",
       "      <td>906.0</td>\n",
       "      <td>HP1B</td>\n",
       "      <td>1.0</td>\n",
       "      <td>MCM3</td>\n",
       "      <td>...</td>\n",
       "      <td>eu</td>\n",
       "      <td>649489</td>\n",
       "      <td>77893.928</td>\n",
       "      <td>45591.068</td>\n",
       "      <td>58442.251</td>\n",
       "      <td>888</td>\n",
       "      <td>1.521750e+09</td>\n",
       "      <td>0.992260</td>\n",
       "      <td>0.987037</td>\n",
       "      <td>20190625_cellde-01.czi.ims</td>\n",
       "    </tr>\n",
       "    <tr>\n",
       "      <th>4</th>\n",
       "      <td>39</td>\n",
       "      <td>20190625_cellde-01.czi.ims</td>\n",
       "      <td>10_7L-E1(T)</td>\n",
       "      <td>0</td>\n",
       "      <td>190619-cdc6-dhb-pcna002xy09</td>\n",
       "      <td>158.0</td>\n",
       "      <td>906.0</td>\n",
       "      <td>HP1B</td>\n",
       "      <td>1.0</td>\n",
       "      <td>MCM3</td>\n",
       "      <td>...</td>\n",
       "      <td>het</td>\n",
       "      <td>5066</td>\n",
       "      <td>75660.414</td>\n",
       "      <td>22221.724</td>\n",
       "      <td>62708.303</td>\n",
       "      <td>475</td>\n",
       "      <td>1.998535e+07</td>\n",
       "      <td>0.007740</td>\n",
       "      <td>0.012963</td>\n",
       "      <td>20190625_cellde-01.czi.ims</td>\n",
       "    </tr>\n",
       "  </tbody>\n",
       "</table>\n",
       "<p>5 rows × 37 columns</p>\n",
       "</div>"
      ],
      "text/plain": [
       "   Unnamed: 0                      file_x original cell name Amy_mod  \\\n",
       "0          38  20190625_cellde-00.czi.ims         10_7LE1(B)       0   \n",
       "1          38  20190625_cellde-00.czi.ims         10_7LE1(B)       0   \n",
       "2          38  20190625_cellde-00.czi.ims         10_7LE1(B)       0   \n",
       "3          39  20190625_cellde-01.czi.ims        10_7L-E1(T)       0   \n",
       "4          39  20190625_cellde-01.czi.ims        10_7L-E1(T)       0   \n",
       "\n",
       "                         movie      x      y ab1 (heterochromatin)  ab1 ch  \\\n",
       "0  190619-cdc6-dhb-pcna002xy09  172.0  956.0                  HP1B     1.0   \n",
       "1  190619-cdc6-dhb-pcna002xy09  172.0  956.0                  HP1B     1.0   \n",
       "2  190619-cdc6-dhb-pcna002xy09  172.0  956.0                  HP1B     1.0   \n",
       "3  190619-cdc6-dhb-pcna002xy09  158.0  906.0                  HP1B     1.0   \n",
       "4  190619-cdc6-dhb-pcna002xy09  158.0  906.0                  HP1B     1.0   \n",
       "\n",
       "  ab2 (MCM)  ...  localization    Area       Mean     StdDev       Mode  \\\n",
       "0      MCM3  ...            eu  694950  74053.932  37917.029  54307.345   \n",
       "1      MCM3  ...           het    6770  71760.045  23390.747  61642.250   \n",
       "2      MCM3  ...       nucleus  701720  74269.778  37856.180  54545.051   \n",
       "3      MCM3  ...            eu  649489  77893.928  45591.068  58442.251   \n",
       "4      MCM3  ...           het    5066  75660.414  22221.724  62708.303   \n",
       "\n",
       "   Slice         total  volume_norm signal_norm                     orgFile  \n",
       "0    893  1.576061e+09     0.990352    0.982410  20190625_cellde-00.czi.ims  \n",
       "1    459  2.821993e+07     0.009648    0.017590  20190625_cellde-00.czi.ims  \n",
       "2    893  1.604280e+09     1.000000    1.000000  20190625_cellde-00.czi.ims  \n",
       "3    888  1.521750e+09     0.992260    0.987037  20190625_cellde-01.czi.ims  \n",
       "4    475  1.998535e+07     0.007740    0.012963  20190625_cellde-01.czi.ims  \n",
       "\n",
       "[5 rows x 37 columns]"
      ]
     },
     "execution_count": 62,
     "metadata": {},
     "output_type": "execute_result"
    }
   ],
   "source": [
    "print(len(dataMerged))\n",
    "dataMerged.head()"
   ]
  },
  {
   "cell_type": "markdown",
   "metadata": {},
   "source": [
    "### Plots"
   ]
  },
  {
   "cell_type": "markdown",
   "metadata": {},
   "source": [
    "Volume of heterochromatin vs euchromatin."
   ]
  },
  {
   "cell_type": "code",
   "execution_count": 67,
   "metadata": {},
   "outputs": [
    {
     "data": {
      "text/plain": [
       "Text(0.5, 1.0, 'early G1')"
      ]
     },
     "execution_count": 67,
     "metadata": {},
     "output_type": "execute_result"
    },
    {
     "data": {
      "image/png": "[encoded data removed]",
      "text/plain": [
       "<Figure size 1080x288 with 1 Axes>"
      ]
     },
     "metadata": {
      "needs_background": "light"
     },
     "output_type": "display_data"
    }
   ],
   "source": [
    "plt.figure(figsize=(15,4))\n",
    "sns.barplot(x=\"file_x\", y=\"Area\", hue=\"localization\", data=dataMerged.loc[dataMerged.category=='early G1'])\n",
    "plt.xticks(rotation='vertical')\n",
    "plt.title('early G1')"
   ]
  },
  {
   "cell_type": "code",
   "execution_count": 82,
   "metadata": {},
   "outputs": [
    {
     "data": {
      "text/plain": [
       "Text(0.5, 1.0, 'middle G1')"
      ]
     },
     "execution_count": 82,
     "metadata": {},
     "output_type": "execute_result"
    },
    {
     "data": {
      "image/png": "[encoded data removed]",
      "text/plain": [
       "<Figure size 1080x288 with 1 Axes>"
      ]
     },
     "metadata": {
      "needs_background": "light"
     },
     "output_type": "display_data"
    }
   ],
   "source": [
    "plt.figure(figsize=(15,4))\n",
    "sns.barplot(x=\"file_x\", y=\"Area\", hue=\"localization\", data=dataMerged.loc[dataMerged.category=='middle G1'])\n",
    "plt.xticks(rotation='vertical')\n",
    "plt.title('middle G1')"
   ]
  },
  {
   "cell_type": "code",
   "execution_count": 79,
   "metadata": {},
   "outputs": [
    {
     "data": {
      "text/plain": [
       "Text(0.5, 1.0, 'late G1')"
      ]
     },
     "execution_count": 79,
     "metadata": {},
     "output_type": "execute_result"
    },
    {
     "data": {
      "image/png": "[encoded data removed]",
      "text/plain": [
       "<Figure size 1080x288 with 1 Axes>"
      ]
     },
     "metadata": {
      "needs_background": "light"
     },
     "output_type": "display_data"
    }
   ],
   "source": [
    "plt.figure(figsize=(15,4))\n",
    "sns.barplot(x=\"file_x\", y=\"Area\", hue=\"localization\", data=dataMerged.loc[dataMerged.category=='late G1'])\n",
    "plt.xticks(rotation='vertical')\n",
    "plt.title('late G1')"
   ]
  },
  {
   "cell_type": "code",
   "execution_count": 71,
   "metadata": {},
   "outputs": [
    {
     "data": {
      "text/plain": [
       "Text(0.5, 1.0, 'G2')"
      ]
     },
     "execution_count": 71,
     "metadata": {},
     "output_type": "execute_result"
    },
    {
     "data": {
      "image/png": "[encoded data removed]",
      "text/plain": [
       "<Figure size 1080x288 with 1 Axes>"
      ]
     },
     "metadata": {
      "needs_background": "light"
     },
     "output_type": "display_data"
    }
   ],
   "source": [
    "plt.figure(figsize=(15,4))\n",
    "sns.barplot(x=\"file_x\", y=\"Area\", hue=\"localization\", data=dataMerged.loc[dataMerged.category=='G2'])\n",
    "plt.xticks(rotation='vertical')\n",
    "plt.title('G2')"
   ]
  },
  {
   "cell_type": "markdown",
   "metadata": {},
   "source": [
    "Plot ratios in different chromatin structures."
   ]
  },
  {
   "cell_type": "code",
   "execution_count": 75,
   "metadata": {},
   "outputs": [
    {
     "data": {
      "text/plain": [
       "Text(0.5, 1.0, 'early G1 MCM')"
      ]
     },
     "execution_count": 75,
     "metadata": {},
     "output_type": "execute_result"
    },
    {
     "data": {
      "image/png": "[encoded data removed]",
      "text/plain": [
       "<Figure size 1080x288 with 1 Axes>"
      ]
     },
     "metadata": {
      "needs_background": "light"
     },
     "output_type": "display_data"
    }
   ],
   "source": [
    "plt.figure(figsize=(15,4))\n",
    "sns.barplot(x=\"file_x\", y=\"total\", hue=\"localization\", data=dataMerged.loc[dataMerged.category=='early G1'])\n",
    "plt.xticks(rotation='vertical')\n",
    "plt.title('early G1 MCM')"
   ]
  },
  {
   "cell_type": "code",
   "execution_count": 77,
   "metadata": {},
   "outputs": [
    {
     "data": {
      "text/plain": [
       "Text(0.5, 1.0, 'middle G1 MCM')"
      ]
     },
     "execution_count": 77,
     "metadata": {},
     "output_type": "execute_result"
    },
    {
     "data": {
      "image/png": "[encoded data removed]",
      "text/plain": [
       "<Figure size 1080x288 with 1 Axes>"
      ]
     },
     "metadata": {
      "needs_background": "light"
     },
     "output_type": "display_data"
    }
   ],
   "source": [
    "plt.figure(figsize=(15,4))\n",
    "sns.barplot(x=\"file_x\", y=\"total\", hue=\"localization\", data=dataMerged.loc[dataMerged.category=='middle G1'])\n",
    "plt.xticks(rotation='vertical')\n",
    "plt.title('middle G1 MCM')"
   ]
  },
  {
   "cell_type": "code",
   "execution_count": 81,
   "metadata": {},
   "outputs": [
    {
     "data": {
      "text/plain": [
       "Text(0.5, 1.0, 'late G1 MCM')"
      ]
     },
     "execution_count": 81,
     "metadata": {},
     "output_type": "execute_result"
    },
    {
     "data": {
      "image/png": "[encoded data removed]",
      "text/plain": [
       "<Figure size 1080x288 with 1 Axes>"
      ]
     },
     "metadata": {
      "needs_background": "light"
     },
     "output_type": "display_data"
    }
   ],
   "source": [
    "plt.figure(figsize=(15,4))\n",
    "sns.barplot(x=\"file_x\", y=\"total\", hue=\"localization\", data=dataMerged.loc[dataMerged.category=='late G1'])\n",
    "plt.xticks(rotation='vertical')\n",
    "plt.title('late G1 MCM')"
   ]
  },
  {
   "cell_type": "code",
   "execution_count": 78,
   "metadata": {},
   "outputs": [
    {
     "data": {
      "text/plain": [
       "Text(0.5, 1.0, 'G2 MCM')"
      ]
     },
     "execution_count": 78,
     "metadata": {},
     "output_type": "execute_result"
    },
    {
     "data": {
      "image/png": "[encoded data removed]",
      "text/plain": [
       "<Figure size 1080x288 with 1 Axes>"
      ]
     },
     "metadata": {
      "needs_background": "light"
     },
     "output_type": "display_data"
    }
   ],
   "source": [
    "plt.figure(figsize=(15,4))\n",
    "sns.barplot(x=\"file_x\", y=\"total\", hue=\"localization\", data=dataMerged.loc[dataMerged.category=='G2'])\n",
    "plt.xticks(rotation='vertical')\n",
    "plt.title('G2 MCM')"
   ]
  },
  {
   "cell_type": "code",
   "execution_count": null,
   "metadata": {},
   "outputs": [],
   "source": []
  }
 ],
 "metadata": {
  "kernelspec": {
   "display_name": "Python 3",
   "language": "python",
   "name": "python3"
  },
  "language_info": {
   "codemirror_mode": {
    "name": "ipython",
    "version": 3
   },
   "file_extension": ".py",
   "mimetype": "text/x-python",
   "name": "python",
   "nbconvert_exporter": "python",
   "pygments_lexer": "ipython3",
   "version": "3.7.1"
  }
 },
 "nbformat": 4,
 "nbformat_minor": 2
}
