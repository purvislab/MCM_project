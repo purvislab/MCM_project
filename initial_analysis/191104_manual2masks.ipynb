{
 "cells": [
  {
   "cell_type": "code",
   "execution_count": 12,
   "metadata": {},
   "outputs": [],
   "source": [
    "import os\n",
    "from itertools import islice\n",
    "\n",
    "import numpy as np\n",
    "import pandas as pd\n",
    "\n",
    "from skimage.external import tifffile\n",
    "from scipy.ndimage import gaussian_filter\n",
    "\n",
    "import ipywidgets as widgets"
   ]
  },
  {
   "cell_type": "code",
   "execution_count": 2,
   "metadata": {},
   "outputs": [],
   "source": [
    "bigDir = r'S:\\CookLab\\Liu\\20190816_organizedData_MCM_loading\\DATA'\n",
    "thresholdsFile=r'S:\\CookLab\\Liu\\20190816_organizedData_MCM_loading\\sel_cells_ind_threshold.csv'"
   ]
  },
  {
   "cell_type": "code",
   "execution_count": 3,
   "metadata": {},
   "outputs": [
    {
     "data": {
      "text/html": [
       "<div>\n",
       "<style scoped>\n",
       "    .dataframe tbody tr th:only-of-type {\n",
       "        vertical-align: middle;\n",
       "    }\n",
       "\n",
       "    .dataframe tbody tr th {\n",
       "        vertical-align: top;\n",
       "    }\n",
       "\n",
       "    .dataframe thead th {\n",
       "        text-align: right;\n",
       "    }\n",
       "</style>\n",
       "<table border=\"1\" class=\"dataframe\">\n",
       "  <thead>\n",
       "    <tr style=\"text-align: right;\">\n",
       "      <th></th>\n",
       "      <th>Unnamed: 0.1.1.1.1.1.1.1.1.1.1.1</th>\n",
       "      <th>file</th>\n",
       "      <th>path</th>\n",
       "      <th>decon</th>\n",
       "      <th>threshold</th>\n",
       "    </tr>\n",
       "  </thead>\n",
       "  <tbody>\n",
       "    <tr>\n",
       "      <th>0</th>\n",
       "      <td>0</td>\n",
       "      <td>20190506_cellde-12.czi.ims</td>\n",
       "      <td>S:\\CookLab\\Liu\\20190816_organizedData_MCM_load...</td>\n",
       "      <td>True</td>\n",
       "      <td>491</td>\n",
       "    </tr>\n",
       "    <tr>\n",
       "      <th>1</th>\n",
       "      <td>1</td>\n",
       "      <td>20190625_cellde-07.czi.ims</td>\n",
       "      <td>S:\\CookLab\\Liu\\20190816_organizedData_MCM_load...</td>\n",
       "      <td>True</td>\n",
       "      <td>27609</td>\n",
       "    </tr>\n",
       "    <tr>\n",
       "      <th>2</th>\n",
       "      <td>2</td>\n",
       "      <td>20190609_cellde-15.ciz.tif</td>\n",
       "      <td>S:\\CookLab\\Liu\\20190816_organizedData_MCM_load...</td>\n",
       "      <td>False</td>\n",
       "      <td>418</td>\n",
       "    </tr>\n",
       "    <tr>\n",
       "      <th>3</th>\n",
       "      <td>3</td>\n",
       "      <td>201907012_cellde-00.ciz.ims</td>\n",
       "      <td>S:\\CookLab\\Liu\\20190816_organizedData_MCM_load...</td>\n",
       "      <td>True</td>\n",
       "      <td>8946</td>\n",
       "    </tr>\n",
       "    <tr>\n",
       "      <th>4</th>\n",
       "      <td>4</td>\n",
       "      <td>20190701_cellde-28.ciz.ims</td>\n",
       "      <td>S:\\CookLab\\Liu\\20190816_organizedData_MCM_load...</td>\n",
       "      <td>True</td>\n",
       "      <td>19384</td>\n",
       "    </tr>\n",
       "  </tbody>\n",
       "</table>\n",
       "</div>"
      ],
      "text/plain": [
       "   Unnamed: 0.1.1.1.1.1.1.1.1.1.1.1                         file  \\\n",
       "0                                 0   20190506_cellde-12.czi.ims   \n",
       "1                                 1   20190625_cellde-07.czi.ims   \n",
       "2                                 2   20190609_cellde-15.ciz.tif   \n",
       "3                                 3  201907012_cellde-00.ciz.ims   \n",
       "4                                 4   20190701_cellde-28.ciz.ims   \n",
       "\n",
       "                                                path  decon  threshold  \n",
       "0  S:\\CookLab\\Liu\\20190816_organizedData_MCM_load...   True        491  \n",
       "1  S:\\CookLab\\Liu\\20190816_organizedData_MCM_load...   True      27609  \n",
       "2  S:\\CookLab\\Liu\\20190816_organizedData_MCM_load...  False        418  \n",
       "3  S:\\CookLab\\Liu\\20190816_organizedData_MCM_load...   True       8946  \n",
       "4  S:\\CookLab\\Liu\\20190816_organizedData_MCM_load...   True      19384  "
      ]
     },
     "execution_count": 3,
     "metadata": {},
     "output_type": "execute_result"
    }
   ],
   "source": [
    "myData=pd.read_csv(thresholdsFile)\n",
    "myData.head()"
   ]
  },
  {
   "cell_type": "code",
   "execution_count": 4,
   "metadata": {},
   "outputs": [
    {
     "data": {
      "text/plain": [
       "'S:\\\\CookLab\\\\Liu\\\\20190816_organizedData_MCM_loading\\\\DATA\\\\20190625-MSL decon rename\\\\data_tiff\\\\20190625_cellde-07.czi.tif'"
      ]
     },
     "execution_count": 4,
     "metadata": {},
     "output_type": "execute_result"
    }
   ],
   "source": [
    "myData.loc[1,'path']"
   ]
  },
  {
   "cell_type": "code",
   "execution_count": 13,
   "metadata": {},
   "outputs": [
    {
     "data": {
      "application/vnd.jupyter.widget-view+json": {
       "model_id": "d9707efddfa74a29b956592e1bb1cb1d",
       "version_major": 2,
       "version_minor": 0
      },
      "text/plain": [
       "IntProgress(value=0, description='Progress:', max=300)"
      ]
     },
     "metadata": {},
     "output_type": "display_data"
    }
   ],
   "source": [
    "i=0\n",
    "\n",
    "# Progress Bar\n",
    "progBar=widgets.IntProgress(\n",
    "    value=i,\n",
    "    min=0,\n",
    "    max=len(myData),\n",
    "    step=1,\n",
    "    description='Progress:',\n",
    "    orientation='horizontal'\n",
    ")\n",
    "display(progBar)\n",
    "\n",
    "for i,myCell in islice(myData.iterrows(),i,None):\n",
    "    \n",
    "    # create results folder if needed\n",
    "    newSegFolder = os.path.dirname(myCell.path).replace('data_tiff','segmentation_manual')\n",
    "\n",
    "    try:\n",
    "        os.mkdir(newSegFolder)\n",
    "    except:\n",
    "        pass\n",
    "    \n",
    "    # open cell image\n",
    "    stack=tifffile.imread(myData.path[i])\n",
    "    stack=gaussian_filter(stack[:,0,:,:], sigma=1)\n",
    "    \n",
    "    # threshold\n",
    "    myHetMask=stack>myCell.threshold\n",
    "    \n",
    "    # save segmentation mask\n",
    "    maskFile = os.path.basename(myCell.path).replace('.tif',f'_hetChrom.tif')\n",
    "    tifffile.imsave(os.path.join(newSegFolder,maskFile), myHetMask.astype('uint8'))\n",
    "    \n",
    "    progBar.value=progBar.value+1\n",
    "    "
   ]
  },
  {
   "cell_type": "code",
   "execution_count": null,
   "metadata": {},
   "outputs": [],
   "source": []
  }
 ],
 "metadata": {
  "kernelspec": {
   "display_name": "Python 3",
   "language": "python",
   "name": "python3"
  },
  "language_info": {
   "codemirror_mode": {
    "name": "ipython",
    "version": 3
   },
   "file_extension": ".py",
   "mimetype": "text/x-python",
   "name": "python",
   "nbconvert_exporter": "python",
   "pygments_lexer": "ipython3",
   "version": "3.7.3"
  }
 },
 "nbformat": 4,
 "nbformat_minor": 2
}
