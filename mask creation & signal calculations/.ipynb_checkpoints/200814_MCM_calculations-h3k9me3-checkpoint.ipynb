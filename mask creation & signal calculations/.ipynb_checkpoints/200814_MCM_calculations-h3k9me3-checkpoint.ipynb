{
 "cells": [
  {
   "cell_type": "code",
   "execution_count": 7,
   "metadata": {},
   "outputs": [],
   "source": [
    "import os\n",
    "from os import listdir\n",
    "from os.path import isfile, join\n",
    "\n",
    "import pandas as pd\n",
    "from itertools import islice\n",
    "import numpy as np\n",
    "\n",
    "from skimage.external import tifffile\n",
    "from skimage.external.tifffile import imread\n",
    "\n",
    "import matplotlib.pyplot as plt\n",
    "\n",
    "import ipywidgets as widgets\n",
    "\n",
    "import random\n",
    "\n",
    "from scipy.ndimage.morphology import binary_erosion as br\n",
    "from skimage import morphology as skmor\n",
    "\n",
    "from scipy import ndimage\n",
    "from PIL import Image, ImageDraw\n",
    "\n",
    "import numpy.ma as ma\n",
    "\n",
    "from skimage.measure import label, regionprops"
   ]
  },
  {
   "cell_type": "markdown",
   "metadata": {},
   "source": [
    "## to calculate\n",
    "1.\tnucleus_MCM_total\n",
    "2.\touter_MCM_total\n",
    "3.\tinner_MCM_total\n",
    "4.\tnucleus_MCM_hetChrom\n",
    "5.\touter_MCM_hetChrom\n",
    "6.\tinner_MCM_hetChrom\n",
    "7.\tnucleus_MCM_euChrom\n",
    "8.\touter_MCM_euChrom\n",
    "9.\tinner_MCM_euChrom\n"
   ]
  },
  {
   "cell_type": "markdown",
   "metadata": {},
   "source": [
    "# H3K9ME3 "
   ]
  },
  {
   "cell_type": "code",
   "execution_count": 2,
   "metadata": {},
   "outputs": [],
   "source": [
    "bigDir=r'Z:\\CookLab\\Liu\\20190816_organizedData_MCM_loading\\20200604_h3k9me3'"
   ]
  },
  {
   "cell_type": "code",
   "execution_count": 3,
   "metadata": {},
   "outputs": [],
   "source": [
    "file=f'{bigDir}\\\\cellinfo_200604v3.csv'\n",
    "data=pd.read_csv(file)"
   ]
  },
  {
   "cell_type": "markdown",
   "metadata": {},
   "source": [
    "# H3K9ME3 2nd dataset"
   ]
  },
  {
   "cell_type": "code",
   "execution_count": 2,
   "metadata": {},
   "outputs": [],
   "source": [
    "bigDir=r'Z:\\CookLab\\Liu\\20190816_organizedData_MCM_loading\\20200615_h3k9me3'"
   ]
  },
  {
   "cell_type": "code",
   "execution_count": 8,
   "metadata": {},
   "outputs": [],
   "source": [
    "file2=f'{bigDir}\\\\cellinfo_200615v3.csv'\n",
    "data2=pd.read_csv(file2)"
   ]
  },
  {
   "cell_type": "code",
   "execution_count": 9,
   "metadata": {},
   "outputs": [
    {
     "data": {
      "text/html": [
       "<div>\n",
       "<style scoped>\n",
       "    .dataframe tbody tr th:only-of-type {\n",
       "        vertical-align: middle;\n",
       "    }\n",
       "\n",
       "    .dataframe tbody tr th {\n",
       "        vertical-align: top;\n",
       "    }\n",
       "\n",
       "    .dataframe thead th {\n",
       "        text-align: right;\n",
       "    }\n",
       "</style>\n",
       "<table border=\"1\" class=\"dataframe\">\n",
       "  <thead>\n",
       "    <tr style=\"text-align: right;\">\n",
       "      <th></th>\n",
       "      <th>Unnamed: 0</th>\n",
       "      <th>Unnamed: 0.1</th>\n",
       "      <th>file</th>\n",
       "      <th>original_name</th>\n",
       "      <th>movie</th>\n",
       "      <th>last frame movie position x</th>\n",
       "      <th>last frame movie position y</th>\n",
       "      <th>ab1 (MCM)</th>\n",
       "      <th>ab1 ch</th>\n",
       "      <th>ab2 (heterochromatin)</th>\n",
       "      <th>...</th>\n",
       "      <th>outer_vol_het</th>\n",
       "      <th>nuc_mcm_het</th>\n",
       "      <th>inner_mcm_het</th>\n",
       "      <th>outer_mcm_het</th>\n",
       "      <th>nuc_vol_eu</th>\n",
       "      <th>inner_vol_eu</th>\n",
       "      <th>outer_vol_eu</th>\n",
       "      <th>nuc_mcm_eu</th>\n",
       "      <th>inner_mcm_eu</th>\n",
       "      <th>outer_mcm_eu</th>\n",
       "    </tr>\n",
       "  </thead>\n",
       "  <tbody>\n",
       "    <tr>\n",
       "      <th>0</th>\n",
       "      <td>0</td>\n",
       "      <td>0</td>\n",
       "      <td>20200615_cell_00.ciz</td>\n",
       "      <td>20200615_29_11_63x.czi</td>\n",
       "      <td>200614xy29</td>\n",
       "      <td>1781.995</td>\n",
       "      <td>159.930</td>\n",
       "      <td>H3K9Me3</td>\n",
       "      <td>1</td>\n",
       "      <td>MCM2</td>\n",
       "      <td>...</td>\n",
       "      <td>30994.0</td>\n",
       "      <td>3.984920e+08</td>\n",
       "      <td>159515917.0</td>\n",
       "      <td>238976105.0</td>\n",
       "      <td>193173.0</td>\n",
       "      <td>24960.0</td>\n",
       "      <td>168213.0</td>\n",
       "      <td>7.672477e+08</td>\n",
       "      <td>213462279.0</td>\n",
       "      <td>5.537854e+08</td>\n",
       "    </tr>\n",
       "    <tr>\n",
       "      <th>1</th>\n",
       "      <td>1</td>\n",
       "      <td>1</td>\n",
       "      <td>20200615_cell_01.ciz</td>\n",
       "      <td>20200615_29_18_63x.czi</td>\n",
       "      <td>200614xy29</td>\n",
       "      <td>1534.667</td>\n",
       "      <td>302.703</td>\n",
       "      <td>H3K9Me3</td>\n",
       "      <td>1</td>\n",
       "      <td>MCM2</td>\n",
       "      <td>...</td>\n",
       "      <td>29160.0</td>\n",
       "      <td>6.000208e+08</td>\n",
       "      <td>302931639.0</td>\n",
       "      <td>297089113.0</td>\n",
       "      <td>213273.0</td>\n",
       "      <td>18604.0</td>\n",
       "      <td>194669.0</td>\n",
       "      <td>1.104509e+09</td>\n",
       "      <td>218566044.0</td>\n",
       "      <td>8.859426e+08</td>\n",
       "    </tr>\n",
       "    <tr>\n",
       "      <th>2</th>\n",
       "      <td>2</td>\n",
       "      <td>2</td>\n",
       "      <td>20200615_cell_02.ciz</td>\n",
       "      <td>20200615_29_23_63x.czi</td>\n",
       "      <td>200614xy29</td>\n",
       "      <td>558.209</td>\n",
       "      <td>366.997</td>\n",
       "      <td>H3K9Me3</td>\n",
       "      <td>1</td>\n",
       "      <td>MCM2</td>\n",
       "      <td>...</td>\n",
       "      <td>35870.0</td>\n",
       "      <td>9.286137e+08</td>\n",
       "      <td>407875170.0</td>\n",
       "      <td>520738572.0</td>\n",
       "      <td>227901.0</td>\n",
       "      <td>25767.0</td>\n",
       "      <td>202134.0</td>\n",
       "      <td>1.606101e+09</td>\n",
       "      <td>427398661.0</td>\n",
       "      <td>1.178703e+09</td>\n",
       "    </tr>\n",
       "    <tr>\n",
       "      <th>3</th>\n",
       "      <td>3</td>\n",
       "      <td>3</td>\n",
       "      <td>20200615_cell_03.ciz</td>\n",
       "      <td>20200615_29_24_63x.czi</td>\n",
       "      <td>200614xy29</td>\n",
       "      <td>1147.608</td>\n",
       "      <td>371.829</td>\n",
       "      <td>H3K9Me3</td>\n",
       "      <td>1</td>\n",
       "      <td>MCM2</td>\n",
       "      <td>...</td>\n",
       "      <td>32686.0</td>\n",
       "      <td>1.303478e+09</td>\n",
       "      <td>471494573.0</td>\n",
       "      <td>831983523.0</td>\n",
       "      <td>191006.0</td>\n",
       "      <td>20367.0</td>\n",
       "      <td>170639.0</td>\n",
       "      <td>2.438647e+09</td>\n",
       "      <td>641162396.0</td>\n",
       "      <td>1.797484e+09</td>\n",
       "    </tr>\n",
       "    <tr>\n",
       "      <th>4</th>\n",
       "      <td>4</td>\n",
       "      <td>4</td>\n",
       "      <td>20200615_cell_04.ciz</td>\n",
       "      <td>20200615_29_31_63x.czi</td>\n",
       "      <td>200614xy29</td>\n",
       "      <td>1649.449</td>\n",
       "      <td>469.520</td>\n",
       "      <td>H3K9Me3</td>\n",
       "      <td>1</td>\n",
       "      <td>MCM2</td>\n",
       "      <td>...</td>\n",
       "      <td>25166.0</td>\n",
       "      <td>8.812898e+08</td>\n",
       "      <td>568747640.0</td>\n",
       "      <td>312542147.0</td>\n",
       "      <td>248842.0</td>\n",
       "      <td>24887.0</td>\n",
       "      <td>223955.0</td>\n",
       "      <td>1.269950e+09</td>\n",
       "      <td>287470979.0</td>\n",
       "      <td>9.824787e+08</td>\n",
       "    </tr>\n",
       "  </tbody>\n",
       "</table>\n",
       "<p>5 rows × 38 columns</p>\n",
       "</div>"
      ],
      "text/plain": [
       "   Unnamed: 0  Unnamed: 0.1                  file           original_name  \\\n",
       "0           0             0  20200615_cell_00.ciz  20200615_29_11_63x.czi   \n",
       "1           1             1  20200615_cell_01.ciz  20200615_29_18_63x.czi   \n",
       "2           2             2  20200615_cell_02.ciz  20200615_29_23_63x.czi   \n",
       "3           3             3  20200615_cell_03.ciz  20200615_29_24_63x.czi   \n",
       "4           4             4  20200615_cell_04.ciz  20200615_29_31_63x.czi   \n",
       "\n",
       "        movie  last frame movie position x  last frame movie position y  \\\n",
       "0  200614xy29                     1781.995                      159.930   \n",
       "1  200614xy29                     1534.667                      302.703   \n",
       "2  200614xy29                      558.209                      366.997   \n",
       "3  200614xy29                     1147.608                      371.829   \n",
       "4  200614xy29                     1649.449                      469.520   \n",
       "\n",
       "  ab1 (MCM)  ab1 ch ab2 (heterochromatin)  ...  outer_vol_het   nuc_mcm_het  \\\n",
       "0   H3K9Me3       1                  MCM2  ...        30994.0  3.984920e+08   \n",
       "1   H3K9Me3       1                  MCM2  ...        29160.0  6.000208e+08   \n",
       "2   H3K9Me3       1                  MCM2  ...        35870.0  9.286137e+08   \n",
       "3   H3K9Me3       1                  MCM2  ...        32686.0  1.303478e+09   \n",
       "4   H3K9Me3       1                  MCM2  ...        25166.0  8.812898e+08   \n",
       "\n",
       "  inner_mcm_het  outer_mcm_het nuc_vol_eu inner_vol_eu  outer_vol_eu  \\\n",
       "0   159515917.0    238976105.0   193173.0      24960.0      168213.0   \n",
       "1   302931639.0    297089113.0   213273.0      18604.0      194669.0   \n",
       "2   407875170.0    520738572.0   227901.0      25767.0      202134.0   \n",
       "3   471494573.0    831983523.0   191006.0      20367.0      170639.0   \n",
       "4   568747640.0    312542147.0   248842.0      24887.0      223955.0   \n",
       "\n",
       "     nuc_mcm_eu  inner_mcm_eu  outer_mcm_eu  \n",
       "0  7.672477e+08   213462279.0  5.537854e+08  \n",
       "1  1.104509e+09   218566044.0  8.859426e+08  \n",
       "2  1.606101e+09   427398661.0  1.178703e+09  \n",
       "3  2.438647e+09   641162396.0  1.797484e+09  \n",
       "4  1.269950e+09   287470979.0  9.824787e+08  \n",
       "\n",
       "[5 rows x 38 columns]"
      ]
     },
     "execution_count": 9,
     "metadata": {},
     "output_type": "execute_result"
    }
   ],
   "source": [
    "data2.head()"
   ]
  },
  {
   "cell_type": "markdown",
   "metadata": {},
   "source": [
    "# H3k9ME3 3rd dataset with MgCl2"
   ]
  },
  {
   "cell_type": "code",
   "execution_count": 12,
   "metadata": {},
   "outputs": [],
   "source": [
    "bigDir=r'Z:\\CookLab\\Liu\\20190816_organizedData_MCM_loading\\20200829_h3k9me3'\n",
    "\n",
    "file=f'{bigDir}\\\\200819_cellinfo_v2.csv'\n",
    "data=pd.read_csv(file)"
   ]
  },
  {
   "cell_type": "markdown",
   "metadata": {},
   "source": [
    "# mcm calculations"
   ]
  },
  {
   "cell_type": "code",
   "execution_count": 41,
   "metadata": {},
   "outputs": [],
   "source": [
    "def calculate_mcm_signals (name, data,percentage):\n",
    "    data=data\n",
    "    ## if the given dataset is new, the mcm channel is 0\n",
    "    ## else, mcm channel is 1 (for original dataset)\n",
    "    if name==\"new\":\n",
    "        mcm=0\n",
    "    else:\n",
    "        mcm=1\n",
    "    i=0\n",
    "    progBar=widgets.IntProgress(\n",
    "        value=i,\n",
    "        min=0,\n",
    "        max=len(data),\n",
    "        step=1,\n",
    "        description='Progress:',\n",
    "        orientation='horizontal'\n",
    "    )\n",
    "    display(progBar)\n",
    "    for i,myCell in islice(data.iterrows(), i,None):\n",
    "        # control group's percentage will be 20%\n",
    "        if myCell.group == \"CTL\":\n",
    "            percentage = 20\n",
    "        \n",
    "        # i = index of the row\n",
    "        # myCell the entire row of the that index i = data.iloc[i]\n",
    "        \n",
    "        ## opening cell image\n",
    "        try:\n",
    "            myImage=imread(myCell.path) \n",
    "        except:\n",
    "            myCell.path=myCell.path.replace('.tif','.tiff')\n",
    "            myImage=imread(myCell.path)\n",
    "        \n",
    "        ## setting arrays with names \n",
    "        \n",
    "        ### for the column names\n",
    "        pixels=['total','het','eu']\n",
    "        components=['nuc','inner','outer']\n",
    "        \n",
    "        ### for image names\n",
    "        dirs=['segmentation_nucleus_Otsu','erosion_nuc_mask','erosion_nuc_mask',\n",
    "              f'segmentation_{percentage}',f'segmentation_{percentage}_erosion',f'segmentation_{percentage}_erosion',\n",
    "             f'segmentation_{percentage}_eu',f'segmentation_{percentage}_eu_erosion',f'segmentation_{percentage}_eu_erosion']\n",
    "        \n",
    "        files=['_nucleus.tif',f'_eroded_9^5_inner_mask_20.tif',f'_eroded_9^5_outer_mask_20.tif',\n",
    "                   '_hetChrom.tif', '_hetChrom_inner.tif', '_hetChrom_outer.tif',\n",
    "                   '_euChrom.tif', '_euChrom_inner.tif','_euChrom_outer.tif']\n",
    "\n",
    "        ## making a dummy dataframe to store the signal calculations\n",
    "        df=pd.DataFrame(columns=['nuc_vol_total','inner_vol_total','outer_vol_total',\n",
    "                                 'nuc_mcm_total','inner_mcm_total','outer_mcm_total',\n",
    "                                'nuc_vol_het','inner_vol_het','outer_vol_het',\n",
    "                                 'nuc_mcm_het','inner_mcm_het','outer_mcm_het',\n",
    "                                 'nuc_vol_eu','inner_vol_eu','outer_vol_eu',\n",
    "                                'nuc_mcm_eu','inner_mcm_eu', 'outer_mcm_eu'])\n",
    "\n",
    "        ## signals calculated\n",
    "        for k in range(len(pixels)): # 0 to 2 - 3 values for total, het, eu\n",
    "            for j in range(len(components)): \n",
    "                # 0 to 2 \n",
    "                           \n",
    "                # 1 loop\n",
    "                # total (k=0) , nuc  (j=0)\n",
    "                # total (k=0), inner (j=1)\n",
    "                # total (k=0), outer (j=2)\n",
    "                           \n",
    "                ## copying image every time new signal is calculated\n",
    "                myIm=myImage.copy()\n",
    "                myChannel=myIm[:,mcm,:,:] \n",
    "                \n",
    "                ## column name set up based on the component and the pixels\n",
    "                currColName=f'{components[j]}_mcm_{pixels[k]}' # nuc_mcm_total\n",
    "                \n",
    "                ## opening mask images\n",
    "                ### the indexing is in such way so that the image opened matches up with the name being used for calculation\n",
    "                direc=myCell.path.replace('data_tiff',dirs[(j)+(k*3)]) \n",
    "                    # dir[0+0] = dir[0]= segmentation_nuclues_otsu\n",
    "                    # dirs[1+0] = dir[1] = erosion_nuc_mask\n",
    "                    # dir[2+0] = dir[2] = erosion_nuc_mask\n",
    "                \n",
    "                           \n",
    "                try:\n",
    "                    direc=direc.replace('.tif',files[(k*3)+(j)])\n",
    "                    mask=imread(direc)  \n",
    "                except:\n",
    "                    direc=direc.replace('_nucleus.tiff',files[(k*3)+(j)])\n",
    "                    mask=imread(direc)\n",
    "\n",
    "                ## changing mask type to binary\n",
    "                mask=mask.astype(bool)\n",
    "                \n",
    "                ## masking the image\n",
    "                myChannel[~mask]=0\n",
    "                \n",
    "                ## calculating the signal\n",
    "                df[f'{currColName}']=myChannel.sum(-1).sum(-1)\n",
    "                           \n",
    "                ## calculating the volume of the pixels\n",
    "                currColName=f'{components[j]}_vol_{pixels[k]}'\n",
    "                df.loc[0,f'{currColName}']=np.sum(mask)\n",
    "        \n",
    "        ## saving the calculated signals to original/big dataframe\n",
    "        for myMeasurement in df.columns:\n",
    "            myString=f\"data.loc[i,'{myMeasurement}']=np.sum(df.{myMeasurement})\"\n",
    "            exec(myString)\n",
    "        \n",
    "        \n",
    "        progBar.value=progBar.value+1\n",
    "        \n",
    "    return data\n",
    "    \n",
    "        "
   ]
  },
  {
   "cell_type": "code",
   "execution_count": 24,
   "metadata": {},
   "outputs": [
    {
     "data": {
      "text/html": [
       "<div>\n",
       "<style scoped>\n",
       "    .dataframe tbody tr th:only-of-type {\n",
       "        vertical-align: middle;\n",
       "    }\n",
       "\n",
       "    .dataframe tbody tr th {\n",
       "        vertical-align: top;\n",
       "    }\n",
       "\n",
       "    .dataframe thead th {\n",
       "        text-align: right;\n",
       "    }\n",
       "</style>\n",
       "<table border=\"1\" class=\"dataframe\">\n",
       "  <thead>\n",
       "    <tr style=\"text-align: right;\">\n",
       "      <th></th>\n",
       "      <th>Unnamed: 0</th>\n",
       "      <th>file</th>\n",
       "      <th>original cell name</th>\n",
       "      <th>movie</th>\n",
       "      <th>x</th>\n",
       "      <th>y</th>\n",
       "      <th>ab1 (MCM)</th>\n",
       "      <th>ab1 ch</th>\n",
       "      <th>ab2 (heterochromatin)</th>\n",
       "      <th>ab2 ch</th>\n",
       "      <th>...</th>\n",
       "      <th>outer_vol_het</th>\n",
       "      <th>nuc_mcm_het</th>\n",
       "      <th>inner_mcm_het</th>\n",
       "      <th>outer_mcm_het</th>\n",
       "      <th>nuc_vol_eu</th>\n",
       "      <th>inner_vol_eu</th>\n",
       "      <th>outer_vol_eu</th>\n",
       "      <th>nuc_mcm_eu</th>\n",
       "      <th>inner_mcm_eu</th>\n",
       "      <th>outer_mcm_eu</th>\n",
       "    </tr>\n",
       "  </thead>\n",
       "  <tbody>\n",
       "    <tr>\n",
       "      <th>0</th>\n",
       "      <td>0</td>\n",
       "      <td>20200819_cell2_01.ciz</td>\n",
       "      <td>20200818xy19_6.czi</td>\n",
       "      <td>200819xy19</td>\n",
       "      <td>1526.899</td>\n",
       "      <td>85.295</td>\n",
       "      <td>H3k9me3</td>\n",
       "      <td>1</td>\n",
       "      <td>MCM2</td>\n",
       "      <td>2</td>\n",
       "      <td>...</td>\n",
       "      <td>23619.0</td>\n",
       "      <td>260522503.0</td>\n",
       "      <td>147526591.0</td>\n",
       "      <td>112995912.0</td>\n",
       "      <td>201124.0</td>\n",
       "      <td>20110.0</td>\n",
       "      <td>181014.0</td>\n",
       "      <td>510745670.0</td>\n",
       "      <td>98503562.0</td>\n",
       "      <td>412242108.0</td>\n",
       "    </tr>\n",
       "    <tr>\n",
       "      <th>1</th>\n",
       "      <td>1</td>\n",
       "      <td>20200819_cell2_02.ciz</td>\n",
       "      <td>20200818xy19_8.czi</td>\n",
       "      <td>200819xy19</td>\n",
       "      <td>1112.568</td>\n",
       "      <td>94.321</td>\n",
       "      <td>H3k9me3</td>\n",
       "      <td>1</td>\n",
       "      <td>MCM2</td>\n",
       "      <td>2</td>\n",
       "      <td>...</td>\n",
       "      <td>22230.0</td>\n",
       "      <td>84023553.0</td>\n",
       "      <td>32253902.0</td>\n",
       "      <td>51769651.0</td>\n",
       "      <td>140519.0</td>\n",
       "      <td>14303.0</td>\n",
       "      <td>126216.0</td>\n",
       "      <td>217423832.0</td>\n",
       "      <td>34718346.0</td>\n",
       "      <td>182705486.0</td>\n",
       "    </tr>\n",
       "    <tr>\n",
       "      <th>2</th>\n",
       "      <td>2</td>\n",
       "      <td>20200819_cell2_03.ciz</td>\n",
       "      <td>20200818xy19_22.czi</td>\n",
       "      <td>200819xy19</td>\n",
       "      <td>1412.269</td>\n",
       "      <td>290.826</td>\n",
       "      <td>H3k9me3</td>\n",
       "      <td>1</td>\n",
       "      <td>MCM2</td>\n",
       "      <td>2</td>\n",
       "      <td>...</td>\n",
       "      <td>22173.0</td>\n",
       "      <td>172845122.0</td>\n",
       "      <td>104295518.0</td>\n",
       "      <td>68549604.0</td>\n",
       "      <td>187288.0</td>\n",
       "      <td>14819.0</td>\n",
       "      <td>172469.0</td>\n",
       "      <td>386202258.0</td>\n",
       "      <td>61085885.0</td>\n",
       "      <td>325116373.0</td>\n",
       "    </tr>\n",
       "    <tr>\n",
       "      <th>3</th>\n",
       "      <td>3</td>\n",
       "      <td>20200819_cell2_04.ciz</td>\n",
       "      <td>20200818xy19_25.czi</td>\n",
       "      <td>200819xy19</td>\n",
       "      <td>1764.520</td>\n",
       "      <td>336.100</td>\n",
       "      <td>H3k9me3</td>\n",
       "      <td>1</td>\n",
       "      <td>MCM2</td>\n",
       "      <td>2</td>\n",
       "      <td>...</td>\n",
       "      <td>25455.0</td>\n",
       "      <td>73984324.0</td>\n",
       "      <td>25770708.0</td>\n",
       "      <td>48213616.0</td>\n",
       "      <td>151186.0</td>\n",
       "      <td>4945.0</td>\n",
       "      <td>146241.0</td>\n",
       "      <td>192542688.0</td>\n",
       "      <td>10283672.0</td>\n",
       "      <td>182259016.0</td>\n",
       "    </tr>\n",
       "    <tr>\n",
       "      <th>4</th>\n",
       "      <td>4</td>\n",
       "      <td>20200819_cell2_05.ciz</td>\n",
       "      <td>20200818xy19_27.czi</td>\n",
       "      <td>200819xy19</td>\n",
       "      <td>188.411</td>\n",
       "      <td>367.506</td>\n",
       "      <td>H3k9me3</td>\n",
       "      <td>1</td>\n",
       "      <td>MCM2</td>\n",
       "      <td>2</td>\n",
       "      <td>...</td>\n",
       "      <td>29935.0</td>\n",
       "      <td>92392864.0</td>\n",
       "      <td>51089171.0</td>\n",
       "      <td>41303693.0</td>\n",
       "      <td>254331.0</td>\n",
       "      <td>33198.0</td>\n",
       "      <td>221133.0</td>\n",
       "      <td>292689010.0</td>\n",
       "      <td>48335907.0</td>\n",
       "      <td>244353103.0</td>\n",
       "    </tr>\n",
       "  </tbody>\n",
       "</table>\n",
       "<p>5 rows × 42 columns</p>\n",
       "</div>"
      ],
      "text/plain": [
       "   Unnamed: 0                   file   original cell name       movie  \\\n",
       "0           0  20200819_cell2_01.ciz   20200818xy19_6.czi  200819xy19   \n",
       "1           1  20200819_cell2_02.ciz   20200818xy19_8.czi  200819xy19   \n",
       "2           2  20200819_cell2_03.ciz  20200818xy19_22.czi  200819xy19   \n",
       "3           3  20200819_cell2_04.ciz  20200818xy19_25.czi  200819xy19   \n",
       "4           4  20200819_cell2_05.ciz  20200818xy19_27.czi  200819xy19   \n",
       "\n",
       "          x        y ab1 (MCM)  ab1 ch ab2 (heterochromatin)  ab2 ch  ...  \\\n",
       "0  1526.899   85.295   H3k9me3       1                  MCM2       2  ...   \n",
       "1  1112.568   94.321   H3k9me3       1                  MCM2       2  ...   \n",
       "2  1412.269  290.826   H3k9me3       1                  MCM2       2  ...   \n",
       "3  1764.520  336.100   H3k9me3       1                  MCM2       2  ...   \n",
       "4   188.411  367.506   H3k9me3       1                  MCM2       2  ...   \n",
       "\n",
       "   outer_vol_het  nuc_mcm_het inner_mcm_het  outer_mcm_het  nuc_vol_eu  \\\n",
       "0        23619.0  260522503.0   147526591.0    112995912.0    201124.0   \n",
       "1        22230.0   84023553.0    32253902.0     51769651.0    140519.0   \n",
       "2        22173.0  172845122.0   104295518.0     68549604.0    187288.0   \n",
       "3        25455.0   73984324.0    25770708.0     48213616.0    151186.0   \n",
       "4        29935.0   92392864.0    51089171.0     41303693.0    254331.0   \n",
       "\n",
       "   inner_vol_eu outer_vol_eu   nuc_mcm_eu  inner_mcm_eu  outer_mcm_eu  \n",
       "0       20110.0     181014.0  510745670.0    98503562.0   412242108.0  \n",
       "1       14303.0     126216.0  217423832.0    34718346.0   182705486.0  \n",
       "2       14819.0     172469.0  386202258.0    61085885.0   325116373.0  \n",
       "3        4945.0     146241.0  192542688.0    10283672.0   182259016.0  \n",
       "4       33198.0     221133.0  292689010.0    48335907.0   244353103.0  \n",
       "\n",
       "[5 rows x 42 columns]"
      ]
     },
     "execution_count": 24,
     "metadata": {},
     "output_type": "execute_result"
    }
   ],
   "source": [
    "data.head()"
   ]
  },
  {
   "cell_type": "code",
   "execution_count": 42,
   "metadata": {},
   "outputs": [
    {
     "data": {
      "application/vnd.jupyter.widget-view+json": {
       "model_id": "7a02c39b45314c66a714e05a2a593967",
       "version_major": 2,
       "version_minor": 0
      },
      "text/plain": [
       "IntProgress(value=0, description='Progress:', max=114)"
      ]
     },
     "metadata": {},
     "output_type": "display_data"
    }
   ],
   "source": [
    "data_10=calculate_mcm_signals(\"h3k9me3\", data, 10)"
   ]
  },
  {
   "cell_type": "code",
   "execution_count": 44,
   "metadata": {},
   "outputs": [
    {
     "data": {
      "text/plain": [
       "0      0.200000\n",
       "1      0.200024\n",
       "2      0.200065\n",
       "3      0.200040\n",
       "4      0.200033\n",
       "5      0.200033\n",
       "6      0.200049\n",
       "7      0.200038\n",
       "8      0.200060\n",
       "9      0.200082\n",
       "10     0.200061\n",
       "11     0.200002\n",
       "12     0.200007\n",
       "13     0.200016\n",
       "14     0.200034\n",
       "15     0.200004\n",
       "16     0.200006\n",
       "17     0.200023\n",
       "18     0.200064\n",
       "19     0.200012\n",
       "20     0.200033\n",
       "21     0.200021\n",
       "22     0.200012\n",
       "23     0.200022\n",
       "24     0.200043\n",
       "25     0.200027\n",
       "26     0.200053\n",
       "27     0.200020\n",
       "28     0.200009\n",
       "29     0.200032\n",
       "         ...   \n",
       "84     0.200030\n",
       "85     0.200012\n",
       "86     0.200016\n",
       "87     0.200038\n",
       "88     0.200006\n",
       "89     0.200000\n",
       "90     0.200003\n",
       "91     0.200036\n",
       "92     0.200011\n",
       "93     0.200014\n",
       "94     0.200010\n",
       "95     0.200018\n",
       "96     0.200024\n",
       "97     0.200052\n",
       "98     0.200039\n",
       "99     0.200017\n",
       "100    0.200031\n",
       "101    0.200066\n",
       "102    0.200001\n",
       "103    0.200011\n",
       "104    0.200017\n",
       "105    0.200002\n",
       "106    0.200031\n",
       "107    0.200016\n",
       "108    0.200005\n",
       "109    0.200033\n",
       "110    0.200009\n",
       "111    0.200026\n",
       "112    0.200014\n",
       "113    0.200014\n",
       "Length: 114, dtype: float64"
      ]
     },
     "execution_count": 44,
     "metadata": {},
     "output_type": "execute_result"
    }
   ],
   "source": [
    "data_10.nuc_vol_het/data_10.nuc_vol_total"
   ]
  },
  {
   "cell_type": "code",
   "execution_count": 17,
   "metadata": {},
   "outputs": [
    {
     "data": {
      "application/vnd.jupyter.widget-view+json": {
       "model_id": "8e495ef8adf746e18092c0381d7b2819",
       "version_major": 2,
       "version_minor": 0
      },
      "text/plain": [
       "IntProgress(value=0, description='Progress:', max=114)"
      ]
     },
     "metadata": {},
     "output_type": "display_data"
    },
    {
     "data": {
      "application/vnd.jupyter.widget-view+json": {
       "model_id": "ccc8799a61d0472989badc6549d10237",
       "version_major": 2,
       "version_minor": 0
      },
      "text/plain": [
       "IntProgress(value=0, description='Progress:', max=114)"
      ]
     },
     "metadata": {},
     "output_type": "display_data"
    },
    {
     "data": {
      "application/vnd.jupyter.widget-view+json": {
       "model_id": "92d40b3e09a14a879fb713099fdf0f3c",
       "version_major": 2,
       "version_minor": 0
      },
      "text/plain": [
       "IntProgress(value=0, description='Progress:', max=114)"
      ]
     },
     "metadata": {},
     "output_type": "display_data"
    }
   ],
   "source": [
    "d = (10,20,30)\n",
    "for i in d:\n",
    "    calculate_mcm_signals(\"h3k9me3\", data, i)\n",
    "    data.to_csv(f'{bigDir}\\\\200819_cellinfo_v3_{i}.csv')"
   ]
  },
  {
   "cell_type": "markdown",
   "metadata": {},
   "source": [
    "### mcm calculations for h3k9me3 dataset"
   ]
  },
  {
   "cell_type": "code",
   "execution_count": 5,
   "metadata": {},
   "outputs": [
    {
     "data": {
      "application/vnd.jupyter.widget-view+json": {
       "model_id": "25632b38f07e40ddbca7072548f492d8",
       "version_major": 2,
       "version_minor": 0
      },
      "text/plain": [
       "IntProgress(value=0, description='Progress:', max=78)"
      ]
     },
     "metadata": {},
     "output_type": "display_data"
    }
   ],
   "source": [
    "## running the function for geminin dataset\n",
    "data_10=calculate_mcm_signals (\"h3k9me3\", data,10) # MCM channel = 2nd "
   ]
  },
  {
   "cell_type": "code",
   "execution_count": 6,
   "metadata": {},
   "outputs": [
    {
     "data": {
      "text/plain": [
       "0     0.100020\n",
       "1     0.100014\n",
       "2     0.100013\n",
       "3     0.100003\n",
       "4     0.100028\n",
       "        ...   \n",
       "73    0.100022\n",
       "74    0.100010\n",
       "75    0.100004\n",
       "76    0.100026\n",
       "77    0.100029\n",
       "Name: temp, Length: 78, dtype: float64"
      ]
     },
     "execution_count": 6,
     "metadata": {},
     "output_type": "execute_result"
    }
   ],
   "source": [
    "data_10['temp']=data_10.nuc_vol_het/data_10.nuc_vol_total\n",
    "data_10['temp']"
   ]
  },
  {
   "cell_type": "code",
   "execution_count": 7,
   "metadata": {},
   "outputs": [
    {
     "name": "stdout",
     "output_type": "stream",
     "text": [
      "1.0 1.0 1.0\n"
     ]
    }
   ],
   "source": [
    "## testing to see if the calculated signals have results as expected\n",
    "print(\n",
    "(np.sum(data_10['nuc_mcm_het']+data_10['nuc_mcm_eu']))/np.sum(data_10['nuc_mcm_total']),\n",
    "(np.mean(data_10['inner_mcm_het'])+np.mean(data_10['inner_mcm_eu']))/np.mean(data_10['inner_mcm_total']),\n",
    "(np.sum(data_10['outer_mcm_het']+data_10['outer_mcm_eu']))/np.sum(data_10['outer_mcm_total']))"
   ]
  },
  {
   "cell_type": "code",
   "execution_count": 8,
   "metadata": {},
   "outputs": [
    {
     "name": "stdout",
     "output_type": "stream",
     "text": [
      "1.0 1.0 1.0 1.0\n"
     ]
    }
   ],
   "source": [
    "print(\n",
    "(np.sum(data_10['inner_mcm_het']+data_10['outer_mcm_het']))/np.sum(data_10['nuc_mcm_het']),\n",
    "(np.mean(data_10['outer_mcm_eu'])+np.mean(data_10['inner_mcm_eu']))/np.mean(data_10['nuc_mcm_eu']),\n",
    "(np.sum(data_10['nuc_mcm_het'])+np.sum(data_10['nuc_mcm_eu']))/np.sum(data_10['nuc_mcm_total']),\n",
    "(np.sum(data_10['inner_mcm_total']+data_10['outer_mcm_total'])/np.sum(data_10['nuc_mcm_total'])))"
   ]
  },
  {
   "cell_type": "code",
   "execution_count": 9,
   "metadata": {},
   "outputs": [],
   "source": [
    "## saving the dataset with calculated signals\n",
    "data_10.to_csv(file.replace('v3','v4_10percent'))"
   ]
  },
  {
   "cell_type": "code",
   "execution_count": 10,
   "metadata": {},
   "outputs": [
    {
     "data": {
      "application/vnd.jupyter.widget-view+json": {
       "model_id": "308f7f7251c946d495309efa375fa328",
       "version_major": 2,
       "version_minor": 0
      },
      "text/plain": [
       "IntProgress(value=0, description='Progress:', max=78)"
      ]
     },
     "metadata": {},
     "output_type": "display_data"
    }
   ],
   "source": [
    "## running the function for geminin dataset\n",
    "data_50=calculate_mcm_signals (\"h3k9me3\", data,50) # MCM channel = 2nd "
   ]
  },
  {
   "cell_type": "code",
   "execution_count": 11,
   "metadata": {},
   "outputs": [
    {
     "data": {
      "text/plain": [
       "0     0.500012\n",
       "1     0.500009\n",
       "2     0.500041\n",
       "3     0.500030\n",
       "4     0.500053\n",
       "        ...   \n",
       "73    0.500041\n",
       "74    0.500035\n",
       "75    0.500002\n",
       "76    0.500068\n",
       "77    0.500046\n",
       "Name: temp, Length: 78, dtype: float64"
      ]
     },
     "execution_count": 11,
     "metadata": {},
     "output_type": "execute_result"
    }
   ],
   "source": [
    "data_50['temp']=data_50.nuc_vol_het/data_50.nuc_vol_total\n",
    "data_50['temp']"
   ]
  },
  {
   "cell_type": "code",
   "execution_count": 12,
   "metadata": {},
   "outputs": [
    {
     "name": "stdout",
     "output_type": "stream",
     "text": [
      "1.0 1.0 1.0\n"
     ]
    }
   ],
   "source": [
    "## testing to see if the calculated signals have results as expected\n",
    "print(\n",
    "(np.sum(data_50['nuc_mcm_het']+data_50['nuc_mcm_eu']))/np.sum(data_50['nuc_mcm_total']),\n",
    "(np.mean(data_50['inner_mcm_het'])+np.mean(data_50['inner_mcm_eu']))/np.mean(data_50['inner_mcm_total']),\n",
    "(np.sum(data_50['outer_mcm_het']+data_50['outer_mcm_eu']))/np.sum(data_50['outer_mcm_total']))"
   ]
  },
  {
   "cell_type": "code",
   "execution_count": 13,
   "metadata": {},
   "outputs": [
    {
     "name": "stdout",
     "output_type": "stream",
     "text": [
      "1.0 1.0 1.0 1.0\n"
     ]
    }
   ],
   "source": [
    "print(\n",
    "(np.sum(data_50['inner_mcm_het']+data_50['outer_mcm_het']))/np.sum(data_50['nuc_mcm_het']),\n",
    "(np.mean(data_50['outer_mcm_eu'])+np.mean(data_50['inner_mcm_eu']))/np.mean(data_50['nuc_mcm_eu']),\n",
    "(np.sum(data_50['nuc_mcm_het'])+np.sum(data_50['nuc_mcm_eu']))/np.sum(data_50['nuc_mcm_total']),\n",
    "(np.sum(data_50['inner_mcm_total']+data_50['outer_mcm_total'])/np.sum(data_50['nuc_mcm_total'])))"
   ]
  },
  {
   "cell_type": "code",
   "execution_count": 14,
   "metadata": {},
   "outputs": [],
   "source": [
    "## saving the dataset with calculated signals\n",
    "data_50.to_csv(file.replace('v3','v4_50percent'))"
   ]
  },
  {
   "cell_type": "code",
   "execution_count": null,
   "metadata": {},
   "outputs": [],
   "source": []
  },
  {
   "cell_type": "markdown",
   "metadata": {},
   "source": [
    "### mcm calculations for h3k9me3 2nd dataset"
   ]
  },
  {
   "cell_type": "code",
   "execution_count": 11,
   "metadata": {},
   "outputs": [
    {
     "data": {
      "application/vnd.jupyter.widget-view+json": {
       "model_id": "19648376206f47a7800fcdb8a27e0f3a",
       "version_major": 2,
       "version_minor": 0
      },
      "text/plain": [
       "IntProgress(value=0, description='Progress:', max=88)"
      ]
     },
     "metadata": {},
     "output_type": "display_data"
    }
   ],
   "source": [
    "## running the function for geminin dataset\n",
    "data_10_2=calculate_mcm_signals (\"h3k9me3\", data2,10) # MCM channel = 2nd "
   ]
  },
  {
   "cell_type": "code",
   "execution_count": 12,
   "metadata": {},
   "outputs": [
    {
     "data": {
      "text/plain": [
       "0     20200615_cell_00.ciz\n",
       "1     20200615_cell_01.ciz\n",
       "2     20200615_cell_02.ciz\n",
       "3     20200615_cell_03.ciz\n",
       "4     20200615_cell_04.ciz\n",
       "              ...         \n",
       "83    20200615_cell_83.ciz\n",
       "84    20200615_cell_84.ciz\n",
       "85    20200615_cell_85.ciz\n",
       "86    20200615_cell_86.ciz\n",
       "87    20200615_cell_87.ciz\n",
       "Name: file, Length: 88, dtype: object"
      ]
     },
     "execution_count": 12,
     "metadata": {},
     "output_type": "execute_result"
    }
   ],
   "source": [
    "data_10_2.file"
   ]
  },
  {
   "cell_type": "code",
   "execution_count": 13,
   "metadata": {},
   "outputs": [
    {
     "data": {
      "text/plain": [
       "0     0.100000\n",
       "1     0.100006\n",
       "2     0.100004\n",
       "3     0.100000\n",
       "4     0.100007\n",
       "        ...   \n",
       "83    0.100001\n",
       "84    0.100018\n",
       "85    0.100007\n",
       "86    0.100016\n",
       "87    0.100003\n",
       "Name: temp, Length: 88, dtype: float64"
      ]
     },
     "execution_count": 13,
     "metadata": {},
     "output_type": "execute_result"
    }
   ],
   "source": [
    "data_10_2['temp']=data_10_2.nuc_vol_het/data_10_2.nuc_vol_total\n",
    "data_10_2['temp']"
   ]
  },
  {
   "cell_type": "code",
   "execution_count": 15,
   "metadata": {},
   "outputs": [
    {
     "name": "stdout",
     "output_type": "stream",
     "text": [
      "1.0 0.9999999999999998 1.0\n"
     ]
    }
   ],
   "source": [
    "## testing to see if the calculated signals have results as expected\n",
    "print(\n",
    "(np.sum(data_10_2['nuc_mcm_het']+data_10_2['nuc_mcm_eu']))/np.sum(data_10_2['nuc_mcm_total']),\n",
    "(np.mean(data_10_2['inner_mcm_het'])+np.mean(data_10_2['inner_mcm_eu']))/np.mean(data_10_2['inner_mcm_total']),\n",
    "(np.sum(data_10_2['outer_mcm_het']+data_10_2['outer_mcm_eu']))/np.sum(data_10_2['outer_mcm_total']))"
   ]
  },
  {
   "cell_type": "code",
   "execution_count": 16,
   "metadata": {},
   "outputs": [
    {
     "name": "stdout",
     "output_type": "stream",
     "text": [
      "1.0 1.0 1.0 1.0\n"
     ]
    }
   ],
   "source": [
    "print(\n",
    "(np.sum(data_10_2['inner_mcm_het']+data_10_2['outer_mcm_het']))/np.sum(data_10_2['nuc_mcm_het']),\n",
    "(np.mean(data_10_2['outer_mcm_eu'])+np.mean(data_10_2['inner_mcm_eu']))/np.mean(data_10_2['nuc_mcm_eu']),\n",
    "(np.sum(data_10_2['nuc_mcm_het'])+np.sum(data_10_2['nuc_mcm_eu']))/np.sum(data_10_2['nuc_mcm_total']),\n",
    "(np.sum(data_10_2['inner_mcm_total']+data_10_2['outer_mcm_total'])/np.sum(data_10_2['nuc_mcm_total'])))"
   ]
  },
  {
   "cell_type": "code",
   "execution_count": 18,
   "metadata": {},
   "outputs": [],
   "source": [
    "## saving the dataset with calculated signals\n",
    "data_10_2.to_csv(file2.replace('v3','v4_10percent'))"
   ]
  },
  {
   "cell_type": "code",
   "execution_count": 19,
   "metadata": {},
   "outputs": [
    {
     "data": {
      "application/vnd.jupyter.widget-view+json": {
       "model_id": "9448d7ef7828408999869b878fab83c3",
       "version_major": 2,
       "version_minor": 0
      },
      "text/plain": [
       "IntProgress(value=0, description='Progress:', max=88)"
      ]
     },
     "metadata": {},
     "output_type": "display_data"
    }
   ],
   "source": [
    "## running the function for geminin dataset\n",
    "data_50=calculate_mcm_signals (\"h3k9me3\", data2,50) # MCM channel = 2nd "
   ]
  },
  {
   "cell_type": "code",
   "execution_count": 20,
   "metadata": {},
   "outputs": [
    {
     "name": "stdout",
     "output_type": "stream",
     "text": [
      "1.0 1.0 1.0\n"
     ]
    }
   ],
   "source": [
    "## testing to see if the calculated signals have results as expected\n",
    "print(\n",
    "(np.sum(data_50['nuc_mcm_het']+data_50['nuc_mcm_eu']))/np.sum(data_50['nuc_mcm_total']),\n",
    "(np.mean(data_50['inner_mcm_het'])+np.mean(data_50['inner_mcm_eu']))/np.mean(data_50['inner_mcm_total']),\n",
    "(np.sum(data_50['outer_mcm_het']+data_50['outer_mcm_eu']))/np.sum(data_50['outer_mcm_total']))"
   ]
  },
  {
   "cell_type": "code",
   "execution_count": 21,
   "metadata": {},
   "outputs": [
    {
     "data": {
      "text/plain": [
       "0     0.500027\n",
       "1     0.500021\n",
       "2     0.500000\n",
       "3     0.500002\n",
       "4     0.500024\n",
       "        ...   \n",
       "83    0.500039\n",
       "84    0.500027\n",
       "85    0.500051\n",
       "86    0.500023\n",
       "87    0.500070\n",
       "Name: temp, Length: 88, dtype: float64"
      ]
     },
     "execution_count": 21,
     "metadata": {},
     "output_type": "execute_result"
    }
   ],
   "source": [
    "data_50['temp']=data_50.nuc_vol_het/data_50.nuc_vol_total\n",
    "data_50['temp']"
   ]
  },
  {
   "cell_type": "code",
   "execution_count": 22,
   "metadata": {},
   "outputs": [
    {
     "name": "stdout",
     "output_type": "stream",
     "text": [
      "1.0 0.9999999999999999 1.0 1.0\n"
     ]
    }
   ],
   "source": [
    "print(\n",
    "(np.sum(data_50['inner_mcm_het']+data_50['outer_mcm_het']))/np.sum(data_50['nuc_mcm_het']),\n",
    "(np.mean(data_50['outer_mcm_eu'])+np.mean(data_50['inner_mcm_eu']))/np.mean(data_50['nuc_mcm_eu']),\n",
    "(np.sum(data_50['nuc_mcm_het'])+np.sum(data_50['nuc_mcm_eu']))/np.sum(data_50['nuc_mcm_total']),\n",
    "(np.sum(data_50['inner_mcm_total']+data_50['outer_mcm_total'])/np.sum(data_50['nuc_mcm_total'])))"
   ]
  },
  {
   "cell_type": "code",
   "execution_count": 23,
   "metadata": {},
   "outputs": [],
   "source": [
    "## saving the dataset with calculated signals\n",
    "data_50.to_csv(file2.replace('v3','v4_50percent'))"
   ]
  },
  {
   "cell_type": "code",
   "execution_count": null,
   "metadata": {},
   "outputs": [],
   "source": []
  }
 ],
 "metadata": {
  "kernelspec": {
   "display_name": "Python 3",
   "language": "python",
   "name": "python3"
  },
  "language_info": {
   "codemirror_mode": {
    "name": "ipython",
    "version": 3
   },
   "file_extension": ".py",
   "mimetype": "text/x-python",
   "name": "python",
   "nbconvert_exporter": "python",
   "pygments_lexer": "ipython3",
   "version": "3.7.3"
  }
 },
 "nbformat": 4,
 "nbformat_minor": 2
}
