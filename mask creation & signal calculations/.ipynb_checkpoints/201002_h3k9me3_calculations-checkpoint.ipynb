{
 "cells": [
  {
   "cell_type": "code",
   "execution_count": 1,
   "metadata": {},
   "outputs": [],
   "source": [
    "import os\n",
    "from os import listdir\n",
    "from os.path import isfile, join\n",
    "\n",
    "import pandas as pd\n",
    "from itertools import islice\n",
    "import numpy as np\n",
    "\n",
    "from skimage.external import tifffile\n",
    "from skimage.external.tifffile import imread\n",
    "\n",
    "import matplotlib.pyplot as plt\n",
    "\n",
    "import ipywidgets as widgets\n",
    "\n",
    "import random\n",
    "\n",
    "\n",
    "from scipy.ndimage.morphology import binary_erosion as br\n",
    "from skimage import morphology as skmor\n",
    "\n",
    "from scipy import ndimage\n",
    "from PIL import Image, ImageDraw\n",
    "\n",
    "import numpy.ma as ma\n",
    "\n",
    "from skimage.measure import label, regionprops"
   ]
  },
  {
   "cell_type": "code",
   "execution_count": 2,
   "metadata": {},
   "outputs": [],
   "source": [
    "bigDir=r'Z:\\CookLab\\Liu\\20190816_organizedData_MCM_loading\\20200829_h3k9me3'"
   ]
  },
  {
   "cell_type": "code",
   "execution_count": 3,
   "metadata": {},
   "outputs": [],
   "source": [
    "file=f'{bigDir}\\\\200819_cellinfo_v5_20.csv'"
   ]
  },
  {
   "cell_type": "code",
   "execution_count": 4,
   "metadata": {},
   "outputs": [],
   "source": [
    "data=pd.read_csv(file)"
   ]
  },
  {
   "cell_type": "code",
   "execution_count": 5,
   "metadata": {},
   "outputs": [
    {
     "data": {
      "text/html": [
       "<div>\n",
       "<style scoped>\n",
       "    .dataframe tbody tr th:only-of-type {\n",
       "        vertical-align: middle;\n",
       "    }\n",
       "\n",
       "    .dataframe tbody tr th {\n",
       "        vertical-align: top;\n",
       "    }\n",
       "\n",
       "    .dataframe thead th {\n",
       "        text-align: right;\n",
       "    }\n",
       "</style>\n",
       "<table border=\"1\" class=\"dataframe\">\n",
       "  <thead>\n",
       "    <tr style=\"text-align: right;\">\n",
       "      <th></th>\n",
       "      <th>Unnamed: 0</th>\n",
       "      <th>file</th>\n",
       "      <th>original cell name</th>\n",
       "      <th>movie</th>\n",
       "      <th>x</th>\n",
       "      <th>y</th>\n",
       "      <th>ab1 (MCM)</th>\n",
       "      <th>ab1 ch</th>\n",
       "      <th>ab2 (heterochromatin)</th>\n",
       "      <th>ab2 ch</th>\n",
       "      <th>...</th>\n",
       "      <th>outer_mcm_eu</th>\n",
       "      <th>nuc_DAPI_total</th>\n",
       "      <th>inner_DAPI_total</th>\n",
       "      <th>outer_DAPI_total</th>\n",
       "      <th>nuc_DAPI_het</th>\n",
       "      <th>inner_DAPI_het</th>\n",
       "      <th>outer_DAPI_het</th>\n",
       "      <th>nuc_DAPI_eu</th>\n",
       "      <th>inner_DAPI_eu</th>\n",
       "      <th>outer_DAPI_eu</th>\n",
       "    </tr>\n",
       "  </thead>\n",
       "  <tbody>\n",
       "    <tr>\n",
       "      <th>0</th>\n",
       "      <td>0</td>\n",
       "      <td>20200819_cell2_01.ciz</td>\n",
       "      <td>20200818xy19_6.czi</td>\n",
       "      <td>200819xy19</td>\n",
       "      <td>1526.899</td>\n",
       "      <td>85.295</td>\n",
       "      <td>H3k9me3</td>\n",
       "      <td>1</td>\n",
       "      <td>MCM2</td>\n",
       "      <td>2</td>\n",
       "      <td>...</td>\n",
       "      <td>412242108.0</td>\n",
       "      <td>1.691591e+09</td>\n",
       "      <td>5.882746e+08</td>\n",
       "      <td>1.103316e+09</td>\n",
       "      <td>6.717615e+08</td>\n",
       "      <td>374096140.0</td>\n",
       "      <td>297665348.0</td>\n",
       "      <td>1.019829e+09</td>\n",
       "      <td>214178506.0</td>\n",
       "      <td>8.056507e+08</td>\n",
       "    </tr>\n",
       "    <tr>\n",
       "      <th>1</th>\n",
       "      <td>1</td>\n",
       "      <td>20200819_cell2_02.ciz</td>\n",
       "      <td>20200818xy19_8.czi</td>\n",
       "      <td>200819xy19</td>\n",
       "      <td>1112.568</td>\n",
       "      <td>94.321</td>\n",
       "      <td>H3k9me3</td>\n",
       "      <td>1</td>\n",
       "      <td>MCM2</td>\n",
       "      <td>2</td>\n",
       "      <td>...</td>\n",
       "      <td>182705486.0</td>\n",
       "      <td>1.772011e+09</td>\n",
       "      <td>5.156649e+08</td>\n",
       "      <td>1.256346e+09</td>\n",
       "      <td>6.475140e+08</td>\n",
       "      <td>257151451.0</td>\n",
       "      <td>390362516.0</td>\n",
       "      <td>1.124497e+09</td>\n",
       "      <td>258513498.0</td>\n",
       "      <td>8.659832e+08</td>\n",
       "    </tr>\n",
       "    <tr>\n",
       "      <th>2</th>\n",
       "      <td>2</td>\n",
       "      <td>20200819_cell2_03.ciz</td>\n",
       "      <td>20200818xy19_22.czi</td>\n",
       "      <td>200819xy19</td>\n",
       "      <td>1412.269</td>\n",
       "      <td>290.826</td>\n",
       "      <td>H3k9me3</td>\n",
       "      <td>1</td>\n",
       "      <td>MCM2</td>\n",
       "      <td>2</td>\n",
       "      <td>...</td>\n",
       "      <td>325116373.0</td>\n",
       "      <td>1.842539e+09</td>\n",
       "      <td>6.431411e+08</td>\n",
       "      <td>1.199398e+09</td>\n",
       "      <td>7.152502e+08</td>\n",
       "      <td>433930729.0</td>\n",
       "      <td>281319452.0</td>\n",
       "      <td>1.127289e+09</td>\n",
       "      <td>209210367.0</td>\n",
       "      <td>9.180782e+08</td>\n",
       "    </tr>\n",
       "    <tr>\n",
       "      <th>3</th>\n",
       "      <td>3</td>\n",
       "      <td>20200819_cell2_04.ciz</td>\n",
       "      <td>20200818xy19_25.czi</td>\n",
       "      <td>200819xy19</td>\n",
       "      <td>1764.520</td>\n",
       "      <td>336.100</td>\n",
       "      <td>H3k9me3</td>\n",
       "      <td>1</td>\n",
       "      <td>MCM2</td>\n",
       "      <td>2</td>\n",
       "      <td>...</td>\n",
       "      <td>182259016.0</td>\n",
       "      <td>1.922737e+09</td>\n",
       "      <td>3.762187e+08</td>\n",
       "      <td>1.546518e+09</td>\n",
       "      <td>7.918330e+08</td>\n",
       "      <td>283312657.0</td>\n",
       "      <td>508520331.0</td>\n",
       "      <td>1.130904e+09</td>\n",
       "      <td>92906037.0</td>\n",
       "      <td>1.037998e+09</td>\n",
       "    </tr>\n",
       "    <tr>\n",
       "      <th>4</th>\n",
       "      <td>4</td>\n",
       "      <td>20200819_cell2_05.ciz</td>\n",
       "      <td>20200818xy19_27.czi</td>\n",
       "      <td>200819xy19</td>\n",
       "      <td>188.411</td>\n",
       "      <td>367.506</td>\n",
       "      <td>H3k9me3</td>\n",
       "      <td>1</td>\n",
       "      <td>MCM2</td>\n",
       "      <td>2</td>\n",
       "      <td>...</td>\n",
       "      <td>244353103.0</td>\n",
       "      <td>3.562952e+09</td>\n",
       "      <td>1.292840e+09</td>\n",
       "      <td>2.270112e+09</td>\n",
       "      <td>1.174007e+09</td>\n",
       "      <td>675340998.0</td>\n",
       "      <td>498665524.0</td>\n",
       "      <td>2.388946e+09</td>\n",
       "      <td>617498741.0</td>\n",
       "      <td>1.771447e+09</td>\n",
       "    </tr>\n",
       "  </tbody>\n",
       "</table>\n",
       "<p>5 rows × 51 columns</p>\n",
       "</div>"
      ],
      "text/plain": [
       "   Unnamed: 0                   file   original cell name       movie  \\\n",
       "0           0  20200819_cell2_01.ciz   20200818xy19_6.czi  200819xy19   \n",
       "1           1  20200819_cell2_02.ciz   20200818xy19_8.czi  200819xy19   \n",
       "2           2  20200819_cell2_03.ciz  20200818xy19_22.czi  200819xy19   \n",
       "3           3  20200819_cell2_04.ciz  20200818xy19_25.czi  200819xy19   \n",
       "4           4  20200819_cell2_05.ciz  20200818xy19_27.czi  200819xy19   \n",
       "\n",
       "          x        y ab1 (MCM)  ab1 ch ab2 (heterochromatin)  ab2 ch  ...  \\\n",
       "0  1526.899   85.295   H3k9me3       1                  MCM2       2  ...   \n",
       "1  1112.568   94.321   H3k9me3       1                  MCM2       2  ...   \n",
       "2  1412.269  290.826   H3k9me3       1                  MCM2       2  ...   \n",
       "3  1764.520  336.100   H3k9me3       1                  MCM2       2  ...   \n",
       "4   188.411  367.506   H3k9me3       1                  MCM2       2  ...   \n",
       "\n",
       "   outer_mcm_eu  nuc_DAPI_total inner_DAPI_total  outer_DAPI_total  \\\n",
       "0   412242108.0    1.691591e+09     5.882746e+08      1.103316e+09   \n",
       "1   182705486.0    1.772011e+09     5.156649e+08      1.256346e+09   \n",
       "2   325116373.0    1.842539e+09     6.431411e+08      1.199398e+09   \n",
       "3   182259016.0    1.922737e+09     3.762187e+08      1.546518e+09   \n",
       "4   244353103.0    3.562952e+09     1.292840e+09      2.270112e+09   \n",
       "\n",
       "   nuc_DAPI_het  inner_DAPI_het outer_DAPI_het   nuc_DAPI_eu  inner_DAPI_eu  \\\n",
       "0  6.717615e+08     374096140.0    297665348.0  1.019829e+09    214178506.0   \n",
       "1  6.475140e+08     257151451.0    390362516.0  1.124497e+09    258513498.0   \n",
       "2  7.152502e+08     433930729.0    281319452.0  1.127289e+09    209210367.0   \n",
       "3  7.918330e+08     283312657.0    508520331.0  1.130904e+09     92906037.0   \n",
       "4  1.174007e+09     675340998.0    498665524.0  2.388946e+09    617498741.0   \n",
       "\n",
       "   outer_DAPI_eu  \n",
       "0   8.056507e+08  \n",
       "1   8.659832e+08  \n",
       "2   9.180782e+08  \n",
       "3   1.037998e+09  \n",
       "4   1.771447e+09  \n",
       "\n",
       "[5 rows x 51 columns]"
      ]
     },
     "execution_count": 5,
     "metadata": {},
     "output_type": "execute_result"
    }
   ],
   "source": [
    "data.head()"
   ]
  },
  {
   "cell_type": "markdown",
   "metadata": {},
   "source": [
    "# hp1b calculations"
   ]
  },
  {
   "cell_type": "code",
   "execution_count": 9,
   "metadata": {},
   "outputs": [],
   "source": [
    "def calculate_hp1b_signals (name, data, percentage):\n",
    "    \n",
    "    ## if the given dataset is new, the hp1 channel is 1\n",
    "    ## else, hp1 channel is 0 (for original dataset)\n",
    "    if name==\"new\":\n",
    "        channel=1\n",
    "    else:\n",
    "        channel=0\n",
    "    i=0\n",
    "    progBar=widgets.IntProgress(\n",
    "        value=i,\n",
    "        min=0,\n",
    "        max=len(data),\n",
    "        step=1,\n",
    "        description='Progress:',\n",
    "        orientation='horizontal'\n",
    "    )\n",
    "    percentageCpy=percentage\n",
    "    display(progBar)\n",
    "    for i,myCell in islice(data.iterrows(), i,None):\n",
    "        if myCell.group == 'CTL':\n",
    "            percentage = 20\n",
    "        else:\n",
    "            percentage = percentageCpy\n",
    "        ## opening cell image\n",
    "        try:\n",
    "            myImage=imread(myCell.path) \n",
    "        except:\n",
    "            myCell.path=myCell.path.replace('.tif','.tiff')\n",
    "            myImage=imread(myCell.path)\n",
    "        \n",
    "        ## setting arrays with names \n",
    "        \n",
    "        ### for the column names\n",
    "        pixels=['total','het','eu']\n",
    "        components=['nuc','inner','outer']\n",
    "        \n",
    "        ### for image names\n",
    "        dirs=['segmentation_nucleus_Otsu','erosion_nuc_mask','erosion_nuc_mask',\n",
    "              f'segmentation_{percentage}',f'segmentation_{percentage}_erosion',f'segmentation_{percentage}_erosion',\n",
    "             f'segmentation_{percentage}_eu',f'segmentation_{percentage}_eu_erosion',f'segmentation_{percentage}_eu_erosion',]\n",
    "\n",
    "        files=['_nucleus.tif','_eroded_9^5_inner_mask_20.tif','_eroded_9^5_outer_mask_20.tif',\n",
    "                   '_hetChrom.tif', '_hetChrom_inner.tif', '_hetChrom_outer.tif',\n",
    "                   '_euChrom.tif', '_euChrom_inner.tif','_euChrom_outer.tif']\n",
    "\n",
    "        ## making a dummy dataframe to store the signal calculations\n",
    "        df=pd.DataFrame(columns=['nuc_h3k9me3_total','inner_h3k9me3_total','outer_h3k9me3_total',\n",
    "                                 'nuc_h3k9me3_het','inner_h3k9me3_het','outer_h3k9me3_het',\n",
    "                                'nuc_h3k9me3_eu','inner_h3k9me3_eu', 'outer_h3k9me3_eu'])\n",
    "\n",
    "        ## signals calculated\n",
    "        for k in range(len(pixels)):\n",
    "            for j in range(len(components)):\n",
    "                ## copying image every time new signal is calculated\n",
    "                myIm=myImage.copy()\n",
    "                myChannel=myIm[:,channel,:,:] \n",
    "                \n",
    "                ## column name set up based on the component and the pixels\n",
    "                currColName=f'{components[j]}_h3k9me3_{pixels[k]}'\n",
    "                \n",
    "                ## opening mask images\n",
    "                ### the indexing is in such way so that the image opened matches up with the name being used for calculation\n",
    "                direc=myCell.path.replace('data_tiff',dirs[(j)+(k*3)])\n",
    "                try:\n",
    "                    direc=direc.replace('.tif',files[(k*3)+(j)])\n",
    "                    mask=imread(direc)  \n",
    "                except:\n",
    "                    direc=direc.replace('_nucleus.tiff',files[(k*3)+(j)])\n",
    "                    mask=imread(direc)\n",
    "\n",
    "                ## changing mask type to binary\n",
    "                mask=mask.astype(bool)\n",
    "                \n",
    "                ## masking the image\n",
    "                myChannel[~mask]=0\n",
    "                \n",
    "                ## calculating the signal\n",
    "                df[f'{currColName}']=myChannel.sum(-1).sum(-1)\n",
    "\n",
    "                ## calculating the volume of the pixels\n",
    "                currColName=f'{components[j]}_vol_{pixels[k]}'\n",
    "                df.loc[0,f'{currColName}']=np.sum(mask)\n",
    "        \n",
    "        ## saving the calculated signals to original/big dataframe\n",
    "        for myMeasurement in df.columns:\n",
    "            myString=f\"data.loc[i,'{myMeasurement}']=np.sum(df.{myMeasurement})\"\n",
    "            exec(myString)\n",
    "        \n",
    "\n",
    "        progBar.value=progBar.value+1\n",
    "        "
   ]
  },
  {
   "cell_type": "code",
   "execution_count": 11,
   "metadata": {},
   "outputs": [
    {
     "data": {
      "application/vnd.jupyter.widget-view+json": {
       "model_id": "b58d01ff352f47f3a88228be3b7eb73f",
       "version_major": 2,
       "version_minor": 0
      },
      "text/plain": [
       "IntProgress(value=0, description='Progress:', max=146)"
      ]
     },
     "metadata": {},
     "output_type": "display_data"
    }
   ],
   "source": [
    "## running the function for new dataset\n",
    "calculate_hp1b_signals (\"2020\", data)"
   ]
  },
  {
   "cell_type": "code",
   "execution_count": 11,
   "metadata": {},
   "outputs": [
    {
     "data": {
      "application/vnd.jupyter.widget-view+json": {
       "model_id": "17c38ba4fd3747129dcd3e5ac613f544",
       "version_major": 2,
       "version_minor": 0
      },
      "text/plain": [
       "IntProgress(value=0, description='Progress:', max=113)"
      ]
     },
     "metadata": {},
     "output_type": "display_data"
    },
    {
     "data": {
      "application/vnd.jupyter.widget-view+json": {
       "model_id": "70e16bb1ff884e53bd169ca9a7acd3f1",
       "version_major": 2,
       "version_minor": 0
      },
      "text/plain": [
       "IntProgress(value=0, description='Progress:', max=113)"
      ]
     },
     "metadata": {},
     "output_type": "display_data"
    },
    {
     "data": {
      "application/vnd.jupyter.widget-view+json": {
       "model_id": "5c00e83aa5474730bbeb746baf895452",
       "version_major": 2,
       "version_minor": 0
      },
      "text/plain": [
       "IntProgress(value=0, description='Progress:', max=113)"
      ]
     },
     "metadata": {},
     "output_type": "display_data"
    },
    {
     "data": {
      "application/vnd.jupyter.widget-view+json": {
       "model_id": "65928f9f425f4a2c8df6fb4887d57b86",
       "version_major": 2,
       "version_minor": 0
      },
      "text/plain": [
       "IntProgress(value=0, description='Progress:', max=113)"
      ]
     },
     "metadata": {},
     "output_type": "display_data"
    },
    {
     "data": {
      "application/vnd.jupyter.widget-view+json": {
       "model_id": "f2416c49c5a14c6e8aca86c86a70942a",
       "version_major": 2,
       "version_minor": 0
      },
      "text/plain": [
       "IntProgress(value=0, description='Progress:', max=113)"
      ]
     },
     "metadata": {},
     "output_type": "display_data"
    }
   ],
   "source": [
    "d=(20,30,40,50,60)\n",
    "for i in d:\n",
    "    \n",
    "    file=f'{bigDir}\\\\200819_cellinfo_v5_{i}.csv'\n",
    "    data=pd.read_csv(file)\n",
    "    \n",
    "    calculate_hp1b_signals(\"h3k9me3\", data,i)\n",
    "    data.to_csv(file.replace('v5','v6'))\n",
    "    "
   ]
  },
  {
   "cell_type": "markdown",
   "metadata": {},
   "source": [
    "## calculate geminin data"
   ]
  },
  {
   "cell_type": "code",
   "execution_count": 5,
   "metadata": {},
   "outputs": [
    {
     "data": {
      "application/vnd.jupyter.widget-view+json": {
       "model_id": "55197676899b46cdb861cd9989e0cdfc",
       "version_major": 2,
       "version_minor": 0
      },
      "text/plain": [
       "IntProgress(value=0, description='Progress:', max=145)"
      ]
     },
     "metadata": {},
     "output_type": "display_data"
    }
   ],
   "source": [
    "calculate_hp1b_signals(\"new\",data)"
   ]
  },
  {
   "cell_type": "code",
   "execution_count": 6,
   "metadata": {},
   "outputs": [
    {
     "name": "stdout",
     "output_type": "stream",
     "text": [
      "1.0 1.0 1.0\n",
      "1.0 1.0 1.0 1.0\n"
     ]
    }
   ],
   "source": [
    "## testing to see if the calculated signals have results as expected\n",
    "print(\n",
    "(np.sum(data['nuc_hp1b_het']+data['nuc_hp1b_eu']))/np.sum(data['nuc_hp1b_total']),\n",
    "(np.mean(data['inner_hp1b_het'])+np.mean(data['inner_hp1b_eu']))/np.mean(data['inner_hp1b_total']),\n",
    "(np.sum(data['outer_hp1b_het']+data['outer_hp1b_eu']))/np.sum(data['outer_hp1b_total']))\n",
    "\n",
    "print(\n",
    "(np.sum(data['inner_hp1b_het']+data['outer_hp1b_het']))/np.sum(data['nuc_hp1b_het']),\n",
    "(np.mean(data['outer_hp1b_eu'])+np.mean(data['inner_hp1b_eu']))/np.mean(data['nuc_hp1b_eu']),\n",
    "(np.sum(data['nuc_hp1b_het'])+np.sum(data['nuc_hp1b_eu']))/np.sum(data['nuc_hp1b_total']),\n",
    "(np.sum(data['inner_hp1b_total']+data['outer_hp1b_total'])/np.sum(data['nuc_hp1b_total'])))"
   ]
  },
  {
   "cell_type": "code",
   "execution_count": 7,
   "metadata": {},
   "outputs": [],
   "source": [
    "## saving the dataset with calculated signals\n",
    "data.to_csv(file.replace('v7','v8'))"
   ]
  },
  {
   "cell_type": "code",
   "execution_count": null,
   "metadata": {},
   "outputs": [],
   "source": []
  }
 ],
 "metadata": {
  "kernelspec": {
   "display_name": "Python 3",
   "language": "python",
   "name": "python3"
  },
  "language_info": {
   "codemirror_mode": {
    "name": "ipython",
    "version": 3
   },
   "file_extension": ".py",
   "mimetype": "text/x-python",
   "name": "python",
   "nbconvert_exporter": "python",
   "pygments_lexer": "ipython3",
   "version": "3.7.3"
  }
 },
 "nbformat": 4,
 "nbformat_minor": 2
}
