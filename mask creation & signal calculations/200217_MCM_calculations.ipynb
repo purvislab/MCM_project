{
 "cells": [
  {
   "cell_type": "code",
   "execution_count": 1,
   "metadata": {},
   "outputs": [],
   "source": [
    "import os\n",
    "from os import listdir\n",
    "from os.path import isfile, join\n",
    "\n",
    "import pandas as pd\n",
    "from itertools import islice\n",
    "import numpy as np\n",
    "\n",
    "from skimage.external import tifffile\n",
    "from skimage.external.tifffile import imread\n",
    "\n",
    "import matplotlib.pyplot as plt\n",
    "\n",
    "import ipywidgets as widgets\n",
    "\n",
    "import random\n",
    "\n",
    "\n",
    "from scipy.ndimage.morphology import binary_erosion as br\n",
    "from skimage import morphology as skmor\n",
    "\n",
    "from scipy import ndimage\n",
    "from PIL import Image, ImageDraw\n",
    "\n",
    "import numpy.ma as ma\n",
    "\n",
    "from skimage.measure import label, regionprops"
   ]
  },
  {
   "cell_type": "markdown",
   "metadata": {},
   "source": [
    "## to calculate\n",
    "1.\tnucleus_MCM_total\n",
    "2.\touter_MCM_total\n",
    "3.\tinner_MCM_total\n",
    "4.\tnucleus_MCM_hetChrom\n",
    "5.\touter_MCM_hetChrom\n",
    "6.\tinner_MCM_hetChrom\n",
    "7.\tnucleus_MCM_euChrom\n",
    "8.\touter_MCM_euChrom\n",
    "9.\tinner_MCM_euChrom\n"
   ]
  },
  {
   "cell_type": "markdown",
   "metadata": {},
   "source": [
    "# gathering files\n",
    "deleting the columns with the signals to recalculate and collect data"
   ]
  },
  {
   "cell_type": "code",
   "execution_count": 2,
   "metadata": {},
   "outputs": [],
   "source": [
    "bigDir=r'Z:\\CookLab\\Liu\\20190816_organizedData_MCM_loading'"
   ]
  },
  {
   "cell_type": "code",
   "execution_count": 5,
   "metadata": {},
   "outputs": [],
   "source": [
    "orgfile=f'{bigDir}\\\\csv_signals_cell_data\\signal_data_total_v3.csv'\n",
    "newfile=f'{bigDir}\\\\new dataset\\cellinfo_signals_v3.csv'"
   ]
  },
  {
   "cell_type": "code",
   "execution_count": 6,
   "metadata": {},
   "outputs": [],
   "source": [
    "orgdata=pd.read_csv(orgfile)\n",
    "newdata=pd.read_csv(newfile)"
   ]
  },
  {
   "cell_type": "code",
   "execution_count": 7,
   "metadata": {},
   "outputs": [],
   "source": [
    "#orgdata=orgdata.drop(columns=['Unnamed: 0'])\n",
    "orgdata=orgdata.drop(orgdata.iloc[:,39:94],axis=1)\n"
   ]
  },
  {
   "cell_type": "code",
   "execution_count": 8,
   "metadata": {},
   "outputs": [
    {
     "data": {
      "text/html": [
       "<div>\n",
       "<style scoped>\n",
       "    .dataframe tbody tr th:only-of-type {\n",
       "        vertical-align: middle;\n",
       "    }\n",
       "\n",
       "    .dataframe tbody tr th {\n",
       "        vertical-align: top;\n",
       "    }\n",
       "\n",
       "    .dataframe thead th {\n",
       "        text-align: right;\n",
       "    }\n",
       "</style>\n",
       "<table border=\"1\" class=\"dataframe\">\n",
       "  <thead>\n",
       "    <tr style=\"text-align: right;\">\n",
       "      <th></th>\n",
       "      <th>Unnamed: 0</th>\n",
       "      <th>file</th>\n",
       "      <th>original cell name</th>\n",
       "      <th>Amy_mod</th>\n",
       "      <th>movie</th>\n",
       "      <th>x</th>\n",
       "      <th>y</th>\n",
       "      <th>ab1 (heterochromatin)</th>\n",
       "      <th>ab1 ch</th>\n",
       "      <th>ab2 (MCM)</th>\n",
       "      <th>...</th>\n",
       "      <th>nucleus_Otsu_erosion_outer_9x5_ch2</th>\n",
       "      <th>nucleus_Otsu_erosion_outer_9x5_ch3</th>\n",
       "      <th>nucleus_Otsu_erosion_inner_13x8_volume</th>\n",
       "      <th>nucleus_Otsu_erosion_inner_13x8_ch1</th>\n",
       "      <th>nucleus_Otsu_erosion_inner_13x8_ch2</th>\n",
       "      <th>nucleus_Otsu_erosion_inner_13x8_ch3</th>\n",
       "      <th>nucleus_Otsu_erosion_outer_13x8_volume</th>\n",
       "      <th>nucleus_Otsu_erosion_outer_13x8_ch1</th>\n",
       "      <th>nucleus_Otsu_erosion_outer_13x8_ch2</th>\n",
       "      <th>nucleus_Otsu_erosion_outer_13x8_ch3</th>\n",
       "    </tr>\n",
       "  </thead>\n",
       "  <tbody>\n",
       "    <tr>\n",
       "      <th>0</th>\n",
       "      <td>0</td>\n",
       "      <td>20190625_cell-00.czi</td>\n",
       "      <td>7LE1(B)</td>\n",
       "      <td>1130/10</td>\n",
       "      <td>190619-cdc6-dhb-pcna002xy09</td>\n",
       "      <td>172</td>\n",
       "      <td>956</td>\n",
       "      <td>HP1B</td>\n",
       "      <td>1</td>\n",
       "      <td>MCM3</td>\n",
       "      <td>...</td>\n",
       "      <td>847235311.0</td>\n",
       "      <td>6.867781e+09</td>\n",
       "      <td>108435.0</td>\n",
       "      <td>9.745788e+08</td>\n",
       "      <td>425379714.0</td>\n",
       "      <td>3.213620e+09</td>\n",
       "      <td>351463.0</td>\n",
       "      <td>1.816693e+09</td>\n",
       "      <td>882420324.0</td>\n",
       "      <td>7.137711e+09</td>\n",
       "    </tr>\n",
       "    <tr>\n",
       "      <th>1</th>\n",
       "      <td>1</td>\n",
       "      <td>20190625_cell-01.czi</td>\n",
       "      <td>7L-E1(T)</td>\n",
       "      <td>0</td>\n",
       "      <td>190619-cdc6-dhb-pcna002xy09</td>\n",
       "      <td>158</td>\n",
       "      <td>906</td>\n",
       "      <td>HP1B</td>\n",
       "      <td>1</td>\n",
       "      <td>MCM3</td>\n",
       "      <td>...</td>\n",
       "      <td>833657732.0</td>\n",
       "      <td>7.162939e+09</td>\n",
       "      <td>120724.0</td>\n",
       "      <td>1.040932e+09</td>\n",
       "      <td>468251524.0</td>\n",
       "      <td>3.694105e+09</td>\n",
       "      <td>315813.0</td>\n",
       "      <td>1.598153e+09</td>\n",
       "      <td>802237729.0</td>\n",
       "      <td>6.878110e+09</td>\n",
       "    </tr>\n",
       "    <tr>\n",
       "      <th>2</th>\n",
       "      <td>2</td>\n",
       "      <td>20190625_cell-02.czi</td>\n",
       "      <td>7L-E2(B)</td>\n",
       "      <td>0</td>\n",
       "      <td>190619-cdc6-dhb-pcna002xy09</td>\n",
       "      <td>832</td>\n",
       "      <td>252</td>\n",
       "      <td>HP1B</td>\n",
       "      <td>1</td>\n",
       "      <td>MCM3</td>\n",
       "      <td>...</td>\n",
       "      <td>935399926.0</td>\n",
       "      <td>7.431494e+09</td>\n",
       "      <td>129190.0</td>\n",
       "      <td>1.430971e+09</td>\n",
       "      <td>633238899.0</td>\n",
       "      <td>4.411502e+09</td>\n",
       "      <td>267850.0</td>\n",
       "      <td>1.751315e+09</td>\n",
       "      <td>844649484.0</td>\n",
       "      <td>6.739183e+09</td>\n",
       "    </tr>\n",
       "    <tr>\n",
       "      <th>3</th>\n",
       "      <td>3</td>\n",
       "      <td>20190625_cell-03.czi</td>\n",
       "      <td>7L-E2(T)</td>\n",
       "      <td>0</td>\n",
       "      <td>190619-cdc6-dhb-pcna002xy09</td>\n",
       "      <td>888</td>\n",
       "      <td>160</td>\n",
       "      <td>HP1B</td>\n",
       "      <td>1</td>\n",
       "      <td>MCM3</td>\n",
       "      <td>...</td>\n",
       "      <td>892877230.0</td>\n",
       "      <td>7.047608e+09</td>\n",
       "      <td>128365.0</td>\n",
       "      <td>1.246361e+09</td>\n",
       "      <td>588378714.0</td>\n",
       "      <td>3.992517e+09</td>\n",
       "      <td>293263.0</td>\n",
       "      <td>1.638840e+09</td>\n",
       "      <td>816943925.0</td>\n",
       "      <td>6.482227e+09</td>\n",
       "    </tr>\n",
       "    <tr>\n",
       "      <th>4</th>\n",
       "      <td>4</td>\n",
       "      <td>20190625_cell-05.czi</td>\n",
       "      <td>7L-G2</td>\n",
       "      <td>0</td>\n",
       "      <td>190619-cdc6-dhb-pcna002xy09</td>\n",
       "      <td>172</td>\n",
       "      <td>324</td>\n",
       "      <td>HP1B</td>\n",
       "      <td>1</td>\n",
       "      <td>MCM3</td>\n",
       "      <td>...</td>\n",
       "      <td>961789578.0</td>\n",
       "      <td>1.280485e+10</td>\n",
       "      <td>296285.0</td>\n",
       "      <td>3.478092e+09</td>\n",
       "      <td>900348539.0</td>\n",
       "      <td>9.504919e+09</td>\n",
       "      <td>517987.0</td>\n",
       "      <td>3.527791e+09</td>\n",
       "      <td>937550088.0</td>\n",
       "      <td>1.211177e+10</td>\n",
       "    </tr>\n",
       "  </tbody>\n",
       "</table>\n",
       "<p>5 rows × 79 columns</p>\n",
       "</div>"
      ],
      "text/plain": [
       "   Unnamed: 0                  file original cell name  Amy_mod  \\\n",
       "0           0  20190625_cell-00.czi            7LE1(B)  1130/10   \n",
       "1           1  20190625_cell-01.czi           7L-E1(T)        0   \n",
       "2           2  20190625_cell-02.czi           7L-E2(B)        0   \n",
       "3           3  20190625_cell-03.czi           7L-E2(T)        0   \n",
       "4           4  20190625_cell-05.czi              7L-G2        0   \n",
       "\n",
       "                         movie    x    y ab1 (heterochromatin)  ab1 ch  \\\n",
       "0  190619-cdc6-dhb-pcna002xy09  172  956                  HP1B       1   \n",
       "1  190619-cdc6-dhb-pcna002xy09  158  906                  HP1B       1   \n",
       "2  190619-cdc6-dhb-pcna002xy09  832  252                  HP1B       1   \n",
       "3  190619-cdc6-dhb-pcna002xy09  888  160                  HP1B       1   \n",
       "4  190619-cdc6-dhb-pcna002xy09  172  324                  HP1B       1   \n",
       "\n",
       "  ab2 (MCM)  ...  nucleus_Otsu_erosion_outer_9x5_ch2  \\\n",
       "0      MCM3  ...                         847235311.0   \n",
       "1      MCM3  ...                         833657732.0   \n",
       "2      MCM3  ...                         935399926.0   \n",
       "3      MCM3  ...                         892877230.0   \n",
       "4      MCM3  ...                         961789578.0   \n",
       "\n",
       "   nucleus_Otsu_erosion_outer_9x5_ch3  nucleus_Otsu_erosion_inner_13x8_volume  \\\n",
       "0                        6.867781e+09                                108435.0   \n",
       "1                        7.162939e+09                                120724.0   \n",
       "2                        7.431494e+09                                129190.0   \n",
       "3                        7.047608e+09                                128365.0   \n",
       "4                        1.280485e+10                                296285.0   \n",
       "\n",
       "  nucleus_Otsu_erosion_inner_13x8_ch1 nucleus_Otsu_erosion_inner_13x8_ch2  \\\n",
       "0                        9.745788e+08                         425379714.0   \n",
       "1                        1.040932e+09                         468251524.0   \n",
       "2                        1.430971e+09                         633238899.0   \n",
       "3                        1.246361e+09                         588378714.0   \n",
       "4                        3.478092e+09                         900348539.0   \n",
       "\n",
       "   nucleus_Otsu_erosion_inner_13x8_ch3 nucleus_Otsu_erosion_outer_13x8_volume  \\\n",
       "0                         3.213620e+09                               351463.0   \n",
       "1                         3.694105e+09                               315813.0   \n",
       "2                         4.411502e+09                               267850.0   \n",
       "3                         3.992517e+09                               293263.0   \n",
       "4                         9.504919e+09                               517987.0   \n",
       "\n",
       "   nucleus_Otsu_erosion_outer_13x8_ch1 nucleus_Otsu_erosion_outer_13x8_ch2  \\\n",
       "0                         1.816693e+09                         882420324.0   \n",
       "1                         1.598153e+09                         802237729.0   \n",
       "2                         1.751315e+09                         844649484.0   \n",
       "3                         1.638840e+09                         816943925.0   \n",
       "4                         3.527791e+09                         937550088.0   \n",
       "\n",
       "   nucleus_Otsu_erosion_outer_13x8_ch3  \n",
       "0                         7.137711e+09  \n",
       "1                         6.878110e+09  \n",
       "2                         6.739183e+09  \n",
       "3                         6.482227e+09  \n",
       "4                         1.211177e+10  \n",
       "\n",
       "[5 rows x 79 columns]"
      ]
     },
     "execution_count": 8,
     "metadata": {},
     "output_type": "execute_result"
    }
   ],
   "source": [
    "orgdata.head()"
   ]
  },
  {
   "cell_type": "code",
   "execution_count": 9,
   "metadata": {},
   "outputs": [],
   "source": [
    "newdata=newdata.drop(columns=['Unnamed: 0','Unnamed: 0.1','Unnamed: 0.1.1'])\n",
    "newdata=newdata.drop(newdata.iloc[:,19:60], axis=1)"
   ]
  },
  {
   "cell_type": "code",
   "execution_count": 10,
   "metadata": {},
   "outputs": [
    {
     "data": {
      "text/html": [
       "<div>\n",
       "<style scoped>\n",
       "    .dataframe tbody tr th:only-of-type {\n",
       "        vertical-align: middle;\n",
       "    }\n",
       "\n",
       "    .dataframe tbody tr th {\n",
       "        vertical-align: top;\n",
       "    }\n",
       "\n",
       "    .dataframe thead th {\n",
       "        text-align: right;\n",
       "    }\n",
       "</style>\n",
       "<table border=\"1\" class=\"dataframe\">\n",
       "  <thead>\n",
       "    <tr style=\"text-align: right;\">\n",
       "      <th></th>\n",
       "      <th>file</th>\n",
       "      <th>original cell name</th>\n",
       "      <th>movie</th>\n",
       "      <th>last frame movie position x</th>\n",
       "      <th>last frame movie position y</th>\n",
       "      <th>ab1 (MCM)</th>\n",
       "      <th>ab1 ch</th>\n",
       "      <th>ab2 (heterochromatin)</th>\n",
       "      <th>ab2 ch</th>\n",
       "      <th>DAPI ch</th>\n",
       "      <th>DIC ch</th>\n",
       "      <th>category</th>\n",
       "      <th>molecular age</th>\n",
       "      <th>physical age [min]</th>\n",
       "      <th>imaging core</th>\n",
       "      <th>cell id for tracking</th>\n",
       "      <th>comment</th>\n",
       "      <th>molecular age 10</th>\n",
       "      <th>path</th>\n",
       "    </tr>\n",
       "  </thead>\n",
       "  <tbody>\n",
       "    <tr>\n",
       "      <th>0</th>\n",
       "      <td>20191203_cell-00.czi</td>\n",
       "      <td>20191125-01-17</td>\n",
       "      <td>191125pcnat_dhbr_cdc6vxy01</td>\n",
       "      <td>678.301</td>\n",
       "      <td>200.931</td>\n",
       "      <td>MCM3</td>\n",
       "      <td>1</td>\n",
       "      <td>HP1beta</td>\n",
       "      <td>2</td>\n",
       "      <td>3</td>\n",
       "      <td>4</td>\n",
       "      <td>middleG1</td>\n",
       "      <td>0.444</td>\n",
       "      <td>340.0</td>\n",
       "      <td>HIC</td>\n",
       "      <td>17</td>\n",
       "      <td>NaN</td>\n",
       "      <td>0.311</td>\n",
       "      <td>Z:\\CookLab\\Liu\\20190816_organizedData_MCM_load...</td>\n",
       "    </tr>\n",
       "    <tr>\n",
       "      <th>1</th>\n",
       "      <td>20191203_cell-01.czi</td>\n",
       "      <td>20191125-01-20</td>\n",
       "      <td>191125pcnat_dhbr_cdc6vxy01</td>\n",
       "      <td>1552.152</td>\n",
       "      <td>240.479</td>\n",
       "      <td>MCM3</td>\n",
       "      <td>1</td>\n",
       "      <td>HP1beta</td>\n",
       "      <td>2</td>\n",
       "      <td>3</td>\n",
       "      <td>4</td>\n",
       "      <td>G2</td>\n",
       "      <td>1.373</td>\n",
       "      <td>NaN</td>\n",
       "      <td>HIC</td>\n",
       "      <td>20</td>\n",
       "      <td>110 min after s</td>\n",
       "      <td>2.036</td>\n",
       "      <td>Z:\\CookLab\\Liu\\20190816_organizedData_MCM_load...</td>\n",
       "    </tr>\n",
       "    <tr>\n",
       "      <th>2</th>\n",
       "      <td>20191203_cell-02.czi</td>\n",
       "      <td>20191125-01-23</td>\n",
       "      <td>191125pcnat_dhbr_cdc6vxy01</td>\n",
       "      <td>1131.436</td>\n",
       "      <td>318.530</td>\n",
       "      <td>MCM3</td>\n",
       "      <td>1</td>\n",
       "      <td>HP1beta</td>\n",
       "      <td>2</td>\n",
       "      <td>3</td>\n",
       "      <td>4</td>\n",
       "      <td>G2</td>\n",
       "      <td>1.371</td>\n",
       "      <td>910.0</td>\n",
       "      <td>HIC</td>\n",
       "      <td>23</td>\n",
       "      <td>30 min after S</td>\n",
       "      <td>1.960</td>\n",
       "      <td>Z:\\CookLab\\Liu\\20190816_organizedData_MCM_load...</td>\n",
       "    </tr>\n",
       "    <tr>\n",
       "      <th>3</th>\n",
       "      <td>20191203_cell-03.czi</td>\n",
       "      <td>20191125-01-25</td>\n",
       "      <td>191125pcnat_dhbr_cdc6vxy01</td>\n",
       "      <td>1650.585</td>\n",
       "      <td>324.968</td>\n",
       "      <td>MCM3</td>\n",
       "      <td>1</td>\n",
       "      <td>HP1beta</td>\n",
       "      <td>2</td>\n",
       "      <td>3</td>\n",
       "      <td>4</td>\n",
       "      <td>earlyG1</td>\n",
       "      <td>0.704</td>\n",
       "      <td>30.0</td>\n",
       "      <td>HIC</td>\n",
       "      <td>25</td>\n",
       "      <td>NaN</td>\n",
       "      <td>0.632</td>\n",
       "      <td>Z:\\CookLab\\Liu\\20190816_organizedData_MCM_load...</td>\n",
       "    </tr>\n",
       "    <tr>\n",
       "      <th>4</th>\n",
       "      <td>20191203_cell-04.czi</td>\n",
       "      <td>20191125-01-32</td>\n",
       "      <td>191125pcnat_dhbr_cdc6vxy01</td>\n",
       "      <td>1466.687</td>\n",
       "      <td>426.815</td>\n",
       "      <td>MCM3</td>\n",
       "      <td>1</td>\n",
       "      <td>HP1beta</td>\n",
       "      <td>2</td>\n",
       "      <td>3</td>\n",
       "      <td>4</td>\n",
       "      <td>middleG1</td>\n",
       "      <td>0.345</td>\n",
       "      <td>250.0</td>\n",
       "      <td>HIC</td>\n",
       "      <td>32</td>\n",
       "      <td>NaN</td>\n",
       "      <td>0.225</td>\n",
       "      <td>Z:\\CookLab\\Liu\\20190816_organizedData_MCM_load...</td>\n",
       "    </tr>\n",
       "  </tbody>\n",
       "</table>\n",
       "</div>"
      ],
      "text/plain": [
       "                   file original cell name                       movie  \\\n",
       "0  20191203_cell-00.czi     20191125-01-17  191125pcnat_dhbr_cdc6vxy01   \n",
       "1  20191203_cell-01.czi     20191125-01-20  191125pcnat_dhbr_cdc6vxy01   \n",
       "2  20191203_cell-02.czi     20191125-01-23  191125pcnat_dhbr_cdc6vxy01   \n",
       "3  20191203_cell-03.czi     20191125-01-25  191125pcnat_dhbr_cdc6vxy01   \n",
       "4  20191203_cell-04.czi     20191125-01-32  191125pcnat_dhbr_cdc6vxy01   \n",
       "\n",
       "   last frame movie position x  last frame movie position y ab1 (MCM)  ab1 ch  \\\n",
       "0                      678.301                      200.931      MCM3       1   \n",
       "1                     1552.152                      240.479      MCM3       1   \n",
       "2                     1131.436                      318.530      MCM3       1   \n",
       "3                     1650.585                      324.968      MCM3       1   \n",
       "4                     1466.687                      426.815      MCM3       1   \n",
       "\n",
       "  ab2 (heterochromatin)  ab2 ch  DAPI ch  DIC ch  category  molecular age   \\\n",
       "0               HP1beta       2        3       4  middleG1           0.444   \n",
       "1               HP1beta       2        3       4        G2           1.373   \n",
       "2               HP1beta       2        3       4        G2           1.371   \n",
       "3               HP1beta       2        3       4   earlyG1           0.704   \n",
       "4               HP1beta       2        3       4  middleG1           0.345   \n",
       "\n",
       "   physical age [min] imaging core  cell id for tracking          comment  \\\n",
       "0               340.0          HIC                    17              NaN   \n",
       "1                 NaN          HIC                    20  110 min after s   \n",
       "2               910.0          HIC                    23   30 min after S   \n",
       "3                30.0          HIC                    25              NaN   \n",
       "4               250.0          HIC                    32              NaN   \n",
       "\n",
       "   molecular age 10                                               path  \n",
       "0             0.311  Z:\\CookLab\\Liu\\20190816_organizedData_MCM_load...  \n",
       "1             2.036  Z:\\CookLab\\Liu\\20190816_organizedData_MCM_load...  \n",
       "2             1.960  Z:\\CookLab\\Liu\\20190816_organizedData_MCM_load...  \n",
       "3             0.632  Z:\\CookLab\\Liu\\20190816_organizedData_MCM_load...  \n",
       "4             0.225  Z:\\CookLab\\Liu\\20190816_organizedData_MCM_load...  "
      ]
     },
     "execution_count": 10,
     "metadata": {},
     "output_type": "execute_result"
    }
   ],
   "source": [
    "newdata.head()"
   ]
  },
  {
   "cell_type": "markdown",
   "metadata": {},
   "source": [
    "# 2020 dataset calculations"
   ]
  },
  {
   "cell_type": "code",
   "execution_count": 11,
   "metadata": {},
   "outputs": [],
   "source": [
    "bigDir=r'Z:\\CookLab\\Liu\\20190816_organizedData_MCM_loading\\20200207_new data'"
   ]
  },
  {
   "cell_type": "code",
   "execution_count": 12,
   "metadata": {},
   "outputs": [],
   "source": [
    "file=f'{bigDir}\\\\cellinfo_200203_v7.csv'\n",
    "data=pd.read_csv(file)"
   ]
  },
  {
   "cell_type": "markdown",
   "metadata": {},
   "source": [
    "# Geminin dataset calculations"
   ]
  },
  {
   "cell_type": "code",
   "execution_count": 2,
   "metadata": {},
   "outputs": [],
   "source": [
    "bigDir=r'Z:\\CookLab\\Liu\\20190816_organizedData_MCM_loading\\20200217_geminin'"
   ]
  },
  {
   "cell_type": "code",
   "execution_count": 3,
   "metadata": {},
   "outputs": [],
   "source": [
    "file=f'{bigDir}\\\\200217_cellinfo_v3.csv'\n",
    "data=pd.read_csv(file)"
   ]
  },
  {
   "cell_type": "markdown",
   "metadata": {},
   "source": [
    "# H3K9ME3 "
   ]
  },
  {
   "cell_type": "code",
   "execution_count": 4,
   "metadata": {},
   "outputs": [],
   "source": [
    "bigDir=r'Z:\\CookLab\\Liu\\20190816_organizedData_MCM_loading\\20200604_h3k9me3'"
   ]
  },
  {
   "cell_type": "code",
   "execution_count": 5,
   "metadata": {},
   "outputs": [],
   "source": [
    "file=f'{bigDir}\\\\cellinfo_200604v3.csv'\n",
    "data=pd.read_csv(file)"
   ]
  },
  {
   "cell_type": "markdown",
   "metadata": {},
   "source": [
    "# H3K9ME3 2nd dataset"
   ]
  },
  {
   "cell_type": "code",
   "execution_count": 2,
   "metadata": {},
   "outputs": [],
   "source": [
    "bigDir=r'Z:\\CookLab\\Liu\\20190816_organizedData_MCM_loading\\20200615_h3k9me3'"
   ]
  },
  {
   "cell_type": "code",
   "execution_count": 4,
   "metadata": {},
   "outputs": [],
   "source": [
    "file=f'{bigDir}\\\\cellinfo_200615v2.csv'\n",
    "data=pd.read_csv(file)"
   ]
  },
  {
   "cell_type": "code",
   "execution_count": null,
   "metadata": {},
   "outputs": [],
   "source": []
  },
  {
   "cell_type": "markdown",
   "metadata": {},
   "source": [
    "# mcm calculations"
   ]
  },
  {
   "cell_type": "code",
   "execution_count": 6,
   "metadata": {},
   "outputs": [],
   "source": [
    "def calculate_mcm_signals (name, data):\n",
    "    \n",
    "    ## if the given dataset is new, the mcm channel is 0\n",
    "    ## else, mcm channel is 1 (for original dataset)\n",
    "    if name==\"new\":\n",
    "        mcm=0\n",
    "    else:\n",
    "        mcm=1\n",
    "    i=0\n",
    "    progBar=widgets.IntProgress(\n",
    "        value=i,\n",
    "        min=0,\n",
    "        max=len(data),\n",
    "        step=1,\n",
    "        description='Progress:',\n",
    "        orientation='horizontal'\n",
    "    )\n",
    "    display(progBar)\n",
    "    for i,myCell in islice(data.iterrows(), i,None):\n",
    "        # i = index of the row\n",
    "        # myCell the entire row of the that index i = data.iloc[i]\n",
    "        \n",
    "        ## opening cell image\n",
    "        try:\n",
    "            myImage=imread(myCell.path) \n",
    "        except:\n",
    "            myCell.path=myCell.path.replace('.tif','.tiff')\n",
    "            myImage=imread(myCell.path)\n",
    "        \n",
    "        ## setting arrays with names \n",
    "        \n",
    "        ### for the column names\n",
    "        pixels=['total','het','eu']\n",
    "        components=['nuc','inner','outer']\n",
    "        \n",
    "        ### for image names\n",
    "        dirs=['segmentation_nucleus_Otsu','erosion_nuc_mask','erosion_nuc_mask',\n",
    "              'segmentation_20','segmentation_20_erosion','segmentation_20_erosion',\n",
    "             'segmentation_20_eu','segmentation_20_eu_erosion','segmentation_20_eu_erosion',]\n",
    "\n",
    "        files=['_nucleus.tif','_eroded_9^5_inner_mask_20.tif','_eroded_9^5_outer_mask_20.tif',\n",
    "                   '_hetChrom.tif', '_hetChrom_inner.tif', '_hetChrom_outer.tif',\n",
    "                   '_euChrom.tif', '_euChrom_inner.tif','_euChrom_outer.tif']\n",
    "\n",
    "        ## making a dummy dataframe to store the signal calculations\n",
    "        df=pd.DataFrame(columns=['nuc_vol_total','inner_vol_total','outer_vol_total',\n",
    "                                 'nuc_mcm_total','inner_mcm_total','outer_mcm_total',\n",
    "                                'nuc_vol_het','inner_vol_het','outer_vol_het',\n",
    "                                 'nuc_mcm_het','inner_mcm_het','outer_mcm_het',\n",
    "                                 'nuc_vol_eu','inner_vol_eu','outer_vol_eu',\n",
    "                                'nuc_mcm_eu','inner_mcm_eu', 'outer_mcm_eu'])\n",
    "\n",
    "        ## signals calculated\n",
    "        for k in range(len(pixels)): # 0 to 2 - 3 values for total, het, eu\n",
    "            for j in range(len(components)): \n",
    "                # 0 to 2 \n",
    "                           \n",
    "                # 1 loop\n",
    "                # total (k=0) , nuc  (j=0)\n",
    "                # total (k=0), inner (j=1)\n",
    "                # total (k=0), outer (j=2)\n",
    "                           \n",
    "                ## copying image every time new signal is calculated\n",
    "                myIm=myImage.copy()\n",
    "                myChannel=myIm[:,mcm,:,:] \n",
    "                \n",
    "                ## column name set up based on the component and the pixels\n",
    "                currColName=f'{components[j]}_mcm_{pixels[k]}' # nuc_mcm_total\n",
    "                \n",
    "                ## opening mask images\n",
    "                ### the indexing is in such way so that the image opened matches up with the name being used for calculation\n",
    "                direc=myCell.path.replace('data_tiff',dirs[(j)+(k*3)]) \n",
    "                    # dir[0+0] = dir[0]= segmentation_nuclues_otsu\n",
    "                    # dirs[1+0] = dir[1] = erosion_nuc_mask\n",
    "                    # dir[2+0] = dir[2] = erosion_nuc_mask\n",
    "                \n",
    "                           \n",
    "                try:\n",
    "                    direc=direc.replace('.tif',files[(k*3)+(j)])\n",
    "                    mask=imread(direc)  \n",
    "                except:\n",
    "                    direc=direc.replace('_nucleus.tiff',files[(k*3)+(j)])\n",
    "                    mask=imread(direc)\n",
    "\n",
    "                ## changing mask type to binary\n",
    "                mask=mask.astype(bool)\n",
    "                \n",
    "                ## masking the image\n",
    "                myChannel[~mask]=0\n",
    "                \n",
    "                ## calculating the signal\n",
    "                df[f'{currColName}']=myChannel.sum(-1).sum(-1)\n",
    "                           \n",
    "                ## calculating the volume of the pixels\n",
    "                currColName=f'{components[j]}_vol_{pixels[k]}'\n",
    "                df.loc[0,f'{currColName}']=np.sum(mask)\n",
    "        \n",
    "        ## saving the calculated signals to original/big dataframe\n",
    "        for myMeasurement in df.columns:\n",
    "            myString=f\"data.loc[i,'{myMeasurement}']=np.sum(df.{myMeasurement})\"\n",
    "            exec(myString)\n",
    "        \n",
    "\n",
    "        progBar.value=progBar.value+1\n",
    "        "
   ]
  },
  {
   "cell_type": "code",
   "execution_count": 10,
   "metadata": {},
   "outputs": [
    {
     "data": {
      "application/vnd.jupyter.widget-view+json": {
       "model_id": "e2c9560195c5453c97d33ef32cb4da94",
       "version_major": 2,
       "version_minor": 0
      },
      "text/plain": [
       "IntProgress(value=0, description='Progress:', max=324)"
      ]
     },
     "metadata": {},
     "output_type": "display_data"
    }
   ],
   "source": [
    "## running the function for new dataset\n",
    "calculate_mcm_signals (\"new\", newdata) # mcm channel  = 0, thats why 'new'"
   ]
  },
  {
   "cell_type": "code",
   "execution_count": 13,
   "metadata": {},
   "outputs": [
    {
     "name": "stdout",
     "output_type": "stream",
     "text": [
      "1.00000000069842 0.9999999981338163 1.0000000045880304\n"
     ]
    }
   ],
   "source": [
    "## testing to see if the calculated signals have results as expected\n",
    "print(\n",
    "(np.sum(newdata['nuc_mcm_het']+newdata['nuc_mcm_eu']))/np.sum(newdata['nuc_mcm_total']),\n",
    "(np.mean(newdata['inner_mcm_het'])+np.mean(newdata['inner_mcm_eu']))/np.mean(newdata['inner_mcm_total']),\n",
    "(np.sum(newdata['outer_mcm_het']+newdata['outer_mcm_eu']))/np.sum(newdata['outer_mcm_total']))"
   ]
  },
  {
   "cell_type": "code",
   "execution_count": 12,
   "metadata": {},
   "outputs": [
    {
     "name": "stdout",
     "output_type": "stream",
     "text": [
      "1.0000000008276106 1.0000000000969513 1.00000000069842 0.9999999976847376\n"
     ]
    }
   ],
   "source": [
    "print(\n",
    "(np.sum(newdata['inner_mcm_het']+newdata['outer_mcm_het']))/np.sum(newdata['nuc_mcm_het']),\n",
    "(np.mean(newdata['outer_mcm_eu'])+np.mean(newdata['inner_mcm_eu']))/np.mean(newdata['nuc_mcm_eu']),\n",
    "(np.sum(newdata['nuc_mcm_het'])+np.sum(newdata['nuc_mcm_eu']))/np.sum(newdata['nuc_mcm_total']),\n",
    "(np.sum(newdata['inner_mcm_total']+newdata['outer_mcm_total'])/np.sum(newdata['nuc_mcm_total'])))"
   ]
  },
  {
   "cell_type": "code",
   "execution_count": 14,
   "metadata": {},
   "outputs": [],
   "source": [
    "## saving the dataset with calculated signals\n",
    "newdata.to_csv(f'{bigDir}\\\\new dataset\\signals_new_v1.csv')"
   ]
  },
  {
   "cell_type": "markdown",
   "metadata": {},
   "source": [
    "### mcm calculations for 2020 dataset"
   ]
  },
  {
   "cell_type": "code",
   "execution_count": 16,
   "metadata": {},
   "outputs": [
    {
     "data": {
      "application/vnd.jupyter.widget-view+json": {
       "model_id": "8177d52416f747008bbdcbdf58362057",
       "version_major": 2,
       "version_minor": 0
      },
      "text/plain": [
       "IntProgress(value=0, description='Progress:', max=146)"
      ]
     },
     "metadata": {},
     "output_type": "display_data"
    }
   ],
   "source": [
    "## running the function for new dataset\n",
    "calculate_mcm_signals (\"2020\", data) # MCM channel = 2nd "
   ]
  },
  {
   "cell_type": "code",
   "execution_count": 17,
   "metadata": {},
   "outputs": [
    {
     "name": "stdout",
     "output_type": "stream",
     "text": [
      "1.0 1.0000000000000002 1.0\n"
     ]
    }
   ],
   "source": [
    "## testing to see if the calculated signals have results as expected\n",
    "print(\n",
    "(np.sum(data['nuc_mcm_het']+data['nuc_mcm_eu']))/np.sum(data['nuc_mcm_total']),\n",
    "(np.mean(data['inner_mcm_het'])+np.mean(data['inner_mcm_eu']))/np.mean(data['inner_mcm_total']),\n",
    "(np.sum(data['outer_mcm_het']+data['outer_mcm_eu']))/np.sum(data['outer_mcm_total']))"
   ]
  },
  {
   "cell_type": "code",
   "execution_count": 18,
   "metadata": {},
   "outputs": [
    {
     "name": "stdout",
     "output_type": "stream",
     "text": [
      "1.0 1.0000000000000002 1.0 1.0\n"
     ]
    }
   ],
   "source": [
    "print(\n",
    "(np.sum(data['inner_mcm_het']+data['outer_mcm_het']))/np.sum(data['nuc_mcm_het']),\n",
    "(np.mean(data['outer_mcm_eu'])+np.mean(data['inner_mcm_eu']))/np.mean(data['nuc_mcm_eu']),\n",
    "(np.sum(data['nuc_mcm_het'])+np.sum(data['nuc_mcm_eu']))/np.sum(data['nuc_mcm_total']),\n",
    "(np.sum(data['inner_mcm_total']+data['outer_mcm_total'])/np.sum(data['nuc_mcm_total'])))"
   ]
  },
  {
   "cell_type": "code",
   "execution_count": 20,
   "metadata": {},
   "outputs": [],
   "source": [
    "## saving the dataset with calculated signals\n",
    "data.to_csv(f'{bigDir}\\\\cellinfo_200203_v7.csv')"
   ]
  },
  {
   "cell_type": "markdown",
   "metadata": {},
   "source": [
    "### mcm calculations for geminin dataset"
   ]
  },
  {
   "cell_type": "code",
   "execution_count": 5,
   "metadata": {},
   "outputs": [
    {
     "data": {
      "application/vnd.jupyter.widget-view+json": {
       "model_id": "73a23b2eb9ea4440a2479dfd1acd552a",
       "version_major": 2,
       "version_minor": 0
      },
      "text/plain": [
       "IntProgress(value=0, description='Progress:', max=145)"
      ]
     },
     "metadata": {},
     "output_type": "display_data"
    }
   ],
   "source": [
    "## running the function for geminin dataset\n",
    "calculate_mcm_signals (\"new\", data) # MCM channel = 2nd "
   ]
  },
  {
   "cell_type": "code",
   "execution_count": 6,
   "metadata": {},
   "outputs": [
    {
     "name": "stdout",
     "output_type": "stream",
     "text": [
      "1.0 1.0 1.0\n"
     ]
    }
   ],
   "source": [
    "## testing to see if the calculated signals have results as expected\n",
    "print(\n",
    "(np.sum(data['nuc_mcm_het']+data['nuc_mcm_eu']))/np.sum(data['nuc_mcm_total']),\n",
    "(np.mean(data['inner_mcm_het'])+np.mean(data['inner_mcm_eu']))/np.mean(data['inner_mcm_total']),\n",
    "(np.sum(data['outer_mcm_het']+data['outer_mcm_eu']))/np.sum(data['outer_mcm_total']))"
   ]
  },
  {
   "cell_type": "code",
   "execution_count": 7,
   "metadata": {},
   "outputs": [
    {
     "name": "stdout",
     "output_type": "stream",
     "text": [
      "1.0 1.0 1.0 1.0\n"
     ]
    }
   ],
   "source": [
    "print(\n",
    "(np.sum(data['inner_mcm_het']+data['outer_mcm_het']))/np.sum(data['nuc_mcm_het']),\n",
    "(np.mean(data['outer_mcm_eu'])+np.mean(data['inner_mcm_eu']))/np.mean(data['nuc_mcm_eu']),\n",
    "(np.sum(data['nuc_mcm_het'])+np.sum(data['nuc_mcm_eu']))/np.sum(data['nuc_mcm_total']),\n",
    "(np.sum(data['inner_mcm_total']+data['outer_mcm_total'])/np.sum(data['nuc_mcm_total'])))"
   ]
  },
  {
   "cell_type": "code",
   "execution_count": 8,
   "metadata": {},
   "outputs": [],
   "source": [
    "## saving the dataset with calculated signals\n",
    "data.to_csv(file.replace('v3','v4'))"
   ]
  },
  {
   "cell_type": "markdown",
   "metadata": {},
   "source": [
    "### mcm calculations for h3k9me3 dataset"
   ]
  },
  {
   "cell_type": "code",
   "execution_count": 8,
   "metadata": {},
   "outputs": [
    {
     "data": {
      "application/vnd.jupyter.widget-view+json": {
       "model_id": "5cc9ee8f9f3d4ea3adb6b6a689edb5e0",
       "version_major": 2,
       "version_minor": 0
      },
      "text/plain": [
       "IntProgress(value=0, description='Progress:', max=78)"
      ]
     },
     "metadata": {},
     "output_type": "display_data"
    }
   ],
   "source": [
    "## running the function for geminin dataset\n",
    "calculate_mcm_signals (\"h3k9me3\", data) # MCM channel = 2nd "
   ]
  },
  {
   "cell_type": "code",
   "execution_count": 9,
   "metadata": {},
   "outputs": [
    {
     "name": "stdout",
     "output_type": "stream",
     "text": [
      "1.0 1.0 1.0\n"
     ]
    }
   ],
   "source": [
    "## testing to see if the calculated signals have results as expected\n",
    "print(\n",
    "(np.sum(data['nuc_mcm_het']+data['nuc_mcm_eu']))/np.sum(data['nuc_mcm_total']),\n",
    "(np.mean(data['inner_mcm_het'])+np.mean(data['inner_mcm_eu']))/np.mean(data['inner_mcm_total']),\n",
    "(np.sum(data['outer_mcm_het']+data['outer_mcm_eu']))/np.sum(data['outer_mcm_total']))"
   ]
  },
  {
   "cell_type": "code",
   "execution_count": 10,
   "metadata": {},
   "outputs": [
    {
     "name": "stdout",
     "output_type": "stream",
     "text": [
      "1.0 1.0 1.0 1.0\n"
     ]
    }
   ],
   "source": [
    "print(\n",
    "(np.sum(data['inner_mcm_het']+data['outer_mcm_het']))/np.sum(data['nuc_mcm_het']),\n",
    "(np.mean(data['outer_mcm_eu'])+np.mean(data['inner_mcm_eu']))/np.mean(data['nuc_mcm_eu']),\n",
    "(np.sum(data['nuc_mcm_het'])+np.sum(data['nuc_mcm_eu']))/np.sum(data['nuc_mcm_total']),\n",
    "(np.sum(data['inner_mcm_total']+data['outer_mcm_total'])/np.sum(data['nuc_mcm_total'])))"
   ]
  },
  {
   "cell_type": "code",
   "execution_count": 11,
   "metadata": {},
   "outputs": [],
   "source": [
    "## saving the dataset with calculated signals\n",
    "data.to_csv(file.replace('v3','v4'))"
   ]
  },
  {
   "cell_type": "markdown",
   "metadata": {},
   "source": [
    "### mcm calculations for h3k9me3 2nd dataset"
   ]
  },
  {
   "cell_type": "code",
   "execution_count": 7,
   "metadata": {},
   "outputs": [
    {
     "data": {
      "application/vnd.jupyter.widget-view+json": {
       "model_id": "361ab83bdf6c4aa7b13196e32e68276e",
       "version_major": 2,
       "version_minor": 0
      },
      "text/plain": [
       "IntProgress(value=0, description='Progress:', max=88)"
      ]
     },
     "metadata": {},
     "output_type": "display_data"
    }
   ],
   "source": [
    "## running the function for geminin dataset\n",
    "calculate_mcm_signals (\"h3k9me3\", data) # MCM channel = 2nd "
   ]
  },
  {
   "cell_type": "code",
   "execution_count": 8,
   "metadata": {},
   "outputs": [
    {
     "name": "stdout",
     "output_type": "stream",
     "text": [
      "1.0 0.9999999999999998 1.0\n"
     ]
    }
   ],
   "source": [
    "## testing to see if the calculated signals have results as expected\n",
    "print(\n",
    "(np.sum(data['nuc_mcm_het']+data['nuc_mcm_eu']))/np.sum(data['nuc_mcm_total']),\n",
    "(np.mean(data['inner_mcm_het'])+np.mean(data['inner_mcm_eu']))/np.mean(data['inner_mcm_total']),\n",
    "(np.sum(data['outer_mcm_het']+data['outer_mcm_eu']))/np.sum(data['outer_mcm_total']))"
   ]
  },
  {
   "cell_type": "code",
   "execution_count": 9,
   "metadata": {},
   "outputs": [
    {
     "name": "stdout",
     "output_type": "stream",
     "text": [
      "1.0 1.0 1.0 1.0\n"
     ]
    }
   ],
   "source": [
    "print(\n",
    "(np.sum(data['inner_mcm_het']+data['outer_mcm_het']))/np.sum(data['nuc_mcm_het']),\n",
    "(np.mean(data['outer_mcm_eu'])+np.mean(data['inner_mcm_eu']))/np.mean(data['nuc_mcm_eu']),\n",
    "(np.sum(data['nuc_mcm_het'])+np.sum(data['nuc_mcm_eu']))/np.sum(data['nuc_mcm_total']),\n",
    "(np.sum(data['inner_mcm_total']+data['outer_mcm_total'])/np.sum(data['nuc_mcm_total'])))"
   ]
  },
  {
   "cell_type": "code",
   "execution_count": 12,
   "metadata": {},
   "outputs": [],
   "source": [
    "## saving the dataset with calculated signals\n",
    "data.to_csv(file.replace('v2','v3'))"
   ]
  },
  {
   "cell_type": "code",
   "execution_count": null,
   "metadata": {},
   "outputs": [],
   "source": []
  }
 ],
 "metadata": {
  "kernelspec": {
   "display_name": "Python 3",
   "language": "python",
   "name": "python3"
  },
  "language_info": {
   "codemirror_mode": {
    "name": "ipython",
    "version": 3
   },
   "file_extension": ".py",
   "mimetype": "text/x-python",
   "name": "python",
   "nbconvert_exporter": "python",
   "pygments_lexer": "ipython3",
   "version": "3.7.3"
  }
 },
 "nbformat": 4,
 "nbformat_minor": 2
}
