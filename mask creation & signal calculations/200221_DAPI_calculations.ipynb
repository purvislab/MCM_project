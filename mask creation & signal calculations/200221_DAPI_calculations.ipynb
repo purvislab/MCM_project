{
 "cells": [
  {
   "cell_type": "code",
   "execution_count": 1,
   "metadata": {},
   "outputs": [],
   "source": [
    "import os\n",
    "from os import listdir\n",
    "from os.path import isfile, join\n",
    "\n",
    "import pandas as pd\n",
    "from itertools import islice\n",
    "import numpy as np\n",
    "\n",
    "from skimage.external import tifffile\n",
    "from skimage.external.tifffile import imread\n",
    "\n",
    "import matplotlib.pyplot as plt\n",
    "\n",
    "import ipywidgets as widgets\n",
    "\n",
    "import random\n",
    "\n",
    "\n",
    "from scipy.ndimage.morphology import binary_erosion as br\n",
    "from skimage import morphology as skmor\n",
    "\n",
    "from scipy import ndimage\n",
    "from PIL import Image, ImageDraw\n",
    "\n",
    "import numpy.ma as ma\n",
    "\n",
    "from skimage.measure import label, regionprops"
   ]
  },
  {
   "cell_type": "markdown",
   "metadata": {},
   "source": [
    "## to calculate\n",
    "1.\tnucleus_DAPI_total\n",
    "2.\touter_DAPI_total\n",
    "3.\tinner_DAPI_total\n",
    "4.\tnucleus_DAPI_hetChrom\n",
    "5.\touter_DAPI_hetChrom\n",
    "6.\tinner_DAPI_hetChrom\n",
    "7.\tnucleus_DAPI_euChrom\n",
    "8.\touter_DAPI_euChrom\n",
    "9.\tinner_DAPI_euChrom\n",
    "\n"
   ]
  },
  {
   "cell_type": "markdown",
   "metadata": {},
   "source": [
    "# gathering files\n",
    "deleting the columns with the signals to recalculate and collect data"
   ]
  },
  {
   "cell_type": "code",
   "execution_count": 2,
   "metadata": {},
   "outputs": [],
   "source": [
    "bigDir=r'Z:\\CookLab\\Liu\\20190816_organizedData_MCM_loading'"
   ]
  },
  {
   "cell_type": "code",
   "execution_count": 3,
   "metadata": {},
   "outputs": [],
   "source": [
    "orgfile=f'{bigDir}\\\\signals_org_v1.csv'\n",
    "newfile=f'{bigDir}\\\\new dataset\\signals_new_v1.csv'"
   ]
  },
  {
   "cell_type": "code",
   "execution_count": 4,
   "metadata": {},
   "outputs": [],
   "source": [
    "orgdata=pd.read_csv(orgfile)\n",
    "newdata=pd.read_csv(newfile)"
   ]
  },
  {
   "cell_type": "code",
   "execution_count": 5,
   "metadata": {},
   "outputs": [],
   "source": [
    "orgdata=orgdata.drop(columns=['Unnamed: 0','Unnamed: 0.1'])"
   ]
  },
  {
   "cell_type": "code",
   "execution_count": 6,
   "metadata": {},
   "outputs": [
    {
     "data": {
      "text/html": [
       "<div>\n",
       "<style scoped>\n",
       "    .dataframe tbody tr th:only-of-type {\n",
       "        vertical-align: middle;\n",
       "    }\n",
       "\n",
       "    .dataframe tbody tr th {\n",
       "        vertical-align: top;\n",
       "    }\n",
       "\n",
       "    .dataframe thead th {\n",
       "        text-align: right;\n",
       "    }\n",
       "</style>\n",
       "<table border=\"1\" class=\"dataframe\">\n",
       "  <thead>\n",
       "    <tr style=\"text-align: right;\">\n",
       "      <th></th>\n",
       "      <th>file</th>\n",
       "      <th>original cell name</th>\n",
       "      <th>Amy_mod</th>\n",
       "      <th>movie</th>\n",
       "      <th>x</th>\n",
       "      <th>y</th>\n",
       "      <th>ab1 (heterochromatin)</th>\n",
       "      <th>ab1 ch</th>\n",
       "      <th>ab2 (MCM)</th>\n",
       "      <th>ab2 ch</th>\n",
       "      <th>...</th>\n",
       "      <th>outer_vol_het</th>\n",
       "      <th>nuc_mcm_het</th>\n",
       "      <th>inner_mcm_het</th>\n",
       "      <th>outer_mcm_het</th>\n",
       "      <th>nuc_vol_eu</th>\n",
       "      <th>inner_vol_eu</th>\n",
       "      <th>outer_vol_eu</th>\n",
       "      <th>nuc_mcm_eu</th>\n",
       "      <th>inner_mcm_eu</th>\n",
       "      <th>outer_mcm_eu</th>\n",
       "    </tr>\n",
       "  </thead>\n",
       "  <tbody>\n",
       "    <tr>\n",
       "      <th>0</th>\n",
       "      <td>20190625_cell-00.czi</td>\n",
       "      <td>7LE1(B)</td>\n",
       "      <td>1130/10</td>\n",
       "      <td>190619-cdc6-dhb-pcna002xy09</td>\n",
       "      <td>172</td>\n",
       "      <td>956</td>\n",
       "      <td>HP1B</td>\n",
       "      <td>1</td>\n",
       "      <td>MCM3</td>\n",
       "      <td>2</td>\n",
       "      <td>...</td>\n",
       "      <td>35278.0</td>\n",
       "      <td>339523731.0</td>\n",
       "      <td>221011475.0</td>\n",
       "      <td>118512256.0</td>\n",
       "      <td>368014.0</td>\n",
       "      <td>116892.0</td>\n",
       "      <td>251122.0</td>\n",
       "      <td>1.213846e+09</td>\n",
       "      <td>455560702.0</td>\n",
       "      <td>758284889.0</td>\n",
       "    </tr>\n",
       "    <tr>\n",
       "      <th>1</th>\n",
       "      <td>20190625_cell-01.czi</td>\n",
       "      <td>7L-E1(T)</td>\n",
       "      <td>0</td>\n",
       "      <td>190619-cdc6-dhb-pcna002xy09</td>\n",
       "      <td>158</td>\n",
       "      <td>906</td>\n",
       "      <td>HP1B</td>\n",
       "      <td>1</td>\n",
       "      <td>MCM3</td>\n",
       "      <td>2</td>\n",
       "      <td>...</td>\n",
       "      <td>33491.0</td>\n",
       "      <td>319244926.0</td>\n",
       "      <td>210020333.0</td>\n",
       "      <td>109224593.0</td>\n",
       "      <td>349253.0</td>\n",
       "      <td>108738.0</td>\n",
       "      <td>240515.0</td>\n",
       "      <td>1.179104e+09</td>\n",
       "      <td>431685658.0</td>\n",
       "      <td>747418054.0</td>\n",
       "    </tr>\n",
       "    <tr>\n",
       "      <th>2</th>\n",
       "      <td>20190625_cell-02.czi</td>\n",
       "      <td>7L-E2(B)</td>\n",
       "      <td>0</td>\n",
       "      <td>190619-cdc6-dhb-pcna002xy09</td>\n",
       "      <td>832</td>\n",
       "      <td>252</td>\n",
       "      <td>HP1B</td>\n",
       "      <td>1</td>\n",
       "      <td>MCM3</td>\n",
       "      <td>2</td>\n",
       "      <td>...</td>\n",
       "      <td>24487.0</td>\n",
       "      <td>381052776.0</td>\n",
       "      <td>274306945.0</td>\n",
       "      <td>106745831.0</td>\n",
       "      <td>317710.0</td>\n",
       "      <td>107357.0</td>\n",
       "      <td>210353.0</td>\n",
       "      <td>1.367775e+09</td>\n",
       "      <td>536736303.0</td>\n",
       "      <td>831038637.0</td>\n",
       "    </tr>\n",
       "    <tr>\n",
       "      <th>3</th>\n",
       "      <td>20190625_cell-03.czi</td>\n",
       "      <td>7L-E2(T)</td>\n",
       "      <td>0</td>\n",
       "      <td>190619-cdc6-dhb-pcna002xy09</td>\n",
       "      <td>888</td>\n",
       "      <td>160</td>\n",
       "      <td>HP1B</td>\n",
       "      <td>1</td>\n",
       "      <td>MCM3</td>\n",
       "      <td>2</td>\n",
       "      <td>...</td>\n",
       "      <td>30679.0</td>\n",
       "      <td>375227527.0</td>\n",
       "      <td>257874569.0</td>\n",
       "      <td>117352958.0</td>\n",
       "      <td>337307.0</td>\n",
       "      <td>108866.0</td>\n",
       "      <td>228441.0</td>\n",
       "      <td>1.304225e+09</td>\n",
       "      <td>507711001.0</td>\n",
       "      <td>796513711.0</td>\n",
       "    </tr>\n",
       "    <tr>\n",
       "      <th>4</th>\n",
       "      <td>20190625_cell-05.czi</td>\n",
       "      <td>7L-G2</td>\n",
       "      <td>0</td>\n",
       "      <td>190619-cdc6-dhb-pcna002xy09</td>\n",
       "      <td>172</td>\n",
       "      <td>324</td>\n",
       "      <td>HP1B</td>\n",
       "      <td>1</td>\n",
       "      <td>MCM3</td>\n",
       "      <td>2</td>\n",
       "      <td>...</td>\n",
       "      <td>50131.0</td>\n",
       "      <td>482033868.0</td>\n",
       "      <td>359967124.0</td>\n",
       "      <td>122066744.0</td>\n",
       "      <td>651441.0</td>\n",
       "      <td>271184.0</td>\n",
       "      <td>380257.0</td>\n",
       "      <td>1.714796e+09</td>\n",
       "      <td>865722375.0</td>\n",
       "      <td>849073308.0</td>\n",
       "    </tr>\n",
       "  </tbody>\n",
       "</table>\n",
       "<p>5 rows × 96 columns</p>\n",
       "</div>"
      ],
      "text/plain": [
       "                   file original cell name  Amy_mod  \\\n",
       "0  20190625_cell-00.czi            7LE1(B)  1130/10   \n",
       "1  20190625_cell-01.czi           7L-E1(T)        0   \n",
       "2  20190625_cell-02.czi           7L-E2(B)        0   \n",
       "3  20190625_cell-03.czi           7L-E2(T)        0   \n",
       "4  20190625_cell-05.czi              7L-G2        0   \n",
       "\n",
       "                         movie    x    y ab1 (heterochromatin)  ab1 ch  \\\n",
       "0  190619-cdc6-dhb-pcna002xy09  172  956                  HP1B       1   \n",
       "1  190619-cdc6-dhb-pcna002xy09  158  906                  HP1B       1   \n",
       "2  190619-cdc6-dhb-pcna002xy09  832  252                  HP1B       1   \n",
       "3  190619-cdc6-dhb-pcna002xy09  888  160                  HP1B       1   \n",
       "4  190619-cdc6-dhb-pcna002xy09  172  324                  HP1B       1   \n",
       "\n",
       "  ab2 (MCM)  ab2 ch  ...  outer_vol_het  nuc_mcm_het inner_mcm_het  \\\n",
       "0      MCM3       2  ...        35278.0  339523731.0   221011475.0   \n",
       "1      MCM3       2  ...        33491.0  319244926.0   210020333.0   \n",
       "2      MCM3       2  ...        24487.0  381052776.0   274306945.0   \n",
       "3      MCM3       2  ...        30679.0  375227527.0   257874569.0   \n",
       "4      MCM3       2  ...        50131.0  482033868.0   359967124.0   \n",
       "\n",
       "  outer_mcm_het  nuc_vol_eu inner_vol_eu  outer_vol_eu    nuc_mcm_eu  \\\n",
       "0   118512256.0    368014.0     116892.0      251122.0  1.213846e+09   \n",
       "1   109224593.0    349253.0     108738.0      240515.0  1.179104e+09   \n",
       "2   106745831.0    317710.0     107357.0      210353.0  1.367775e+09   \n",
       "3   117352958.0    337307.0     108866.0      228441.0  1.304225e+09   \n",
       "4   122066744.0    651441.0     271184.0      380257.0  1.714796e+09   \n",
       "\n",
       "   inner_mcm_eu  outer_mcm_eu  \n",
       "0   455560702.0   758284889.0  \n",
       "1   431685658.0   747418054.0  \n",
       "2   536736303.0   831038637.0  \n",
       "3   507711001.0   796513711.0  \n",
       "4   865722375.0   849073308.0  \n",
       "\n",
       "[5 rows x 96 columns]"
      ]
     },
     "execution_count": 6,
     "metadata": {},
     "output_type": "execute_result"
    }
   ],
   "source": [
    "orgdata.head()"
   ]
  },
  {
   "cell_type": "code",
   "execution_count": 7,
   "metadata": {},
   "outputs": [],
   "source": [
    "newdata=newdata.drop(columns=['Unnamed: 0'])"
   ]
  },
  {
   "cell_type": "code",
   "execution_count": 8,
   "metadata": {},
   "outputs": [
    {
     "data": {
      "text/html": [
       "<div>\n",
       "<style scoped>\n",
       "    .dataframe tbody tr th:only-of-type {\n",
       "        vertical-align: middle;\n",
       "    }\n",
       "\n",
       "    .dataframe tbody tr th {\n",
       "        vertical-align: top;\n",
       "    }\n",
       "\n",
       "    .dataframe thead th {\n",
       "        text-align: right;\n",
       "    }\n",
       "</style>\n",
       "<table border=\"1\" class=\"dataframe\">\n",
       "  <thead>\n",
       "    <tr style=\"text-align: right;\">\n",
       "      <th></th>\n",
       "      <th>file</th>\n",
       "      <th>original cell name</th>\n",
       "      <th>movie</th>\n",
       "      <th>last frame movie position x</th>\n",
       "      <th>last frame movie position y</th>\n",
       "      <th>ab1 (MCM)</th>\n",
       "      <th>ab1 ch</th>\n",
       "      <th>ab2 (heterochromatin)</th>\n",
       "      <th>ab2 ch</th>\n",
       "      <th>DAPI ch</th>\n",
       "      <th>...</th>\n",
       "      <th>outer_vol_het</th>\n",
       "      <th>nuc_mcm_het</th>\n",
       "      <th>inner_mcm_het</th>\n",
       "      <th>outer_mcm_het</th>\n",
       "      <th>nuc_vol_eu</th>\n",
       "      <th>inner_vol_eu</th>\n",
       "      <th>outer_vol_eu</th>\n",
       "      <th>nuc_mcm_eu</th>\n",
       "      <th>inner_mcm_eu</th>\n",
       "      <th>outer_mcm_eu</th>\n",
       "    </tr>\n",
       "  </thead>\n",
       "  <tbody>\n",
       "    <tr>\n",
       "      <th>0</th>\n",
       "      <td>20191203_cell-00.czi</td>\n",
       "      <td>20191125-01-17</td>\n",
       "      <td>191125pcnat_dhbr_cdc6vxy01</td>\n",
       "      <td>678.301</td>\n",
       "      <td>200.931</td>\n",
       "      <td>MCM3</td>\n",
       "      <td>1</td>\n",
       "      <td>HP1beta</td>\n",
       "      <td>2</td>\n",
       "      <td>3</td>\n",
       "      <td>...</td>\n",
       "      <td>23479.0</td>\n",
       "      <td>790208510.0</td>\n",
       "      <td>467272258.0</td>\n",
       "      <td>322936252.0</td>\n",
       "      <td>210619.0</td>\n",
       "      <td>46905.0</td>\n",
       "      <td>163714.0</td>\n",
       "      <td>2.265887e+09</td>\n",
       "      <td>726723208.0</td>\n",
       "      <td>1.539164e+09</td>\n",
       "    </tr>\n",
       "    <tr>\n",
       "      <th>1</th>\n",
       "      <td>20191203_cell-01.czi</td>\n",
       "      <td>20191125-01-20</td>\n",
       "      <td>191125pcnat_dhbr_cdc6vxy01</td>\n",
       "      <td>1552.152</td>\n",
       "      <td>240.479</td>\n",
       "      <td>MCM3</td>\n",
       "      <td>1</td>\n",
       "      <td>HP1beta</td>\n",
       "      <td>2</td>\n",
       "      <td>3</td>\n",
       "      <td>...</td>\n",
       "      <td>27545.0</td>\n",
       "      <td>322439299.0</td>\n",
       "      <td>195401167.0</td>\n",
       "      <td>127038132.0</td>\n",
       "      <td>268802.0</td>\n",
       "      <td>76121.0</td>\n",
       "      <td>192681.0</td>\n",
       "      <td>1.265473e+09</td>\n",
       "      <td>383366957.0</td>\n",
       "      <td>8.821056e+08</td>\n",
       "    </tr>\n",
       "    <tr>\n",
       "      <th>2</th>\n",
       "      <td>20191203_cell-02.czi</td>\n",
       "      <td>20191125-01-23</td>\n",
       "      <td>191125pcnat_dhbr_cdc6vxy01</td>\n",
       "      <td>1131.436</td>\n",
       "      <td>318.530</td>\n",
       "      <td>MCM3</td>\n",
       "      <td>1</td>\n",
       "      <td>HP1beta</td>\n",
       "      <td>2</td>\n",
       "      <td>3</td>\n",
       "      <td>...</td>\n",
       "      <td>26820.0</td>\n",
       "      <td>317816716.0</td>\n",
       "      <td>199330897.0</td>\n",
       "      <td>118485819.0</td>\n",
       "      <td>264475.0</td>\n",
       "      <td>74585.0</td>\n",
       "      <td>189890.0</td>\n",
       "      <td>1.193524e+09</td>\n",
       "      <td>376574781.0</td>\n",
       "      <td>8.169490e+08</td>\n",
       "    </tr>\n",
       "    <tr>\n",
       "      <th>3</th>\n",
       "      <td>20191203_cell-03.czi</td>\n",
       "      <td>20191125-01-25</td>\n",
       "      <td>191125pcnat_dhbr_cdc6vxy01</td>\n",
       "      <td>1650.585</td>\n",
       "      <td>324.968</td>\n",
       "      <td>MCM3</td>\n",
       "      <td>1</td>\n",
       "      <td>HP1beta</td>\n",
       "      <td>2</td>\n",
       "      <td>3</td>\n",
       "      <td>...</td>\n",
       "      <td>25209.0</td>\n",
       "      <td>410056749.0</td>\n",
       "      <td>187572061.0</td>\n",
       "      <td>222484688.0</td>\n",
       "      <td>179149.0</td>\n",
       "      <td>28511.0</td>\n",
       "      <td>150638.0</td>\n",
       "      <td>1.357483e+09</td>\n",
       "      <td>271394033.0</td>\n",
       "      <td>1.086089e+09</td>\n",
       "    </tr>\n",
       "    <tr>\n",
       "      <th>4</th>\n",
       "      <td>20191203_cell-04.czi</td>\n",
       "      <td>20191125-01-32</td>\n",
       "      <td>191125pcnat_dhbr_cdc6vxy01</td>\n",
       "      <td>1466.687</td>\n",
       "      <td>426.815</td>\n",
       "      <td>MCM3</td>\n",
       "      <td>1</td>\n",
       "      <td>HP1beta</td>\n",
       "      <td>2</td>\n",
       "      <td>3</td>\n",
       "      <td>...</td>\n",
       "      <td>26823.0</td>\n",
       "      <td>760191271.0</td>\n",
       "      <td>469390058.0</td>\n",
       "      <td>290801213.0</td>\n",
       "      <td>253820.0</td>\n",
       "      <td>57341.0</td>\n",
       "      <td>196479.0</td>\n",
       "      <td>2.236647e+09</td>\n",
       "      <td>710565425.0</td>\n",
       "      <td>1.526082e+09</td>\n",
       "    </tr>\n",
       "  </tbody>\n",
       "</table>\n",
       "<p>5 rows × 37 columns</p>\n",
       "</div>"
      ],
      "text/plain": [
       "                   file original cell name                       movie  \\\n",
       "0  20191203_cell-00.czi     20191125-01-17  191125pcnat_dhbr_cdc6vxy01   \n",
       "1  20191203_cell-01.czi     20191125-01-20  191125pcnat_dhbr_cdc6vxy01   \n",
       "2  20191203_cell-02.czi     20191125-01-23  191125pcnat_dhbr_cdc6vxy01   \n",
       "3  20191203_cell-03.czi     20191125-01-25  191125pcnat_dhbr_cdc6vxy01   \n",
       "4  20191203_cell-04.czi     20191125-01-32  191125pcnat_dhbr_cdc6vxy01   \n",
       "\n",
       "   last frame movie position x  last frame movie position y ab1 (MCM)  ab1 ch  \\\n",
       "0                      678.301                      200.931      MCM3       1   \n",
       "1                     1552.152                      240.479      MCM3       1   \n",
       "2                     1131.436                      318.530      MCM3       1   \n",
       "3                     1650.585                      324.968      MCM3       1   \n",
       "4                     1466.687                      426.815      MCM3       1   \n",
       "\n",
       "  ab2 (heterochromatin)  ab2 ch  DAPI ch  ...  outer_vol_het  nuc_mcm_het  \\\n",
       "0               HP1beta       2        3  ...        23479.0  790208510.0   \n",
       "1               HP1beta       2        3  ...        27545.0  322439299.0   \n",
       "2               HP1beta       2        3  ...        26820.0  317816716.0   \n",
       "3               HP1beta       2        3  ...        25209.0  410056749.0   \n",
       "4               HP1beta       2        3  ...        26823.0  760191271.0   \n",
       "\n",
       "   inner_mcm_het  outer_mcm_het nuc_vol_eu  inner_vol_eu outer_vol_eu  \\\n",
       "0    467272258.0    322936252.0   210619.0       46905.0     163714.0   \n",
       "1    195401167.0    127038132.0   268802.0       76121.0     192681.0   \n",
       "2    199330897.0    118485819.0   264475.0       74585.0     189890.0   \n",
       "3    187572061.0    222484688.0   179149.0       28511.0     150638.0   \n",
       "4    469390058.0    290801213.0   253820.0       57341.0     196479.0   \n",
       "\n",
       "     nuc_mcm_eu inner_mcm_eu  outer_mcm_eu  \n",
       "0  2.265887e+09  726723208.0  1.539164e+09  \n",
       "1  1.265473e+09  383366957.0  8.821056e+08  \n",
       "2  1.193524e+09  376574781.0  8.169490e+08  \n",
       "3  1.357483e+09  271394033.0  1.086089e+09  \n",
       "4  2.236647e+09  710565425.0  1.526082e+09  \n",
       "\n",
       "[5 rows x 37 columns]"
      ]
     },
     "execution_count": 8,
     "metadata": {},
     "output_type": "execute_result"
    }
   ],
   "source": [
    "newdata.head()"
   ]
  },
  {
   "cell_type": "markdown",
   "metadata": {},
   "source": [
    "# 2020 dataset calculations"
   ]
  },
  {
   "cell_type": "code",
   "execution_count": 5,
   "metadata": {},
   "outputs": [],
   "source": [
    "bigDir=r'Z:\\CookLab\\Liu\\20190816_organizedData_MCM_loading\\20200207_new data'"
   ]
  },
  {
   "cell_type": "code",
   "execution_count": 6,
   "metadata": {},
   "outputs": [],
   "source": [
    "file=f'{bigDir}\\\\cellinfo_200203_v7.csv'\n",
    "data=pd.read_csv(file)"
   ]
  },
  {
   "cell_type": "markdown",
   "metadata": {},
   "source": [
    "# geminin dataset calculations"
   ]
  },
  {
   "cell_type": "code",
   "execution_count": 2,
   "metadata": {},
   "outputs": [],
   "source": [
    "bigDir=r'Z:\\CookLab\\Liu\\20190816_organizedData_MCM_loading\\20200217_geminin'"
   ]
  },
  {
   "cell_type": "code",
   "execution_count": 3,
   "metadata": {},
   "outputs": [],
   "source": [
    "file=f'{bigDir}\\\\200217_cellinfo_v4.csv'\n",
    "data=pd.read_csv(file)"
   ]
  },
  {
   "cell_type": "markdown",
   "metadata": {},
   "source": [
    "# h3k9me3"
   ]
  },
  {
   "cell_type": "code",
   "execution_count": 2,
   "metadata": {},
   "outputs": [],
   "source": [
    "bigDir=r'Z:\\CookLab\\Liu\\20190816_organizedData_MCM_loading\\20200604_h3k9me3'"
   ]
  },
  {
   "cell_type": "code",
   "execution_count": 3,
   "metadata": {},
   "outputs": [],
   "source": [
    "file=f'{bigDir}\\\\cellinfo_200604v4.csv'\n",
    "data=pd.read_csv(file)"
   ]
  },
  {
   "cell_type": "code",
   "execution_count": 4,
   "metadata": {},
   "outputs": [
    {
     "data": {
      "text/plain": [
       "Unnamed: 0                                                                     0\n",
       "Unnamed: 0.1                                                                   0\n",
       "file                                                        20200604_cell_00.ciz\n",
       "original_name                                               200604_09_15_63X.czi\n",
       "movie                                                                 200604xy09\n",
       "last frame movie position x                                              325.986\n",
       "last frame movie position y                                              135.825\n",
       "ab1 (Heterochromatin)                                                    H3K9Me3\n",
       "ab1 ch                                                                         1\n",
       "ab2 (MCM)                                                                   MCM2\n",
       "ab2 ch                                                                         2\n",
       "DAPI ch                                                                        3\n",
       "category                                                                 earlyG1\n",
       "molecular age                                                               0.56\n",
       "physical age [min]                                                         60min\n",
       "imaging core                                                                 HIC\n",
       "cell_id_last frame                                                            15\n",
       "cell id for tracking                                                         NaN\n",
       "path                           Z:\\CookLab\\Liu\\20190816_organizedData_MCM_load...\n",
       "physical_age                                                                   2\n",
       "physical_age_liu                                                               1\n",
       "mol_age_mod                                                                  NaN\n",
       "mol_age_mod_liu                                                            0.167\n",
       "nuc_vol_total                                                             376005\n",
       "inner_vol_total                                                            46553\n",
       "outer_vol_total                                                           329452\n",
       "nuc_mcm_total                                                        1.89713e+09\n",
       "inner_mcm_total                                                      5.78845e+08\n",
       "outer_mcm_total                                                      1.31828e+09\n",
       "nuc_vol_het                                                                75201\n",
       "inner_vol_het                                                              37843\n",
       "outer_vol_het                                                              37358\n",
       "nuc_mcm_het                                                          7.99874e+08\n",
       "inner_mcm_het                                                        4.72679e+08\n",
       "outer_mcm_het                                                        3.27195e+08\n",
       "nuc_vol_eu                                                                300804\n",
       "inner_vol_eu                                                                8710\n",
       "outer_vol_eu                                                              292094\n",
       "nuc_mcm_eu                                                           1.09725e+09\n",
       "inner_mcm_eu                                                         1.06166e+08\n",
       "outer_mcm_eu                                                         9.91087e+08\n",
       "Name: 0, dtype: object"
      ]
     },
     "execution_count": 4,
     "metadata": {},
     "output_type": "execute_result"
    }
   ],
   "source": [
    "data.iloc[0]"
   ]
  },
  {
   "cell_type": "markdown",
   "metadata": {},
   "source": [
    "# h3k9me3 2nd dataset"
   ]
  },
  {
   "cell_type": "code",
   "execution_count": 2,
   "metadata": {},
   "outputs": [],
   "source": [
    "bigDir=r'Z:\\CookLab\\Liu\\20190816_organizedData_MCM_loading\\20200615_h3k9me3'"
   ]
  },
  {
   "cell_type": "code",
   "execution_count": 3,
   "metadata": {},
   "outputs": [],
   "source": [
    "file=f'{bigDir}\\\\cellinfo_200615v3.csv'\n",
    "data=pd.read_csv(file)"
   ]
  },
  {
   "cell_type": "code",
   "execution_count": 4,
   "metadata": {},
   "outputs": [
    {
     "data": {
      "text/plain": [
       "Unnamed: 0                                                                     0\n",
       "Unnamed: 0.1                                                                   0\n",
       "file                                                        20200615_cell_00.ciz\n",
       "original_name                                             20200615_29_11_63x.czi\n",
       "movie                                                                 200614xy29\n",
       "last frame movie position x                                              1781.99\n",
       "last frame movie position y                                               159.93\n",
       "ab1 (MCM)                                                                H3K9Me3\n",
       "ab1 ch                                                                         1\n",
       "ab2 (heterochromatin)                                                       MCM2\n",
       "ab2 ch                                                                         2\n",
       "DAPI ch                                                                        3\n",
       "category                                                                middleG1\n",
       "molecular age                                                              0.353\n",
       "physical age [min]                                                        140min\n",
       "imaging core                                                                 HIC\n",
       "cell_id_last frame                                                            11\n",
       "path                           Z:\\CookLab\\Liu\\20190816_organizedData_MCM_load...\n",
       "mol_age_mod                                                                0.353\n",
       "physical_age                                                             3.33333\n",
       "nuc_vol_total                                                             241469\n",
       "inner_vol_total                                                            42262\n",
       "outer_vol_total                                                           199207\n",
       "nuc_mcm_total                                                        1.16574e+09\n",
       "inner_mcm_total                                                      3.72978e+08\n",
       "outer_mcm_total                                                      7.92762e+08\n",
       "nuc_vol_het                                                                48296\n",
       "inner_vol_het                                                              17302\n",
       "outer_vol_het                                                              30994\n",
       "nuc_mcm_het                                                          3.98492e+08\n",
       "inner_mcm_het                                                        1.59516e+08\n",
       "outer_mcm_het                                                        2.38976e+08\n",
       "nuc_vol_eu                                                                193173\n",
       "inner_vol_eu                                                               24960\n",
       "outer_vol_eu                                                              168213\n",
       "nuc_mcm_eu                                                           7.67248e+08\n",
       "inner_mcm_eu                                                         2.13462e+08\n",
       "outer_mcm_eu                                                         5.53785e+08\n",
       "Name: 0, dtype: object"
      ]
     },
     "execution_count": 4,
     "metadata": {},
     "output_type": "execute_result"
    }
   ],
   "source": [
    "data.iloc[0]"
   ]
  },
  {
   "cell_type": "code",
   "execution_count": null,
   "metadata": {},
   "outputs": [],
   "source": []
  },
  {
   "cell_type": "markdown",
   "metadata": {},
   "source": [
    "# DAPI calculations"
   ]
  },
  {
   "cell_type": "code",
   "execution_count": 5,
   "metadata": {},
   "outputs": [],
   "source": [
    "def calculate_DAPI_signals (data):\n",
    "    # progress bar\n",
    "    i=0\n",
    "    progBar=widgets.IntProgress(\n",
    "        value=i,\n",
    "        min=0,\n",
    "        max=len(data),\n",
    "        step=1,\n",
    "        description='Progress:',\n",
    "        orientation='horizontal'\n",
    "    )\n",
    "    display(progBar)\n",
    "    \n",
    "    for i,myCell in islice(data.iterrows(), i,None):\n",
    "        ## opening cell image\n",
    "        try:\n",
    "            myImage=imread(myCell.path) \n",
    "        except:\n",
    "            myCell.path=myCell.path.replace('.tif','.tiff')\n",
    "            myImage=imread(myCell.path)\n",
    "        \n",
    "        ## channel for DAPI calculations is 2 for both datasets\n",
    "        myChannel=myImage[:,2,:,:]\n",
    "\n",
    "        ## setting arrays for names \n",
    "        \n",
    "        ### for column names\n",
    "        pixels=['total','het','eu']\n",
    "        components=['nuc','inner','outer']\n",
    "        \n",
    "        ### for masks names\n",
    "        dirs=['segmentation_nucleus_Otsu','erosion_nuc_mask','erosion_nuc_mask',\n",
    "              'segmentation_20','segmentation_20_erosion','segmentation_20_erosion',\n",
    "             'segmentation_20_eu','segmentation_20_eu_erosion','segmentation_20_eu_erosion',]\n",
    "\n",
    "        files=['_nucleus.tif','_eroded_9^5_inner_mask_20.tif','_eroded_9^5_outer_mask_20.tif',\n",
    "                   '_hetChrom.tif', '_hetChrom_inner.tif', '_hetChrom_outer.tif',\n",
    "                   '_euChrom.tif', '_euChrom_inner.tif','_euChrom_outer.tif']\n",
    "\n",
    "        df=pd.DataFrame(columns=['nuc_vol_total','inner_vol_total','outer_vol_total',\n",
    "                                 'nuc_mcm_total','inner_mcm_total','outer_mcm_total',\n",
    "                                'nuc_vol_het','inner_vol_het','outer_vol_het',\n",
    "                                 'nuc_mcm_het','inner_mcm_het','outer_mcm_het',\n",
    "                                 'nuc_vol_eu','inner_vol_eu','outer_vol_eu',\n",
    "                                'nuc_mcm_eu','inner_mcm_eu', 'outer_mcm_eu'])\n",
    "\n",
    "        ## calculating signals\n",
    "        for k in range(len(pixels)):\n",
    "            for j in range(len(components)):\n",
    "                ## copying image every time new signal is calculated\n",
    "                myIm=myImage.copy()\n",
    "                myChannel=myIm[:,2,:,:]\n",
    "                \n",
    "                ## column name set up based on the component and the pixels\n",
    "                currColName=f'{components[j]}_DAPI_{pixels[k]}'\n",
    "\n",
    "                ## opening mask images\n",
    "                ### the indexing is in such way so that the image opened matches up with the name being used for calculation\n",
    "                direc=myCell.path.replace('data_tiff',dirs[(j)+(k*3)])\n",
    "                try:\n",
    "                    direc=direc.replace('.tif',files[(k*3)+(j)])\n",
    "                    mask=imread(direc)  \n",
    "                except:\n",
    "                    direc=direc.replace('_nucleus.tiff',files[(k*3)+(j)])\n",
    "                    mask=imread(direc)\n",
    "\n",
    "                ## making the mask as binary\n",
    "                mask=mask.astype(bool)\n",
    "                \n",
    "                ## masking the image with the mask\n",
    "                myChannel[~mask]=0\n",
    "                \n",
    "                ## calculating signals\n",
    "                df[f'{currColName}']=myChannel.sum(-1).sum(-1)\n",
    "        \n",
    "        ## saving signals into original/big dataframe\n",
    "        for myMeasurement in df.columns:\n",
    "            myString=f\"data.loc[i,'{myMeasurement}']=np.sum(df.{myMeasurement})\"\n",
    "            exec(myString)\n",
    "        \n",
    "        \n",
    "        \n",
    "        progBar.value=progBar.value+1"
   ]
  },
  {
   "cell_type": "code",
   "execution_count": 10,
   "metadata": {},
   "outputs": [
    {
     "data": {
      "application/vnd.jupyter.widget-view+json": {
       "model_id": "2484b298e1e1447e9284c0810cfecf5d",
       "version_major": 2,
       "version_minor": 0
      },
      "text/plain": [
       "IntProgress(value=0, description='Progress:', max=300)"
      ]
     },
     "metadata": {},
     "output_type": "display_data"
    }
   ],
   "source": [
    "## calculating signals for original dataset\n",
    "calculate_DAPI_signals(orgdata)"
   ]
  },
  {
   "cell_type": "code",
   "execution_count": 11,
   "metadata": {
    "scrolled": true
   },
   "outputs": [
    {
     "data": {
      "text/plain": [
       "1.000000000346529"
      ]
     },
     "execution_count": 11,
     "metadata": {},
     "output_type": "execute_result"
    }
   ],
   "source": [
    "## checking to see if the calculations resulted in what we have expected\n",
    "(np.sum(orgdata['inner_DAPI_total'])+np.sum(orgdata['outer_DAPI_total']))/np.sum(orgdata['nuc_DAPI_total'])"
   ]
  },
  {
   "cell_type": "code",
   "execution_count": 12,
   "metadata": {},
   "outputs": [
    {
     "name": "stdout",
     "output_type": "stream",
     "text": [
      "0.9999999986713376 1.0000000001289204\n"
     ]
    }
   ],
   "source": [
    "## checking to see if the calculations resulted in what we have expected\n",
    "print((np.sum(orgdata['inner_DAPI_het'])+np.sum(orgdata['outer_DAPI_het']))/np.sum(orgdata['nuc_DAPI_het']),\n",
    "(np.sum(orgdata['inner_DAPI_eu'])+np.sum(orgdata['outer_DAPI_eu']))/np.sum(orgdata['nuc_DAPI_eu']))"
   ]
  },
  {
   "cell_type": "code",
   "execution_count": 13,
   "metadata": {},
   "outputs": [],
   "source": [
    "## saving the dataset with calculated signals\n",
    "orgdata.to_csv(orgfile.replace('v1','v2'))"
   ]
  },
  {
   "cell_type": "markdown",
   "metadata": {},
   "source": [
    "### Signal calculations for new data was ran in other file '200221_DAPI_calculations_new_dataset' to save time"
   ]
  },
  {
   "cell_type": "markdown",
   "metadata": {},
   "source": [
    "the new file uses the same function, but just calls the function with 'newdata' as a parameter. The line of below will retreive the data collected from that file. "
   ]
  },
  {
   "cell_type": "code",
   "execution_count": 67,
   "metadata": {},
   "outputs": [],
   "source": [
    "## retreiving dataset collected for new dataset from different file\n",
    "newfile=f'{bigDir}\\\\new dataset\\signals_new_v2.csv'\n",
    "newdata=pd.read_csv(newfile)"
   ]
  },
  {
   "cell_type": "code",
   "execution_count": 69,
   "metadata": {},
   "outputs": [
    {
     "data": {
      "text/plain": [
       "0.9999999985787311"
      ]
     },
     "execution_count": 69,
     "metadata": {},
     "output_type": "execute_result"
    }
   ],
   "source": [
    "(np.sum(newdata['inner_DAPI_total'])+np.sum(newdata['outer_DAPI_total']))/np.sum(newdata['nuc_DAPI_total'])"
   ]
  },
  {
   "cell_type": "code",
   "execution_count": 70,
   "metadata": {},
   "outputs": [
    {
     "name": "stdout",
     "output_type": "stream",
     "text": [
      "1.0000000021541515 0.9999999983596558\n"
     ]
    }
   ],
   "source": [
    "print((np.sum(newdata['inner_DAPI_het'])+np.sum(newdata['outer_DAPI_het']))/np.sum(newdata['nuc_DAPI_het']),\n",
    "(np.sum(newdata['inner_DAPI_eu'])+np.sum(newdata['outer_DAPI_eu']))/np.sum(newdata['nuc_DAPI_eu']))"
   ]
  },
  {
   "cell_type": "markdown",
   "metadata": {},
   "source": [
    "### 2020 dataset DAPI calculations"
   ]
  },
  {
   "cell_type": "code",
   "execution_count": 8,
   "metadata": {},
   "outputs": [
    {
     "data": {
      "application/vnd.jupyter.widget-view+json": {
       "model_id": "6bdcd24a588d4830a85366c23d532d83",
       "version_major": 2,
       "version_minor": 0
      },
      "text/plain": [
       "IntProgress(value=0, description='Progress:', max=146)"
      ]
     },
     "metadata": {},
     "output_type": "display_data"
    }
   ],
   "source": [
    "## calculating signals for original dataset\n",
    "calculate_DAPI_signals(data)"
   ]
  },
  {
   "cell_type": "code",
   "execution_count": 9,
   "metadata": {
    "scrolled": true
   },
   "outputs": [
    {
     "data": {
      "text/plain": [
       "1.0"
      ]
     },
     "execution_count": 9,
     "metadata": {},
     "output_type": "execute_result"
    }
   ],
   "source": [
    "## checking to see if the calculations resulted in what we have expected\n",
    "(np.sum(data['inner_DAPI_total'])+np.sum(data['outer_DAPI_total']))/np.sum(data['nuc_DAPI_total'])"
   ]
  },
  {
   "cell_type": "code",
   "execution_count": 10,
   "metadata": {},
   "outputs": [
    {
     "name": "stdout",
     "output_type": "stream",
     "text": [
      "1.0 1.0\n"
     ]
    }
   ],
   "source": [
    "## checking to see if the calculations resulted in what we have expected\n",
    "print((np.sum(data['inner_DAPI_het'])+np.sum(data['outer_DAPI_het']))/np.sum(data['nuc_DAPI_het']),\n",
    "(np.sum(data['inner_DAPI_eu'])+np.sum(data['outer_DAPI_eu']))/np.sum(data['nuc_DAPI_eu']))"
   ]
  },
  {
   "cell_type": "code",
   "execution_count": 13,
   "metadata": {},
   "outputs": [],
   "source": [
    "## saving the dataset with calculated signals\n",
    "data.to_csv(file.replace('v7','v8'))"
   ]
  },
  {
   "cell_type": "markdown",
   "metadata": {},
   "source": [
    "### geminin dataset DAPI calculations"
   ]
  },
  {
   "cell_type": "code",
   "execution_count": 5,
   "metadata": {},
   "outputs": [
    {
     "data": {
      "application/vnd.jupyter.widget-view+json": {
       "model_id": "6e6c5857fbf2467a98d2e57c195ca476",
       "version_major": 2,
       "version_minor": 0
      },
      "text/plain": [
       "IntProgress(value=0, description='Progress:', max=145)"
      ]
     },
     "metadata": {},
     "output_type": "display_data"
    }
   ],
   "source": [
    "## calculating signals for original dataset\n",
    "calculate_DAPI_signals(data)"
   ]
  },
  {
   "cell_type": "code",
   "execution_count": 6,
   "metadata": {
    "scrolled": true
   },
   "outputs": [
    {
     "data": {
      "text/plain": [
       "1.0"
      ]
     },
     "execution_count": 6,
     "metadata": {},
     "output_type": "execute_result"
    }
   ],
   "source": [
    "## checking to see if the calculations resulted in what we have expected\n",
    "(np.sum(data['inner_DAPI_total'])+np.sum(data['outer_DAPI_total']))/np.sum(data['nuc_DAPI_total'])"
   ]
  },
  {
   "cell_type": "code",
   "execution_count": 7,
   "metadata": {},
   "outputs": [
    {
     "name": "stdout",
     "output_type": "stream",
     "text": [
      "1.0 1.0\n"
     ]
    }
   ],
   "source": [
    "## checking to see if the calculations resulted in what we have expected\n",
    "print((np.sum(data['inner_DAPI_het'])+np.sum(data['outer_DAPI_het']))/np.sum(data['nuc_DAPI_het']),\n",
    "(np.sum(data['inner_DAPI_eu'])+np.sum(data['outer_DAPI_eu']))/np.sum(data['nuc_DAPI_eu']))"
   ]
  },
  {
   "cell_type": "code",
   "execution_count": 8,
   "metadata": {},
   "outputs": [],
   "source": [
    "## saving the dataset with calculated signals\n",
    "data.to_csv(file.replace('v4','v5'))"
   ]
  },
  {
   "cell_type": "markdown",
   "metadata": {},
   "source": [
    "### h3k9me3 dataset DAPI calculations"
   ]
  },
  {
   "cell_type": "code",
   "execution_count": 6,
   "metadata": {},
   "outputs": [
    {
     "data": {
      "application/vnd.jupyter.widget-view+json": {
       "model_id": "26809f749eb84adbbf42ce6d7dded6d8",
       "version_major": 2,
       "version_minor": 0
      },
      "text/plain": [
       "IntProgress(value=0, description='Progress:', max=78)"
      ]
     },
     "metadata": {},
     "output_type": "display_data"
    }
   ],
   "source": [
    "## calculating signals for original dataset\n",
    "calculate_DAPI_signals(data)"
   ]
  },
  {
   "cell_type": "code",
   "execution_count": 6,
   "metadata": {
    "scrolled": true
   },
   "outputs": [
    {
     "data": {
      "text/plain": [
       "1.0"
      ]
     },
     "execution_count": 6,
     "metadata": {},
     "output_type": "execute_result"
    }
   ],
   "source": [
    "## checking to see if the calculations resulted in what we have expected\n",
    "(np.sum(data['inner_DAPI_total'])+np.sum(data['outer_DAPI_total']))/np.sum(data['nuc_DAPI_total'])"
   ]
  },
  {
   "cell_type": "code",
   "execution_count": 7,
   "metadata": {},
   "outputs": [
    {
     "name": "stdout",
     "output_type": "stream",
     "text": [
      "1.0 1.0\n"
     ]
    }
   ],
   "source": [
    "## checking to see if the calculations resulted in what we have expected\n",
    "print((np.sum(data['inner_DAPI_het'])+np.sum(data['outer_DAPI_het']))/np.sum(data['nuc_DAPI_het']),\n",
    "(np.sum(data['inner_DAPI_eu'])+np.sum(data['outer_DAPI_eu']))/np.sum(data['nuc_DAPI_eu']))"
   ]
  },
  {
   "cell_type": "code",
   "execution_count": 8,
   "metadata": {},
   "outputs": [],
   "source": [
    "## saving the dataset with calculated signals\n",
    "data.to_csv(file.replace('v4','v5'))"
   ]
  },
  {
   "cell_type": "code",
   "execution_count": 7,
   "metadata": {
    "scrolled": false
   },
   "outputs": [
    {
     "data": {
      "text/plain": [
       "Unnamed: 0                                                                     0\n",
       "Unnamed: 0.1                                                                   0\n",
       "file                                                        20200604_cell_00.ciz\n",
       "original_name                                               200604_09_15_63X.czi\n",
       "movie                                                                 200604xy09\n",
       "last frame movie position x                                              325.986\n",
       "last frame movie position y                                              135.825\n",
       "ab1 (Heterochromatin)                                                    H3K9Me3\n",
       "ab1 ch                                                                         1\n",
       "ab2 (MCM)                                                                   MCM2\n",
       "ab2 ch                                                                         2\n",
       "DAPI ch                                                                        3\n",
       "category                                                                 earlyG1\n",
       "molecular age                                                               0.56\n",
       "physical age [min]                                                         60min\n",
       "imaging core                                                                 HIC\n",
       "cell_id_last frame                                                            15\n",
       "cell id for tracking                                                         NaN\n",
       "path                           Z:\\CookLab\\Liu\\20190816_organizedData_MCM_load...\n",
       "physical_age                                                                   2\n",
       "physical_age_liu                                                               1\n",
       "mol_age_mod                                                                  NaN\n",
       "mol_age_mod_liu                                                            0.167\n",
       "nuc_vol_total                                                                  0\n",
       "inner_vol_total                                                                0\n",
       "outer_vol_total                                                                0\n",
       "nuc_mcm_total                                                                  0\n",
       "inner_mcm_total                                                                0\n",
       "outer_mcm_total                                                                0\n",
       "nuc_vol_het                                                                    0\n",
       "inner_vol_het                                                                  0\n",
       "outer_vol_het                                                                  0\n",
       "nuc_mcm_het                                                                    0\n",
       "inner_mcm_het                                                                  0\n",
       "outer_mcm_het                                                                  0\n",
       "nuc_vol_eu                                                                     0\n",
       "inner_vol_eu                                                                   0\n",
       "outer_vol_eu                                                                   0\n",
       "nuc_mcm_eu                                                                     0\n",
       "inner_mcm_eu                                                                   0\n",
       "outer_mcm_eu                                                                   0\n",
       "nuc_DAPI_total                                                       2.69725e+09\n",
       "inner_DAPI_total                                                     8.22467e+08\n",
       "outer_DAPI_total                                                     1.87478e+09\n",
       "nuc_DAPI_het                                                         1.12694e+09\n",
       "inner_DAPI_het                                                       6.88994e+08\n",
       "outer_DAPI_het                                                       4.37951e+08\n",
       "nuc_DAPI_eu                                                          1.57031e+09\n",
       "inner_DAPI_eu                                                        1.33473e+08\n",
       "outer_DAPI_eu                                                        1.43683e+09\n",
       "Name: 0, dtype: object"
      ]
     },
     "execution_count": 7,
     "metadata": {},
     "output_type": "execute_result"
    }
   ],
   "source": [
    "data.iloc[0]"
   ]
  },
  {
   "cell_type": "markdown",
   "metadata": {},
   "source": [
    "### h3k9me3 dataset DAPI calculations"
   ]
  },
  {
   "cell_type": "code",
   "execution_count": 6,
   "metadata": {},
   "outputs": [
    {
     "data": {
      "application/vnd.jupyter.widget-view+json": {
       "model_id": "1e36f0a6a89d4785b409befd27c3d0ac",
       "version_major": 2,
       "version_minor": 0
      },
      "text/plain": [
       "IntProgress(value=0, description='Progress:', max=88)"
      ]
     },
     "metadata": {},
     "output_type": "display_data"
    }
   ],
   "source": [
    "## calculating signals for original dataset\n",
    "calculate_DAPI_signals(data)"
   ]
  },
  {
   "cell_type": "code",
   "execution_count": 7,
   "metadata": {
    "scrolled": true
   },
   "outputs": [
    {
     "data": {
      "text/plain": [
       "1.0"
      ]
     },
     "execution_count": 7,
     "metadata": {},
     "output_type": "execute_result"
    }
   ],
   "source": [
    "## checking to see if the calculations resulted in what we have expected\n",
    "(np.sum(data['inner_DAPI_total'])+np.sum(data['outer_DAPI_total']))/np.sum(data['nuc_DAPI_total'])"
   ]
  },
  {
   "cell_type": "code",
   "execution_count": 8,
   "metadata": {},
   "outputs": [
    {
     "name": "stdout",
     "output_type": "stream",
     "text": [
      "1.0 1.0\n"
     ]
    }
   ],
   "source": [
    "## checking to see if the calculations resulted in what we have expected\n",
    "print((np.sum(data['inner_DAPI_het'])+np.sum(data['outer_DAPI_het']))/np.sum(data['nuc_DAPI_het']),\n",
    "(np.sum(data['inner_DAPI_eu'])+np.sum(data['outer_DAPI_eu']))/np.sum(data['nuc_DAPI_eu']))"
   ]
  },
  {
   "cell_type": "code",
   "execution_count": 10,
   "metadata": {},
   "outputs": [],
   "source": [
    "## saving the dataset with calculated signals\n",
    "data.to_csv(file.replace('v3','v4'))"
   ]
  },
  {
   "cell_type": "code",
   "execution_count": 11,
   "metadata": {
    "scrolled": false
   },
   "outputs": [
    {
     "data": {
      "text/plain": [
       "Unnamed: 0                                                                     0\n",
       "Unnamed: 0.1                                                                   0\n",
       "file                                                        20200615_cell_00.ciz\n",
       "original_name                                             20200615_29_11_63x.czi\n",
       "movie                                                                 200614xy29\n",
       "last frame movie position x                                              1781.99\n",
       "last frame movie position y                                               159.93\n",
       "ab1 (MCM)                                                                H3K9Me3\n",
       "ab1 ch                                                                         1\n",
       "ab2 (heterochromatin)                                                       MCM2\n",
       "ab2 ch                                                                         2\n",
       "DAPI ch                                                                        3\n",
       "category                                                                middleG1\n",
       "molecular age                                                              0.353\n",
       "physical age [min]                                                        140min\n",
       "imaging core                                                                 HIC\n",
       "cell_id_last frame                                                            11\n",
       "path                           Z:\\CookLab\\Liu\\20190816_organizedData_MCM_load...\n",
       "mol_age_mod                                                                0.353\n",
       "physical_age                                                             3.33333\n",
       "nuc_vol_total                                                                  0\n",
       "inner_vol_total                                                                0\n",
       "outer_vol_total                                                                0\n",
       "nuc_mcm_total                                                                  0\n",
       "inner_mcm_total                                                                0\n",
       "outer_mcm_total                                                                0\n",
       "nuc_vol_het                                                                    0\n",
       "inner_vol_het                                                                  0\n",
       "outer_vol_het                                                                  0\n",
       "nuc_mcm_het                                                                    0\n",
       "inner_mcm_het                                                                  0\n",
       "outer_mcm_het                                                                  0\n",
       "nuc_vol_eu                                                                     0\n",
       "inner_vol_eu                                                                   0\n",
       "outer_vol_eu                                                                   0\n",
       "nuc_mcm_eu                                                                     0\n",
       "inner_mcm_eu                                                                   0\n",
       "outer_mcm_eu                                                                   0\n",
       "nuc_DAPI_total                                                       2.90637e+09\n",
       "inner_DAPI_total                                                     8.88345e+08\n",
       "outer_DAPI_total                                                     2.01802e+09\n",
       "nuc_DAPI_het                                                         1.05049e+09\n",
       "inner_DAPI_het                                                       3.94953e+08\n",
       "outer_DAPI_het                                                       6.55539e+08\n",
       "nuc_DAPI_eu                                                          1.85588e+09\n",
       "inner_DAPI_eu                                                        4.93392e+08\n",
       "outer_DAPI_eu                                                        1.36248e+09\n",
       "Name: 0, dtype: object"
      ]
     },
     "execution_count": 11,
     "metadata": {},
     "output_type": "execute_result"
    }
   ],
   "source": [
    "data.iloc[0]"
   ]
  },
  {
   "cell_type": "code",
   "execution_count": null,
   "metadata": {},
   "outputs": [],
   "source": []
  }
 ],
 "metadata": {
  "kernelspec": {
   "display_name": "Python 3",
   "language": "python",
   "name": "python3"
  },
  "language_info": {
   "codemirror_mode": {
    "name": "ipython",
    "version": 3
   },
   "file_extension": ".py",
   "mimetype": "text/x-python",
   "name": "python",
   "nbconvert_exporter": "python",
   "pygments_lexer": "ipython3",
   "version": "3.7.3"
  }
 },
 "nbformat": 4,
 "nbformat_minor": 2
}
