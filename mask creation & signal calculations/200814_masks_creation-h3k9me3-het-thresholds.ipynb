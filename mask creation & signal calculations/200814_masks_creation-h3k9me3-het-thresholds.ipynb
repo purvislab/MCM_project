{
 "cells": [
  {
   "cell_type": "code",
   "execution_count": 1,
   "metadata": {},
   "outputs": [],
   "source": [
    "## import libraries\n",
    "import os\n",
    "from os import listdir\n",
    "from os.path import isfile, join\n",
    "\n",
    "import pandas as pd\n",
    "from itertools import islice\n",
    "import numpy as np\n",
    "\n",
    "from skimage.external import tifffile\n",
    "from skimage.external.tifffile import imread\n",
    "\n",
    "import matplotlib.pyplot as plt\n",
    "\n",
    "import ipywidgets as widgets\n",
    "\n",
    "import random\n",
    "\n",
    "\n",
    "from scipy.ndimage.morphology import binary_erosion as br\n",
    "from skimage import morphology as skmor\n",
    "\n",
    "from scipy import ndimage\n",
    "from PIL import Image, ImageDraw\n",
    "\n",
    "import numpy.ma as ma\n",
    "\n",
    "from skimage.measure import label, regionprops"
   ]
  },
  {
   "cell_type": "code",
   "execution_count": 2,
   "metadata": {},
   "outputs": [],
   "source": [
    "bigDir=r'Z:\\CookLab\\Liu\\20190816_organizedData_MCM_loading'"
   ]
  },
  {
   "cell_type": "code",
   "execution_count": 3,
   "metadata": {},
   "outputs": [],
   "source": [
    "# fifth (h3k9me3) dataset\n",
    "## channels: 0 = h3k9me3, 1 =MCM, 2= DAPI\n",
    "file=f'{bigDir}\\\\20200604_h3k9me3\\\\cellinfo_200604v3.csv'\n",
    "h3k9me3=pd.read_csv(file)"
   ]
  },
  {
   "cell_type": "code",
   "execution_count": 4,
   "metadata": {},
   "outputs": [],
   "source": [
    "# sixth (h3k9me3) dataset\n",
    "## channels: 0 = h3k9me3, 1= MCM, 2=DAPI\n",
    "file=f'{bigDir}\\\\20200615_h3k9me3\\\\cellinfo_200615v2.csv'\n",
    "h3k9me3_2=pd.read_csv(file)"
   ]
  },
  {
   "cell_type": "code",
   "execution_count": 3,
   "metadata": {},
   "outputs": [],
   "source": [
    "# seventh (h3k9me3) dataset\n",
    "## channels: 0 = h3k9me3, 1= MCM, 2=DAPI\n",
    "file=f'{bigDir}\\\\20200829_h3k9me3\\\\200819_cellinfo_v2.csv'\n",
    "h3k9me3_3=pd.read_csv(file)"
   ]
  },
  {
   "cell_type": "code",
   "execution_count": 4,
   "metadata": {},
   "outputs": [],
   "source": [
    "h3k9me3_data=h3k9me3_3.loc[h3k9me3_3.group=='Mgcl2',:]"
   ]
  },
  {
   "cell_type": "code",
   "execution_count": 5,
   "metadata": {},
   "outputs": [
    {
     "data": {
      "text/html": [
       "<div>\n",
       "<style scoped>\n",
       "    .dataframe tbody tr th:only-of-type {\n",
       "        vertical-align: middle;\n",
       "    }\n",
       "\n",
       "    .dataframe tbody tr th {\n",
       "        vertical-align: top;\n",
       "    }\n",
       "\n",
       "    .dataframe thead th {\n",
       "        text-align: right;\n",
       "    }\n",
       "</style>\n",
       "<table border=\"1\" class=\"dataframe\">\n",
       "  <thead>\n",
       "    <tr style=\"text-align: right;\">\n",
       "      <th></th>\n",
       "      <th>Unnamed: 0</th>\n",
       "      <th>file</th>\n",
       "      <th>original cell name</th>\n",
       "      <th>movie</th>\n",
       "      <th>x</th>\n",
       "      <th>y</th>\n",
       "      <th>ab1 (MCM)</th>\n",
       "      <th>ab1 ch</th>\n",
       "      <th>ab2 (heterochromatin)</th>\n",
       "      <th>ab2 ch</th>\n",
       "      <th>...</th>\n",
       "      <th>molecular_age_dhb</th>\n",
       "      <th>molecular_age_cdc6</th>\n",
       "      <th>group</th>\n",
       "      <th>imaging core</th>\n",
       "      <th>cell id for tracking</th>\n",
       "      <th>comment</th>\n",
       "      <th>decon</th>\n",
       "      <th>path</th>\n",
       "      <th>mol_age_mod</th>\n",
       "      <th>physical_age</th>\n",
       "    </tr>\n",
       "  </thead>\n",
       "  <tbody>\n",
       "    <tr>\n",
       "      <th>60</th>\n",
       "      <td>60</td>\n",
       "      <td>20200819_cell2_61.ciz</td>\n",
       "      <td>20200818xy25_4.czi</td>\n",
       "      <td>200819xy25</td>\n",
       "      <td>503.002</td>\n",
       "      <td>44.841</td>\n",
       "      <td>H3k9me3</td>\n",
       "      <td>1</td>\n",
       "      <td>MCM2</td>\n",
       "      <td>2</td>\n",
       "      <td>...</td>\n",
       "      <td>0.817</td>\n",
       "      <td>NaN</td>\n",
       "      <td>Mgcl2</td>\n",
       "      <td>HIC</td>\n",
       "      <td>4.0</td>\n",
       "      <td>NaN</td>\n",
       "      <td>no</td>\n",
       "      <td>Z:\\CookLab\\Liu\\20190816_organizedData_MCM_load...</td>\n",
       "      <td>0.817</td>\n",
       "      <td>NaN</td>\n",
       "    </tr>\n",
       "    <tr>\n",
       "      <th>61</th>\n",
       "      <td>61</td>\n",
       "      <td>20200819_cell2_62.ciz</td>\n",
       "      <td>20200818xy25_8.czi</td>\n",
       "      <td>200819xy25</td>\n",
       "      <td>1433.915</td>\n",
       "      <td>83.868</td>\n",
       "      <td>H3k9me3</td>\n",
       "      <td>1</td>\n",
       "      <td>MCM2</td>\n",
       "      <td>2</td>\n",
       "      <td>...</td>\n",
       "      <td>0.465</td>\n",
       "      <td>NaN</td>\n",
       "      <td>Mgcl2</td>\n",
       "      <td>HIC</td>\n",
       "      <td>8.0</td>\n",
       "      <td>NaN</td>\n",
       "      <td>no</td>\n",
       "      <td>Z:\\CookLab\\Liu\\20190816_organizedData_MCM_load...</td>\n",
       "      <td>0.465</td>\n",
       "      <td>NaN</td>\n",
       "    </tr>\n",
       "    <tr>\n",
       "      <th>62</th>\n",
       "      <td>62</td>\n",
       "      <td>20200819_cell2_63.ciz</td>\n",
       "      <td>20200818xy25_11.czi</td>\n",
       "      <td>200819xy25</td>\n",
       "      <td>1070.453</td>\n",
       "      <td>112.529</td>\n",
       "      <td>H3k9me3</td>\n",
       "      <td>1</td>\n",
       "      <td>MCM2</td>\n",
       "      <td>2</td>\n",
       "      <td>...</td>\n",
       "      <td>0.494</td>\n",
       "      <td>NaN</td>\n",
       "      <td>Mgcl2</td>\n",
       "      <td>HIC</td>\n",
       "      <td>11.0</td>\n",
       "      <td>NaN</td>\n",
       "      <td>no</td>\n",
       "      <td>Z:\\CookLab\\Liu\\20190816_organizedData_MCM_load...</td>\n",
       "      <td>0.494</td>\n",
       "      <td>NaN</td>\n",
       "    </tr>\n",
       "    <tr>\n",
       "      <th>63</th>\n",
       "      <td>63</td>\n",
       "      <td>20200819_cell2_64.ciz</td>\n",
       "      <td>20200818xy25_19.czi</td>\n",
       "      <td>200819xy25</td>\n",
       "      <td>563.519</td>\n",
       "      <td>211.610</td>\n",
       "      <td>H3k9me3</td>\n",
       "      <td>1</td>\n",
       "      <td>MCM2</td>\n",
       "      <td>2</td>\n",
       "      <td>...</td>\n",
       "      <td>0.440</td>\n",
       "      <td>NaN</td>\n",
       "      <td>Mgcl2</td>\n",
       "      <td>HIC</td>\n",
       "      <td>19.0</td>\n",
       "      <td>NaN</td>\n",
       "      <td>no</td>\n",
       "      <td>Z:\\CookLab\\Liu\\20190816_organizedData_MCM_load...</td>\n",
       "      <td>0.440</td>\n",
       "      <td>NaN</td>\n",
       "    </tr>\n",
       "    <tr>\n",
       "      <th>64</th>\n",
       "      <td>64</td>\n",
       "      <td>20200819_cell2_65.ciz</td>\n",
       "      <td>20200818xy25_26.czi</td>\n",
       "      <td>200819xy25</td>\n",
       "      <td>1518.457</td>\n",
       "      <td>279.362</td>\n",
       "      <td>H3k9me3</td>\n",
       "      <td>1</td>\n",
       "      <td>MCM2</td>\n",
       "      <td>2</td>\n",
       "      <td>...</td>\n",
       "      <td>0.458</td>\n",
       "      <td>NaN</td>\n",
       "      <td>Mgcl2</td>\n",
       "      <td>HIC</td>\n",
       "      <td>26.0</td>\n",
       "      <td>NaN</td>\n",
       "      <td>no</td>\n",
       "      <td>Z:\\CookLab\\Liu\\20190816_organizedData_MCM_load...</td>\n",
       "      <td>0.458</td>\n",
       "      <td>NaN</td>\n",
       "    </tr>\n",
       "  </tbody>\n",
       "</table>\n",
       "<p>5 rows × 24 columns</p>\n",
       "</div>"
      ],
      "text/plain": [
       "    Unnamed: 0                   file   original cell name       movie  \\\n",
       "60          60  20200819_cell2_61.ciz   20200818xy25_4.czi  200819xy25   \n",
       "61          61  20200819_cell2_62.ciz   20200818xy25_8.czi  200819xy25   \n",
       "62          62  20200819_cell2_63.ciz  20200818xy25_11.czi  200819xy25   \n",
       "63          63  20200819_cell2_64.ciz  20200818xy25_19.czi  200819xy25   \n",
       "64          64  20200819_cell2_65.ciz  20200818xy25_26.czi  200819xy25   \n",
       "\n",
       "           x        y ab1 (MCM)  ab1 ch ab2 (heterochromatin)  ab2 ch  ...  \\\n",
       "60   503.002   44.841   H3k9me3       1                  MCM2       2  ...   \n",
       "61  1433.915   83.868   H3k9me3       1                  MCM2       2  ...   \n",
       "62  1070.453  112.529   H3k9me3       1                  MCM2       2  ...   \n",
       "63   563.519  211.610   H3k9me3       1                  MCM2       2  ...   \n",
       "64  1518.457  279.362   H3k9me3       1                  MCM2       2  ...   \n",
       "\n",
       "    molecular_age_dhb  molecular_age_cdc6  group  imaging core  \\\n",
       "60              0.817                 NaN  Mgcl2           HIC   \n",
       "61              0.465                 NaN  Mgcl2           HIC   \n",
       "62              0.494                 NaN  Mgcl2           HIC   \n",
       "63              0.440                 NaN  Mgcl2           HIC   \n",
       "64              0.458                 NaN  Mgcl2           HIC   \n",
       "\n",
       "    cell id for tracking  comment decon  \\\n",
       "60                   4.0      NaN    no   \n",
       "61                   8.0      NaN    no   \n",
       "62                  11.0      NaN    no   \n",
       "63                  19.0      NaN    no   \n",
       "64                  26.0      NaN    no   \n",
       "\n",
       "                                                 path  mol_age_mod  \\\n",
       "60  Z:\\CookLab\\Liu\\20190816_organizedData_MCM_load...        0.817   \n",
       "61  Z:\\CookLab\\Liu\\20190816_organizedData_MCM_load...        0.465   \n",
       "62  Z:\\CookLab\\Liu\\20190816_organizedData_MCM_load...        0.494   \n",
       "63  Z:\\CookLab\\Liu\\20190816_organizedData_MCM_load...        0.440   \n",
       "64  Z:\\CookLab\\Liu\\20190816_organizedData_MCM_load...        0.458   \n",
       "\n",
       "    physical_age  \n",
       "60           NaN  \n",
       "61           NaN  \n",
       "62           NaN  \n",
       "63           NaN  \n",
       "64           NaN  \n",
       "\n",
       "[5 rows x 24 columns]"
      ]
     },
     "execution_count": 5,
     "metadata": {},
     "output_type": "execute_result"
    }
   ],
   "source": [
    "h3k9me3_data.head()"
   ]
  },
  {
   "cell_type": "markdown",
   "metadata": {},
   "source": [
    "# creating heterochromatin masks - 10% brightest pixel"
   ]
  },
  {
   "cell_type": "code",
   "execution_count": 6,
   "metadata": {},
   "outputs": [],
   "source": [
    "def create_het_mask(name,data,percentage):\n",
    "    ## based on the name give as a parameter, selecting the channel \n",
    "    ### hp1beta channel is 2 in new dataset and 1 in original dataset\n",
    "    if name==\"new\":\n",
    "        hp1=1\n",
    "    else:\n",
    "        hp1=0\n",
    "    \n",
    "    \n",
    "    \n",
    "    ## calculating 20% brightest pixles\n",
    "    het_percentile=percentage\n",
    "    \n",
    "    # Progress Bar\n",
    "    i=0\n",
    "    progBar=widgets.IntProgress(\n",
    "        value=i,\n",
    "        min=0,\n",
    "        max=len(data),\n",
    "        step=1,\n",
    "        description='Progress:',\n",
    "        orientation='horizontal'\n",
    "    )\n",
    "    display(progBar)\n",
    "\n",
    "    for i,myCell in islice(data.iterrows(), i,None):\n",
    "\n",
    "        ## create folder to store this percentile data if it doesn't exist yet\n",
    "        newSegFolder = os.path.dirname(myCell.path).replace('data_tiff',f'segmentation_{het_percentile}')\n",
    "        newResultsFolder = os.path.dirname(myCell.path).replace('data_tiff', 'results')\n",
    "\n",
    "        try:\n",
    "            os.mkdir(newSegFolder)\n",
    "        except:\n",
    "            pass\n",
    "\n",
    "        try:\n",
    "            os.mkdir(newResultsFolder)\n",
    "        except:\n",
    "            pass\n",
    "\n",
    "\n",
    "        ## open tiff image of a cell\n",
    "        try:\n",
    "            myImage=imread(myCell.path)    \n",
    "        except:\n",
    "            myCell.path=myCell.path.replace('.tif','.tiff')\n",
    "            myImage=imread(myCell.path)    \n",
    "\n",
    "        ## opening the channel according to the dataset\n",
    "        myChannel = myImage[:, hp1, :, :] \n",
    "\n",
    "        ## open nucleus mask\n",
    "        ### if the file is not found in the directory, trying to change the file extension \n",
    "        #### this is because there are some file files that are saved as tiff image \n",
    "        nucleusMaskPath=myCell.path\n",
    "        nucleusMaskPath=nucleusMaskPath.replace('data_tiff','segmentation_nucleus_Otsu')\n",
    "        nucleusMaskPath=nucleusMaskPath.replace('.tif','_nucleus.tif')\n",
    "        try:\n",
    "            nucleusMask=imread(nucleusMaskPath)\n",
    "        except:\n",
    "            nucleusMaskPath=nucleusMaskPath.replace('.tiff','.tif')\n",
    "            nucleusMask=imread(nucleusMaskPath)\n",
    "\n",
    "\n",
    "        ## make nucleus mask binary\n",
    "        nucleusMask = nucleusMask.astype(bool)\n",
    "\n",
    "        ## clean image\n",
    "        myNucleus = myChannel[nucleusMask]\n",
    "\n",
    "        ## find threshold\n",
    "        myPercentile = np.nanpercentile(myNucleus, (100-het_percentile)) \n",
    "\n",
    "        ## threshold\n",
    "        myHetMask=np.zeros(myChannel.shape).astype('bool')\n",
    "        myHetMask[myChannel >= myPercentile] = 1\n",
    "\n",
    "        ## clean from elements outside the nucleus\n",
    "        cleanNucleusMask=~nucleusMask\n",
    "        myHetMask[cleanNucleusMask]=0\n",
    "        cleanHetMask = ~myHetMask\n",
    "\n",
    "        ## save segmentation mask\n",
    "        maskFile = os.path.basename(myCell.path).replace('.tif',f'_hetChrom.tif')\n",
    "        tifffile.imsave(os.path.join(newSegFolder,maskFile), myHetMask.astype('uint8'))\n",
    "\n",
    "\n",
    "        progBar.value=progBar.value+1\n",
    "\n",
    "        "
   ]
  },
  {
   "cell_type": "code",
   "execution_count": 6,
   "metadata": {},
   "outputs": [
    {
     "data": {
      "application/vnd.jupyter.widget-view+json": {
       "model_id": "b51371e1258f40b79873e5d458ebc43a",
       "version_major": 2,
       "version_minor": 0
      },
      "text/plain": [
       "IntProgress(value=0, description='Progress:', max=78)"
      ]
     },
     "metadata": {},
     "output_type": "display_data"
    }
   ],
   "source": [
    "create_het_mask('h3k9me3',h3k9me3_2,10)\n",
    "create_het_mask('h3k9me3',h3k9me3,10)\n",
    "create_het_mask('h3k9me3',h3k9me3,50)\n",
    "create_het_mask('h3k9me3',h3k9me3_2,50)"
   ]
  },
  {
   "cell_type": "code",
   "execution_count": 8,
   "metadata": {},
   "outputs": [
    {
     "data": {
      "application/vnd.jupyter.widget-view+json": {
       "model_id": "15042916963846279152b80e061b4d14",
       "version_major": 2,
       "version_minor": 0
      },
      "text/plain": [
       "IntProgress(value=0, description='Progress:', max=54)"
      ]
     },
     "metadata": {},
     "output_type": "display_data"
    }
   ],
   "source": [
    "create_het_mask('h3k9me3',h3k9me3_data,40)"
   ]
  },
  {
   "cell_type": "code",
   "execution_count": 7,
   "metadata": {},
   "outputs": [
    {
     "data": {
      "application/vnd.jupyter.widget-view+json": {
       "model_id": "cb4338b9177c4f068779e7dcae532f75",
       "version_major": 2,
       "version_minor": 0
      },
      "text/plain": [
       "IntProgress(value=0, description='Progress:', max=54)"
      ]
     },
     "metadata": {},
     "output_type": "display_data"
    }
   ],
   "source": [
    "create_het_mask('h3k9me3',h3k9me3_data,28)"
   ]
  },
  {
   "cell_type": "code",
   "execution_count": 8,
   "metadata": {},
   "outputs": [
    {
     "data": {
      "application/vnd.jupyter.widget-view+json": {
       "model_id": "cf9eee1b44d9485a9795bbabd590e005",
       "version_major": 2,
       "version_minor": 0
      },
      "text/plain": [
       "IntProgress(value=0, description='Progress:', max=54)"
      ]
     },
     "metadata": {},
     "output_type": "display_data"
    }
   ],
   "source": [
    "create_het_mask('h3k9me3',h3k9me3_data,29)"
   ]
  },
  {
   "cell_type": "markdown",
   "metadata": {},
   "source": [
    "# masking heterochromatin with inner and outer masks"
   ]
  },
  {
   "cell_type": "code",
   "execution_count": 9,
   "metadata": {},
   "outputs": [],
   "source": [
    "def create_het_mask_erosion (name, data,percentage):\n",
    "    if name==\"new\":\n",
    "        hp1=1\n",
    "    else:\n",
    "        hp1=0\n",
    "\n",
    "    i=0\n",
    "    het_percentile=percentage\n",
    "    # Progress Bar\n",
    "    progBar=widgets.IntProgress(\n",
    "        value=i,\n",
    "        min=0,\n",
    "        max=len(data),\n",
    "        step=1,\n",
    "        description='Progress:',\n",
    "        orientation='horizontal'\n",
    "    )\n",
    "    display(progBar)\n",
    "\n",
    "    for i,myCell in islice(data.iterrows(), i,None):\n",
    "\n",
    "        # create folder to store this percentile (inner and outer) data if it doesn't exist yet\n",
    "        newSegFolder = os.path.dirname(myCell.path).replace('data_tiff',f'segmentation_{het_percentile}_erosion')\n",
    "\n",
    "        try:\n",
    "            os.mkdir(newSegFolder)\n",
    "        except:\n",
    "            pass\n",
    "\n",
    "        try:\n",
    "            os.mkdir(newResultsFolder)\n",
    "        except:\n",
    "            pass\n",
    "\n",
    "\n",
    "        # open tiff image of a cell\n",
    "        try:\n",
    "            myImage=imread(myCell.path)    \n",
    "        except:\n",
    "            myCell.path=myCell.path.replace('.tif','.tiff')\n",
    "            myImage=imread(myCell.path)    \n",
    "\n",
    "\n",
    "        myChannel = myImage[:, 1, :, :] #2nd channel is hetChrom (as stained by HP1B or H3K9Me3)\n",
    "\n",
    "        ## openning nucleus masks\n",
    "        nucleusMaskPath=myCell.path\n",
    "        nucleusMaskPath=nucleusMaskPath.replace('data_tiff','erosion_nuc_mask')\n",
    "        nucouterpath=nucleusMaskPath.replace('.tif','_eroded_9^5_outer_mask_20.tif')\n",
    "        nucinnerpath=nucleusMaskPath.replace('.tif','_eroded_9^5_inner_mask_20.tif')\n",
    "        outernuc=imread(nucouterpath)\n",
    "        outernuc=outernuc.astype(bool)\n",
    "        innernuc=imread(nucinnerpath)\n",
    "        innernuc=innernuc.astype(bool)\n",
    "\n",
    "        ## opening heterochromatin mask\n",
    "        hetPath=myCell.path\n",
    "        hetPath=hetPath.replace('data_tiff',f'segmentation_{percentage}')\n",
    "        hetPath=hetPath.replace('.tif','_hetChrom.tif')\n",
    "        het=imread(hetPath)\n",
    "        het=het.astype(bool)\n",
    "\n",
    "        ## masking heterochromatin with inner nuc mask\n",
    "        het_inner=het.copy()\n",
    "        het_inner=het_inner.astype(bool)\n",
    "        het_inner[~innernuc]=0\n",
    "\n",
    "        ## masking heterochromatin with outer nuc mask\n",
    "        het_outer=het.copy()\n",
    "        het_outer=het_outer.astype(bool)\n",
    "        het_outer[~outernuc]=0\n",
    "\n",
    "        ## save segmentation mask\n",
    "        maskFile = os.path.basename(myCell.path).replace('.tif',f'_hetChrom_inner.tif')\n",
    "        tifffile.imsave(os.path.join(newSegFolder,maskFile), het_inner.astype('uint8'))\n",
    "        maskFile = os.path.basename(myCell.path).replace('.tif',f'_hetChrom_outer.tif')\n",
    "        tifffile.imsave(os.path.join(newSegFolder,maskFile), het_outer.astype('uint8'))\n",
    "\n",
    "\n",
    "        progBar.value=progBar.value+1\n",
    "\n",
    "    "
   ]
  },
  {
   "cell_type": "code",
   "execution_count": 6,
   "metadata": {},
   "outputs": [
    {
     "data": {
      "application/vnd.jupyter.widget-view+json": {
       "model_id": "ff3aaa3a72044a698a3b3d2fea0e4942",
       "version_major": 2,
       "version_minor": 0
      },
      "text/plain": [
       "IntProgress(value=0, description='Progress:', max=88)"
      ]
     },
     "metadata": {},
     "output_type": "display_data"
    }
   ],
   "source": [
    "create_het_mask_erosion('h3k9me3',h3k9me3_2,10)"
   ]
  },
  {
   "cell_type": "code",
   "execution_count": 7,
   "metadata": {},
   "outputs": [
    {
     "data": {
      "application/vnd.jupyter.widget-view+json": {
       "model_id": "24082f34fb7041d7ab43230995903d1b",
       "version_major": 2,
       "version_minor": 0
      },
      "text/plain": [
       "IntProgress(value=0, description='Progress:', max=78)"
      ]
     },
     "metadata": {},
     "output_type": "display_data"
    }
   ],
   "source": [
    "create_het_mask_erosion('h3k9me3',h3k9me3,10)"
   ]
  },
  {
   "cell_type": "code",
   "execution_count": 8,
   "metadata": {},
   "outputs": [
    {
     "data": {
      "application/vnd.jupyter.widget-view+json": {
       "model_id": "a5491ce5d1ee439583e9ad0857c06f4e",
       "version_major": 2,
       "version_minor": 0
      },
      "text/plain": [
       "IntProgress(value=0, description='Progress:', max=88)"
      ]
     },
     "metadata": {},
     "output_type": "display_data"
    }
   ],
   "source": [
    "create_het_mask_erosion('h3k9me3',h3k9me3_2,50)"
   ]
  },
  {
   "cell_type": "code",
   "execution_count": 9,
   "metadata": {},
   "outputs": [
    {
     "data": {
      "application/vnd.jupyter.widget-view+json": {
       "model_id": "29d6eab2c85146f2b0855bbe89297807",
       "version_major": 2,
       "version_minor": 0
      },
      "text/plain": [
       "IntProgress(value=0, description='Progress:', max=78)"
      ]
     },
     "metadata": {},
     "output_type": "display_data"
    }
   ],
   "source": [
    "create_het_mask_erosion('h3k9me3',h3k9me3,50)"
   ]
  },
  {
   "cell_type": "code",
   "execution_count": 10,
   "metadata": {},
   "outputs": [
    {
     "data": {
      "application/vnd.jupyter.widget-view+json": {
       "model_id": "9f73d7d885ed448aa8d27cf16a7b3a03",
       "version_major": 2,
       "version_minor": 0
      },
      "text/plain": [
       "IntProgress(value=0, description='Progress:', max=54)"
      ]
     },
     "metadata": {},
     "output_type": "display_data"
    }
   ],
   "source": [
    "create_het_mask_erosion('h3k9me3',h3k9me3_data,40)"
   ]
  },
  {
   "cell_type": "code",
   "execution_count": 10,
   "metadata": {},
   "outputs": [
    {
     "data": {
      "application/vnd.jupyter.widget-view+json": {
       "model_id": "a4de9802b12040fca3d09f87ad4994ea",
       "version_major": 2,
       "version_minor": 0
      },
      "text/plain": [
       "IntProgress(value=0, description='Progress:', max=54)"
      ]
     },
     "metadata": {},
     "output_type": "display_data"
    }
   ],
   "source": [
    "create_het_mask_erosion('h3k9me3',h3k9me3_data,28)"
   ]
  },
  {
   "cell_type": "code",
   "execution_count": 11,
   "metadata": {},
   "outputs": [
    {
     "data": {
      "application/vnd.jupyter.widget-view+json": {
       "model_id": "65c2c04102ee4102811dea6b280934f8",
       "version_major": 2,
       "version_minor": 0
      },
      "text/plain": [
       "IntProgress(value=0, description='Progress:', max=54)"
      ]
     },
     "metadata": {},
     "output_type": "display_data"
    }
   ],
   "source": [
    "create_het_mask_erosion('h3k9me3',h3k9me3_data,29)"
   ]
  },
  {
   "cell_type": "markdown",
   "metadata": {},
   "source": [
    "# 200402 - recreating euchromatin mask"
   ]
  },
  {
   "cell_type": "code",
   "execution_count": 12,
   "metadata": {},
   "outputs": [],
   "source": [
    "def create_eu_mask(name,data,percentage):\n",
    "    ## based on the name give as a parameter, selecting the channel \n",
    "    ### hp1beta channel is 2 in new dataset and 1 in original dataset\n",
    "\n",
    "    if name==\"new\":\n",
    "        hp1=1\n",
    "    else:\n",
    "        hp1=0\n",
    "\n",
    "    het_percentile=percentage\n",
    "    # Progress Bar\n",
    "    i=0\n",
    "    progBar=widgets.IntProgress(\n",
    "        value=i,\n",
    "        min=0,\n",
    "        max=len(data),\n",
    "        step=1,\n",
    "        description='Progress:',\n",
    "        orientation='horizontal'\n",
    "    )\n",
    "    display(progBar)\n",
    "\n",
    "    for i,myCell in islice(data.iterrows(), i,None):\n",
    "\n",
    "        ## create folder to store this percentile data if it doesn't exist yet\n",
    "        newSegFolder = os.path.dirname(myCell.path).replace('data_tiff',f'segmentation_{het_percentile}_eu')\n",
    "\n",
    "        try:\n",
    "            os.mkdir(newSegFolder)\n",
    "        except:\n",
    "            pass\n",
    "\n",
    "        ## open tiff image of a cell\n",
    "        try:\n",
    "            myImage=imread(myCell.path)    \n",
    "        except:\n",
    "            myCell.path=myCell.path.replace('.tif','.tiff')\n",
    "            myImage=imread(myCell.path)    \n",
    "\n",
    "        ## opening the channel according to the dataset\n",
    "        myChannel = myImage[:, hp1, :, :] \n",
    "\n",
    "        ## open nucleus mask\n",
    "        ### if the file is not found in the directory, trying to change the file extension \n",
    "        #### this is because there are some file files that are saved as tiff image \n",
    "        nucleusMaskPath=myCell.path\n",
    "        nucleusMaskPath=nucleusMaskPath.replace('data_tiff','segmentation_nucleus_Otsu')\n",
    "        nucleusMaskPath=nucleusMaskPath.replace('.tif','_nucleus.tif')\n",
    "        try:\n",
    "            nucleusMask=imread(nucleusMaskPath)\n",
    "        except:\n",
    "            nucleusMaskPath=nucleusMaskPath.replace('.tiff','.tif')\n",
    "            nucleusMask=imread(nucleusMaskPath)\n",
    "\n",
    "        hetPath=myCell.path\n",
    "        hetPath=hetPath.replace('data_tiff',f'segmentation_{percentage}')\n",
    "        hetPath=hetPath.replace('.tif','_hetChrom.tif')\n",
    "        het=imread(hetPath)\n",
    "        het=het.astype(bool)\n",
    "\n",
    "        ## make nucleus mask binary\n",
    "        nucleusMask = nucleusMask.astype(bool)\n",
    "\n",
    "        ## clean image\n",
    "        myNucleus = myChannel[nucleusMask]\n",
    "\n",
    "        ## masking heterochromatin pixels out of nucleus - so total nucleus - heterochromatin = euchromatin\n",
    "        myEuMask=np.zeros(myChannel.shape).astype('bool')\n",
    "        myEuMask[nucleusMask]=1\n",
    "        myEuMask[het]=0\n",
    "        \n",
    "        ## save segmentation mask\n",
    "        maskFile = os.path.basename(myCell.path).replace('.tif',f'_euChrom.tif')\n",
    "        tifffile.imsave(os.path.join(newSegFolder,maskFile), myEuMask.astype('uint8'))\n",
    "        \n",
    "\n",
    "        progBar.value=progBar.value+1\n",
    "        "
   ]
  },
  {
   "cell_type": "code",
   "execution_count": 11,
   "metadata": {},
   "outputs": [
    {
     "data": {
      "application/vnd.jupyter.widget-view+json": {
       "model_id": "bea35f663bdd41768cbeb0dbeaf4119e",
       "version_major": 2,
       "version_minor": 0
      },
      "text/plain": [
       "IntProgress(value=0, description='Progress:', max=88)"
      ]
     },
     "metadata": {},
     "output_type": "display_data"
    }
   ],
   "source": [
    "create_eu_mask('h3k9me3',h3k9me3_2,10)"
   ]
  },
  {
   "cell_type": "code",
   "execution_count": 12,
   "metadata": {},
   "outputs": [
    {
     "data": {
      "application/vnd.jupyter.widget-view+json": {
       "model_id": "ffbe708bd1a54db6ae8434434eb3e3aa",
       "version_major": 2,
       "version_minor": 0
      },
      "text/plain": [
       "IntProgress(value=0, description='Progress:', max=78)"
      ]
     },
     "metadata": {},
     "output_type": "display_data"
    }
   ],
   "source": [
    "create_eu_mask('h3k9me3',h3k9me3,10)"
   ]
  },
  {
   "cell_type": "code",
   "execution_count": 13,
   "metadata": {},
   "outputs": [
    {
     "data": {
      "application/vnd.jupyter.widget-view+json": {
       "model_id": "2e8982bbf70b44d5bb6058c0599c5dfd",
       "version_major": 2,
       "version_minor": 0
      },
      "text/plain": [
       "IntProgress(value=0, description='Progress:', max=78)"
      ]
     },
     "metadata": {},
     "output_type": "display_data"
    }
   ],
   "source": [
    "create_eu_mask('h3k9me3',h3k9me3,50)"
   ]
  },
  {
   "cell_type": "code",
   "execution_count": 14,
   "metadata": {},
   "outputs": [
    {
     "data": {
      "application/vnd.jupyter.widget-view+json": {
       "model_id": "e2c54d24c45240baa1140f997cf96856",
       "version_major": 2,
       "version_minor": 0
      },
      "text/plain": [
       "IntProgress(value=0, description='Progress:', max=88)"
      ]
     },
     "metadata": {},
     "output_type": "display_data"
    }
   ],
   "source": [
    "create_eu_mask('h3k9me3',h3k9me3_2,50)"
   ]
  },
  {
   "cell_type": "code",
   "execution_count": 13,
   "metadata": {},
   "outputs": [
    {
     "data": {
      "application/vnd.jupyter.widget-view+json": {
       "model_id": "eca8015ee32546e99a106f63c182cd6c",
       "version_major": 2,
       "version_minor": 0
      },
      "text/plain": [
       "IntProgress(value=0, description='Progress:', max=54)"
      ]
     },
     "metadata": {},
     "output_type": "display_data"
    }
   ],
   "source": [
    "create_eu_mask('h3k9me3',h3k9me3_data,40)"
   ]
  },
  {
   "cell_type": "code",
   "execution_count": 13,
   "metadata": {},
   "outputs": [
    {
     "data": {
      "application/vnd.jupyter.widget-view+json": {
       "model_id": "1d3eb30e70af42918d2e0b78b3e2bc7a",
       "version_major": 2,
       "version_minor": 0
      },
      "text/plain": [
       "IntProgress(value=0, description='Progress:', max=54)"
      ]
     },
     "metadata": {},
     "output_type": "display_data"
    }
   ],
   "source": [
    "create_eu_mask('h3k9me3',h3k9me3_data,28)"
   ]
  },
  {
   "cell_type": "code",
   "execution_count": 14,
   "metadata": {},
   "outputs": [
    {
     "data": {
      "application/vnd.jupyter.widget-view+json": {
       "model_id": "5f7e1d78f667481c9b56b3ba14d833e6",
       "version_major": 2,
       "version_minor": 0
      },
      "text/plain": [
       "IntProgress(value=0, description='Progress:', max=54)"
      ]
     },
     "metadata": {},
     "output_type": "display_data"
    }
   ],
   "source": [
    "create_eu_mask('h3k9me3',h3k9me3_data,29)"
   ]
  },
  {
   "cell_type": "markdown",
   "metadata": {},
   "source": [
    "# creating euchromatin inner and outer mask "
   ]
  },
  {
   "cell_type": "code",
   "execution_count": 15,
   "metadata": {},
   "outputs": [],
   "source": [
    "def create_eu_mask_erosion (name, data,percentage):\n",
    "    if name==\"new\":\n",
    "        hp1=1\n",
    "    else:\n",
    "        hp1=0\n",
    "\n",
    "    i=0\n",
    "    \n",
    "    het_percentile=percentage\n",
    "    eu_percentile=100-percentage\n",
    "    \n",
    "    # Progress Bar\n",
    "    progBar=widgets.IntProgress(\n",
    "        value=i,\n",
    "        min=0,\n",
    "        max=len(data),\n",
    "        step=1,\n",
    "        description='Progress:',\n",
    "        orientation='horizontal'\n",
    "    )\n",
    "    display(progBar)\n",
    "\n",
    "    for i,myCell in islice(data.iterrows(), i,None):\n",
    "\n",
    "        # create folder to store this percentile (inner and outer) data if it doesn't exist yet\n",
    "        newSegFolder = os.path.dirname(myCell.path).replace('data_tiff',f'segmentation_{het_percentile}_eu_erosion')\n",
    "\n",
    "        try:\n",
    "            os.mkdir(newSegFolder)\n",
    "        except:\n",
    "            pass\n",
    "\n",
    "        try:\n",
    "            os.mkdir(newResultsFolder)\n",
    "        except:\n",
    "            pass\n",
    "\n",
    "\n",
    "        # open tiff image of a cell\n",
    "        try:\n",
    "            myImage=imread(myCell.path)    \n",
    "        except:\n",
    "            myCell.path=myCell.path.replace('.tif','.tiff')\n",
    "            myImage=imread(myCell.path)    \n",
    "\n",
    "\n",
    "        myChannel = myImage[:, 1, :, :] #2nd channel is hetChrom (as stained by HP1B or H3K9Me3)\n",
    "\n",
    "        ## openning nucleus masks\n",
    "        nucleusMaskPath=myCell.path\n",
    "        nucleusMaskPath=nucleusMaskPath.replace('data_tiff','erosion_nuc_mask')\n",
    "        nucouterpath=nucleusMaskPath.replace('.tif','_eroded_9^5_outer_mask_20.tif')\n",
    "        nucinnerpath=nucleusMaskPath.replace('.tif','_eroded_9^5_inner_mask_20.tif')\n",
    "        outernuc=imread(nucouterpath)\n",
    "        outernuc=outernuc.astype(bool)\n",
    "        innernuc=imread(nucinnerpath)\n",
    "        innernuc=innernuc.astype(bool)\n",
    "\n",
    "        ## opening heterochromatin mask\n",
    "        euPath=myCell.path\n",
    "        euPath=euPath.replace('data_tiff',f'segmentation_{percentage}_eu')\n",
    "        euPath=euPath.replace('.tif','_euChrom.tif')\n",
    "        eu=imread(euPath)\n",
    "        eu=eu.astype(bool)\n",
    "\n",
    "        ## masking heterochromatin with inner nuc mask\n",
    "        eu_inner=eu.copy()\n",
    "        eu_inner=eu_inner.astype(bool)\n",
    "        eu_inner[~innernuc]=0\n",
    "\n",
    "        ## masking heterochromatin with outer nuc mask\n",
    "        eu_outer=eu.copy()\n",
    "        eu_outer=eu_outer.astype(bool)\n",
    "        eu_outer[~outernuc]=0\n",
    "\n",
    "        ## save segmentation mask\n",
    "        maskFile = os.path.basename(myCell.path).replace('.tif',f'_euChrom_inner.tif')\n",
    "        tifffile.imsave(os.path.join(newSegFolder,maskFile), eu_inner.astype('uint8'))\n",
    "        maskFile = os.path.basename(myCell.path).replace('.tif',f'_euChrom_outer.tif')\n",
    "        tifffile.imsave(os.path.join(newSegFolder,maskFile), eu_outer.astype('uint8'))\n",
    "\n",
    "\n",
    "        progBar.value=progBar.value+1\n",
    "\n",
    "    "
   ]
  },
  {
   "cell_type": "code",
   "execution_count": 16,
   "metadata": {},
   "outputs": [
    {
     "data": {
      "application/vnd.jupyter.widget-view+json": {
       "model_id": "fb00061dbba14788b569d2e284d04dc7",
       "version_major": 2,
       "version_minor": 0
      },
      "text/plain": [
       "IntProgress(value=0, description='Progress:', max=88)"
      ]
     },
     "metadata": {},
     "output_type": "display_data"
    }
   ],
   "source": [
    "create_eu_mask_erosion('h3k9me3',h3k9me3_2,10)"
   ]
  },
  {
   "cell_type": "code",
   "execution_count": 17,
   "metadata": {},
   "outputs": [
    {
     "data": {
      "application/vnd.jupyter.widget-view+json": {
       "model_id": "0cbd490de78e40d389885cc97cdd41c0",
       "version_major": 2,
       "version_minor": 0
      },
      "text/plain": [
       "IntProgress(value=0, description='Progress:', max=78)"
      ]
     },
     "metadata": {},
     "output_type": "display_data"
    }
   ],
   "source": [
    "create_eu_mask_erosion(\"h3k9me3\",h3k9me3,10)"
   ]
  },
  {
   "cell_type": "code",
   "execution_count": 18,
   "metadata": {},
   "outputs": [
    {
     "data": {
      "application/vnd.jupyter.widget-view+json": {
       "model_id": "daa9f68460e742f281cf1a417c89f3c8",
       "version_major": 2,
       "version_minor": 0
      },
      "text/plain": [
       "IntProgress(value=0, description='Progress:', max=88)"
      ]
     },
     "metadata": {},
     "output_type": "display_data"
    }
   ],
   "source": [
    "create_eu_mask_erosion('h3k9me3',h3k9me3_2,50)"
   ]
  },
  {
   "cell_type": "code",
   "execution_count": 19,
   "metadata": {},
   "outputs": [
    {
     "data": {
      "application/vnd.jupyter.widget-view+json": {
       "model_id": "1b3c8f2e195f48da9737328bb03f6c0c",
       "version_major": 2,
       "version_minor": 0
      },
      "text/plain": [
       "IntProgress(value=0, description='Progress:', max=78)"
      ]
     },
     "metadata": {},
     "output_type": "display_data"
    }
   ],
   "source": [
    "create_eu_mask_erosion(\"h3k9me3\",h3k9me3,50)"
   ]
  },
  {
   "cell_type": "code",
   "execution_count": 15,
   "metadata": {},
   "outputs": [
    {
     "data": {
      "application/vnd.jupyter.widget-view+json": {
       "model_id": "0b80fb391a4040648ad5652e7a55df6c",
       "version_major": 2,
       "version_minor": 0
      },
      "text/plain": [
       "IntProgress(value=0, description='Progress:', max=54)"
      ]
     },
     "metadata": {},
     "output_type": "display_data"
    }
   ],
   "source": [
    "create_eu_mask_erosion(\"h3k9me3\",h3k9me3_data,40)"
   ]
  },
  {
   "cell_type": "code",
   "execution_count": 16,
   "metadata": {},
   "outputs": [
    {
     "data": {
      "application/vnd.jupyter.widget-view+json": {
       "model_id": "4201f764d88046d8a7c52de534d5b6fe",
       "version_major": 2,
       "version_minor": 0
      },
      "text/plain": [
       "IntProgress(value=0, description='Progress:', max=54)"
      ]
     },
     "metadata": {},
     "output_type": "display_data"
    }
   ],
   "source": [
    "create_eu_mask_erosion(\"h3k9me3\",h3k9me3_data,28)"
   ]
  },
  {
   "cell_type": "code",
   "execution_count": 17,
   "metadata": {},
   "outputs": [
    {
     "data": {
      "application/vnd.jupyter.widget-view+json": {
       "model_id": "b95e6e89190948bf8be8e813b46f8b59",
       "version_major": 2,
       "version_minor": 0
      },
      "text/plain": [
       "IntProgress(value=0, description='Progress:', max=54)"
      ]
     },
     "metadata": {},
     "output_type": "display_data"
    }
   ],
   "source": [
    "create_eu_mask_erosion(\"h3k9me3\",h3k9me3_data,29)"
   ]
  },
  {
   "cell_type": "code",
   "execution_count": 10,
   "metadata": {},
   "outputs": [
    {
     "data": {
      "application/vnd.jupyter.widget-view+json": {
       "model_id": "343ae8f5121040278c4716e485c3c909",
       "version_major": 2,
       "version_minor": 0
      },
      "text/plain": [
       "IntProgress(value=0, description='Progress:', max=54)"
      ]
     },
     "metadata": {},
     "output_type": "display_data"
    },
    {
     "data": {
      "application/vnd.jupyter.widget-view+json": {
       "model_id": "0b40c7cc7d354e5faf4ad5c78024c699",
       "version_major": 2,
       "version_minor": 0
      },
      "text/plain": [
       "IntProgress(value=0, description='Progress:', max=54)"
      ]
     },
     "metadata": {},
     "output_type": "display_data"
    },
    {
     "data": {
      "application/vnd.jupyter.widget-view+json": {
       "model_id": "592c5ab54595430aa08e7883c3674a7f",
       "version_major": 2,
       "version_minor": 0
      },
      "text/plain": [
       "IntProgress(value=0, description='Progress:', max=54)"
      ]
     },
     "metadata": {},
     "output_type": "display_data"
    },
    {
     "data": {
      "application/vnd.jupyter.widget-view+json": {
       "model_id": "b69e5000b839406d85f8e02f12e43470",
       "version_major": 2,
       "version_minor": 0
      },
      "text/plain": [
       "IntProgress(value=0, description='Progress:', max=54)"
      ]
     },
     "metadata": {},
     "output_type": "display_data"
    },
    {
     "data": {
      "application/vnd.jupyter.widget-view+json": {
       "model_id": "d275ee83a9bb46a0ada5e07e3e6ee3da",
       "version_major": 2,
       "version_minor": 0
      },
      "text/plain": [
       "IntProgress(value=0, description='Progress:', max=54)"
      ]
     },
     "metadata": {},
     "output_type": "display_data"
    },
    {
     "data": {
      "application/vnd.jupyter.widget-view+json": {
       "model_id": "befcda1cd14a4845bdeff90ae0b64f5e",
       "version_major": 2,
       "version_minor": 0
      },
      "text/plain": [
       "IntProgress(value=0, description='Progress:', max=54)"
      ]
     },
     "metadata": {},
     "output_type": "display_data"
    },
    {
     "data": {
      "application/vnd.jupyter.widget-view+json": {
       "model_id": "304b68ebbe92436cbb5a13dd76eda77d",
       "version_major": 2,
       "version_minor": 0
      },
      "text/plain": [
       "IntProgress(value=0, description='Progress:', max=54)"
      ]
     },
     "metadata": {},
     "output_type": "display_data"
    },
    {
     "data": {
      "application/vnd.jupyter.widget-view+json": {
       "model_id": "4fb5be18ba2340dbb4640c6715227092",
       "version_major": 2,
       "version_minor": 0
      },
      "text/plain": [
       "IntProgress(value=0, description='Progress:', max=54)"
      ]
     },
     "metadata": {},
     "output_type": "display_data"
    },
    {
     "data": {
      "application/vnd.jupyter.widget-view+json": {
       "model_id": "f54784052e9e4fb1887cf1c3d80b3dd2",
       "version_major": 2,
       "version_minor": 0
      },
      "text/plain": [
       "IntProgress(value=0, description='Progress:', max=54)"
      ]
     },
     "metadata": {},
     "output_type": "display_data"
    },
    {
     "data": {
      "application/vnd.jupyter.widget-view+json": {
       "model_id": "0bfc8cb77a23449a981ec532c3e0d413",
       "version_major": 2,
       "version_minor": 0
      },
      "text/plain": [
       "IntProgress(value=0, description='Progress:', max=54)"
      ]
     },
     "metadata": {},
     "output_type": "display_data"
    },
    {
     "data": {
      "application/vnd.jupyter.widget-view+json": {
       "model_id": "9459e7ccb389465fa9e8f0baf684ddcc",
       "version_major": 2,
       "version_minor": 0
      },
      "text/plain": [
       "IntProgress(value=0, description='Progress:', max=54)"
      ]
     },
     "metadata": {},
     "output_type": "display_data"
    },
    {
     "data": {
      "application/vnd.jupyter.widget-view+json": {
       "model_id": "310b5de790694cca87ee8b62fc0e3e0c",
       "version_major": 2,
       "version_minor": 0
      },
      "text/plain": [
       "IntProgress(value=0, description='Progress:', max=54)"
      ]
     },
     "metadata": {},
     "output_type": "display_data"
    },
    {
     "data": {
      "application/vnd.jupyter.widget-view+json": {
       "model_id": "e77576ed6c224a00a0d4b3beafd18df4",
       "version_major": 2,
       "version_minor": 0
      },
      "text/plain": [
       "IntProgress(value=0, description='Progress:', max=54)"
      ]
     },
     "metadata": {},
     "output_type": "display_data"
    },
    {
     "data": {
      "application/vnd.jupyter.widget-view+json": {
       "model_id": "15005105ab9c407d95ce3c8324cf92ff",
       "version_major": 2,
       "version_minor": 0
      },
      "text/plain": [
       "IntProgress(value=0, description='Progress:', max=54)"
      ]
     },
     "metadata": {},
     "output_type": "display_data"
    },
    {
     "data": {
      "application/vnd.jupyter.widget-view+json": {
       "model_id": "1a381ab1e5ee46d9b92d7027f5fb69c2",
       "version_major": 2,
       "version_minor": 0
      },
      "text/plain": [
       "IntProgress(value=0, description='Progress:', max=54)"
      ]
     },
     "metadata": {},
     "output_type": "display_data"
    },
    {
     "data": {
      "application/vnd.jupyter.widget-view+json": {
       "model_id": "a0299103b9e34b06a6c5988008c0cc85",
       "version_major": 2,
       "version_minor": 0
      },
      "text/plain": [
       "IntProgress(value=0, description='Progress:', max=54)"
      ]
     },
     "metadata": {},
     "output_type": "display_data"
    },
    {
     "data": {
      "application/vnd.jupyter.widget-view+json": {
       "model_id": "34563271e91744a3802af05dfcf7daf2",
       "version_major": 2,
       "version_minor": 0
      },
      "text/plain": [
       "IntProgress(value=0, description='Progress:', max=54)"
      ]
     },
     "metadata": {},
     "output_type": "display_data"
    },
    {
     "data": {
      "application/vnd.jupyter.widget-view+json": {
       "model_id": "c020b23c0b7341aeb201a82dc775c065",
       "version_major": 2,
       "version_minor": 0
      },
      "text/plain": [
       "IntProgress(value=0, description='Progress:', max=54)"
      ]
     },
     "metadata": {},
     "output_type": "display_data"
    },
    {
     "data": {
      "application/vnd.jupyter.widget-view+json": {
       "model_id": "8ab6d20bd5f34525a4bea46ed3685744",
       "version_major": 2,
       "version_minor": 0
      },
      "text/plain": [
       "IntProgress(value=0, description='Progress:', max=54)"
      ]
     },
     "metadata": {},
     "output_type": "display_data"
    },
    {
     "data": {
      "application/vnd.jupyter.widget-view+json": {
       "model_id": "248ffb832625432fb83820d36ee8b5bd",
       "version_major": 2,
       "version_minor": 0
      },
      "text/plain": [
       "IntProgress(value=0, description='Progress:', max=54)"
      ]
     },
     "metadata": {},
     "output_type": "display_data"
    }
   ],
   "source": [
    "# making different segmentation threshold for MgCl2 group \n",
    "d=(10,30,40,50,60)\n",
    "for i in d:\n",
    "    create_het_mask(\"h3k9me3\",h3k9me3_data,i)\n",
    "    create_het_mask_erosion('h3k9me3',h3k9me3_data,i)\n",
    "    create_eu_mask('h3k9me3',h3k9me3_data,i)\n",
    "    create_eu_mask_erosion(\"h3k9me3\",h3k9me3_data,i)"
   ]
  },
  {
   "cell_type": "code",
   "execution_count": null,
   "metadata": {},
   "outputs": [],
   "source": []
  }
 ],
 "metadata": {
  "kernelspec": {
   "display_name": "Python 3",
   "language": "python",
   "name": "python3"
  },
  "language_info": {
   "codemirror_mode": {
    "name": "ipython",
    "version": 3
   },
   "file_extension": ".py",
   "mimetype": "text/x-python",
   "name": "python",
   "nbconvert_exporter": "python",
   "pygments_lexer": "ipython3",
   "version": "3.7.3"
  }
 },
 "nbformat": 4,
 "nbformat_minor": 2
}
