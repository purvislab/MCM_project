{
 "cells": [
  {
   "cell_type": "code",
   "execution_count": 1,
   "metadata": {},
   "outputs": [],
   "source": [
    "## import libraries\n",
    "import os\n",
    "from os import listdir\n",
    "from os.path import isfile, join\n",
    "\n",
    "import pandas as pd\n",
    "from itertools import islice\n",
    "import numpy as np\n",
    "\n",
    "from skimage.external import tifffile\n",
    "from skimage.external.tifffile import imread\n",
    "\n",
    "import matplotlib.pyplot as plt\n",
    "\n",
    "import ipywidgets as widgets\n",
    "\n",
    "import random\n",
    "\n",
    "\n",
    "from scipy.ndimage.morphology import binary_erosion as br\n",
    "from skimage import morphology as skmor\n",
    "\n",
    "from scipy import ndimage\n",
    "from PIL import Image, ImageDraw\n",
    "\n",
    "import numpy.ma as ma\n",
    "\n",
    "from skimage.measure import label, regionprops"
   ]
  },
  {
   "cell_type": "code",
   "execution_count": 2,
   "metadata": {},
   "outputs": [],
   "source": [
    "bigDir=r'Z:\\CookLab\\Liu\\20190816_organizedData_MCM_loading'"
   ]
  },
  {
   "cell_type": "code",
   "execution_count": 3,
   "metadata": {},
   "outputs": [],
   "source": [
    "# fifth (h3k9me3) dataset\n",
    "## channels: 0 = h3k9me3, 1 =MCM, 2= DAPI\n",
    "file=f'{bigDir}\\\\20200604_h3k9me3\\\\cellinfo_200604v3.csv'\n",
    "h3k9me3=pd.read_csv(file)"
   ]
  },
  {
   "cell_type": "code",
   "execution_count": 4,
   "metadata": {},
   "outputs": [],
   "source": [
    "# sixth (h3k9me3) dataset\n",
    "## channels: 0 = h3k9me3, 1= MCM, 2=DAPI\n",
    "file=f'{bigDir}\\\\20200615_h3k9me3\\\\cellinfo_200615v2.csv'\n",
    "h3k9me3_2=pd.read_csv(file)"
   ]
  },
  {
   "cell_type": "markdown",
   "metadata": {},
   "source": [
    "# creating heterochromatin masks - 10% brightest pixel"
   ]
  },
  {
   "cell_type": "code",
   "execution_count": 8,
   "metadata": {},
   "outputs": [],
   "source": [
    "def create_het_mask(name,data,percentage):\n",
    "    ## based on the name give as a parameter, selecting the channel \n",
    "    ### hp1beta channel is 2 in new dataset and 1 in original dataset\n",
    "    if name==\"new\":\n",
    "        hp1=1\n",
    "    else:\n",
    "        hp1=0\n",
    "    \n",
    "    \n",
    "    \n",
    "    ## calculating 20% brightest pixles\n",
    "    het_percentile=percentage\n",
    "    \n",
    "    # Progress Bar\n",
    "    i=0\n",
    "    progBar=widgets.IntProgress(\n",
    "        value=i,\n",
    "        min=0,\n",
    "        max=len(data),\n",
    "        step=1,\n",
    "        description='Progress:',\n",
    "        orientation='horizontal'\n",
    "    )\n",
    "    display(progBar)\n",
    "\n",
    "    for i,myCell in islice(data.iterrows(), i,None):\n",
    "\n",
    "        ## create folder to store this percentile data if it doesn't exist yet\n",
    "        newSegFolder = os.path.dirname(myCell.path).replace('data_tiff',f'segmentation_{het_percentile}')\n",
    "        newResultsFolder = os.path.dirname(myCell.path).replace('data_tiff', 'results')\n",
    "\n",
    "        try:\n",
    "            os.mkdir(newSegFolder)\n",
    "        except:\n",
    "            pass\n",
    "\n",
    "        try:\n",
    "            os.mkdir(newResultsFolder)\n",
    "        except:\n",
    "            pass\n",
    "\n",
    "\n",
    "        ## open tiff image of a cell\n",
    "        try:\n",
    "            myImage=imread(myCell.path)    \n",
    "        except:\n",
    "            myCell.path=myCell.path.replace('.tif','.tiff')\n",
    "            myImage=imread(myCell.path)    \n",
    "\n",
    "        ## opening the channel according to the dataset\n",
    "        myChannel = myImage[:, hp1, :, :] \n",
    "\n",
    "        ## open nucleus mask\n",
    "        ### if the file is not found in the directory, trying to change the file extension \n",
    "        #### this is because there are some file files that are saved as tiff image \n",
    "        nucleusMaskPath=myCell.path\n",
    "        nucleusMaskPath=nucleusMaskPath.replace('data_tiff','segmentation_nucleus_Otsu')\n",
    "        nucleusMaskPath=nucleusMaskPath.replace('.tif','_nucleus.tif')\n",
    "        try:\n",
    "            nucleusMask=imread(nucleusMaskPath)\n",
    "        except:\n",
    "            nucleusMaskPath=nucleusMaskPath.replace('.tiff','.tif')\n",
    "            nucleusMask=imread(nucleusMaskPath)\n",
    "\n",
    "\n",
    "        ## make nucleus mask binary\n",
    "        nucleusMask = nucleusMask.astype(bool)\n",
    "\n",
    "        ## clean image\n",
    "        myNucleus = myChannel[nucleusMask]\n",
    "\n",
    "        ## find threshold\n",
    "        myPercentile = np.nanpercentile(myNucleus, (100-het_percentile)) \n",
    "\n",
    "        ## threshold\n",
    "        myHetMask=np.zeros(myChannel.shape).astype('bool')\n",
    "        myHetMask[myChannel >= myPercentile] = 1\n",
    "\n",
    "        ## clean from elements outside the nucleus\n",
    "        cleanNucleusMask=~nucleusMask\n",
    "        myHetMask[cleanNucleusMask]=0\n",
    "        cleanHetMask = ~myHetMask\n",
    "\n",
    "        ## save segmentation mask\n",
    "        maskFile = os.path.basename(myCell.path).replace('.tif',f'_hetChrom.tif')\n",
    "        tifffile.imsave(os.path.join(newSegFolder,maskFile), myHetMask.astype('uint8'))\n",
    "\n",
    "\n",
    "        progBar.value=progBar.value+1\n",
    "\n",
    "        "
   ]
  },
  {
   "cell_type": "code",
   "execution_count": 6,
   "metadata": {},
   "outputs": [
    {
     "data": {
      "application/vnd.jupyter.widget-view+json": {
       "model_id": "b51371e1258f40b79873e5d458ebc43a",
       "version_major": 2,
       "version_minor": 0
      },
      "text/plain": [
       "IntProgress(value=0, description='Progress:', max=78)"
      ]
     },
     "metadata": {},
     "output_type": "display_data"
    }
   ],
   "source": [
    "create_het_mask('h3k9me3',h3k9me3,10)"
   ]
  },
  {
   "cell_type": "code",
   "execution_count": 9,
   "metadata": {},
   "outputs": [
    {
     "data": {
      "application/vnd.jupyter.widget-view+json": {
       "model_id": "18d468e41b444b9a8adef5ce8da5c267",
       "version_major": 2,
       "version_minor": 0
      },
      "text/plain": [
       "IntProgress(value=0, description='Progress:', max=88)"
      ]
     },
     "metadata": {},
     "output_type": "display_data"
    }
   ],
   "source": [
    "create_het_mask('h3k9me3',h3k9me3_2,10)"
   ]
  },
  {
   "cell_type": "code",
   "execution_count": 12,
   "metadata": {},
   "outputs": [
    {
     "data": {
      "application/vnd.jupyter.widget-view+json": {
       "model_id": "bb8daf4daed0472c9dfc40e8d22a2174",
       "version_major": 2,
       "version_minor": 0
      },
      "text/plain": [
       "IntProgress(value=0, description='Progress:', max=78)"
      ]
     },
     "metadata": {},
     "output_type": "display_data"
    }
   ],
   "source": [
    "create_het_mask('h3k9me3',h3k9me3,50)"
   ]
  },
  {
   "cell_type": "code",
   "execution_count": 13,
   "metadata": {},
   "outputs": [
    {
     "data": {
      "application/vnd.jupyter.widget-view+json": {
       "model_id": "a880ecad1115454aada4c24e6718bee8",
       "version_major": 2,
       "version_minor": 0
      },
      "text/plain": [
       "IntProgress(value=0, description='Progress:', max=88)"
      ]
     },
     "metadata": {},
     "output_type": "display_data"
    }
   ],
   "source": [
    "create_het_mask('h3k9me3',h3k9me3_2,50)"
   ]
  },
  {
   "cell_type": "code",
   "execution_count": null,
   "metadata": {},
   "outputs": [],
   "source": []
  },
  {
   "cell_type": "markdown",
   "metadata": {},
   "source": [
    "# masking heterochromatin with inner and outer masks"
   ]
  },
  {
   "cell_type": "code",
   "execution_count": 5,
   "metadata": {},
   "outputs": [],
   "source": [
    "def create_het_mask_erosion (name, data,percentage):\n",
    "    if name==\"new\":\n",
    "        hp1=1\n",
    "    else:\n",
    "        hp1=0\n",
    "\n",
    "    i=0\n",
    "    het_percentile=percentage\n",
    "    # Progress Bar\n",
    "    progBar=widgets.IntProgress(\n",
    "        value=i,\n",
    "        min=0,\n",
    "        max=len(data),\n",
    "        step=1,\n",
    "        description='Progress:',\n",
    "        orientation='horizontal'\n",
    "    )\n",
    "    display(progBar)\n",
    "\n",
    "    for i,myCell in islice(data.iterrows(), i,None):\n",
    "\n",
    "        # create folder to store this percentile (inner and outer) data if it doesn't exist yet\n",
    "        newSegFolder = os.path.dirname(myCell.path).replace('data_tiff',f'segmentation_{het_percentile}_erosion')\n",
    "\n",
    "        try:\n",
    "            os.mkdir(newSegFolder)\n",
    "        except:\n",
    "            pass\n",
    "\n",
    "        try:\n",
    "            os.mkdir(newResultsFolder)\n",
    "        except:\n",
    "            pass\n",
    "\n",
    "\n",
    "        # open tiff image of a cell\n",
    "        try:\n",
    "            myImage=imread(myCell.path)    \n",
    "        except:\n",
    "            myCell.path=myCell.path.replace('.tif','.tiff')\n",
    "            myImage=imread(myCell.path)    \n",
    "\n",
    "\n",
    "        myChannel = myImage[:, 1, :, :] #2nd channel is hetChrom (as stained by HP1B or H3K9Me3)\n",
    "\n",
    "        ## openning nucleus masks\n",
    "        nucleusMaskPath=myCell.path\n",
    "        nucleusMaskPath=nucleusMaskPath.replace('data_tiff','erosion_nuc_mask')\n",
    "        nucouterpath=nucleusMaskPath.replace('.tif','_eroded_9^5_outer_mask_20.tif')\n",
    "        nucinnerpath=nucleusMaskPath.replace('.tif','_eroded_9^5_inner_mask_20.tif')\n",
    "        outernuc=imread(nucouterpath)\n",
    "        outernuc=outernuc.astype(bool)\n",
    "        innernuc=imread(nucinnerpath)\n",
    "        innernuc=innernuc.astype(bool)\n",
    "\n",
    "        ## opening heterochromatin mask\n",
    "        hetPath=myCell.path\n",
    "        hetPath=hetPath.replace('data_tiff',f'segmentation_{percentage}')\n",
    "        hetPath=hetPath.replace('.tif','_hetChrom.tif')\n",
    "        het=imread(hetPath)\n",
    "        het=het.astype(bool)\n",
    "\n",
    "        ## masking heterochromatin with inner nuc mask\n",
    "        het_inner=het.copy()\n",
    "        het_inner=het_inner.astype(bool)\n",
    "        het_inner[~innernuc]=0\n",
    "\n",
    "        ## masking heterochromatin with outer nuc mask\n",
    "        het_outer=het.copy()\n",
    "        het_outer=het_outer.astype(bool)\n",
    "        het_outer[~outernuc]=0\n",
    "\n",
    "        ## save segmentation mask\n",
    "        maskFile = os.path.basename(myCell.path).replace('.tif',f'_hetChrom_inner.tif')\n",
    "        tifffile.imsave(os.path.join(newSegFolder,maskFile), het_inner.astype('uint8'))\n",
    "        maskFile = os.path.basename(myCell.path).replace('.tif',f'_hetChrom_outer.tif')\n",
    "        tifffile.imsave(os.path.join(newSegFolder,maskFile), het_outer.astype('uint8'))\n",
    "\n",
    "\n",
    "        progBar.value=progBar.value+1\n",
    "\n",
    "    "
   ]
  },
  {
   "cell_type": "code",
   "execution_count": 6,
   "metadata": {},
   "outputs": [
    {
     "data": {
      "application/vnd.jupyter.widget-view+json": {
       "model_id": "ff3aaa3a72044a698a3b3d2fea0e4942",
       "version_major": 2,
       "version_minor": 0
      },
      "text/plain": [
       "IntProgress(value=0, description='Progress:', max=88)"
      ]
     },
     "metadata": {},
     "output_type": "display_data"
    }
   ],
   "source": [
    "create_het_mask_erosion('h3k9me3',h3k9me3_2,10)"
   ]
  },
  {
   "cell_type": "code",
   "execution_count": 7,
   "metadata": {},
   "outputs": [
    {
     "data": {
      "application/vnd.jupyter.widget-view+json": {
       "model_id": "24082f34fb7041d7ab43230995903d1b",
       "version_major": 2,
       "version_minor": 0
      },
      "text/plain": [
       "IntProgress(value=0, description='Progress:', max=78)"
      ]
     },
     "metadata": {},
     "output_type": "display_data"
    }
   ],
   "source": [
    "create_het_mask_erosion('h3k9me3',h3k9me3,10)"
   ]
  },
  {
   "cell_type": "code",
   "execution_count": 8,
   "metadata": {},
   "outputs": [
    {
     "data": {
      "application/vnd.jupyter.widget-view+json": {
       "model_id": "a5491ce5d1ee439583e9ad0857c06f4e",
       "version_major": 2,
       "version_minor": 0
      },
      "text/plain": [
       "IntProgress(value=0, description='Progress:', max=88)"
      ]
     },
     "metadata": {},
     "output_type": "display_data"
    }
   ],
   "source": [
    "create_het_mask_erosion('h3k9me3',h3k9me3_2,50)"
   ]
  },
  {
   "cell_type": "code",
   "execution_count": 9,
   "metadata": {},
   "outputs": [
    {
     "data": {
      "application/vnd.jupyter.widget-view+json": {
       "model_id": "29d6eab2c85146f2b0855bbe89297807",
       "version_major": 2,
       "version_minor": 0
      },
      "text/plain": [
       "IntProgress(value=0, description='Progress:', max=78)"
      ]
     },
     "metadata": {},
     "output_type": "display_data"
    }
   ],
   "source": [
    "create_het_mask_erosion('h3k9me3',h3k9me3,50)"
   ]
  },
  {
   "cell_type": "markdown",
   "metadata": {},
   "source": [
    "# 200402 - recreating euchromatin mask"
   ]
  },
  {
   "cell_type": "code",
   "execution_count": 10,
   "metadata": {},
   "outputs": [],
   "source": [
    "def create_eu_mask(name,data,percentage):\n",
    "    ## based on the name give as a parameter, selecting the channel \n",
    "    ### hp1beta channel is 2 in new dataset and 1 in original dataset\n",
    "\n",
    "    if name==\"new\":\n",
    "        hp1=1\n",
    "    else:\n",
    "        hp1=0\n",
    "\n",
    "    het_percentile=percentage\n",
    "    # Progress Bar\n",
    "    i=0\n",
    "    progBar=widgets.IntProgress(\n",
    "        value=i,\n",
    "        min=0,\n",
    "        max=len(data),\n",
    "        step=1,\n",
    "        description='Progress:',\n",
    "        orientation='horizontal'\n",
    "    )\n",
    "    display(progBar)\n",
    "\n",
    "    for i,myCell in islice(data.iterrows(), i,None):\n",
    "\n",
    "        ## create folder to store this percentile data if it doesn't exist yet\n",
    "        newSegFolder = os.path.dirname(myCell.path).replace('data_tiff',f'segmentation_{het_percentile}_eu')\n",
    "\n",
    "        try:\n",
    "            os.mkdir(newSegFolder)\n",
    "        except:\n",
    "            pass\n",
    "\n",
    "        ## open tiff image of a cell\n",
    "        try:\n",
    "            myImage=imread(myCell.path)    \n",
    "        except:\n",
    "            myCell.path=myCell.path.replace('.tif','.tiff')\n",
    "            myImage=imread(myCell.path)    \n",
    "\n",
    "        ## opening the channel according to the dataset\n",
    "        myChannel = myImage[:, hp1, :, :] \n",
    "\n",
    "        ## open nucleus mask\n",
    "        ### if the file is not found in the directory, trying to change the file extension \n",
    "        #### this is because there are some file files that are saved as tiff image \n",
    "        nucleusMaskPath=myCell.path\n",
    "        nucleusMaskPath=nucleusMaskPath.replace('data_tiff','segmentation_nucleus_Otsu')\n",
    "        nucleusMaskPath=nucleusMaskPath.replace('.tif','_nucleus.tif')\n",
    "        try:\n",
    "            nucleusMask=imread(nucleusMaskPath)\n",
    "        except:\n",
    "            nucleusMaskPath=nucleusMaskPath.replace('.tiff','.tif')\n",
    "            nucleusMask=imread(nucleusMaskPath)\n",
    "\n",
    "        hetPath=myCell.path\n",
    "        hetPath=hetPath.replace('data_tiff',f'segmentation_{percentage}')\n",
    "        hetPath=hetPath.replace('.tif','_hetChrom.tif')\n",
    "        het=imread(hetPath)\n",
    "        het=het.astype(bool)\n",
    "\n",
    "        ## make nucleus mask binary\n",
    "        nucleusMask = nucleusMask.astype(bool)\n",
    "\n",
    "        ## clean image\n",
    "        myNucleus = myChannel[nucleusMask]\n",
    "\n",
    "        ## masking heterochromatin pixels out of nucleus - so total nucleus - heterochromatin = euchromatin\n",
    "        myEuMask=np.zeros(myChannel.shape).astype('bool')\n",
    "        myEuMask[nucleusMask]=1\n",
    "        myEuMask[het]=0\n",
    "        \n",
    "        ## save segmentation mask\n",
    "        maskFile = os.path.basename(myCell.path).replace('.tif',f'_euChrom.tif')\n",
    "        tifffile.imsave(os.path.join(newSegFolder,maskFile), myEuMask.astype('uint8'))\n",
    "        \n",
    "\n",
    "        progBar.value=progBar.value+1\n",
    "        "
   ]
  },
  {
   "cell_type": "code",
   "execution_count": 11,
   "metadata": {},
   "outputs": [
    {
     "data": {
      "application/vnd.jupyter.widget-view+json": {
       "model_id": "bea35f663bdd41768cbeb0dbeaf4119e",
       "version_major": 2,
       "version_minor": 0
      },
      "text/plain": [
       "IntProgress(value=0, description='Progress:', max=88)"
      ]
     },
     "metadata": {},
     "output_type": "display_data"
    }
   ],
   "source": [
    "create_eu_mask('h3k9me3',h3k9me3_2,10)"
   ]
  },
  {
   "cell_type": "code",
   "execution_count": 12,
   "metadata": {},
   "outputs": [
    {
     "data": {
      "application/vnd.jupyter.widget-view+json": {
       "model_id": "ffbe708bd1a54db6ae8434434eb3e3aa",
       "version_major": 2,
       "version_minor": 0
      },
      "text/plain": [
       "IntProgress(value=0, description='Progress:', max=78)"
      ]
     },
     "metadata": {},
     "output_type": "display_data"
    }
   ],
   "source": [
    "create_eu_mask('h3k9me3',h3k9me3,10)"
   ]
  },
  {
   "cell_type": "code",
   "execution_count": 13,
   "metadata": {},
   "outputs": [
    {
     "data": {
      "application/vnd.jupyter.widget-view+json": {
       "model_id": "2e8982bbf70b44d5bb6058c0599c5dfd",
       "version_major": 2,
       "version_minor": 0
      },
      "text/plain": [
       "IntProgress(value=0, description='Progress:', max=78)"
      ]
     },
     "metadata": {},
     "output_type": "display_data"
    }
   ],
   "source": [
    "create_eu_mask('h3k9me3',h3k9me3,50)"
   ]
  },
  {
   "cell_type": "code",
   "execution_count": 14,
   "metadata": {},
   "outputs": [
    {
     "data": {
      "application/vnd.jupyter.widget-view+json": {
       "model_id": "e2c54d24c45240baa1140f997cf96856",
       "version_major": 2,
       "version_minor": 0
      },
      "text/plain": [
       "IntProgress(value=0, description='Progress:', max=88)"
      ]
     },
     "metadata": {},
     "output_type": "display_data"
    }
   ],
   "source": [
    "create_eu_mask('h3k9me3',h3k9me3_2,50)"
   ]
  },
  {
   "cell_type": "markdown",
   "metadata": {},
   "source": [
    "# creating euchromatin inner and outer mask "
   ]
  },
  {
   "cell_type": "code",
   "execution_count": 15,
   "metadata": {},
   "outputs": [],
   "source": [
    "def create_eu_mask_erosion (name, data,percentage):\n",
    "    if name==\"new\":\n",
    "        hp1=1\n",
    "    else:\n",
    "        hp1=0\n",
    "\n",
    "    i=0\n",
    "    \n",
    "    het_percentile=percentage\n",
    "    eu_percentile=100-percentage\n",
    "    \n",
    "    # Progress Bar\n",
    "    progBar=widgets.IntProgress(\n",
    "        value=i,\n",
    "        min=0,\n",
    "        max=len(data),\n",
    "        step=1,\n",
    "        description='Progress:',\n",
    "        orientation='horizontal'\n",
    "    )\n",
    "    display(progBar)\n",
    "\n",
    "    for i,myCell in islice(data.iterrows(), i,None):\n",
    "\n",
    "        # create folder to store this percentile (inner and outer) data if it doesn't exist yet\n",
    "        newSegFolder = os.path.dirname(myCell.path).replace('data_tiff',f'segmentation_{het_percentile}_eu_erosion')\n",
    "\n",
    "        try:\n",
    "            os.mkdir(newSegFolder)\n",
    "        except:\n",
    "            pass\n",
    "\n",
    "        try:\n",
    "            os.mkdir(newResultsFolder)\n",
    "        except:\n",
    "            pass\n",
    "\n",
    "\n",
    "        # open tiff image of a cell\n",
    "        try:\n",
    "            myImage=imread(myCell.path)    \n",
    "        except:\n",
    "            myCell.path=myCell.path.replace('.tif','.tiff')\n",
    "            myImage=imread(myCell.path)    \n",
    "\n",
    "\n",
    "        myChannel = myImage[:, 1, :, :] #2nd channel is hetChrom (as stained by HP1B or H3K9Me3)\n",
    "\n",
    "        ## openning nucleus masks\n",
    "        nucleusMaskPath=myCell.path\n",
    "        nucleusMaskPath=nucleusMaskPath.replace('data_tiff','erosion_nuc_mask')\n",
    "        nucouterpath=nucleusMaskPath.replace('.tif','_eroded_9^5_outer_mask_20.tif')\n",
    "        nucinnerpath=nucleusMaskPath.replace('.tif','_eroded_9^5_inner_mask_20.tif')\n",
    "        outernuc=imread(nucouterpath)\n",
    "        outernuc=outernuc.astype(bool)\n",
    "        innernuc=imread(nucinnerpath)\n",
    "        innernuc=innernuc.astype(bool)\n",
    "\n",
    "        ## opening heterochromatin mask\n",
    "        euPath=myCell.path\n",
    "        euPath=euPath.replace('data_tiff',f'segmentation_{percentage}_eu')\n",
    "        euPath=euPath.replace('.tif','_euChrom.tif')\n",
    "        eu=imread(euPath)\n",
    "        eu=eu.astype(bool)\n",
    "\n",
    "        ## masking heterochromatin with inner nuc mask\n",
    "        eu_inner=eu.copy()\n",
    "        eu_inner=eu_inner.astype(bool)\n",
    "        eu_inner[~innernuc]=0\n",
    "\n",
    "        ## masking heterochromatin with outer nuc mask\n",
    "        eu_outer=eu.copy()\n",
    "        eu_outer=eu_outer.astype(bool)\n",
    "        eu_outer[~outernuc]=0\n",
    "\n",
    "        ## save segmentation mask\n",
    "        maskFile = os.path.basename(myCell.path).replace('.tif',f'_euChrom_inner.tif')\n",
    "        tifffile.imsave(os.path.join(newSegFolder,maskFile), eu_inner.astype('uint8'))\n",
    "        maskFile = os.path.basename(myCell.path).replace('.tif',f'_euChrom_outer.tif')\n",
    "        tifffile.imsave(os.path.join(newSegFolder,maskFile), eu_outer.astype('uint8'))\n",
    "\n",
    "\n",
    "        progBar.value=progBar.value+1\n",
    "\n",
    "    "
   ]
  },
  {
   "cell_type": "code",
   "execution_count": 16,
   "metadata": {},
   "outputs": [
    {
     "data": {
      "application/vnd.jupyter.widget-view+json": {
       "model_id": "fb00061dbba14788b569d2e284d04dc7",
       "version_major": 2,
       "version_minor": 0
      },
      "text/plain": [
       "IntProgress(value=0, description='Progress:', max=88)"
      ]
     },
     "metadata": {},
     "output_type": "display_data"
    }
   ],
   "source": [
    "create_eu_mask_erosion('h3k9me3',h3k9me3_2,10)"
   ]
  },
  {
   "cell_type": "code",
   "execution_count": 17,
   "metadata": {},
   "outputs": [
    {
     "data": {
      "application/vnd.jupyter.widget-view+json": {
       "model_id": "0cbd490de78e40d389885cc97cdd41c0",
       "version_major": 2,
       "version_minor": 0
      },
      "text/plain": [
       "IntProgress(value=0, description='Progress:', max=78)"
      ]
     },
     "metadata": {},
     "output_type": "display_data"
    }
   ],
   "source": [
    "create_eu_mask_erosion(\"h3k9me3\",h3k9me3,10)"
   ]
  },
  {
   "cell_type": "code",
   "execution_count": 18,
   "metadata": {},
   "outputs": [
    {
     "data": {
      "application/vnd.jupyter.widget-view+json": {
       "model_id": "daa9f68460e742f281cf1a417c89f3c8",
       "version_major": 2,
       "version_minor": 0
      },
      "text/plain": [
       "IntProgress(value=0, description='Progress:', max=88)"
      ]
     },
     "metadata": {},
     "output_type": "display_data"
    }
   ],
   "source": [
    "create_eu_mask_erosion('h3k9me3',h3k9me3_2,50)"
   ]
  },
  {
   "cell_type": "code",
   "execution_count": 19,
   "metadata": {},
   "outputs": [
    {
     "data": {
      "application/vnd.jupyter.widget-view+json": {
       "model_id": "1b3c8f2e195f48da9737328bb03f6c0c",
       "version_major": 2,
       "version_minor": 0
      },
      "text/plain": [
       "IntProgress(value=0, description='Progress:', max=78)"
      ]
     },
     "metadata": {},
     "output_type": "display_data"
    }
   ],
   "source": [
    "create_eu_mask_erosion(\"h3k9me3\",h3k9me3,50)"
   ]
  },
  {
   "cell_type": "code",
   "execution_count": null,
   "metadata": {},
   "outputs": [],
   "source": []
  }
 ],
 "metadata": {
  "kernelspec": {
   "display_name": "Python 3",
   "language": "python",
   "name": "python3"
  },
  "language_info": {
   "codemirror_mode": {
    "name": "ipython",
    "version": 3
   },
   "file_extension": ".py",
   "mimetype": "text/x-python",
   "name": "python",
   "nbconvert_exporter": "python",
   "pygments_lexer": "ipython3",
   "version": "3.7.0"
  }
 },
 "nbformat": 4,
 "nbformat_minor": 2
}
