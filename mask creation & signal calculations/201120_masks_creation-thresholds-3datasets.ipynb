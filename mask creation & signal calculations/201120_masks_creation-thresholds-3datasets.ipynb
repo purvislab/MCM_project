{
 "cells": [
  {
   "cell_type": "code",
   "execution_count": 1,
   "metadata": {},
   "outputs": [],
   "source": [
    "## import libraries\n",
    "import os\n",
    "from os import listdir\n",
    "from os.path import isfile, join\n",
    "\n",
    "import pandas as pd\n",
    "from itertools import islice\n",
    "import numpy as np\n",
    "\n",
    "from skimage.external import tifffile\n",
    "from skimage.external.tifffile import imread\n",
    "\n",
    "import matplotlib.pyplot as plt\n",
    "\n",
    "import ipywidgets as widgets\n",
    "\n",
    "import random\n",
    "\n",
    "\n",
    "from scipy.ndimage.morphology import binary_erosion as br\n",
    "from skimage import morphology as skmor\n",
    "\n",
    "from scipy import ndimage\n",
    "from PIL import Image, ImageDraw\n",
    "\n",
    "import numpy.ma as ma\n",
    "\n",
    "from skimage.measure import label, regionprops"
   ]
  },
  {
   "cell_type": "code",
   "execution_count": 2,
   "metadata": {},
   "outputs": [],
   "source": [
    "bigDir=r'Z:\\CookLab\\Liu\\20190816_organizedData_MCM_loading'"
   ]
  },
  {
   "cell_type": "code",
   "execution_count": 3,
   "metadata": {},
   "outputs": [],
   "source": [
    "# first (h3k9me3) dataset\n",
    "## channels: 1 = h3k9me3, 0 =MCM, 2= DAPI\n",
    "file=f'{bigDir}\\\\20191202_new dataset\\\\signals_new_v5.csv'\n",
    "data=pd.read_csv(file)"
   ]
  },
  {
   "cell_type": "code",
   "execution_count": null,
   "metadata": {},
   "outputs": [],
   "source": [
    "###### already changed\n",
    "'''\n",
    "for i in range(len(data)):\n",
    "    data.path[i]=data.path[i].replace(\"new dataset\", \"20191202_new dataset\")\n",
    "data.to_csv(file)\n",
    "'''"
   ]
  },
  {
   "cell_type": "code",
   "execution_count": 4,
   "metadata": {},
   "outputs": [
    {
     "data": {
      "text/plain": [
       "'Z:\\\\CookLab\\\\Liu\\\\20190816_organizedData_MCM_loading\\\\20191202_new dataset\\\\20191203_cell\\\\data_tiff\\\\20191203_cell-00.tif'"
      ]
     },
     "execution_count": 4,
     "metadata": {},
     "output_type": "execute_result"
    }
   ],
   "source": [
    "data.path[0]"
   ]
  },
  {
   "cell_type": "code",
   "execution_count": 5,
   "metadata": {},
   "outputs": [],
   "source": [
    "# second (h3k9me3) dataset\n",
    "## channels: 1 = h3k9me3, 0 =MCM, 2= DAPI\n",
    "file=f'{bigDir}\\\\20200207_new data\\\\cellinfo_200203_v10.csv'\n",
    "data1=pd.read_csv(file)"
   ]
  },
  {
   "cell_type": "code",
   "execution_count": 6,
   "metadata": {},
   "outputs": [],
   "source": [
    "# third (h3k9me3) dataset\n",
    "## channels: 1 = h3k9me3, 0 =MCM, 2= DAPI\n",
    "file=f'{bigDir}\\\\20200217_geminin\\\\200217_cellinfo_v8.csv'\n",
    "data2=pd.read_csv(file)"
   ]
  },
  {
   "cell_type": "code",
   "execution_count": 7,
   "metadata": {},
   "outputs": [],
   "source": [
    "data2=data2.loc[data2.group==\"CTL\",]"
   ]
  },
  {
   "cell_type": "markdown",
   "metadata": {},
   "source": [
    "# creating heterochromatin masks - 10% brightest pixel"
   ]
  },
  {
   "cell_type": "code",
   "execution_count": 22,
   "metadata": {},
   "outputs": [],
   "source": [
    "def create_het_mask(name,data,percentage):\n",
    "    ## based on the name give as a parameter, selecting the channel \n",
    "    ### hp1beta channel is 2 in new dataset and 1 in original dataset\n",
    "    if name==\"new\":\n",
    "        hp1=1\n",
    "    else:\n",
    "        hp1=0\n",
    "    \n",
    "    \n",
    "    \n",
    "    ## calculating 20% brightest pixles\n",
    "    het_percentile=percentage\n",
    "    \n",
    "    # Progress Bar\n",
    "    i=0\n",
    "    progBar=widgets.IntProgress(\n",
    "        value=i,\n",
    "        min=0,\n",
    "        max=len(data),\n",
    "        step=1,\n",
    "        description='Progress:',\n",
    "        orientation='horizontal'\n",
    "    )\n",
    "    display(progBar)\n",
    "\n",
    "    for i,myCell in islice(data.iterrows(), i,None):\n",
    "\n",
    "        ## create folder to store this percentile data if it doesn't exist yet\n",
    "        newSegFolder = os.path.dirname(myCell.path).replace('data_tiff',f'segmentation_{het_percentile}')\n",
    "        newResultsFolder = os.path.dirname(myCell.path).replace('data_tiff', 'results')\n",
    "\n",
    "        try:\n",
    "            os.mkdir(newSegFolder)\n",
    "        except:\n",
    "            pass\n",
    "\n",
    "        try:\n",
    "            os.mkdir(newResultsFolder)\n",
    "        except:\n",
    "            pass\n",
    "\n",
    "\n",
    "        ## open tiff image of a cell\n",
    "        try:\n",
    "            myImage=imread(myCell.path)    \n",
    "        except:\n",
    "            myCell.path=myCell.path.replace('.tif','.tiff')\n",
    "            myImage=imread(myCell.path)    \n",
    "\n",
    "        ## opening the channel according to the dataset\n",
    "        myChannel = myImage[:, hp1, :, :] \n",
    "\n",
    "        ## open nucleus mask\n",
    "        ### if the file is not found in the directory, trying to change the file extension \n",
    "        #### this is because there are some file files that are saved as tiff image \n",
    "        nucleusMaskPath=myCell.path\n",
    "        nucleusMaskPath=nucleusMaskPath.replace('data_tiff','segmentation_nucleus_Otsu')\n",
    "        nucleusMaskPath=nucleusMaskPath.replace('.tif','_nucleus.tif')\n",
    "        try:\n",
    "            nucleusMask=imread(nucleusMaskPath)\n",
    "        except:\n",
    "            nucleusMaskPath=nucleusMaskPath.replace('.tiff','.tif')\n",
    "            nucleusMask=imread(nucleusMaskPath)\n",
    "\n",
    "\n",
    "        ## make nucleus mask binary\n",
    "        nucleusMask = nucleusMask.astype(bool)\n",
    "\n",
    "        ## clean image\n",
    "        myNucleus = myChannel[nucleusMask]\n",
    "\n",
    "        ## find threshold\n",
    "        myPercentile = np.nanpercentile(myNucleus, (100-het_percentile)) \n",
    "\n",
    "        ## threshold\n",
    "        myHetMask=np.zeros(myChannel.shape).astype('bool')\n",
    "        myHetMask[myChannel >= myPercentile] = 1\n",
    "\n",
    "        ## clean from elements outside the nucleus\n",
    "        cleanNucleusMask=~nucleusMask\n",
    "        myHetMask[cleanNucleusMask]=0\n",
    "        cleanHetMask = ~myHetMask\n",
    "\n",
    "        ## save segmentation mask\n",
    "        maskFile = os.path.basename(myCell.path).replace('.tif',f'_hetChrom.tif')\n",
    "        tifffile.imsave(os.path.join(newSegFolder,maskFile), myHetMask.astype('uint8'))\n",
    "\n",
    "\n",
    "        progBar.value=progBar.value+1\n",
    "\n",
    "        "
   ]
  },
  {
   "cell_type": "code",
   "execution_count": 39,
   "metadata": {},
   "outputs": [
    {
     "data": {
      "application/vnd.jupyter.widget-view+json": {
       "model_id": "332ccd9f216f414bbbe8df2d645db807",
       "version_major": 2,
       "version_minor": 0
      },
      "text/plain": [
       "IntProgress(value=0, description='Progress:', max=276)"
      ]
     },
     "metadata": {},
     "output_type": "display_data"
    },
    {
     "data": {
      "application/vnd.jupyter.widget-view+json": {
       "model_id": "e7080a73934e4209ad61df6e6bc38516",
       "version_major": 2,
       "version_minor": 0
      },
      "text/plain": [
       "IntProgress(value=0, description='Progress:', max=146)"
      ]
     },
     "metadata": {},
     "output_type": "display_data"
    },
    {
     "data": {
      "application/vnd.jupyter.widget-view+json": {
       "model_id": "91b042c745474a39b3a15c91a01cc43e",
       "version_major": 2,
       "version_minor": 0
      },
      "text/plain": [
       "IntProgress(value=0, description='Progress:', max=69)"
      ]
     },
     "metadata": {},
     "output_type": "display_data"
    }
   ],
   "source": [
    "create_het_mask('new',data,10)\n",
    "create_het_mask('new',data1,10)\n",
    "create_het_mask('new',data2,10)"
   ]
  },
  {
   "cell_type": "code",
   "execution_count": 40,
   "metadata": {},
   "outputs": [
    {
     "data": {
      "application/vnd.jupyter.widget-view+json": {
       "model_id": "38d531dc18ab46d8b987a65ecfeef9fa",
       "version_major": 2,
       "version_minor": 0
      },
      "text/plain": [
       "IntProgress(value=0, description='Progress:', max=276)"
      ]
     },
     "metadata": {},
     "output_type": "display_data"
    },
    {
     "data": {
      "application/vnd.jupyter.widget-view+json": {
       "model_id": "92c8f09974de4ac7b5bd62e037d16688",
       "version_major": 2,
       "version_minor": 0
      },
      "text/plain": [
       "IntProgress(value=0, description='Progress:', max=146)"
      ]
     },
     "metadata": {},
     "output_type": "display_data"
    },
    {
     "data": {
      "application/vnd.jupyter.widget-view+json": {
       "model_id": "954d05fbcb224f7fa191b6d3c1a9c666",
       "version_major": 2,
       "version_minor": 0
      },
      "text/plain": [
       "IntProgress(value=0, description='Progress:', max=69)"
      ]
     },
     "metadata": {},
     "output_type": "display_data"
    }
   ],
   "source": [
    "create_het_mask('new',data,50)\n",
    "create_het_mask('new',data1,50)\n",
    "create_het_mask('new',data2,50)"
   ]
  },
  {
   "cell_type": "markdown",
   "metadata": {},
   "source": [
    "# masking heterochromatin with inner and outer masks"
   ]
  },
  {
   "cell_type": "code",
   "execution_count": 8,
   "metadata": {},
   "outputs": [],
   "source": [
    "def create_het_mask_erosion (name, data,percentage):\n",
    "    if name==\"new\":\n",
    "        hp1=1\n",
    "    else:\n",
    "        hp1=0\n",
    "\n",
    "    i=0\n",
    "    het_percentile=percentage\n",
    "    # Progress Bar\n",
    "    progBar=widgets.IntProgress(\n",
    "        value=i,\n",
    "        min=0,\n",
    "        max=len(data),\n",
    "        step=1,\n",
    "        description='Progress:',\n",
    "        orientation='horizontal'\n",
    "    )\n",
    "    display(progBar)\n",
    "\n",
    "    for i,myCell in islice(data.iterrows(), i,None):\n",
    "\n",
    "        # create folder to store this percentile (inner and outer) data if it doesn't exist yet\n",
    "        newSegFolder = os.path.dirname(myCell.path).replace('data_tiff',f'segmentation_{het_percentile}_erosion')\n",
    "\n",
    "        try:\n",
    "            os.mkdir(newSegFolder)\n",
    "        except:\n",
    "            pass\n",
    "\n",
    "        try:\n",
    "            os.mkdir(newResultsFolder)\n",
    "        except:\n",
    "            pass\n",
    "\n",
    "\n",
    "        # open tiff image of a cell\n",
    "        try:\n",
    "            myImage=imread(myCell.path)    \n",
    "        except:\n",
    "            myCell.path=myCell.path.replace('.tif','.tiff')\n",
    "            myImage=imread(myCell.path)    \n",
    "\n",
    "\n",
    "        myChannel = myImage[:, 1, :, :] #2nd channel is hetChrom (as stained by HP1B or H3K9Me3)\n",
    "\n",
    "        ## openning nucleus masks\n",
    "        nucleusMaskPath=myCell.path\n",
    "        nucleusMaskPath=nucleusMaskPath.replace('data_tiff','erosion_nuc_mask')\n",
    "        nucouterpath=nucleusMaskPath.replace('.tif','_eroded_9^5_outer_mask_20.tif')\n",
    "        nucinnerpath=nucleusMaskPath.replace('.tif','_eroded_9^5_inner_mask_20.tif')\n",
    "        outernuc=imread(nucouterpath)\n",
    "        outernuc=outernuc.astype(bool)\n",
    "        innernuc=imread(nucinnerpath)\n",
    "        innernuc=innernuc.astype(bool)\n",
    "\n",
    "        ## opening heterochromatin mask\n",
    "        hetPath=myCell.path\n",
    "        hetPath=hetPath.replace('data_tiff',f'segmentation_{percentage}')\n",
    "        hetPath=hetPath.replace('.tif','_hetChrom.tif')\n",
    "        het=imread(hetPath)\n",
    "        het=het.astype(bool)\n",
    "\n",
    "        ## masking heterochromatin with inner nuc mask\n",
    "        het_inner=het.copy()\n",
    "        het_inner=het_inner.astype(bool)\n",
    "        het_inner[~innernuc]=0\n",
    "\n",
    "        ## masking heterochromatin with outer nuc mask\n",
    "        het_outer=het.copy()\n",
    "        het_outer=het_outer.astype(bool)\n",
    "        het_outer[~outernuc]=0\n",
    "\n",
    "        ## save segmentation mask\n",
    "        maskFile = os.path.basename(myCell.path).replace('.tif',f'_hetChrom_inner.tif')\n",
    "        tifffile.imsave(os.path.join(newSegFolder,maskFile), het_inner.astype('uint8'))\n",
    "        maskFile = os.path.basename(myCell.path).replace('.tif',f'_hetChrom_outer.tif')\n",
    "        tifffile.imsave(os.path.join(newSegFolder,maskFile), het_outer.astype('uint8'))\n",
    "\n",
    "\n",
    "        progBar.value=progBar.value+1\n",
    "\n",
    "    "
   ]
  },
  {
   "cell_type": "code",
   "execution_count": 9,
   "metadata": {},
   "outputs": [
    {
     "data": {
      "application/vnd.jupyter.widget-view+json": {
       "model_id": "e4fcc943eeed40488905abf6faeaecec",
       "version_major": 2,
       "version_minor": 0
      },
      "text/plain": [
       "IntProgress(value=0, description='Progress:', max=276)"
      ]
     },
     "metadata": {},
     "output_type": "display_data"
    },
    {
     "data": {
      "application/vnd.jupyter.widget-view+json": {
       "model_id": "daf5220993154143be958726d15f6e87",
       "version_major": 2,
       "version_minor": 0
      },
      "text/plain": [
       "IntProgress(value=0, description='Progress:', max=146)"
      ]
     },
     "metadata": {},
     "output_type": "display_data"
    },
    {
     "data": {
      "application/vnd.jupyter.widget-view+json": {
       "model_id": "c897666dff9c44ce8d0eca56979075b9",
       "version_major": 2,
       "version_minor": 0
      },
      "text/plain": [
       "IntProgress(value=0, description='Progress:', max=69)"
      ]
     },
     "metadata": {},
     "output_type": "display_data"
    },
    {
     "data": {
      "application/vnd.jupyter.widget-view+json": {
       "model_id": "d6848e5a76c14f72b9b8f1ef20a9da14",
       "version_major": 2,
       "version_minor": 0
      },
      "text/plain": [
       "IntProgress(value=0, description='Progress:', max=276)"
      ]
     },
     "metadata": {},
     "output_type": "display_data"
    },
    {
     "data": {
      "application/vnd.jupyter.widget-view+json": {
       "model_id": "f1f58acc2cf84cb2be82082f7e208009",
       "version_major": 2,
       "version_minor": 0
      },
      "text/plain": [
       "IntProgress(value=0, description='Progress:', max=146)"
      ]
     },
     "metadata": {},
     "output_type": "display_data"
    },
    {
     "data": {
      "application/vnd.jupyter.widget-view+json": {
       "model_id": "8fbddce302f54d7e82a24d5081870768",
       "version_major": 2,
       "version_minor": 0
      },
      "text/plain": [
       "IntProgress(value=0, description='Progress:', max=69)"
      ]
     },
     "metadata": {},
     "output_type": "display_data"
    }
   ],
   "source": [
    "create_het_mask_erosion('new',data,10)\n",
    "create_het_mask_erosion('new',data1,10)\n",
    "create_het_mask_erosion('new',data2,10)\n",
    "\n",
    "create_het_mask_erosion('new',data,50)\n",
    "create_het_mask_erosion('new',data1,50)\n",
    "create_het_mask_erosion('new',data2,50)\n"
   ]
  },
  {
   "cell_type": "markdown",
   "metadata": {},
   "source": [
    "# 200402 - recreating euchromatin mask"
   ]
  },
  {
   "cell_type": "code",
   "execution_count": 11,
   "metadata": {},
   "outputs": [],
   "source": [
    "def create_eu_mask(name,data,percentage):\n",
    "    ## based on the name give as a parameter, selecting the channel \n",
    "    ### hp1beta channel is 2 in new dataset and 1 in original dataset\n",
    "\n",
    "    if name==\"new\":\n",
    "        hp1=1\n",
    "    else:\n",
    "        hp1=0\n",
    "\n",
    "    het_percentile=percentage\n",
    "    # Progress Bar\n",
    "    i=0\n",
    "    progBar=widgets.IntProgress(\n",
    "        value=i,\n",
    "        min=0,\n",
    "        max=len(data),\n",
    "        step=1,\n",
    "        description='Progress:',\n",
    "        orientation='horizontal'\n",
    "    )\n",
    "    display(progBar)\n",
    "\n",
    "    for i,myCell in islice(data.iterrows(), i,None):\n",
    "\n",
    "        ## create folder to store this percentile data if it doesn't exist yet\n",
    "        newSegFolder = os.path.dirname(myCell.path).replace('data_tiff',f'segmentation_{het_percentile}_eu')\n",
    "\n",
    "        try:\n",
    "            os.mkdir(newSegFolder)\n",
    "        except:\n",
    "            pass\n",
    "\n",
    "        ## open tiff image of a cell\n",
    "        try:\n",
    "            myImage=imread(myCell.path)    \n",
    "        except:\n",
    "            myCell.path=myCell.path.replace('.tif','.tiff')\n",
    "            myImage=imread(myCell.path)    \n",
    "\n",
    "        ## opening the channel according to the dataset\n",
    "        myChannel = myImage[:, hp1, :, :] \n",
    "\n",
    "        ## open nucleus mask\n",
    "        ### if the file is not found in the directory, trying to change the file extension \n",
    "        #### this is because there are some file files that are saved as tiff image \n",
    "        nucleusMaskPath=myCell.path\n",
    "        nucleusMaskPath=nucleusMaskPath.replace('data_tiff','segmentation_nucleus_Otsu')\n",
    "        nucleusMaskPath=nucleusMaskPath.replace('.tif','_nucleus.tif')\n",
    "        try:\n",
    "            nucleusMask=imread(nucleusMaskPath)\n",
    "        except:\n",
    "            nucleusMaskPath=nucleusMaskPath.replace('.tiff','.tif')\n",
    "            nucleusMask=imread(nucleusMaskPath)\n",
    "\n",
    "        hetPath=myCell.path\n",
    "        hetPath=hetPath.replace('data_tiff',f'segmentation_{percentage}')\n",
    "        hetPath=hetPath.replace('.tif','_hetChrom.tif')\n",
    "        het=imread(hetPath)\n",
    "        het=het.astype(bool)\n",
    "\n",
    "        ## make nucleus mask binary\n",
    "        nucleusMask = nucleusMask.astype(bool)\n",
    "\n",
    "        ## clean image\n",
    "        myNucleus = myChannel[nucleusMask]\n",
    "\n",
    "        ## masking heterochromatin pixels out of nucleus - so total nucleus - heterochromatin = euchromatin\n",
    "        myEuMask=np.zeros(myChannel.shape).astype('bool')\n",
    "        myEuMask[nucleusMask]=1\n",
    "        myEuMask[het]=0\n",
    "        \n",
    "        ## save segmentation mask\n",
    "        maskFile = os.path.basename(myCell.path).replace('.tif',f'_euChrom.tif')\n",
    "        tifffile.imsave(os.path.join(newSegFolder,maskFile), myEuMask.astype('uint8'))\n",
    "        \n",
    "\n",
    "        progBar.value=progBar.value+1\n",
    "        "
   ]
  },
  {
   "cell_type": "code",
   "execution_count": 12,
   "metadata": {},
   "outputs": [
    {
     "data": {
      "application/vnd.jupyter.widget-view+json": {
       "model_id": "05a73cf931aa48509f0348801e1e08d4",
       "version_major": 2,
       "version_minor": 0
      },
      "text/plain": [
       "IntProgress(value=0, description='Progress:', max=276)"
      ]
     },
     "metadata": {},
     "output_type": "display_data"
    },
    {
     "data": {
      "application/vnd.jupyter.widget-view+json": {
       "model_id": "097fe557a6de469ab7b58b91d6708869",
       "version_major": 2,
       "version_minor": 0
      },
      "text/plain": [
       "IntProgress(value=0, description='Progress:', max=146)"
      ]
     },
     "metadata": {},
     "output_type": "display_data"
    },
    {
     "data": {
      "application/vnd.jupyter.widget-view+json": {
       "model_id": "16447df826454e04a61a75413f2c5ad5",
       "version_major": 2,
       "version_minor": 0
      },
      "text/plain": [
       "IntProgress(value=0, description='Progress:', max=69)"
      ]
     },
     "metadata": {},
     "output_type": "display_data"
    },
    {
     "data": {
      "application/vnd.jupyter.widget-view+json": {
       "model_id": "a85bae4321f94d63bb42a64b3eab0bc1",
       "version_major": 2,
       "version_minor": 0
      },
      "text/plain": [
       "IntProgress(value=0, description='Progress:', max=276)"
      ]
     },
     "metadata": {},
     "output_type": "display_data"
    },
    {
     "data": {
      "application/vnd.jupyter.widget-view+json": {
       "model_id": "6de98c8f89e34714a8df96a29de3a2f5",
       "version_major": 2,
       "version_minor": 0
      },
      "text/plain": [
       "IntProgress(value=0, description='Progress:', max=146)"
      ]
     },
     "metadata": {},
     "output_type": "display_data"
    },
    {
     "data": {
      "application/vnd.jupyter.widget-view+json": {
       "model_id": "14d94dea76884c28b540df9dc7717396",
       "version_major": 2,
       "version_minor": 0
      },
      "text/plain": [
       "IntProgress(value=0, description='Progress:', max=69)"
      ]
     },
     "metadata": {},
     "output_type": "display_data"
    }
   ],
   "source": [
    "create_eu_mask('new',data,10)\n",
    "create_eu_mask('new',data1,10)\n",
    "create_eu_mask('new',data2,10)\n",
    "\n",
    "create_eu_mask('new',data,50)\n",
    "create_eu_mask('new',data1,50)\n",
    "create_eu_mask('new',data2,50)\n"
   ]
  },
  {
   "cell_type": "markdown",
   "metadata": {},
   "source": [
    "# creating euchromatin inner and outer mask "
   ]
  },
  {
   "cell_type": "code",
   "execution_count": 14,
   "metadata": {},
   "outputs": [],
   "source": [
    "def create_eu_mask_erosion (name, data,percentage):\n",
    "    if name==\"new\":\n",
    "        hp1=1\n",
    "    else:\n",
    "        hp1=0\n",
    "\n",
    "    i=0\n",
    "    \n",
    "    het_percentile=percentage\n",
    "    eu_percentile=100-percentage\n",
    "    \n",
    "    # Progress Bar\n",
    "    progBar=widgets.IntProgress(\n",
    "        value=i,\n",
    "        min=0,\n",
    "        max=len(data),\n",
    "        step=1,\n",
    "        description='Progress:',\n",
    "        orientation='horizontal'\n",
    "    )\n",
    "    display(progBar)\n",
    "\n",
    "    for i,myCell in islice(data.iterrows(), i,None):\n",
    "\n",
    "        # create folder to store this percentile (inner and outer) data if it doesn't exist yet\n",
    "        newSegFolder = os.path.dirname(myCell.path).replace('data_tiff',f'segmentation_{het_percentile}_eu_erosion')\n",
    "\n",
    "        try:\n",
    "            os.mkdir(newSegFolder)\n",
    "        except:\n",
    "            pass\n",
    "\n",
    "        try:\n",
    "            os.mkdir(newResultsFolder)\n",
    "        except:\n",
    "            pass\n",
    "\n",
    "\n",
    "        # open tiff image of a cell\n",
    "        try:\n",
    "            myImage=imread(myCell.path)    \n",
    "        except:\n",
    "            myCell.path=myCell.path.replace('.tif','.tiff')\n",
    "            myImage=imread(myCell.path)    \n",
    "\n",
    "\n",
    "        myChannel = myImage[:, 1, :, :] #2nd channel is hetChrom (as stained by HP1B or H3K9Me3)\n",
    "\n",
    "        ## openning nucleus masks\n",
    "        nucleusMaskPath=myCell.path\n",
    "        nucleusMaskPath=nucleusMaskPath.replace('data_tiff','erosion_nuc_mask')\n",
    "        nucouterpath=nucleusMaskPath.replace('.tif','_eroded_9^5_outer_mask_20.tif')\n",
    "        nucinnerpath=nucleusMaskPath.replace('.tif','_eroded_9^5_inner_mask_20.tif')\n",
    "        outernuc=imread(nucouterpath)\n",
    "        outernuc=outernuc.astype(bool)\n",
    "        innernuc=imread(nucinnerpath)\n",
    "        innernuc=innernuc.astype(bool)\n",
    "\n",
    "        ## opening heterochromatin mask\n",
    "        euPath=myCell.path\n",
    "        euPath=euPath.replace('data_tiff',f'segmentation_{percentage}_eu')\n",
    "        euPath=euPath.replace('.tif','_euChrom.tif')\n",
    "        eu=imread(euPath)\n",
    "        eu=eu.astype(bool)\n",
    "\n",
    "        ## masking heterochromatin with inner nuc mask\n",
    "        eu_inner=eu.copy()\n",
    "        eu_inner=eu_inner.astype(bool)\n",
    "        eu_inner[~innernuc]=0\n",
    "\n",
    "        ## masking heterochromatin with outer nuc mask\n",
    "        eu_outer=eu.copy()\n",
    "        eu_outer=eu_outer.astype(bool)\n",
    "        eu_outer[~outernuc]=0\n",
    "\n",
    "        ## save segmentation mask\n",
    "        maskFile = os.path.basename(myCell.path).replace('.tif',f'_euChrom_inner.tif')\n",
    "        tifffile.imsave(os.path.join(newSegFolder,maskFile), eu_inner.astype('uint8'))\n",
    "        maskFile = os.path.basename(myCell.path).replace('.tif',f'_euChrom_outer.tif')\n",
    "        tifffile.imsave(os.path.join(newSegFolder,maskFile), eu_outer.astype('uint8'))\n",
    "\n",
    "\n",
    "        progBar.value=progBar.value+1\n",
    "\n",
    "    "
   ]
  },
  {
   "cell_type": "code",
   "execution_count": 15,
   "metadata": {},
   "outputs": [
    {
     "data": {
      "application/vnd.jupyter.widget-view+json": {
       "model_id": "5eb46785be2245258cc0599be60c5190",
       "version_major": 2,
       "version_minor": 0
      },
      "text/plain": [
       "IntProgress(value=0, description='Progress:', max=276)"
      ]
     },
     "metadata": {},
     "output_type": "display_data"
    },
    {
     "data": {
      "application/vnd.jupyter.widget-view+json": {
       "model_id": "f9ab97381a7649a29daaf708d6b82a0d",
       "version_major": 2,
       "version_minor": 0
      },
      "text/plain": [
       "IntProgress(value=0, description='Progress:', max=146)"
      ]
     },
     "metadata": {},
     "output_type": "display_data"
    },
    {
     "data": {
      "application/vnd.jupyter.widget-view+json": {
       "model_id": "f65f08820be7450191cf754cd30134f5",
       "version_major": 2,
       "version_minor": 0
      },
      "text/plain": [
       "IntProgress(value=0, description='Progress:', max=69)"
      ]
     },
     "metadata": {},
     "output_type": "display_data"
    },
    {
     "data": {
      "application/vnd.jupyter.widget-view+json": {
       "model_id": "1ec49bd54fa2419e81fc60ffc77d2741",
       "version_major": 2,
       "version_minor": 0
      },
      "text/plain": [
       "IntProgress(value=0, description='Progress:', max=276)"
      ]
     },
     "metadata": {},
     "output_type": "display_data"
    },
    {
     "data": {
      "application/vnd.jupyter.widget-view+json": {
       "model_id": "19a3812075be4aa8ab83469e3d788ff4",
       "version_major": 2,
       "version_minor": 0
      },
      "text/plain": [
       "IntProgress(value=0, description='Progress:', max=146)"
      ]
     },
     "metadata": {},
     "output_type": "display_data"
    },
    {
     "data": {
      "application/vnd.jupyter.widget-view+json": {
       "model_id": "dcb53211c8e34a24be2ed2c91c667e89",
       "version_major": 2,
       "version_minor": 0
      },
      "text/plain": [
       "IntProgress(value=0, description='Progress:', max=69)"
      ]
     },
     "metadata": {},
     "output_type": "display_data"
    }
   ],
   "source": [
    "create_eu_mask_erosion('new',data,10)\n",
    "create_eu_mask_erosion('new',data1,10)\n",
    "create_eu_mask_erosion('new',data2,10)\n",
    "\n",
    "create_eu_mask_erosion('new',data,50)\n",
    "create_eu_mask_erosion('new',data1,50)\n",
    "create_eu_mask_erosion('new',data2,50)"
   ]
  },
  {
   "cell_type": "code",
   "execution_count": null,
   "metadata": {},
   "outputs": [],
   "source": []
  }
 ],
 "metadata": {
  "kernelspec": {
   "display_name": "Python 3",
   "language": "python",
   "name": "python3"
  },
  "language_info": {
   "codemirror_mode": {
    "name": "ipython",
    "version": 3
   },
   "file_extension": ".py",
   "mimetype": "text/x-python",
   "name": "python",
   "nbconvert_exporter": "python",
   "pygments_lexer": "ipython3",
   "version": "3.7.3"
  }
 },
 "nbformat": 4,
 "nbformat_minor": 2
}
