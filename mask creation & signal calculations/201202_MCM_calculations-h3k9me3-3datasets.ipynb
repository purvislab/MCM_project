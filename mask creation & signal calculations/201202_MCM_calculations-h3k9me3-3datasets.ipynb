{
 "cells": [
  {
   "cell_type": "code",
   "execution_count": 1,
   "metadata": {},
   "outputs": [],
   "source": [
    "import os\n",
    "from os import listdir\n",
    "from os.path import isfile, join\n",
    "\n",
    "import pandas as pd\n",
    "from itertools import islice\n",
    "import numpy as np\n",
    "\n",
    "from skimage.external import tifffile\n",
    "from skimage.external.tifffile import imread\n",
    "\n",
    "import matplotlib.pyplot as plt\n",
    "\n",
    "import ipywidgets as widgets\n",
    "\n",
    "import random\n",
    "\n",
    "from scipy.ndimage.morphology import binary_erosion as br\n",
    "from skimage import morphology as skmor\n",
    "\n",
    "from scipy import ndimage\n",
    "from PIL import Image, ImageDraw\n",
    "\n",
    "import numpy.ma as ma\n",
    "\n",
    "from skimage.measure import label, regionprops"
   ]
  },
  {
   "cell_type": "markdown",
   "metadata": {},
   "source": [
    "## to calculate\n",
    "1.\tnucleus_MCM_total\n",
    "2.\touter_MCM_total\n",
    "3.\tinner_MCM_total\n",
    "4.\tnucleus_MCM_hetChrom\n",
    "5.\touter_MCM_hetChrom\n",
    "6.\tinner_MCM_hetChrom\n",
    "7.\tnucleus_MCM_euChrom\n",
    "8.\touter_MCM_euChrom\n",
    "9.\tinner_MCM_euChrom\n"
   ]
  },
  {
   "cell_type": "markdown",
   "metadata": {},
   "source": [
    "# 20191202 dataset"
   ]
  },
  {
   "cell_type": "code",
   "execution_count": 2,
   "metadata": {},
   "outputs": [],
   "source": [
    "bigDir=r'Z:\\CookLab\\Liu\\20190816_organizedData_MCM_loading\\20191202_new dataset'"
   ]
  },
  {
   "cell_type": "code",
   "execution_count": 3,
   "metadata": {},
   "outputs": [],
   "source": [
    "file=f'{bigDir}\\\\signals_new_v5.csv'\n",
    "data=pd.read_csv(file)"
   ]
  },
  {
   "cell_type": "markdown",
   "metadata": {},
   "source": [
    "# 20200217 geminin dataset"
   ]
  },
  {
   "cell_type": "code",
   "execution_count": 4,
   "metadata": {},
   "outputs": [],
   "source": [
    "bigDir=r'Z:\\CookLab\\Liu\\20190816_organizedData_MCM_loading\\20200217_geminin'"
   ]
  },
  {
   "cell_type": "code",
   "execution_count": 5,
   "metadata": {},
   "outputs": [],
   "source": [
    "file2=f'{bigDir}\\\\200217_cellinfo_v8.csv'\n",
    "data2=pd.read_csv(file2)"
   ]
  },
  {
   "cell_type": "markdown",
   "metadata": {},
   "source": [
    "# 20200207 new dataset"
   ]
  },
  {
   "cell_type": "code",
   "execution_count": 2,
   "metadata": {},
   "outputs": [],
   "source": [
    "bigDir=r'Z:\\CookLab\\Liu\\20190816_organizedData_MCM_loading\\20200207_new data'\n",
    "\n",
    "file3=f'{bigDir}\\\\cellinfo_200203_v10.csv'\n",
    "data3=pd.read_csv(file3)"
   ]
  },
  {
   "cell_type": "markdown",
   "metadata": {},
   "source": [
    "# mcm calculations"
   ]
  },
  {
   "cell_type": "code",
   "execution_count": 3,
   "metadata": {},
   "outputs": [],
   "source": [
    "def calculate_mcm_signals (name, data,percentage):\n",
    "    ## if the given dataset is new, the mcm channel is 0\n",
    "    ## else, mcm channel is 1 (for original dataset)\n",
    "    if name==\"new\":\n",
    "        mcm=0\n",
    "    else:\n",
    "        mcm=1\n",
    "    i=0\n",
    "    perOrg=percentage\n",
    "    progBar=widgets.IntProgress(\n",
    "        value=i,\n",
    "        min=0,\n",
    "        max=len(data),\n",
    "        step=1,\n",
    "        description='Progress:',\n",
    "        orientation='horizontal'\n",
    "    )\n",
    "    display(progBar)\n",
    "    for i,myCell in islice(data.iterrows(), i,None):\n",
    "        #only for 20200217_geminin dataset\n",
    "        # control group's percentage will be 20%\n",
    "        '''\n",
    "        if myCell.group == \"CTL\":\n",
    "            percentage = perOrg\n",
    "        else:\n",
    "            percentage=20\n",
    "        '''\n",
    "        # i = index of the row\n",
    "        # myCell the entire row of the that index i = data.iloc[i]\n",
    "        \n",
    "        ## opening cell image\n",
    "        try:\n",
    "            myImage=imread(myCell.path) \n",
    "        except:\n",
    "            myCell.path=myCell.path.replace('.tif','.tiff')\n",
    "            myImage=imread(myCell.path)\n",
    "        \n",
    "        ## setting arrays with names \n",
    "        \n",
    "        ### for the column names\n",
    "        pixels=['total','het','eu']\n",
    "        components=['nuc','inner','outer']\n",
    "        \n",
    "        ### for image names\n",
    "        dirs=['segmentation_nucleus_Otsu','erosion_nuc_mask','erosion_nuc_mask',\n",
    "              f'segmentation_{percentage}',f'segmentation_{percentage}_erosion',f'segmentation_{percentage}_erosion',\n",
    "             f'segmentation_{percentage}_eu',f'segmentation_{percentage}_eu_erosion',f'segmentation_{percentage}_eu_erosion']\n",
    "        \n",
    "        files=['_nucleus.tif',f'_eroded_9^5_inner_mask_20.tif',f'_eroded_9^5_outer_mask_20.tif',\n",
    "                   '_hetChrom.tif', '_hetChrom_inner.tif', '_hetChrom_outer.tif',\n",
    "                   '_euChrom.tif', '_euChrom_inner.tif','_euChrom_outer.tif']\n",
    "\n",
    "        ## making a dummy dataframe to store the signal calculations\n",
    "        df=pd.DataFrame(columns=['nuc_vol_total','inner_vol_total','outer_vol_total',\n",
    "                                 'nuc_mcm_total','inner_mcm_total','outer_mcm_total',\n",
    "                                'nuc_vol_het','inner_vol_het','outer_vol_het',\n",
    "                                 'nuc_mcm_het','inner_mcm_het','outer_mcm_het',\n",
    "                                 'nuc_vol_eu','inner_vol_eu','outer_vol_eu',\n",
    "                                'nuc_mcm_eu','inner_mcm_eu', 'outer_mcm_eu'])\n",
    "\n",
    "        ## signals calculated\n",
    "        for k in range(len(pixels)): # 0 to 2 - 3 values for total, het, eu\n",
    "            for j in range(len(components)): \n",
    "                # 0 to 2 \n",
    "                           \n",
    "                # 1 loop\n",
    "                # total (k=0) , nuc  (j=0)\n",
    "                # total (k=0), inner (j=1)\n",
    "                # total (k=0), outer (j=2)\n",
    "                           \n",
    "                ## copying image every time new signal is calculated\n",
    "                myIm=myImage.copy()\n",
    "                myChannel=myIm[:,mcm,:,:] \n",
    "                \n",
    "                ## column name set up based on the component and the pixels\n",
    "                currColName=f'{components[j]}_mcm_{pixels[k]}' # nuc_mcm_total\n",
    "                \n",
    "                ## opening mask images\n",
    "                ### the indexing is in such way so that the image opened matches up with the name being used for calculation\n",
    "                direc=myCell.path.replace('data_tiff',dirs[(j)+(k*3)]) \n",
    "                    # dir[0+0] = dir[0]= segmentation_nuclues_otsu\n",
    "                    # dirs[1+0] = dir[1] = erosion_nuc_mask\n",
    "                    # dir[2+0] = dir[2] = erosion_nuc_mask\n",
    "                \n",
    "                           \n",
    "                try:\n",
    "                    direc=direc.replace('.tif',files[(k*3)+(j)])\n",
    "                    mask=imread(direc)  \n",
    "                except:\n",
    "                    direc=direc.replace('_nucleus.tiff',files[(k*3)+(j)])\n",
    "                    mask=imread(direc)\n",
    "\n",
    "                ## changing mask type to binary\n",
    "                mask=mask.astype(bool)\n",
    "                \n",
    "                ## masking the image\n",
    "                myChannel[~mask]=0\n",
    "                \n",
    "                ## calculating the signal\n",
    "                df[f'{currColName}']=myChannel.sum(-1).sum(-1)\n",
    "                           \n",
    "                ## calculating the volume of the pixels\n",
    "                currColName=f'{components[j]}_vol_{pixels[k]}'\n",
    "                df.loc[0,f'{currColName}']=np.sum(mask)\n",
    "        \n",
    "        ## saving the calculated signals to original/big dataframe\n",
    "        for myMeasurement in df.columns:\n",
    "            myString=f\"data.loc[i,'{myMeasurement}']=np.sum(df.{myMeasurement})\"\n",
    "            exec(myString)\n",
    "        \n",
    "        \n",
    "        progBar.value=progBar.value+1\n",
    "        percentage=perOrg\n",
    "    \n",
    "    \n",
    "        "
   ]
  },
  {
   "cell_type": "code",
   "execution_count": 10,
   "metadata": {},
   "outputs": [
    {
     "data": {
      "application/vnd.jupyter.widget-view+json": {
       "model_id": "5e30f900ba1948fab7b315e87f55b135",
       "version_major": 2,
       "version_minor": 0
      },
      "text/plain": [
       "IntProgress(value=0, description='Progress:', max=276)"
      ]
     },
     "metadata": {},
     "output_type": "display_data"
    }
   ],
   "source": [
    "calculate_mcm_signals(\"new\", data, 10)"
   ]
  },
  {
   "cell_type": "code",
   "execution_count": 11,
   "metadata": {},
   "outputs": [
    {
     "data": {
      "text/plain": [
       "0.10002302696374224"
      ]
     },
     "execution_count": 11,
     "metadata": {},
     "output_type": "execute_result"
    }
   ],
   "source": [
    "(data.nuc_vol_het/data.nuc_vol_total)[69]"
   ]
  },
  {
   "cell_type": "code",
   "execution_count": 12,
   "metadata": {},
   "outputs": [],
   "source": [
    "data.to_csv(file.replace(\"v5\",\"v6\"))"
   ]
  },
  {
   "cell_type": "code",
   "execution_count": 13,
   "metadata": {},
   "outputs": [
    {
     "name": "stdout",
     "output_type": "stream",
     "text": [
      "1.0000000019431863 0.9999999990927403 1.0000000058301468\n"
     ]
    }
   ],
   "source": [
    "## testing to see if the calculated signals have results as expected\n",
    "print(\n",
    "(np.sum(data['nuc_mcm_het']+data['nuc_mcm_eu']))/np.sum(data['nuc_mcm_total']),\n",
    "(np.mean(data['inner_mcm_het'])+np.mean(data['inner_mcm_eu']))/np.mean(data['inner_mcm_total']),\n",
    "(np.sum(data['outer_mcm_het']+data['outer_mcm_eu']))/np.sum(data['outer_mcm_total']))"
   ]
  },
  {
   "cell_type": "code",
   "execution_count": 14,
   "metadata": {},
   "outputs": [
    {
     "name": "stdout",
     "output_type": "stream",
     "text": [
      "1.0000000024849314 0.9999999998523657 1.0000000019431863 0.9999999976557731\n"
     ]
    }
   ],
   "source": [
    "print(\n",
    "(np.sum(data['inner_mcm_het']+data['outer_mcm_het']))/np.sum(data['nuc_mcm_het']),\n",
    "(np.mean(data['outer_mcm_eu'])+np.mean(data['inner_mcm_eu']))/np.mean(data['nuc_mcm_eu']),\n",
    "(np.sum(data['nuc_mcm_het'])+np.sum(data['nuc_mcm_eu']))/np.sum(data['nuc_mcm_total']),\n",
    "(np.sum(data['inner_mcm_total']+data['outer_mcm_total'])/np.sum(data['nuc_mcm_total'])))"
   ]
  },
  {
   "cell_type": "code",
   "execution_count": 15,
   "metadata": {},
   "outputs": [
    {
     "data": {
      "application/vnd.jupyter.widget-view+json": {
       "model_id": "6c37bf90ab0c45eabe18e65f6a2bae01",
       "version_major": 2,
       "version_minor": 0
      },
      "text/plain": [
       "IntProgress(value=0, description='Progress:', max=276)"
      ]
     },
     "metadata": {},
     "output_type": "display_data"
    }
   ],
   "source": [
    "calculate_mcm_signals(\"new\",data,50)"
   ]
  },
  {
   "cell_type": "code",
   "execution_count": 16,
   "metadata": {},
   "outputs": [
    {
     "data": {
      "text/plain": [
       "0.500173395811312"
      ]
     },
     "execution_count": 16,
     "metadata": {},
     "output_type": "execute_result"
    }
   ],
   "source": [
    "(data.nuc_vol_het/data.nuc_vol_total)[69]"
   ]
  },
  {
   "cell_type": "code",
   "execution_count": 17,
   "metadata": {},
   "outputs": [],
   "source": [
    "data.to_csv(file.replace(\"v5\",\"v6_50\"))"
   ]
  },
  {
   "cell_type": "code",
   "execution_count": 18,
   "metadata": {},
   "outputs": [
    {
     "name": "stdout",
     "output_type": "stream",
     "text": [
      "1.0000000032414003 0.999999999346692 1.0000000047508724\n"
     ]
    }
   ],
   "source": [
    "## testing to see if the calculated signals have results as expected\n",
    "print(\n",
    "(np.sum(data['nuc_mcm_het']+data['nuc_mcm_eu']))/np.sum(data['nuc_mcm_total']),\n",
    "(np.mean(data['inner_mcm_het'])+np.mean(data['inner_mcm_eu']))/np.mean(data['inner_mcm_total']),\n",
    "(np.sum(data['outer_mcm_het']+data['outer_mcm_eu']))/np.sum(data['outer_mcm_total']))"
   ]
  },
  {
   "cell_type": "code",
   "execution_count": 19,
   "metadata": {},
   "outputs": [
    {
     "name": "stdout",
     "output_type": "stream",
     "text": [
      "0.9999999959318131 1.0000000013997972 1.0000000032414003 0.9999999976557731\n"
     ]
    }
   ],
   "source": [
    "print(\n",
    "(np.sum(data['inner_mcm_het']+data['outer_mcm_het']))/np.sum(data['nuc_mcm_het']),\n",
    "(np.mean(data['outer_mcm_eu'])+np.mean(data['inner_mcm_eu']))/np.mean(data['nuc_mcm_eu']),\n",
    "(np.sum(data['nuc_mcm_het'])+np.sum(data['nuc_mcm_eu']))/np.sum(data['nuc_mcm_total']),\n",
    "(np.sum(data['inner_mcm_total']+data['outer_mcm_total'])/np.sum(data['nuc_mcm_total'])))"
   ]
  },
  {
   "cell_type": "code",
   "execution_count": 22,
   "metadata": {},
   "outputs": [
    {
     "data": {
      "application/vnd.jupyter.widget-view+json": {
       "model_id": "885961d698fa41e696abdab3ba32f3d4",
       "version_major": 2,
       "version_minor": 0
      },
      "text/plain": [
       "IntProgress(value=0, description='Progress:', max=145)"
      ]
     },
     "metadata": {},
     "output_type": "display_data"
    }
   ],
   "source": [
    "calculate_mcm_signals(\"new\",data2,10)"
   ]
  },
  {
   "cell_type": "code",
   "execution_count": 24,
   "metadata": {},
   "outputs": [
    {
     "data": {
      "text/plain": [
       "0.10000872577175657"
      ]
     },
     "execution_count": 24,
     "metadata": {},
     "output_type": "execute_result"
    }
   ],
   "source": [
    "(data2.nuc_vol_het/data2.nuc_vol_total)[69]"
   ]
  },
  {
   "cell_type": "code",
   "execution_count": 25,
   "metadata": {},
   "outputs": [],
   "source": [
    "data2.to_csv(file2.replace(\"v8\",\"v9_10\"))"
   ]
  },
  {
   "cell_type": "code",
   "execution_count": 26,
   "metadata": {},
   "outputs": [
    {
     "name": "stdout",
     "output_type": "stream",
     "text": [
      "1.0 1.0 1.0\n"
     ]
    }
   ],
   "source": [
    "## testing to see if the calculated signals have results as expected\n",
    "print(\n",
    "(np.sum(data2['nuc_mcm_het']+data2['nuc_mcm_eu']))/np.sum(data2['nuc_mcm_total']),\n",
    "(np.mean(data2['inner_mcm_het'])+np.mean(data2['inner_mcm_eu']))/np.mean(data2['inner_mcm_total']),\n",
    "(np.sum(data2['outer_mcm_het']+data2['outer_mcm_eu']))/np.sum(data2['outer_mcm_total']))"
   ]
  },
  {
   "cell_type": "code",
   "execution_count": 27,
   "metadata": {},
   "outputs": [
    {
     "name": "stdout",
     "output_type": "stream",
     "text": [
      "1.0 1.0000000000000002 1.0 1.0\n"
     ]
    }
   ],
   "source": [
    "print(\n",
    "(np.sum(data2['inner_mcm_het']+data2['outer_mcm_het']))/np.sum(data2['nuc_mcm_het']),\n",
    "(np.mean(data2['outer_mcm_eu'])+np.mean(data2['inner_mcm_eu']))/np.mean(data2['nuc_mcm_eu']),\n",
    "(np.sum(data2['nuc_mcm_het'])+np.sum(data2['nuc_mcm_eu']))/np.sum(data2['nuc_mcm_total']),\n",
    "(np.sum(data2['inner_mcm_total']+data2['outer_mcm_total'])/np.sum(data2['nuc_mcm_total'])))"
   ]
  },
  {
   "cell_type": "code",
   "execution_count": 28,
   "metadata": {},
   "outputs": [
    {
     "data": {
      "application/vnd.jupyter.widget-view+json": {
       "model_id": "237cc05238e64cc1ad2515af44d99887",
       "version_major": 2,
       "version_minor": 0
      },
      "text/plain": [
       "IntProgress(value=0, description='Progress:', max=145)"
      ]
     },
     "metadata": {},
     "output_type": "display_data"
    }
   ],
   "source": [
    "calculate_mcm_signals(\"new\",data2,50)"
   ]
  },
  {
   "cell_type": "code",
   "execution_count": 29,
   "metadata": {},
   "outputs": [
    {
     "data": {
      "text/plain": [
       "0.5001119175073125"
      ]
     },
     "execution_count": 29,
     "metadata": {},
     "output_type": "execute_result"
    }
   ],
   "source": [
    "(data2.nuc_vol_het/data2.nuc_vol_total)[69]"
   ]
  },
  {
   "cell_type": "code",
   "execution_count": 30,
   "metadata": {},
   "outputs": [],
   "source": [
    "data2.to_csv(file2.replace(\"v8\",\"v9_50\"))"
   ]
  },
  {
   "cell_type": "code",
   "execution_count": 31,
   "metadata": {},
   "outputs": [
    {
     "name": "stdout",
     "output_type": "stream",
     "text": [
      "1.0 1.0 1.0\n"
     ]
    }
   ],
   "source": [
    "## testing to see if the calculated signals have results as expected\n",
    "print(\n",
    "(np.sum(data2['nuc_mcm_het']+data2['nuc_mcm_eu']))/np.sum(data2['nuc_mcm_total']),\n",
    "(np.mean(data2['inner_mcm_het'])+np.mean(data2['inner_mcm_eu']))/np.mean(data2['inner_mcm_total']),\n",
    "(np.sum(data2['outer_mcm_het']+data2['outer_mcm_eu']))/np.sum(data2['outer_mcm_total']))"
   ]
  },
  {
   "cell_type": "code",
   "execution_count": 32,
   "metadata": {},
   "outputs": [
    {
     "name": "stdout",
     "output_type": "stream",
     "text": [
      "1.0 1.0 1.0 1.0\n"
     ]
    }
   ],
   "source": [
    "print(\n",
    "(np.sum(data2['inner_mcm_het']+data2['outer_mcm_het']))/np.sum(data2['nuc_mcm_het']),\n",
    "(np.mean(data2['outer_mcm_eu'])+np.mean(data2['inner_mcm_eu']))/np.mean(data2['nuc_mcm_eu']),\n",
    "(np.sum(data2['nuc_mcm_het'])+np.sum(data2['nuc_mcm_eu']))/np.sum(data2['nuc_mcm_total']),\n",
    "(np.sum(data2['inner_mcm_total']+data2['outer_mcm_total'])/np.sum(data2['nuc_mcm_total'])))"
   ]
  },
  {
   "cell_type": "markdown",
   "metadata": {},
   "source": [
    "## 200207 new data"
   ]
  },
  {
   "cell_type": "code",
   "execution_count": 4,
   "metadata": {},
   "outputs": [
    {
     "data": {
      "application/vnd.jupyter.widget-view+json": {
       "model_id": "efda7f3c9a894854bee9263526369e87",
       "version_major": 2,
       "version_minor": 0
      },
      "text/plain": [
       "IntProgress(value=0, description='Progress:', max=146)"
      ]
     },
     "metadata": {},
     "output_type": "display_data"
    }
   ],
   "source": [
    "calculate_mcm_signals(\"new\",data3,10)"
   ]
  },
  {
   "cell_type": "code",
   "execution_count": 5,
   "metadata": {},
   "outputs": [
    {
     "data": {
      "text/plain": [
       "0.10001578264601835"
      ]
     },
     "execution_count": 5,
     "metadata": {},
     "output_type": "execute_result"
    }
   ],
   "source": [
    "(data3.nuc_vol_het/data3.nuc_vol_total)[69]"
   ]
  },
  {
   "cell_type": "code",
   "execution_count": 6,
   "metadata": {},
   "outputs": [],
   "source": [
    "data3.to_csv(file3.replace(\"v10\",\"v10_10\"))"
   ]
  },
  {
   "cell_type": "code",
   "execution_count": 7,
   "metadata": {},
   "outputs": [
    {
     "name": "stdout",
     "output_type": "stream",
     "text": [
      "1.0 1.0 1.0\n"
     ]
    }
   ],
   "source": [
    "## testing to see if the calculated signals have results as expected\n",
    "print(\n",
    "(np.sum(data3['nuc_mcm_het']+data3['nuc_mcm_eu']))/np.sum(data3['nuc_mcm_total']),\n",
    "(np.mean(data3['inner_mcm_het'])+np.mean(data3['inner_mcm_eu']))/np.mean(data3['inner_mcm_total']),\n",
    "(np.sum(data3['outer_mcm_het']+data3['outer_mcm_eu']))/np.sum(data3['outer_mcm_total']))"
   ]
  },
  {
   "cell_type": "code",
   "execution_count": 8,
   "metadata": {},
   "outputs": [
    {
     "name": "stdout",
     "output_type": "stream",
     "text": [
      "1.0 0.9999999999999998 1.0 1.0\n"
     ]
    }
   ],
   "source": [
    "print(\n",
    "(np.sum(data3['inner_mcm_het']+data3['outer_mcm_het']))/np.sum(data3['nuc_mcm_het']),\n",
    "(np.mean(data3['outer_mcm_eu'])+np.mean(data3['inner_mcm_eu']))/np.mean(data3['nuc_mcm_eu']),\n",
    "(np.sum(data3['nuc_mcm_het'])+np.sum(data3['nuc_mcm_eu']))/np.sum(data3['nuc_mcm_total']),\n",
    "(np.sum(data3['inner_mcm_total']+data3['outer_mcm_total'])/np.sum(data3['nuc_mcm_total'])))"
   ]
  },
  {
   "cell_type": "code",
   "execution_count": 9,
   "metadata": {},
   "outputs": [
    {
     "data": {
      "application/vnd.jupyter.widget-view+json": {
       "model_id": "8f2e04bc8a69476c9cb9692829b75348",
       "version_major": 2,
       "version_minor": 0
      },
      "text/plain": [
       "IntProgress(value=0, description='Progress:', max=146)"
      ]
     },
     "metadata": {},
     "output_type": "display_data"
    }
   ],
   "source": [
    "calculate_mcm_signals(\"new\",data3,50)"
   ]
  },
  {
   "cell_type": "code",
   "execution_count": 10,
   "metadata": {},
   "outputs": [
    {
     "data": {
      "text/plain": [
       "0.5000558166749429"
      ]
     },
     "execution_count": 10,
     "metadata": {},
     "output_type": "execute_result"
    }
   ],
   "source": [
    "(data3.nuc_vol_het/data3.nuc_vol_total)[69]"
   ]
  },
  {
   "cell_type": "code",
   "execution_count": 11,
   "metadata": {},
   "outputs": [],
   "source": [
    "data3.to_csv(file3.replace(\"v10\",\"v10_50\"))"
   ]
  },
  {
   "cell_type": "code",
   "execution_count": 13,
   "metadata": {},
   "outputs": [
    {
     "name": "stdout",
     "output_type": "stream",
     "text": [
      "1.0 1.0 1.0\n"
     ]
    }
   ],
   "source": [
    "## testing to see if the calculated signals have results as expected\n",
    "print(\n",
    "(np.sum(data3['nuc_mcm_het']+data3['nuc_mcm_eu']))/np.sum(data3['nuc_mcm_total']),\n",
    "(np.mean(data3['inner_mcm_het'])+np.mean(data3['inner_mcm_eu']))/np.mean(data3['inner_mcm_total']),\n",
    "(np.sum(data3['outer_mcm_het']+data3['outer_mcm_eu']))/np.sum(data3['outer_mcm_total']))"
   ]
  },
  {
   "cell_type": "code",
   "execution_count": 14,
   "metadata": {},
   "outputs": [
    {
     "name": "stdout",
     "output_type": "stream",
     "text": [
      "1.0 1.0000000000000002 1.0 1.0\n"
     ]
    }
   ],
   "source": [
    "print(\n",
    "(np.sum(data3['inner_mcm_het']+data3['outer_mcm_het']))/np.sum(data3['nuc_mcm_het']),\n",
    "(np.mean(data3['outer_mcm_eu'])+np.mean(data3['inner_mcm_eu']))/np.mean(data3['nuc_mcm_eu']),\n",
    "(np.sum(data3['nuc_mcm_het'])+np.sum(data3['nuc_mcm_eu']))/np.sum(data3['nuc_mcm_total']),\n",
    "(np.sum(data3['inner_mcm_total']+data3['outer_mcm_total'])/np.sum(data3['nuc_mcm_total'])))"
   ]
  }
 ],
 "metadata": {
  "kernelspec": {
   "display_name": "Python 3",
   "language": "python",
   "name": "python3"
  },
  "language_info": {
   "codemirror_mode": {
    "name": "ipython",
    "version": 3
   },
   "file_extension": ".py",
   "mimetype": "text/x-python",
   "name": "python",
   "nbconvert_exporter": "python",
   "pygments_lexer": "ipython3",
   "version": "3.7.3"
  }
 },
 "nbformat": 4,
 "nbformat_minor": 2
}
