{
 "cells": [
  {
   "cell_type": "code",
   "execution_count": 1,
   "metadata": {},
   "outputs": [],
   "source": [
    "import os\n",
    "from os import listdir\n",
    "from os.path import isfile, join\n",
    "\n",
    "import pandas as pd\n",
    "from itertools import islice\n",
    "import numpy as np\n",
    "\n",
    "from skimage.external import tifffile\n",
    "from skimage.external.tifffile import imread\n",
    "\n",
    "import matplotlib.pyplot as plt\n",
    "\n",
    "import ipywidgets as widgets\n",
    "\n",
    "import random\n",
    "\n",
    "\n",
    "from scipy.ndimage.morphology import binary_erosion as br\n",
    "from skimage import morphology as skmor\n",
    "\n",
    "from scipy import ndimage\n",
    "from PIL import Image, ImageDraw\n",
    "\n",
    "import numpy.ma as ma\n",
    "\n",
    "from skimage.measure import label, regionprops"
   ]
  },
  {
   "cell_type": "markdown",
   "metadata": {},
   "source": [
    "## to calculate\n",
    "1.\tnucleus_DAPI_total\n",
    "2.\touter_DAPI_total\n",
    "3.\tinner_DAPI_total\n",
    "4.\tnucleus_DAPI_hetChrom\n",
    "5.\touter_DAPI_hetChrom\n",
    "6.\tinner_DAPI_hetChrom\n",
    "7.\tnucleus_DAPI_euChrom\n",
    "8.\touter_DAPI_euChrom\n",
    "9.\tinner_DAPI_euChrom\n",
    "\n"
   ]
  },
  {
   "cell_type": "markdown",
   "metadata": {},
   "source": [
    "# gathering files\n",
    "deleting the columns with the signals to recalculate and collect data"
   ]
  },
  {
   "cell_type": "markdown",
   "metadata": {},
   "source": [
    "# 20200207_new data"
   ]
  },
  {
   "cell_type": "code",
   "execution_count": 2,
   "metadata": {},
   "outputs": [],
   "source": [
    "bigDir=r'Z:\\CookLab\\Liu\\20190816_organizedData_MCM_loading\\20200203_new data'"
   ]
  },
  {
   "cell_type": "code",
   "execution_count": 3,
   "metadata": {},
   "outputs": [],
   "source": [
    "file3=f'{bigDir}\\\\cellinfo_200203_v10_10.csv'\n",
    "data3=pd.read_csv(file3)"
   ]
  },
  {
   "cell_type": "code",
   "execution_count": 4,
   "metadata": {},
   "outputs": [],
   "source": [
    "file4=f'{bigDir}\\\\cellinfo_200203_v10_50.csv'\n",
    "data4=pd.read_csv(file4)"
   ]
  },
  {
   "cell_type": "markdown",
   "metadata": {},
   "source": [
    "# h3k9me3 3rd dataset"
   ]
  },
  {
   "cell_type": "code",
   "execution_count": 12,
   "metadata": {},
   "outputs": [],
   "source": [
    "bigDir=r'Z:\\CookLab\\Liu\\20190816_organizedData_MCM_loading\\20191202_new dataset'"
   ]
  },
  {
   "cell_type": "code",
   "execution_count": 13,
   "metadata": {},
   "outputs": [],
   "source": [
    "file5=f'{bigDir}\\\\signals_new_v6_10.csv'\n",
    "data5=pd.read_csv(file5)"
   ]
  },
  {
   "cell_type": "code",
   "execution_count": 14,
   "metadata": {},
   "outputs": [],
   "source": [
    "file6=f'{bigDir}\\\\signals_new_v6_50.csv'\n",
    "data6=pd.read_csv(file6)"
   ]
  },
  {
   "cell_type": "markdown",
   "metadata": {},
   "source": [
    "# 20200217_geminin data"
   ]
  },
  {
   "cell_type": "code",
   "execution_count": 27,
   "metadata": {},
   "outputs": [],
   "source": [
    "bigDir=r'Z:\\CookLab\\Liu\\20190816_organizedData_MCM_loading\\20200217_geminin'"
   ]
  },
  {
   "cell_type": "code",
   "execution_count": 28,
   "metadata": {},
   "outputs": [],
   "source": [
    "file=f'{bigDir}\\\\200217_cellinfo_v9_10.csv'\n",
    "data=pd.read_csv(file)"
   ]
  },
  {
   "cell_type": "code",
   "execution_count": 29,
   "metadata": {},
   "outputs": [],
   "source": [
    "file2=f'{bigDir}\\\\200217_cellinfo_v9_50.csv'\n",
    "data2=pd.read_csv(file2)"
   ]
  },
  {
   "cell_type": "markdown",
   "metadata": {},
   "source": [
    "# DAPI calculations"
   ]
  },
  {
   "cell_type": "code",
   "execution_count": 5,
   "metadata": {},
   "outputs": [],
   "source": [
    "def calculate_DAPI_signals (data,percentage):\n",
    "    # progress bar\n",
    "    i=0\n",
    "    progBar=widgets.IntProgress(\n",
    "        value=i,\n",
    "        min=0,\n",
    "        max=len(data),\n",
    "        step=1,\n",
    "        description='Progress:',\n",
    "        orientation='horizontal'\n",
    "    )\n",
    "    display(progBar)\n",
    "    percentageCpy= percentage\n",
    "    \n",
    "    for i,myCell in islice(data.iterrows(), i,None):\n",
    "        '''\n",
    "        if myCell.group=='CTL':\n",
    "            percentage = 20\n",
    "        '''\n",
    "        ## opening cell image\n",
    "        try:\n",
    "            myImage=imread(myCell.path) \n",
    "        except:\n",
    "            myCell.path=myCell.path.replace('.tif','.tiff')\n",
    "            myImage=imread(myCell.path)\n",
    "        \n",
    "        ## channel for DAPI calculations is 2 for both datasets\n",
    "        myChannel=myImage[:,2,:,:]\n",
    "        \n",
    "        \n",
    "\n",
    "        ## setting arrays for names \n",
    "        \n",
    "        ### for column names\n",
    "        pixels=['total','het','eu']\n",
    "        components=['nuc','inner','outer']\n",
    "        \n",
    "        ### for masks names\n",
    "        dirs=['segmentation_nucleus_Otsu','erosion_nuc_mask','erosion_nuc_mask',\n",
    "              f'segmentation_{percentage}',f'segmentation_{percentage}_erosion',f'segmentation_{percentage}_erosion',\n",
    "             f'segmentation_{percentage}_eu',f'segmentation_{percentage}_eu_erosion',f'segmentation_{percentage}_eu_erosion',]\n",
    "\n",
    "        files=['_nucleus.tif','_eroded_9^5_inner_mask_20.tif','_eroded_9^5_outer_mask_20.tif',\n",
    "                   '_hetChrom.tif', '_hetChrom_inner.tif', '_hetChrom_outer.tif',\n",
    "                   '_euChrom.tif', '_euChrom_inner.tif','_euChrom_outer.tif']\n",
    "\n",
    "        df=pd.DataFrame(columns=['nuc_vol_total','inner_vol_total','outer_vol_total',\n",
    "                                 'nuc_mcm_total','inner_mcm_total','outer_mcm_total',\n",
    "                                'nuc_vol_het','inner_vol_het','outer_vol_het',\n",
    "                                 'nuc_mcm_het','inner_mcm_het','outer_mcm_het',\n",
    "                                 'nuc_vol_eu','inner_vol_eu','outer_vol_eu',\n",
    "                                'nuc_mcm_eu','inner_mcm_eu', 'outer_mcm_eu'])\n",
    "\n",
    "        ## calculating signals\n",
    "        for k in range(len(pixels)):\n",
    "            for j in range(len(components)):\n",
    "                ## copying image every time new signal is calculated\n",
    "                myIm=myImage.copy()\n",
    "                myChannel=myIm[:,2,:,:]\n",
    "                \n",
    "                ## column name set up based on the component and the pixels\n",
    "                currColName=f'{components[j]}_DAPI_{pixels[k]}'\n",
    "\n",
    "                ## opening mask images\n",
    "                ### the indexing is in such way so that the image opened matches up with the name being used for calculation\n",
    "                direc=myCell.path.replace('data_tiff',dirs[(j)+(k*3)])\n",
    "                try:\n",
    "                    direc=direc.replace('.tif',files[(k*3)+(j)])\n",
    "                    mask=imread(direc)  \n",
    "                except:\n",
    "                    direc=direc.replace('_nucleus.tiff',files[(k*3)+(j)])\n",
    "                    mask=imread(direc)\n",
    "\n",
    "                ## making the mask as binary\n",
    "                mask=mask.astype(bool)\n",
    "                \n",
    "                ## masking the image with the mask\n",
    "                myChannel[~mask]=0\n",
    "                \n",
    "                ## calculating signals\n",
    "                df[f'{currColName}']=myChannel.sum(-1).sum(-1)\n",
    "        \n",
    "        ## saving signals into original/big dataframe\n",
    "        for myMeasurement in df.columns:\n",
    "            myString=f\"data.loc[i,'{myMeasurement}']=np.sum(df.{myMeasurement})\"\n",
    "            exec(myString)\n",
    "            \n",
    "        percentage = percentageCpy\n",
    "        \n",
    "        progBar.value=progBar.value+1"
   ]
  },
  {
   "cell_type": "code",
   "execution_count": 6,
   "metadata": {},
   "outputs": [
    {
     "data": {
      "application/vnd.jupyter.widget-view+json": {
       "model_id": "f4475a2cf11b40ac965f0e9e9c650365",
       "version_major": 2,
       "version_minor": 0
      },
      "text/plain": [
       "IntProgress(value=0, description='Progress:', max=146)"
      ]
     },
     "metadata": {},
     "output_type": "display_data"
    },
    {
     "data": {
      "application/vnd.jupyter.widget-view+json": {
       "model_id": "f1f5825416cf4e2f8cf0b96f9942fd74",
       "version_major": 2,
       "version_minor": 0
      },
      "text/plain": [
       "IntProgress(value=0, description='Progress:', max=146)"
      ]
     },
     "metadata": {},
     "output_type": "display_data"
    }
   ],
   "source": [
    "## calculating signals for 200207 dataset\n",
    "calculate_DAPI_signals(data3,10)\n",
    "data3.to_csv(file3.replace(\"v10\", \"v11\"))\n",
    "calculate_DAPI_signals(data4,50)\n",
    "data4.to_csv(file4.replace(\"v10\", \"v11\"))"
   ]
  },
  {
   "cell_type": "code",
   "execution_count": 22,
   "metadata": {},
   "outputs": [
    {
     "data": {
      "application/vnd.jupyter.widget-view+json": {
       "model_id": "f2a2e0cd4e2c4456be1c83e2e4753c5c",
       "version_major": 2,
       "version_minor": 0
      },
      "text/plain": [
       "IntProgress(value=0, description='Progress:', max=276)"
      ]
     },
     "metadata": {},
     "output_type": "display_data"
    },
    {
     "data": {
      "application/vnd.jupyter.widget-view+json": {
       "model_id": "a19915f0ce314058a2b79816e6343db1",
       "version_major": 2,
       "version_minor": 0
      },
      "text/plain": [
       "IntProgress(value=0, description='Progress:', max=276)"
      ]
     },
     "metadata": {},
     "output_type": "display_data"
    }
   ],
   "source": [
    "## calculating signals for 191202 dataset\n",
    "calculate_DAPI_signals(data5,10)\n",
    "data5.to_csv(file5.replace(\"v6\", \"v7\"))\n",
    "calculate_DAPI_signals(data6,50)\n",
    "data6.to_csv(file6.replace(\"v6\", \"v7\"))"
   ]
  },
  {
   "cell_type": "code",
   "execution_count": 30,
   "metadata": {},
   "outputs": [
    {
     "data": {
      "application/vnd.jupyter.widget-view+json": {
       "model_id": "9bd3b26ae89941b38eaa2f760b806731",
       "version_major": 2,
       "version_minor": 0
      },
      "text/plain": [
       "IntProgress(value=0, description='Progress:', max=145)"
      ]
     },
     "metadata": {},
     "output_type": "display_data"
    },
    {
     "data": {
      "application/vnd.jupyter.widget-view+json": {
       "model_id": "354bbe2f574947619d4c234a3598d0b4",
       "version_major": 2,
       "version_minor": 0
      },
      "text/plain": [
       "IntProgress(value=0, description='Progress:', max=145)"
      ]
     },
     "metadata": {},
     "output_type": "display_data"
    }
   ],
   "source": [
    "## calculating signals for 200217 dataset\n",
    "calculate_DAPI_signals(data,10)\n",
    "data.to_csv(file.replace(\"v9\", \"v10\"))\n",
    "calculate_DAPI_signals(data2,50)\n",
    "data2.to_csv(file2.replace(\"v9\", \"v10\"))"
   ]
  },
  {
   "cell_type": "code",
   "execution_count": null,
   "metadata": {},
   "outputs": [],
   "source": []
  }
 ],
 "metadata": {
  "kernelspec": {
   "display_name": "Python 3",
   "language": "python",
   "name": "python3"
  },
  "language_info": {
   "codemirror_mode": {
    "name": "ipython",
    "version": 3
   },
   "file_extension": ".py",
   "mimetype": "text/x-python",
   "name": "python",
   "nbconvert_exporter": "python",
   "pygments_lexer": "ipython3",
   "version": "3.7.3"
  }
 },
 "nbformat": 4,
 "nbformat_minor": 2
}
