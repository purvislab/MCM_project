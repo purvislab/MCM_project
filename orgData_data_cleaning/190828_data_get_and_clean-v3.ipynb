{
 "cells": [
  {
   "cell_type": "code",
   "execution_count": null,
   "metadata": {},
   "outputs": [],
   "source": [
    "import pandas as pd\n",
    "import numpy as np\n",
    "import math\n",
    "import numpy\n",
    "import matplotlib.pyplot as plt"
   ]
  },
  {
   "cell_type": "code",
   "execution_count": null,
   "metadata": {},
   "outputs": [],
   "source": [
    "myFile=r'Y:\\CookLab\\Liu\\20190816_organizedData_MCM_loading\\cell_info_DHB_tracking.csv'"
   ]
  },
  {
   "cell_type": "code",
   "execution_count": null,
   "metadata": {},
   "outputs": [],
   "source": [
    "myData=pd.read_csv(myFile)"
   ]
  },
  {
   "cell_type": "code",
   "execution_count": null,
   "metadata": {},
   "outputs": [],
   "source": [
    "myData"
   ]
  },
  {
   "cell_type": "markdown",
   "metadata": {},
   "source": [
    "## function openingFiles \n",
    "in: tracking number\n",
    "out: dataframe of that particular data file"
   ]
  },
  {
   "cell_type": "code",
   "execution_count": null,
   "metadata": {},
   "outputs": [],
   "source": [
    "def openingFiles (tracking):\n",
    "    \n",
    "    # function to load data from the csv file into a data frame\n",
    "    # input: part of the pathway specifying csv file\n",
    "    # output: pandas data frame\n",
    "    \n",
    "    trackingDir=r'Y:\\CookLab\\Liu\\20190816_organizedData_MCM_loading\\DHB_trackingData'\n",
    "    \n",
    "    if tracking is None:\n",
    "        return None\n",
    "    else:\n",
    "        trackingFile =f'{trackingDir}\\\\{tracking}_DHB_.csv'\n",
    "    \n",
    "    return pd.read_csv(trackingFile)"
   ]
  },
  {
   "cell_type": "code",
   "execution_count": null,
   "metadata": {},
   "outputs": [],
   "source": [
    "myData['DHB_nucleus'] = 'mean'\n",
    "myData['DHB_cyto'] = 'mean ring'\n",
    "myData['DHB_ratio'] = 'ratio'"
   ]
  },
  {
   "cell_type": "code",
   "execution_count": null,
   "metadata": {},
   "outputs": [],
   "source": [
    "for i, a_row in myData.iterrows():\n",
    "    try:\n",
    "        cell_id = int(a_row['cell id for tracking'])\n",
    "    except:\n",
    "        cell_id = None\n",
    "    try:\n",
    "        tracking = int(a_row.dhb_tracking)\n",
    "    except:\n",
    "        tracking = None\n",
    "\n",
    "    trackingData = openingFiles(tracking)\n",
    "\n",
    "    if trackingData is None:\n",
    "        myData.at[i, 'DHB_nucleus'] = None\n",
    "        myData.at[i, 'DHB_cyto'] = None\n",
    "        myData.at[i, 'DHB_ratio'] = None\n",
    "    else:\n",
    "        tracked_mean = trackingData.loc[trackingData['Cell ID #'] == cell_id, 'Mean']\n",
    "        tracked_meanRing = trackingData.loc[trackingData['Cell ID #'] == cell_id, 'Mean ring']\n",
    "        ratio = tracked_meanRing / tracked_mean\n",
    "\n",
    "        tracked_mean = tracked_mean.tolist()\n",
    "        tracked_meanRing = tracked_meanRing.tolist()\n",
    "        ratio = ratio.tolist()\n",
    "\n",
    "        myData.at[i, 'DHB_nucleus'] = tracked_mean\n",
    "        myData.at[i, 'DHB_cyto'] = tracked_meanRing\n",
    "        myData.at[i, 'DHB_ratio'] = ratio\n",
    "    \n",
    "    \n",
    "    "
   ]
  },
  {
   "cell_type": "code",
   "execution_count": null,
   "metadata": {},
   "outputs": [],
   "source": [
    "myData"
   ]
  },
  {
   "cell_type": "code",
   "execution_count": null,
   "metadata": {},
   "outputs": [],
   "source": [
    "myData['category_cleaned']  = 'clean category'"
   ]
  },
  {
   "cell_type": "code",
   "execution_count": null,
   "metadata": {},
   "outputs": [],
   "source": [
    "for i, row in myData.iterrows():\n",
    "    string = str(row.category)\n",
    "    if 'early' and 'G1' in string:\n",
    "        myData.at[i, 'category_cleaned'] = 'earlyG1'\n",
    "    elif 'middle' and 'G1' in string:\n",
    "        myData.at[i, 'category_cleaned'] = 'middleG1'\n",
    "    elif 'late' and 'G1' in string:\n",
    "        myData.at[i, 'category_cleaned'] = 'lateG1'\n",
    "    elif 'G2' in string:\n",
    "        myData.at[i, 'category_cleaned'] = 'G2'\n",
    "    elif 'S' or 'phase' in string:\n",
    "        myData.at[i, 'category_cleaned'] = 'S'\n",
    "    else: \n",
    "        myData.at[i, 'category_cleaned'] = None\n",
    "\n",
    "    while row.DHB_nucleus is not None:\n",
    "        x = [one for one in range(len(row.DHB_nucleus))]\n",
    "        y1 = row.DHB_nucleus\n",
    "        \n",
    "        fig, ax = plt.subplots()\n",
    "        \n",
    "        line1, = ax.plot(x, y1, labe1= 'test')\n",
    "        ax.legend()\n",
    "        plt.show()\n",
    "    "
   ]
  },
  {
   "cell_type": "code",
   "execution_count": null,
   "metadata": {},
   "outputs": [],
   "source": []
  },
  {
   "cell_type": "code",
   "execution_count": null,
   "metadata": {},
   "outputs": [],
   "source": [
    "myData['DHB_nucleus'].iloc[1]"
   ]
  },
  {
   "cell_type": "code",
   "execution_count": null,
   "metadata": {},
   "outputs": [],
   "source": []
  }
 ],
 "metadata": {
  "kernelspec": {
   "display_name": "Python 3",
   "language": "python",
   "name": "python3"
  },
  "language_info": {
   "codemirror_mode": {
    "name": "ipython",
    "version": 3
   },
   "file_extension": ".py",
   "mimetype": "text/x-python",
   "name": "python",
   "nbconvert_exporter": "python",
   "pygments_lexer": "ipython3",
   "version": "3.7.3"
  }
 },
 "nbformat": 4,
 "nbformat_minor": 2
}
