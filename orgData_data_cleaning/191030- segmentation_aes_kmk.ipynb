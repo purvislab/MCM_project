{
 "cells": [
  {
   "cell_type": "code",
   "execution_count": 1,
   "metadata": {},
   "outputs": [],
   "source": [
    "import pandas as pd\n",
    "from skimage.external import tifffile\n",
    "import os\n",
    "os.sys.path\n",
    "from os import listdir\n",
    "from os.path import isfile, join\n",
    "import matplotlib.pyplot as plt\n",
    "import numpy as np"
   ]
  },
  {
   "cell_type": "code",
   "execution_count": 5,
   "metadata": {},
   "outputs": [],
   "source": [
    "bigDir = r'S:\\CookLab\\Liu\\20190816_organizedData_MCM_loading\\DATA'\n",
    "\n",
    "het_percentile=10"
   ]
  },
  {
   "cell_type": "code",
   "execution_count": 8,
   "metadata": {},
   "outputs": [
    {
     "data": {
      "text/plain": [
       "['20190701-MSL decon rename',\n",
       " '20190609-MSL decon rename',\n",
       " '20190712-MSL decon rename',\n",
       " '20190625-MSL decon rename',\n",
       " '20190716-MSL decon rename',\n",
       " '20190607-MSL decon rename',\n",
       " '20190506-MSL decon rename']"
      ]
     },
     "execution_count": 8,
     "metadata": {},
     "output_type": "execute_result"
    }
   ],
   "source": [
    "foldersToLook=[x for x in os.listdir(bigDir) if 'decon' in x]\n",
    "foldersToLook"
   ]
  },
  {
   "cell_type": "code",
   "execution_count": 31,
   "metadata": {},
   "outputs": [
    {
     "name": "stdout",
     "output_type": "stream",
     "text": [
      "20190625-MSL decon rename\n"
     ]
    }
   ],
   "source": [
    "\n",
    "    currFolder = foldersToLook[3]\n",
    "    print(currFolder)\n",
    "    currBigDir = f'{bigDir}\\\\{currFolder}'\n",
    "\n",
    "    currMaskFolder = f'{currBigDir}\\\\segmentation'\n",
    "    currCellFolder = f'{currBigDir}\\\\data_tiff'\n",
    "    os.mkdir(f'{currBigDir}\\\\segmentation_10')\n",
    "    newSegFolder = f'{currBigDir}\\\\segmentation_10'\n",
    "\n",
    "    segFiles = []\n",
    "    cellFiles = []\n",
    "\n",
    "    for (dirpath, dirnames, filenames) in os.walk(currMaskFolder):\n",
    "        segFiles.extend(filenames)\n",
    "        break\n",
    "    for (dirpath, dirnames, filenames) in os.walk(currCellFolder):\n",
    "        cellFiles.extend(filenames)\n",
    "        break\n",
    "\n",
    "    nucleusMasks = [f for f in segFiles if \"nucleus\" in str(f)]\n",
    "\n",
    "    \n",
    "    if 'Thumbs.db' in nucleusMasks:\n",
    "        nucleusMasks.remove('Thumbs.db')\n",
    "    elif 'Thumbs.db' in cellFiles:\n",
    "        cellFiles.remove('Thumbs.db')\n",
    "\n",
    "    \n",
    "    for j in range(len(hetFiles)):\n",
    "        \n",
    "        myImage = tifffile.imread(f'{currCellFolder}\\\\{cellFiles[j]}')\n",
    "        myChannel = myImage[:, 1, :, :]\n",
    "        myMask = tifffile.imread(f'{currMaskFolder}\\\\{nucleusMasks[j]}')\n",
    "        myMask = myMask.astype(bool)\n",
    "\n",
    "        myHetMask = myChannel[myMask]\n",
    "\n",
    "        myPercentile = np.nanpercentile(myHetMask, 90) \n",
    "\n",
    "\n",
    "        myChannel[myChannel < myPercentile] = 0\n",
    "        myChannel[myChannel >= myPercentile] = 1\n",
    "        myChannel[~myMask]=0\n",
    "        myFile = cellFiles[j].split(\".\")[0]\n",
    "\n",
    "        tifffile.imsave(f'{newSegFolder}\\\\{myFile}.tiff', myChannel)\n",
    "    "
   ]
  },
  {
   "cell_type": "code",
   "execution_count": null,
   "metadata": {},
   "outputs": [],
   "source": [
    "for i in range(len(foldersToLook)):\n",
    "    currFolder = foldersToLook[i]\n",
    "    currBigDir = f'{bigDir}\\\\{currFolder}'\n",
    "    \n",
    "    folder = f'{currBigDir}\\\\segmentation_10'\n",
    "    \n",
    "    for filename in os.listdir(folder):\n",
    "        filename_changed = filename.split(\".\")[0] \n",
    "        changed = filename_changed + '_hetChrom_10'\n",
    "        \n",
    "        src = f'{folder}\\\\{filename}'\n",
    "        dst = f'{folder}\\\\{changed}.tiff'\n",
    "        os.rename(src, dst)\n",
    "        \n",
    "    "
   ]
  },
  {
   "cell_type": "code",
   "execution_count": 15,
   "metadata": {},
   "outputs": [],
   "source": [
    "myFile=r'Z:\\CookLab\\Liu\\20190816_organizedData_MCM_loading\\decon_data_perChannel_v1'\n",
    "myDf=pd.read_csv(myFile)"
   ]
  },
  {
   "cell_type": "code",
   "execution_count": null,
   "metadata": {},
   "outputs": [],
   "source": [
    "myDF"
   ]
  }
 ],
 "metadata": {
  "kernelspec": {
   "display_name": "Python 3",
   "language": "python",
   "name": "python3"
  },
  "language_info": {
   "codemirror_mode": {
    "name": "ipython",
    "version": 3
   },
   "file_extension": ".py",
   "mimetype": "text/x-python",
   "name": "python",
   "nbconvert_exporter": "python",
   "pygments_lexer": "ipython3",
   "version": "3.7.1"
  }
 },
 "nbformat": 4,
 "nbformat_minor": 2
}
