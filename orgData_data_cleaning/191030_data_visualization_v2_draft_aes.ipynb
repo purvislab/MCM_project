{
 "cells": [
  {
   "cell_type": "code",
   "execution_count": 1,
   "metadata": {},
   "outputs": [],
   "source": [
    "import pandas as pd\n",
    "import numpy as np\n",
    "import matplotlib.pyplot as plt\n",
    "import seaborn as sns\n",
    "from skimage.external import tifffile\n",
    "import os\n",
    "os.sys.path\n",
    "from os import listdir\n",
    "from os.path import isfile, join"
   ]
  },
  {
   "cell_type": "code",
   "execution_count": 4,
   "metadata": {},
   "outputs": [],
   "source": [
    "bigDir = r'Z:\\CookLab\\Liu\\20190816_organizedData_MCM_loading\\DATA'\n",
    "myFile = r'Z:\\CookLab\\Liu\\20190816_organizedData_MCM_loading\\sel_cells_v1.csv'\n",
    "myDF=pd.read_csv(myFile)"
   ]
  },
  {
   "cell_type": "code",
   "execution_count": 6,
   "metadata": {},
   "outputs": [],
   "source": [
    "folders=[]\n",
    "for folder in sorted(os.listdir(bigDir)):\n",
    "    if 'decon' in folder:\n",
    "        folders.append(folder)  "
   ]
  },
  {
   "cell_type": "code",
   "execution_count": 8,
   "metadata": {},
   "outputs": [
    {
     "name": "stdout",
     "output_type": "stream",
     "text": [
      "7\n"
     ]
    }
   ],
   "source": [
    "print(len(folders))"
   ]
  },
  {
   "cell_type": "code",
   "execution_count": 16,
   "metadata": {},
   "outputs": [],
   "source": [
    "myDF['Ch1_Total']=0\n",
    "myDF['Ch1_HetChrom']=0\n",
    "myDF['Ch1_Euchrom']=0\n",
    "\n",
    "myDF['Ch2_Total']=0\n",
    "myDF['Ch2_HetChrom']=0\n",
    "myDF['Ch2_Euchrom']=0\n",
    "\n",
    "myDF['Ch3_Total']=0\n",
    "myDF['Ch3_HetChrom']=0\n",
    "myDF['Ch3_Euchrom']=0\n",
    "\n",
    "myDF['dataFolder'] = None"
   ]
  },
  {
   "cell_type": "code",
   "execution_count": 15,
   "metadata": {},
   "outputs": [
    {
     "data": {
      "text/plain": [
       "{'20190506-MSL decon rename',\n",
       " '20190607-MSL decon rename',\n",
       " '20190609-MSL decon rename',\n",
       " '20190625-MSL decon rename',\n",
       " '20190701-MSL decon rename',\n",
       " '20190712-MSL decon rename',\n",
       " '20190716-MSL decon rename'}"
      ]
     },
     "execution_count": 15,
     "metadata": {},
     "output_type": "execute_result"
    }
   ],
   "source": [
    "set(folders)"
   ]
  },
  {
   "cell_type": "code",
   "execution_count": null,
   "metadata": {},
   "outputs": [],
   "source": [
    "for i, row in myDF.iterrows():\n",
    "    myDF.at[i,'dataFolder'] = "
   ]
  },
  {
   "cell_type": "code",
   "execution_count": 14,
   "metadata": {},
   "outputs": [
    {
     "ename": "SyntaxError",
     "evalue": "unexpected EOF while parsing (<ipython-input-14-8a24c3a9e158>, line 9)",
     "output_type": "error",
     "traceback": [
      "\u001b[1;36m  File \u001b[1;32m\"<ipython-input-14-8a24c3a9e158>\"\u001b[1;36m, line \u001b[1;32m9\u001b[0m\n\u001b[1;33m    \u001b[0m\n\u001b[1;37m    ^\u001b[0m\n\u001b[1;31mSyntaxError\u001b[0m\u001b[1;31m:\u001b[0m unexpected EOF while parsing\n"
     ]
    }
   ],
   "source": [
    "for i, row in myDF.iterrows():\n",
    "    decon_condition = myDF.at[i,'decon']\n",
    "    pa_condition = myDF.at[i,'physicalAgeMatch']==1\n",
    "    ma_condition =myDF.at[i,'molecularAgeMatch']\n",
    "    if decon_condition:\n",
    "        if pa_condition:\n",
    "            if ma_condition:\n",
    "                "
   ]
  },
  {
   "cell_type": "code",
   "execution_count": null,
   "metadata": {},
   "outputs": [],
   "source": [
    "def setinDF (folderName):\n",
    "    currDir = f'{bigDir}\\\\{folderName}'\n",
    "    currOrgCellFolder = f'{currDir}\\\\data'\n",
    "    currCellFolder = f'{currDir}\\\\data_tiff'\n",
    "    currNucFolder = f'{currDir}\\\\segmentation'\n",
    "    currHetFolder = f'{currDir}\\\\segmentation_20_revised'\n",
    "    \n",
    "    nucFiles = []\n",
    "    cellFiles = []\n",
    "    hetFiles = []\n",
    "    orgFiles = []\n",
    "\n",
    "    for (dirpath, dirnames, filenames) in os.walk(currOrgCellFolder):\n",
    "        orgFiles.extend(filenames)\n",
    "        break\n",
    "    for (dirpath, dirnames, filenames) in os.walk(currNucFolder):\n",
    "        nucFiles.extend(filenames)\n",
    "        break\n",
    "    for (dirpath, dirnames, filenames) in os.walk(currCellFolder):\n",
    "        cellFiles.extend(filenames)\n",
    "        break\n",
    "    for (dirpath, dirnames, filenames) in os.walk(currHetFolder):\n",
    "        hetFiles.extend(filenames)\n",
    "        break\n",
    "        \n",
    "    nucleusMasks = [f for f in nucFiles if \"nucleus\" in str(f)]\n",
    "    \n",
    "    if 'Thumbs.db' in hetFiles:\n",
    "        hetFiles.remove('Thumbs.db')\n",
    "    elif 'Thumbs.db' in cellFiles:\n",
    "        cellFiles.remove('Thumbs.db')\n",
    "    elif 'Thumbs.db' in orgFiles:\n",
    "        orgFiles.remove('Thumbs.db')\n",
    "    \n",
    "    df = pd.DataFrame(columns = ['File', 'Ch1_HetChrom', 'Ch1_Euchrom', 'Ch1_Total','Ch2_HetChrom', 'Ch2_Euchrom', 'Ch2_Total','Ch3_HetChrom', 'Ch3_Euchrom', 'Ch3_Total'])\n",
    "    \n",
    "    for i, file in enumerate(orgFiles):\n",
    "        df.loc[i, \"File\"] = file\n",
    "    \n",
    "    for i in range(len(orgFiles)):\n",
    "        channel1 = extractData(currDir, cellFiles[i], hetFiles[i], nucleusMasks[i], 0)\n",
    "        channel2 = extractData(currDir, cellFiles[i], hetFiles[i], nucleusMasks[i], 1)\n",
    "        channel3 = extractData(currDir, cellFiles[i], hetFiles[i], nucleusMasks[i], 2)\n",
    "        \n",
    "        df.loc[i, 'Ch1_Total'] = channel1[0]\n",
    "        df.loc[i, 'Ch1_HetChrom'] = channel1[1]\n",
    "        df.loc[i, 'Ch1_Euchrom'] = channel1[2]\n",
    "        \n",
    "        df.loc[i, 'Ch2_Total'] = channel2[0]\n",
    "        df.loc[i, 'Ch2_HetChrom'] = channel2[1]\n",
    "        df.loc[i, 'Ch2_Euchrom'] = channel2[2]\n",
    "        \n",
    "        df.loc[i, 'Ch3_Total'] = channel3[0]\n",
    "        df.loc[i, 'Ch3_HetChrom'] = channel3[1]\n",
    "        df.loc[i, 'Ch3_Euchrom'] = channel3[2]\n",
    "    \n",
    "    return df"
   ]
  }
 ],
 "metadata": {
  "kernelspec": {
   "display_name": "Python 3",
   "language": "python",
   "name": "python3"
  },
  "language_info": {
   "codemirror_mode": {
    "name": "ipython",
    "version": 3
   },
   "file_extension": ".py",
   "mimetype": "text/x-python",
   "name": "python",
   "nbconvert_exporter": "python",
   "pygments_lexer": "ipython3",
   "version": "3.7.3"
  }
 },
 "nbformat": 4,
 "nbformat_minor": 2
}
