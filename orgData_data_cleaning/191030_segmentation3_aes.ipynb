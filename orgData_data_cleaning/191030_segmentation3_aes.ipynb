{
 "cells": [
  {
   "cell_type": "code",
   "execution_count": 1,
   "metadata": {},
   "outputs": [],
   "source": [
    "import pandas as pd\n",
    "from skimage.external import tifffile\n",
    "import os\n",
    "os.sys.path\n",
    "from os import listdir\n",
    "from os.path import isfile, join\n",
    "import matplotlib.pyplot as plt\n",
    "import numpy as np"
   ]
  },
  {
   "cell_type": "code",
   "execution_count": 2,
   "metadata": {},
   "outputs": [],
   "source": [
    "bigDir = r'Z:\\CookLab\\Liu\\20190816_organizedData_MCM_loading\\DATA'\n",
    "\n",
    "foldersToLook = ['20190506-MSL decon rename', '20190607-MSL decon rename', '20190609-MSL decon rename', \n",
    "                 '20190625-MSL decon rename', '20190701-MSL decon rename', '20190712-MSL decon rename',\n",
    "                 '20190716-MSL decon rename']"
   ]
  },
  {
   "cell_type": "markdown",
   "metadata": {},
   "source": [
    "## by 10%"
   ]
  },
  {
   "cell_type": "code",
   "execution_count": 3,
   "metadata": {},
   "outputs": [
    {
     "name": "stdout",
     "output_type": "stream",
     "text": [
      "20190506-MSL decon rename\n"
     ]
    },
    {
     "ename": "FileExistsError",
     "evalue": "[WinError 183] Cannot create a file when that file already exists: 'Z:\\\\CookLab\\\\Liu\\\\20190816_organizedData_MCM_loading\\\\DATA\\\\20190506-MSL decon rename\\\\segmentation_10'",
     "output_type": "error",
     "traceback": [
      "\u001b[1;31m---------------------------------------------------------------------------\u001b[0m",
      "\u001b[1;31mFileExistsError\u001b[0m                           Traceback (most recent call last)",
      "\u001b[1;32m<ipython-input-3-731994695d11>\u001b[0m in \u001b[0;36m<module>\u001b[1;34m\u001b[0m\n\u001b[0;32m      6\u001b[0m     \u001b[0mcurrMaskFolder\u001b[0m \u001b[1;33m=\u001b[0m \u001b[1;34mf'{currBigDir}\\\\segmentation'\u001b[0m\u001b[1;33m\u001b[0m\u001b[1;33m\u001b[0m\u001b[0m\n\u001b[0;32m      7\u001b[0m     \u001b[0mcurrCellFolder\u001b[0m \u001b[1;33m=\u001b[0m \u001b[1;34mf'{currBigDir}\\\\data_tiff'\u001b[0m\u001b[1;33m\u001b[0m\u001b[1;33m\u001b[0m\u001b[0m\n\u001b[1;32m----> 8\u001b[1;33m     \u001b[0mos\u001b[0m\u001b[1;33m.\u001b[0m\u001b[0mmkdir\u001b[0m\u001b[1;33m(\u001b[0m\u001b[1;34mf'{currBigDir}\\\\segmentation_10'\u001b[0m\u001b[1;33m)\u001b[0m\u001b[1;33m\u001b[0m\u001b[1;33m\u001b[0m\u001b[0m\n\u001b[0m\u001b[0;32m      9\u001b[0m     \u001b[0mnewSegFolder\u001b[0m \u001b[1;33m=\u001b[0m \u001b[1;34mf'{currBigDir}\\\\segmentation_10'\u001b[0m\u001b[1;33m\u001b[0m\u001b[1;33m\u001b[0m\u001b[0m\n\u001b[0;32m     10\u001b[0m \u001b[1;33m\u001b[0m\u001b[0m\n",
      "\u001b[1;31mFileExistsError\u001b[0m: [WinError 183] Cannot create a file when that file already exists: 'Z:\\\\CookLab\\\\Liu\\\\20190816_organizedData_MCM_loading\\\\DATA\\\\20190506-MSL decon rename\\\\segmentation_10'"
     ]
    }
   ],
   "source": [
    "for i in range(len(foldersToLook)):\n",
    "    currFolder = foldersToLook[i]\n",
    "    print(currFolder)\n",
    "    currBigDir = f'{bigDir}\\\\{currFolder}'\n",
    "\n",
    "    currMaskFolder = f'{currBigDir}\\\\segmentation'\n",
    "    currCellFolder = f'{currBigDir}\\\\data_tiff'\n",
    "    os.mkdir(f'{currBigDir}\\\\segmentation_10')\n",
    "    newSegFolder = f'{currBigDir}\\\\segmentation_10'\n",
    "\n",
    "    segFiles = []\n",
    "    cellFiles = []\n",
    "\n",
    "    for (dirpath, dirnames, filenames) in os.walk(currMaskFolder):\n",
    "        segFiles.extend(filenames)\n",
    "        break\n",
    "    for (dirpath, dirnames, filenames) in os.walk(currCellFolder):\n",
    "        cellFiles.extend(filenames)\n",
    "        break\n",
    "\n",
    "    nucleusMasks = [f for f in segFiles if \"nucleus\" in str(f)]\n",
    "\n",
    "    \n",
    "    if 'Thumbs.db' in nucleusMasks:\n",
    "        nucleusMasks.remove('Thumbs.db')\n",
    "    elif 'Thumbs.db' in cellFiles:\n",
    "        cellFiles.remove('Thumbs.db')\n",
    "\n",
    "    \n",
    "    for j in range(len(hetFiles)):\n",
    "        \n",
    "        myImage = tifffile.imread(f'{currCellFolder}\\\\{cellFiles[j]}')\n",
    "        myChannel = myImage[:, 1, :, :]\n",
    "        myMask = tifffile.imread(f'{currMaskFolder}\\\\{nucleusMasks[j]}')\n",
    "        myMask = myMask.astype(bool)\n",
    "\n",
    "        myHetMask = myChannel[myMask]\n",
    "\n",
    "        myPercentile = np.nanpercentile(myHetMask, 90) \n",
    "\n",
    "\n",
    "        myChannel[myChannel < myPercentile] = 0\n",
    "        myChannel[myChannel >= myPercentile] = 1\n",
    "        myChannel[~myMask]=0\n",
    "        myFile = cellFiles[j].split(\".\")[0]\n",
    "\n",
    "        tifffile.imsave(f'{newSegFolder}\\\\{myFile}.tiff', myChannel)\n",
    "    "
   ]
  },
  {
   "cell_type": "code",
   "execution_count": 35,
   "metadata": {},
   "outputs": [],
   "source": [
    "for i in range(len(foldersToLook)):\n",
    "    currFolder = foldersToLook[i]\n",
    "    currBigDir = f'{bigDir}\\\\{currFolder}'\n",
    "    \n",
    "    folder = f'{currBigDir}\\\\segmentation_10'\n",
    "    \n",
    "    for filename in os.listdir(folder):\n",
    "        filename_changed = filename.split(\".\")[0] \n",
    "        changed = filename_changed + '_hetChrom_10'\n",
    "        \n",
    "        src = f'{folder}\\\\{filename}'\n",
    "        dst = f'{folder}\\\\{changed}.tiff'\n",
    "        os.rename(src, dst)\n",
    "        \n",
    "    "
   ]
  },
  {
   "cell_type": "markdown",
   "metadata": {},
   "source": [
    "## data collection for 10%"
   ]
  },
  {
   "cell_type": "code",
   "execution_count": 4,
   "metadata": {},
   "outputs": [],
   "source": [
    "dataFrame10 = pd.DataFrame(columns = ['File', 'Ch1_HetChrom', 'Ch1_Euchrom', 'Ch1_Total','Ch2_HetChrom', 'Ch2_Euchrom', 'Ch2_Total','Ch3_HetChrom', 'Ch3_Euchrom', 'Ch3_Total','nucleusVolume', 'hetVolume'])"
   ]
  },
  {
   "cell_type": "code",
   "execution_count": 5,
   "metadata": {},
   "outputs": [
    {
     "data": {
      "text/html": [
       "<div>\n",
       "<style scoped>\n",
       "    .dataframe tbody tr th:only-of-type {\n",
       "        vertical-align: middle;\n",
       "    }\n",
       "\n",
       "    .dataframe tbody tr th {\n",
       "        vertical-align: top;\n",
       "    }\n",
       "\n",
       "    .dataframe thead th {\n",
       "        text-align: right;\n",
       "    }\n",
       "</style>\n",
       "<table border=\"1\" class=\"dataframe\">\n",
       "  <thead>\n",
       "    <tr style=\"text-align: right;\">\n",
       "      <th></th>\n",
       "      <th>File</th>\n",
       "      <th>Ch1_HetChrom</th>\n",
       "      <th>Ch1_Euchrom</th>\n",
       "      <th>Ch1_Total</th>\n",
       "      <th>Ch2_HetChrom</th>\n",
       "      <th>Ch2_Euchrom</th>\n",
       "      <th>Ch2_Total</th>\n",
       "      <th>Ch3_HetChrom</th>\n",
       "      <th>Ch3_Euchrom</th>\n",
       "      <th>Ch3_Total</th>\n",
       "      <th>nucleusVolume</th>\n",
       "      <th>hetVolume</th>\n",
       "    </tr>\n",
       "  </thead>\n",
       "  <tbody>\n",
       "  </tbody>\n",
       "</table>\n",
       "</div>"
      ],
      "text/plain": [
       "Empty DataFrame\n",
       "Columns: [File, Ch1_HetChrom, Ch1_Euchrom, Ch1_Total, Ch2_HetChrom, Ch2_Euchrom, Ch2_Total, Ch3_HetChrom, Ch3_Euchrom, Ch3_Total, nucleusVolume, hetVolume]\n",
       "Index: []"
      ]
     },
     "execution_count": 5,
     "metadata": {},
     "output_type": "execute_result"
    }
   ],
   "source": [
    "dataFrame10"
   ]
  },
  {
   "cell_type": "code",
   "execution_count": 12,
   "metadata": {},
   "outputs": [],
   "source": [
    "def setinDF (folderName):\n",
    "    currDir = f'{bigDir}\\\\{folderName}'\n",
    "    currOrgCellFolder = f'{currDir}\\\\data'\n",
    "    currCellFolder = f'{currDir}\\\\data_tiff'\n",
    "    currNucFolder = f'{currDir}\\\\segmentation'\n",
    "    currHetFolder = f'{currDir}\\\\segmentation_10'\n",
    "    \n",
    "    nucFiles = []\n",
    "    cellFiles = []\n",
    "    hetFiles = []\n",
    "    orgFiles = []\n",
    "\n",
    "    for (dirpath, dirnames, filenames) in os.walk(currOrgCellFolder):\n",
    "        orgFiles.extend(filenames)\n",
    "        break\n",
    "    for (dirpath, dirnames, filenames) in os.walk(currNucFolder):\n",
    "        nucFiles.extend(filenames)\n",
    "        break\n",
    "    for (dirpath, dirnames, filenames) in os.walk(currCellFolder):\n",
    "        cellFiles.extend(filenames)\n",
    "        break\n",
    "    for (dirpath, dirnames, filenames) in os.walk(currHetFolder):\n",
    "        hetFiles.extend(filenames)\n",
    "        break\n",
    "        \n",
    "    nucleusMasks = [f for f in nucFiles if \"nucleus\" in str(f)]\n",
    "    \n",
    "    if 'Thumbs.db' in hetFiles:\n",
    "        hetFiles.remove('Thumbs.db')\n",
    "    elif 'Thumbs.db' in cellFiles:\n",
    "        cellFiles.remove('Thumbs.db')\n",
    "    elif 'Thumbs.db' in orgFiles:\n",
    "        orgFiles.remove('Thumbs.db')\n",
    "    \n",
    "    df = pd.DataFrame(columns =  ['File', 'Ch1_HetChrom', 'Ch1_Euchrom', 'Ch1_Total','Ch2_HetChrom', 'Ch2_Euchrom', 'Ch2_Total','Ch3_HetChrom', 'Ch3_Euchrom', 'Ch3_Total','nucleusVolume', 'hetVolume'])\n",
    "    \n",
    "    for i, file in enumerate(orgFiles):\n",
    "        df.loc[i, \"File\"] = file\n",
    "    print(len(orgFiles))\n",
    "    print(len(cellFiles))\n",
    "    print(len(hetFiles))\n",
    "    print(len(nucleusMasks))\n",
    "    for i in range(len(orgFiles)):\n",
    "        channel1 = extractData(currDir, cellFiles[i], hetFiles[i], nucleusMasks[i], 0)\n",
    "        channel2 = extractData(currDir, cellFiles[i], hetFiles[i], nucleusMasks[i], 1)\n",
    "        channel3 = extractData(currDir, cellFiles[i], hetFiles[i], nucleusMasks[i], 2)\n",
    "        \n",
    "        df.loc[i, 'Ch1_Total'] = channel1[0]\n",
    "        df.loc[i, 'Ch1_HetChrom'] = channel1[1]\n",
    "        df.loc[i, 'Ch1_Euchrom'] = channel1[2]\n",
    "        \n",
    "        df.loc[i, 'Ch2_Total'] = channel2[0]\n",
    "        df.loc[i, 'Ch2_HetChrom'] = channel2[1]\n",
    "        df.loc[i, 'Ch2_Euchrom'] = channel2[2]\n",
    "        \n",
    "        df.loc[i, 'Ch3_Total'] = channel3[0]\n",
    "        df.loc[i, 'Ch3_HetChrom'] = channel3[1]\n",
    "        df.loc[i, 'Ch3_Euchrom'] = channel3[2]\n",
    "        \n",
    "        df.loc[i, 'nucleusVolume'] = channel1[3]\n",
    "        df.loc[i, 'hetVolume'] = channel1[4]\n",
    "        \n",
    "    \n",
    "    return df"
   ]
  },
  {
   "cell_type": "code",
   "execution_count": 7,
   "metadata": {},
   "outputs": [],
   "source": [
    "def extractData (currDir, cell, het, nuc, channel):\n",
    "    myImage = tifffile.imread(f'{currDir}\\\\data_tiff\\\\{cell}')\n",
    "\n",
    "    myChannel = myImage[:, channel, :, :]\n",
    "\n",
    "    myNucleusMask = tifffile.imread(f'{currDir}\\\\segmentation\\\\{nuc}')\n",
    "    myNucleusMask = myNucleusMask.astype(bool)\n",
    "\n",
    "    myHeteroMask = tifffile.imread(f'{currDir}\\\\segmentation_10\\\\{het}')\n",
    "    myHeteroMask = myHeteroMask.astype(bool)\n",
    "    \n",
    "    myTotal = np.sum(myChannel[myNucleusMask])\n",
    "    myHet = np.sum(myChannel[myHeteroMask])\n",
    "    \n",
    "    myTotalVolume = np.sum(myChannel[myNucleusMask])\n",
    "    myHetVolume = np.sum(myChannel[myHeteroMask])\n",
    "    \n",
    "    myEuchro = myTotal - myHet\n",
    "\n",
    "    result = []\n",
    "    result.append(myTotal)\n",
    "    result.append(myHet)\n",
    "    result.append(myEuchro)\n",
    "    result.append(myTotalVolume)\n",
    "    result.append(myHetVolume)\n",
    "    \n",
    "    \n",
    "    return result"
   ]
  },
  {
   "cell_type": "code",
   "execution_count": 13,
   "metadata": {},
   "outputs": [
    {
     "name": "stdout",
     "output_type": "stream",
     "text": [
      "20190506-MSL decon rename\n",
      "18\n",
      "18\n",
      "29\n",
      "0\n"
     ]
    },
    {
     "ename": "IndexError",
     "evalue": "list index out of range",
     "output_type": "error",
     "traceback": [
      "\u001b[1;31m---------------------------------------------------------------------------\u001b[0m",
      "\u001b[1;31mIndexError\u001b[0m                                Traceback (most recent call last)",
      "\u001b[1;32m<ipython-input-13-860951d910bb>\u001b[0m in \u001b[0;36m<module>\u001b[1;34m\u001b[0m\n\u001b[0;32m      1\u001b[0m \u001b[1;31m#for i in range(len(foldersToLook)):\u001b[0m\u001b[1;33m\u001b[0m\u001b[1;33m\u001b[0m\u001b[1;33m\u001b[0m\u001b[0m\n\u001b[0;32m      2\u001b[0m \u001b[0mprint\u001b[0m\u001b[1;33m(\u001b[0m\u001b[0mfoldersToLook\u001b[0m\u001b[1;33m[\u001b[0m\u001b[1;36m0\u001b[0m\u001b[1;33m]\u001b[0m\u001b[1;33m)\u001b[0m\u001b[1;33m\u001b[0m\u001b[1;33m\u001b[0m\u001b[0m\n\u001b[1;32m----> 3\u001b[1;33m \u001b[0mdf_set\u001b[0m \u001b[1;33m=\u001b[0m  \u001b[0msetinDF\u001b[0m\u001b[1;33m(\u001b[0m\u001b[0mfoldersToLook\u001b[0m\u001b[1;33m[\u001b[0m\u001b[1;36m0\u001b[0m\u001b[1;33m]\u001b[0m\u001b[1;33m)\u001b[0m\u001b[1;33m\u001b[0m\u001b[1;33m\u001b[0m\u001b[0m\n\u001b[0m\u001b[0;32m      4\u001b[0m \u001b[0mdataFrame10\u001b[0m \u001b[1;33m=\u001b[0m \u001b[0mdataFrame10\u001b[0m\u001b[1;33m.\u001b[0m\u001b[0mmerge\u001b[0m\u001b[1;33m(\u001b[0m\u001b[0mdf_set\u001b[0m\u001b[1;33m,\u001b[0m \u001b[0mhow\u001b[0m \u001b[1;33m=\u001b[0m \u001b[1;34m'outer'\u001b[0m\u001b[1;33m,\u001b[0m \u001b[0mon\u001b[0m \u001b[1;33m=\u001b[0m  \u001b[1;33m[\u001b[0m\u001b[1;34m'File'\u001b[0m\u001b[1;33m,\u001b[0m \u001b[1;34m'Ch1_HetChrom'\u001b[0m\u001b[1;33m,\u001b[0m \u001b[1;34m'Ch1_Euchrom'\u001b[0m\u001b[1;33m,\u001b[0m \u001b[1;34m'Ch1_Total'\u001b[0m\u001b[1;33m,\u001b[0m\u001b[1;34m'Ch2_HetChrom'\u001b[0m\u001b[1;33m,\u001b[0m \u001b[1;34m'Ch2_Euchrom'\u001b[0m\u001b[1;33m,\u001b[0m \u001b[1;34m'Ch2_Total'\u001b[0m\u001b[1;33m,\u001b[0m\u001b[1;34m'Ch3_HetChrom'\u001b[0m\u001b[1;33m,\u001b[0m \u001b[1;34m'Ch3_Euchrom'\u001b[0m\u001b[1;33m,\u001b[0m \u001b[1;34m'Ch3_Total'\u001b[0m\u001b[1;33m,\u001b[0m\u001b[1;34m'nucleusVolume'\u001b[0m\u001b[1;33m,\u001b[0m \u001b[1;34m'hetVolume'\u001b[0m\u001b[1;33m]\u001b[0m\u001b[1;33m)\u001b[0m\u001b[1;33m\u001b[0m\u001b[1;33m\u001b[0m\u001b[0m\n",
      "\u001b[1;32m<ipython-input-12-28b2d74ed527>\u001b[0m in \u001b[0;36msetinDF\u001b[1;34m(folderName)\u001b[0m\n\u001b[0;32m     42\u001b[0m     \u001b[0mprint\u001b[0m\u001b[1;33m(\u001b[0m\u001b[0mlen\u001b[0m\u001b[1;33m(\u001b[0m\u001b[0mnucleusMasks\u001b[0m\u001b[1;33m)\u001b[0m\u001b[1;33m)\u001b[0m\u001b[1;33m\u001b[0m\u001b[1;33m\u001b[0m\u001b[0m\n\u001b[0;32m     43\u001b[0m     \u001b[1;32mfor\u001b[0m \u001b[0mi\u001b[0m \u001b[1;32min\u001b[0m \u001b[0mrange\u001b[0m\u001b[1;33m(\u001b[0m\u001b[0mlen\u001b[0m\u001b[1;33m(\u001b[0m\u001b[0morgFiles\u001b[0m\u001b[1;33m)\u001b[0m\u001b[1;33m)\u001b[0m\u001b[1;33m:\u001b[0m\u001b[1;33m\u001b[0m\u001b[1;33m\u001b[0m\u001b[0m\n\u001b[1;32m---> 44\u001b[1;33m         \u001b[0mchannel1\u001b[0m \u001b[1;33m=\u001b[0m \u001b[0mextractData\u001b[0m\u001b[1;33m(\u001b[0m\u001b[0mcurrDir\u001b[0m\u001b[1;33m,\u001b[0m \u001b[0mcellFiles\u001b[0m\u001b[1;33m[\u001b[0m\u001b[0mi\u001b[0m\u001b[1;33m]\u001b[0m\u001b[1;33m,\u001b[0m \u001b[0mhetFiles\u001b[0m\u001b[1;33m[\u001b[0m\u001b[0mi\u001b[0m\u001b[1;33m]\u001b[0m\u001b[1;33m,\u001b[0m \u001b[0mnucleusMasks\u001b[0m\u001b[1;33m[\u001b[0m\u001b[0mi\u001b[0m\u001b[1;33m]\u001b[0m\u001b[1;33m,\u001b[0m \u001b[1;36m0\u001b[0m\u001b[1;33m)\u001b[0m\u001b[1;33m\u001b[0m\u001b[1;33m\u001b[0m\u001b[0m\n\u001b[0m\u001b[0;32m     45\u001b[0m         \u001b[0mchannel2\u001b[0m \u001b[1;33m=\u001b[0m \u001b[0mextractData\u001b[0m\u001b[1;33m(\u001b[0m\u001b[0mcurrDir\u001b[0m\u001b[1;33m,\u001b[0m \u001b[0mcellFiles\u001b[0m\u001b[1;33m[\u001b[0m\u001b[0mi\u001b[0m\u001b[1;33m]\u001b[0m\u001b[1;33m,\u001b[0m \u001b[0mhetFiles\u001b[0m\u001b[1;33m[\u001b[0m\u001b[0mi\u001b[0m\u001b[1;33m]\u001b[0m\u001b[1;33m,\u001b[0m \u001b[0mnucleusMasks\u001b[0m\u001b[1;33m[\u001b[0m\u001b[0mi\u001b[0m\u001b[1;33m]\u001b[0m\u001b[1;33m,\u001b[0m \u001b[1;36m1\u001b[0m\u001b[1;33m)\u001b[0m\u001b[1;33m\u001b[0m\u001b[1;33m\u001b[0m\u001b[0m\n\u001b[0;32m     46\u001b[0m         \u001b[0mchannel3\u001b[0m \u001b[1;33m=\u001b[0m \u001b[0mextractData\u001b[0m\u001b[1;33m(\u001b[0m\u001b[0mcurrDir\u001b[0m\u001b[1;33m,\u001b[0m \u001b[0mcellFiles\u001b[0m\u001b[1;33m[\u001b[0m\u001b[0mi\u001b[0m\u001b[1;33m]\u001b[0m\u001b[1;33m,\u001b[0m \u001b[0mhetFiles\u001b[0m\u001b[1;33m[\u001b[0m\u001b[0mi\u001b[0m\u001b[1;33m]\u001b[0m\u001b[1;33m,\u001b[0m \u001b[0mnucleusMasks\u001b[0m\u001b[1;33m[\u001b[0m\u001b[0mi\u001b[0m\u001b[1;33m]\u001b[0m\u001b[1;33m,\u001b[0m \u001b[1;36m2\u001b[0m\u001b[1;33m)\u001b[0m\u001b[1;33m\u001b[0m\u001b[1;33m\u001b[0m\u001b[0m\n",
      "\u001b[1;31mIndexError\u001b[0m: list index out of range"
     ]
    }
   ],
   "source": [
    "#for i in range(len(foldersToLook)):\n",
    "print(foldersToLook[0])\n",
    "df_set =  setinDF(foldersToLook[0])\n",
    "dataFrame10 = dataFrame10.merge(df_set, how = 'outer', on =  ['File', 'Ch1_HetChrom', 'Ch1_Euchrom', 'Ch1_Total','Ch2_HetChrom', 'Ch2_Euchrom', 'Ch2_Total','Ch3_HetChrom', 'Ch3_Euchrom', 'Ch3_Total','nucleusVolume', 'hetVolume'])"
   ]
  },
  {
   "cell_type": "code",
   "execution_count": null,
   "metadata": {},
   "outputs": [],
   "source": [
    "dataFrame10"
   ]
  },
  {
   "cell_type": "code",
   "execution_count": null,
   "metadata": {},
   "outputs": [],
   "source": []
  }
 ],
 "metadata": {
  "kernelspec": {
   "display_name": "Python 3",
   "language": "python",
   "name": "python3"
  },
  "language_info": {
   "codemirror_mode": {
    "name": "ipython",
    "version": 3
   },
   "file_extension": ".py",
   "mimetype": "text/x-python",
   "name": "python",
   "nbconvert_exporter": "python",
   "pygments_lexer": "ipython3",
   "version": "3.7.3"
  }
 },
 "nbformat": 4,
 "nbformat_minor": 2
}
